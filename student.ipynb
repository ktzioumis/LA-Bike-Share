{
 "cells": [
  {
   "cell_type": "markdown",
   "metadata": {},
   "source": [
    "## Final Project Submission\n",
    "\n",
    "Please fill out:\n",
    "* Student name: Kosta Tzioumis\n",
    "* Student pace: part time \n",
    "* Scheduled project review date/time: \n",
    "* Instructor name: Eli\n",
    "* Blog post URL:\n"
   ]
  },
  {
   "cell_type": "markdown",
   "metadata": {},
   "source": [
    "## Data Set obtained from:\n",
    "https://www.kaggle.com/cityofLA/los-angeles-metro-bike-share-trip-data"
   ]
  },
  {
   "cell_type": "code",
   "execution_count": 2,
   "metadata": {},
   "outputs": [],
   "source": [
    "import pandas as pd\n",
    "import numpy as np\n",
    "import matplotlib.pyplot as plt\n",
    "%matplotlib inline"
   ]
  },
  {
   "cell_type": "code",
   "execution_count": 3,
   "metadata": {
    "scrolled": true
   },
   "outputs": [
    {
     "data": {
      "text/html": [
       "<div>\n",
       "<style scoped>\n",
       "    .dataframe tbody tr th:only-of-type {\n",
       "        vertical-align: middle;\n",
       "    }\n",
       "\n",
       "    .dataframe tbody tr th {\n",
       "        vertical-align: top;\n",
       "    }\n",
       "\n",
       "    .dataframe thead th {\n",
       "        text-align: right;\n",
       "    }\n",
       "</style>\n",
       "<table border=\"1\" class=\"dataframe\">\n",
       "  <thead>\n",
       "    <tr style=\"text-align: right;\">\n",
       "      <th></th>\n",
       "      <th>Trip ID</th>\n",
       "      <th>Duration</th>\n",
       "      <th>Start Time</th>\n",
       "      <th>End Time</th>\n",
       "      <th>Starting Station ID</th>\n",
       "      <th>Starting Station Latitude</th>\n",
       "      <th>Starting Station Longitude</th>\n",
       "      <th>Ending Station ID</th>\n",
       "      <th>Ending Station Latitude</th>\n",
       "      <th>Ending Station Longitude</th>\n",
       "      <th>...</th>\n",
       "      <th>Trip Route Category</th>\n",
       "      <th>Passholder Type</th>\n",
       "      <th>Starting Lat-Long</th>\n",
       "      <th>Ending Lat-Long</th>\n",
       "      <th>Neighborhood Councils (Certified)</th>\n",
       "      <th>Council Districts</th>\n",
       "      <th>Zip Codes</th>\n",
       "      <th>LA Specific Plans</th>\n",
       "      <th>Precinct Boundaries</th>\n",
       "      <th>Census Tracts</th>\n",
       "    </tr>\n",
       "  </thead>\n",
       "  <tbody>\n",
       "    <tr>\n",
       "      <th>0</th>\n",
       "      <td>18222186</td>\n",
       "      <td>15060</td>\n",
       "      <td>2017-01-19T17:05:00.000</td>\n",
       "      <td>2017-01-19T21:16:00.000</td>\n",
       "      <td>3031.0</td>\n",
       "      <td>34.044701</td>\n",
       "      <td>-118.252441</td>\n",
       "      <td>3000.0</td>\n",
       "      <td>NaN</td>\n",
       "      <td>NaN</td>\n",
       "      <td>...</td>\n",
       "      <td>One Way</td>\n",
       "      <td>Walk-up</td>\n",
       "      <td>NaN</td>\n",
       "      <td>NaN</td>\n",
       "      <td>NaN</td>\n",
       "      <td>NaN</td>\n",
       "      <td>NaN</td>\n",
       "      <td>NaN</td>\n",
       "      <td>NaN</td>\n",
       "      <td>NaN</td>\n",
       "    </tr>\n",
       "    <tr>\n",
       "      <th>1</th>\n",
       "      <td>9518671</td>\n",
       "      <td>77160</td>\n",
       "      <td>2016-10-09T14:37:00.000</td>\n",
       "      <td>2016-10-10T12:03:00.000</td>\n",
       "      <td>NaN</td>\n",
       "      <td>NaN</td>\n",
       "      <td>NaN</td>\n",
       "      <td>3000.0</td>\n",
       "      <td>NaN</td>\n",
       "      <td>NaN</td>\n",
       "      <td>...</td>\n",
       "      <td>One Way</td>\n",
       "      <td>Monthly Pass</td>\n",
       "      <td>NaN</td>\n",
       "      <td>NaN</td>\n",
       "      <td>NaN</td>\n",
       "      <td>NaN</td>\n",
       "      <td>NaN</td>\n",
       "      <td>NaN</td>\n",
       "      <td>NaN</td>\n",
       "      <td>NaN</td>\n",
       "    </tr>\n",
       "    <tr>\n",
       "      <th>2</th>\n",
       "      <td>20444932</td>\n",
       "      <td>86400</td>\n",
       "      <td>2017-02-18T10:15:00.000</td>\n",
       "      <td>2017-02-20T15:20:00.000</td>\n",
       "      <td>3026.0</td>\n",
       "      <td>34.063179</td>\n",
       "      <td>-118.245880</td>\n",
       "      <td>3000.0</td>\n",
       "      <td>NaN</td>\n",
       "      <td>NaN</td>\n",
       "      <td>...</td>\n",
       "      <td>One Way</td>\n",
       "      <td>Walk-up</td>\n",
       "      <td>NaN</td>\n",
       "      <td>NaN</td>\n",
       "      <td>NaN</td>\n",
       "      <td>NaN</td>\n",
       "      <td>NaN</td>\n",
       "      <td>NaN</td>\n",
       "      <td>NaN</td>\n",
       "      <td>NaN</td>\n",
       "    </tr>\n",
       "    <tr>\n",
       "      <th>3</th>\n",
       "      <td>20905031</td>\n",
       "      <td>18840</td>\n",
       "      <td>2017-02-27T12:26:00.000</td>\n",
       "      <td>2017-02-27T17:40:00.000</td>\n",
       "      <td>3023.0</td>\n",
       "      <td>34.050911</td>\n",
       "      <td>-118.240967</td>\n",
       "      <td>3000.0</td>\n",
       "      <td>NaN</td>\n",
       "      <td>NaN</td>\n",
       "      <td>...</td>\n",
       "      <td>One Way</td>\n",
       "      <td>Walk-up</td>\n",
       "      <td>NaN</td>\n",
       "      <td>NaN</td>\n",
       "      <td>NaN</td>\n",
       "      <td>NaN</td>\n",
       "      <td>NaN</td>\n",
       "      <td>NaN</td>\n",
       "      <td>NaN</td>\n",
       "      <td>NaN</td>\n",
       "    </tr>\n",
       "    <tr>\n",
       "      <th>4</th>\n",
       "      <td>21031476</td>\n",
       "      <td>86400</td>\n",
       "      <td>2017-02-27T20:26:00.000</td>\n",
       "      <td>2017-03-01T09:49:00.000</td>\n",
       "      <td>3008.0</td>\n",
       "      <td>34.046612</td>\n",
       "      <td>-118.262733</td>\n",
       "      <td>3000.0</td>\n",
       "      <td>NaN</td>\n",
       "      <td>NaN</td>\n",
       "      <td>...</td>\n",
       "      <td>One Way</td>\n",
       "      <td>Flex Pass</td>\n",
       "      <td>NaN</td>\n",
       "      <td>NaN</td>\n",
       "      <td>NaN</td>\n",
       "      <td>NaN</td>\n",
       "      <td>NaN</td>\n",
       "      <td>NaN</td>\n",
       "      <td>NaN</td>\n",
       "      <td>NaN</td>\n",
       "    </tr>\n",
       "    <tr>\n",
       "      <th>5</th>\n",
       "      <td>9378284</td>\n",
       "      <td>60</td>\n",
       "      <td>2016-10-09T09:40:00.000</td>\n",
       "      <td>2016-10-09T09:41:00.000</td>\n",
       "      <td>NaN</td>\n",
       "      <td>NaN</td>\n",
       "      <td>NaN</td>\n",
       "      <td>NaN</td>\n",
       "      <td>NaN</td>\n",
       "      <td>NaN</td>\n",
       "      <td>...</td>\n",
       "      <td>One Way</td>\n",
       "      <td>Staff Annual</td>\n",
       "      <td>NaN</td>\n",
       "      <td>NaN</td>\n",
       "      <td>NaN</td>\n",
       "      <td>NaN</td>\n",
       "      <td>NaN</td>\n",
       "      <td>NaN</td>\n",
       "      <td>NaN</td>\n",
       "      <td>NaN</td>\n",
       "    </tr>\n",
       "    <tr>\n",
       "      <th>6</th>\n",
       "      <td>21784648</td>\n",
       "      <td>14760</td>\n",
       "      <td>2017-03-10T17:38:00.000</td>\n",
       "      <td>2017-03-10T21:44:00.000</td>\n",
       "      <td>3065.0</td>\n",
       "      <td>34.060558</td>\n",
       "      <td>-118.238327</td>\n",
       "      <td>3000.0</td>\n",
       "      <td>NaN</td>\n",
       "      <td>NaN</td>\n",
       "      <td>...</td>\n",
       "      <td>One Way</td>\n",
       "      <td>Walk-up</td>\n",
       "      <td>NaN</td>\n",
       "      <td>NaN</td>\n",
       "      <td>NaN</td>\n",
       "      <td>NaN</td>\n",
       "      <td>NaN</td>\n",
       "      <td>NaN</td>\n",
       "      <td>NaN</td>\n",
       "      <td>NaN</td>\n",
       "    </tr>\n",
       "    <tr>\n",
       "      <th>7</th>\n",
       "      <td>22506739</td>\n",
       "      <td>79020</td>\n",
       "      <td>2017-03-17T19:20:00.000</td>\n",
       "      <td>2017-03-18T17:17:00.000</td>\n",
       "      <td>3063.0</td>\n",
       "      <td>34.049198</td>\n",
       "      <td>-118.252831</td>\n",
       "      <td>3000.0</td>\n",
       "      <td>NaN</td>\n",
       "      <td>NaN</td>\n",
       "      <td>...</td>\n",
       "      <td>One Way</td>\n",
       "      <td>Walk-up</td>\n",
       "      <td>NaN</td>\n",
       "      <td>NaN</td>\n",
       "      <td>NaN</td>\n",
       "      <td>NaN</td>\n",
       "      <td>NaN</td>\n",
       "      <td>NaN</td>\n",
       "      <td>NaN</td>\n",
       "      <td>NaN</td>\n",
       "    </tr>\n",
       "    <tr>\n",
       "      <th>8</th>\n",
       "      <td>20889067</td>\n",
       "      <td>86400</td>\n",
       "      <td>2017-02-26T12:18:00.000</td>\n",
       "      <td>2017-02-27T12:36:00.000</td>\n",
       "      <td>3062.0</td>\n",
       "      <td>34.047749</td>\n",
       "      <td>-118.243172</td>\n",
       "      <td>3000.0</td>\n",
       "      <td>NaN</td>\n",
       "      <td>NaN</td>\n",
       "      <td>...</td>\n",
       "      <td>One Way</td>\n",
       "      <td>Walk-up</td>\n",
       "      <td>NaN</td>\n",
       "      <td>NaN</td>\n",
       "      <td>NaN</td>\n",
       "      <td>NaN</td>\n",
       "      <td>NaN</td>\n",
       "      <td>NaN</td>\n",
       "      <td>NaN</td>\n",
       "      <td>NaN</td>\n",
       "    </tr>\n",
       "    <tr>\n",
       "      <th>9</th>\n",
       "      <td>18481915</td>\n",
       "      <td>600</td>\n",
       "      <td>2017-01-23T18:48:00.000</td>\n",
       "      <td>2017-01-23T18:58:00.000</td>\n",
       "      <td>3082.0</td>\n",
       "      <td>34.046520</td>\n",
       "      <td>-118.237411</td>\n",
       "      <td>3000.0</td>\n",
       "      <td>NaN</td>\n",
       "      <td>NaN</td>\n",
       "      <td>...</td>\n",
       "      <td>One Way</td>\n",
       "      <td>Monthly Pass</td>\n",
       "      <td>NaN</td>\n",
       "      <td>NaN</td>\n",
       "      <td>NaN</td>\n",
       "      <td>NaN</td>\n",
       "      <td>NaN</td>\n",
       "      <td>NaN</td>\n",
       "      <td>NaN</td>\n",
       "      <td>NaN</td>\n",
       "    </tr>\n",
       "  </tbody>\n",
       "</table>\n",
       "<p>10 rows × 22 columns</p>\n",
       "</div>"
      ],
      "text/plain": [
       "    Trip ID  Duration               Start Time                 End Time  \\\n",
       "0  18222186     15060  2017-01-19T17:05:00.000  2017-01-19T21:16:00.000   \n",
       "1   9518671     77160  2016-10-09T14:37:00.000  2016-10-10T12:03:00.000   \n",
       "2  20444932     86400  2017-02-18T10:15:00.000  2017-02-20T15:20:00.000   \n",
       "3  20905031     18840  2017-02-27T12:26:00.000  2017-02-27T17:40:00.000   \n",
       "4  21031476     86400  2017-02-27T20:26:00.000  2017-03-01T09:49:00.000   \n",
       "5   9378284        60  2016-10-09T09:40:00.000  2016-10-09T09:41:00.000   \n",
       "6  21784648     14760  2017-03-10T17:38:00.000  2017-03-10T21:44:00.000   \n",
       "7  22506739     79020  2017-03-17T19:20:00.000  2017-03-18T17:17:00.000   \n",
       "8  20889067     86400  2017-02-26T12:18:00.000  2017-02-27T12:36:00.000   \n",
       "9  18481915       600  2017-01-23T18:48:00.000  2017-01-23T18:58:00.000   \n",
       "\n",
       "   Starting Station ID  Starting Station Latitude  Starting Station Longitude  \\\n",
       "0               3031.0                  34.044701                 -118.252441   \n",
       "1                  NaN                        NaN                         NaN   \n",
       "2               3026.0                  34.063179                 -118.245880   \n",
       "3               3023.0                  34.050911                 -118.240967   \n",
       "4               3008.0                  34.046612                 -118.262733   \n",
       "5                  NaN                        NaN                         NaN   \n",
       "6               3065.0                  34.060558                 -118.238327   \n",
       "7               3063.0                  34.049198                 -118.252831   \n",
       "8               3062.0                  34.047749                 -118.243172   \n",
       "9               3082.0                  34.046520                 -118.237411   \n",
       "\n",
       "   Ending Station ID  Ending Station Latitude  Ending Station Longitude  \\\n",
       "0             3000.0                      NaN                       NaN   \n",
       "1             3000.0                      NaN                       NaN   \n",
       "2             3000.0                      NaN                       NaN   \n",
       "3             3000.0                      NaN                       NaN   \n",
       "4             3000.0                      NaN                       NaN   \n",
       "5                NaN                      NaN                       NaN   \n",
       "6             3000.0                      NaN                       NaN   \n",
       "7             3000.0                      NaN                       NaN   \n",
       "8             3000.0                      NaN                       NaN   \n",
       "9             3000.0                      NaN                       NaN   \n",
       "\n",
       "       ...        Trip Route Category  Passholder Type Starting Lat-Long  \\\n",
       "0      ...                    One Way          Walk-up               NaN   \n",
       "1      ...                    One Way     Monthly Pass               NaN   \n",
       "2      ...                    One Way          Walk-up               NaN   \n",
       "3      ...                    One Way          Walk-up               NaN   \n",
       "4      ...                    One Way        Flex Pass               NaN   \n",
       "5      ...                    One Way     Staff Annual               NaN   \n",
       "6      ...                    One Way          Walk-up               NaN   \n",
       "7      ...                    One Way          Walk-up               NaN   \n",
       "8      ...                    One Way          Walk-up               NaN   \n",
       "9      ...                    One Way     Monthly Pass               NaN   \n",
       "\n",
       "  Ending Lat-Long Neighborhood Councils (Certified) Council Districts  \\\n",
       "0             NaN                               NaN               NaN   \n",
       "1             NaN                               NaN               NaN   \n",
       "2             NaN                               NaN               NaN   \n",
       "3             NaN                               NaN               NaN   \n",
       "4             NaN                               NaN               NaN   \n",
       "5             NaN                               NaN               NaN   \n",
       "6             NaN                               NaN               NaN   \n",
       "7             NaN                               NaN               NaN   \n",
       "8             NaN                               NaN               NaN   \n",
       "9             NaN                               NaN               NaN   \n",
       "\n",
       "   Zip Codes  LA Specific Plans  Precinct Boundaries  Census Tracts  \n",
       "0        NaN                NaN                  NaN            NaN  \n",
       "1        NaN                NaN                  NaN            NaN  \n",
       "2        NaN                NaN                  NaN            NaN  \n",
       "3        NaN                NaN                  NaN            NaN  \n",
       "4        NaN                NaN                  NaN            NaN  \n",
       "5        NaN                NaN                  NaN            NaN  \n",
       "6        NaN                NaN                  NaN            NaN  \n",
       "7        NaN                NaN                  NaN            NaN  \n",
       "8        NaN                NaN                  NaN            NaN  \n",
       "9        NaN                NaN                  NaN            NaN  \n",
       "\n",
       "[10 rows x 22 columns]"
      ]
     },
     "execution_count": 3,
     "metadata": {},
     "output_type": "execute_result"
    }
   ],
   "source": [
    "df=pd.read_csv('metro-bike-share-trip-data.csv')\n",
    "df.head(10)"
   ]
  },
  {
   "cell_type": "code",
   "execution_count": 4,
   "metadata": {
    "scrolled": true
   },
   "outputs": [
    {
     "data": {
      "text/plain": [
       "(132427, 22)"
      ]
     },
     "execution_count": 4,
     "metadata": {},
     "output_type": "execute_result"
    }
   ],
   "source": [
    "df.shape"
   ]
  },
  {
   "cell_type": "markdown",
   "metadata": {},
   "source": [
    "Feature descriptions from https://bikeshare.metro.net/about/data/\n",
    "\n",
    "<b>trip_id:</b> Locally unique integer that identifies the trip\n",
    "\n",
    "<b>duration:</b> Length of trip in <i> minutes*</i>\n",
    "\n",
    "<b>start_time:</b> The date/time when the trip began, presented in ISO 8601 format in local time\n",
    "\n",
    "<b>end_time: </b>The date/time when the trip ended, presented in ISO 8601 format in local time\n",
    "\n",
    "<b>start_station:</b> The station ID where the trip originated \n",
    "\n",
    "<b>start_lat:</b> The latitude of the station where the trip originated\n",
    "\n",
    "<b>start_lon: </b>The longitude of the station where the trip originated\n",
    "\n",
    "<b>end_station: </b>The station ID where the trip terminated \n",
    "\n",
    "<b>end_lat: </b>The latitude of the station where the trip terminated\n",
    "\n",
    "<b>end_lon: </b>The longitude of the station where the trip terminated\n",
    "\n",
    "<b>bike_id: </b> Locally unique integer that identifies the bike\n",
    "    \n",
    "<b>plan_duration: </b>The number of days that the plan the passholder is using entitles them to ride; 0 is used for a single ride plan (Walk-up)\n",
    "\n",
    "<b>trip_route_category:</b> \"Round Trip\" for trips starting and ending at the same station or \"One Way\" for all other trips\n",
    "\n",
    "<b>passholder_type: </b>The name of the passholder's plan\n",
    "\n",
    "*units are actually in but each instance is a multiple of 60 i.e. a whole minute number. We will convert this to minutes\n",
    "\n",
    "Other features are not officially described by Metro Bike Share\n",
    "\n",
    "Starting Lat-Long and Ending Lat-Long appear to be repetitions of previous station data and can be dropped safely\n",
    "\n",
    "Remaining features appear to be LA geographic information not relevant to this study, many of which include large amounts of missing data. These will  also be dropped."
   ]
  },
  {
   "cell_type": "code",
   "execution_count": 5,
   "metadata": {
    "scrolled": false
   },
   "outputs": [
    {
     "name": "stdout",
     "output_type": "stream",
     "text": [
      "<class 'pandas.core.frame.DataFrame'>\n",
      "RangeIndex: 132427 entries, 0 to 132426\n",
      "Data columns (total 22 columns):\n",
      "Trip ID                              132427 non-null int64\n",
      "Duration                             132427 non-null int64\n",
      "Start Time                           132427 non-null object\n",
      "End Time                             132427 non-null object\n",
      "Starting Station ID                  132408 non-null float64\n",
      "Starting Station Latitude            132379 non-null float64\n",
      "Starting Station Longitude           132379 non-null float64\n",
      "Ending Station ID                    132331 non-null float64\n",
      "Ending Station Latitude              131376 non-null float64\n",
      "Ending Station Longitude             131376 non-null float64\n",
      "Bike ID                              132417 non-null float64\n",
      "Plan Duration                        131661 non-null float64\n",
      "Trip Route Category                  132427 non-null object\n",
      "Passholder Type                      132427 non-null object\n",
      "Starting Lat-Long                    98622 non-null object\n",
      "Ending Lat-Long                      131376 non-null object\n",
      "Neighborhood Councils (Certified)    98590 non-null float64\n",
      "Council Districts                    98590 non-null float64\n",
      "Zip Codes                            98590 non-null float64\n",
      "LA Specific Plans                    15837 non-null float64\n",
      "Precinct Boundaries                  131328 non-null float64\n",
      "Census Tracts                        131328 non-null float64\n",
      "dtypes: float64(14), int64(2), object(6)\n",
      "memory usage: 22.2+ MB\n"
     ]
    }
   ],
   "source": [
    "df.info()"
   ]
  },
  {
   "cell_type": "code",
   "execution_count": 6,
   "metadata": {
    "scrolled": true
   },
   "outputs": [
    {
     "data": {
      "text/plain": [
       "Trip ID                                   0\n",
       "Duration                                  0\n",
       "Start Time                                0\n",
       "End Time                                  0\n",
       "Starting Station ID                      19\n",
       "Starting Station Latitude                48\n",
       "Starting Station Longitude               48\n",
       "Ending Station ID                        96\n",
       "Ending Station Latitude                1051\n",
       "Ending Station Longitude               1051\n",
       "Bike ID                                  10\n",
       "Plan Duration                           766\n",
       "Trip Route Category                       0\n",
       "Passholder Type                           0\n",
       "Starting Lat-Long                     33805\n",
       "Ending Lat-Long                        1051\n",
       "Neighborhood Councils (Certified)     33837\n",
       "Council Districts                     33837\n",
       "Zip Codes                             33837\n",
       "LA Specific Plans                    116590\n",
       "Precinct Boundaries                    1099\n",
       "Census Tracts                          1099\n",
       "dtype: int64"
      ]
     },
     "execution_count": 6,
     "metadata": {},
     "output_type": "execute_result"
    }
   ],
   "source": [
    "df.isna().sum()"
   ]
  },
  {
   "cell_type": "code",
   "execution_count": 7,
   "metadata": {},
   "outputs": [],
   "source": [
    "df.drop(columns=['Starting Lat-Long',\n",
    "                 'Ending Lat-Long',\n",
    "                 'Neighborhood Councils (Certified)',\n",
    "                 'Council Districts',\n",
    "                 'Zip Codes',\n",
    "                 'LA Specific Plans',\n",
    "                 'Precinct Boundaries',\n",
    "                 'Census Tracts'],\n",
    "       inplace=True)\n",
    "df.Duration=df.Duration/60"
   ]
  },
  {
   "cell_type": "code",
   "execution_count": 8,
   "metadata": {},
   "outputs": [
    {
     "data": {
      "text/html": [
       "<div>\n",
       "<style scoped>\n",
       "    .dataframe tbody tr th:only-of-type {\n",
       "        vertical-align: middle;\n",
       "    }\n",
       "\n",
       "    .dataframe tbody tr th {\n",
       "        vertical-align: top;\n",
       "    }\n",
       "\n",
       "    .dataframe thead th {\n",
       "        text-align: right;\n",
       "    }\n",
       "</style>\n",
       "<table border=\"1\" class=\"dataframe\">\n",
       "  <thead>\n",
       "    <tr style=\"text-align: right;\">\n",
       "      <th></th>\n",
       "      <th>Trip ID</th>\n",
       "      <th>Duration</th>\n",
       "      <th>Start Time</th>\n",
       "      <th>End Time</th>\n",
       "      <th>Starting Station ID</th>\n",
       "      <th>Starting Station Latitude</th>\n",
       "      <th>Starting Station Longitude</th>\n",
       "      <th>Ending Station ID</th>\n",
       "      <th>Ending Station Latitude</th>\n",
       "      <th>Ending Station Longitude</th>\n",
       "      <th>Bike ID</th>\n",
       "      <th>Plan Duration</th>\n",
       "      <th>Trip Route Category</th>\n",
       "      <th>Passholder Type</th>\n",
       "    </tr>\n",
       "  </thead>\n",
       "  <tbody>\n",
       "    <tr>\n",
       "      <th>0</th>\n",
       "      <td>18222186</td>\n",
       "      <td>251.0</td>\n",
       "      <td>2017-01-19T17:05:00.000</td>\n",
       "      <td>2017-01-19T21:16:00.000</td>\n",
       "      <td>3031.0</td>\n",
       "      <td>34.044701</td>\n",
       "      <td>-118.252441</td>\n",
       "      <td>3000.0</td>\n",
       "      <td>NaN</td>\n",
       "      <td>NaN</td>\n",
       "      <td>5944.0</td>\n",
       "      <td>0.0</td>\n",
       "      <td>One Way</td>\n",
       "      <td>Walk-up</td>\n",
       "    </tr>\n",
       "    <tr>\n",
       "      <th>1</th>\n",
       "      <td>9518671</td>\n",
       "      <td>1286.0</td>\n",
       "      <td>2016-10-09T14:37:00.000</td>\n",
       "      <td>2016-10-10T12:03:00.000</td>\n",
       "      <td>NaN</td>\n",
       "      <td>NaN</td>\n",
       "      <td>NaN</td>\n",
       "      <td>3000.0</td>\n",
       "      <td>NaN</td>\n",
       "      <td>NaN</td>\n",
       "      <td>6603.0</td>\n",
       "      <td>30.0</td>\n",
       "      <td>One Way</td>\n",
       "      <td>Monthly Pass</td>\n",
       "    </tr>\n",
       "    <tr>\n",
       "      <th>2</th>\n",
       "      <td>20444932</td>\n",
       "      <td>1440.0</td>\n",
       "      <td>2017-02-18T10:15:00.000</td>\n",
       "      <td>2017-02-20T15:20:00.000</td>\n",
       "      <td>3026.0</td>\n",
       "      <td>34.063179</td>\n",
       "      <td>-118.245880</td>\n",
       "      <td>3000.0</td>\n",
       "      <td>NaN</td>\n",
       "      <td>NaN</td>\n",
       "      <td>5879.0</td>\n",
       "      <td>0.0</td>\n",
       "      <td>One Way</td>\n",
       "      <td>Walk-up</td>\n",
       "    </tr>\n",
       "    <tr>\n",
       "      <th>3</th>\n",
       "      <td>20905031</td>\n",
       "      <td>314.0</td>\n",
       "      <td>2017-02-27T12:26:00.000</td>\n",
       "      <td>2017-02-27T17:40:00.000</td>\n",
       "      <td>3023.0</td>\n",
       "      <td>34.050911</td>\n",
       "      <td>-118.240967</td>\n",
       "      <td>3000.0</td>\n",
       "      <td>NaN</td>\n",
       "      <td>NaN</td>\n",
       "      <td>6056.0</td>\n",
       "      <td>0.0</td>\n",
       "      <td>One Way</td>\n",
       "      <td>Walk-up</td>\n",
       "    </tr>\n",
       "    <tr>\n",
       "      <th>4</th>\n",
       "      <td>21031476</td>\n",
       "      <td>1440.0</td>\n",
       "      <td>2017-02-27T20:26:00.000</td>\n",
       "      <td>2017-03-01T09:49:00.000</td>\n",
       "      <td>3008.0</td>\n",
       "      <td>34.046612</td>\n",
       "      <td>-118.262733</td>\n",
       "      <td>3000.0</td>\n",
       "      <td>NaN</td>\n",
       "      <td>NaN</td>\n",
       "      <td>6054.0</td>\n",
       "      <td>365.0</td>\n",
       "      <td>One Way</td>\n",
       "      <td>Flex Pass</td>\n",
       "    </tr>\n",
       "  </tbody>\n",
       "</table>\n",
       "</div>"
      ],
      "text/plain": [
       "    Trip ID  Duration               Start Time                 End Time  \\\n",
       "0  18222186     251.0  2017-01-19T17:05:00.000  2017-01-19T21:16:00.000   \n",
       "1   9518671    1286.0  2016-10-09T14:37:00.000  2016-10-10T12:03:00.000   \n",
       "2  20444932    1440.0  2017-02-18T10:15:00.000  2017-02-20T15:20:00.000   \n",
       "3  20905031     314.0  2017-02-27T12:26:00.000  2017-02-27T17:40:00.000   \n",
       "4  21031476    1440.0  2017-02-27T20:26:00.000  2017-03-01T09:49:00.000   \n",
       "\n",
       "   Starting Station ID  Starting Station Latitude  Starting Station Longitude  \\\n",
       "0               3031.0                  34.044701                 -118.252441   \n",
       "1                  NaN                        NaN                         NaN   \n",
       "2               3026.0                  34.063179                 -118.245880   \n",
       "3               3023.0                  34.050911                 -118.240967   \n",
       "4               3008.0                  34.046612                 -118.262733   \n",
       "\n",
       "   Ending Station ID  Ending Station Latitude  Ending Station Longitude  \\\n",
       "0             3000.0                      NaN                       NaN   \n",
       "1             3000.0                      NaN                       NaN   \n",
       "2             3000.0                      NaN                       NaN   \n",
       "3             3000.0                      NaN                       NaN   \n",
       "4             3000.0                      NaN                       NaN   \n",
       "\n",
       "   Bike ID  Plan Duration Trip Route Category Passholder Type  \n",
       "0   5944.0            0.0             One Way         Walk-up  \n",
       "1   6603.0           30.0             One Way    Monthly Pass  \n",
       "2   5879.0            0.0             One Way         Walk-up  \n",
       "3   6056.0            0.0             One Way         Walk-up  \n",
       "4   6054.0          365.0             One Way       Flex Pass  "
      ]
     },
     "execution_count": 8,
     "metadata": {},
     "output_type": "execute_result"
    }
   ],
   "source": [
    "df.head()"
   ]
  },
  {
   "cell_type": "markdown",
   "metadata": {},
   "source": [
    "Trip ID can be used is a unique identifier and can be used as an index for this data.\n",
    "\n",
    "Remaining features had little missing data the largest source being just 1051 missing cells from over 132,000. Rows with missing data can be safely dropped from the datasets.\n",
    "\n",
    "Start Time and End Time will be converted to time series data types"
   ]
  },
  {
   "cell_type": "code",
   "execution_count": 9,
   "metadata": {},
   "outputs": [
    {
     "data": {
      "text/html": [
       "<div>\n",
       "<style scoped>\n",
       "    .dataframe tbody tr th:only-of-type {\n",
       "        vertical-align: middle;\n",
       "    }\n",
       "\n",
       "    .dataframe tbody tr th {\n",
       "        vertical-align: top;\n",
       "    }\n",
       "\n",
       "    .dataframe thead th {\n",
       "        text-align: right;\n",
       "    }\n",
       "</style>\n",
       "<table border=\"1\" class=\"dataframe\">\n",
       "  <thead>\n",
       "    <tr style=\"text-align: right;\">\n",
       "      <th></th>\n",
       "      <th>Duration</th>\n",
       "      <th>Start Time</th>\n",
       "      <th>End Time</th>\n",
       "      <th>Starting Station ID</th>\n",
       "      <th>Starting Station Latitude</th>\n",
       "      <th>Starting Station Longitude</th>\n",
       "      <th>Ending Station ID</th>\n",
       "      <th>Ending Station Latitude</th>\n",
       "      <th>Ending Station Longitude</th>\n",
       "      <th>Bike ID</th>\n",
       "      <th>Plan Duration</th>\n",
       "      <th>Trip Route Category</th>\n",
       "      <th>Passholder Type</th>\n",
       "    </tr>\n",
       "    <tr>\n",
       "      <th>Trip ID</th>\n",
       "      <th></th>\n",
       "      <th></th>\n",
       "      <th></th>\n",
       "      <th></th>\n",
       "      <th></th>\n",
       "      <th></th>\n",
       "      <th></th>\n",
       "      <th></th>\n",
       "      <th></th>\n",
       "      <th></th>\n",
       "      <th></th>\n",
       "      <th></th>\n",
       "      <th></th>\n",
       "    </tr>\n",
       "  </thead>\n",
       "  <tbody>\n",
       "    <tr>\n",
       "      <th>17848847</th>\n",
       "      <td>8.0</td>\n",
       "      <td>2017-01-13 21:32:00</td>\n",
       "      <td>2017-01-13 21:40:00</td>\n",
       "      <td>3082.0</td>\n",
       "      <td>34.046520</td>\n",
       "      <td>-118.237411</td>\n",
       "      <td>3036.0</td>\n",
       "      <td>34.039188</td>\n",
       "      <td>-118.232529</td>\n",
       "      <td>6474.0</td>\n",
       "      <td>0.0</td>\n",
       "      <td>One Way</td>\n",
       "      <td>Walk-up</td>\n",
       "    </tr>\n",
       "    <tr>\n",
       "      <th>20700706</th>\n",
       "      <td>9.0</td>\n",
       "      <td>2017-02-24 23:13:00</td>\n",
       "      <td>2017-02-24 23:22:00</td>\n",
       "      <td>3029.0</td>\n",
       "      <td>34.048851</td>\n",
       "      <td>-118.246422</td>\n",
       "      <td>3082.0</td>\n",
       "      <td>34.046520</td>\n",
       "      <td>-118.237411</td>\n",
       "      <td>5794.0</td>\n",
       "      <td>30.0</td>\n",
       "      <td>One Way</td>\n",
       "      <td>Monthly Pass</td>\n",
       "    </tr>\n",
       "    <tr>\n",
       "      <th>20595730</th>\n",
       "      <td>14.0</td>\n",
       "      <td>2017-02-23 07:34:00</td>\n",
       "      <td>2017-02-23 07:48:00</td>\n",
       "      <td>3022.0</td>\n",
       "      <td>34.046070</td>\n",
       "      <td>-118.233093</td>\n",
       "      <td>3005.0</td>\n",
       "      <td>34.048550</td>\n",
       "      <td>-118.259048</td>\n",
       "      <td>6604.0</td>\n",
       "      <td>30.0</td>\n",
       "      <td>One Way</td>\n",
       "      <td>Monthly Pass</td>\n",
       "    </tr>\n",
       "    <tr>\n",
       "      <th>17307719</th>\n",
       "      <td>7.0</td>\n",
       "      <td>2017-01-05 12:04:00</td>\n",
       "      <td>2017-01-05 12:11:00</td>\n",
       "      <td>3059.0</td>\n",
       "      <td>34.037949</td>\n",
       "      <td>-118.256271</td>\n",
       "      <td>3038.0</td>\n",
       "      <td>34.046822</td>\n",
       "      <td>-118.248352</td>\n",
       "      <td>6035.0</td>\n",
       "      <td>30.0</td>\n",
       "      <td>One Way</td>\n",
       "      <td>Monthly Pass</td>\n",
       "    </tr>\n",
       "    <tr>\n",
       "      <th>18941656</th>\n",
       "      <td>14.0</td>\n",
       "      <td>2017-01-30 20:19:00</td>\n",
       "      <td>2017-01-30 20:33:00</td>\n",
       "      <td>3035.0</td>\n",
       "      <td>34.048401</td>\n",
       "      <td>-118.260948</td>\n",
       "      <td>3040.0</td>\n",
       "      <td>34.053570</td>\n",
       "      <td>-118.266357</td>\n",
       "      <td>6728.0</td>\n",
       "      <td>0.0</td>\n",
       "      <td>One Way</td>\n",
       "      <td>Walk-up</td>\n",
       "    </tr>\n",
       "  </tbody>\n",
       "</table>\n",
       "</div>"
      ],
      "text/plain": [
       "          Duration          Start Time            End Time  \\\n",
       "Trip ID                                                      \n",
       "17848847       8.0 2017-01-13 21:32:00 2017-01-13 21:40:00   \n",
       "20700706       9.0 2017-02-24 23:13:00 2017-02-24 23:22:00   \n",
       "20595730      14.0 2017-02-23 07:34:00 2017-02-23 07:48:00   \n",
       "17307719       7.0 2017-01-05 12:04:00 2017-01-05 12:11:00   \n",
       "18941656      14.0 2017-01-30 20:19:00 2017-01-30 20:33:00   \n",
       "\n",
       "          Starting Station ID  Starting Station Latitude  \\\n",
       "Trip ID                                                    \n",
       "17848847               3082.0                  34.046520   \n",
       "20700706               3029.0                  34.048851   \n",
       "20595730               3022.0                  34.046070   \n",
       "17307719               3059.0                  34.037949   \n",
       "18941656               3035.0                  34.048401   \n",
       "\n",
       "          Starting Station Longitude  Ending Station ID  \\\n",
       "Trip ID                                                   \n",
       "17848847                 -118.237411             3036.0   \n",
       "20700706                 -118.246422             3082.0   \n",
       "20595730                 -118.233093             3005.0   \n",
       "17307719                 -118.256271             3038.0   \n",
       "18941656                 -118.260948             3040.0   \n",
       "\n",
       "          Ending Station Latitude  Ending Station Longitude  Bike ID  \\\n",
       "Trip ID                                                                \n",
       "17848847                34.039188               -118.232529   6474.0   \n",
       "20700706                34.046520               -118.237411   5794.0   \n",
       "20595730                34.048550               -118.259048   6604.0   \n",
       "17307719                34.046822               -118.248352   6035.0   \n",
       "18941656                34.053570               -118.266357   6728.0   \n",
       "\n",
       "          Plan Duration Trip Route Category Passholder Type  \n",
       "Trip ID                                                      \n",
       "17848847            0.0             One Way         Walk-up  \n",
       "20700706           30.0             One Way    Monthly Pass  \n",
       "20595730           30.0             One Way    Monthly Pass  \n",
       "17307719           30.0             One Way    Monthly Pass  \n",
       "18941656            0.0             One Way         Walk-up  "
      ]
     },
     "execution_count": 9,
     "metadata": {},
     "output_type": "execute_result"
    }
   ],
   "source": [
    "df.set_index('Trip ID', inplace=True)\n",
    "df.dropna(inplace=True)\n",
    "df['Start Time']= pd.to_datetime(df['Start Time'])\n",
    "df['End Time']=pd.to_datetime(df['End Time'])\n",
    "df.head()"
   ]
  },
  {
   "cell_type": "markdown",
   "metadata": {},
   "source": [
    "Lets inspect the categorical features of Bike ID, Plan Duration, Trip Route Category, Passholder Type"
   ]
  },
  {
   "cell_type": "code",
   "execution_count": 10,
   "metadata": {},
   "outputs": [
    {
     "data": {
      "text/plain": [
       "One Way       118070\n",
       "Round Trip     12645\n",
       "Name: Trip Route Category, dtype: int64"
      ]
     },
     "execution_count": 10,
     "metadata": {},
     "output_type": "execute_result"
    }
   ],
   "source": [
    "df['Trip Route Category'].value_counts()"
   ]
  },
  {
   "cell_type": "code",
   "execution_count": 11,
   "metadata": {
    "scrolled": true
   },
   "outputs": [
    {
     "data": {
      "text/plain": [
       "Monthly Pass    80493\n",
       "Walk-up         40756\n",
       "Flex Pass        9466\n",
       "Name: Passholder Type, dtype: int64"
      ]
     },
     "execution_count": 11,
     "metadata": {},
     "output_type": "execute_result"
    }
   ],
   "source": [
    "df['Passholder Type'].value_counts()"
   ]
  },
  {
   "cell_type": "code",
   "execution_count": 12,
   "metadata": {},
   "outputs": [
    {
     "data": {
      "text/plain": [
       "30.0     80493\n",
       "0.0      40756\n",
       "365.0     9466\n",
       "Name: Plan Duration, dtype: int64"
      ]
     },
     "execution_count": 12,
     "metadata": {},
     "output_type": "execute_result"
    }
   ],
   "source": [
    "df['Plan Duration'].value_counts()"
   ]
  },
  {
   "cell_type": "markdown",
   "metadata": {},
   "source": [
    "Plan Duration and Passholder Type appear to be displaying the same data in 2 different fashions\n",
    "30 == Monthly Pass \n",
    "0 == Walk-up\n",
    "365 == Flex Pass\n",
    "Having this feature exist twice is unnecessary, so lets drop Plan Duration"
   ]
  },
  {
   "cell_type": "code",
   "execution_count": 13,
   "metadata": {},
   "outputs": [],
   "source": [
    "df.drop(columns=['Plan Duration'],inplace=True)"
   ]
  },
  {
   "cell_type": "code",
   "execution_count": 14,
   "metadata": {},
   "outputs": [
    {
     "data": {
      "text/plain": [
       "762"
      ]
     },
     "execution_count": 14,
     "metadata": {},
     "output_type": "execute_result"
    }
   ],
   "source": [
    "len(df['Bike ID'].unique())"
   ]
  },
  {
   "cell_type": "markdown",
   "metadata": {},
   "source": [
    "762 individual bikes in the system"
   ]
  },
  {
   "cell_type": "code",
   "execution_count": 15,
   "metadata": {},
   "outputs": [
    {
     "data": {
      "text/plain": [
       "<matplotlib.axes._subplots.AxesSubplot at 0xfc507b8>"
      ]
     },
     "execution_count": 15,
     "metadata": {},
     "output_type": "execute_result"
    },
    {
     "data": {
      "image/png": "[encoded data removed]",
      "text/plain": [
       "<Figure size 432x288 with 1 Axes>"
      ]
     },
     "metadata": {
      "needs_background": "light"
     },
     "output_type": "display_data"
    }
   ],
   "source": [
    "df['Bike ID'].value_counts().hist()"
   ]
  },
  {
   "cell_type": "markdown",
   "metadata": {},
   "source": [
    "Distribution of Bike usage appears normal indicating the bikes are all used randomly. This is to be expected"
   ]
  },
  {
   "cell_type": "code",
   "execution_count": 16,
   "metadata": {
    "scrolled": false
   },
   "outputs": [
    {
     "data": {
      "text/html": [
       "<div>\n",
       "<style scoped>\n",
       "    .dataframe tbody tr th:only-of-type {\n",
       "        vertical-align: middle;\n",
       "    }\n",
       "\n",
       "    .dataframe tbody tr th {\n",
       "        vertical-align: top;\n",
       "    }\n",
       "\n",
       "    .dataframe thead th {\n",
       "        text-align: right;\n",
       "    }\n",
       "</style>\n",
       "<table border=\"1\" class=\"dataframe\">\n",
       "  <thead>\n",
       "    <tr style=\"text-align: right;\">\n",
       "      <th></th>\n",
       "      <th>Duration</th>\n",
       "      <th>Starting Station ID</th>\n",
       "      <th>Starting Station Latitude</th>\n",
       "      <th>Starting Station Longitude</th>\n",
       "      <th>Ending Station ID</th>\n",
       "      <th>Ending Station Latitude</th>\n",
       "      <th>Ending Station Longitude</th>\n",
       "      <th>Bike ID</th>\n",
       "    </tr>\n",
       "  </thead>\n",
       "  <tbody>\n",
       "    <tr>\n",
       "      <th>count</th>\n",
       "      <td>130715.000000</td>\n",
       "      <td>130715.000000</td>\n",
       "      <td>130715.000000</td>\n",
       "      <td>130715.000000</td>\n",
       "      <td>130715.000000</td>\n",
       "      <td>130715.000000</td>\n",
       "      <td>130715.000000</td>\n",
       "      <td>130715.000000</td>\n",
       "    </tr>\n",
       "    <tr>\n",
       "      <th>mean</th>\n",
       "      <td>22.587155</td>\n",
       "      <td>3042.568756</td>\n",
       "      <td>34.039216</td>\n",
       "      <td>-118.221176</td>\n",
       "      <td>3041.993597</td>\n",
       "      <td>34.034566</td>\n",
       "      <td>-118.206420</td>\n",
       "      <td>6193.698114</td>\n",
       "    </tr>\n",
       "    <tr>\n",
       "      <th>std</th>\n",
       "      <td>77.840790</td>\n",
       "      <td>30.970158</td>\n",
       "      <td>0.532694</td>\n",
       "      <td>1.849996</td>\n",
       "      <td>33.546514</td>\n",
       "      <td>0.652348</td>\n",
       "      <td>2.265617</td>\n",
       "      <td>293.303470</td>\n",
       "    </tr>\n",
       "    <tr>\n",
       "      <th>min</th>\n",
       "      <td>1.000000</td>\n",
       "      <td>3005.000000</td>\n",
       "      <td>0.000000</td>\n",
       "      <td>-118.472832</td>\n",
       "      <td>3005.000000</td>\n",
       "      <td>0.000000</td>\n",
       "      <td>-118.472832</td>\n",
       "      <td>4727.000000</td>\n",
       "    </tr>\n",
       "    <tr>\n",
       "      <th>25%</th>\n",
       "      <td>6.000000</td>\n",
       "      <td>3024.000000</td>\n",
       "      <td>34.044170</td>\n",
       "      <td>-118.256980</td>\n",
       "      <td>3023.000000</td>\n",
       "      <td>34.044159</td>\n",
       "      <td>-118.256981</td>\n",
       "      <td>5953.000000</td>\n",
       "    </tr>\n",
       "    <tr>\n",
       "      <th>50%</th>\n",
       "      <td>10.000000</td>\n",
       "      <td>3039.000000</td>\n",
       "      <td>34.046822</td>\n",
       "      <td>-118.250954</td>\n",
       "      <td>3038.000000</td>\n",
       "      <td>34.046810</td>\n",
       "      <td>-118.250954</td>\n",
       "      <td>6186.000000</td>\n",
       "    </tr>\n",
       "    <tr>\n",
       "      <th>75%</th>\n",
       "      <td>18.000000</td>\n",
       "      <td>3063.000000</td>\n",
       "      <td>34.050880</td>\n",
       "      <td>-118.241562</td>\n",
       "      <td>3063.000000</td>\n",
       "      <td>34.050480</td>\n",
       "      <td>-118.238810</td>\n",
       "      <td>6434.000000</td>\n",
       "    </tr>\n",
       "    <tr>\n",
       "      <th>max</th>\n",
       "      <td>1440.000000</td>\n",
       "      <td>4108.000000</td>\n",
       "      <td>34.064281</td>\n",
       "      <td>0.000000</td>\n",
       "      <td>4108.000000</td>\n",
       "      <td>34.064281</td>\n",
       "      <td>0.000000</td>\n",
       "      <td>6728.000000</td>\n",
       "    </tr>\n",
       "  </tbody>\n",
       "</table>\n",
       "</div>"
      ],
      "text/plain": [
       "            Duration  Starting Station ID  Starting Station Latitude  \\\n",
       "count  130715.000000        130715.000000              130715.000000   \n",
       "mean       22.587155          3042.568756                  34.039216   \n",
       "std        77.840790            30.970158                   0.532694   \n",
       "min         1.000000          3005.000000                   0.000000   \n",
       "25%         6.000000          3024.000000                  34.044170   \n",
       "50%        10.000000          3039.000000                  34.046822   \n",
       "75%        18.000000          3063.000000                  34.050880   \n",
       "max      1440.000000          4108.000000                  34.064281   \n",
       "\n",
       "       Starting Station Longitude  Ending Station ID  Ending Station Latitude  \\\n",
       "count               130715.000000      130715.000000            130715.000000   \n",
       "mean                  -118.221176        3041.993597                34.034566   \n",
       "std                      1.849996          33.546514                 0.652348   \n",
       "min                   -118.472832        3005.000000                 0.000000   \n",
       "25%                   -118.256980        3023.000000                34.044159   \n",
       "50%                   -118.250954        3038.000000                34.046810   \n",
       "75%                   -118.241562        3063.000000                34.050480   \n",
       "max                      0.000000        4108.000000                34.064281   \n",
       "\n",
       "       Ending Station Longitude        Bike ID  \n",
       "count             130715.000000  130715.000000  \n",
       "mean                -118.206420    6193.698114  \n",
       "std                    2.265617     293.303470  \n",
       "min                 -118.472832    4727.000000  \n",
       "25%                 -118.256981    5953.000000  \n",
       "50%                 -118.250954    6186.000000  \n",
       "75%                 -118.238810    6434.000000  \n",
       "max                    0.000000    6728.000000  "
      ]
     },
     "execution_count": 16,
     "metadata": {},
     "output_type": "execute_result"
    }
   ],
   "source": [
    "df.describe()"
   ]
  },
  {
   "cell_type": "markdown",
   "metadata": {},
   "source": [
    "Starting Station Latitude, Starting Station Longitude, Ending Station Latitude & Ending Station Longitude contain zeros that must be treated as missing data. "
   ]
  },
  {
   "cell_type": "code",
   "execution_count": 17,
   "metadata": {},
   "outputs": [
    {
     "name": "stdout",
     "output_type": "stream",
     "text": [
      "For Starting Station Latitude there are 32 zeros\n",
      "For Starting Station Longitude there are 32 zeros\n",
      "For Ending Station Latitude there are 48 zeros\n",
      "For Ending Station Longitude there are 48 zeros\n"
     ]
    }
   ],
   "source": [
    "for feature in ['Starting Station Latitude', 'Starting Station Longitude', 'Ending Station Latitude' , 'Ending Station Longitude']:\n",
    "\n",
    "    print('For {} there are {} zeros'.format(feature,len(df.loc[df[feature]==0])))"
   ]
  },
  {
   "cell_type": "markdown",
   "metadata": {},
   "source": [
    "this is a very small fraction of the data and will be dropped"
   ]
  },
  {
   "cell_type": "code",
   "execution_count": 18,
   "metadata": {},
   "outputs": [
    {
     "data": {
      "text/html": [
       "<div>\n",
       "<style scoped>\n",
       "    .dataframe tbody tr th:only-of-type {\n",
       "        vertical-align: middle;\n",
       "    }\n",
       "\n",
       "    .dataframe tbody tr th {\n",
       "        vertical-align: top;\n",
       "    }\n",
       "\n",
       "    .dataframe thead th {\n",
       "        text-align: right;\n",
       "    }\n",
       "</style>\n",
       "<table border=\"1\" class=\"dataframe\">\n",
       "  <thead>\n",
       "    <tr style=\"text-align: right;\">\n",
       "      <th></th>\n",
       "      <th>Duration</th>\n",
       "      <th>Starting Station ID</th>\n",
       "      <th>Starting Station Latitude</th>\n",
       "      <th>Starting Station Longitude</th>\n",
       "      <th>Ending Station ID</th>\n",
       "      <th>Ending Station Latitude</th>\n",
       "      <th>Ending Station Longitude</th>\n",
       "      <th>Bike ID</th>\n",
       "    </tr>\n",
       "  </thead>\n",
       "  <tbody>\n",
       "    <tr>\n",
       "      <th>count</th>\n",
       "      <td>130655.000000</td>\n",
       "      <td>130655.000000</td>\n",
       "      <td>130655.000000</td>\n",
       "      <td>130655.000000</td>\n",
       "      <td>130655.000000</td>\n",
       "      <td>130655.000000</td>\n",
       "      <td>130655.000000</td>\n",
       "      <td>130655.000000</td>\n",
       "    </tr>\n",
       "    <tr>\n",
       "      <th>mean</th>\n",
       "      <td>22.579779</td>\n",
       "      <td>3042.305170</td>\n",
       "      <td>34.047552</td>\n",
       "      <td>-118.250125</td>\n",
       "      <td>3041.602089</td>\n",
       "      <td>34.047068</td>\n",
       "      <td>-118.249843</td>\n",
       "      <td>6193.705231</td>\n",
       "    </tr>\n",
       "    <tr>\n",
       "      <th>std</th>\n",
       "      <td>77.844127</td>\n",
       "      <td>26.103427</td>\n",
       "      <td>0.006350</td>\n",
       "      <td>0.011475</td>\n",
       "      <td>26.611986</td>\n",
       "      <td>0.006265</td>\n",
       "      <td>0.011984</td>\n",
       "      <td>293.325616</td>\n",
       "    </tr>\n",
       "    <tr>\n",
       "      <th>min</th>\n",
       "      <td>1.000000</td>\n",
       "      <td>3005.000000</td>\n",
       "      <td>33.987381</td>\n",
       "      <td>-118.472832</td>\n",
       "      <td>3005.000000</td>\n",
       "      <td>33.987381</td>\n",
       "      <td>-118.472832</td>\n",
       "      <td>4727.000000</td>\n",
       "    </tr>\n",
       "    <tr>\n",
       "      <th>25%</th>\n",
       "      <td>6.000000</td>\n",
       "      <td>3024.000000</td>\n",
       "      <td>34.044170</td>\n",
       "      <td>-118.256980</td>\n",
       "      <td>3023.000000</td>\n",
       "      <td>34.044159</td>\n",
       "      <td>-118.256981</td>\n",
       "      <td>5953.000000</td>\n",
       "    </tr>\n",
       "    <tr>\n",
       "      <th>50%</th>\n",
       "      <td>10.000000</td>\n",
       "      <td>3039.000000</td>\n",
       "      <td>34.046822</td>\n",
       "      <td>-118.250954</td>\n",
       "      <td>3038.000000</td>\n",
       "      <td>34.046810</td>\n",
       "      <td>-118.250954</td>\n",
       "      <td>6186.000000</td>\n",
       "    </tr>\n",
       "    <tr>\n",
       "      <th>75%</th>\n",
       "      <td>18.000000</td>\n",
       "      <td>3063.000000</td>\n",
       "      <td>34.050880</td>\n",
       "      <td>-118.241562</td>\n",
       "      <td>3063.000000</td>\n",
       "      <td>34.050480</td>\n",
       "      <td>-118.238810</td>\n",
       "      <td>6434.000000</td>\n",
       "    </tr>\n",
       "    <tr>\n",
       "      <th>max</th>\n",
       "      <td>1440.000000</td>\n",
       "      <td>4108.000000</td>\n",
       "      <td>34.064281</td>\n",
       "      <td>-118.231277</td>\n",
       "      <td>4108.000000</td>\n",
       "      <td>34.064281</td>\n",
       "      <td>-118.231277</td>\n",
       "      <td>6728.000000</td>\n",
       "    </tr>\n",
       "  </tbody>\n",
       "</table>\n",
       "</div>"
      ],
      "text/plain": [
       "            Duration  Starting Station ID  Starting Station Latitude  \\\n",
       "count  130655.000000        130655.000000              130655.000000   \n",
       "mean       22.579779          3042.305170                  34.047552   \n",
       "std        77.844127            26.103427                   0.006350   \n",
       "min         1.000000          3005.000000                  33.987381   \n",
       "25%         6.000000          3024.000000                  34.044170   \n",
       "50%        10.000000          3039.000000                  34.046822   \n",
       "75%        18.000000          3063.000000                  34.050880   \n",
       "max      1440.000000          4108.000000                  34.064281   \n",
       "\n",
       "       Starting Station Longitude  Ending Station ID  Ending Station Latitude  \\\n",
       "count               130655.000000      130655.000000            130655.000000   \n",
       "mean                  -118.250125        3041.602089                34.047068   \n",
       "std                      0.011475          26.611986                 0.006265   \n",
       "min                   -118.472832        3005.000000                33.987381   \n",
       "25%                   -118.256980        3023.000000                34.044159   \n",
       "50%                   -118.250954        3038.000000                34.046810   \n",
       "75%                   -118.241562        3063.000000                34.050480   \n",
       "max                   -118.231277        4108.000000                34.064281   \n",
       "\n",
       "       Ending Station Longitude        Bike ID  \n",
       "count             130655.000000  130655.000000  \n",
       "mean                -118.249843    6193.705231  \n",
       "std                    0.011984     293.325616  \n",
       "min                 -118.472832    4727.000000  \n",
       "25%                 -118.256981    5953.000000  \n",
       "50%                 -118.250954    6186.000000  \n",
       "75%                 -118.238810    6434.000000  \n",
       "max                 -118.231277    6728.000000  "
      ]
     },
     "execution_count": 18,
     "metadata": {},
     "output_type": "execute_result"
    }
   ],
   "source": [
    "#replace all zeros with NaN and then apply .dropna() to remove\n",
    "df['Starting Station Latitude'].replace(0,np.nan,inplace=True)\n",
    "df['Starting Station Longitude'].replace(0,np.nan,inplace=True)\n",
    "df['Ending Station Latitude'].replace(0,np.nan,inplace=True)\n",
    "df['Ending Station Longitude'].replace(0,np.nan,inplace=True)\n",
    "df.dropna(inplace=True)\n",
    "df.describe()"
   ]
  },
  {
   "cell_type": "code",
   "execution_count": 19,
   "metadata": {
    "scrolled": false
   },
   "outputs": [
    {
     "data": {
      "image/png": "[encoded data removed]",
      "text/plain": [
       "<Figure size 1008x360 with 2 Axes>"
      ]
     },
     "metadata": {
      "needs_background": "light"
     },
     "output_type": "display_data"
    }
   ],
   "source": [
    "plt.figure(figsize=(14,5))\n",
    "plt.subplot(1,2,1)\n",
    "plt.scatter(df['Starting Station Latitude'],df['Starting Station Longitude'],alpha=0.3)\n",
    "plt.subplot(1,2,2)\n",
    "plt.scatter(df['Ending Station Latitude'],df['Ending Station Longitude'],alpha=0.3)\n",
    "plt.show()"
   ]
  },
  {
   "cell_type": "markdown",
   "metadata": {},
   "source": [
    "Matching plots indicate there are no start points that had no drop off and vice-versa this would seem logical"
   ]
  },
  {
   "cell_type": "code",
   "execution_count": 20,
   "metadata": {},
   "outputs": [
    {
     "data": {
      "text/plain": [
       "True"
      ]
     },
     "execution_count": 20,
     "metadata": {},
     "output_type": "execute_result"
    }
   ],
   "source": [
    "sorted(df['Starting Station ID'].unique())==sorted(df['Ending Station ID'].unique())"
   ]
  },
  {
   "cell_type": "markdown",
   "metadata": {},
   "source": [
    "This confirms that the Starting and Ending Stations sets are identical as expected"
   ]
  },
  {
   "cell_type": "markdown",
   "metadata": {},
   "source": [
    "Now would a great time for a map!"
   ]
  },
  {
   "cell_type": "code",
   "execution_count": 21,
   "metadata": {},
   "outputs": [
    {
     "data": {
      "text/html": [
       "<div style=\"width:100%;\"><div style=\"position:relative;width:100%;height:0;padding-bottom:60%;\"><iframe src=\"data:text/html;charset=utf-8;base64,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\" style=\"position:absolute;width:100%;height:100%;left:0;top:0;border:none !important;\" allowfullscreen webkitallowfullscreen mozallowfullscreen></iframe></div></div>"
      ],
      "text/plain": [
       "<folium.folium.Map at 0x11ecdd68>"
      ]
     },
     "execution_count": 21,
     "metadata": {},
     "output_type": "execute_result"
    }
   ],
   "source": [
    "import folium\n",
    "bike_map1=folium.Map([df['Starting Station Latitude'].values[0],df['Starting Station Longitude'].values[0]])\n",
    "for station in df['Starting Station ID'].unique():\n",
    "    lat=df.loc[df['Starting Station ID']==station]['Starting Station Latitude'].values[0]\n",
    "    lon=df.loc[df['Starting Station ID']==station]['Starting Station Longitude'].values[0]\n",
    "    marker=folium.Marker([lat,lon],popup=str(station))\n",
    "    marker.add_to(bike_map1)\n",
    "\n",
    "bike_map1"
   ]
  },
  {
   "cell_type": "markdown",
   "metadata": {},
   "source": [
    "Almost all the Bike Stations are located in Downtown LA with the exception of 2; 1 in Culver City(id = 3039), and 1 in Venice (id = 3009)"
   ]
  },
  {
   "cell_type": "markdown",
   "metadata": {},
   "source": [
    "Lets look closer at the traffic to and from these 2 outlying bike stations, are they outliers?"
   ]
  },
  {
   "cell_type": "code",
   "execution_count": null,
   "metadata": {
    "scrolled": true
   },
   "outputs": [
    {
     "data": {
      "text/plain": [
       "3039.0    77\n",
       "3009.0    35\n",
       "Name: Ending Station ID, dtype: int64"
      ]
     },
     "execution_count": 21,
     "metadata": {},
     "output_type": "execute_result"
    }
   ],
   "source": [
    "df.loc[df['Starting Station ID']==3039]['Ending Station ID'].value_counts()"
   ]
  },
  {
   "cell_type": "code",
   "execution_count": null,
   "metadata": {},
   "outputs": [
    {
     "data": {
      "text/plain": [
       "3039.0    77\n",
       "3009.0    26\n",
       "3064.0     6\n",
       "3005.0     2\n",
       "3052.0     1\n",
       "Name: Starting Station ID, dtype: int64"
      ]
     },
     "execution_count": 22,
     "metadata": {},
     "output_type": "execute_result"
    }
   ],
   "source": [
    "df.loc[df['Ending Station ID']==3039]['Starting Station ID'].value_counts()"
   ]
  },
  {
   "cell_type": "code",
   "execution_count": null,
   "metadata": {},
   "outputs": [
    {
     "data": {
      "text/plain": [
       "3039.0    26\n",
       "3009.0    25\n",
       "Name: Ending Station ID, dtype: int64"
      ]
     },
     "execution_count": 23,
     "metadata": {},
     "output_type": "execute_result"
    }
   ],
   "source": [
    "df.loc[df['Starting Station ID']==3009]['Ending Station ID'].value_counts()"
   ]
  },
  {
   "cell_type": "code",
   "execution_count": null,
   "metadata": {},
   "outputs": [
    {
     "data": {
      "text/plain": [
       "3039.0    35\n",
       "3009.0    25\n",
       "3011.0     1\n",
       "3027.0     1\n",
       "3005.0     1\n",
       "3042.0     1\n",
       "Name: Starting Station ID, dtype: int64"
      ]
     },
     "execution_count": 24,
     "metadata": {},
     "output_type": "execute_result"
    }
   ],
   "source": [
    "df.loc[df['Ending Station ID']==3009]['Starting Station ID'].value_counts()"
   ]
  },
  {
   "cell_type": "markdown",
   "metadata": {},
   "source": [
    "Almost all of the trips made to and from these bike stations are either round trips to the same place or from one of the two to the other. These two stations are almost completely disconnected from the Downtown LA network.\n",
    "\n",
    "They also only account for a very tiny fraction of the rides total; from over 130k rides just 163 are to or from these two stations"
   ]
  },
  {
   "cell_type": "code",
   "execution_count": null,
   "metadata": {},
   "outputs": [
    {
     "data": {
      "text/plain": [
       "3020.0    522\n",
       "3010.0    420\n",
       "3060.0    379\n",
       "3057.0    371\n",
       "3080.0    189\n",
       "3045.0    185\n",
       "3039.0    112\n",
       "3009.0     51\n",
       "4108.0     21\n",
       "3053.0     15\n",
       "Name: Starting Station ID, dtype: int64"
      ]
     },
     "execution_count": 25,
     "metadata": {},
     "output_type": "execute_result"
    }
   ],
   "source": [
    "df['Starting Station ID'].value_counts().tail(10)"
   ]
  },
  {
   "cell_type": "code",
   "execution_count": null,
   "metadata": {},
   "outputs": [
    {
     "data": {
      "text/plain": [
       "3028.0    516\n",
       "3010.0    406\n",
       "3057.0    398\n",
       "3060.0    390\n",
       "3045.0    319\n",
       "3080.0    173\n",
       "3039.0    112\n",
       "3009.0     64\n",
       "4108.0     22\n",
       "3053.0     12\n",
       "Name: Ending Station ID, dtype: int64"
      ]
     },
     "execution_count": 26,
     "metadata": {},
     "output_type": "execute_result"
    }
   ],
   "source": [
    "df['Ending Station ID'].value_counts().tail(10)"
   ]
  },
  {
   "cell_type": "code",
   "execution_count": null,
   "metadata": {},
   "outputs": [
    {
     "data": {
      "text/plain": [
       "4108.0    19\n",
       "3037.0     2\n",
       "Name: Ending Station ID, dtype: int64"
      ]
     },
     "execution_count": 27,
     "metadata": {},
     "output_type": "execute_result"
    }
   ],
   "source": [
    "df.loc[df['Starting Station ID']==4108]['Ending Station ID'].value_counts()"
   ]
  },
  {
   "cell_type": "code",
   "execution_count": null,
   "metadata": {},
   "outputs": [
    {
     "data": {
      "text/plain": [
       "4108.0    19\n",
       "3036.0     1\n",
       "3020.0     1\n",
       "3082.0     1\n",
       "Name: Starting Station ID, dtype: int64"
      ]
     },
     "execution_count": 28,
     "metadata": {},
     "output_type": "execute_result"
    }
   ],
   "source": [
    "df.loc[df['Ending Station ID']==4108]['Starting Station ID'].value_counts()"
   ]
  },
  {
   "cell_type": "markdown",
   "metadata": {},
   "source": [
    "Bike Station ID 4108 is very dominantly Round-Trip traffic, this is very unusual for this dataset!"
   ]
  },
  {
   "cell_type": "code",
   "execution_count": null,
   "metadata": {},
   "outputs": [
    {
     "data": {
      "text/plain": [
       "One Way       0.903371\n",
       "Round Trip    0.096629\n",
       "Name: Trip Route Category, dtype: float64"
      ]
     },
     "execution_count": 29,
     "metadata": {},
     "output_type": "execute_result"
    }
   ],
   "source": [
    "df['Trip Route Category'].value_counts(normalize=True)"
   ]
  },
  {
   "cell_type": "code",
   "execution_count": null,
   "metadata": {},
   "outputs": [],
   "source": []
  },
  {
   "cell_type": "code",
   "execution_count": null,
   "metadata": {},
   "outputs": [],
   "source": []
  },
  {
   "cell_type": "code",
   "execution_count": null,
   "metadata": {},
   "outputs": [],
   "source": []
  },
  {
   "cell_type": "code",
   "execution_count": null,
   "metadata": {},
   "outputs": [],
   "source": []
  },
  {
   "cell_type": "code",
   "execution_count": null,
   "metadata": {},
   "outputs": [],
   "source": []
  },
  {
   "cell_type": "code",
   "execution_count": null,
   "metadata": {},
   "outputs": [],
   "source": []
  },
  {
   "cell_type": "code",
   "execution_count": null,
   "metadata": {},
   "outputs": [],
   "source": []
  },
  {
   "cell_type": "code",
   "execution_count": null,
   "metadata": {},
   "outputs": [],
   "source": []
  },
  {
   "cell_type": "code",
   "execution_count": null,
   "metadata": {},
   "outputs": [
    {
     "data": {
      "text/plain": [
       "Timestamp('2016-07-07 04:17:00')"
      ]
     },
     "execution_count": 30,
     "metadata": {},
     "output_type": "execute_result"
    }
   ],
   "source": [
    "df['Start Time'].min()"
   ]
  },
  {
   "cell_type": "code",
   "execution_count": null,
   "metadata": {},
   "outputs": [
    {
     "data": {
      "text/plain": [
       "Timestamp('2017-03-31 23:45:00')"
      ]
     },
     "execution_count": 31,
     "metadata": {},
     "output_type": "execute_result"
    }
   ],
   "source": [
    "df['Start Time'].max()"
   ]
  },
  {
   "cell_type": "code",
   "execution_count": 25,
   "metadata": {
    "scrolled": false
   },
   "outputs": [
    {
     "data": {
      "text/plain": [
       "<matplotlib.axes._subplots.AxesSubplot at 0x19341fd0>"
      ]
     },
     "execution_count": 25,
     "metadata": {},
     "output_type": "execute_result"
    },
    {
     "data": {
      "image/png": "[encoded data removed]",
      "text/plain": [
       "<Figure size 1080x576 with 1 Axes>"
      ]
     },
     "metadata": {
      "needs_background": "light"
     },
     "output_type": "display_data"
    }
   ],
   "source": [
    "df['Start Time'].hist(figsize=(15,8))\n"
   ]
  },
  {
   "cell_type": "code",
   "execution_count": null,
   "metadata": {},
   "outputs": [],
   "source": []
  },
  {
   "cell_type": "code",
   "execution_count": 22,
   "metadata": {},
   "outputs": [
    {
     "data": {
      "text/plain": [
       "Trip ID\n",
       "17848847      Friday\n",
       "20700706      Friday\n",
       "20595730    Thursday\n",
       "17307719    Thursday\n",
       "18941656      Monday\n",
       "Name: Start Time, dtype: object"
      ]
     },
     "execution_count": 22,
     "metadata": {},
     "output_type": "execute_result"
    }
   ],
   "source": [
    "day_of_week=df['Start Time'].dt.day_name()\n",
    "day_of_week.head()"
   ]
  },
  {
   "cell_type": "code",
   "execution_count": 23,
   "metadata": {
    "scrolled": true
   },
   "outputs": [
    {
     "data": {
      "text/plain": [
       "Thursday     20082\n",
       "Friday       19774\n",
       "Wednesday    19537\n",
       "Tuesday      18909\n",
       "Saturday     18278\n",
       "Sunday       17040\n",
       "Monday       17035\n",
       "Name: Start Time, dtype: int64"
      ]
     },
     "execution_count": 23,
     "metadata": {},
     "output_type": "execute_result"
    }
   ],
   "source": [
    "day_of_week.value_counts()"
   ]
  },
  {
   "cell_type": "code",
   "execution_count": 41,
   "metadata": {},
   "outputs": [],
   "source": [
    "month=df['Start Time'].dt.month_name()"
   ]
  },
  {
   "cell_type": "code",
   "execution_count": 42,
   "metadata": {},
   "outputs": [
    {
     "data": {
      "text/plain": [
       "August       24121\n",
       "September    19846\n",
       "October      17863\n",
       "November     14196\n",
       "March        13564\n",
       "July         11412\n",
       "December     10327\n",
       "January      10053\n",
       "February      9273\n",
       "Name: Start Time, dtype: int64"
      ]
     },
     "execution_count": 42,
     "metadata": {},
     "output_type": "execute_result"
    }
   ],
   "source": [
    "month.value_counts()"
   ]
  },
  {
   "cell_type": "code",
   "execution_count": null,
   "metadata": {},
   "outputs": [],
   "source": []
  },
  {
   "cell_type": "code",
   "execution_count": null,
   "metadata": {},
   "outputs": [],
   "source": []
  },
  {
   "cell_type": "code",
   "execution_count": null,
   "metadata": {},
   "outputs": [],
   "source": []
  },
  {
   "cell_type": "code",
   "execution_count": null,
   "metadata": {},
   "outputs": [],
   "source": []
  },
  {
   "cell_type": "code",
   "execution_count": null,
   "metadata": {},
   "outputs": [],
   "source": []
  },
  {
   "cell_type": "code",
   "execution_count": null,
   "metadata": {},
   "outputs": [],
   "source": []
  },
  {
   "cell_type": "code",
   "execution_count": 36,
   "metadata": {},
   "outputs": [
    {
     "data": {
      "text/plain": [
       "<BarContainer object of 7 artists>"
      ]
     },
     "execution_count": 36,
     "metadata": {},
     "output_type": "execute_result"
    },
    {
     "data": {
      "image/png": "[encoded data removed]",
      "text/plain": [
       "<Figure size 432x288 with 1 Axes>"
      ]
     },
     "metadata": {
      "needs_background": "light"
     },
     "output_type": "display_data"
    }
   ],
   "source": [
    "plt.bar(day_of_week.value_counts().index,day_of_week.value_counts().values)"
   ]
  },
  {
   "cell_type": "code",
   "execution_count": 43,
   "metadata": {},
   "outputs": [
    {
     "data": {
      "text/html": [
       "<div>\n",
       "<style scoped>\n",
       "    .dataframe tbody tr th:only-of-type {\n",
       "        vertical-align: middle;\n",
       "    }\n",
       "\n",
       "    .dataframe tbody tr th {\n",
       "        vertical-align: top;\n",
       "    }\n",
       "\n",
       "    .dataframe thead th {\n",
       "        text-align: right;\n",
       "    }\n",
       "</style>\n",
       "<table border=\"1\" class=\"dataframe\">\n",
       "  <thead>\n",
       "    <tr style=\"text-align: right;\">\n",
       "      <th></th>\n",
       "      <th>count</th>\n",
       "      <th>mean</th>\n",
       "      <th>std</th>\n",
       "      <th>min</th>\n",
       "      <th>25%</th>\n",
       "      <th>50%</th>\n",
       "      <th>75%</th>\n",
       "      <th>max</th>\n",
       "    </tr>\n",
       "    <tr>\n",
       "      <th>Trip Route Category</th>\n",
       "      <th></th>\n",
       "      <th></th>\n",
       "      <th></th>\n",
       "      <th></th>\n",
       "      <th></th>\n",
       "      <th></th>\n",
       "      <th></th>\n",
       "      <th></th>\n",
       "    </tr>\n",
       "  </thead>\n",
       "  <tbody>\n",
       "    <tr>\n",
       "      <th>One Way</th>\n",
       "      <td>118030.0</td>\n",
       "      <td>19.113310</td>\n",
       "      <td>69.338189</td>\n",
       "      <td>1.0</td>\n",
       "      <td>6.0</td>\n",
       "      <td>10.0</td>\n",
       "      <td>16.0</td>\n",
       "      <td>1440.0</td>\n",
       "    </tr>\n",
       "    <tr>\n",
       "      <th>Round Trip</th>\n",
       "      <td>12625.0</td>\n",
       "      <td>54.987485</td>\n",
       "      <td>128.850483</td>\n",
       "      <td>1.0</td>\n",
       "      <td>15.0</td>\n",
       "      <td>28.0</td>\n",
       "      <td>53.0</td>\n",
       "      <td>1440.0</td>\n",
       "    </tr>\n",
       "  </tbody>\n",
       "</table>\n",
       "</div>"
      ],
      "text/plain": [
       "                        count       mean         std  min   25%   50%   75%  \\\n",
       "Trip Route Category                                                           \n",
       "One Way              118030.0  19.113310   69.338189  1.0   6.0  10.0  16.0   \n",
       "Round Trip            12625.0  54.987485  128.850483  1.0  15.0  28.0  53.0   \n",
       "\n",
       "                        max  \n",
       "Trip Route Category          \n",
       "One Way              1440.0  \n",
       "Round Trip           1440.0  "
      ]
     },
     "execution_count": 43,
     "metadata": {},
     "output_type": "execute_result"
    }
   ],
   "source": [
    "df.groupby('Trip Route Category')['Duration'].describe()"
   ]
  },
  {
   "cell_type": "code",
   "execution_count": 44,
   "metadata": {},
   "outputs": [
    {
     "data": {
      "text/html": [
       "<div>\n",
       "<style scoped>\n",
       "    .dataframe tbody tr th:only-of-type {\n",
       "        vertical-align: middle;\n",
       "    }\n",
       "\n",
       "    .dataframe tbody tr th {\n",
       "        vertical-align: top;\n",
       "    }\n",
       "\n",
       "    .dataframe thead th {\n",
       "        text-align: right;\n",
       "    }\n",
       "</style>\n",
       "<table border=\"1\" class=\"dataframe\">\n",
       "  <thead>\n",
       "    <tr style=\"text-align: right;\">\n",
       "      <th></th>\n",
       "      <th>count</th>\n",
       "      <th>mean</th>\n",
       "      <th>std</th>\n",
       "      <th>min</th>\n",
       "      <th>25%</th>\n",
       "      <th>50%</th>\n",
       "      <th>75%</th>\n",
       "      <th>max</th>\n",
       "    </tr>\n",
       "    <tr>\n",
       "      <th>Passholder Type</th>\n",
       "      <th></th>\n",
       "      <th></th>\n",
       "      <th></th>\n",
       "      <th></th>\n",
       "      <th></th>\n",
       "      <th></th>\n",
       "      <th></th>\n",
       "      <th></th>\n",
       "    </tr>\n",
       "  </thead>\n",
       "  <tbody>\n",
       "    <tr>\n",
       "      <th>Flex Pass</th>\n",
       "      <td>9465.0</td>\n",
       "      <td>17.804226</td>\n",
       "      <td>63.569293</td>\n",
       "      <td>1.0</td>\n",
       "      <td>7.0</td>\n",
       "      <td>10.0</td>\n",
       "      <td>15.0</td>\n",
       "      <td>1440.0</td>\n",
       "    </tr>\n",
       "    <tr>\n",
       "      <th>Monthly Pass</th>\n",
       "      <td>80443.0</td>\n",
       "      <td>12.918949</td>\n",
       "      <td>41.680624</td>\n",
       "      <td>1.0</td>\n",
       "      <td>5.0</td>\n",
       "      <td>8.0</td>\n",
       "      <td>13.0</td>\n",
       "      <td>1440.0</td>\n",
       "    </tr>\n",
       "    <tr>\n",
       "      <th>Walk-up</th>\n",
       "      <td>40747.0</td>\n",
       "      <td>42.761553</td>\n",
       "      <td>120.272538</td>\n",
       "      <td>1.0</td>\n",
       "      <td>11.0</td>\n",
       "      <td>19.0</td>\n",
       "      <td>34.0</td>\n",
       "      <td>1440.0</td>\n",
       "    </tr>\n",
       "  </tbody>\n",
       "</table>\n",
       "</div>"
      ],
      "text/plain": [
       "                   count       mean         std  min   25%   50%   75%     max\n",
       "Passholder Type                                                               \n",
       "Flex Pass         9465.0  17.804226   63.569293  1.0   7.0  10.0  15.0  1440.0\n",
       "Monthly Pass     80443.0  12.918949   41.680624  1.0   5.0   8.0  13.0  1440.0\n",
       "Walk-up          40747.0  42.761553  120.272538  1.0  11.0  19.0  34.0  1440.0"
      ]
     },
     "execution_count": 44,
     "metadata": {},
     "output_type": "execute_result"
    }
   ],
   "source": [
    "df.groupby('Passholder Type')['Duration'].describe()"
   ]
  },
  {
   "cell_type": "code",
   "execution_count": 40,
   "metadata": {},
   "outputs": [
    {
     "data": {
      "text/plain": [
       "Passholder Type  Trip Route Category\n",
       "Flex Pass        One Way                0.948653\n",
       "                 Round Trip             0.051347\n",
       "Monthly Pass     One Way                0.954117\n",
       "                 Round Trip             0.045883\n",
       "Walk-up          One Way                0.792672\n",
       "                 Round Trip             0.207328\n",
       "Name: Trip Route Category, dtype: float64"
      ]
     },
     "execution_count": 40,
     "metadata": {},
     "output_type": "execute_result"
    }
   ],
   "source": [
    "df.groupby('Passholder Type')['Trip Route Category'].value_counts(normalize=True)"
   ]
  },
  {
   "cell_type": "code",
   "execution_count": null,
   "metadata": {},
   "outputs": [],
   "source": []
  },
  {
   "cell_type": "code",
   "execution_count": null,
   "metadata": {},
   "outputs": [],
   "source": []
  },
  {
   "cell_type": "code",
   "execution_count": null,
   "metadata": {},
   "outputs": [],
   "source": []
  },
  {
   "cell_type": "code",
   "execution_count": null,
   "metadata": {},
   "outputs": [],
   "source": []
  },
  {
   "cell_type": "code",
   "execution_count": null,
   "metadata": {},
   "outputs": [],
   "source": []
  },
  {
   "cell_type": "code",
   "execution_count": null,
   "metadata": {
    "scrolled": false
   },
   "outputs": [],
   "source": [
    "plt.figure(figsize=(15,4))\n",
    "df.loc[df.Duration<30]['Duration'].hist(bins=29)\n",
    "# plt.ylim(0,30000)\n",
    "# plt.xlim(0,5000)"
   ]
  },
  {
   "cell_type": "markdown",
   "metadata": {},
   "source": [
    "Notes:\n",
    "create distance ridden metric (drop return trips? only 10%)\n",
    "corellate distance/duration\n",
    "insert weeekend/weekday\n",
    "bin start time? morning/afternoon/evening?\n",
    "clustering of stations?\n",
    "\n",
    "\n",
    "machine learning:\n",
    "ride duration classifier?\n",
    "pickups from station per day/time period?\n"
   ]
  }
 ],
 "metadata": {
  "kernelspec": {
   "display_name": "Python 3",
   "language": "python",
   "name": "python3"
  }
 },
 "nbformat": 4,
 "nbformat_minor": 2
}
