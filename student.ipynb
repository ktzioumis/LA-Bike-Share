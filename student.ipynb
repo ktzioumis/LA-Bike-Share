{
 "cells": [
  {
   "cell_type": "markdown",
   "metadata": {},
   "source": [
    "## Final Project Submission\n",
    "\n",
    "Please fill out:\n",
    "* Student name: Kosta Tzioumis\n",
    "* Student pace: part time \n",
    "* Scheduled project review date/time: \n",
    "* Instructor name: Eli\n",
    "* Blog post URL:\n"
   ]
  },
  {
   "cell_type": "markdown",
   "metadata": {},
   "source": [
    "## Data Set obtained from:\n",
    "https://www.kaggle.com/cityofLA/los-angeles-metro-bike-share-trip-data"
   ]
  },
  {
   "cell_type": "code",
   "execution_count": 243,
   "metadata": {},
   "outputs": [],
   "source": [
    "import pandas as pd\n",
    "import numpy as np\n",
    "import matplotlib.pyplot as plt\n",
    "%matplotlib inline"
   ]
  },
  {
   "cell_type": "code",
   "execution_count": 244,
   "metadata": {
    "scrolled": true
   },
   "outputs": [
    {
     "data": {
      "text/html": [
       "<div>\n",
       "<style scoped>\n",
       "    .dataframe tbody tr th:only-of-type {\n",
       "        vertical-align: middle;\n",
       "    }\n",
       "\n",
       "    .dataframe tbody tr th {\n",
       "        vertical-align: top;\n",
       "    }\n",
       "\n",
       "    .dataframe thead th {\n",
       "        text-align: right;\n",
       "    }\n",
       "</style>\n",
       "<table border=\"1\" class=\"dataframe\">\n",
       "  <thead>\n",
       "    <tr style=\"text-align: right;\">\n",
       "      <th></th>\n",
       "      <th>Trip ID</th>\n",
       "      <th>Duration</th>\n",
       "      <th>Start Time</th>\n",
       "      <th>End Time</th>\n",
       "      <th>Starting Station ID</th>\n",
       "      <th>Starting Station Latitude</th>\n",
       "      <th>Starting Station Longitude</th>\n",
       "      <th>Ending Station ID</th>\n",
       "      <th>Ending Station Latitude</th>\n",
       "      <th>Ending Station Longitude</th>\n",
       "      <th>...</th>\n",
       "      <th>Trip Route Category</th>\n",
       "      <th>Passholder Type</th>\n",
       "      <th>Starting Lat-Long</th>\n",
       "      <th>Ending Lat-Long</th>\n",
       "      <th>Neighborhood Councils (Certified)</th>\n",
       "      <th>Council Districts</th>\n",
       "      <th>Zip Codes</th>\n",
       "      <th>LA Specific Plans</th>\n",
       "      <th>Precinct Boundaries</th>\n",
       "      <th>Census Tracts</th>\n",
       "    </tr>\n",
       "  </thead>\n",
       "  <tbody>\n",
       "    <tr>\n",
       "      <th>0</th>\n",
       "      <td>18222186</td>\n",
       "      <td>15060</td>\n",
       "      <td>2017-01-19T17:05:00.000</td>\n",
       "      <td>2017-01-19T21:16:00.000</td>\n",
       "      <td>3031.0</td>\n",
       "      <td>34.044701</td>\n",
       "      <td>-118.252441</td>\n",
       "      <td>3000.0</td>\n",
       "      <td>NaN</td>\n",
       "      <td>NaN</td>\n",
       "      <td>...</td>\n",
       "      <td>One Way</td>\n",
       "      <td>Walk-up</td>\n",
       "      <td>NaN</td>\n",
       "      <td>NaN</td>\n",
       "      <td>NaN</td>\n",
       "      <td>NaN</td>\n",
       "      <td>NaN</td>\n",
       "      <td>NaN</td>\n",
       "      <td>NaN</td>\n",
       "      <td>NaN</td>\n",
       "    </tr>\n",
       "    <tr>\n",
       "      <th>1</th>\n",
       "      <td>9518671</td>\n",
       "      <td>77160</td>\n",
       "      <td>2016-10-09T14:37:00.000</td>\n",
       "      <td>2016-10-10T12:03:00.000</td>\n",
       "      <td>NaN</td>\n",
       "      <td>NaN</td>\n",
       "      <td>NaN</td>\n",
       "      <td>3000.0</td>\n",
       "      <td>NaN</td>\n",
       "      <td>NaN</td>\n",
       "      <td>...</td>\n",
       "      <td>One Way</td>\n",
       "      <td>Monthly Pass</td>\n",
       "      <td>NaN</td>\n",
       "      <td>NaN</td>\n",
       "      <td>NaN</td>\n",
       "      <td>NaN</td>\n",
       "      <td>NaN</td>\n",
       "      <td>NaN</td>\n",
       "      <td>NaN</td>\n",
       "      <td>NaN</td>\n",
       "    </tr>\n",
       "    <tr>\n",
       "      <th>2</th>\n",
       "      <td>20444932</td>\n",
       "      <td>86400</td>\n",
       "      <td>2017-02-18T10:15:00.000</td>\n",
       "      <td>2017-02-20T15:20:00.000</td>\n",
       "      <td>3026.0</td>\n",
       "      <td>34.063179</td>\n",
       "      <td>-118.245880</td>\n",
       "      <td>3000.0</td>\n",
       "      <td>NaN</td>\n",
       "      <td>NaN</td>\n",
       "      <td>...</td>\n",
       "      <td>One Way</td>\n",
       "      <td>Walk-up</td>\n",
       "      <td>NaN</td>\n",
       "      <td>NaN</td>\n",
       "      <td>NaN</td>\n",
       "      <td>NaN</td>\n",
       "      <td>NaN</td>\n",
       "      <td>NaN</td>\n",
       "      <td>NaN</td>\n",
       "      <td>NaN</td>\n",
       "    </tr>\n",
       "    <tr>\n",
       "      <th>3</th>\n",
       "      <td>20905031</td>\n",
       "      <td>18840</td>\n",
       "      <td>2017-02-27T12:26:00.000</td>\n",
       "      <td>2017-02-27T17:40:00.000</td>\n",
       "      <td>3023.0</td>\n",
       "      <td>34.050911</td>\n",
       "      <td>-118.240967</td>\n",
       "      <td>3000.0</td>\n",
       "      <td>NaN</td>\n",
       "      <td>NaN</td>\n",
       "      <td>...</td>\n",
       "      <td>One Way</td>\n",
       "      <td>Walk-up</td>\n",
       "      <td>NaN</td>\n",
       "      <td>NaN</td>\n",
       "      <td>NaN</td>\n",
       "      <td>NaN</td>\n",
       "      <td>NaN</td>\n",
       "      <td>NaN</td>\n",
       "      <td>NaN</td>\n",
       "      <td>NaN</td>\n",
       "    </tr>\n",
       "    <tr>\n",
       "      <th>4</th>\n",
       "      <td>21031476</td>\n",
       "      <td>86400</td>\n",
       "      <td>2017-02-27T20:26:00.000</td>\n",
       "      <td>2017-03-01T09:49:00.000</td>\n",
       "      <td>3008.0</td>\n",
       "      <td>34.046612</td>\n",
       "      <td>-118.262733</td>\n",
       "      <td>3000.0</td>\n",
       "      <td>NaN</td>\n",
       "      <td>NaN</td>\n",
       "      <td>...</td>\n",
       "      <td>One Way</td>\n",
       "      <td>Flex Pass</td>\n",
       "      <td>NaN</td>\n",
       "      <td>NaN</td>\n",
       "      <td>NaN</td>\n",
       "      <td>NaN</td>\n",
       "      <td>NaN</td>\n",
       "      <td>NaN</td>\n",
       "      <td>NaN</td>\n",
       "      <td>NaN</td>\n",
       "    </tr>\n",
       "    <tr>\n",
       "      <th>5</th>\n",
       "      <td>9378284</td>\n",
       "      <td>60</td>\n",
       "      <td>2016-10-09T09:40:00.000</td>\n",
       "      <td>2016-10-09T09:41:00.000</td>\n",
       "      <td>NaN</td>\n",
       "      <td>NaN</td>\n",
       "      <td>NaN</td>\n",
       "      <td>NaN</td>\n",
       "      <td>NaN</td>\n",
       "      <td>NaN</td>\n",
       "      <td>...</td>\n",
       "      <td>One Way</td>\n",
       "      <td>Staff Annual</td>\n",
       "      <td>NaN</td>\n",
       "      <td>NaN</td>\n",
       "      <td>NaN</td>\n",
       "      <td>NaN</td>\n",
       "      <td>NaN</td>\n",
       "      <td>NaN</td>\n",
       "      <td>NaN</td>\n",
       "      <td>NaN</td>\n",
       "    </tr>\n",
       "    <tr>\n",
       "      <th>6</th>\n",
       "      <td>21784648</td>\n",
       "      <td>14760</td>\n",
       "      <td>2017-03-10T17:38:00.000</td>\n",
       "      <td>2017-03-10T21:44:00.000</td>\n",
       "      <td>3065.0</td>\n",
       "      <td>34.060558</td>\n",
       "      <td>-118.238327</td>\n",
       "      <td>3000.0</td>\n",
       "      <td>NaN</td>\n",
       "      <td>NaN</td>\n",
       "      <td>...</td>\n",
       "      <td>One Way</td>\n",
       "      <td>Walk-up</td>\n",
       "      <td>NaN</td>\n",
       "      <td>NaN</td>\n",
       "      <td>NaN</td>\n",
       "      <td>NaN</td>\n",
       "      <td>NaN</td>\n",
       "      <td>NaN</td>\n",
       "      <td>NaN</td>\n",
       "      <td>NaN</td>\n",
       "    </tr>\n",
       "    <tr>\n",
       "      <th>7</th>\n",
       "      <td>22506739</td>\n",
       "      <td>79020</td>\n",
       "      <td>2017-03-17T19:20:00.000</td>\n",
       "      <td>2017-03-18T17:17:00.000</td>\n",
       "      <td>3063.0</td>\n",
       "      <td>34.049198</td>\n",
       "      <td>-118.252831</td>\n",
       "      <td>3000.0</td>\n",
       "      <td>NaN</td>\n",
       "      <td>NaN</td>\n",
       "      <td>...</td>\n",
       "      <td>One Way</td>\n",
       "      <td>Walk-up</td>\n",
       "      <td>NaN</td>\n",
       "      <td>NaN</td>\n",
       "      <td>NaN</td>\n",
       "      <td>NaN</td>\n",
       "      <td>NaN</td>\n",
       "      <td>NaN</td>\n",
       "      <td>NaN</td>\n",
       "      <td>NaN</td>\n",
       "    </tr>\n",
       "    <tr>\n",
       "      <th>8</th>\n",
       "      <td>20889067</td>\n",
       "      <td>86400</td>\n",
       "      <td>2017-02-26T12:18:00.000</td>\n",
       "      <td>2017-02-27T12:36:00.000</td>\n",
       "      <td>3062.0</td>\n",
       "      <td>34.047749</td>\n",
       "      <td>-118.243172</td>\n",
       "      <td>3000.0</td>\n",
       "      <td>NaN</td>\n",
       "      <td>NaN</td>\n",
       "      <td>...</td>\n",
       "      <td>One Way</td>\n",
       "      <td>Walk-up</td>\n",
       "      <td>NaN</td>\n",
       "      <td>NaN</td>\n",
       "      <td>NaN</td>\n",
       "      <td>NaN</td>\n",
       "      <td>NaN</td>\n",
       "      <td>NaN</td>\n",
       "      <td>NaN</td>\n",
       "      <td>NaN</td>\n",
       "    </tr>\n",
       "    <tr>\n",
       "      <th>9</th>\n",
       "      <td>18481915</td>\n",
       "      <td>600</td>\n",
       "      <td>2017-01-23T18:48:00.000</td>\n",
       "      <td>2017-01-23T18:58:00.000</td>\n",
       "      <td>3082.0</td>\n",
       "      <td>34.046520</td>\n",
       "      <td>-118.237411</td>\n",
       "      <td>3000.0</td>\n",
       "      <td>NaN</td>\n",
       "      <td>NaN</td>\n",
       "      <td>...</td>\n",
       "      <td>One Way</td>\n",
       "      <td>Monthly Pass</td>\n",
       "      <td>NaN</td>\n",
       "      <td>NaN</td>\n",
       "      <td>NaN</td>\n",
       "      <td>NaN</td>\n",
       "      <td>NaN</td>\n",
       "      <td>NaN</td>\n",
       "      <td>NaN</td>\n",
       "      <td>NaN</td>\n",
       "    </tr>\n",
       "  </tbody>\n",
       "</table>\n",
       "<p>10 rows × 22 columns</p>\n",
       "</div>"
      ],
      "text/plain": [
       "    Trip ID  Duration               Start Time                 End Time  \\\n",
       "0  18222186     15060  2017-01-19T17:05:00.000  2017-01-19T21:16:00.000   \n",
       "1   9518671     77160  2016-10-09T14:37:00.000  2016-10-10T12:03:00.000   \n",
       "2  20444932     86400  2017-02-18T10:15:00.000  2017-02-20T15:20:00.000   \n",
       "3  20905031     18840  2017-02-27T12:26:00.000  2017-02-27T17:40:00.000   \n",
       "4  21031476     86400  2017-02-27T20:26:00.000  2017-03-01T09:49:00.000   \n",
       "5   9378284        60  2016-10-09T09:40:00.000  2016-10-09T09:41:00.000   \n",
       "6  21784648     14760  2017-03-10T17:38:00.000  2017-03-10T21:44:00.000   \n",
       "7  22506739     79020  2017-03-17T19:20:00.000  2017-03-18T17:17:00.000   \n",
       "8  20889067     86400  2017-02-26T12:18:00.000  2017-02-27T12:36:00.000   \n",
       "9  18481915       600  2017-01-23T18:48:00.000  2017-01-23T18:58:00.000   \n",
       "\n",
       "   Starting Station ID  Starting Station Latitude  Starting Station Longitude  \\\n",
       "0               3031.0                  34.044701                 -118.252441   \n",
       "1                  NaN                        NaN                         NaN   \n",
       "2               3026.0                  34.063179                 -118.245880   \n",
       "3               3023.0                  34.050911                 -118.240967   \n",
       "4               3008.0                  34.046612                 -118.262733   \n",
       "5                  NaN                        NaN                         NaN   \n",
       "6               3065.0                  34.060558                 -118.238327   \n",
       "7               3063.0                  34.049198                 -118.252831   \n",
       "8               3062.0                  34.047749                 -118.243172   \n",
       "9               3082.0                  34.046520                 -118.237411   \n",
       "\n",
       "   Ending Station ID  Ending Station Latitude  Ending Station Longitude  \\\n",
       "0             3000.0                      NaN                       NaN   \n",
       "1             3000.0                      NaN                       NaN   \n",
       "2             3000.0                      NaN                       NaN   \n",
       "3             3000.0                      NaN                       NaN   \n",
       "4             3000.0                      NaN                       NaN   \n",
       "5                NaN                      NaN                       NaN   \n",
       "6             3000.0                      NaN                       NaN   \n",
       "7             3000.0                      NaN                       NaN   \n",
       "8             3000.0                      NaN                       NaN   \n",
       "9             3000.0                      NaN                       NaN   \n",
       "\n",
       "       ...        Trip Route Category  Passholder Type Starting Lat-Long  \\\n",
       "0      ...                    One Way          Walk-up               NaN   \n",
       "1      ...                    One Way     Monthly Pass               NaN   \n",
       "2      ...                    One Way          Walk-up               NaN   \n",
       "3      ...                    One Way          Walk-up               NaN   \n",
       "4      ...                    One Way        Flex Pass               NaN   \n",
       "5      ...                    One Way     Staff Annual               NaN   \n",
       "6      ...                    One Way          Walk-up               NaN   \n",
       "7      ...                    One Way          Walk-up               NaN   \n",
       "8      ...                    One Way          Walk-up               NaN   \n",
       "9      ...                    One Way     Monthly Pass               NaN   \n",
       "\n",
       "  Ending Lat-Long Neighborhood Councils (Certified) Council Districts  \\\n",
       "0             NaN                               NaN               NaN   \n",
       "1             NaN                               NaN               NaN   \n",
       "2             NaN                               NaN               NaN   \n",
       "3             NaN                               NaN               NaN   \n",
       "4             NaN                               NaN               NaN   \n",
       "5             NaN                               NaN               NaN   \n",
       "6             NaN                               NaN               NaN   \n",
       "7             NaN                               NaN               NaN   \n",
       "8             NaN                               NaN               NaN   \n",
       "9             NaN                               NaN               NaN   \n",
       "\n",
       "   Zip Codes  LA Specific Plans  Precinct Boundaries  Census Tracts  \n",
       "0        NaN                NaN                  NaN            NaN  \n",
       "1        NaN                NaN                  NaN            NaN  \n",
       "2        NaN                NaN                  NaN            NaN  \n",
       "3        NaN                NaN                  NaN            NaN  \n",
       "4        NaN                NaN                  NaN            NaN  \n",
       "5        NaN                NaN                  NaN            NaN  \n",
       "6        NaN                NaN                  NaN            NaN  \n",
       "7        NaN                NaN                  NaN            NaN  \n",
       "8        NaN                NaN                  NaN            NaN  \n",
       "9        NaN                NaN                  NaN            NaN  \n",
       "\n",
       "[10 rows x 22 columns]"
      ]
     },
     "execution_count": 244,
     "metadata": {},
     "output_type": "execute_result"
    }
   ],
   "source": [
    "df=pd.read_csv('metro-bike-share-trip-data.csv')\n",
    "df.head(10)"
   ]
  },
  {
   "cell_type": "code",
   "execution_count": 245,
   "metadata": {
    "scrolled": true
   },
   "outputs": [
    {
     "data": {
      "text/plain": [
       "(132427, 22)"
      ]
     },
     "execution_count": 245,
     "metadata": {},
     "output_type": "execute_result"
    }
   ],
   "source": [
    "df.shape"
   ]
  },
  {
   "cell_type": "markdown",
   "metadata": {},
   "source": [
    "Feature descriptions from https://bikeshare.metro.net/about/data/\n",
    "\n",
    "<b>trip_id:</b> Locally unique integer that identifies the trip\n",
    "\n",
    "<b>duration:</b> Length of trip in <i> minutes*</i>\n",
    "\n",
    "<b>start_time:</b> The date/time when the trip began, presented in ISO 8601 format in local time\n",
    "\n",
    "<b>end_time: </b>The date/time when the trip ended, presented in ISO 8601 format in local time\n",
    "\n",
    "<b>start_station:</b> The station ID where the trip originated \n",
    "\n",
    "<b>start_lat:</b> The latitude of the station where the trip originated\n",
    "\n",
    "<b>start_lon: </b>The longitude of the station where the trip originated\n",
    "\n",
    "<b>end_station: </b>The station ID where the trip terminated \n",
    "\n",
    "<b>end_lat: </b>The latitude of the station where the trip terminated\n",
    "\n",
    "<b>end_lon: </b>The longitude of the station where the trip terminated\n",
    "\n",
    "<b>bike_id: </b> Locally unique integer that identifies the bike\n",
    "    \n",
    "<b>plan_duration: </b>The number of days that the plan the passholder is using entitles them to ride; 0 is used for a single ride plan (Walk-up)\n",
    "\n",
    "<b>trip_route_category:</b> \"Round Trip\" for trips starting and ending at the same station or \"One Way\" for all other trips\n",
    "\n",
    "<b>passholder_type: </b>The name of the passholder's plan\n",
    "\n",
    "*units are actually in but each instance is a multiple of 60 i.e. a whole minute number. We will convert this to minutes\n",
    "\n",
    "Other features are not officially described by Metro Bike Share\n",
    "\n",
    "Starting Lat-Long and Ending Lat-Long appear to be repetitions of previous station data and can be dropped safely\n",
    "\n",
    "Remaining features appear to be LA geographic information not relevant to this study, many of which include large amounts of missing data. These will  also be dropped."
   ]
  },
  {
   "cell_type": "code",
   "execution_count": 246,
   "metadata": {
    "scrolled": false
   },
   "outputs": [
    {
     "name": "stdout",
     "output_type": "stream",
     "text": [
      "<class 'pandas.core.frame.DataFrame'>\n",
      "RangeIndex: 132427 entries, 0 to 132426\n",
      "Data columns (total 22 columns):\n",
      "Trip ID                              132427 non-null int64\n",
      "Duration                             132427 non-null int64\n",
      "Start Time                           132427 non-null object\n",
      "End Time                             132427 non-null object\n",
      "Starting Station ID                  132408 non-null float64\n",
      "Starting Station Latitude            132379 non-null float64\n",
      "Starting Station Longitude           132379 non-null float64\n",
      "Ending Station ID                    132331 non-null float64\n",
      "Ending Station Latitude              131376 non-null float64\n",
      "Ending Station Longitude             131376 non-null float64\n",
      "Bike ID                              132417 non-null float64\n",
      "Plan Duration                        131661 non-null float64\n",
      "Trip Route Category                  132427 non-null object\n",
      "Passholder Type                      132427 non-null object\n",
      "Starting Lat-Long                    98622 non-null object\n",
      "Ending Lat-Long                      131376 non-null object\n",
      "Neighborhood Councils (Certified)    98590 non-null float64\n",
      "Council Districts                    98590 non-null float64\n",
      "Zip Codes                            98590 non-null float64\n",
      "LA Specific Plans                    15837 non-null float64\n",
      "Precinct Boundaries                  131328 non-null float64\n",
      "Census Tracts                        131328 non-null float64\n",
      "dtypes: float64(14), int64(2), object(6)\n",
      "memory usage: 22.2+ MB\n"
     ]
    }
   ],
   "source": [
    "df.info()"
   ]
  },
  {
   "cell_type": "code",
   "execution_count": 247,
   "metadata": {
    "scrolled": true
   },
   "outputs": [
    {
     "data": {
      "text/plain": [
       "Trip ID                                   0\n",
       "Duration                                  0\n",
       "Start Time                                0\n",
       "End Time                                  0\n",
       "Starting Station ID                      19\n",
       "Starting Station Latitude                48\n",
       "Starting Station Longitude               48\n",
       "Ending Station ID                        96\n",
       "Ending Station Latitude                1051\n",
       "Ending Station Longitude               1051\n",
       "Bike ID                                  10\n",
       "Plan Duration                           766\n",
       "Trip Route Category                       0\n",
       "Passholder Type                           0\n",
       "Starting Lat-Long                     33805\n",
       "Ending Lat-Long                        1051\n",
       "Neighborhood Councils (Certified)     33837\n",
       "Council Districts                     33837\n",
       "Zip Codes                             33837\n",
       "LA Specific Plans                    116590\n",
       "Precinct Boundaries                    1099\n",
       "Census Tracts                          1099\n",
       "dtype: int64"
      ]
     },
     "execution_count": 247,
     "metadata": {},
     "output_type": "execute_result"
    }
   ],
   "source": [
    "df.isna().sum()"
   ]
  },
  {
   "cell_type": "code",
   "execution_count": 248,
   "metadata": {},
   "outputs": [],
   "source": [
    "df.drop(columns=['Starting Lat-Long',\n",
    "                 'Ending Lat-Long',\n",
    "                 'Neighborhood Councils (Certified)',\n",
    "                 'Council Districts',\n",
    "                 'Zip Codes',\n",
    "                 'LA Specific Plans',\n",
    "                 'Precinct Boundaries',\n",
    "                 'Census Tracts'],\n",
    "       inplace=True)\n",
    "df.Duration=df.Duration/60"
   ]
  },
  {
   "cell_type": "code",
   "execution_count": 249,
   "metadata": {},
   "outputs": [
    {
     "data": {
      "text/html": [
       "<div>\n",
       "<style scoped>\n",
       "    .dataframe tbody tr th:only-of-type {\n",
       "        vertical-align: middle;\n",
       "    }\n",
       "\n",
       "    .dataframe tbody tr th {\n",
       "        vertical-align: top;\n",
       "    }\n",
       "\n",
       "    .dataframe thead th {\n",
       "        text-align: right;\n",
       "    }\n",
       "</style>\n",
       "<table border=\"1\" class=\"dataframe\">\n",
       "  <thead>\n",
       "    <tr style=\"text-align: right;\">\n",
       "      <th></th>\n",
       "      <th>Trip ID</th>\n",
       "      <th>Duration</th>\n",
       "      <th>Start Time</th>\n",
       "      <th>End Time</th>\n",
       "      <th>Starting Station ID</th>\n",
       "      <th>Starting Station Latitude</th>\n",
       "      <th>Starting Station Longitude</th>\n",
       "      <th>Ending Station ID</th>\n",
       "      <th>Ending Station Latitude</th>\n",
       "      <th>Ending Station Longitude</th>\n",
       "      <th>Bike ID</th>\n",
       "      <th>Plan Duration</th>\n",
       "      <th>Trip Route Category</th>\n",
       "      <th>Passholder Type</th>\n",
       "    </tr>\n",
       "  </thead>\n",
       "  <tbody>\n",
       "    <tr>\n",
       "      <th>0</th>\n",
       "      <td>18222186</td>\n",
       "      <td>251.0</td>\n",
       "      <td>2017-01-19T17:05:00.000</td>\n",
       "      <td>2017-01-19T21:16:00.000</td>\n",
       "      <td>3031.0</td>\n",
       "      <td>34.044701</td>\n",
       "      <td>-118.252441</td>\n",
       "      <td>3000.0</td>\n",
       "      <td>NaN</td>\n",
       "      <td>NaN</td>\n",
       "      <td>5944.0</td>\n",
       "      <td>0.0</td>\n",
       "      <td>One Way</td>\n",
       "      <td>Walk-up</td>\n",
       "    </tr>\n",
       "    <tr>\n",
       "      <th>1</th>\n",
       "      <td>9518671</td>\n",
       "      <td>1286.0</td>\n",
       "      <td>2016-10-09T14:37:00.000</td>\n",
       "      <td>2016-10-10T12:03:00.000</td>\n",
       "      <td>NaN</td>\n",
       "      <td>NaN</td>\n",
       "      <td>NaN</td>\n",
       "      <td>3000.0</td>\n",
       "      <td>NaN</td>\n",
       "      <td>NaN</td>\n",
       "      <td>6603.0</td>\n",
       "      <td>30.0</td>\n",
       "      <td>One Way</td>\n",
       "      <td>Monthly Pass</td>\n",
       "    </tr>\n",
       "    <tr>\n",
       "      <th>2</th>\n",
       "      <td>20444932</td>\n",
       "      <td>1440.0</td>\n",
       "      <td>2017-02-18T10:15:00.000</td>\n",
       "      <td>2017-02-20T15:20:00.000</td>\n",
       "      <td>3026.0</td>\n",
       "      <td>34.063179</td>\n",
       "      <td>-118.245880</td>\n",
       "      <td>3000.0</td>\n",
       "      <td>NaN</td>\n",
       "      <td>NaN</td>\n",
       "      <td>5879.0</td>\n",
       "      <td>0.0</td>\n",
       "      <td>One Way</td>\n",
       "      <td>Walk-up</td>\n",
       "    </tr>\n",
       "    <tr>\n",
       "      <th>3</th>\n",
       "      <td>20905031</td>\n",
       "      <td>314.0</td>\n",
       "      <td>2017-02-27T12:26:00.000</td>\n",
       "      <td>2017-02-27T17:40:00.000</td>\n",
       "      <td>3023.0</td>\n",
       "      <td>34.050911</td>\n",
       "      <td>-118.240967</td>\n",
       "      <td>3000.0</td>\n",
       "      <td>NaN</td>\n",
       "      <td>NaN</td>\n",
       "      <td>6056.0</td>\n",
       "      <td>0.0</td>\n",
       "      <td>One Way</td>\n",
       "      <td>Walk-up</td>\n",
       "    </tr>\n",
       "    <tr>\n",
       "      <th>4</th>\n",
       "      <td>21031476</td>\n",
       "      <td>1440.0</td>\n",
       "      <td>2017-02-27T20:26:00.000</td>\n",
       "      <td>2017-03-01T09:49:00.000</td>\n",
       "      <td>3008.0</td>\n",
       "      <td>34.046612</td>\n",
       "      <td>-118.262733</td>\n",
       "      <td>3000.0</td>\n",
       "      <td>NaN</td>\n",
       "      <td>NaN</td>\n",
       "      <td>6054.0</td>\n",
       "      <td>365.0</td>\n",
       "      <td>One Way</td>\n",
       "      <td>Flex Pass</td>\n",
       "    </tr>\n",
       "  </tbody>\n",
       "</table>\n",
       "</div>"
      ],
      "text/plain": [
       "    Trip ID  Duration               Start Time                 End Time  \\\n",
       "0  18222186     251.0  2017-01-19T17:05:00.000  2017-01-19T21:16:00.000   \n",
       "1   9518671    1286.0  2016-10-09T14:37:00.000  2016-10-10T12:03:00.000   \n",
       "2  20444932    1440.0  2017-02-18T10:15:00.000  2017-02-20T15:20:00.000   \n",
       "3  20905031     314.0  2017-02-27T12:26:00.000  2017-02-27T17:40:00.000   \n",
       "4  21031476    1440.0  2017-02-27T20:26:00.000  2017-03-01T09:49:00.000   \n",
       "\n",
       "   Starting Station ID  Starting Station Latitude  Starting Station Longitude  \\\n",
       "0               3031.0                  34.044701                 -118.252441   \n",
       "1                  NaN                        NaN                         NaN   \n",
       "2               3026.0                  34.063179                 -118.245880   \n",
       "3               3023.0                  34.050911                 -118.240967   \n",
       "4               3008.0                  34.046612                 -118.262733   \n",
       "\n",
       "   Ending Station ID  Ending Station Latitude  Ending Station Longitude  \\\n",
       "0             3000.0                      NaN                       NaN   \n",
       "1             3000.0                      NaN                       NaN   \n",
       "2             3000.0                      NaN                       NaN   \n",
       "3             3000.0                      NaN                       NaN   \n",
       "4             3000.0                      NaN                       NaN   \n",
       "\n",
       "   Bike ID  Plan Duration Trip Route Category Passholder Type  \n",
       "0   5944.0            0.0             One Way         Walk-up  \n",
       "1   6603.0           30.0             One Way    Monthly Pass  \n",
       "2   5879.0            0.0             One Way         Walk-up  \n",
       "3   6056.0            0.0             One Way         Walk-up  \n",
       "4   6054.0          365.0             One Way       Flex Pass  "
      ]
     },
     "execution_count": 249,
     "metadata": {},
     "output_type": "execute_result"
    }
   ],
   "source": [
    "df.head()"
   ]
  },
  {
   "cell_type": "markdown",
   "metadata": {},
   "source": [
    "Trip ID can be used is a unique identifier and can be used as an index for this data.\n",
    "\n",
    "Remaining features had little missing data the largest source being just 1051 missing cells from over 132,000. Rows with missing data can be safely dropped from the datasets.\n",
    "\n",
    "Start Time and End Time will be converted to time series data types"
   ]
  },
  {
   "cell_type": "code",
   "execution_count": 250,
   "metadata": {},
   "outputs": [
    {
     "data": {
      "text/html": [
       "<div>\n",
       "<style scoped>\n",
       "    .dataframe tbody tr th:only-of-type {\n",
       "        vertical-align: middle;\n",
       "    }\n",
       "\n",
       "    .dataframe tbody tr th {\n",
       "        vertical-align: top;\n",
       "    }\n",
       "\n",
       "    .dataframe thead th {\n",
       "        text-align: right;\n",
       "    }\n",
       "</style>\n",
       "<table border=\"1\" class=\"dataframe\">\n",
       "  <thead>\n",
       "    <tr style=\"text-align: right;\">\n",
       "      <th></th>\n",
       "      <th>Duration</th>\n",
       "      <th>Start Time</th>\n",
       "      <th>End Time</th>\n",
       "      <th>Starting Station ID</th>\n",
       "      <th>Starting Station Latitude</th>\n",
       "      <th>Starting Station Longitude</th>\n",
       "      <th>Ending Station ID</th>\n",
       "      <th>Ending Station Latitude</th>\n",
       "      <th>Ending Station Longitude</th>\n",
       "      <th>Bike ID</th>\n",
       "      <th>Plan Duration</th>\n",
       "      <th>Trip Route Category</th>\n",
       "      <th>Passholder Type</th>\n",
       "    </tr>\n",
       "    <tr>\n",
       "      <th>Trip ID</th>\n",
       "      <th></th>\n",
       "      <th></th>\n",
       "      <th></th>\n",
       "      <th></th>\n",
       "      <th></th>\n",
       "      <th></th>\n",
       "      <th></th>\n",
       "      <th></th>\n",
       "      <th></th>\n",
       "      <th></th>\n",
       "      <th></th>\n",
       "      <th></th>\n",
       "      <th></th>\n",
       "    </tr>\n",
       "  </thead>\n",
       "  <tbody>\n",
       "    <tr>\n",
       "      <th>17848847</th>\n",
       "      <td>8.0</td>\n",
       "      <td>2017-01-13 21:32:00</td>\n",
       "      <td>2017-01-13 21:40:00</td>\n",
       "      <td>3082.0</td>\n",
       "      <td>34.046520</td>\n",
       "      <td>-118.237411</td>\n",
       "      <td>3036.0</td>\n",
       "      <td>34.039188</td>\n",
       "      <td>-118.232529</td>\n",
       "      <td>6474.0</td>\n",
       "      <td>0.0</td>\n",
       "      <td>One Way</td>\n",
       "      <td>Walk-up</td>\n",
       "    </tr>\n",
       "    <tr>\n",
       "      <th>20700706</th>\n",
       "      <td>9.0</td>\n",
       "      <td>2017-02-24 23:13:00</td>\n",
       "      <td>2017-02-24 23:22:00</td>\n",
       "      <td>3029.0</td>\n",
       "      <td>34.048851</td>\n",
       "      <td>-118.246422</td>\n",
       "      <td>3082.0</td>\n",
       "      <td>34.046520</td>\n",
       "      <td>-118.237411</td>\n",
       "      <td>5794.0</td>\n",
       "      <td>30.0</td>\n",
       "      <td>One Way</td>\n",
       "      <td>Monthly Pass</td>\n",
       "    </tr>\n",
       "    <tr>\n",
       "      <th>20595730</th>\n",
       "      <td>14.0</td>\n",
       "      <td>2017-02-23 07:34:00</td>\n",
       "      <td>2017-02-23 07:48:00</td>\n",
       "      <td>3022.0</td>\n",
       "      <td>34.046070</td>\n",
       "      <td>-118.233093</td>\n",
       "      <td>3005.0</td>\n",
       "      <td>34.048550</td>\n",
       "      <td>-118.259048</td>\n",
       "      <td>6604.0</td>\n",
       "      <td>30.0</td>\n",
       "      <td>One Way</td>\n",
       "      <td>Monthly Pass</td>\n",
       "    </tr>\n",
       "    <tr>\n",
       "      <th>17307719</th>\n",
       "      <td>7.0</td>\n",
       "      <td>2017-01-05 12:04:00</td>\n",
       "      <td>2017-01-05 12:11:00</td>\n",
       "      <td>3059.0</td>\n",
       "      <td>34.037949</td>\n",
       "      <td>-118.256271</td>\n",
       "      <td>3038.0</td>\n",
       "      <td>34.046822</td>\n",
       "      <td>-118.248352</td>\n",
       "      <td>6035.0</td>\n",
       "      <td>30.0</td>\n",
       "      <td>One Way</td>\n",
       "      <td>Monthly Pass</td>\n",
       "    </tr>\n",
       "    <tr>\n",
       "      <th>18941656</th>\n",
       "      <td>14.0</td>\n",
       "      <td>2017-01-30 20:19:00</td>\n",
       "      <td>2017-01-30 20:33:00</td>\n",
       "      <td>3035.0</td>\n",
       "      <td>34.048401</td>\n",
       "      <td>-118.260948</td>\n",
       "      <td>3040.0</td>\n",
       "      <td>34.053570</td>\n",
       "      <td>-118.266357</td>\n",
       "      <td>6728.0</td>\n",
       "      <td>0.0</td>\n",
       "      <td>One Way</td>\n",
       "      <td>Walk-up</td>\n",
       "    </tr>\n",
       "  </tbody>\n",
       "</table>\n",
       "</div>"
      ],
      "text/plain": [
       "          Duration          Start Time            End Time  \\\n",
       "Trip ID                                                      \n",
       "17848847       8.0 2017-01-13 21:32:00 2017-01-13 21:40:00   \n",
       "20700706       9.0 2017-02-24 23:13:00 2017-02-24 23:22:00   \n",
       "20595730      14.0 2017-02-23 07:34:00 2017-02-23 07:48:00   \n",
       "17307719       7.0 2017-01-05 12:04:00 2017-01-05 12:11:00   \n",
       "18941656      14.0 2017-01-30 20:19:00 2017-01-30 20:33:00   \n",
       "\n",
       "          Starting Station ID  Starting Station Latitude  \\\n",
       "Trip ID                                                    \n",
       "17848847               3082.0                  34.046520   \n",
       "20700706               3029.0                  34.048851   \n",
       "20595730               3022.0                  34.046070   \n",
       "17307719               3059.0                  34.037949   \n",
       "18941656               3035.0                  34.048401   \n",
       "\n",
       "          Starting Station Longitude  Ending Station ID  \\\n",
       "Trip ID                                                   \n",
       "17848847                 -118.237411             3036.0   \n",
       "20700706                 -118.246422             3082.0   \n",
       "20595730                 -118.233093             3005.0   \n",
       "17307719                 -118.256271             3038.0   \n",
       "18941656                 -118.260948             3040.0   \n",
       "\n",
       "          Ending Station Latitude  Ending Station Longitude  Bike ID  \\\n",
       "Trip ID                                                                \n",
       "17848847                34.039188               -118.232529   6474.0   \n",
       "20700706                34.046520               -118.237411   5794.0   \n",
       "20595730                34.048550               -118.259048   6604.0   \n",
       "17307719                34.046822               -118.248352   6035.0   \n",
       "18941656                34.053570               -118.266357   6728.0   \n",
       "\n",
       "          Plan Duration Trip Route Category Passholder Type  \n",
       "Trip ID                                                      \n",
       "17848847            0.0             One Way         Walk-up  \n",
       "20700706           30.0             One Way    Monthly Pass  \n",
       "20595730           30.0             One Way    Monthly Pass  \n",
       "17307719           30.0             One Way    Monthly Pass  \n",
       "18941656            0.0             One Way         Walk-up  "
      ]
     },
     "execution_count": 250,
     "metadata": {},
     "output_type": "execute_result"
    }
   ],
   "source": [
    "df.set_index('Trip ID', inplace=True)\n",
    "df.dropna(inplace=True)\n",
    "df['Start Time']= pd.to_datetime(df['Start Time'])\n",
    "df['End Time']=pd.to_datetime(df['End Time'])\n",
    "df.head()"
   ]
  },
  {
   "cell_type": "markdown",
   "metadata": {},
   "source": [
    "Lets inspect the categorical features of Bike ID, Plan Duration, Trip Route Category, Passholder Type"
   ]
  },
  {
   "cell_type": "code",
   "execution_count": 251,
   "metadata": {
    "scrolled": true
   },
   "outputs": [
    {
     "data": {
      "text/plain": [
       "One Way       118070\n",
       "Round Trip     12645\n",
       "Name: Trip Route Category, dtype: int64"
      ]
     },
     "execution_count": 251,
     "metadata": {},
     "output_type": "execute_result"
    }
   ],
   "source": [
    "df['Trip Route Category'].value_counts()"
   ]
  },
  {
   "cell_type": "code",
   "execution_count": 252,
   "metadata": {},
   "outputs": [
    {
     "data": {
      "text/plain": [
       "One Way       0.903263\n",
       "Round Trip    0.096737\n",
       "Name: Trip Route Category, dtype: float64"
      ]
     },
     "execution_count": 252,
     "metadata": {},
     "output_type": "execute_result"
    }
   ],
   "source": [
    "df['Trip Route Category'].value_counts(normalize=True)"
   ]
  },
  {
   "cell_type": "markdown",
   "metadata": {},
   "source": [
    "Over 90% of trips are One Way, the bike is picked up at one Station and ridden to another Station. The rider is getting from one place to another, using the bike as a legit mode of transport"
   ]
  },
  {
   "cell_type": "code",
   "execution_count": 253,
   "metadata": {
    "scrolled": true
   },
   "outputs": [
    {
     "data": {
      "text/plain": [
       "Monthly Pass    80493\n",
       "Walk-up         40756\n",
       "Flex Pass        9466\n",
       "Name: Passholder Type, dtype: int64"
      ]
     },
     "execution_count": 253,
     "metadata": {},
     "output_type": "execute_result"
    }
   ],
   "source": [
    "df['Passholder Type'].value_counts()"
   ]
  },
  {
   "cell_type": "code",
   "execution_count": 254,
   "metadata": {},
   "outputs": [
    {
     "data": {
      "text/plain": [
       "30.0     80493\n",
       "0.0      40756\n",
       "365.0     9466\n",
       "Name: Plan Duration, dtype: int64"
      ]
     },
     "execution_count": 254,
     "metadata": {},
     "output_type": "execute_result"
    }
   ],
   "source": [
    "df['Plan Duration'].value_counts()"
   ]
  },
  {
   "cell_type": "markdown",
   "metadata": {},
   "source": [
    "Plan Duration and Passholder Type appear to be displaying the same data in 2 different fashions\n",
    "30 == Monthly Pass \n",
    "0 == Walk-up\n",
    "365 == Flex Pass\n",
    "Having this feature exist twice is unnecessary, so lets drop Plan Duration"
   ]
  },
  {
   "cell_type": "code",
   "execution_count": 255,
   "metadata": {},
   "outputs": [],
   "source": [
    "df.drop(columns=['Plan Duration'],inplace=True)"
   ]
  },
  {
   "cell_type": "code",
   "execution_count": 256,
   "metadata": {},
   "outputs": [
    {
     "data": {
      "text/plain": [
       "762"
      ]
     },
     "execution_count": 256,
     "metadata": {},
     "output_type": "execute_result"
    }
   ],
   "source": [
    "len(df['Bike ID'].unique())"
   ]
  },
  {
   "cell_type": "markdown",
   "metadata": {},
   "source": [
    "762 individual bikes in the system"
   ]
  },
  {
   "cell_type": "code",
   "execution_count": 257,
   "metadata": {},
   "outputs": [
    {
     "data": {
      "text/plain": [
       "<matplotlib.axes._subplots.AxesSubplot at 0x1e0ba8994e0>"
      ]
     },
     "execution_count": 257,
     "metadata": {},
     "output_type": "execute_result"
    },
    {
     "data": {
      "image/png": "[encoded data removed]",
      "text/plain": [
       "<Figure size 432x288 with 1 Axes>"
      ]
     },
     "metadata": {
      "needs_background": "light"
     },
     "output_type": "display_data"
    }
   ],
   "source": [
    "df['Bike ID'].value_counts().hist()"
   ]
  },
  {
   "cell_type": "markdown",
   "metadata": {},
   "source": [
    "Distribution of Bike usage appears normal indicating the bikes are all used randomly. This is to be expected"
   ]
  },
  {
   "cell_type": "code",
   "execution_count": 258,
   "metadata": {
    "scrolled": false
   },
   "outputs": [
    {
     "data": {
      "text/html": [
       "<div>\n",
       "<style scoped>\n",
       "    .dataframe tbody tr th:only-of-type {\n",
       "        vertical-align: middle;\n",
       "    }\n",
       "\n",
       "    .dataframe tbody tr th {\n",
       "        vertical-align: top;\n",
       "    }\n",
       "\n",
       "    .dataframe thead th {\n",
       "        text-align: right;\n",
       "    }\n",
       "</style>\n",
       "<table border=\"1\" class=\"dataframe\">\n",
       "  <thead>\n",
       "    <tr style=\"text-align: right;\">\n",
       "      <th></th>\n",
       "      <th>Duration</th>\n",
       "      <th>Starting Station ID</th>\n",
       "      <th>Starting Station Latitude</th>\n",
       "      <th>Starting Station Longitude</th>\n",
       "      <th>Ending Station ID</th>\n",
       "      <th>Ending Station Latitude</th>\n",
       "      <th>Ending Station Longitude</th>\n",
       "      <th>Bike ID</th>\n",
       "    </tr>\n",
       "  </thead>\n",
       "  <tbody>\n",
       "    <tr>\n",
       "      <th>count</th>\n",
       "      <td>130715.000000</td>\n",
       "      <td>130715.000000</td>\n",
       "      <td>130715.000000</td>\n",
       "      <td>130715.000000</td>\n",
       "      <td>130715.000000</td>\n",
       "      <td>130715.000000</td>\n",
       "      <td>130715.000000</td>\n",
       "      <td>130715.000000</td>\n",
       "    </tr>\n",
       "    <tr>\n",
       "      <th>mean</th>\n",
       "      <td>22.587155</td>\n",
       "      <td>3042.568756</td>\n",
       "      <td>34.039216</td>\n",
       "      <td>-118.221176</td>\n",
       "      <td>3041.993597</td>\n",
       "      <td>34.034566</td>\n",
       "      <td>-118.206420</td>\n",
       "      <td>6193.698114</td>\n",
       "    </tr>\n",
       "    <tr>\n",
       "      <th>std</th>\n",
       "      <td>77.840790</td>\n",
       "      <td>30.970158</td>\n",
       "      <td>0.532694</td>\n",
       "      <td>1.849996</td>\n",
       "      <td>33.546514</td>\n",
       "      <td>0.652348</td>\n",
       "      <td>2.265617</td>\n",
       "      <td>293.303470</td>\n",
       "    </tr>\n",
       "    <tr>\n",
       "      <th>min</th>\n",
       "      <td>1.000000</td>\n",
       "      <td>3005.000000</td>\n",
       "      <td>0.000000</td>\n",
       "      <td>-118.472832</td>\n",
       "      <td>3005.000000</td>\n",
       "      <td>0.000000</td>\n",
       "      <td>-118.472832</td>\n",
       "      <td>4727.000000</td>\n",
       "    </tr>\n",
       "    <tr>\n",
       "      <th>25%</th>\n",
       "      <td>6.000000</td>\n",
       "      <td>3024.000000</td>\n",
       "      <td>34.044170</td>\n",
       "      <td>-118.256980</td>\n",
       "      <td>3023.000000</td>\n",
       "      <td>34.044159</td>\n",
       "      <td>-118.256981</td>\n",
       "      <td>5953.000000</td>\n",
       "    </tr>\n",
       "    <tr>\n",
       "      <th>50%</th>\n",
       "      <td>10.000000</td>\n",
       "      <td>3039.000000</td>\n",
       "      <td>34.046822</td>\n",
       "      <td>-118.250954</td>\n",
       "      <td>3038.000000</td>\n",
       "      <td>34.046810</td>\n",
       "      <td>-118.250954</td>\n",
       "      <td>6186.000000</td>\n",
       "    </tr>\n",
       "    <tr>\n",
       "      <th>75%</th>\n",
       "      <td>18.000000</td>\n",
       "      <td>3063.000000</td>\n",
       "      <td>34.050880</td>\n",
       "      <td>-118.241562</td>\n",
       "      <td>3063.000000</td>\n",
       "      <td>34.050480</td>\n",
       "      <td>-118.238810</td>\n",
       "      <td>6434.000000</td>\n",
       "    </tr>\n",
       "    <tr>\n",
       "      <th>max</th>\n",
       "      <td>1440.000000</td>\n",
       "      <td>4108.000000</td>\n",
       "      <td>34.064281</td>\n",
       "      <td>0.000000</td>\n",
       "      <td>4108.000000</td>\n",
       "      <td>34.064281</td>\n",
       "      <td>0.000000</td>\n",
       "      <td>6728.000000</td>\n",
       "    </tr>\n",
       "  </tbody>\n",
       "</table>\n",
       "</div>"
      ],
      "text/plain": [
       "            Duration  Starting Station ID  Starting Station Latitude  \\\n",
       "count  130715.000000        130715.000000              130715.000000   \n",
       "mean       22.587155          3042.568756                  34.039216   \n",
       "std        77.840790            30.970158                   0.532694   \n",
       "min         1.000000          3005.000000                   0.000000   \n",
       "25%         6.000000          3024.000000                  34.044170   \n",
       "50%        10.000000          3039.000000                  34.046822   \n",
       "75%        18.000000          3063.000000                  34.050880   \n",
       "max      1440.000000          4108.000000                  34.064281   \n",
       "\n",
       "       Starting Station Longitude  Ending Station ID  Ending Station Latitude  \\\n",
       "count               130715.000000      130715.000000            130715.000000   \n",
       "mean                  -118.221176        3041.993597                34.034566   \n",
       "std                      1.849996          33.546514                 0.652348   \n",
       "min                   -118.472832        3005.000000                 0.000000   \n",
       "25%                   -118.256980        3023.000000                34.044159   \n",
       "50%                   -118.250954        3038.000000                34.046810   \n",
       "75%                   -118.241562        3063.000000                34.050480   \n",
       "max                      0.000000        4108.000000                34.064281   \n",
       "\n",
       "       Ending Station Longitude        Bike ID  \n",
       "count             130715.000000  130715.000000  \n",
       "mean                -118.206420    6193.698114  \n",
       "std                    2.265617     293.303470  \n",
       "min                 -118.472832    4727.000000  \n",
       "25%                 -118.256981    5953.000000  \n",
       "50%                 -118.250954    6186.000000  \n",
       "75%                 -118.238810    6434.000000  \n",
       "max                    0.000000    6728.000000  "
      ]
     },
     "execution_count": 258,
     "metadata": {},
     "output_type": "execute_result"
    }
   ],
   "source": [
    "df.describe()"
   ]
  },
  {
   "cell_type": "markdown",
   "metadata": {},
   "source": [
    "Starting Station Latitude, Starting Station Longitude, Ending Station Latitude & Ending Station Longitude contain zeros that must be treated as missing data. However, there are no zeros or any remaining missing values in Starting Station ID or Ending Station ID, we can use these values to umpute the missing data"
   ]
  },
  {
   "cell_type": "code",
   "execution_count": 259,
   "metadata": {
    "scrolled": true
   },
   "outputs": [
    {
     "data": {
      "text/plain": [
       "4108.0    32\n",
       "Name: Starting Station ID, dtype: int64"
      ]
     },
     "execution_count": 259,
     "metadata": {},
     "output_type": "execute_result"
    }
   ],
   "source": [
    "df.loc[df['Starting Station Latitude']==0]['Starting Station ID'].value_counts()"
   ]
  },
  {
   "cell_type": "code",
   "execution_count": 260,
   "metadata": {},
   "outputs": [
    {
     "data": {
      "text/plain": [
       "4108.0    32\n",
       "Name: Starting Station ID, dtype: int64"
      ]
     },
     "execution_count": 260,
     "metadata": {},
     "output_type": "execute_result"
    }
   ],
   "source": [
    "df.loc[df['Starting Station Longitude']==0]['Starting Station ID'].value_counts()"
   ]
  },
  {
   "cell_type": "code",
   "execution_count": 261,
   "metadata": {},
   "outputs": [
    {
     "data": {
      "text/plain": [
       "4108.0    48\n",
       "Name: Ending Station ID, dtype: int64"
      ]
     },
     "execution_count": 261,
     "metadata": {},
     "output_type": "execute_result"
    }
   ],
   "source": [
    "df.loc[df['Ending Station Latitude']==0]['Ending Station ID'].value_counts()"
   ]
  },
  {
   "cell_type": "code",
   "execution_count": 262,
   "metadata": {},
   "outputs": [
    {
     "data": {
      "text/plain": [
       "4108.0    48\n",
       "Name: Ending Station ID, dtype: int64"
      ]
     },
     "execution_count": 262,
     "metadata": {},
     "output_type": "execute_result"
    }
   ],
   "source": [
    "df.loc[df['Ending Station Longitude']==0]['Ending Station ID'].value_counts()"
   ]
  },
  {
   "cell_type": "markdown",
   "metadata": {},
   "source": [
    "All of the zeros were recorded at Bike Station 4108, there may be some kind of error related to this particular Bike Station. The values of this bike station's latitude and Longitude can be found in any of the complete values and imputed over the zeros"
   ]
  },
  {
   "cell_type": "code",
   "execution_count": 263,
   "metadata": {},
   "outputs": [],
   "source": [
    "stat_4108_lat= df.loc[df['Starting Station ID']==4108]['Starting Station Latitude'].max() #use max to avoid the zeros\n",
    "stat_4108_long= df.loc[df['Starting Station ID']==4108]['Starting Station Longitude'].min()\n",
    " #all non-zeroes are the same anyway no need to find and replace\n",
    "df['Starting Station Latitude'].replace(0,stat_4108_lat,inplace=True)\n",
    "df['Ending Station Latitude'].replace(0,stat_4108_lat,inplace=True)\n",
    "df['Starting Station Longitude'].replace(0,stat_4108_long,inplace=True)\n",
    "df['Ending Station Longitude'].replace(0,stat_4108_long,inplace=True)"
   ]
  },
  {
   "cell_type": "code",
   "execution_count": 265,
   "metadata": {},
   "outputs": [
    {
     "data": {
      "text/html": [
       "<div>\n",
       "<style scoped>\n",
       "    .dataframe tbody tr th:only-of-type {\n",
       "        vertical-align: middle;\n",
       "    }\n",
       "\n",
       "    .dataframe tbody tr th {\n",
       "        vertical-align: top;\n",
       "    }\n",
       "\n",
       "    .dataframe thead th {\n",
       "        text-align: right;\n",
       "    }\n",
       "</style>\n",
       "<table border=\"1\" class=\"dataframe\">\n",
       "  <thead>\n",
       "    <tr style=\"text-align: right;\">\n",
       "      <th></th>\n",
       "      <th>Duration</th>\n",
       "      <th>Starting Station ID</th>\n",
       "      <th>Starting Station Latitude</th>\n",
       "      <th>Starting Station Longitude</th>\n",
       "      <th>Ending Station ID</th>\n",
       "      <th>Ending Station Latitude</th>\n",
       "      <th>Ending Station Longitude</th>\n",
       "      <th>Bike ID</th>\n",
       "    </tr>\n",
       "  </thead>\n",
       "  <tbody>\n",
       "    <tr>\n",
       "      <th>count</th>\n",
       "      <td>130715.000000</td>\n",
       "      <td>130715.000000</td>\n",
       "      <td>130715.000000</td>\n",
       "      <td>130715.000000</td>\n",
       "      <td>130715.000000</td>\n",
       "      <td>130715.000000</td>\n",
       "      <td>130715.000000</td>\n",
       "      <td>130715.000000</td>\n",
       "    </tr>\n",
       "    <tr>\n",
       "      <th>mean</th>\n",
       "      <td>22.587155</td>\n",
       "      <td>3042.568756</td>\n",
       "      <td>34.047546</td>\n",
       "      <td>-118.250122</td>\n",
       "      <td>3041.993597</td>\n",
       "      <td>34.047060</td>\n",
       "      <td>-118.249839</td>\n",
       "      <td>6193.698114</td>\n",
       "    </tr>\n",
       "    <tr>\n",
       "      <th>std</th>\n",
       "      <td>77.840790</td>\n",
       "      <td>30.970158</td>\n",
       "      <td>0.006358</td>\n",
       "      <td>0.011475</td>\n",
       "      <td>33.546514</td>\n",
       "      <td>0.006277</td>\n",
       "      <td>0.011983</td>\n",
       "      <td>293.303470</td>\n",
       "    </tr>\n",
       "    <tr>\n",
       "      <th>min</th>\n",
       "      <td>1.000000</td>\n",
       "      <td>3005.000000</td>\n",
       "      <td>33.987381</td>\n",
       "      <td>-118.472832</td>\n",
       "      <td>3005.000000</td>\n",
       "      <td>33.987381</td>\n",
       "      <td>-118.472832</td>\n",
       "      <td>4727.000000</td>\n",
       "    </tr>\n",
       "    <tr>\n",
       "      <th>25%</th>\n",
       "      <td>6.000000</td>\n",
       "      <td>3024.000000</td>\n",
       "      <td>34.044170</td>\n",
       "      <td>-118.256980</td>\n",
       "      <td>3023.000000</td>\n",
       "      <td>34.044159</td>\n",
       "      <td>-118.256981</td>\n",
       "      <td>5953.000000</td>\n",
       "    </tr>\n",
       "    <tr>\n",
       "      <th>50%</th>\n",
       "      <td>10.000000</td>\n",
       "      <td>3039.000000</td>\n",
       "      <td>34.046822</td>\n",
       "      <td>-118.250954</td>\n",
       "      <td>3038.000000</td>\n",
       "      <td>34.046810</td>\n",
       "      <td>-118.250954</td>\n",
       "      <td>6186.000000</td>\n",
       "    </tr>\n",
       "    <tr>\n",
       "      <th>75%</th>\n",
       "      <td>18.000000</td>\n",
       "      <td>3063.000000</td>\n",
       "      <td>34.050880</td>\n",
       "      <td>-118.241562</td>\n",
       "      <td>3063.000000</td>\n",
       "      <td>34.050480</td>\n",
       "      <td>-118.238810</td>\n",
       "      <td>6434.000000</td>\n",
       "    </tr>\n",
       "    <tr>\n",
       "      <th>max</th>\n",
       "      <td>1440.000000</td>\n",
       "      <td>4108.000000</td>\n",
       "      <td>34.064281</td>\n",
       "      <td>-118.231277</td>\n",
       "      <td>4108.000000</td>\n",
       "      <td>34.064281</td>\n",
       "      <td>-118.231277</td>\n",
       "      <td>6728.000000</td>\n",
       "    </tr>\n",
       "  </tbody>\n",
       "</table>\n",
       "</div>"
      ],
      "text/plain": [
       "            Duration  Starting Station ID  Starting Station Latitude  \\\n",
       "count  130715.000000        130715.000000              130715.000000   \n",
       "mean       22.587155          3042.568756                  34.047546   \n",
       "std        77.840790            30.970158                   0.006358   \n",
       "min         1.000000          3005.000000                  33.987381   \n",
       "25%         6.000000          3024.000000                  34.044170   \n",
       "50%        10.000000          3039.000000                  34.046822   \n",
       "75%        18.000000          3063.000000                  34.050880   \n",
       "max      1440.000000          4108.000000                  34.064281   \n",
       "\n",
       "       Starting Station Longitude  Ending Station ID  Ending Station Latitude  \\\n",
       "count               130715.000000      130715.000000            130715.000000   \n",
       "mean                  -118.250122        3041.993597                34.047060   \n",
       "std                      0.011475          33.546514                 0.006277   \n",
       "min                   -118.472832        3005.000000                33.987381   \n",
       "25%                   -118.256980        3023.000000                34.044159   \n",
       "50%                   -118.250954        3038.000000                34.046810   \n",
       "75%                   -118.241562        3063.000000                34.050480   \n",
       "max                   -118.231277        4108.000000                34.064281   \n",
       "\n",
       "       Ending Station Longitude        Bike ID  \n",
       "count             130715.000000  130715.000000  \n",
       "mean                -118.249839    6193.698114  \n",
       "std                    0.011983     293.303470  \n",
       "min                 -118.472832    4727.000000  \n",
       "25%                 -118.256981    5953.000000  \n",
       "50%                 -118.250954    6186.000000  \n",
       "75%                 -118.238810    6434.000000  \n",
       "max                 -118.231277    6728.000000  "
      ]
     },
     "execution_count": 265,
     "metadata": {},
     "output_type": "execute_result"
    }
   ],
   "source": [
    "df.describe()"
   ]
  },
  {
   "cell_type": "code",
   "execution_count": 266,
   "metadata": {
    "scrolled": false
   },
   "outputs": [
    {
     "data": {
      "image/png": "[encoded data removed]",
      "text/plain": [
       "<Figure size 1008x360 with 2 Axes>"
      ]
     },
     "metadata": {
      "needs_background": "light"
     },
     "output_type": "display_data"
    }
   ],
   "source": [
    "plt.figure(figsize=(14,5))\n",
    "plt.subplot(1,2,1)\n",
    "plt.scatter(df['Starting Station Latitude'],df['Starting Station Longitude'],alpha=0.3)\n",
    "plt.subplot(1,2,2)\n",
    "plt.scatter(df['Ending Station Latitude'],df['Ending Station Longitude'],alpha=0.3)\n",
    "plt.show()"
   ]
  },
  {
   "cell_type": "markdown",
   "metadata": {},
   "source": [
    "Matching plots indicate there are no start points that had no drop off and vice-versa this would seem logical"
   ]
  },
  {
   "cell_type": "code",
   "execution_count": 165,
   "metadata": {},
   "outputs": [
    {
     "data": {
      "text/plain": [
       "True"
      ]
     },
     "execution_count": 165,
     "metadata": {},
     "output_type": "execute_result"
    }
   ],
   "source": [
    "sorted(df['Starting Station ID'].unique())==sorted(df['Ending Station ID'].unique())"
   ]
  },
  {
   "cell_type": "markdown",
   "metadata": {},
   "source": [
    "This confirms that the Starting and Ending Stations sets are identical as expected"
   ]
  },
  {
   "cell_type": "markdown",
   "metadata": {},
   "source": [
    "Now would a great time for a map!"
   ]
  },
  {
   "cell_type": "code",
   "execution_count": 166,
   "metadata": {},
   "outputs": [
    {
     "data": {
      "text/html": [
       "<div style=\"width:100%;\"><div style=\"position:relative;width:100%;height:0;padding-bottom:60%;\"><iframe src=\"data:text/html;charset=utf-8;base64,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\" style=\"position:absolute;width:100%;height:100%;left:0;top:0;border:none !important;\" allowfullscreen webkitallowfullscreen mozallowfullscreen></iframe></div></div>"
      ],
      "text/plain": [
       "<folium.folium.Map at 0x1e0c1e64710>"
      ]
     },
     "execution_count": 166,
     "metadata": {},
     "output_type": "execute_result"
    }
   ],
   "source": [
    "import folium\n",
    "bike_map1=folium.Map([df['Starting Station Latitude'].values[0],df['Starting Station Longitude'].values[0]])\n",
    "for station in df['Starting Station ID'].unique():\n",
    "    lat=df.loc[df['Starting Station ID']==station]['Starting Station Latitude'].values[0]\n",
    "    lon=df.loc[df['Starting Station ID']==station]['Starting Station Longitude'].values[0]\n",
    "    marker=folium.Marker([lat,lon],popup=str(station))\n",
    "    marker.add_to(bike_map1)\n",
    "\n",
    "bike_map1"
   ]
  },
  {
   "cell_type": "markdown",
   "metadata": {},
   "source": [
    "Almost all the Bike Stations are located in Downtown LA with the exception of 2; 1 in Culver City(id = 3039), and 1 in Venice (id = 3009)"
   ]
  },
  {
   "cell_type": "markdown",
   "metadata": {},
   "source": [
    "Lets look closer at the traffic to and from these 2 outlying bike stations, are they outliers?"
   ]
  },
  {
   "cell_type": "code",
   "execution_count": 167,
   "metadata": {
    "scrolled": true
   },
   "outputs": [
    {
     "data": {
      "text/plain": [
       "3039.0    77\n",
       "3009.0    35\n",
       "Name: Ending Station ID, dtype: int64"
      ]
     },
     "execution_count": 167,
     "metadata": {},
     "output_type": "execute_result"
    }
   ],
   "source": [
    "df.loc[df['Starting Station ID']==3039]['Ending Station ID'].value_counts()"
   ]
  },
  {
   "cell_type": "code",
   "execution_count": 168,
   "metadata": {},
   "outputs": [
    {
     "data": {
      "text/plain": [
       "3039.0    77\n",
       "3009.0    26\n",
       "3064.0     6\n",
       "3005.0     2\n",
       "3052.0     1\n",
       "Name: Starting Station ID, dtype: int64"
      ]
     },
     "execution_count": 168,
     "metadata": {},
     "output_type": "execute_result"
    }
   ],
   "source": [
    "df.loc[df['Ending Station ID']==3039]['Starting Station ID'].value_counts()"
   ]
  },
  {
   "cell_type": "code",
   "execution_count": 169,
   "metadata": {},
   "outputs": [
    {
     "data": {
      "text/plain": [
       "3039.0    26\n",
       "3009.0    25\n",
       "Name: Ending Station ID, dtype: int64"
      ]
     },
     "execution_count": 169,
     "metadata": {},
     "output_type": "execute_result"
    }
   ],
   "source": [
    "df.loc[df['Starting Station ID']==3009]['Ending Station ID'].value_counts()"
   ]
  },
  {
   "cell_type": "code",
   "execution_count": 170,
   "metadata": {},
   "outputs": [
    {
     "data": {
      "text/plain": [
       "3039.0    35\n",
       "3009.0    25\n",
       "3011.0     1\n",
       "3027.0     1\n",
       "3005.0     1\n",
       "3042.0     1\n",
       "Name: Starting Station ID, dtype: int64"
      ]
     },
     "execution_count": 170,
     "metadata": {},
     "output_type": "execute_result"
    }
   ],
   "source": [
    "df.loc[df['Ending Station ID']==3009]['Starting Station ID'].value_counts()"
   ]
  },
  {
   "cell_type": "markdown",
   "metadata": {},
   "source": [
    "Almost all of the trips made to and from these bike stations are either round trips to the same place or from one of the two to the other. These two stations are almost completely disconnected from the Downtown LA network.\n",
    "\n",
    "They also only account for a very tiny fraction of the rides total; from over 130k rides just 163 are to or from these two stations, I wonder why that is?"
   ]
  },
  {
   "cell_type": "code",
   "execution_count": 307,
   "metadata": {},
   "outputs": [
    {
     "name": "stdout",
     "output_type": "stream",
     "text": [
      "The first trip made FROM bike Station 3039 (Culver City) was on :  2017-03-26 07:30:00\n",
      "The last trip made FROM bike Station 3039 (Culver City) was on :  2017-03-26 15:06:00\n",
      "The first trip made FROM bike Station 3009 (Venice) was on :  2017-03-26 08:30:00\n",
      "The last trip made FROM bike Station 309 (Venice) was on :  2017-03-26 15:31:00\n",
      "The first trip made TO bike Station 3039 (Culver City) was on :  2017-03-26 07:30:00\n",
      "The last trip made TO bike Station 3039 (Culver City) was on :  2017-03-26 15:31:00\n",
      "The first trip made TO bike Station 3009 (Venice) was on :  2017-03-26 07:45:00\n",
      "The last trip made TO bike Station 309 (Venice) was on :  2017-03-26 14:11:00\n"
     ]
    }
   ],
   "source": [
    "print('The first trip made FROM bike Station 3039 (Culver City) was on : ',df.loc[df['Starting Station ID']==3039]['Start Time'].min())\n",
    "print('The last trip made FROM bike Station 3039 (Culver City) was on : ',df.loc[df['Starting Station ID']==3039]['Start Time'].max())\n",
    "print('The first trip made FROM bike Station 3009 (Venice) was on : ',df.loc[df['Starting Station ID']==3009]['Start Time'].min())\n",
    "print('The last trip made FROM bike Station 309 (Venice) was on : ',df.loc[df['Starting Station ID']==3009]['Start Time'].max())\n",
    "\n",
    "print('The first trip made TO bike Station 3039 (Culver City) was on : ',df.loc[df['Ending Station ID']==3039]['Start Time'].min())\n",
    "print('The last trip made TO bike Station 3039 (Culver City) was on : ',df.loc[df['Ending Station ID']==3039]['Start Time'].max())\n",
    "print('The first trip made TO bike Station 3009 (Venice) was on : ',df.loc[df['Ending Station ID']==3009]['Start Time'].min())\n",
    "print('The last trip made TO bike Station 309 (Venice) was on : ',df.loc[df['Ending Station ID']==3009]['Start Time'].max())"
   ]
  },
  {
   "cell_type": "markdown",
   "metadata": {},
   "source": [
    "All these the trips to and from Culver City and Venice are on the same day; 2017-03-26 which is the last Weekned Day of the dataset. What may be the case is that this station was only operational beginning that day and these destinations are used much more heavily on the weekend (At the beach and near the beach)."
   ]
  },
  {
   "cell_type": "markdown",
   "metadata": {},
   "source": [
    "Lets explore some of the distinctive characteristics of these other Bike Stations further:"
   ]
  },
  {
   "cell_type": "code",
   "execution_count": 279,
   "metadata": {},
   "outputs": [
    {
     "data": {
      "text/plain": [
       "3020.0    522\n",
       "3010.0    420\n",
       "3060.0    379\n",
       "3057.0    371\n",
       "3080.0    189\n",
       "3045.0    185\n",
       "3039.0    112\n",
       "4108.0     53\n",
       "3009.0     51\n",
       "3053.0     15\n",
       "Name: Starting Station ID, dtype: int64"
      ]
     },
     "execution_count": 279,
     "metadata": {},
     "output_type": "execute_result"
    }
   ],
   "source": [
    "df['Starting Station ID'].value_counts().tail(10)"
   ]
  },
  {
   "cell_type": "code",
   "execution_count": 280,
   "metadata": {},
   "outputs": [
    {
     "data": {
      "text/plain": [
       "3028.0    516\n",
       "3010.0    406\n",
       "3057.0    398\n",
       "3060.0    390\n",
       "3045.0    319\n",
       "3080.0    173\n",
       "3039.0    112\n",
       "4108.0     70\n",
       "3009.0     64\n",
       "3053.0     12\n",
       "Name: Ending Station ID, dtype: int64"
      ]
     },
     "execution_count": 280,
     "metadata": {},
     "output_type": "execute_result"
    }
   ],
   "source": [
    "df['Ending Station ID'].value_counts().tail(10)"
   ]
  },
  {
   "cell_type": "markdown",
   "metadata": {},
   "source": [
    "Bike Station 4108, which was our station with the possible logging errors, also has relatively few trips to and from it, from the map it is a little separated from the rest of the downtown set"
   ]
  },
  {
   "cell_type": "code",
   "execution_count": 272,
   "metadata": {},
   "outputs": [
    {
     "data": {
      "text/plain": [
       "Round Trip    0.735849\n",
       "One Way       0.264151\n",
       "Name: Trip Route Category, dtype: float64"
      ]
     },
     "execution_count": 272,
     "metadata": {},
     "output_type": "execute_result"
    }
   ],
   "source": [
    "df.loc[df['Starting Station ID']==4108]['Trip Route Category'].value_counts(normalize=True)"
   ]
  },
  {
   "cell_type": "code",
   "execution_count": 271,
   "metadata": {},
   "outputs": [
    {
     "data": {
      "text/plain": [
       "Round Trip    0.557143\n",
       "One Way       0.442857\n",
       "Name: Trip Route Category, dtype: float64"
      ]
     },
     "execution_count": 271,
     "metadata": {},
     "output_type": "execute_result"
    }
   ],
   "source": [
    "df.loc[df['Ending Station ID']==4108]['Trip Route Category'].value_counts(normalize=True)"
   ]
  },
  {
   "cell_type": "markdown",
   "metadata": {},
   "source": [
    "Bike Station ID 4108 is dominantly Round-Trip traffic, this is very unusual for this dataset! "
   ]
  },
  {
   "cell_type": "markdown",
   "metadata": {},
   "source": [
    "Bike Station 3053 has the least number of rides to and from it but it appears to be right in the mix of things"
   ]
  },
  {
   "cell_type": "code",
   "execution_count": 276,
   "metadata": {
    "scrolled": true
   },
   "outputs": [
    {
     "data": {
      "text/plain": [
       "Trip ID\n",
       "2137435   2016-07-09 12:42:00\n",
       "2057407   2016-07-08 17:46:00\n",
       "2419835   2016-07-11 07:50:00\n",
       "2057407   2016-07-08 17:46:00\n",
       "2419835   2016-07-11 07:50:00\n",
       "2116360   2016-07-09 07:12:00\n",
       "2321036   2016-07-10 17:42:00\n",
       "2419838   2016-07-11 07:32:00\n",
       "2335086   2016-07-10 15:41:00\n",
       "2019541   2016-07-08 08:39:00\n",
       "2176181   2016-07-09 19:11:00\n",
       "2314140   2016-07-10 15:18:00\n",
       "2062197   2016-07-08 18:22:00\n",
       "2169928   2016-07-09 18:40:00\n",
       "2137436   2016-07-09 12:42:00\n",
       "Name: Start Time, dtype: datetime64[ns]"
      ]
     },
     "execution_count": 276,
     "metadata": {},
     "output_type": "execute_result"
    }
   ],
   "source": [
    "df.loc[df['Starting Station ID']==3053]['Start Time']"
   ]
  },
  {
   "cell_type": "code",
   "execution_count": 304,
   "metadata": {},
   "outputs": [
    {
     "data": {
      "text/plain": [
       "Trip ID\n",
       "2067007   2016-07-08 19:03:00\n",
       "2152686   2016-07-09 15:49:00\n",
       "2066991   2016-07-08 19:33:00\n",
       "2158281   2016-07-09 16:35:00\n",
       "2188763   2016-07-09 21:37:00\n",
       "2426970   2016-07-11 08:05:00\n",
       "2158278   2016-07-09 16:36:00\n",
       "2280145   2016-07-10 10:58:00\n",
       "2170049   2016-07-09 17:50:00\n",
       "2116315   2016-07-09 07:36:00\n",
       "1947931   2016-07-07 13:51:00\n",
       "2188775   2016-07-09 20:55:00\n",
       "Name: Start Time, dtype: datetime64[ns]"
      ]
     },
     "execution_count": 304,
     "metadata": {},
     "output_type": "execute_result"
    }
   ],
   "source": [
    "df.loc[df['Ending Station ID']==3053]['Start Time']"
   ]
  },
  {
   "cell_type": "code",
   "execution_count": 308,
   "metadata": {},
   "outputs": [
    {
     "name": "stdout",
     "output_type": "stream",
     "text": [
      "The first trip made from bike Station 3053 was on :  2016-07-08 08:39:00\n",
      "The last trip made from bike Station 3053 was on :  2016-07-11 07:50:00\n",
      "The first trip made TO bike Station 3053 was on :  2016-07-07 13:51:00\n",
      "The last trip made TO bike Station 30053 was on :  2016-07-11 08:05:00\n"
     ]
    }
   ],
   "source": [
    "print('The first trip made FROM bike Station 3053 was on : ',df.loc[df['Starting Station ID']==3053]['Start Time'].min())\n",
    "print('The last trip made FROM bike Station 3053 was on : ',df.loc[df['Starting Station ID']==3053]['Start Time'].max())\n",
    "print('The first trip made TO bike Station 3053 was on : ',df.loc[df['Ending Station ID']==3053]['Start Time'].min())\n",
    "print('The last trip made TO bike Station 30053 was on : ',df.loc[df['Ending Station ID']==3053]['Start Time'].max())"
   ]
  },
  {
   "cell_type": "markdown",
   "metadata": {},
   "source": [
    "All trips made over just 5 days from the 7th of July 2016 (the first day of the dataset) to the 11th of July 2016. Is it possible this Bike Station was decomissioned? "
   ]
  },
  {
   "cell_type": "code",
   "execution_count": null,
   "metadata": {},
   "outputs": [],
   "source": []
  },
  {
   "cell_type": "code",
   "execution_count": null,
   "metadata": {},
   "outputs": [],
   "source": []
  },
  {
   "cell_type": "code",
   "execution_count": null,
   "metadata": {},
   "outputs": [],
   "source": []
  },
  {
   "cell_type": "code",
   "execution_count": 176,
   "metadata": {},
   "outputs": [
    {
     "data": {
      "text/plain": [
       "Timestamp('2016-07-07 04:17:00')"
      ]
     },
     "execution_count": 176,
     "metadata": {},
     "output_type": "execute_result"
    }
   ],
   "source": [
    "df['Start Time'].min()"
   ]
  },
  {
   "cell_type": "code",
   "execution_count": 287,
   "metadata": {},
   "outputs": [
    {
     "data": {
      "text/plain": [
       "Timestamp('2017-03-31 23:45:00')"
      ]
     },
     "execution_count": 287,
     "metadata": {},
     "output_type": "execute_result"
    }
   ],
   "source": [
    "df['Start Time'].max()"
   ]
  },
  {
   "cell_type": "code",
   "execution_count": 294,
   "metadata": {
    "scrolled": false
   },
   "outputs": [
    {
     "data": {
      "text/plain": [
       "<matplotlib.axes._subplots.AxesSubplot at 0x1e0cc9e4b38>"
      ]
     },
     "execution_count": 294,
     "metadata": {},
     "output_type": "execute_result"
    },
    {
     "data": {
      "image/png": "[encoded data removed]",
      "text/plain": [
       "<Figure size 1080x576 with 1 Axes>"
      ]
     },
     "metadata": {
      "needs_background": "light"
     },
     "output_type": "display_data"
    }
   ],
   "source": [
    "df['Start Time'].hist(figsize=(15,8))\n"
   ]
  },
  {
   "cell_type": "code",
   "execution_count": null,
   "metadata": {},
   "outputs": [],
   "source": []
  },
  {
   "cell_type": "code",
   "execution_count": 179,
   "metadata": {},
   "outputs": [
    {
     "data": {
      "text/plain": [
       "Trip ID\n",
       "17848847      Friday\n",
       "20700706      Friday\n",
       "20595730    Thursday\n",
       "17307719    Thursday\n",
       "18941656      Monday\n",
       "Name: Start Time, dtype: object"
      ]
     },
     "execution_count": 179,
     "metadata": {},
     "output_type": "execute_result"
    }
   ],
   "source": [
    "day_of_week=df['Start Time'].dt.day_name()\n",
    "day_of_week.head()"
   ]
  },
  {
   "cell_type": "code",
   "execution_count": 180,
   "metadata": {
    "scrolled": true
   },
   "outputs": [
    {
     "data": {
      "text/plain": [
       "Thursday     20082\n",
       "Friday       19774\n",
       "Wednesday    19537\n",
       "Tuesday      18909\n",
       "Saturday     18278\n",
       "Sunday       17040\n",
       "Monday       17035\n",
       "Name: Start Time, dtype: int64"
      ]
     },
     "execution_count": 180,
     "metadata": {},
     "output_type": "execute_result"
    }
   ],
   "source": [
    "day_of_week.value_counts()"
   ]
  },
  {
   "cell_type": "code",
   "execution_count": 181,
   "metadata": {},
   "outputs": [],
   "source": [
    "month=df['Start Time'].dt.month_name()"
   ]
  },
  {
   "cell_type": "code",
   "execution_count": 182,
   "metadata": {},
   "outputs": [
    {
     "data": {
      "text/plain": [
       "August       24121\n",
       "September    19846\n",
       "October      17863\n",
       "November     14196\n",
       "March        13564\n",
       "July         11412\n",
       "December     10327\n",
       "January      10053\n",
       "February      9273\n",
       "Name: Start Time, dtype: int64"
      ]
     },
     "execution_count": 182,
     "metadata": {},
     "output_type": "execute_result"
    }
   ],
   "source": [
    "month.value_counts()"
   ]
  },
  {
   "cell_type": "code",
   "execution_count": null,
   "metadata": {},
   "outputs": [],
   "source": []
  },
  {
   "cell_type": "code",
   "execution_count": null,
   "metadata": {},
   "outputs": [],
   "source": []
  },
  {
   "cell_type": "code",
   "execution_count": null,
   "metadata": {},
   "outputs": [],
   "source": []
  },
  {
   "cell_type": "code",
   "execution_count": null,
   "metadata": {},
   "outputs": [],
   "source": []
  },
  {
   "cell_type": "code",
   "execution_count": null,
   "metadata": {},
   "outputs": [],
   "source": []
  },
  {
   "cell_type": "code",
   "execution_count": null,
   "metadata": {},
   "outputs": [],
   "source": []
  },
  {
   "cell_type": "code",
   "execution_count": 183,
   "metadata": {},
   "outputs": [
    {
     "data": {
      "text/plain": [
       "<BarContainer object of 7 artists>"
      ]
     },
     "execution_count": 183,
     "metadata": {},
     "output_type": "execute_result"
    },
    {
     "data": {
      "image/png": "[encoded data removed]",
      "text/plain": [
       "<Figure size 432x288 with 1 Axes>"
      ]
     },
     "metadata": {
      "needs_background": "light"
     },
     "output_type": "display_data"
    }
   ],
   "source": [
    "plt.bar(day_of_week.value_counts().index,day_of_week.value_counts().values)"
   ]
  },
  {
   "cell_type": "code",
   "execution_count": 184,
   "metadata": {},
   "outputs": [
    {
     "data": {
      "text/html": [
       "<div>\n",
       "<style scoped>\n",
       "    .dataframe tbody tr th:only-of-type {\n",
       "        vertical-align: middle;\n",
       "    }\n",
       "\n",
       "    .dataframe tbody tr th {\n",
       "        vertical-align: top;\n",
       "    }\n",
       "\n",
       "    .dataframe thead th {\n",
       "        text-align: right;\n",
       "    }\n",
       "</style>\n",
       "<table border=\"1\" class=\"dataframe\">\n",
       "  <thead>\n",
       "    <tr style=\"text-align: right;\">\n",
       "      <th></th>\n",
       "      <th>count</th>\n",
       "      <th>mean</th>\n",
       "      <th>std</th>\n",
       "      <th>min</th>\n",
       "      <th>25%</th>\n",
       "      <th>50%</th>\n",
       "      <th>75%</th>\n",
       "      <th>max</th>\n",
       "    </tr>\n",
       "    <tr>\n",
       "      <th>Trip Route Category</th>\n",
       "      <th></th>\n",
       "      <th></th>\n",
       "      <th></th>\n",
       "      <th></th>\n",
       "      <th></th>\n",
       "      <th></th>\n",
       "      <th></th>\n",
       "      <th></th>\n",
       "    </tr>\n",
       "  </thead>\n",
       "  <tbody>\n",
       "    <tr>\n",
       "      <th>One Way</th>\n",
       "      <td>118030.0</td>\n",
       "      <td>19.113310</td>\n",
       "      <td>69.338189</td>\n",
       "      <td>1.0</td>\n",
       "      <td>6.0</td>\n",
       "      <td>10.0</td>\n",
       "      <td>16.0</td>\n",
       "      <td>1440.0</td>\n",
       "    </tr>\n",
       "    <tr>\n",
       "      <th>Round Trip</th>\n",
       "      <td>12625.0</td>\n",
       "      <td>54.987485</td>\n",
       "      <td>128.850483</td>\n",
       "      <td>1.0</td>\n",
       "      <td>15.0</td>\n",
       "      <td>28.0</td>\n",
       "      <td>53.0</td>\n",
       "      <td>1440.0</td>\n",
       "    </tr>\n",
       "  </tbody>\n",
       "</table>\n",
       "</div>"
      ],
      "text/plain": [
       "                        count       mean         std  min   25%   50%   75%  \\\n",
       "Trip Route Category                                                           \n",
       "One Way              118030.0  19.113310   69.338189  1.0   6.0  10.0  16.0   \n",
       "Round Trip            12625.0  54.987485  128.850483  1.0  15.0  28.0  53.0   \n",
       "\n",
       "                        max  \n",
       "Trip Route Category          \n",
       "One Way              1440.0  \n",
       "Round Trip           1440.0  "
      ]
     },
     "execution_count": 184,
     "metadata": {},
     "output_type": "execute_result"
    }
   ],
   "source": [
    "df.groupby('Trip Route Category')['Duration'].describe()"
   ]
  },
  {
   "cell_type": "code",
   "execution_count": 185,
   "metadata": {},
   "outputs": [
    {
     "data": {
      "text/html": [
       "<div>\n",
       "<style scoped>\n",
       "    .dataframe tbody tr th:only-of-type {\n",
       "        vertical-align: middle;\n",
       "    }\n",
       "\n",
       "    .dataframe tbody tr th {\n",
       "        vertical-align: top;\n",
       "    }\n",
       "\n",
       "    .dataframe thead th {\n",
       "        text-align: right;\n",
       "    }\n",
       "</style>\n",
       "<table border=\"1\" class=\"dataframe\">\n",
       "  <thead>\n",
       "    <tr style=\"text-align: right;\">\n",
       "      <th></th>\n",
       "      <th>count</th>\n",
       "      <th>mean</th>\n",
       "      <th>std</th>\n",
       "      <th>min</th>\n",
       "      <th>25%</th>\n",
       "      <th>50%</th>\n",
       "      <th>75%</th>\n",
       "      <th>max</th>\n",
       "    </tr>\n",
       "    <tr>\n",
       "      <th>Passholder Type</th>\n",
       "      <th></th>\n",
       "      <th></th>\n",
       "      <th></th>\n",
       "      <th></th>\n",
       "      <th></th>\n",
       "      <th></th>\n",
       "      <th></th>\n",
       "      <th></th>\n",
       "    </tr>\n",
       "  </thead>\n",
       "  <tbody>\n",
       "    <tr>\n",
       "      <th>Flex Pass</th>\n",
       "      <td>9465.0</td>\n",
       "      <td>17.804226</td>\n",
       "      <td>63.569293</td>\n",
       "      <td>1.0</td>\n",
       "      <td>7.0</td>\n",
       "      <td>10.0</td>\n",
       "      <td>15.0</td>\n",
       "      <td>1440.0</td>\n",
       "    </tr>\n",
       "    <tr>\n",
       "      <th>Monthly Pass</th>\n",
       "      <td>80443.0</td>\n",
       "      <td>12.918949</td>\n",
       "      <td>41.680624</td>\n",
       "      <td>1.0</td>\n",
       "      <td>5.0</td>\n",
       "      <td>8.0</td>\n",
       "      <td>13.0</td>\n",
       "      <td>1440.0</td>\n",
       "    </tr>\n",
       "    <tr>\n",
       "      <th>Walk-up</th>\n",
       "      <td>40747.0</td>\n",
       "      <td>42.761553</td>\n",
       "      <td>120.272538</td>\n",
       "      <td>1.0</td>\n",
       "      <td>11.0</td>\n",
       "      <td>19.0</td>\n",
       "      <td>34.0</td>\n",
       "      <td>1440.0</td>\n",
       "    </tr>\n",
       "  </tbody>\n",
       "</table>\n",
       "</div>"
      ],
      "text/plain": [
       "                   count       mean         std  min   25%   50%   75%     max\n",
       "Passholder Type                                                               \n",
       "Flex Pass         9465.0  17.804226   63.569293  1.0   7.0  10.0  15.0  1440.0\n",
       "Monthly Pass     80443.0  12.918949   41.680624  1.0   5.0   8.0  13.0  1440.0\n",
       "Walk-up          40747.0  42.761553  120.272538  1.0  11.0  19.0  34.0  1440.0"
      ]
     },
     "execution_count": 185,
     "metadata": {},
     "output_type": "execute_result"
    }
   ],
   "source": [
    "df.groupby('Passholder Type')['Duration'].describe()"
   ]
  },
  {
   "cell_type": "code",
   "execution_count": 186,
   "metadata": {},
   "outputs": [
    {
     "data": {
      "text/plain": [
       "Passholder Type  Trip Route Category\n",
       "Flex Pass        One Way                0.948653\n",
       "                 Round Trip             0.051347\n",
       "Monthly Pass     One Way                0.954117\n",
       "                 Round Trip             0.045883\n",
       "Walk-up          One Way                0.792672\n",
       "                 Round Trip             0.207328\n",
       "Name: Trip Route Category, dtype: float64"
      ]
     },
     "execution_count": 186,
     "metadata": {},
     "output_type": "execute_result"
    }
   ],
   "source": [
    "df.groupby('Passholder Type')['Trip Route Category'].value_counts(normalize=True)"
   ]
  },
  {
   "cell_type": "code",
   "execution_count": null,
   "metadata": {},
   "outputs": [],
   "source": []
  },
  {
   "cell_type": "code",
   "execution_count": null,
   "metadata": {},
   "outputs": [],
   "source": []
  },
  {
   "cell_type": "code",
   "execution_count": null,
   "metadata": {},
   "outputs": [],
   "source": []
  },
  {
   "cell_type": "code",
   "execution_count": null,
   "metadata": {},
   "outputs": [],
   "source": []
  },
  {
   "cell_type": "code",
   "execution_count": null,
   "metadata": {},
   "outputs": [],
   "source": []
  },
  {
   "cell_type": "code",
   "execution_count": 187,
   "metadata": {
    "scrolled": false
   },
   "outputs": [
    {
     "data": {
      "text/plain": [
       "<matplotlib.axes._subplots.AxesSubplot at 0x1e0c0fb7128>"
      ]
     },
     "execution_count": 187,
     "metadata": {},
     "output_type": "execute_result"
    },
    {
     "data": {
      "image/png": "[encoded data removed]",
      "text/plain": [
       "<Figure size 1080x288 with 1 Axes>"
      ]
     },
     "metadata": {
      "needs_background": "light"
     },
     "output_type": "display_data"
    }
   ],
   "source": [
    "plt.figure(figsize=(15,4))\n",
    "df.loc[df.Duration<30]['Duration'].hist(bins=29)\n",
    "# plt.ylim(0,30000)\n",
    "# plt.xlim(0,5000)"
   ]
  },
  {
   "cell_type": "markdown",
   "metadata": {},
   "source": [
    "Notes:\n",
    "create distance ridden metric <i>nope</i> (drop return trips? only 10%) \n",
    "\n",
    "corellate distance/duration?\n",
    "\n",
    "insert day of week\n",
    "\n",
    "bin start time? morning/afternoon/evening?\n",
    "\n",
    "clustering of stations? <i> 1 main cluster really</i>\n",
    "\n",
    "\n",
    "machine learning:\n",
    "ride duration classifier?\n",
    "pickups from station per day/time period?\n"
   ]
  },
  {
   "cell_type": "code",
   "execution_count": null,
   "metadata": {},
   "outputs": [],
   "source": []
  }
 ],
 "metadata": {
  "kernelspec": {
   "display_name": "learn-env",
   "language": "python",
   "name": "learn-env"
  },
  "language_info": {
   "codemirror_mode": {
    "name": "ipython",
    "version": 3
   },
   "file_extension": ".py",
   "mimetype": "text/x-python",
   "name": "python",
   "nbconvert_exporter": "python",
   "pygments_lexer": "ipython3",
   "version": "3.6.6"
  }
 },
 "nbformat": 4,
 "nbformat_minor": 2
}
