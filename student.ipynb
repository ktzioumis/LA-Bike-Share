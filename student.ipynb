{
 "cells": [
  {
   "cell_type": "markdown",
   "metadata": {},
   "source": [
    "## Final Project Submission\n",
    "\n",
    "Please fill out:\n",
    "* Student name: Kosta Tzioumis\n",
    "* Student pace: part time \n",
    "* Scheduled project review date/time: \n",
    "* Instructor name: Eli\n",
    "* Blog post URL:\n"
   ]
  },
  {
   "cell_type": "markdown",
   "metadata": {},
   "source": [
    "## Data Set obtained from:\n",
    "https://www.kaggle.com/cityofLA/los-angeles-metro-bike-share-trip-data"
   ]
  },
  {
   "cell_type": "code",
   "execution_count": 2,
   "metadata": {},
   "outputs": [],
   "source": [
    "import pandas as pd\n",
    "import numpy as np\n",
    "import matplotlib.pyplot as plt\n",
    "%matplotlib inline"
   ]
  },
  {
   "cell_type": "code",
   "execution_count": 3,
   "metadata": {
    "scrolled": true
   },
   "outputs": [
    {
     "data": {
      "text/html": [
       "<div>\n",
       "<style scoped>\n",
       "    .dataframe tbody tr th:only-of-type {\n",
       "        vertical-align: middle;\n",
       "    }\n",
       "\n",
       "    .dataframe tbody tr th {\n",
       "        vertical-align: top;\n",
       "    }\n",
       "\n",
       "    .dataframe thead th {\n",
       "        text-align: right;\n",
       "    }\n",
       "</style>\n",
       "<table border=\"1\" class=\"dataframe\">\n",
       "  <thead>\n",
       "    <tr style=\"text-align: right;\">\n",
       "      <th></th>\n",
       "      <th>Trip ID</th>\n",
       "      <th>Duration</th>\n",
       "      <th>Start Time</th>\n",
       "      <th>End Time</th>\n",
       "      <th>Starting Station ID</th>\n",
       "      <th>Starting Station Latitude</th>\n",
       "      <th>Starting Station Longitude</th>\n",
       "      <th>Ending Station ID</th>\n",
       "      <th>Ending Station Latitude</th>\n",
       "      <th>Ending Station Longitude</th>\n",
       "      <th>...</th>\n",
       "      <th>Trip Route Category</th>\n",
       "      <th>Passholder Type</th>\n",
       "      <th>Starting Lat-Long</th>\n",
       "      <th>Ending Lat-Long</th>\n",
       "      <th>Neighborhood Councils (Certified)</th>\n",
       "      <th>Council Districts</th>\n",
       "      <th>Zip Codes</th>\n",
       "      <th>LA Specific Plans</th>\n",
       "      <th>Precinct Boundaries</th>\n",
       "      <th>Census Tracts</th>\n",
       "    </tr>\n",
       "  </thead>\n",
       "  <tbody>\n",
       "    <tr>\n",
       "      <th>0</th>\n",
       "      <td>18222186</td>\n",
       "      <td>15060</td>\n",
       "      <td>2017-01-19T17:05:00.000</td>\n",
       "      <td>2017-01-19T21:16:00.000</td>\n",
       "      <td>3031.0</td>\n",
       "      <td>34.044701</td>\n",
       "      <td>-118.252441</td>\n",
       "      <td>3000.0</td>\n",
       "      <td>NaN</td>\n",
       "      <td>NaN</td>\n",
       "      <td>...</td>\n",
       "      <td>One Way</td>\n",
       "      <td>Walk-up</td>\n",
       "      <td>NaN</td>\n",
       "      <td>NaN</td>\n",
       "      <td>NaN</td>\n",
       "      <td>NaN</td>\n",
       "      <td>NaN</td>\n",
       "      <td>NaN</td>\n",
       "      <td>NaN</td>\n",
       "      <td>NaN</td>\n",
       "    </tr>\n",
       "    <tr>\n",
       "      <th>1</th>\n",
       "      <td>9518671</td>\n",
       "      <td>77160</td>\n",
       "      <td>2016-10-09T14:37:00.000</td>\n",
       "      <td>2016-10-10T12:03:00.000</td>\n",
       "      <td>NaN</td>\n",
       "      <td>NaN</td>\n",
       "      <td>NaN</td>\n",
       "      <td>3000.0</td>\n",
       "      <td>NaN</td>\n",
       "      <td>NaN</td>\n",
       "      <td>...</td>\n",
       "      <td>One Way</td>\n",
       "      <td>Monthly Pass</td>\n",
       "      <td>NaN</td>\n",
       "      <td>NaN</td>\n",
       "      <td>NaN</td>\n",
       "      <td>NaN</td>\n",
       "      <td>NaN</td>\n",
       "      <td>NaN</td>\n",
       "      <td>NaN</td>\n",
       "      <td>NaN</td>\n",
       "    </tr>\n",
       "    <tr>\n",
       "      <th>2</th>\n",
       "      <td>20444932</td>\n",
       "      <td>86400</td>\n",
       "      <td>2017-02-18T10:15:00.000</td>\n",
       "      <td>2017-02-20T15:20:00.000</td>\n",
       "      <td>3026.0</td>\n",
       "      <td>34.063179</td>\n",
       "      <td>-118.245880</td>\n",
       "      <td>3000.0</td>\n",
       "      <td>NaN</td>\n",
       "      <td>NaN</td>\n",
       "      <td>...</td>\n",
       "      <td>One Way</td>\n",
       "      <td>Walk-up</td>\n",
       "      <td>NaN</td>\n",
       "      <td>NaN</td>\n",
       "      <td>NaN</td>\n",
       "      <td>NaN</td>\n",
       "      <td>NaN</td>\n",
       "      <td>NaN</td>\n",
       "      <td>NaN</td>\n",
       "      <td>NaN</td>\n",
       "    </tr>\n",
       "    <tr>\n",
       "      <th>3</th>\n",
       "      <td>20905031</td>\n",
       "      <td>18840</td>\n",
       "      <td>2017-02-27T12:26:00.000</td>\n",
       "      <td>2017-02-27T17:40:00.000</td>\n",
       "      <td>3023.0</td>\n",
       "      <td>34.050911</td>\n",
       "      <td>-118.240967</td>\n",
       "      <td>3000.0</td>\n",
       "      <td>NaN</td>\n",
       "      <td>NaN</td>\n",
       "      <td>...</td>\n",
       "      <td>One Way</td>\n",
       "      <td>Walk-up</td>\n",
       "      <td>NaN</td>\n",
       "      <td>NaN</td>\n",
       "      <td>NaN</td>\n",
       "      <td>NaN</td>\n",
       "      <td>NaN</td>\n",
       "      <td>NaN</td>\n",
       "      <td>NaN</td>\n",
       "      <td>NaN</td>\n",
       "    </tr>\n",
       "    <tr>\n",
       "      <th>4</th>\n",
       "      <td>21031476</td>\n",
       "      <td>86400</td>\n",
       "      <td>2017-02-27T20:26:00.000</td>\n",
       "      <td>2017-03-01T09:49:00.000</td>\n",
       "      <td>3008.0</td>\n",
       "      <td>34.046612</td>\n",
       "      <td>-118.262733</td>\n",
       "      <td>3000.0</td>\n",
       "      <td>NaN</td>\n",
       "      <td>NaN</td>\n",
       "      <td>...</td>\n",
       "      <td>One Way</td>\n",
       "      <td>Flex Pass</td>\n",
       "      <td>NaN</td>\n",
       "      <td>NaN</td>\n",
       "      <td>NaN</td>\n",
       "      <td>NaN</td>\n",
       "      <td>NaN</td>\n",
       "      <td>NaN</td>\n",
       "      <td>NaN</td>\n",
       "      <td>NaN</td>\n",
       "    </tr>\n",
       "    <tr>\n",
       "      <th>5</th>\n",
       "      <td>9378284</td>\n",
       "      <td>60</td>\n",
       "      <td>2016-10-09T09:40:00.000</td>\n",
       "      <td>2016-10-09T09:41:00.000</td>\n",
       "      <td>NaN</td>\n",
       "      <td>NaN</td>\n",
       "      <td>NaN</td>\n",
       "      <td>NaN</td>\n",
       "      <td>NaN</td>\n",
       "      <td>NaN</td>\n",
       "      <td>...</td>\n",
       "      <td>One Way</td>\n",
       "      <td>Staff Annual</td>\n",
       "      <td>NaN</td>\n",
       "      <td>NaN</td>\n",
       "      <td>NaN</td>\n",
       "      <td>NaN</td>\n",
       "      <td>NaN</td>\n",
       "      <td>NaN</td>\n",
       "      <td>NaN</td>\n",
       "      <td>NaN</td>\n",
       "    </tr>\n",
       "    <tr>\n",
       "      <th>6</th>\n",
       "      <td>21784648</td>\n",
       "      <td>14760</td>\n",
       "      <td>2017-03-10T17:38:00.000</td>\n",
       "      <td>2017-03-10T21:44:00.000</td>\n",
       "      <td>3065.0</td>\n",
       "      <td>34.060558</td>\n",
       "      <td>-118.238327</td>\n",
       "      <td>3000.0</td>\n",
       "      <td>NaN</td>\n",
       "      <td>NaN</td>\n",
       "      <td>...</td>\n",
       "      <td>One Way</td>\n",
       "      <td>Walk-up</td>\n",
       "      <td>NaN</td>\n",
       "      <td>NaN</td>\n",
       "      <td>NaN</td>\n",
       "      <td>NaN</td>\n",
       "      <td>NaN</td>\n",
       "      <td>NaN</td>\n",
       "      <td>NaN</td>\n",
       "      <td>NaN</td>\n",
       "    </tr>\n",
       "    <tr>\n",
       "      <th>7</th>\n",
       "      <td>22506739</td>\n",
       "      <td>79020</td>\n",
       "      <td>2017-03-17T19:20:00.000</td>\n",
       "      <td>2017-03-18T17:17:00.000</td>\n",
       "      <td>3063.0</td>\n",
       "      <td>34.049198</td>\n",
       "      <td>-118.252831</td>\n",
       "      <td>3000.0</td>\n",
       "      <td>NaN</td>\n",
       "      <td>NaN</td>\n",
       "      <td>...</td>\n",
       "      <td>One Way</td>\n",
       "      <td>Walk-up</td>\n",
       "      <td>NaN</td>\n",
       "      <td>NaN</td>\n",
       "      <td>NaN</td>\n",
       "      <td>NaN</td>\n",
       "      <td>NaN</td>\n",
       "      <td>NaN</td>\n",
       "      <td>NaN</td>\n",
       "      <td>NaN</td>\n",
       "    </tr>\n",
       "    <tr>\n",
       "      <th>8</th>\n",
       "      <td>20889067</td>\n",
       "      <td>86400</td>\n",
       "      <td>2017-02-26T12:18:00.000</td>\n",
       "      <td>2017-02-27T12:36:00.000</td>\n",
       "      <td>3062.0</td>\n",
       "      <td>34.047749</td>\n",
       "      <td>-118.243172</td>\n",
       "      <td>3000.0</td>\n",
       "      <td>NaN</td>\n",
       "      <td>NaN</td>\n",
       "      <td>...</td>\n",
       "      <td>One Way</td>\n",
       "      <td>Walk-up</td>\n",
       "      <td>NaN</td>\n",
       "      <td>NaN</td>\n",
       "      <td>NaN</td>\n",
       "      <td>NaN</td>\n",
       "      <td>NaN</td>\n",
       "      <td>NaN</td>\n",
       "      <td>NaN</td>\n",
       "      <td>NaN</td>\n",
       "    </tr>\n",
       "    <tr>\n",
       "      <th>9</th>\n",
       "      <td>18481915</td>\n",
       "      <td>600</td>\n",
       "      <td>2017-01-23T18:48:00.000</td>\n",
       "      <td>2017-01-23T18:58:00.000</td>\n",
       "      <td>3082.0</td>\n",
       "      <td>34.046520</td>\n",
       "      <td>-118.237411</td>\n",
       "      <td>3000.0</td>\n",
       "      <td>NaN</td>\n",
       "      <td>NaN</td>\n",
       "      <td>...</td>\n",
       "      <td>One Way</td>\n",
       "      <td>Monthly Pass</td>\n",
       "      <td>NaN</td>\n",
       "      <td>NaN</td>\n",
       "      <td>NaN</td>\n",
       "      <td>NaN</td>\n",
       "      <td>NaN</td>\n",
       "      <td>NaN</td>\n",
       "      <td>NaN</td>\n",
       "      <td>NaN</td>\n",
       "    </tr>\n",
       "  </tbody>\n",
       "</table>\n",
       "<p>10 rows × 22 columns</p>\n",
       "</div>"
      ],
      "text/plain": [
       "    Trip ID  Duration               Start Time                 End Time  \\\n",
       "0  18222186     15060  2017-01-19T17:05:00.000  2017-01-19T21:16:00.000   \n",
       "1   9518671     77160  2016-10-09T14:37:00.000  2016-10-10T12:03:00.000   \n",
       "2  20444932     86400  2017-02-18T10:15:00.000  2017-02-20T15:20:00.000   \n",
       "3  20905031     18840  2017-02-27T12:26:00.000  2017-02-27T17:40:00.000   \n",
       "4  21031476     86400  2017-02-27T20:26:00.000  2017-03-01T09:49:00.000   \n",
       "5   9378284        60  2016-10-09T09:40:00.000  2016-10-09T09:41:00.000   \n",
       "6  21784648     14760  2017-03-10T17:38:00.000  2017-03-10T21:44:00.000   \n",
       "7  22506739     79020  2017-03-17T19:20:00.000  2017-03-18T17:17:00.000   \n",
       "8  20889067     86400  2017-02-26T12:18:00.000  2017-02-27T12:36:00.000   \n",
       "9  18481915       600  2017-01-23T18:48:00.000  2017-01-23T18:58:00.000   \n",
       "\n",
       "   Starting Station ID  Starting Station Latitude  Starting Station Longitude  \\\n",
       "0               3031.0                  34.044701                 -118.252441   \n",
       "1                  NaN                        NaN                         NaN   \n",
       "2               3026.0                  34.063179                 -118.245880   \n",
       "3               3023.0                  34.050911                 -118.240967   \n",
       "4               3008.0                  34.046612                 -118.262733   \n",
       "5                  NaN                        NaN                         NaN   \n",
       "6               3065.0                  34.060558                 -118.238327   \n",
       "7               3063.0                  34.049198                 -118.252831   \n",
       "8               3062.0                  34.047749                 -118.243172   \n",
       "9               3082.0                  34.046520                 -118.237411   \n",
       "\n",
       "   Ending Station ID  Ending Station Latitude  Ending Station Longitude  \\\n",
       "0             3000.0                      NaN                       NaN   \n",
       "1             3000.0                      NaN                       NaN   \n",
       "2             3000.0                      NaN                       NaN   \n",
       "3             3000.0                      NaN                       NaN   \n",
       "4             3000.0                      NaN                       NaN   \n",
       "5                NaN                      NaN                       NaN   \n",
       "6             3000.0                      NaN                       NaN   \n",
       "7             3000.0                      NaN                       NaN   \n",
       "8             3000.0                      NaN                       NaN   \n",
       "9             3000.0                      NaN                       NaN   \n",
       "\n",
       "       ...        Trip Route Category  Passholder Type Starting Lat-Long  \\\n",
       "0      ...                    One Way          Walk-up               NaN   \n",
       "1      ...                    One Way     Monthly Pass               NaN   \n",
       "2      ...                    One Way          Walk-up               NaN   \n",
       "3      ...                    One Way          Walk-up               NaN   \n",
       "4      ...                    One Way        Flex Pass               NaN   \n",
       "5      ...                    One Way     Staff Annual               NaN   \n",
       "6      ...                    One Way          Walk-up               NaN   \n",
       "7      ...                    One Way          Walk-up               NaN   \n",
       "8      ...                    One Way          Walk-up               NaN   \n",
       "9      ...                    One Way     Monthly Pass               NaN   \n",
       "\n",
       "  Ending Lat-Long Neighborhood Councils (Certified) Council Districts  \\\n",
       "0             NaN                               NaN               NaN   \n",
       "1             NaN                               NaN               NaN   \n",
       "2             NaN                               NaN               NaN   \n",
       "3             NaN                               NaN               NaN   \n",
       "4             NaN                               NaN               NaN   \n",
       "5             NaN                               NaN               NaN   \n",
       "6             NaN                               NaN               NaN   \n",
       "7             NaN                               NaN               NaN   \n",
       "8             NaN                               NaN               NaN   \n",
       "9             NaN                               NaN               NaN   \n",
       "\n",
       "   Zip Codes  LA Specific Plans  Precinct Boundaries  Census Tracts  \n",
       "0        NaN                NaN                  NaN            NaN  \n",
       "1        NaN                NaN                  NaN            NaN  \n",
       "2        NaN                NaN                  NaN            NaN  \n",
       "3        NaN                NaN                  NaN            NaN  \n",
       "4        NaN                NaN                  NaN            NaN  \n",
       "5        NaN                NaN                  NaN            NaN  \n",
       "6        NaN                NaN                  NaN            NaN  \n",
       "7        NaN                NaN                  NaN            NaN  \n",
       "8        NaN                NaN                  NaN            NaN  \n",
       "9        NaN                NaN                  NaN            NaN  \n",
       "\n",
       "[10 rows x 22 columns]"
      ]
     },
     "execution_count": 3,
     "metadata": {},
     "output_type": "execute_result"
    }
   ],
   "source": [
    "df=pd.read_csv('metro-bike-share-trip-data.csv')\n",
    "df.head(10)"
   ]
  },
  {
   "cell_type": "code",
   "execution_count": 4,
   "metadata": {
    "scrolled": true
   },
   "outputs": [
    {
     "data": {
      "text/plain": [
       "(132427, 22)"
      ]
     },
     "execution_count": 4,
     "metadata": {},
     "output_type": "execute_result"
    }
   ],
   "source": [
    "df.shape"
   ]
  },
  {
   "cell_type": "markdown",
   "metadata": {},
   "source": [
    "Feature descriptions from https://bikeshare.metro.net/about/data/\n",
    "\n",
    "<b>trip_id:</b> Locally unique integer that identifies the trip\n",
    "\n",
    "<b>duration:</b> Length of trip in <i> minutes*</i>\n",
    "\n",
    "<b>start_time:</b> The date/time when the trip began, presented in ISO 8601 format in local time\n",
    "\n",
    "<b>end_time: </b>The date/time when the trip ended, presented in ISO 8601 format in local time\n",
    "\n",
    "<b>start_station:</b> The station ID where the trip originated \n",
    "\n",
    "<b>start_lat:</b> The latitude of the station where the trip originated\n",
    "\n",
    "<b>start_lon: </b>The longitude of the station where the trip originated\n",
    "\n",
    "<b>end_station: </b>The station ID where the trip terminated \n",
    "\n",
    "<b>end_lat: </b>The latitude of the station where the trip terminated\n",
    "\n",
    "<b>end_lon: </b>The longitude of the station where the trip terminated\n",
    "\n",
    "<b>bike_id: </b> Locally unique integer that identifies the bike\n",
    "    \n",
    "<b>plan_duration: </b>The number of days that the plan the passholder is using entitles them to ride; 0 is used for a single ride plan (Walk-up)\n",
    "\n",
    "<b>trip_route_category:</b> \"Round Trip\" for trips starting and ending at the same station or \"One Way\" for all other trips\n",
    "\n",
    "<b>passholder_type: </b>The name of the passholder's plan\n",
    "\n",
    "*units are actually in but each instance is a multiple of 60 i.e. a whole minute number. We will convert this to minutes\n",
    "\n",
    "Other features are not officially described by Metro Bike Share\n",
    "\n",
    "Starting Lat-Long and Ending Lat-Long appear to be repetitions of previous station data and can be dropped safely\n",
    "\n",
    "Remaining features appear to be LA geographic information not relevant to this study, many of which include large amounts of missing data. These will  also be dropped."
   ]
  },
  {
   "cell_type": "code",
   "execution_count": 5,
   "metadata": {
    "scrolled": false
   },
   "outputs": [
    {
     "name": "stdout",
     "output_type": "stream",
     "text": [
      "<class 'pandas.core.frame.DataFrame'>\n",
      "RangeIndex: 132427 entries, 0 to 132426\n",
      "Data columns (total 22 columns):\n",
      "Trip ID                              132427 non-null int64\n",
      "Duration                             132427 non-null int64\n",
      "Start Time                           132427 non-null object\n",
      "End Time                             132427 non-null object\n",
      "Starting Station ID                  132408 non-null float64\n",
      "Starting Station Latitude            132379 non-null float64\n",
      "Starting Station Longitude           132379 non-null float64\n",
      "Ending Station ID                    132331 non-null float64\n",
      "Ending Station Latitude              131376 non-null float64\n",
      "Ending Station Longitude             131376 non-null float64\n",
      "Bike ID                              132417 non-null float64\n",
      "Plan Duration                        131661 non-null float64\n",
      "Trip Route Category                  132427 non-null object\n",
      "Passholder Type                      132427 non-null object\n",
      "Starting Lat-Long                    98622 non-null object\n",
      "Ending Lat-Long                      131376 non-null object\n",
      "Neighborhood Councils (Certified)    98590 non-null float64\n",
      "Council Districts                    98590 non-null float64\n",
      "Zip Codes                            98590 non-null float64\n",
      "LA Specific Plans                    15837 non-null float64\n",
      "Precinct Boundaries                  131328 non-null float64\n",
      "Census Tracts                        131328 non-null float64\n",
      "dtypes: float64(14), int64(2), object(6)\n",
      "memory usage: 22.2+ MB\n"
     ]
    }
   ],
   "source": [
    "df.info()"
   ]
  },
  {
   "cell_type": "code",
   "execution_count": 6,
   "metadata": {
    "scrolled": true
   },
   "outputs": [
    {
     "data": {
      "text/plain": [
       "Trip ID                                   0\n",
       "Duration                                  0\n",
       "Start Time                                0\n",
       "End Time                                  0\n",
       "Starting Station ID                      19\n",
       "Starting Station Latitude                48\n",
       "Starting Station Longitude               48\n",
       "Ending Station ID                        96\n",
       "Ending Station Latitude                1051\n",
       "Ending Station Longitude               1051\n",
       "Bike ID                                  10\n",
       "Plan Duration                           766\n",
       "Trip Route Category                       0\n",
       "Passholder Type                           0\n",
       "Starting Lat-Long                     33805\n",
       "Ending Lat-Long                        1051\n",
       "Neighborhood Councils (Certified)     33837\n",
       "Council Districts                     33837\n",
       "Zip Codes                             33837\n",
       "LA Specific Plans                    116590\n",
       "Precinct Boundaries                    1099\n",
       "Census Tracts                          1099\n",
       "dtype: int64"
      ]
     },
     "execution_count": 6,
     "metadata": {},
     "output_type": "execute_result"
    }
   ],
   "source": [
    "df.isna().sum()"
   ]
  },
  {
   "cell_type": "code",
   "execution_count": 7,
   "metadata": {},
   "outputs": [],
   "source": [
    "df.drop(columns=['Starting Lat-Long',\n",
    "                 'Ending Lat-Long',\n",
    "                 'Neighborhood Councils (Certified)',\n",
    "                 'Council Districts',\n",
    "                 'Zip Codes',\n",
    "                 'LA Specific Plans',\n",
    "                 'Precinct Boundaries',\n",
    "                 'Census Tracts'],\n",
    "       inplace=True)\n",
    "df.Duration=df.Duration/60"
   ]
  },
  {
   "cell_type": "code",
   "execution_count": 8,
   "metadata": {},
   "outputs": [
    {
     "data": {
      "text/html": [
       "<div>\n",
       "<style scoped>\n",
       "    .dataframe tbody tr th:only-of-type {\n",
       "        vertical-align: middle;\n",
       "    }\n",
       "\n",
       "    .dataframe tbody tr th {\n",
       "        vertical-align: top;\n",
       "    }\n",
       "\n",
       "    .dataframe thead th {\n",
       "        text-align: right;\n",
       "    }\n",
       "</style>\n",
       "<table border=\"1\" class=\"dataframe\">\n",
       "  <thead>\n",
       "    <tr style=\"text-align: right;\">\n",
       "      <th></th>\n",
       "      <th>Trip ID</th>\n",
       "      <th>Duration</th>\n",
       "      <th>Start Time</th>\n",
       "      <th>End Time</th>\n",
       "      <th>Starting Station ID</th>\n",
       "      <th>Starting Station Latitude</th>\n",
       "      <th>Starting Station Longitude</th>\n",
       "      <th>Ending Station ID</th>\n",
       "      <th>Ending Station Latitude</th>\n",
       "      <th>Ending Station Longitude</th>\n",
       "      <th>Bike ID</th>\n",
       "      <th>Plan Duration</th>\n",
       "      <th>Trip Route Category</th>\n",
       "      <th>Passholder Type</th>\n",
       "    </tr>\n",
       "  </thead>\n",
       "  <tbody>\n",
       "    <tr>\n",
       "      <th>0</th>\n",
       "      <td>18222186</td>\n",
       "      <td>251.0</td>\n",
       "      <td>2017-01-19T17:05:00.000</td>\n",
       "      <td>2017-01-19T21:16:00.000</td>\n",
       "      <td>3031.0</td>\n",
       "      <td>34.044701</td>\n",
       "      <td>-118.252441</td>\n",
       "      <td>3000.0</td>\n",
       "      <td>NaN</td>\n",
       "      <td>NaN</td>\n",
       "      <td>5944.0</td>\n",
       "      <td>0.0</td>\n",
       "      <td>One Way</td>\n",
       "      <td>Walk-up</td>\n",
       "    </tr>\n",
       "    <tr>\n",
       "      <th>1</th>\n",
       "      <td>9518671</td>\n",
       "      <td>1286.0</td>\n",
       "      <td>2016-10-09T14:37:00.000</td>\n",
       "      <td>2016-10-10T12:03:00.000</td>\n",
       "      <td>NaN</td>\n",
       "      <td>NaN</td>\n",
       "      <td>NaN</td>\n",
       "      <td>3000.0</td>\n",
       "      <td>NaN</td>\n",
       "      <td>NaN</td>\n",
       "      <td>6603.0</td>\n",
       "      <td>30.0</td>\n",
       "      <td>One Way</td>\n",
       "      <td>Monthly Pass</td>\n",
       "    </tr>\n",
       "    <tr>\n",
       "      <th>2</th>\n",
       "      <td>20444932</td>\n",
       "      <td>1440.0</td>\n",
       "      <td>2017-02-18T10:15:00.000</td>\n",
       "      <td>2017-02-20T15:20:00.000</td>\n",
       "      <td>3026.0</td>\n",
       "      <td>34.063179</td>\n",
       "      <td>-118.245880</td>\n",
       "      <td>3000.0</td>\n",
       "      <td>NaN</td>\n",
       "      <td>NaN</td>\n",
       "      <td>5879.0</td>\n",
       "      <td>0.0</td>\n",
       "      <td>One Way</td>\n",
       "      <td>Walk-up</td>\n",
       "    </tr>\n",
       "    <tr>\n",
       "      <th>3</th>\n",
       "      <td>20905031</td>\n",
       "      <td>314.0</td>\n",
       "      <td>2017-02-27T12:26:00.000</td>\n",
       "      <td>2017-02-27T17:40:00.000</td>\n",
       "      <td>3023.0</td>\n",
       "      <td>34.050911</td>\n",
       "      <td>-118.240967</td>\n",
       "      <td>3000.0</td>\n",
       "      <td>NaN</td>\n",
       "      <td>NaN</td>\n",
       "      <td>6056.0</td>\n",
       "      <td>0.0</td>\n",
       "      <td>One Way</td>\n",
       "      <td>Walk-up</td>\n",
       "    </tr>\n",
       "    <tr>\n",
       "      <th>4</th>\n",
       "      <td>21031476</td>\n",
       "      <td>1440.0</td>\n",
       "      <td>2017-02-27T20:26:00.000</td>\n",
       "      <td>2017-03-01T09:49:00.000</td>\n",
       "      <td>3008.0</td>\n",
       "      <td>34.046612</td>\n",
       "      <td>-118.262733</td>\n",
       "      <td>3000.0</td>\n",
       "      <td>NaN</td>\n",
       "      <td>NaN</td>\n",
       "      <td>6054.0</td>\n",
       "      <td>365.0</td>\n",
       "      <td>One Way</td>\n",
       "      <td>Flex Pass</td>\n",
       "    </tr>\n",
       "  </tbody>\n",
       "</table>\n",
       "</div>"
      ],
      "text/plain": [
       "    Trip ID  Duration               Start Time                 End Time  \\\n",
       "0  18222186     251.0  2017-01-19T17:05:00.000  2017-01-19T21:16:00.000   \n",
       "1   9518671    1286.0  2016-10-09T14:37:00.000  2016-10-10T12:03:00.000   \n",
       "2  20444932    1440.0  2017-02-18T10:15:00.000  2017-02-20T15:20:00.000   \n",
       "3  20905031     314.0  2017-02-27T12:26:00.000  2017-02-27T17:40:00.000   \n",
       "4  21031476    1440.0  2017-02-27T20:26:00.000  2017-03-01T09:49:00.000   \n",
       "\n",
       "   Starting Station ID  Starting Station Latitude  Starting Station Longitude  \\\n",
       "0               3031.0                  34.044701                 -118.252441   \n",
       "1                  NaN                        NaN                         NaN   \n",
       "2               3026.0                  34.063179                 -118.245880   \n",
       "3               3023.0                  34.050911                 -118.240967   \n",
       "4               3008.0                  34.046612                 -118.262733   \n",
       "\n",
       "   Ending Station ID  Ending Station Latitude  Ending Station Longitude  \\\n",
       "0             3000.0                      NaN                       NaN   \n",
       "1             3000.0                      NaN                       NaN   \n",
       "2             3000.0                      NaN                       NaN   \n",
       "3             3000.0                      NaN                       NaN   \n",
       "4             3000.0                      NaN                       NaN   \n",
       "\n",
       "   Bike ID  Plan Duration Trip Route Category Passholder Type  \n",
       "0   5944.0            0.0             One Way         Walk-up  \n",
       "1   6603.0           30.0             One Way    Monthly Pass  \n",
       "2   5879.0            0.0             One Way         Walk-up  \n",
       "3   6056.0            0.0             One Way         Walk-up  \n",
       "4   6054.0          365.0             One Way       Flex Pass  "
      ]
     },
     "execution_count": 8,
     "metadata": {},
     "output_type": "execute_result"
    }
   ],
   "source": [
    "df.head()"
   ]
  },
  {
   "cell_type": "markdown",
   "metadata": {},
   "source": [
    "Trip ID can be used is a unique identifier and can be used as an index for this data.\n",
    "\n",
    "Remaining features had little missing data the largest source being just 1051 missing cells from over 132,000. Rows with missing data can be safely dropped from the datasets.\n",
    "\n",
    "Start Time and End Time will be converted to time series data types"
   ]
  },
  {
   "cell_type": "code",
   "execution_count": 9,
   "metadata": {},
   "outputs": [
    {
     "data": {
      "text/html": [
       "<div>\n",
       "<style scoped>\n",
       "    .dataframe tbody tr th:only-of-type {\n",
       "        vertical-align: middle;\n",
       "    }\n",
       "\n",
       "    .dataframe tbody tr th {\n",
       "        vertical-align: top;\n",
       "    }\n",
       "\n",
       "    .dataframe thead th {\n",
       "        text-align: right;\n",
       "    }\n",
       "</style>\n",
       "<table border=\"1\" class=\"dataframe\">\n",
       "  <thead>\n",
       "    <tr style=\"text-align: right;\">\n",
       "      <th></th>\n",
       "      <th>Duration</th>\n",
       "      <th>Start Time</th>\n",
       "      <th>End Time</th>\n",
       "      <th>Starting Station ID</th>\n",
       "      <th>Starting Station Latitude</th>\n",
       "      <th>Starting Station Longitude</th>\n",
       "      <th>Ending Station ID</th>\n",
       "      <th>Ending Station Latitude</th>\n",
       "      <th>Ending Station Longitude</th>\n",
       "      <th>Bike ID</th>\n",
       "      <th>Plan Duration</th>\n",
       "      <th>Trip Route Category</th>\n",
       "      <th>Passholder Type</th>\n",
       "    </tr>\n",
       "    <tr>\n",
       "      <th>Trip ID</th>\n",
       "      <th></th>\n",
       "      <th></th>\n",
       "      <th></th>\n",
       "      <th></th>\n",
       "      <th></th>\n",
       "      <th></th>\n",
       "      <th></th>\n",
       "      <th></th>\n",
       "      <th></th>\n",
       "      <th></th>\n",
       "      <th></th>\n",
       "      <th></th>\n",
       "      <th></th>\n",
       "    </tr>\n",
       "  </thead>\n",
       "  <tbody>\n",
       "    <tr>\n",
       "      <th>17848847</th>\n",
       "      <td>8.0</td>\n",
       "      <td>2017-01-13 21:32:00</td>\n",
       "      <td>2017-01-13 21:40:00</td>\n",
       "      <td>3082.0</td>\n",
       "      <td>34.046520</td>\n",
       "      <td>-118.237411</td>\n",
       "      <td>3036.0</td>\n",
       "      <td>34.039188</td>\n",
       "      <td>-118.232529</td>\n",
       "      <td>6474.0</td>\n",
       "      <td>0.0</td>\n",
       "      <td>One Way</td>\n",
       "      <td>Walk-up</td>\n",
       "    </tr>\n",
       "    <tr>\n",
       "      <th>20700706</th>\n",
       "      <td>9.0</td>\n",
       "      <td>2017-02-24 23:13:00</td>\n",
       "      <td>2017-02-24 23:22:00</td>\n",
       "      <td>3029.0</td>\n",
       "      <td>34.048851</td>\n",
       "      <td>-118.246422</td>\n",
       "      <td>3082.0</td>\n",
       "      <td>34.046520</td>\n",
       "      <td>-118.237411</td>\n",
       "      <td>5794.0</td>\n",
       "      <td>30.0</td>\n",
       "      <td>One Way</td>\n",
       "      <td>Monthly Pass</td>\n",
       "    </tr>\n",
       "    <tr>\n",
       "      <th>20595730</th>\n",
       "      <td>14.0</td>\n",
       "      <td>2017-02-23 07:34:00</td>\n",
       "      <td>2017-02-23 07:48:00</td>\n",
       "      <td>3022.0</td>\n",
       "      <td>34.046070</td>\n",
       "      <td>-118.233093</td>\n",
       "      <td>3005.0</td>\n",
       "      <td>34.048550</td>\n",
       "      <td>-118.259048</td>\n",
       "      <td>6604.0</td>\n",
       "      <td>30.0</td>\n",
       "      <td>One Way</td>\n",
       "      <td>Monthly Pass</td>\n",
       "    </tr>\n",
       "    <tr>\n",
       "      <th>17307719</th>\n",
       "      <td>7.0</td>\n",
       "      <td>2017-01-05 12:04:00</td>\n",
       "      <td>2017-01-05 12:11:00</td>\n",
       "      <td>3059.0</td>\n",
       "      <td>34.037949</td>\n",
       "      <td>-118.256271</td>\n",
       "      <td>3038.0</td>\n",
       "      <td>34.046822</td>\n",
       "      <td>-118.248352</td>\n",
       "      <td>6035.0</td>\n",
       "      <td>30.0</td>\n",
       "      <td>One Way</td>\n",
       "      <td>Monthly Pass</td>\n",
       "    </tr>\n",
       "    <tr>\n",
       "      <th>18941656</th>\n",
       "      <td>14.0</td>\n",
       "      <td>2017-01-30 20:19:00</td>\n",
       "      <td>2017-01-30 20:33:00</td>\n",
       "      <td>3035.0</td>\n",
       "      <td>34.048401</td>\n",
       "      <td>-118.260948</td>\n",
       "      <td>3040.0</td>\n",
       "      <td>34.053570</td>\n",
       "      <td>-118.266357</td>\n",
       "      <td>6728.0</td>\n",
       "      <td>0.0</td>\n",
       "      <td>One Way</td>\n",
       "      <td>Walk-up</td>\n",
       "    </tr>\n",
       "  </tbody>\n",
       "</table>\n",
       "</div>"
      ],
      "text/plain": [
       "          Duration          Start Time            End Time  \\\n",
       "Trip ID                                                      \n",
       "17848847       8.0 2017-01-13 21:32:00 2017-01-13 21:40:00   \n",
       "20700706       9.0 2017-02-24 23:13:00 2017-02-24 23:22:00   \n",
       "20595730      14.0 2017-02-23 07:34:00 2017-02-23 07:48:00   \n",
       "17307719       7.0 2017-01-05 12:04:00 2017-01-05 12:11:00   \n",
       "18941656      14.0 2017-01-30 20:19:00 2017-01-30 20:33:00   \n",
       "\n",
       "          Starting Station ID  Starting Station Latitude  \\\n",
       "Trip ID                                                    \n",
       "17848847               3082.0                  34.046520   \n",
       "20700706               3029.0                  34.048851   \n",
       "20595730               3022.0                  34.046070   \n",
       "17307719               3059.0                  34.037949   \n",
       "18941656               3035.0                  34.048401   \n",
       "\n",
       "          Starting Station Longitude  Ending Station ID  \\\n",
       "Trip ID                                                   \n",
       "17848847                 -118.237411             3036.0   \n",
       "20700706                 -118.246422             3082.0   \n",
       "20595730                 -118.233093             3005.0   \n",
       "17307719                 -118.256271             3038.0   \n",
       "18941656                 -118.260948             3040.0   \n",
       "\n",
       "          Ending Station Latitude  Ending Station Longitude  Bike ID  \\\n",
       "Trip ID                                                                \n",
       "17848847                34.039188               -118.232529   6474.0   \n",
       "20700706                34.046520               -118.237411   5794.0   \n",
       "20595730                34.048550               -118.259048   6604.0   \n",
       "17307719                34.046822               -118.248352   6035.0   \n",
       "18941656                34.053570               -118.266357   6728.0   \n",
       "\n",
       "          Plan Duration Trip Route Category Passholder Type  \n",
       "Trip ID                                                      \n",
       "17848847            0.0             One Way         Walk-up  \n",
       "20700706           30.0             One Way    Monthly Pass  \n",
       "20595730           30.0             One Way    Monthly Pass  \n",
       "17307719           30.0             One Way    Monthly Pass  \n",
       "18941656            0.0             One Way         Walk-up  "
      ]
     },
     "execution_count": 9,
     "metadata": {},
     "output_type": "execute_result"
    }
   ],
   "source": [
    "df.set_index('Trip ID', inplace=True)\n",
    "df.dropna(inplace=True)\n",
    "df['Start Time']= pd.to_datetime(df['Start Time'])\n",
    "df['End Time']=pd.to_datetime(df['End Time'])\n",
    "df.head()"
   ]
  },
  {
   "cell_type": "markdown",
   "metadata": {},
   "source": [
    "Lets inspect the categorical features of Bike ID, Plan Duration, Trip Route Category, Passholder Type"
   ]
  },
  {
   "cell_type": "code",
   "execution_count": 10,
   "metadata": {
    "scrolled": true
   },
   "outputs": [
    {
     "data": {
      "text/plain": [
       "One Way       118070\n",
       "Round Trip     12645\n",
       "Name: Trip Route Category, dtype: int64"
      ]
     },
     "execution_count": 10,
     "metadata": {},
     "output_type": "execute_result"
    }
   ],
   "source": [
    "df['Trip Route Category'].value_counts()"
   ]
  },
  {
   "cell_type": "code",
   "execution_count": 11,
   "metadata": {},
   "outputs": [
    {
     "data": {
      "text/plain": [
       "One Way       0.903263\n",
       "Round Trip    0.096737\n",
       "Name: Trip Route Category, dtype: float64"
      ]
     },
     "execution_count": 11,
     "metadata": {},
     "output_type": "execute_result"
    }
   ],
   "source": [
    "df['Trip Route Category'].value_counts(normalize=True)"
   ]
  },
  {
   "cell_type": "markdown",
   "metadata": {},
   "source": [
    "Over 90% of trips are One Way, the bike is picked up at one Station and ridden to another Station. The rider is getting from one place to another, using the bike as a legit mode of transport"
   ]
  },
  {
   "cell_type": "code",
   "execution_count": 12,
   "metadata": {
    "scrolled": true
   },
   "outputs": [
    {
     "data": {
      "text/plain": [
       "Monthly Pass    80493\n",
       "Walk-up         40756\n",
       "Flex Pass        9466\n",
       "Name: Passholder Type, dtype: int64"
      ]
     },
     "execution_count": 12,
     "metadata": {},
     "output_type": "execute_result"
    }
   ],
   "source": [
    "df['Passholder Type'].value_counts()"
   ]
  },
  {
   "cell_type": "code",
   "execution_count": 13,
   "metadata": {},
   "outputs": [
    {
     "data": {
      "text/plain": [
       "30.0     80493\n",
       "0.0      40756\n",
       "365.0     9466\n",
       "Name: Plan Duration, dtype: int64"
      ]
     },
     "execution_count": 13,
     "metadata": {},
     "output_type": "execute_result"
    }
   ],
   "source": [
    "df['Plan Duration'].value_counts()"
   ]
  },
  {
   "cell_type": "markdown",
   "metadata": {},
   "source": [
    "Plan Duration and Passholder Type appear to be displaying the same data in 2 different fashions\n",
    "30 == Monthly Pass \n",
    "0 == Walk-up\n",
    "365 == Flex Pass\n",
    "Having this feature exist twice is unnecessary, so lets drop Plan Duration"
   ]
  },
  {
   "cell_type": "code",
   "execution_count": 14,
   "metadata": {},
   "outputs": [],
   "source": [
    "df.drop(columns=['Plan Duration'],inplace=True)"
   ]
  },
  {
   "cell_type": "code",
   "execution_count": 15,
   "metadata": {},
   "outputs": [
    {
     "data": {
      "text/plain": [
       "762"
      ]
     },
     "execution_count": 15,
     "metadata": {},
     "output_type": "execute_result"
    }
   ],
   "source": [
    "len(df['Bike ID'].unique())"
   ]
  },
  {
   "cell_type": "markdown",
   "metadata": {},
   "source": [
    "762 individual bikes in the system"
   ]
  },
  {
   "cell_type": "code",
   "execution_count": 16,
   "metadata": {},
   "outputs": [
    {
     "data": {
      "text/plain": [
       "<matplotlib.axes._subplots.AxesSubplot at 0x124a7518>"
      ]
     },
     "execution_count": 16,
     "metadata": {},
     "output_type": "execute_result"
    },
    {
     "data": {
      "image/png": "[encoded data removed]",
      "text/plain": [
       "<Figure size 432x288 with 1 Axes>"
      ]
     },
     "metadata": {
      "needs_background": "light"
     },
     "output_type": "display_data"
    }
   ],
   "source": [
    "df['Bike ID'].value_counts().hist()"
   ]
  },
  {
   "cell_type": "markdown",
   "metadata": {},
   "source": [
    "Distribution of Bike usage appears normal indicating the bikes are all used randomly. This is to be expected"
   ]
  },
  {
   "cell_type": "code",
   "execution_count": 17,
   "metadata": {
    "scrolled": false
   },
   "outputs": [
    {
     "data": {
      "text/html": [
       "<div>\n",
       "<style scoped>\n",
       "    .dataframe tbody tr th:only-of-type {\n",
       "        vertical-align: middle;\n",
       "    }\n",
       "\n",
       "    .dataframe tbody tr th {\n",
       "        vertical-align: top;\n",
       "    }\n",
       "\n",
       "    .dataframe thead th {\n",
       "        text-align: right;\n",
       "    }\n",
       "</style>\n",
       "<table border=\"1\" class=\"dataframe\">\n",
       "  <thead>\n",
       "    <tr style=\"text-align: right;\">\n",
       "      <th></th>\n",
       "      <th>Duration</th>\n",
       "      <th>Starting Station ID</th>\n",
       "      <th>Starting Station Latitude</th>\n",
       "      <th>Starting Station Longitude</th>\n",
       "      <th>Ending Station ID</th>\n",
       "      <th>Ending Station Latitude</th>\n",
       "      <th>Ending Station Longitude</th>\n",
       "      <th>Bike ID</th>\n",
       "    </tr>\n",
       "  </thead>\n",
       "  <tbody>\n",
       "    <tr>\n",
       "      <th>count</th>\n",
       "      <td>130715.000000</td>\n",
       "      <td>130715.000000</td>\n",
       "      <td>130715.000000</td>\n",
       "      <td>130715.000000</td>\n",
       "      <td>130715.000000</td>\n",
       "      <td>130715.000000</td>\n",
       "      <td>130715.000000</td>\n",
       "      <td>130715.000000</td>\n",
       "    </tr>\n",
       "    <tr>\n",
       "      <th>mean</th>\n",
       "      <td>22.587155</td>\n",
       "      <td>3042.568756</td>\n",
       "      <td>34.039216</td>\n",
       "      <td>-118.221176</td>\n",
       "      <td>3041.993597</td>\n",
       "      <td>34.034566</td>\n",
       "      <td>-118.206420</td>\n",
       "      <td>6193.698114</td>\n",
       "    </tr>\n",
       "    <tr>\n",
       "      <th>std</th>\n",
       "      <td>77.840790</td>\n",
       "      <td>30.970158</td>\n",
       "      <td>0.532694</td>\n",
       "      <td>1.849996</td>\n",
       "      <td>33.546514</td>\n",
       "      <td>0.652348</td>\n",
       "      <td>2.265617</td>\n",
       "      <td>293.303470</td>\n",
       "    </tr>\n",
       "    <tr>\n",
       "      <th>min</th>\n",
       "      <td>1.000000</td>\n",
       "      <td>3005.000000</td>\n",
       "      <td>0.000000</td>\n",
       "      <td>-118.472832</td>\n",
       "      <td>3005.000000</td>\n",
       "      <td>0.000000</td>\n",
       "      <td>-118.472832</td>\n",
       "      <td>4727.000000</td>\n",
       "    </tr>\n",
       "    <tr>\n",
       "      <th>25%</th>\n",
       "      <td>6.000000</td>\n",
       "      <td>3024.000000</td>\n",
       "      <td>34.044170</td>\n",
       "      <td>-118.256980</td>\n",
       "      <td>3023.000000</td>\n",
       "      <td>34.044159</td>\n",
       "      <td>-118.256981</td>\n",
       "      <td>5953.000000</td>\n",
       "    </tr>\n",
       "    <tr>\n",
       "      <th>50%</th>\n",
       "      <td>10.000000</td>\n",
       "      <td>3039.000000</td>\n",
       "      <td>34.046822</td>\n",
       "      <td>-118.250954</td>\n",
       "      <td>3038.000000</td>\n",
       "      <td>34.046810</td>\n",
       "      <td>-118.250954</td>\n",
       "      <td>6186.000000</td>\n",
       "    </tr>\n",
       "    <tr>\n",
       "      <th>75%</th>\n",
       "      <td>18.000000</td>\n",
       "      <td>3063.000000</td>\n",
       "      <td>34.050880</td>\n",
       "      <td>-118.241562</td>\n",
       "      <td>3063.000000</td>\n",
       "      <td>34.050480</td>\n",
       "      <td>-118.238810</td>\n",
       "      <td>6434.000000</td>\n",
       "    </tr>\n",
       "    <tr>\n",
       "      <th>max</th>\n",
       "      <td>1440.000000</td>\n",
       "      <td>4108.000000</td>\n",
       "      <td>34.064281</td>\n",
       "      <td>0.000000</td>\n",
       "      <td>4108.000000</td>\n",
       "      <td>34.064281</td>\n",
       "      <td>0.000000</td>\n",
       "      <td>6728.000000</td>\n",
       "    </tr>\n",
       "  </tbody>\n",
       "</table>\n",
       "</div>"
      ],
      "text/plain": [
       "            Duration  Starting Station ID  Starting Station Latitude  \\\n",
       "count  130715.000000        130715.000000              130715.000000   \n",
       "mean       22.587155          3042.568756                  34.039216   \n",
       "std        77.840790            30.970158                   0.532694   \n",
       "min         1.000000          3005.000000                   0.000000   \n",
       "25%         6.000000          3024.000000                  34.044170   \n",
       "50%        10.000000          3039.000000                  34.046822   \n",
       "75%        18.000000          3063.000000                  34.050880   \n",
       "max      1440.000000          4108.000000                  34.064281   \n",
       "\n",
       "       Starting Station Longitude  Ending Station ID  Ending Station Latitude  \\\n",
       "count               130715.000000      130715.000000            130715.000000   \n",
       "mean                  -118.221176        3041.993597                34.034566   \n",
       "std                      1.849996          33.546514                 0.652348   \n",
       "min                   -118.472832        3005.000000                 0.000000   \n",
       "25%                   -118.256980        3023.000000                34.044159   \n",
       "50%                   -118.250954        3038.000000                34.046810   \n",
       "75%                   -118.241562        3063.000000                34.050480   \n",
       "max                      0.000000        4108.000000                34.064281   \n",
       "\n",
       "       Ending Station Longitude        Bike ID  \n",
       "count             130715.000000  130715.000000  \n",
       "mean                -118.206420    6193.698114  \n",
       "std                    2.265617     293.303470  \n",
       "min                 -118.472832    4727.000000  \n",
       "25%                 -118.256981    5953.000000  \n",
       "50%                 -118.250954    6186.000000  \n",
       "75%                 -118.238810    6434.000000  \n",
       "max                    0.000000    6728.000000  "
      ]
     },
     "execution_count": 17,
     "metadata": {},
     "output_type": "execute_result"
    }
   ],
   "source": [
    "df.describe()"
   ]
  },
  {
   "cell_type": "markdown",
   "metadata": {},
   "source": [
    "Starting Station Latitude, Starting Station Longitude, Ending Station Latitude & Ending Station Longitude contain zeros that must be treated as missing data. However, there are no zeros or any remaining missing values in Starting Station ID or Ending Station ID, we can use these values to umpute the missing data"
   ]
  },
  {
   "cell_type": "code",
   "execution_count": 18,
   "metadata": {
    "scrolled": true
   },
   "outputs": [
    {
     "data": {
      "text/plain": [
       "4108.0    32\n",
       "Name: Starting Station ID, dtype: int64"
      ]
     },
     "execution_count": 18,
     "metadata": {},
     "output_type": "execute_result"
    }
   ],
   "source": [
    "df.loc[df['Starting Station Latitude']==0]['Starting Station ID'].value_counts()"
   ]
  },
  {
   "cell_type": "code",
   "execution_count": 19,
   "metadata": {},
   "outputs": [
    {
     "data": {
      "text/plain": [
       "4108.0    32\n",
       "Name: Starting Station ID, dtype: int64"
      ]
     },
     "execution_count": 19,
     "metadata": {},
     "output_type": "execute_result"
    }
   ],
   "source": [
    "df.loc[df['Starting Station Longitude']==0]['Starting Station ID'].value_counts()"
   ]
  },
  {
   "cell_type": "code",
   "execution_count": 20,
   "metadata": {},
   "outputs": [
    {
     "data": {
      "text/plain": [
       "4108.0    48\n",
       "Name: Ending Station ID, dtype: int64"
      ]
     },
     "execution_count": 20,
     "metadata": {},
     "output_type": "execute_result"
    }
   ],
   "source": [
    "df.loc[df['Ending Station Latitude']==0]['Ending Station ID'].value_counts()"
   ]
  },
  {
   "cell_type": "code",
   "execution_count": 21,
   "metadata": {},
   "outputs": [
    {
     "data": {
      "text/plain": [
       "4108.0    48\n",
       "Name: Ending Station ID, dtype: int64"
      ]
     },
     "execution_count": 21,
     "metadata": {},
     "output_type": "execute_result"
    }
   ],
   "source": [
    "df.loc[df['Ending Station Longitude']==0]['Ending Station ID'].value_counts()"
   ]
  },
  {
   "cell_type": "markdown",
   "metadata": {},
   "source": [
    "All of the zeros were recorded at Bike Station 4108, there may be some kind of error related to this particular Bike Station. The values of this bike station's latitude and Longitude can be found in any of the complete values and imputed over the zeros"
   ]
  },
  {
   "cell_type": "code",
   "execution_count": 22,
   "metadata": {},
   "outputs": [],
   "source": [
    "stat_4108_lat= df.loc[df['Starting Station ID']==4108]['Starting Station Latitude'].max() #use max to avoid the zeros\n",
    "stat_4108_long= df.loc[df['Starting Station ID']==4108]['Starting Station Longitude'].min()\n",
    " #all non-zeroes are the same anyway no need to find and replace\n",
    "df['Starting Station Latitude'].replace(0,stat_4108_lat,inplace=True)\n",
    "df['Ending Station Latitude'].replace(0,stat_4108_lat,inplace=True)\n",
    "df['Starting Station Longitude'].replace(0,stat_4108_long,inplace=True)\n",
    "df['Ending Station Longitude'].replace(0,stat_4108_long,inplace=True)"
   ]
  },
  {
   "cell_type": "code",
   "execution_count": 23,
   "metadata": {},
   "outputs": [
    {
     "data": {
      "text/html": [
       "<div>\n",
       "<style scoped>\n",
       "    .dataframe tbody tr th:only-of-type {\n",
       "        vertical-align: middle;\n",
       "    }\n",
       "\n",
       "    .dataframe tbody tr th {\n",
       "        vertical-align: top;\n",
       "    }\n",
       "\n",
       "    .dataframe thead th {\n",
       "        text-align: right;\n",
       "    }\n",
       "</style>\n",
       "<table border=\"1\" class=\"dataframe\">\n",
       "  <thead>\n",
       "    <tr style=\"text-align: right;\">\n",
       "      <th></th>\n",
       "      <th>Duration</th>\n",
       "      <th>Starting Station ID</th>\n",
       "      <th>Starting Station Latitude</th>\n",
       "      <th>Starting Station Longitude</th>\n",
       "      <th>Ending Station ID</th>\n",
       "      <th>Ending Station Latitude</th>\n",
       "      <th>Ending Station Longitude</th>\n",
       "      <th>Bike ID</th>\n",
       "    </tr>\n",
       "  </thead>\n",
       "  <tbody>\n",
       "    <tr>\n",
       "      <th>count</th>\n",
       "      <td>130715.000000</td>\n",
       "      <td>130715.000000</td>\n",
       "      <td>130715.000000</td>\n",
       "      <td>130715.000000</td>\n",
       "      <td>130715.000000</td>\n",
       "      <td>130715.000000</td>\n",
       "      <td>130715.000000</td>\n",
       "      <td>130715.000000</td>\n",
       "    </tr>\n",
       "    <tr>\n",
       "      <th>mean</th>\n",
       "      <td>22.587155</td>\n",
       "      <td>3042.568756</td>\n",
       "      <td>34.047546</td>\n",
       "      <td>-118.250122</td>\n",
       "      <td>3041.993597</td>\n",
       "      <td>34.047060</td>\n",
       "      <td>-118.249839</td>\n",
       "      <td>6193.698114</td>\n",
       "    </tr>\n",
       "    <tr>\n",
       "      <th>std</th>\n",
       "      <td>77.840790</td>\n",
       "      <td>30.970158</td>\n",
       "      <td>0.006358</td>\n",
       "      <td>0.011475</td>\n",
       "      <td>33.546514</td>\n",
       "      <td>0.006277</td>\n",
       "      <td>0.011983</td>\n",
       "      <td>293.303470</td>\n",
       "    </tr>\n",
       "    <tr>\n",
       "      <th>min</th>\n",
       "      <td>1.000000</td>\n",
       "      <td>3005.000000</td>\n",
       "      <td>33.987381</td>\n",
       "      <td>-118.472832</td>\n",
       "      <td>3005.000000</td>\n",
       "      <td>33.987381</td>\n",
       "      <td>-118.472832</td>\n",
       "      <td>4727.000000</td>\n",
       "    </tr>\n",
       "    <tr>\n",
       "      <th>25%</th>\n",
       "      <td>6.000000</td>\n",
       "      <td>3024.000000</td>\n",
       "      <td>34.044170</td>\n",
       "      <td>-118.256980</td>\n",
       "      <td>3023.000000</td>\n",
       "      <td>34.044159</td>\n",
       "      <td>-118.256981</td>\n",
       "      <td>5953.000000</td>\n",
       "    </tr>\n",
       "    <tr>\n",
       "      <th>50%</th>\n",
       "      <td>10.000000</td>\n",
       "      <td>3039.000000</td>\n",
       "      <td>34.046822</td>\n",
       "      <td>-118.250954</td>\n",
       "      <td>3038.000000</td>\n",
       "      <td>34.046810</td>\n",
       "      <td>-118.250954</td>\n",
       "      <td>6186.000000</td>\n",
       "    </tr>\n",
       "    <tr>\n",
       "      <th>75%</th>\n",
       "      <td>18.000000</td>\n",
       "      <td>3063.000000</td>\n",
       "      <td>34.050880</td>\n",
       "      <td>-118.241562</td>\n",
       "      <td>3063.000000</td>\n",
       "      <td>34.050480</td>\n",
       "      <td>-118.238810</td>\n",
       "      <td>6434.000000</td>\n",
       "    </tr>\n",
       "    <tr>\n",
       "      <th>max</th>\n",
       "      <td>1440.000000</td>\n",
       "      <td>4108.000000</td>\n",
       "      <td>34.064281</td>\n",
       "      <td>-118.231277</td>\n",
       "      <td>4108.000000</td>\n",
       "      <td>34.064281</td>\n",
       "      <td>-118.231277</td>\n",
       "      <td>6728.000000</td>\n",
       "    </tr>\n",
       "  </tbody>\n",
       "</table>\n",
       "</div>"
      ],
      "text/plain": [
       "            Duration  Starting Station ID  Starting Station Latitude  \\\n",
       "count  130715.000000        130715.000000              130715.000000   \n",
       "mean       22.587155          3042.568756                  34.047546   \n",
       "std        77.840790            30.970158                   0.006358   \n",
       "min         1.000000          3005.000000                  33.987381   \n",
       "25%         6.000000          3024.000000                  34.044170   \n",
       "50%        10.000000          3039.000000                  34.046822   \n",
       "75%        18.000000          3063.000000                  34.050880   \n",
       "max      1440.000000          4108.000000                  34.064281   \n",
       "\n",
       "       Starting Station Longitude  Ending Station ID  Ending Station Latitude  \\\n",
       "count               130715.000000      130715.000000            130715.000000   \n",
       "mean                  -118.250122        3041.993597                34.047060   \n",
       "std                      0.011475          33.546514                 0.006277   \n",
       "min                   -118.472832        3005.000000                33.987381   \n",
       "25%                   -118.256980        3023.000000                34.044159   \n",
       "50%                   -118.250954        3038.000000                34.046810   \n",
       "75%                   -118.241562        3063.000000                34.050480   \n",
       "max                   -118.231277        4108.000000                34.064281   \n",
       "\n",
       "       Ending Station Longitude        Bike ID  \n",
       "count             130715.000000  130715.000000  \n",
       "mean                -118.249839    6193.698114  \n",
       "std                    0.011983     293.303470  \n",
       "min                 -118.472832    4727.000000  \n",
       "25%                 -118.256981    5953.000000  \n",
       "50%                 -118.250954    6186.000000  \n",
       "75%                 -118.238810    6434.000000  \n",
       "max                 -118.231277    6728.000000  "
      ]
     },
     "execution_count": 23,
     "metadata": {},
     "output_type": "execute_result"
    }
   ],
   "source": [
    "df.describe()"
   ]
  },
  {
   "cell_type": "code",
   "execution_count": 24,
   "metadata": {
    "scrolled": false
   },
   "outputs": [
    {
     "data": {
      "image/png": "[encoded data removed]",
      "text/plain": [
       "<Figure size 1008x360 with 2 Axes>"
      ]
     },
     "metadata": {
      "needs_background": "light"
     },
     "output_type": "display_data"
    }
   ],
   "source": [
    "plt.figure(figsize=(14,5))\n",
    "plt.subplot(1,2,1)\n",
    "plt.scatter(df['Starting Station Latitude'],df['Starting Station Longitude'],alpha=0.3)\n",
    "plt.subplot(1,2,2)\n",
    "plt.scatter(df['Ending Station Latitude'],df['Ending Station Longitude'],alpha=0.3)\n",
    "plt.show()"
   ]
  },
  {
   "cell_type": "markdown",
   "metadata": {},
   "source": [
    "Matching plots indicate there are no start points that had no drop off and vice-versa this would seem logical"
   ]
  },
  {
   "cell_type": "code",
   "execution_count": 25,
   "metadata": {},
   "outputs": [
    {
     "data": {
      "text/plain": [
       "True"
      ]
     },
     "execution_count": 25,
     "metadata": {},
     "output_type": "execute_result"
    }
   ],
   "source": [
    "sorted(df['Starting Station ID'].unique())==sorted(df['Ending Station ID'].unique())"
   ]
  },
  {
   "cell_type": "markdown",
   "metadata": {},
   "source": [
    "This confirms that the Starting and Ending Stations sets are identical as expected"
   ]
  },
  {
   "cell_type": "markdown",
   "metadata": {},
   "source": [
    "Now would a great time for a map!"
   ]
  },
  {
   "cell_type": "code",
   "execution_count": 26,
   "metadata": {},
   "outputs": [
    {
     "data": {
      "text/html": [
       "<div style=\"width:100%;\"><div style=\"position:relative;width:100%;height:0;padding-bottom:60%;\"><iframe src=\"data:text/html;charset=utf-8;base64,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\" style=\"position:absolute;width:100%;height:100%;left:0;top:0;border:none !important;\" allowfullscreen webkitallowfullscreen mozallowfullscreen></iframe></div></div>"
      ],
      "text/plain": [
       "<folium.folium.Map at 0x1519ab70>"
      ]
     },
     "execution_count": 26,
     "metadata": {},
     "output_type": "execute_result"
    }
   ],
   "source": [
    "import folium\n",
    "bike_map1=folium.Map([df['Starting Station Latitude'].values[0],df['Starting Station Longitude'].values[0]])\n",
    "for station in df['Starting Station ID'].unique():\n",
    "    lat=df.loc[df['Starting Station ID']==station]['Starting Station Latitude'].values[0]\n",
    "    lon=df.loc[df['Starting Station ID']==station]['Starting Station Longitude'].values[0]\n",
    "    marker=folium.Marker([lat,lon],popup=str(station))\n",
    "    marker.add_to(bike_map1)\n",
    "\n",
    "bike_map1"
   ]
  },
  {
   "cell_type": "markdown",
   "metadata": {},
   "source": [
    "Almost all the Bike Stations are located in Downtown LA with the exception of 2; 1 in Culver City(id = 3039), and 1 in Venice (id = 3009)"
   ]
  },
  {
   "cell_type": "markdown",
   "metadata": {},
   "source": [
    "Lets look closer at the traffic to and from these 2 outlying bike stations, are they outliers?"
   ]
  },
  {
   "cell_type": "code",
   "execution_count": 27,
   "metadata": {
    "scrolled": true
   },
   "outputs": [
    {
     "data": {
      "text/plain": [
       "3039.0    77\n",
       "3009.0    35\n",
       "Name: Ending Station ID, dtype: int64"
      ]
     },
     "execution_count": 27,
     "metadata": {},
     "output_type": "execute_result"
    }
   ],
   "source": [
    "df.loc[df['Starting Station ID']==3039]['Ending Station ID'].value_counts()"
   ]
  },
  {
   "cell_type": "code",
   "execution_count": 28,
   "metadata": {},
   "outputs": [
    {
     "data": {
      "text/plain": [
       "3039.0    77\n",
       "3009.0    26\n",
       "3064.0     6\n",
       "3005.0     2\n",
       "3052.0     1\n",
       "Name: Starting Station ID, dtype: int64"
      ]
     },
     "execution_count": 28,
     "metadata": {},
     "output_type": "execute_result"
    }
   ],
   "source": [
    "df.loc[df['Ending Station ID']==3039]['Starting Station ID'].value_counts()"
   ]
  },
  {
   "cell_type": "code",
   "execution_count": 29,
   "metadata": {},
   "outputs": [
    {
     "data": {
      "text/plain": [
       "3039.0    26\n",
       "3009.0    25\n",
       "Name: Ending Station ID, dtype: int64"
      ]
     },
     "execution_count": 29,
     "metadata": {},
     "output_type": "execute_result"
    }
   ],
   "source": [
    "df.loc[df['Starting Station ID']==3009]['Ending Station ID'].value_counts()"
   ]
  },
  {
   "cell_type": "code",
   "execution_count": 30,
   "metadata": {},
   "outputs": [
    {
     "data": {
      "text/plain": [
       "3039.0    35\n",
       "3009.0    25\n",
       "3011.0     1\n",
       "3027.0     1\n",
       "3005.0     1\n",
       "3042.0     1\n",
       "Name: Starting Station ID, dtype: int64"
      ]
     },
     "execution_count": 30,
     "metadata": {},
     "output_type": "execute_result"
    }
   ],
   "source": [
    "df.loc[df['Ending Station ID']==3009]['Starting Station ID'].value_counts()"
   ]
  },
  {
   "cell_type": "markdown",
   "metadata": {},
   "source": [
    "Almost all of the trips made to and from these bike stations are either round trips to the same place or from one of the two to the other. These two stations are almost completely disconnected from the Downtown LA network.\n",
    "\n",
    "They also only account for a very tiny fraction of the rides total; from over 130k rides just 163 are to or from these two stations, I wonder why that is?"
   ]
  },
  {
   "cell_type": "code",
   "execution_count": 31,
   "metadata": {},
   "outputs": [
    {
     "name": "stdout",
     "output_type": "stream",
     "text": [
      "The first trip made FROM bike Station 3039 (Culver City) was on :  2017-03-26 07:30:00\n",
      "The last trip made FROM bike Station 3039 (Culver City) was on :  2017-03-26 15:06:00\n",
      "The first trip made FROM bike Station 3009 (Venice) was on :  2017-03-26 08:30:00\n",
      "The last trip made FROM bike Station 309 (Venice) was on :  2017-03-26 15:31:00\n",
      "The first trip made TO bike Station 3039 (Culver City) was on :  2017-03-26 07:30:00\n",
      "The last trip made TO bike Station 3039 (Culver City) was on :  2017-03-26 15:31:00\n",
      "The first trip made TO bike Station 3009 (Venice) was on :  2017-03-26 07:45:00\n",
      "The last trip made TO bike Station 309 (Venice) was on :  2017-03-26 14:11:00\n"
     ]
    }
   ],
   "source": [
    "print('The first trip made FROM bike Station 3039 (Culver City) was on : ',df.loc[df['Starting Station ID']==3039]['Start Time'].min())\n",
    "print('The last trip made FROM bike Station 3039 (Culver City) was on : ',df.loc[df['Starting Station ID']==3039]['Start Time'].max())\n",
    "print('The first trip made FROM bike Station 3009 (Venice) was on : ',df.loc[df['Starting Station ID']==3009]['Start Time'].min())\n",
    "print('The last trip made FROM bike Station 309 (Venice) was on : ',df.loc[df['Starting Station ID']==3009]['Start Time'].max())\n",
    "\n",
    "print('The first trip made TO bike Station 3039 (Culver City) was on : ',df.loc[df['Ending Station ID']==3039]['Start Time'].min())\n",
    "print('The last trip made TO bike Station 3039 (Culver City) was on : ',df.loc[df['Ending Station ID']==3039]['Start Time'].max())\n",
    "print('The first trip made TO bike Station 3009 (Venice) was on : ',df.loc[df['Ending Station ID']==3009]['Start Time'].min())\n",
    "print('The last trip made TO bike Station 309 (Venice) was on : ',df.loc[df['Ending Station ID']==3009]['Start Time'].max())"
   ]
  },
  {
   "cell_type": "markdown",
   "metadata": {},
   "source": [
    "All these the trips to and from Culver City and Venice are on the same day; 2017-03-26 which is the last weekend day of the dataset. What may be the case is that this station was only operational beginning that day (or that weekend) used by on the sunday by people going to and from the beach but these were not used during the week."
   ]
  },
  {
   "cell_type": "markdown",
   "metadata": {},
   "source": [
    "Lets explore some of the distinctive characteristics of these other Bike Stations further:"
   ]
  },
  {
   "cell_type": "code",
   "execution_count": 32,
   "metadata": {},
   "outputs": [
    {
     "data": {
      "text/plain": [
       "3020.0    522\n",
       "3010.0    420\n",
       "3060.0    379\n",
       "3057.0    371\n",
       "3080.0    189\n",
       "3045.0    185\n",
       "3039.0    112\n",
       "4108.0     53\n",
       "3009.0     51\n",
       "3053.0     15\n",
       "Name: Starting Station ID, dtype: int64"
      ]
     },
     "execution_count": 32,
     "metadata": {},
     "output_type": "execute_result"
    }
   ],
   "source": [
    "df['Starting Station ID'].value_counts().tail(10)"
   ]
  },
  {
   "cell_type": "code",
   "execution_count": 33,
   "metadata": {},
   "outputs": [
    {
     "data": {
      "text/plain": [
       "3028.0    516\n",
       "3010.0    406\n",
       "3057.0    398\n",
       "3060.0    390\n",
       "3045.0    319\n",
       "3080.0    173\n",
       "3039.0    112\n",
       "4108.0     70\n",
       "3009.0     64\n",
       "3053.0     12\n",
       "Name: Ending Station ID, dtype: int64"
      ]
     },
     "execution_count": 33,
     "metadata": {},
     "output_type": "execute_result"
    }
   ],
   "source": [
    "df['Ending Station ID'].value_counts().tail(10)"
   ]
  },
  {
   "cell_type": "markdown",
   "metadata": {},
   "source": [
    "Bike Station 4108, which was our station with the possible logging errors, also has relatively few trips to and from it, from the map it is a little separated from the rest of the downtown set"
   ]
  },
  {
   "cell_type": "code",
   "execution_count": 34,
   "metadata": {},
   "outputs": [
    {
     "data": {
      "text/plain": [
       "Round Trip    0.735849\n",
       "One Way       0.264151\n",
       "Name: Trip Route Category, dtype: float64"
      ]
     },
     "execution_count": 34,
     "metadata": {},
     "output_type": "execute_result"
    }
   ],
   "source": [
    "df.loc[df['Starting Station ID']==4108]['Trip Route Category'].value_counts(normalize=True)"
   ]
  },
  {
   "cell_type": "code",
   "execution_count": 35,
   "metadata": {},
   "outputs": [
    {
     "data": {
      "text/plain": [
       "Round Trip    0.557143\n",
       "One Way       0.442857\n",
       "Name: Trip Route Category, dtype: float64"
      ]
     },
     "execution_count": 35,
     "metadata": {},
     "output_type": "execute_result"
    }
   ],
   "source": [
    "df.loc[df['Ending Station ID']==4108]['Trip Route Category'].value_counts(normalize=True)"
   ]
  },
  {
   "cell_type": "markdown",
   "metadata": {},
   "source": [
    "Bike Station ID 4108 is dominantly Round-Trip traffic, this is very unusual for this dataset! "
   ]
  },
  {
   "cell_type": "markdown",
   "metadata": {},
   "source": [
    "Bike Station 3053 has the least number of rides to and from it but it appears to be right in the mix of things"
   ]
  },
  {
   "cell_type": "code",
   "execution_count": 36,
   "metadata": {
    "scrolled": true
   },
   "outputs": [
    {
     "data": {
      "text/plain": [
       "Trip ID\n",
       "2137435   2016-07-09 12:42:00\n",
       "2057407   2016-07-08 17:46:00\n",
       "2419835   2016-07-11 07:50:00\n",
       "2057407   2016-07-08 17:46:00\n",
       "2419835   2016-07-11 07:50:00\n",
       "2116360   2016-07-09 07:12:00\n",
       "2321036   2016-07-10 17:42:00\n",
       "2419838   2016-07-11 07:32:00\n",
       "2335086   2016-07-10 15:41:00\n",
       "2019541   2016-07-08 08:39:00\n",
       "2176181   2016-07-09 19:11:00\n",
       "2314140   2016-07-10 15:18:00\n",
       "2062197   2016-07-08 18:22:00\n",
       "2169928   2016-07-09 18:40:00\n",
       "2137436   2016-07-09 12:42:00\n",
       "Name: Start Time, dtype: datetime64[ns]"
      ]
     },
     "execution_count": 36,
     "metadata": {},
     "output_type": "execute_result"
    }
   ],
   "source": [
    "df.loc[df['Starting Station ID']==3053]['Start Time']"
   ]
  },
  {
   "cell_type": "code",
   "execution_count": 37,
   "metadata": {},
   "outputs": [
    {
     "data": {
      "text/plain": [
       "Trip ID\n",
       "2067007   2016-07-08 19:03:00\n",
       "2152686   2016-07-09 15:49:00\n",
       "2066991   2016-07-08 19:33:00\n",
       "2158281   2016-07-09 16:35:00\n",
       "2188763   2016-07-09 21:37:00\n",
       "2426970   2016-07-11 08:05:00\n",
       "2158278   2016-07-09 16:36:00\n",
       "2280145   2016-07-10 10:58:00\n",
       "2170049   2016-07-09 17:50:00\n",
       "2116315   2016-07-09 07:36:00\n",
       "1947931   2016-07-07 13:51:00\n",
       "2188775   2016-07-09 20:55:00\n",
       "Name: Start Time, dtype: datetime64[ns]"
      ]
     },
     "execution_count": 37,
     "metadata": {},
     "output_type": "execute_result"
    }
   ],
   "source": [
    "df.loc[df['Ending Station ID']==3053]['Start Time']"
   ]
  },
  {
   "cell_type": "code",
   "execution_count": 38,
   "metadata": {},
   "outputs": [
    {
     "name": "stdout",
     "output_type": "stream",
     "text": [
      "The first trip made FROM bike Station 3053 was on :  2016-07-08 08:39:00\n",
      "The last trip made FROM bike Station 3053 was on :  2016-07-11 07:50:00\n",
      "The first trip made TO bike Station 3053 was on :  2016-07-07 13:51:00\n",
      "The last trip made TO bike Station 30053 was on :  2016-07-11 08:05:00\n"
     ]
    }
   ],
   "source": [
    "print('The first trip made FROM bike Station 3053 was on : ',df.loc[df['Starting Station ID']==3053]['Start Time'].min())\n",
    "print('The last trip made FROM bike Station 3053 was on : ',df.loc[df['Starting Station ID']==3053]['Start Time'].max())\n",
    "print('The first trip made TO bike Station 3053 was on : ',df.loc[df['Ending Station ID']==3053]['Start Time'].min())\n",
    "print('The last trip made TO bike Station 30053 was on : ',df.loc[df['Ending Station ID']==3053]['Start Time'].max())"
   ]
  },
  {
   "cell_type": "markdown",
   "metadata": {},
   "source": [
    "All trips made over just 5 days from the 7th of July 2016 (the first day of the dataset) to the 11th of July 2016. Is it possible this Bike Station was decomissioned? "
   ]
  },
  {
   "cell_type": "code",
   "execution_count": null,
   "metadata": {},
   "outputs": [],
   "source": []
  },
  {
   "cell_type": "code",
   "execution_count": null,
   "metadata": {},
   "outputs": [],
   "source": []
  },
  {
   "cell_type": "code",
   "execution_count": null,
   "metadata": {},
   "outputs": [],
   "source": []
  },
  {
   "cell_type": "code",
   "execution_count": 39,
   "metadata": {},
   "outputs": [
    {
     "data": {
      "text/plain": [
       "Timestamp('2016-07-07 04:17:00')"
      ]
     },
     "execution_count": 39,
     "metadata": {},
     "output_type": "execute_result"
    }
   ],
   "source": [
    "df['Start Time'].min()"
   ]
  },
  {
   "cell_type": "code",
   "execution_count": 40,
   "metadata": {},
   "outputs": [
    {
     "data": {
      "text/plain": [
       "Timestamp('2017-03-31 23:45:00')"
      ]
     },
     "execution_count": 40,
     "metadata": {},
     "output_type": "execute_result"
    }
   ],
   "source": [
    "df['Start Time'].max()"
   ]
  },
  {
   "cell_type": "code",
   "execution_count": 41,
   "metadata": {
    "scrolled": true
   },
   "outputs": [
    {
     "data": {
      "text/plain": [
       "<matplotlib.axes._subplots.AxesSubplot at 0x127c7940>"
      ]
     },
     "execution_count": 41,
     "metadata": {},
     "output_type": "execute_result"
    },
    {
     "data": {
      "image/png": "[encoded data removed]",
      "text/plain": [
       "<Figure size 1080x576 with 1 Axes>"
      ]
     },
     "metadata": {
      "needs_background": "light"
     },
     "output_type": "display_data"
    }
   ],
   "source": [
    "df['Start Time'].hist(figsize=(15,8))\n"
   ]
  },
  {
   "cell_type": "code",
   "execution_count": 98,
   "metadata": {},
   "outputs": [
    {
     "data": {
      "text/plain": [
       "August       24148\n",
       "September    19861\n",
       "October      17863\n",
       "November     14196\n",
       "March        13564\n",
       "July         11430\n",
       "December     10327\n",
       "January      10053\n",
       "February      9273\n",
       "Name: Start Time, dtype: int64"
      ]
     },
     "execution_count": 98,
     "metadata": {},
     "output_type": "execute_result"
    }
   ],
   "source": [
    "df['Start Month']=df['Start Time'].dt.month_name()\n",
    "\n",
    "month.value_counts()"
   ]
  },
  {
   "cell_type": "code",
   "execution_count": null,
   "metadata": {},
   "outputs": [],
   "source": []
  },
  {
   "cell_type": "code",
   "execution_count": 101,
   "metadata": {},
   "outputs": [
    {
     "data": {
      "text/plain": [
       "Thursday     20087\n",
       "Friday       19791\n",
       "Wednesday    19551\n",
       "Tuesday      18918\n",
       "Saturday     18279\n",
       "Monday       17045\n",
       "Sunday       17044\n",
       "Name: Start Day, dtype: int64"
      ]
     },
     "execution_count": 101,
     "metadata": {},
     "output_type": "execute_result"
    }
   ],
   "source": [
    "df['Start Day']=df['Start Time'].dt.day_name()\n",
    "df['Start Day'].value_counts()"
   ]
  },
  {
   "cell_type": "code",
   "execution_count": 123,
   "metadata": {},
   "outputs": [
    {
     "data": {
      "image/png": "[encoded data removed]",
      "text/plain": [
       "<Figure size 432x288 with 1 Axes>"
      ]
     },
     "metadata": {
      "needs_background": "light"
     },
     "output_type": "display_data"
    }
   ],
   "source": [
    "plt.bar(df['Start Day'].value_counts().index,df['Start Day'].value_counts().values)\n",
    "plt.xticks(rotation=45)\n",
    "plt.show()"
   ]
  },
  {
   "cell_type": "code",
   "execution_count": null,
   "metadata": {},
   "outputs": [],
   "source": []
  },
  {
   "cell_type": "code",
   "execution_count": null,
   "metadata": {},
   "outputs": [],
   "source": []
  },
  {
   "cell_type": "code",
   "execution_count": 83,
   "metadata": {},
   "outputs": [
    {
     "data": {
      "text/html": [
       "<div>\n",
       "<style scoped>\n",
       "    .dataframe tbody tr th:only-of-type {\n",
       "        vertical-align: middle;\n",
       "    }\n",
       "\n",
       "    .dataframe tbody tr th {\n",
       "        vertical-align: top;\n",
       "    }\n",
       "\n",
       "    .dataframe thead th {\n",
       "        text-align: right;\n",
       "    }\n",
       "</style>\n",
       "<table border=\"1\" class=\"dataframe\">\n",
       "  <thead>\n",
       "    <tr style=\"text-align: right;\">\n",
       "      <th></th>\n",
       "      <th>Duration</th>\n",
       "      <th>Start Time</th>\n",
       "      <th>End Time</th>\n",
       "      <th>Starting Station ID</th>\n",
       "      <th>Starting Station Latitude</th>\n",
       "      <th>Starting Station Longitude</th>\n",
       "      <th>Ending Station ID</th>\n",
       "      <th>Ending Station Latitude</th>\n",
       "      <th>Ending Station Longitude</th>\n",
       "      <th>Bike ID</th>\n",
       "      <th>Trip Route Category</th>\n",
       "      <th>Passholder Type</th>\n",
       "      <th>Time Only</th>\n",
       "    </tr>\n",
       "    <tr>\n",
       "      <th>Trip ID</th>\n",
       "      <th></th>\n",
       "      <th></th>\n",
       "      <th></th>\n",
       "      <th></th>\n",
       "      <th></th>\n",
       "      <th></th>\n",
       "      <th></th>\n",
       "      <th></th>\n",
       "      <th></th>\n",
       "      <th></th>\n",
       "      <th></th>\n",
       "      <th></th>\n",
       "      <th></th>\n",
       "    </tr>\n",
       "  </thead>\n",
       "  <tbody>\n",
       "    <tr>\n",
       "      <th>17848847</th>\n",
       "      <td>8.0</td>\n",
       "      <td>2017-01-13 21:32:00</td>\n",
       "      <td>2017-01-13 21:40:00</td>\n",
       "      <td>3082.0</td>\n",
       "      <td>34.046520</td>\n",
       "      <td>-118.237411</td>\n",
       "      <td>3036.0</td>\n",
       "      <td>34.039188</td>\n",
       "      <td>-118.232529</td>\n",
       "      <td>6474.0</td>\n",
       "      <td>One Way</td>\n",
       "      <td>Walk-up</td>\n",
       "      <td>22:00:00</td>\n",
       "    </tr>\n",
       "    <tr>\n",
       "      <th>20700706</th>\n",
       "      <td>9.0</td>\n",
       "      <td>2017-02-24 23:13:00</td>\n",
       "      <td>2017-02-24 23:22:00</td>\n",
       "      <td>3029.0</td>\n",
       "      <td>34.048851</td>\n",
       "      <td>-118.246422</td>\n",
       "      <td>3082.0</td>\n",
       "      <td>34.046520</td>\n",
       "      <td>-118.237411</td>\n",
       "      <td>5794.0</td>\n",
       "      <td>One Way</td>\n",
       "      <td>Monthly Pass</td>\n",
       "      <td>23:00:00</td>\n",
       "    </tr>\n",
       "    <tr>\n",
       "      <th>20595730</th>\n",
       "      <td>14.0</td>\n",
       "      <td>2017-02-23 07:34:00</td>\n",
       "      <td>2017-02-23 07:48:00</td>\n",
       "      <td>3022.0</td>\n",
       "      <td>34.046070</td>\n",
       "      <td>-118.233093</td>\n",
       "      <td>3005.0</td>\n",
       "      <td>34.048550</td>\n",
       "      <td>-118.259048</td>\n",
       "      <td>6604.0</td>\n",
       "      <td>One Way</td>\n",
       "      <td>Monthly Pass</td>\n",
       "      <td>08:00:00</td>\n",
       "    </tr>\n",
       "    <tr>\n",
       "      <th>17307719</th>\n",
       "      <td>7.0</td>\n",
       "      <td>2017-01-05 12:04:00</td>\n",
       "      <td>2017-01-05 12:11:00</td>\n",
       "      <td>3059.0</td>\n",
       "      <td>34.037949</td>\n",
       "      <td>-118.256271</td>\n",
       "      <td>3038.0</td>\n",
       "      <td>34.046822</td>\n",
       "      <td>-118.248352</td>\n",
       "      <td>6035.0</td>\n",
       "      <td>One Way</td>\n",
       "      <td>Monthly Pass</td>\n",
       "      <td>12:00:00</td>\n",
       "    </tr>\n",
       "    <tr>\n",
       "      <th>18941656</th>\n",
       "      <td>14.0</td>\n",
       "      <td>2017-01-30 20:19:00</td>\n",
       "      <td>2017-01-30 20:33:00</td>\n",
       "      <td>3035.0</td>\n",
       "      <td>34.048401</td>\n",
       "      <td>-118.260948</td>\n",
       "      <td>3040.0</td>\n",
       "      <td>34.053570</td>\n",
       "      <td>-118.266357</td>\n",
       "      <td>6728.0</td>\n",
       "      <td>One Way</td>\n",
       "      <td>Walk-up</td>\n",
       "      <td>20:00:00</td>\n",
       "    </tr>\n",
       "  </tbody>\n",
       "</table>\n",
       "</div>"
      ],
      "text/plain": [
       "          Duration          Start Time            End Time  \\\n",
       "Trip ID                                                      \n",
       "17848847       8.0 2017-01-13 21:32:00 2017-01-13 21:40:00   \n",
       "20700706       9.0 2017-02-24 23:13:00 2017-02-24 23:22:00   \n",
       "20595730      14.0 2017-02-23 07:34:00 2017-02-23 07:48:00   \n",
       "17307719       7.0 2017-01-05 12:04:00 2017-01-05 12:11:00   \n",
       "18941656      14.0 2017-01-30 20:19:00 2017-01-30 20:33:00   \n",
       "\n",
       "          Starting Station ID  Starting Station Latitude  \\\n",
       "Trip ID                                                    \n",
       "17848847               3082.0                  34.046520   \n",
       "20700706               3029.0                  34.048851   \n",
       "20595730               3022.0                  34.046070   \n",
       "17307719               3059.0                  34.037949   \n",
       "18941656               3035.0                  34.048401   \n",
       "\n",
       "          Starting Station Longitude  Ending Station ID  \\\n",
       "Trip ID                                                   \n",
       "17848847                 -118.237411             3036.0   \n",
       "20700706                 -118.246422             3082.0   \n",
       "20595730                 -118.233093             3005.0   \n",
       "17307719                 -118.256271             3038.0   \n",
       "18941656                 -118.260948             3040.0   \n",
       "\n",
       "          Ending Station Latitude  Ending Station Longitude  Bike ID  \\\n",
       "Trip ID                                                                \n",
       "17848847                34.039188               -118.232529   6474.0   \n",
       "20700706                34.046520               -118.237411   5794.0   \n",
       "20595730                34.048550               -118.259048   6604.0   \n",
       "17307719                34.046822               -118.248352   6035.0   \n",
       "18941656                34.053570               -118.266357   6728.0   \n",
       "\n",
       "         Trip Route Category Passholder Type Time Only  \n",
       "Trip ID                                                 \n",
       "17848847             One Way         Walk-up  22:00:00  \n",
       "20700706             One Way    Monthly Pass  23:00:00  \n",
       "20595730             One Way    Monthly Pass  08:00:00  \n",
       "17307719             One Way    Monthly Pass  12:00:00  \n",
       "18941656             One Way         Walk-up  20:00:00  "
      ]
     },
     "execution_count": 83,
     "metadata": {},
     "output_type": "execute_result"
    }
   ],
   "source": [
    "df['Time Only']= df['Start Time'].dt.round('H')\n",
    "df['Time Only']=pd.to_datetime(df['Time Only'],format= '%H:%M:%S' ).dt.time\n",
    "df.head()"
   ]
  },
  {
   "cell_type": "code",
   "execution_count": 109,
   "metadata": {},
   "outputs": [
    {
     "data": {
      "image/png": "[encoded data removed]",
      "text/plain": [
       "<Figure size 864x288 with 1 Axes>"
      ]
     },
     "metadata": {
      "needs_background": "light"
     },
     "output_type": "display_data"
    }
   ],
   "source": [
    "plt.figure(figsize=(12,4))\n",
    "plt.scatter(df['Time Only'].value_counts().index,df['Time Only'].value_counts().values)\n",
    "plt.show()"
   ]
  },
  {
   "cell_type": "code",
   "execution_count": null,
   "metadata": {},
   "outputs": [],
   "source": []
  },
  {
   "cell_type": "code",
   "execution_count": 119,
   "metadata": {},
   "outputs": [
    {
     "data": {
      "image/png": "[encoded data removed]",
      "text/plain": [
       "<Figure size 1008x576 with 7 Axes>"
      ]
     },
     "metadata": {
      "needs_background": "light"
     },
     "output_type": "display_data"
    }
   ],
   "source": [
    "plt.figure(figsize=(14,8))\n",
    "days=['Monday','Tuesday','Wednesday','Thursday','Friday','Saturday','Sunday']\n",
    "for i in range(len(days)):\n",
    "    plt.subplot(2,4,i+1)\n",
    "    plt.scatter(df.loc[df['Start Day'] == days[i]]['Time Only'].value_counts().index,df.loc[df['Start Day'] == days[i]]['Time Only'].value_counts().values)\n",
    "    plt.title(days[i])\n",
    "plt.tight_layout()"
   ]
  },
  {
   "cell_type": "code",
   "execution_count": null,
   "metadata": {},
   "outputs": [],
   "source": []
  },
  {
   "cell_type": "code",
   "execution_count": null,
   "metadata": {},
   "outputs": [],
   "source": []
  },
  {
   "cell_type": "code",
   "execution_count": null,
   "metadata": {},
   "outputs": [],
   "source": []
  },
  {
   "cell_type": "code",
   "execution_count": 47,
   "metadata": {},
   "outputs": [
    {
     "data": {
      "text/html": [
       "<div>\n",
       "<style scoped>\n",
       "    .dataframe tbody tr th:only-of-type {\n",
       "        vertical-align: middle;\n",
       "    }\n",
       "\n",
       "    .dataframe tbody tr th {\n",
       "        vertical-align: top;\n",
       "    }\n",
       "\n",
       "    .dataframe thead th {\n",
       "        text-align: right;\n",
       "    }\n",
       "</style>\n",
       "<table border=\"1\" class=\"dataframe\">\n",
       "  <thead>\n",
       "    <tr style=\"text-align: right;\">\n",
       "      <th></th>\n",
       "      <th>count</th>\n",
       "      <th>mean</th>\n",
       "      <th>std</th>\n",
       "      <th>min</th>\n",
       "      <th>25%</th>\n",
       "      <th>50%</th>\n",
       "      <th>75%</th>\n",
       "      <th>max</th>\n",
       "    </tr>\n",
       "    <tr>\n",
       "      <th>Trip Route Category</th>\n",
       "      <th></th>\n",
       "      <th></th>\n",
       "      <th></th>\n",
       "      <th></th>\n",
       "      <th></th>\n",
       "      <th></th>\n",
       "      <th></th>\n",
       "      <th></th>\n",
       "    </tr>\n",
       "  </thead>\n",
       "  <tbody>\n",
       "    <tr>\n",
       "      <th>One Way</th>\n",
       "      <td>118070.0</td>\n",
       "      <td>19.119870</td>\n",
       "      <td>69.338844</td>\n",
       "      <td>1.0</td>\n",
       "      <td>6.0</td>\n",
       "      <td>10.0</td>\n",
       "      <td>16.0</td>\n",
       "      <td>1440.0</td>\n",
       "    </tr>\n",
       "    <tr>\n",
       "      <th>Round Trip</th>\n",
       "      <td>12645.0</td>\n",
       "      <td>54.962198</td>\n",
       "      <td>128.778401</td>\n",
       "      <td>1.0</td>\n",
       "      <td>15.0</td>\n",
       "      <td>28.0</td>\n",
       "      <td>53.0</td>\n",
       "      <td>1440.0</td>\n",
       "    </tr>\n",
       "  </tbody>\n",
       "</table>\n",
       "</div>"
      ],
      "text/plain": [
       "                        count       mean         std  min   25%   50%   75%  \\\n",
       "Trip Route Category                                                           \n",
       "One Way              118070.0  19.119870   69.338844  1.0   6.0  10.0  16.0   \n",
       "Round Trip            12645.0  54.962198  128.778401  1.0  15.0  28.0  53.0   \n",
       "\n",
       "                        max  \n",
       "Trip Route Category          \n",
       "One Way              1440.0  \n",
       "Round Trip           1440.0  "
      ]
     },
     "execution_count": 47,
     "metadata": {},
     "output_type": "execute_result"
    }
   ],
   "source": [
    "df.groupby('Trip Route Category')['Duration'].describe()"
   ]
  },
  {
   "cell_type": "code",
   "execution_count": null,
   "metadata": {},
   "outputs": [],
   "source": []
  },
  {
   "cell_type": "code",
   "execution_count": null,
   "metadata": {},
   "outputs": [],
   "source": []
  },
  {
   "cell_type": "code",
   "execution_count": 48,
   "metadata": {},
   "outputs": [
    {
     "data": {
      "text/html": [
       "<div>\n",
       "<style scoped>\n",
       "    .dataframe tbody tr th:only-of-type {\n",
       "        vertical-align: middle;\n",
       "    }\n",
       "\n",
       "    .dataframe tbody tr th {\n",
       "        vertical-align: top;\n",
       "    }\n",
       "\n",
       "    .dataframe thead th {\n",
       "        text-align: right;\n",
       "    }\n",
       "</style>\n",
       "<table border=\"1\" class=\"dataframe\">\n",
       "  <thead>\n",
       "    <tr style=\"text-align: right;\">\n",
       "      <th></th>\n",
       "      <th>count</th>\n",
       "      <th>mean</th>\n",
       "      <th>std</th>\n",
       "      <th>min</th>\n",
       "      <th>25%</th>\n",
       "      <th>50%</th>\n",
       "      <th>75%</th>\n",
       "      <th>max</th>\n",
       "    </tr>\n",
       "    <tr>\n",
       "      <th>Passholder Type</th>\n",
       "      <th></th>\n",
       "      <th></th>\n",
       "      <th></th>\n",
       "      <th></th>\n",
       "      <th></th>\n",
       "      <th></th>\n",
       "      <th></th>\n",
       "      <th></th>\n",
       "    </tr>\n",
       "  </thead>\n",
       "  <tbody>\n",
       "    <tr>\n",
       "      <th>Flex Pass</th>\n",
       "      <td>9466.0</td>\n",
       "      <td>17.804775</td>\n",
       "      <td>63.565957</td>\n",
       "      <td>1.0</td>\n",
       "      <td>7.0</td>\n",
       "      <td>10.0</td>\n",
       "      <td>15.0</td>\n",
       "      <td>1440.0</td>\n",
       "    </tr>\n",
       "    <tr>\n",
       "      <th>Monthly Pass</th>\n",
       "      <td>80493.0</td>\n",
       "      <td>12.938119</td>\n",
       "      <td>41.715014</td>\n",
       "      <td>1.0</td>\n",
       "      <td>5.0</td>\n",
       "      <td>8.0</td>\n",
       "      <td>13.0</td>\n",
       "      <td>1440.0</td>\n",
       "    </tr>\n",
       "    <tr>\n",
       "      <th>Walk-up</th>\n",
       "      <td>40756.0</td>\n",
       "      <td>42.754735</td>\n",
       "      <td>120.260342</td>\n",
       "      <td>1.0</td>\n",
       "      <td>11.0</td>\n",
       "      <td>19.0</td>\n",
       "      <td>34.0</td>\n",
       "      <td>1440.0</td>\n",
       "    </tr>\n",
       "  </tbody>\n",
       "</table>\n",
       "</div>"
      ],
      "text/plain": [
       "                   count       mean         std  min   25%   50%   75%     max\n",
       "Passholder Type                                                               \n",
       "Flex Pass         9466.0  17.804775   63.565957  1.0   7.0  10.0  15.0  1440.0\n",
       "Monthly Pass     80493.0  12.938119   41.715014  1.0   5.0   8.0  13.0  1440.0\n",
       "Walk-up          40756.0  42.754735  120.260342  1.0  11.0  19.0  34.0  1440.0"
      ]
     },
     "execution_count": 48,
     "metadata": {},
     "output_type": "execute_result"
    }
   ],
   "source": [
    "df.groupby('Passholder Type')['Duration'].describe()"
   ]
  },
  {
   "cell_type": "code",
   "execution_count": 49,
   "metadata": {},
   "outputs": [
    {
     "data": {
      "text/plain": [
       "Passholder Type  Trip Route Category\n",
       "Flex Pass        One Way                0.948658\n",
       "                 Round Trip             0.051342\n",
       "Monthly Pass     One Way                0.953984\n",
       "                 Round Trip             0.046016\n",
       "Walk-up          One Way                0.792546\n",
       "                 Round Trip             0.207454\n",
       "Name: Trip Route Category, dtype: float64"
      ]
     },
     "execution_count": 49,
     "metadata": {},
     "output_type": "execute_result"
    }
   ],
   "source": [
    "df.groupby('Passholder Type')['Trip Route Category'].value_counts(normalize=True)"
   ]
  },
  {
   "cell_type": "code",
   "execution_count": null,
   "metadata": {},
   "outputs": [],
   "source": []
  },
  {
   "cell_type": "code",
   "execution_count": null,
   "metadata": {},
   "outputs": [],
   "source": []
  },
  {
   "cell_type": "code",
   "execution_count": null,
   "metadata": {},
   "outputs": [],
   "source": []
  },
  {
   "cell_type": "code",
   "execution_count": null,
   "metadata": {},
   "outputs": [],
   "source": []
  },
  {
   "cell_type": "code",
   "execution_count": null,
   "metadata": {
    "scrolled": false
   },
   "outputs": [],
   "source": [
    "plt.figure(figsize=(15,4))\n",
    "df.loc[df.Duration<30]['Duration'].hist(bins=29)\n",
    "# plt.ylim(0,30000)\n",
    "# plt.xlim(0,5000)"
   ]
  },
  {
   "cell_type": "markdown",
   "metadata": {},
   "source": [
    "Notes:\n",
    "corellate distance/duration? probs not\n",
    "\n",
    "insert day of week and month \n",
    "\n",
    "bin start time? morning/afternoon/evening?\n",
    "\n",
    "clustering of stations? <i> 1 main cluster really</i>\n",
    "\n",
    "\n",
    "machine learning:\n",
    "ride duration classifier?\n",
    "pickups from station per day/time period?\n"
   ]
  },
  {
   "cell_type": "code",
   "execution_count": null,
   "metadata": {},
   "outputs": [],
   "source": []
  }
 ],
 "metadata": {
  "kernelspec": {
   "display_name": "Python 3",
   "language": "python",
   "name": "python3"
  },
  "language_info": {
   "codemirror_mode": {
    "name": "ipython",
    "version": 3
   },
   "file_extension": ".py",
   "mimetype": "text/x-python",
   "name": "python",
   "nbconvert_exporter": "python",
   "pygments_lexer": "ipython3",
   "version": "3.7.1"
  }
 },
 "nbformat": 4,
 "nbformat_minor": 2
}
