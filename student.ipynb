{
 "cells": [
  {
   "cell_type": "markdown",
   "metadata": {},
   "source": [
    "## Final Project Submission\n",
    "\n",
    "Please fill out:\n",
    "* Student name: Kosta Tzioumis\n",
    "* Student pace: part time \n",
    "* Scheduled project review date/time: \n",
    "* Instructor name: Eli\n",
    "* Blog post URL:\n"
   ]
  },
  {
   "cell_type": "markdown",
   "metadata": {},
   "source": [
    "## Data Set obtained from:\n",
    "https://www.kaggle.com/cityofLA/los-angeles-metro-bike-share-trip-data"
   ]
  },
  {
   "cell_type": "code",
   "execution_count": 1,
   "metadata": {},
   "outputs": [],
   "source": [
    "import pandas as pd\n",
    "import numpy as np\n",
    "import matplotlib.pyplot as plt\n",
    "%matplotlib inline"
   ]
  },
  {
   "cell_type": "code",
   "execution_count": 2,
   "metadata": {
    "scrolled": true
   },
   "outputs": [
    {
     "data": {
      "text/html": [
       "<div>\n",
       "<style scoped>\n",
       "    .dataframe tbody tr th:only-of-type {\n",
       "        vertical-align: middle;\n",
       "    }\n",
       "\n",
       "    .dataframe tbody tr th {\n",
       "        vertical-align: top;\n",
       "    }\n",
       "\n",
       "    .dataframe thead th {\n",
       "        text-align: right;\n",
       "    }\n",
       "</style>\n",
       "<table border=\"1\" class=\"dataframe\">\n",
       "  <thead>\n",
       "    <tr style=\"text-align: right;\">\n",
       "      <th></th>\n",
       "      <th>Trip ID</th>\n",
       "      <th>Duration</th>\n",
       "      <th>Start Time</th>\n",
       "      <th>End Time</th>\n",
       "      <th>Starting Station ID</th>\n",
       "      <th>Starting Station Latitude</th>\n",
       "      <th>Starting Station Longitude</th>\n",
       "      <th>Ending Station ID</th>\n",
       "      <th>Ending Station Latitude</th>\n",
       "      <th>Ending Station Longitude</th>\n",
       "      <th>...</th>\n",
       "      <th>Trip Route Category</th>\n",
       "      <th>Passholder Type</th>\n",
       "      <th>Starting Lat-Long</th>\n",
       "      <th>Ending Lat-Long</th>\n",
       "      <th>Neighborhood Councils (Certified)</th>\n",
       "      <th>Council Districts</th>\n",
       "      <th>Zip Codes</th>\n",
       "      <th>LA Specific Plans</th>\n",
       "      <th>Precinct Boundaries</th>\n",
       "      <th>Census Tracts</th>\n",
       "    </tr>\n",
       "  </thead>\n",
       "  <tbody>\n",
       "    <tr>\n",
       "      <th>0</th>\n",
       "      <td>18222186</td>\n",
       "      <td>15060</td>\n",
       "      <td>2017-01-19T17:05:00.000</td>\n",
       "      <td>2017-01-19T21:16:00.000</td>\n",
       "      <td>3031.0</td>\n",
       "      <td>34.044701</td>\n",
       "      <td>-118.252441</td>\n",
       "      <td>3000.0</td>\n",
       "      <td>NaN</td>\n",
       "      <td>NaN</td>\n",
       "      <td>...</td>\n",
       "      <td>One Way</td>\n",
       "      <td>Walk-up</td>\n",
       "      <td>NaN</td>\n",
       "      <td>NaN</td>\n",
       "      <td>NaN</td>\n",
       "      <td>NaN</td>\n",
       "      <td>NaN</td>\n",
       "      <td>NaN</td>\n",
       "      <td>NaN</td>\n",
       "      <td>NaN</td>\n",
       "    </tr>\n",
       "    <tr>\n",
       "      <th>1</th>\n",
       "      <td>9518671</td>\n",
       "      <td>77160</td>\n",
       "      <td>2016-10-09T14:37:00.000</td>\n",
       "      <td>2016-10-10T12:03:00.000</td>\n",
       "      <td>NaN</td>\n",
       "      <td>NaN</td>\n",
       "      <td>NaN</td>\n",
       "      <td>3000.0</td>\n",
       "      <td>NaN</td>\n",
       "      <td>NaN</td>\n",
       "      <td>...</td>\n",
       "      <td>One Way</td>\n",
       "      <td>Monthly Pass</td>\n",
       "      <td>NaN</td>\n",
       "      <td>NaN</td>\n",
       "      <td>NaN</td>\n",
       "      <td>NaN</td>\n",
       "      <td>NaN</td>\n",
       "      <td>NaN</td>\n",
       "      <td>NaN</td>\n",
       "      <td>NaN</td>\n",
       "    </tr>\n",
       "    <tr>\n",
       "      <th>2</th>\n",
       "      <td>20444932</td>\n",
       "      <td>86400</td>\n",
       "      <td>2017-02-18T10:15:00.000</td>\n",
       "      <td>2017-02-20T15:20:00.000</td>\n",
       "      <td>3026.0</td>\n",
       "      <td>34.063179</td>\n",
       "      <td>-118.245880</td>\n",
       "      <td>3000.0</td>\n",
       "      <td>NaN</td>\n",
       "      <td>NaN</td>\n",
       "      <td>...</td>\n",
       "      <td>One Way</td>\n",
       "      <td>Walk-up</td>\n",
       "      <td>NaN</td>\n",
       "      <td>NaN</td>\n",
       "      <td>NaN</td>\n",
       "      <td>NaN</td>\n",
       "      <td>NaN</td>\n",
       "      <td>NaN</td>\n",
       "      <td>NaN</td>\n",
       "      <td>NaN</td>\n",
       "    </tr>\n",
       "    <tr>\n",
       "      <th>3</th>\n",
       "      <td>20905031</td>\n",
       "      <td>18840</td>\n",
       "      <td>2017-02-27T12:26:00.000</td>\n",
       "      <td>2017-02-27T17:40:00.000</td>\n",
       "      <td>3023.0</td>\n",
       "      <td>34.050911</td>\n",
       "      <td>-118.240967</td>\n",
       "      <td>3000.0</td>\n",
       "      <td>NaN</td>\n",
       "      <td>NaN</td>\n",
       "      <td>...</td>\n",
       "      <td>One Way</td>\n",
       "      <td>Walk-up</td>\n",
       "      <td>NaN</td>\n",
       "      <td>NaN</td>\n",
       "      <td>NaN</td>\n",
       "      <td>NaN</td>\n",
       "      <td>NaN</td>\n",
       "      <td>NaN</td>\n",
       "      <td>NaN</td>\n",
       "      <td>NaN</td>\n",
       "    </tr>\n",
       "    <tr>\n",
       "      <th>4</th>\n",
       "      <td>21031476</td>\n",
       "      <td>86400</td>\n",
       "      <td>2017-02-27T20:26:00.000</td>\n",
       "      <td>2017-03-01T09:49:00.000</td>\n",
       "      <td>3008.0</td>\n",
       "      <td>34.046612</td>\n",
       "      <td>-118.262733</td>\n",
       "      <td>3000.0</td>\n",
       "      <td>NaN</td>\n",
       "      <td>NaN</td>\n",
       "      <td>...</td>\n",
       "      <td>One Way</td>\n",
       "      <td>Flex Pass</td>\n",
       "      <td>NaN</td>\n",
       "      <td>NaN</td>\n",
       "      <td>NaN</td>\n",
       "      <td>NaN</td>\n",
       "      <td>NaN</td>\n",
       "      <td>NaN</td>\n",
       "      <td>NaN</td>\n",
       "      <td>NaN</td>\n",
       "    </tr>\n",
       "    <tr>\n",
       "      <th>5</th>\n",
       "      <td>9378284</td>\n",
       "      <td>60</td>\n",
       "      <td>2016-10-09T09:40:00.000</td>\n",
       "      <td>2016-10-09T09:41:00.000</td>\n",
       "      <td>NaN</td>\n",
       "      <td>NaN</td>\n",
       "      <td>NaN</td>\n",
       "      <td>NaN</td>\n",
       "      <td>NaN</td>\n",
       "      <td>NaN</td>\n",
       "      <td>...</td>\n",
       "      <td>One Way</td>\n",
       "      <td>Staff Annual</td>\n",
       "      <td>NaN</td>\n",
       "      <td>NaN</td>\n",
       "      <td>NaN</td>\n",
       "      <td>NaN</td>\n",
       "      <td>NaN</td>\n",
       "      <td>NaN</td>\n",
       "      <td>NaN</td>\n",
       "      <td>NaN</td>\n",
       "    </tr>\n",
       "    <tr>\n",
       "      <th>6</th>\n",
       "      <td>21784648</td>\n",
       "      <td>14760</td>\n",
       "      <td>2017-03-10T17:38:00.000</td>\n",
       "      <td>2017-03-10T21:44:00.000</td>\n",
       "      <td>3065.0</td>\n",
       "      <td>34.060558</td>\n",
       "      <td>-118.238327</td>\n",
       "      <td>3000.0</td>\n",
       "      <td>NaN</td>\n",
       "      <td>NaN</td>\n",
       "      <td>...</td>\n",
       "      <td>One Way</td>\n",
       "      <td>Walk-up</td>\n",
       "      <td>NaN</td>\n",
       "      <td>NaN</td>\n",
       "      <td>NaN</td>\n",
       "      <td>NaN</td>\n",
       "      <td>NaN</td>\n",
       "      <td>NaN</td>\n",
       "      <td>NaN</td>\n",
       "      <td>NaN</td>\n",
       "    </tr>\n",
       "    <tr>\n",
       "      <th>7</th>\n",
       "      <td>22506739</td>\n",
       "      <td>79020</td>\n",
       "      <td>2017-03-17T19:20:00.000</td>\n",
       "      <td>2017-03-18T17:17:00.000</td>\n",
       "      <td>3063.0</td>\n",
       "      <td>34.049198</td>\n",
       "      <td>-118.252831</td>\n",
       "      <td>3000.0</td>\n",
       "      <td>NaN</td>\n",
       "      <td>NaN</td>\n",
       "      <td>...</td>\n",
       "      <td>One Way</td>\n",
       "      <td>Walk-up</td>\n",
       "      <td>NaN</td>\n",
       "      <td>NaN</td>\n",
       "      <td>NaN</td>\n",
       "      <td>NaN</td>\n",
       "      <td>NaN</td>\n",
       "      <td>NaN</td>\n",
       "      <td>NaN</td>\n",
       "      <td>NaN</td>\n",
       "    </tr>\n",
       "    <tr>\n",
       "      <th>8</th>\n",
       "      <td>20889067</td>\n",
       "      <td>86400</td>\n",
       "      <td>2017-02-26T12:18:00.000</td>\n",
       "      <td>2017-02-27T12:36:00.000</td>\n",
       "      <td>3062.0</td>\n",
       "      <td>34.047749</td>\n",
       "      <td>-118.243172</td>\n",
       "      <td>3000.0</td>\n",
       "      <td>NaN</td>\n",
       "      <td>NaN</td>\n",
       "      <td>...</td>\n",
       "      <td>One Way</td>\n",
       "      <td>Walk-up</td>\n",
       "      <td>NaN</td>\n",
       "      <td>NaN</td>\n",
       "      <td>NaN</td>\n",
       "      <td>NaN</td>\n",
       "      <td>NaN</td>\n",
       "      <td>NaN</td>\n",
       "      <td>NaN</td>\n",
       "      <td>NaN</td>\n",
       "    </tr>\n",
       "    <tr>\n",
       "      <th>9</th>\n",
       "      <td>18481915</td>\n",
       "      <td>600</td>\n",
       "      <td>2017-01-23T18:48:00.000</td>\n",
       "      <td>2017-01-23T18:58:00.000</td>\n",
       "      <td>3082.0</td>\n",
       "      <td>34.046520</td>\n",
       "      <td>-118.237411</td>\n",
       "      <td>3000.0</td>\n",
       "      <td>NaN</td>\n",
       "      <td>NaN</td>\n",
       "      <td>...</td>\n",
       "      <td>One Way</td>\n",
       "      <td>Monthly Pass</td>\n",
       "      <td>NaN</td>\n",
       "      <td>NaN</td>\n",
       "      <td>NaN</td>\n",
       "      <td>NaN</td>\n",
       "      <td>NaN</td>\n",
       "      <td>NaN</td>\n",
       "      <td>NaN</td>\n",
       "      <td>NaN</td>\n",
       "    </tr>\n",
       "  </tbody>\n",
       "</table>\n",
       "<p>10 rows × 22 columns</p>\n",
       "</div>"
      ],
      "text/plain": [
       "    Trip ID  Duration               Start Time                 End Time  \\\n",
       "0  18222186     15060  2017-01-19T17:05:00.000  2017-01-19T21:16:00.000   \n",
       "1   9518671     77160  2016-10-09T14:37:00.000  2016-10-10T12:03:00.000   \n",
       "2  20444932     86400  2017-02-18T10:15:00.000  2017-02-20T15:20:00.000   \n",
       "3  20905031     18840  2017-02-27T12:26:00.000  2017-02-27T17:40:00.000   \n",
       "4  21031476     86400  2017-02-27T20:26:00.000  2017-03-01T09:49:00.000   \n",
       "5   9378284        60  2016-10-09T09:40:00.000  2016-10-09T09:41:00.000   \n",
       "6  21784648     14760  2017-03-10T17:38:00.000  2017-03-10T21:44:00.000   \n",
       "7  22506739     79020  2017-03-17T19:20:00.000  2017-03-18T17:17:00.000   \n",
       "8  20889067     86400  2017-02-26T12:18:00.000  2017-02-27T12:36:00.000   \n",
       "9  18481915       600  2017-01-23T18:48:00.000  2017-01-23T18:58:00.000   \n",
       "\n",
       "   Starting Station ID  Starting Station Latitude  Starting Station Longitude  \\\n",
       "0               3031.0                  34.044701                 -118.252441   \n",
       "1                  NaN                        NaN                         NaN   \n",
       "2               3026.0                  34.063179                 -118.245880   \n",
       "3               3023.0                  34.050911                 -118.240967   \n",
       "4               3008.0                  34.046612                 -118.262733   \n",
       "5                  NaN                        NaN                         NaN   \n",
       "6               3065.0                  34.060558                 -118.238327   \n",
       "7               3063.0                  34.049198                 -118.252831   \n",
       "8               3062.0                  34.047749                 -118.243172   \n",
       "9               3082.0                  34.046520                 -118.237411   \n",
       "\n",
       "   Ending Station ID  Ending Station Latitude  Ending Station Longitude  \\\n",
       "0             3000.0                      NaN                       NaN   \n",
       "1             3000.0                      NaN                       NaN   \n",
       "2             3000.0                      NaN                       NaN   \n",
       "3             3000.0                      NaN                       NaN   \n",
       "4             3000.0                      NaN                       NaN   \n",
       "5                NaN                      NaN                       NaN   \n",
       "6             3000.0                      NaN                       NaN   \n",
       "7             3000.0                      NaN                       NaN   \n",
       "8             3000.0                      NaN                       NaN   \n",
       "9             3000.0                      NaN                       NaN   \n",
       "\n",
       "       ...        Trip Route Category  Passholder Type Starting Lat-Long  \\\n",
       "0      ...                    One Way          Walk-up               NaN   \n",
       "1      ...                    One Way     Monthly Pass               NaN   \n",
       "2      ...                    One Way          Walk-up               NaN   \n",
       "3      ...                    One Way          Walk-up               NaN   \n",
       "4      ...                    One Way        Flex Pass               NaN   \n",
       "5      ...                    One Way     Staff Annual               NaN   \n",
       "6      ...                    One Way          Walk-up               NaN   \n",
       "7      ...                    One Way          Walk-up               NaN   \n",
       "8      ...                    One Way          Walk-up               NaN   \n",
       "9      ...                    One Way     Monthly Pass               NaN   \n",
       "\n",
       "  Ending Lat-Long Neighborhood Councils (Certified) Council Districts  \\\n",
       "0             NaN                               NaN               NaN   \n",
       "1             NaN                               NaN               NaN   \n",
       "2             NaN                               NaN               NaN   \n",
       "3             NaN                               NaN               NaN   \n",
       "4             NaN                               NaN               NaN   \n",
       "5             NaN                               NaN               NaN   \n",
       "6             NaN                               NaN               NaN   \n",
       "7             NaN                               NaN               NaN   \n",
       "8             NaN                               NaN               NaN   \n",
       "9             NaN                               NaN               NaN   \n",
       "\n",
       "   Zip Codes  LA Specific Plans  Precinct Boundaries  Census Tracts  \n",
       "0        NaN                NaN                  NaN            NaN  \n",
       "1        NaN                NaN                  NaN            NaN  \n",
       "2        NaN                NaN                  NaN            NaN  \n",
       "3        NaN                NaN                  NaN            NaN  \n",
       "4        NaN                NaN                  NaN            NaN  \n",
       "5        NaN                NaN                  NaN            NaN  \n",
       "6        NaN                NaN                  NaN            NaN  \n",
       "7        NaN                NaN                  NaN            NaN  \n",
       "8        NaN                NaN                  NaN            NaN  \n",
       "9        NaN                NaN                  NaN            NaN  \n",
       "\n",
       "[10 rows x 22 columns]"
      ]
     },
     "execution_count": 2,
     "metadata": {},
     "output_type": "execute_result"
    }
   ],
   "source": [
    "df=pd.read_csv('metro-bike-share-trip-data.csv')\n",
    "df.head(10)"
   ]
  },
  {
   "cell_type": "code",
   "execution_count": 3,
   "metadata": {
    "scrolled": true
   },
   "outputs": [
    {
     "data": {
      "text/plain": [
       "(132427, 22)"
      ]
     },
     "execution_count": 3,
     "metadata": {},
     "output_type": "execute_result"
    }
   ],
   "source": [
    "df.shape"
   ]
  },
  {
   "cell_type": "markdown",
   "metadata": {},
   "source": [
    "Feature descriptions from https://bikeshare.metro.net/about/data/\n",
    "\n",
    "<b>trip_id:</b> Locally unique integer that identifies the trip\n",
    "\n",
    "<b>duration:</b> Length of trip in <i> minutes*</i>\n",
    "\n",
    "<b>start_time:</b> The date/time when the trip began, presented in ISO 8601 format in local time\n",
    "\n",
    "<b>end_time: </b>The date/time when the trip ended, presented in ISO 8601 format in local time\n",
    "\n",
    "<b>start_station:</b> The station ID where the trip originated \n",
    "\n",
    "<b>start_lat:</b> The latitude of the station where the trip originated\n",
    "\n",
    "<b>start_lon: </b>The longitude of the station where the trip originated\n",
    "\n",
    "<b>end_station: </b>The station ID where the trip terminated \n",
    "\n",
    "<b>end_lat: </b>The latitude of the station where the trip terminated\n",
    "\n",
    "<b>end_lon: </b>The longitude of the station where the trip terminated\n",
    "\n",
    "<b>bike_id: </b> Locally unique integer that identifies the bike\n",
    "    \n",
    "<b>plan_duration: </b>The number of days that the plan the passholder is using entitles them to ride; 0 is used for a single ride plan (Walk-up)\n",
    "\n",
    "<b>trip_route_category:</b> \"Round Trip\" for trips starting and ending at the same station or \"One Way\" for all other trips\n",
    "\n",
    "<b>passholder_type: </b>The name of the passholder's plan\n",
    "\n",
    "*units are actually in but each instance is a multiple of 60 i.e. a whole minute number. We will convert this to minutes\n",
    "\n",
    "Other features are not officially described by Metro Bike Share\n",
    "\n",
    "Starting Lat-Long and Ending Lat-Long appear to be repetitions of previous station data and can be dropped safely\n",
    "\n",
    "Remaining features appear to be LA geographic information not relevant to this study, many of which include large amounts of missing data. These will  also be dropped."
   ]
  },
  {
   "cell_type": "code",
   "execution_count": 4,
   "metadata": {
    "scrolled": false
   },
   "outputs": [
    {
     "name": "stdout",
     "output_type": "stream",
     "text": [
      "<class 'pandas.core.frame.DataFrame'>\n",
      "RangeIndex: 132427 entries, 0 to 132426\n",
      "Data columns (total 22 columns):\n",
      "Trip ID                              132427 non-null int64\n",
      "Duration                             132427 non-null int64\n",
      "Start Time                           132427 non-null object\n",
      "End Time                             132427 non-null object\n",
      "Starting Station ID                  132408 non-null float64\n",
      "Starting Station Latitude            132379 non-null float64\n",
      "Starting Station Longitude           132379 non-null float64\n",
      "Ending Station ID                    132331 non-null float64\n",
      "Ending Station Latitude              131376 non-null float64\n",
      "Ending Station Longitude             131376 non-null float64\n",
      "Bike ID                              132417 non-null float64\n",
      "Plan Duration                        131661 non-null float64\n",
      "Trip Route Category                  132427 non-null object\n",
      "Passholder Type                      132427 non-null object\n",
      "Starting Lat-Long                    98622 non-null object\n",
      "Ending Lat-Long                      131376 non-null object\n",
      "Neighborhood Councils (Certified)    98590 non-null float64\n",
      "Council Districts                    98590 non-null float64\n",
      "Zip Codes                            98590 non-null float64\n",
      "LA Specific Plans                    15837 non-null float64\n",
      "Precinct Boundaries                  131328 non-null float64\n",
      "Census Tracts                        131328 non-null float64\n",
      "dtypes: float64(14), int64(2), object(6)\n",
      "memory usage: 22.2+ MB\n"
     ]
    }
   ],
   "source": [
    "df.info()"
   ]
  },
  {
   "cell_type": "code",
   "execution_count": 5,
   "metadata": {
    "scrolled": true
   },
   "outputs": [
    {
     "data": {
      "text/plain": [
       "Trip ID                                   0\n",
       "Duration                                  0\n",
       "Start Time                                0\n",
       "End Time                                  0\n",
       "Starting Station ID                      19\n",
       "Starting Station Latitude                48\n",
       "Starting Station Longitude               48\n",
       "Ending Station ID                        96\n",
       "Ending Station Latitude                1051\n",
       "Ending Station Longitude               1051\n",
       "Bike ID                                  10\n",
       "Plan Duration                           766\n",
       "Trip Route Category                       0\n",
       "Passholder Type                           0\n",
       "Starting Lat-Long                     33805\n",
       "Ending Lat-Long                        1051\n",
       "Neighborhood Councils (Certified)     33837\n",
       "Council Districts                     33837\n",
       "Zip Codes                             33837\n",
       "LA Specific Plans                    116590\n",
       "Precinct Boundaries                    1099\n",
       "Census Tracts                          1099\n",
       "dtype: int64"
      ]
     },
     "execution_count": 5,
     "metadata": {},
     "output_type": "execute_result"
    }
   ],
   "source": [
    "df.isna().sum()"
   ]
  },
  {
   "cell_type": "code",
   "execution_count": 6,
   "metadata": {},
   "outputs": [],
   "source": [
    "df.drop(columns=['Starting Lat-Long',\n",
    "                 'Ending Lat-Long',\n",
    "                 'Neighborhood Councils (Certified)',\n",
    "                 'Council Districts',\n",
    "                 'Zip Codes',\n",
    "                 'LA Specific Plans',\n",
    "                 'Precinct Boundaries',\n",
    "                 'Census Tracts'],\n",
    "       inplace=True)\n",
    "df.Duration=df.Duration/60"
   ]
  },
  {
   "cell_type": "code",
   "execution_count": 7,
   "metadata": {},
   "outputs": [
    {
     "data": {
      "text/html": [
       "<div>\n",
       "<style scoped>\n",
       "    .dataframe tbody tr th:only-of-type {\n",
       "        vertical-align: middle;\n",
       "    }\n",
       "\n",
       "    .dataframe tbody tr th {\n",
       "        vertical-align: top;\n",
       "    }\n",
       "\n",
       "    .dataframe thead th {\n",
       "        text-align: right;\n",
       "    }\n",
       "</style>\n",
       "<table border=\"1\" class=\"dataframe\">\n",
       "  <thead>\n",
       "    <tr style=\"text-align: right;\">\n",
       "      <th></th>\n",
       "      <th>Trip ID</th>\n",
       "      <th>Duration</th>\n",
       "      <th>Start Time</th>\n",
       "      <th>End Time</th>\n",
       "      <th>Starting Station ID</th>\n",
       "      <th>Starting Station Latitude</th>\n",
       "      <th>Starting Station Longitude</th>\n",
       "      <th>Ending Station ID</th>\n",
       "      <th>Ending Station Latitude</th>\n",
       "      <th>Ending Station Longitude</th>\n",
       "      <th>Bike ID</th>\n",
       "      <th>Plan Duration</th>\n",
       "      <th>Trip Route Category</th>\n",
       "      <th>Passholder Type</th>\n",
       "    </tr>\n",
       "  </thead>\n",
       "  <tbody>\n",
       "    <tr>\n",
       "      <th>0</th>\n",
       "      <td>18222186</td>\n",
       "      <td>251.0</td>\n",
       "      <td>2017-01-19T17:05:00.000</td>\n",
       "      <td>2017-01-19T21:16:00.000</td>\n",
       "      <td>3031.0</td>\n",
       "      <td>34.044701</td>\n",
       "      <td>-118.252441</td>\n",
       "      <td>3000.0</td>\n",
       "      <td>NaN</td>\n",
       "      <td>NaN</td>\n",
       "      <td>5944.0</td>\n",
       "      <td>0.0</td>\n",
       "      <td>One Way</td>\n",
       "      <td>Walk-up</td>\n",
       "    </tr>\n",
       "    <tr>\n",
       "      <th>1</th>\n",
       "      <td>9518671</td>\n",
       "      <td>1286.0</td>\n",
       "      <td>2016-10-09T14:37:00.000</td>\n",
       "      <td>2016-10-10T12:03:00.000</td>\n",
       "      <td>NaN</td>\n",
       "      <td>NaN</td>\n",
       "      <td>NaN</td>\n",
       "      <td>3000.0</td>\n",
       "      <td>NaN</td>\n",
       "      <td>NaN</td>\n",
       "      <td>6603.0</td>\n",
       "      <td>30.0</td>\n",
       "      <td>One Way</td>\n",
       "      <td>Monthly Pass</td>\n",
       "    </tr>\n",
       "    <tr>\n",
       "      <th>2</th>\n",
       "      <td>20444932</td>\n",
       "      <td>1440.0</td>\n",
       "      <td>2017-02-18T10:15:00.000</td>\n",
       "      <td>2017-02-20T15:20:00.000</td>\n",
       "      <td>3026.0</td>\n",
       "      <td>34.063179</td>\n",
       "      <td>-118.245880</td>\n",
       "      <td>3000.0</td>\n",
       "      <td>NaN</td>\n",
       "      <td>NaN</td>\n",
       "      <td>5879.0</td>\n",
       "      <td>0.0</td>\n",
       "      <td>One Way</td>\n",
       "      <td>Walk-up</td>\n",
       "    </tr>\n",
       "    <tr>\n",
       "      <th>3</th>\n",
       "      <td>20905031</td>\n",
       "      <td>314.0</td>\n",
       "      <td>2017-02-27T12:26:00.000</td>\n",
       "      <td>2017-02-27T17:40:00.000</td>\n",
       "      <td>3023.0</td>\n",
       "      <td>34.050911</td>\n",
       "      <td>-118.240967</td>\n",
       "      <td>3000.0</td>\n",
       "      <td>NaN</td>\n",
       "      <td>NaN</td>\n",
       "      <td>6056.0</td>\n",
       "      <td>0.0</td>\n",
       "      <td>One Way</td>\n",
       "      <td>Walk-up</td>\n",
       "    </tr>\n",
       "    <tr>\n",
       "      <th>4</th>\n",
       "      <td>21031476</td>\n",
       "      <td>1440.0</td>\n",
       "      <td>2017-02-27T20:26:00.000</td>\n",
       "      <td>2017-03-01T09:49:00.000</td>\n",
       "      <td>3008.0</td>\n",
       "      <td>34.046612</td>\n",
       "      <td>-118.262733</td>\n",
       "      <td>3000.0</td>\n",
       "      <td>NaN</td>\n",
       "      <td>NaN</td>\n",
       "      <td>6054.0</td>\n",
       "      <td>365.0</td>\n",
       "      <td>One Way</td>\n",
       "      <td>Flex Pass</td>\n",
       "    </tr>\n",
       "  </tbody>\n",
       "</table>\n",
       "</div>"
      ],
      "text/plain": [
       "    Trip ID  Duration               Start Time                 End Time  \\\n",
       "0  18222186     251.0  2017-01-19T17:05:00.000  2017-01-19T21:16:00.000   \n",
       "1   9518671    1286.0  2016-10-09T14:37:00.000  2016-10-10T12:03:00.000   \n",
       "2  20444932    1440.0  2017-02-18T10:15:00.000  2017-02-20T15:20:00.000   \n",
       "3  20905031     314.0  2017-02-27T12:26:00.000  2017-02-27T17:40:00.000   \n",
       "4  21031476    1440.0  2017-02-27T20:26:00.000  2017-03-01T09:49:00.000   \n",
       "\n",
       "   Starting Station ID  Starting Station Latitude  Starting Station Longitude  \\\n",
       "0               3031.0                  34.044701                 -118.252441   \n",
       "1                  NaN                        NaN                         NaN   \n",
       "2               3026.0                  34.063179                 -118.245880   \n",
       "3               3023.0                  34.050911                 -118.240967   \n",
       "4               3008.0                  34.046612                 -118.262733   \n",
       "\n",
       "   Ending Station ID  Ending Station Latitude  Ending Station Longitude  \\\n",
       "0             3000.0                      NaN                       NaN   \n",
       "1             3000.0                      NaN                       NaN   \n",
       "2             3000.0                      NaN                       NaN   \n",
       "3             3000.0                      NaN                       NaN   \n",
       "4             3000.0                      NaN                       NaN   \n",
       "\n",
       "   Bike ID  Plan Duration Trip Route Category Passholder Type  \n",
       "0   5944.0            0.0             One Way         Walk-up  \n",
       "1   6603.0           30.0             One Way    Monthly Pass  \n",
       "2   5879.0            0.0             One Way         Walk-up  \n",
       "3   6056.0            0.0             One Way         Walk-up  \n",
       "4   6054.0          365.0             One Way       Flex Pass  "
      ]
     },
     "execution_count": 7,
     "metadata": {},
     "output_type": "execute_result"
    }
   ],
   "source": [
    "df.head()"
   ]
  },
  {
   "cell_type": "markdown",
   "metadata": {},
   "source": [
    "Trip ID can be used is a unique identifier and can be used as an index for this data.\n",
    "\n",
    "Remaining features had little missing data the largest source being just 1051 missing cells from over 132,000. Rows with missing data can be safely dropped from the datasets.\n",
    "\n",
    "Start Time and End Time will be converted to time series data types"
   ]
  },
  {
   "cell_type": "code",
   "execution_count": 8,
   "metadata": {},
   "outputs": [
    {
     "data": {
      "text/html": [
       "<div>\n",
       "<style scoped>\n",
       "    .dataframe tbody tr th:only-of-type {\n",
       "        vertical-align: middle;\n",
       "    }\n",
       "\n",
       "    .dataframe tbody tr th {\n",
       "        vertical-align: top;\n",
       "    }\n",
       "\n",
       "    .dataframe thead th {\n",
       "        text-align: right;\n",
       "    }\n",
       "</style>\n",
       "<table border=\"1\" class=\"dataframe\">\n",
       "  <thead>\n",
       "    <tr style=\"text-align: right;\">\n",
       "      <th></th>\n",
       "      <th>Duration</th>\n",
       "      <th>Start Time</th>\n",
       "      <th>End Time</th>\n",
       "      <th>Starting Station ID</th>\n",
       "      <th>Starting Station Latitude</th>\n",
       "      <th>Starting Station Longitude</th>\n",
       "      <th>Ending Station ID</th>\n",
       "      <th>Ending Station Latitude</th>\n",
       "      <th>Ending Station Longitude</th>\n",
       "      <th>Bike ID</th>\n",
       "      <th>Plan Duration</th>\n",
       "      <th>Trip Route Category</th>\n",
       "      <th>Passholder Type</th>\n",
       "    </tr>\n",
       "    <tr>\n",
       "      <th>Trip ID</th>\n",
       "      <th></th>\n",
       "      <th></th>\n",
       "      <th></th>\n",
       "      <th></th>\n",
       "      <th></th>\n",
       "      <th></th>\n",
       "      <th></th>\n",
       "      <th></th>\n",
       "      <th></th>\n",
       "      <th></th>\n",
       "      <th></th>\n",
       "      <th></th>\n",
       "      <th></th>\n",
       "    </tr>\n",
       "  </thead>\n",
       "  <tbody>\n",
       "    <tr>\n",
       "      <th>17848847</th>\n",
       "      <td>8.0</td>\n",
       "      <td>2017-01-13 21:32:00</td>\n",
       "      <td>2017-01-13 21:40:00</td>\n",
       "      <td>3082.0</td>\n",
       "      <td>34.046520</td>\n",
       "      <td>-118.237411</td>\n",
       "      <td>3036.0</td>\n",
       "      <td>34.039188</td>\n",
       "      <td>-118.232529</td>\n",
       "      <td>6474.0</td>\n",
       "      <td>0.0</td>\n",
       "      <td>One Way</td>\n",
       "      <td>Walk-up</td>\n",
       "    </tr>\n",
       "    <tr>\n",
       "      <th>20700706</th>\n",
       "      <td>9.0</td>\n",
       "      <td>2017-02-24 23:13:00</td>\n",
       "      <td>2017-02-24 23:22:00</td>\n",
       "      <td>3029.0</td>\n",
       "      <td>34.048851</td>\n",
       "      <td>-118.246422</td>\n",
       "      <td>3082.0</td>\n",
       "      <td>34.046520</td>\n",
       "      <td>-118.237411</td>\n",
       "      <td>5794.0</td>\n",
       "      <td>30.0</td>\n",
       "      <td>One Way</td>\n",
       "      <td>Monthly Pass</td>\n",
       "    </tr>\n",
       "    <tr>\n",
       "      <th>20595730</th>\n",
       "      <td>14.0</td>\n",
       "      <td>2017-02-23 07:34:00</td>\n",
       "      <td>2017-02-23 07:48:00</td>\n",
       "      <td>3022.0</td>\n",
       "      <td>34.046070</td>\n",
       "      <td>-118.233093</td>\n",
       "      <td>3005.0</td>\n",
       "      <td>34.048550</td>\n",
       "      <td>-118.259048</td>\n",
       "      <td>6604.0</td>\n",
       "      <td>30.0</td>\n",
       "      <td>One Way</td>\n",
       "      <td>Monthly Pass</td>\n",
       "    </tr>\n",
       "    <tr>\n",
       "      <th>17307719</th>\n",
       "      <td>7.0</td>\n",
       "      <td>2017-01-05 12:04:00</td>\n",
       "      <td>2017-01-05 12:11:00</td>\n",
       "      <td>3059.0</td>\n",
       "      <td>34.037949</td>\n",
       "      <td>-118.256271</td>\n",
       "      <td>3038.0</td>\n",
       "      <td>34.046822</td>\n",
       "      <td>-118.248352</td>\n",
       "      <td>6035.0</td>\n",
       "      <td>30.0</td>\n",
       "      <td>One Way</td>\n",
       "      <td>Monthly Pass</td>\n",
       "    </tr>\n",
       "    <tr>\n",
       "      <th>18941656</th>\n",
       "      <td>14.0</td>\n",
       "      <td>2017-01-30 20:19:00</td>\n",
       "      <td>2017-01-30 20:33:00</td>\n",
       "      <td>3035.0</td>\n",
       "      <td>34.048401</td>\n",
       "      <td>-118.260948</td>\n",
       "      <td>3040.0</td>\n",
       "      <td>34.053570</td>\n",
       "      <td>-118.266357</td>\n",
       "      <td>6728.0</td>\n",
       "      <td>0.0</td>\n",
       "      <td>One Way</td>\n",
       "      <td>Walk-up</td>\n",
       "    </tr>\n",
       "  </tbody>\n",
       "</table>\n",
       "</div>"
      ],
      "text/plain": [
       "          Duration          Start Time            End Time  \\\n",
       "Trip ID                                                      \n",
       "17848847       8.0 2017-01-13 21:32:00 2017-01-13 21:40:00   \n",
       "20700706       9.0 2017-02-24 23:13:00 2017-02-24 23:22:00   \n",
       "20595730      14.0 2017-02-23 07:34:00 2017-02-23 07:48:00   \n",
       "17307719       7.0 2017-01-05 12:04:00 2017-01-05 12:11:00   \n",
       "18941656      14.0 2017-01-30 20:19:00 2017-01-30 20:33:00   \n",
       "\n",
       "          Starting Station ID  Starting Station Latitude  \\\n",
       "Trip ID                                                    \n",
       "17848847               3082.0                  34.046520   \n",
       "20700706               3029.0                  34.048851   \n",
       "20595730               3022.0                  34.046070   \n",
       "17307719               3059.0                  34.037949   \n",
       "18941656               3035.0                  34.048401   \n",
       "\n",
       "          Starting Station Longitude  Ending Station ID  \\\n",
       "Trip ID                                                   \n",
       "17848847                 -118.237411             3036.0   \n",
       "20700706                 -118.246422             3082.0   \n",
       "20595730                 -118.233093             3005.0   \n",
       "17307719                 -118.256271             3038.0   \n",
       "18941656                 -118.260948             3040.0   \n",
       "\n",
       "          Ending Station Latitude  Ending Station Longitude  Bike ID  \\\n",
       "Trip ID                                                                \n",
       "17848847                34.039188               -118.232529   6474.0   \n",
       "20700706                34.046520               -118.237411   5794.0   \n",
       "20595730                34.048550               -118.259048   6604.0   \n",
       "17307719                34.046822               -118.248352   6035.0   \n",
       "18941656                34.053570               -118.266357   6728.0   \n",
       "\n",
       "          Plan Duration Trip Route Category Passholder Type  \n",
       "Trip ID                                                      \n",
       "17848847            0.0             One Way         Walk-up  \n",
       "20700706           30.0             One Way    Monthly Pass  \n",
       "20595730           30.0             One Way    Monthly Pass  \n",
       "17307719           30.0             One Way    Monthly Pass  \n",
       "18941656            0.0             One Way         Walk-up  "
      ]
     },
     "execution_count": 8,
     "metadata": {},
     "output_type": "execute_result"
    }
   ],
   "source": [
    "df.set_index('Trip ID', inplace=True)\n",
    "df.dropna(inplace=True)\n",
    "df['Start Time']= pd.to_datetime(df['Start Time'])\n",
    "df['End Time']=pd.to_datetime(df['End Time'])\n",
    "df.head()"
   ]
  },
  {
   "cell_type": "markdown",
   "metadata": {},
   "source": [
    "Lets inspect the categorical features of Bike ID, Plan Duration, Trip Route Category, Passholder Type"
   ]
  },
  {
   "cell_type": "code",
   "execution_count": 9,
   "metadata": {},
   "outputs": [
    {
     "data": {
      "text/plain": [
       "One Way       118070\n",
       "Round Trip     12645\n",
       "Name: Trip Route Category, dtype: int64"
      ]
     },
     "execution_count": 9,
     "metadata": {},
     "output_type": "execute_result"
    }
   ],
   "source": [
    "df['Trip Route Category'].value_counts()"
   ]
  },
  {
   "cell_type": "code",
   "execution_count": 10,
   "metadata": {
    "scrolled": true
   },
   "outputs": [
    {
     "data": {
      "text/plain": [
       "Monthly Pass    80493\n",
       "Walk-up         40756\n",
       "Flex Pass        9466\n",
       "Name: Passholder Type, dtype: int64"
      ]
     },
     "execution_count": 10,
     "metadata": {},
     "output_type": "execute_result"
    }
   ],
   "source": [
    "df['Passholder Type'].value_counts()"
   ]
  },
  {
   "cell_type": "code",
   "execution_count": 11,
   "metadata": {},
   "outputs": [
    {
     "data": {
      "text/plain": [
       "30.0     80493\n",
       "0.0      40756\n",
       "365.0     9466\n",
       "Name: Plan Duration, dtype: int64"
      ]
     },
     "execution_count": 11,
     "metadata": {},
     "output_type": "execute_result"
    }
   ],
   "source": [
    "df['Plan Duration'].value_counts()"
   ]
  },
  {
   "cell_type": "markdown",
   "metadata": {},
   "source": [
    "Plan Duration and Passholder Type appear to be displaying the same data in 2 different fashions\n",
    "30 == Monthly Pass \n",
    "0 == Walk-up\n",
    "365 == Flex Pass\n",
    "Having this feature exist twice is unnecessary, so lets drop Plan Duration"
   ]
  },
  {
   "cell_type": "code",
   "execution_count": 12,
   "metadata": {},
   "outputs": [],
   "source": [
    "df.drop(columns=['Plan Duration'],inplace=True)"
   ]
  },
  {
   "cell_type": "code",
   "execution_count": 13,
   "metadata": {},
   "outputs": [
    {
     "data": {
      "text/plain": [
       "762"
      ]
     },
     "execution_count": 13,
     "metadata": {},
     "output_type": "execute_result"
    }
   ],
   "source": [
    "len(df['Bike ID'].unique())"
   ]
  },
  {
   "cell_type": "markdown",
   "metadata": {},
   "source": [
    "762 individual bikes in the system"
   ]
  },
  {
   "cell_type": "code",
   "execution_count": 14,
   "metadata": {},
   "outputs": [
    {
     "data": {
      "text/plain": [
       "<matplotlib.axes._subplots.AxesSubplot at 0xfd69da0>"
      ]
     },
     "execution_count": 14,
     "metadata": {},
     "output_type": "execute_result"
    },
    {
     "data": {
      "image/png": "[encoded data removed]",
      "text/plain": [
       "<Figure size 432x288 with 1 Axes>"
      ]
     },
     "metadata": {
      "needs_background": "light"
     },
     "output_type": "display_data"
    }
   ],
   "source": [
    "df['Bike ID'].value_counts().hist()"
   ]
  },
  {
   "cell_type": "markdown",
   "metadata": {},
   "source": [
    "Distribution of Bike usage appears normal indicating the bikes are all used randomly. This is to be expected"
   ]
  },
  {
   "cell_type": "code",
   "execution_count": 15,
   "metadata": {
    "scrolled": false
   },
   "outputs": [
    {
     "data": {
      "text/html": [
       "<div>\n",
       "<style scoped>\n",
       "    .dataframe tbody tr th:only-of-type {\n",
       "        vertical-align: middle;\n",
       "    }\n",
       "\n",
       "    .dataframe tbody tr th {\n",
       "        vertical-align: top;\n",
       "    }\n",
       "\n",
       "    .dataframe thead th {\n",
       "        text-align: right;\n",
       "    }\n",
       "</style>\n",
       "<table border=\"1\" class=\"dataframe\">\n",
       "  <thead>\n",
       "    <tr style=\"text-align: right;\">\n",
       "      <th></th>\n",
       "      <th>Duration</th>\n",
       "      <th>Starting Station ID</th>\n",
       "      <th>Starting Station Latitude</th>\n",
       "      <th>Starting Station Longitude</th>\n",
       "      <th>Ending Station ID</th>\n",
       "      <th>Ending Station Latitude</th>\n",
       "      <th>Ending Station Longitude</th>\n",
       "      <th>Bike ID</th>\n",
       "    </tr>\n",
       "  </thead>\n",
       "  <tbody>\n",
       "    <tr>\n",
       "      <th>count</th>\n",
       "      <td>130715.000000</td>\n",
       "      <td>130715.000000</td>\n",
       "      <td>130715.000000</td>\n",
       "      <td>130715.000000</td>\n",
       "      <td>130715.000000</td>\n",
       "      <td>130715.000000</td>\n",
       "      <td>130715.000000</td>\n",
       "      <td>130715.000000</td>\n",
       "    </tr>\n",
       "    <tr>\n",
       "      <th>mean</th>\n",
       "      <td>22.587155</td>\n",
       "      <td>3042.568756</td>\n",
       "      <td>34.039216</td>\n",
       "      <td>-118.221176</td>\n",
       "      <td>3041.993597</td>\n",
       "      <td>34.034566</td>\n",
       "      <td>-118.206420</td>\n",
       "      <td>6193.698114</td>\n",
       "    </tr>\n",
       "    <tr>\n",
       "      <th>std</th>\n",
       "      <td>77.840790</td>\n",
       "      <td>30.970158</td>\n",
       "      <td>0.532694</td>\n",
       "      <td>1.849996</td>\n",
       "      <td>33.546514</td>\n",
       "      <td>0.652348</td>\n",
       "      <td>2.265617</td>\n",
       "      <td>293.303470</td>\n",
       "    </tr>\n",
       "    <tr>\n",
       "      <th>min</th>\n",
       "      <td>1.000000</td>\n",
       "      <td>3005.000000</td>\n",
       "      <td>0.000000</td>\n",
       "      <td>-118.472832</td>\n",
       "      <td>3005.000000</td>\n",
       "      <td>0.000000</td>\n",
       "      <td>-118.472832</td>\n",
       "      <td>4727.000000</td>\n",
       "    </tr>\n",
       "    <tr>\n",
       "      <th>25%</th>\n",
       "      <td>6.000000</td>\n",
       "      <td>3024.000000</td>\n",
       "      <td>34.044170</td>\n",
       "      <td>-118.256980</td>\n",
       "      <td>3023.000000</td>\n",
       "      <td>34.044159</td>\n",
       "      <td>-118.256981</td>\n",
       "      <td>5953.000000</td>\n",
       "    </tr>\n",
       "    <tr>\n",
       "      <th>50%</th>\n",
       "      <td>10.000000</td>\n",
       "      <td>3039.000000</td>\n",
       "      <td>34.046822</td>\n",
       "      <td>-118.250954</td>\n",
       "      <td>3038.000000</td>\n",
       "      <td>34.046810</td>\n",
       "      <td>-118.250954</td>\n",
       "      <td>6186.000000</td>\n",
       "    </tr>\n",
       "    <tr>\n",
       "      <th>75%</th>\n",
       "      <td>18.000000</td>\n",
       "      <td>3063.000000</td>\n",
       "      <td>34.050880</td>\n",
       "      <td>-118.241562</td>\n",
       "      <td>3063.000000</td>\n",
       "      <td>34.050480</td>\n",
       "      <td>-118.238810</td>\n",
       "      <td>6434.000000</td>\n",
       "    </tr>\n",
       "    <tr>\n",
       "      <th>max</th>\n",
       "      <td>1440.000000</td>\n",
       "      <td>4108.000000</td>\n",
       "      <td>34.064281</td>\n",
       "      <td>0.000000</td>\n",
       "      <td>4108.000000</td>\n",
       "      <td>34.064281</td>\n",
       "      <td>0.000000</td>\n",
       "      <td>6728.000000</td>\n",
       "    </tr>\n",
       "  </tbody>\n",
       "</table>\n",
       "</div>"
      ],
      "text/plain": [
       "            Duration  Starting Station ID  Starting Station Latitude  \\\n",
       "count  130715.000000        130715.000000              130715.000000   \n",
       "mean       22.587155          3042.568756                  34.039216   \n",
       "std        77.840790            30.970158                   0.532694   \n",
       "min         1.000000          3005.000000                   0.000000   \n",
       "25%         6.000000          3024.000000                  34.044170   \n",
       "50%        10.000000          3039.000000                  34.046822   \n",
       "75%        18.000000          3063.000000                  34.050880   \n",
       "max      1440.000000          4108.000000                  34.064281   \n",
       "\n",
       "       Starting Station Longitude  Ending Station ID  Ending Station Latitude  \\\n",
       "count               130715.000000      130715.000000            130715.000000   \n",
       "mean                  -118.221176        3041.993597                34.034566   \n",
       "std                      1.849996          33.546514                 0.652348   \n",
       "min                   -118.472832        3005.000000                 0.000000   \n",
       "25%                   -118.256980        3023.000000                34.044159   \n",
       "50%                   -118.250954        3038.000000                34.046810   \n",
       "75%                   -118.241562        3063.000000                34.050480   \n",
       "max                      0.000000        4108.000000                34.064281   \n",
       "\n",
       "       Ending Station Longitude        Bike ID  \n",
       "count             130715.000000  130715.000000  \n",
       "mean                -118.206420    6193.698114  \n",
       "std                    2.265617     293.303470  \n",
       "min                 -118.472832    4727.000000  \n",
       "25%                 -118.256981    5953.000000  \n",
       "50%                 -118.250954    6186.000000  \n",
       "75%                 -118.238810    6434.000000  \n",
       "max                    0.000000    6728.000000  "
      ]
     },
     "execution_count": 15,
     "metadata": {},
     "output_type": "execute_result"
    }
   ],
   "source": [
    "df.describe()"
   ]
  },
  {
   "cell_type": "markdown",
   "metadata": {},
   "source": [
    "Starting Station Latitude, Starting Station Longitude, Ending Station Latitude & Ending Station Longitude contain zeros that must be treated as missing data. "
   ]
  },
  {
   "cell_type": "code",
   "execution_count": 16,
   "metadata": {},
   "outputs": [
    {
     "name": "stdout",
     "output_type": "stream",
     "text": [
      "For Starting Station Latitude there are 32 zeros\n",
      "For Starting Station Longitude there are 32 zeros\n",
      "For Ending Station Latitude there are 48 zeros\n",
      "For Ending Station Longitude there are 48 zeros\n"
     ]
    }
   ],
   "source": [
    "for feature in ['Starting Station Latitude', 'Starting Station Longitude', 'Ending Station Latitude' , 'Ending Station Longitude']:\n",
    "\n",
    "    print('For {} there are {} zeros'.format(feature,len(df.loc[df[feature]==0])))"
   ]
  },
  {
   "cell_type": "markdown",
   "metadata": {},
   "source": [
    "this is a very small fraction of the data and will be dropped"
   ]
  },
  {
   "cell_type": "code",
   "execution_count": 17,
   "metadata": {},
   "outputs": [
    {
     "data": {
      "text/html": [
       "<div>\n",
       "<style scoped>\n",
       "    .dataframe tbody tr th:only-of-type {\n",
       "        vertical-align: middle;\n",
       "    }\n",
       "\n",
       "    .dataframe tbody tr th {\n",
       "        vertical-align: top;\n",
       "    }\n",
       "\n",
       "    .dataframe thead th {\n",
       "        text-align: right;\n",
       "    }\n",
       "</style>\n",
       "<table border=\"1\" class=\"dataframe\">\n",
       "  <thead>\n",
       "    <tr style=\"text-align: right;\">\n",
       "      <th></th>\n",
       "      <th>Duration</th>\n",
       "      <th>Starting Station ID</th>\n",
       "      <th>Starting Station Latitude</th>\n",
       "      <th>Starting Station Longitude</th>\n",
       "      <th>Ending Station ID</th>\n",
       "      <th>Ending Station Latitude</th>\n",
       "      <th>Ending Station Longitude</th>\n",
       "      <th>Bike ID</th>\n",
       "    </tr>\n",
       "  </thead>\n",
       "  <tbody>\n",
       "    <tr>\n",
       "      <th>count</th>\n",
       "      <td>130655.000000</td>\n",
       "      <td>130655.000000</td>\n",
       "      <td>130655.000000</td>\n",
       "      <td>130655.000000</td>\n",
       "      <td>130655.000000</td>\n",
       "      <td>130655.000000</td>\n",
       "      <td>130655.000000</td>\n",
       "      <td>130655.000000</td>\n",
       "    </tr>\n",
       "    <tr>\n",
       "      <th>mean</th>\n",
       "      <td>22.579779</td>\n",
       "      <td>3042.305170</td>\n",
       "      <td>34.047552</td>\n",
       "      <td>-118.250125</td>\n",
       "      <td>3041.602089</td>\n",
       "      <td>34.047068</td>\n",
       "      <td>-118.249843</td>\n",
       "      <td>6193.705231</td>\n",
       "    </tr>\n",
       "    <tr>\n",
       "      <th>std</th>\n",
       "      <td>77.844127</td>\n",
       "      <td>26.103427</td>\n",
       "      <td>0.006350</td>\n",
       "      <td>0.011475</td>\n",
       "      <td>26.611986</td>\n",
       "      <td>0.006265</td>\n",
       "      <td>0.011984</td>\n",
       "      <td>293.325616</td>\n",
       "    </tr>\n",
       "    <tr>\n",
       "      <th>min</th>\n",
       "      <td>1.000000</td>\n",
       "      <td>3005.000000</td>\n",
       "      <td>33.987381</td>\n",
       "      <td>-118.472832</td>\n",
       "      <td>3005.000000</td>\n",
       "      <td>33.987381</td>\n",
       "      <td>-118.472832</td>\n",
       "      <td>4727.000000</td>\n",
       "    </tr>\n",
       "    <tr>\n",
       "      <th>25%</th>\n",
       "      <td>6.000000</td>\n",
       "      <td>3024.000000</td>\n",
       "      <td>34.044170</td>\n",
       "      <td>-118.256980</td>\n",
       "      <td>3023.000000</td>\n",
       "      <td>34.044159</td>\n",
       "      <td>-118.256981</td>\n",
       "      <td>5953.000000</td>\n",
       "    </tr>\n",
       "    <tr>\n",
       "      <th>50%</th>\n",
       "      <td>10.000000</td>\n",
       "      <td>3039.000000</td>\n",
       "      <td>34.046822</td>\n",
       "      <td>-118.250954</td>\n",
       "      <td>3038.000000</td>\n",
       "      <td>34.046810</td>\n",
       "      <td>-118.250954</td>\n",
       "      <td>6186.000000</td>\n",
       "    </tr>\n",
       "    <tr>\n",
       "      <th>75%</th>\n",
       "      <td>18.000000</td>\n",
       "      <td>3063.000000</td>\n",
       "      <td>34.050880</td>\n",
       "      <td>-118.241562</td>\n",
       "      <td>3063.000000</td>\n",
       "      <td>34.050480</td>\n",
       "      <td>-118.238810</td>\n",
       "      <td>6434.000000</td>\n",
       "    </tr>\n",
       "    <tr>\n",
       "      <th>max</th>\n",
       "      <td>1440.000000</td>\n",
       "      <td>4108.000000</td>\n",
       "      <td>34.064281</td>\n",
       "      <td>-118.231277</td>\n",
       "      <td>4108.000000</td>\n",
       "      <td>34.064281</td>\n",
       "      <td>-118.231277</td>\n",
       "      <td>6728.000000</td>\n",
       "    </tr>\n",
       "  </tbody>\n",
       "</table>\n",
       "</div>"
      ],
      "text/plain": [
       "            Duration  Starting Station ID  Starting Station Latitude  \\\n",
       "count  130655.000000        130655.000000              130655.000000   \n",
       "mean       22.579779          3042.305170                  34.047552   \n",
       "std        77.844127            26.103427                   0.006350   \n",
       "min         1.000000          3005.000000                  33.987381   \n",
       "25%         6.000000          3024.000000                  34.044170   \n",
       "50%        10.000000          3039.000000                  34.046822   \n",
       "75%        18.000000          3063.000000                  34.050880   \n",
       "max      1440.000000          4108.000000                  34.064281   \n",
       "\n",
       "       Starting Station Longitude  Ending Station ID  Ending Station Latitude  \\\n",
       "count               130655.000000      130655.000000            130655.000000   \n",
       "mean                  -118.250125        3041.602089                34.047068   \n",
       "std                      0.011475          26.611986                 0.006265   \n",
       "min                   -118.472832        3005.000000                33.987381   \n",
       "25%                   -118.256980        3023.000000                34.044159   \n",
       "50%                   -118.250954        3038.000000                34.046810   \n",
       "75%                   -118.241562        3063.000000                34.050480   \n",
       "max                   -118.231277        4108.000000                34.064281   \n",
       "\n",
       "       Ending Station Longitude        Bike ID  \n",
       "count             130655.000000  130655.000000  \n",
       "mean                -118.249843    6193.705231  \n",
       "std                    0.011984     293.325616  \n",
       "min                 -118.472832    4727.000000  \n",
       "25%                 -118.256981    5953.000000  \n",
       "50%                 -118.250954    6186.000000  \n",
       "75%                 -118.238810    6434.000000  \n",
       "max                 -118.231277    6728.000000  "
      ]
     },
     "execution_count": 17,
     "metadata": {},
     "output_type": "execute_result"
    }
   ],
   "source": [
    "#replace all zeros with NaN and then apply .dropna() to remove\n",
    "df['Starting Station Latitude'].replace(0,np.nan,inplace=True)\n",
    "df['Starting Station Longitude'].replace(0,np.nan,inplace=True)\n",
    "df['Ending Station Latitude'].replace(0,np.nan,inplace=True)\n",
    "df['Ending Station Longitude'].replace(0,np.nan,inplace=True)\n",
    "df.dropna(inplace=True)\n",
    "df.describe()"
   ]
  },
  {
   "cell_type": "code",
   "execution_count": 18,
   "metadata": {
    "scrolled": false
   },
   "outputs": [
    {
     "data": {
      "image/png": "[encoded data removed]",
      "text/plain": [
       "<Figure size 1008x360 with 2 Axes>"
      ]
     },
     "metadata": {
      "needs_background": "light"
     },
     "output_type": "display_data"
    }
   ],
   "source": [
    "plt.figure(figsize=(14,5))\n",
    "plt.subplot(1,2,1)\n",
    "plt.scatter(df['Starting Station Latitude'],df['Starting Station Longitude'],alpha=0.3)\n",
    "plt.subplot(1,2,2)\n",
    "plt.scatter(df['Ending Station Latitude'],df['Ending Station Longitude'],alpha=0.3)\n",
    "plt.show()"
   ]
  },
  {
   "cell_type": "markdown",
   "metadata": {},
   "source": [
    "Matching plots indicate there are no start points that had no drop off and vice-versa this would seem logical"
   ]
  },
  {
   "cell_type": "code",
   "execution_count": null,
   "metadata": {},
   "outputs": [
    {
     "data": {
      "text/plain": [
       "True"
      ]
     },
     "execution_count": 19,
     "metadata": {},
     "output_type": "execute_result"
    }
   ],
   "source": [
    "sorted(df['Starting Station ID'].unique())==sorted(df['Ending Station ID'].unique())"
   ]
  },
  {
   "cell_type": "markdown",
   "metadata": {},
   "source": [
    "This confirms that the Starting and Ending Stations sets are identical as expected"
   ]
  },
  {
   "cell_type": "markdown",
   "metadata": {},
   "source": [
    "Now would a great time for a map!"
   ]
  },
  {
   "cell_type": "code",
   "execution_count": null,
   "metadata": {},
   "outputs": [
    {
     "data": {
      "text/html": [
       "<div style=\"width:100%;\"><div style=\"position:relative;width:100%;height:0;padding-bottom:60%;\"><iframe src=\"data:text/html;charset=utf-8;base64,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\" style=\"position:absolute;width:100%;height:100%;left:0;top:0;border:none !important;\" allowfullscreen webkitallowfullscreen mozallowfullscreen></iframe></div></div>"
      ],
      "text/plain": [
       "<folium.folium.Map at 0x120463c8>"
      ]
     },
     "execution_count": 20,
     "metadata": {},
     "output_type": "execute_result"
    }
   ],
   "source": [
    "import folium\n",
    "bike_map1=folium.Map([df['Starting Station Latitude'].values[0],df['Starting Station Longitude'].values[0]])\n",
    "for station in df['Starting Station ID'].unique():\n",
    "    lat=df.loc[df['Starting Station ID']==station]['Starting Station Latitude'].values[0]\n",
    "    lon=df.loc[df['Starting Station ID']==station]['Starting Station Longitude'].values[0]\n",
    "    marker=folium.Marker([lat,lon],popup=str(station))\n",
    "    marker.add_to(bike_map1)\n",
    "\n",
    "bike_map1"
   ]
  },
  {
   "cell_type": "markdown",
   "metadata": {},
   "source": [
    "Almost all the Bike Stations are located in Downtown LA with the exception of 2; 1 in Culver City(id = 3039), and 1 in Venice (id = 3009)"
   ]
  },
  {
   "cell_type": "markdown",
   "metadata": {},
   "source": [
    "Lets look closer at the traffic to and from these 2 outlying bike stations, are they outliers?"
   ]
  },
  {
   "cell_type": "code",
   "execution_count": null,
   "metadata": {
    "scrolled": true
   },
   "outputs": [
    {
     "data": {
      "text/plain": [
       "3039.0    77\n",
       "3009.0    35\n",
       "Name: Ending Station ID, dtype: int64"
      ]
     },
     "execution_count": 21,
     "metadata": {},
     "output_type": "execute_result"
    }
   ],
   "source": [
    "df.loc[df['Starting Station ID']==3039]['Ending Station ID'].value_counts()"
   ]
  },
  {
   "cell_type": "code",
   "execution_count": null,
   "metadata": {},
   "outputs": [
    {
     "data": {
      "text/plain": [
       "3039.0    77\n",
       "3009.0    26\n",
       "3064.0     6\n",
       "3005.0     2\n",
       "3052.0     1\n",
       "Name: Starting Station ID, dtype: int64"
      ]
     },
     "execution_count": 22,
     "metadata": {},
     "output_type": "execute_result"
    }
   ],
   "source": [
    "df.loc[df['Ending Station ID']==3039]['Starting Station ID'].value_counts()"
   ]
  },
  {
   "cell_type": "code",
   "execution_count": null,
   "metadata": {},
   "outputs": [
    {
     "data": {
      "text/plain": [
       "3039.0    26\n",
       "3009.0    25\n",
       "Name: Ending Station ID, dtype: int64"
      ]
     },
     "execution_count": 23,
     "metadata": {},
     "output_type": "execute_result"
    }
   ],
   "source": [
    "df.loc[df['Starting Station ID']==3009]['Ending Station ID'].value_counts()"
   ]
  },
  {
   "cell_type": "code",
   "execution_count": null,
   "metadata": {},
   "outputs": [
    {
     "data": {
      "text/plain": [
       "3039.0    35\n",
       "3009.0    25\n",
       "3011.0     1\n",
       "3027.0     1\n",
       "3005.0     1\n",
       "3042.0     1\n",
       "Name: Starting Station ID, dtype: int64"
      ]
     },
     "execution_count": 24,
     "metadata": {},
     "output_type": "execute_result"
    }
   ],
   "source": [
    "df.loc[df['Ending Station ID']==3009]['Starting Station ID'].value_counts()"
   ]
  },
  {
   "cell_type": "markdown",
   "metadata": {},
   "source": [
    "Almost all of the trips made to and from these bike stations are either round trips to the same place or from one of the two to the other. These two stations are almost completely disconnected from the Downtown LA network.\n",
    "\n",
    "They also only account for a very tiny fraction of the rides total; from over 130k rides just 163 are to or from these two stations"
   ]
  },
  {
   "cell_type": "code",
   "execution_count": null,
   "metadata": {},
   "outputs": [
    {
     "data": {
      "text/plain": [
       "3020.0    522\n",
       "3010.0    420\n",
       "3060.0    379\n",
       "3057.0    371\n",
       "3080.0    189\n",
       "3045.0    185\n",
       "3039.0    112\n",
       "3009.0     51\n",
       "4108.0     21\n",
       "3053.0     15\n",
       "Name: Starting Station ID, dtype: int64"
      ]
     },
     "execution_count": 25,
     "metadata": {},
     "output_type": "execute_result"
    }
   ],
   "source": [
    "df['Starting Station ID'].value_counts().tail(10)"
   ]
  },
  {
   "cell_type": "code",
   "execution_count": null,
   "metadata": {},
   "outputs": [
    {
     "data": {
      "text/plain": [
       "3028.0    516\n",
       "3010.0    406\n",
       "3057.0    398\n",
       "3060.0    390\n",
       "3045.0    319\n",
       "3080.0    173\n",
       "3039.0    112\n",
       "3009.0     64\n",
       "4108.0     22\n",
       "3053.0     12\n",
       "Name: Ending Station ID, dtype: int64"
      ]
     },
     "execution_count": 26,
     "metadata": {},
     "output_type": "execute_result"
    }
   ],
   "source": [
    "df['Ending Station ID'].value_counts().tail(10)"
   ]
  },
  {
   "cell_type": "code",
   "execution_count": null,
   "metadata": {},
   "outputs": [
    {
     "data": {
      "text/plain": [
       "4108.0    19\n",
       "3037.0     2\n",
       "Name: Ending Station ID, dtype: int64"
      ]
     },
     "execution_count": 27,
     "metadata": {},
     "output_type": "execute_result"
    }
   ],
   "source": [
    "df.loc[df['Starting Station ID']==4108]['Ending Station ID'].value_counts()"
   ]
  },
  {
   "cell_type": "code",
   "execution_count": null,
   "metadata": {},
   "outputs": [
    {
     "data": {
      "text/plain": [
       "4108.0    19\n",
       "3036.0     1\n",
       "3020.0     1\n",
       "3082.0     1\n",
       "Name: Starting Station ID, dtype: int64"
      ]
     },
     "execution_count": 28,
     "metadata": {},
     "output_type": "execute_result"
    }
   ],
   "source": [
    "df.loc[df['Ending Station ID']==4108]['Starting Station ID'].value_counts()"
   ]
  },
  {
   "cell_type": "markdown",
   "metadata": {},
   "source": [
    "Bike Station ID 4108 is very dominantly Round-Trip traffic, this is very unusual for this dataset!"
   ]
  },
  {
   "cell_type": "code",
   "execution_count": null,
   "metadata": {},
   "outputs": [
    {
     "data": {
      "text/plain": [
       "One Way       0.903371\n",
       "Round Trip    0.096629\n",
       "Name: Trip Route Category, dtype: float64"
      ]
     },
     "execution_count": 29,
     "metadata": {},
     "output_type": "execute_result"
    }
   ],
   "source": [
    "df['Trip Route Category'].value_counts(normalize=True)"
   ]
  },
  {
   "cell_type": "code",
   "execution_count": null,
   "metadata": {},
   "outputs": [],
   "source": []
  },
  {
   "cell_type": "code",
   "execution_count": null,
   "metadata": {},
   "outputs": [],
   "source": []
  },
  {
   "cell_type": "code",
   "execution_count": null,
   "metadata": {},
   "outputs": [],
   "source": []
  },
  {
   "cell_type": "code",
   "execution_count": null,
   "metadata": {},
   "outputs": [],
   "source": []
  },
  {
   "cell_type": "code",
   "execution_count": null,
   "metadata": {},
   "outputs": [],
   "source": []
  },
  {
   "cell_type": "code",
   "execution_count": null,
   "metadata": {},
   "outputs": [],
   "source": []
  },
  {
   "cell_type": "code",
   "execution_count": null,
   "metadata": {},
   "outputs": [],
   "source": []
  },
  {
   "cell_type": "code",
   "execution_count": null,
   "metadata": {},
   "outputs": [],
   "source": []
  },
  {
   "cell_type": "code",
   "execution_count": null,
   "metadata": {},
   "outputs": [
    {
     "data": {
      "text/plain": [
       "Timestamp('2016-07-07 04:17:00')"
      ]
     },
     "execution_count": 30,
     "metadata": {},
     "output_type": "execute_result"
    }
   ],
   "source": [
    "df['Start Time'].min()"
   ]
  },
  {
   "cell_type": "code",
   "execution_count": null,
   "metadata": {},
   "outputs": [
    {
     "data": {
      "text/plain": [
       "Timestamp('2017-03-31 23:45:00')"
      ]
     },
     "execution_count": 31,
     "metadata": {},
     "output_type": "execute_result"
    }
   ],
   "source": [
    "df['Start Time'].max()"
   ]
  },
  {
   "cell_type": "code",
   "execution_count": null,
   "metadata": {
    "scrolled": false
   },
   "outputs": [
    {
     "data": {
      "text/plain": [
       "<matplotlib.axes._subplots.AxesSubplot at 0x145c8198>"
      ]
     },
     "execution_count": 32,
     "metadata": {},
     "output_type": "execute_result"
    },
    {
     "data": {
      "image/png": "[encoded data removed]",
      "text/plain": [
       "<Figure size 1080x576 with 1 Axes>"
      ]
     },
     "metadata": {
      "needs_background": "light"
     },
     "output_type": "display_data"
    }
   ],
   "source": [
    "df['Start Time'].hist(figsize=(15,8))\n"
   ]
  },
  {
   "cell_type": "code",
   "execution_count": null,
   "metadata": {},
   "outputs": [],
   "source": []
  },
  {
   "cell_type": "code",
   "execution_count": null,
   "metadata": {},
   "outputs": [
    {
     "data": {
      "text/plain": [
       "Trip ID\n",
       "17848847      Friday\n",
       "20700706      Friday\n",
       "20595730    Thursday\n",
       "17307719    Thursday\n",
       "18941656      Monday\n",
       "Name: Start Time, dtype: object"
      ]
     },
     "execution_count": 33,
     "metadata": {},
     "output_type": "execute_result"
    }
   ],
   "source": [
    "day_of_week=df['Start Time'].dt.day_name()\n",
    "day_of_week.head()"
   ]
  },
  {
   "cell_type": "code",
   "execution_count": null,
   "metadata": {},
   "outputs": [],
   "source": [
    "day_of_week.hist()"
   ]
  },
  {
   "cell_type": "code",
   "execution_count": null,
   "metadata": {},
   "outputs": [],
   "source": []
  },
  {
   "cell_type": "code",
   "execution_count": null,
   "metadata": {},
   "outputs": [],
   "source": []
  },
  {
   "cell_type": "code",
   "execution_count": null,
   "metadata": {},
   "outputs": [],
   "source": []
  },
  {
   "cell_type": "code",
   "execution_count": null,
   "metadata": {},
   "outputs": [],
   "source": []
  },
  {
   "cell_type": "code",
   "execution_count": null,
   "metadata": {
    "scrolled": false
   },
   "outputs": [],
   "source": [
    "plt.figure(figsize=(15,4))\n",
    "df.loc[df.Duration<30]['Duration'].hist(bins=29)\n",
    "# plt.ylim(0,30000)\n",
    "# plt.xlim(0,5000)"
   ]
  },
  {
   "cell_type": "markdown",
   "metadata": {},
   "source": [
    "Notes:\n",
    "create distance ridden metric (drop return trips? only 10%)\n",
    "corellate distance/duration\n",
    "insert weeekend/weekday\n",
    "bin start time? morning/afternoon/evening?\n",
    "clustering of stations?\n",
    "\n",
    "\n",
    "machine learning:\n",
    "ride duration classifier?\n",
    "pickups from station per day/time period?\n"
   ]
  }
 ],
 "metadata": {
  "kernelspec": {
   "display_name": "Python 3",
   "language": "python",
   "name": "python3"
  },
  "language_info": {
   "codemirror_mode": {
    "name": "ipython",
    "version": 3
   },
   "file_extension": ".py",
   "mimetype": "text/x-python",
   "name": "python",
   "nbconvert_exporter": "python",
   "pygments_lexer": "ipython3",
   "version": "3.7.1"
  }
 },
 "nbformat": 4,
 "nbformat_minor": 2
}
