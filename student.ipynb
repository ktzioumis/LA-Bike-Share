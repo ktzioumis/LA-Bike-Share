{
 "cells": [
  {
   "cell_type": "markdown",
   "metadata": {},
   "source": [
    "## Final Project Submission\n",
    "\n",
    "Please fill out:\n",
    "* Student name: Kosta Tzioumis\n",
    "* Student pace: part time \n",
    "* Scheduled project review date/time: \n",
    "* Instructor name: Eli\n",
    "* Blog post URL:\n"
   ]
  },
  {
   "cell_type": "markdown",
   "metadata": {},
   "source": [
    "## Data Set obtained from:\n",
    "https://www.kaggle.com/cityofLA/los-angeles-metro-bike-share-trip-data"
   ]
  },
  {
   "cell_type": "code",
   "execution_count": 124,
   "metadata": {},
   "outputs": [],
   "source": [
    "import pandas as pd\n",
    "import numpy as np\n",
    "import matplotlib.pyplot as plt\n",
    "%matplotlib inline"
   ]
  },
  {
   "cell_type": "code",
   "execution_count": 125,
   "metadata": {
    "scrolled": true
   },
   "outputs": [
    {
     "data": {
      "text/html": [
       "<div>\n",
       "<style scoped>\n",
       "    .dataframe tbody tr th:only-of-type {\n",
       "        vertical-align: middle;\n",
       "    }\n",
       "\n",
       "    .dataframe tbody tr th {\n",
       "        vertical-align: top;\n",
       "    }\n",
       "\n",
       "    .dataframe thead th {\n",
       "        text-align: right;\n",
       "    }\n",
       "</style>\n",
       "<table border=\"1\" class=\"dataframe\">\n",
       "  <thead>\n",
       "    <tr style=\"text-align: right;\">\n",
       "      <th></th>\n",
       "      <th>Trip ID</th>\n",
       "      <th>Duration</th>\n",
       "      <th>Start Time</th>\n",
       "      <th>End Time</th>\n",
       "      <th>Starting Station ID</th>\n",
       "      <th>Starting Station Latitude</th>\n",
       "      <th>Starting Station Longitude</th>\n",
       "      <th>Ending Station ID</th>\n",
       "      <th>Ending Station Latitude</th>\n",
       "      <th>Ending Station Longitude</th>\n",
       "      <th>...</th>\n",
       "      <th>Trip Route Category</th>\n",
       "      <th>Passholder Type</th>\n",
       "      <th>Starting Lat-Long</th>\n",
       "      <th>Ending Lat-Long</th>\n",
       "      <th>Neighborhood Councils (Certified)</th>\n",
       "      <th>Council Districts</th>\n",
       "      <th>Zip Codes</th>\n",
       "      <th>LA Specific Plans</th>\n",
       "      <th>Precinct Boundaries</th>\n",
       "      <th>Census Tracts</th>\n",
       "    </tr>\n",
       "  </thead>\n",
       "  <tbody>\n",
       "    <tr>\n",
       "      <th>0</th>\n",
       "      <td>18222186</td>\n",
       "      <td>15060</td>\n",
       "      <td>2017-01-19T17:05:00.000</td>\n",
       "      <td>2017-01-19T21:16:00.000</td>\n",
       "      <td>3031.0</td>\n",
       "      <td>34.044701</td>\n",
       "      <td>-118.252441</td>\n",
       "      <td>3000.0</td>\n",
       "      <td>NaN</td>\n",
       "      <td>NaN</td>\n",
       "      <td>...</td>\n",
       "      <td>One Way</td>\n",
       "      <td>Walk-up</td>\n",
       "      <td>NaN</td>\n",
       "      <td>NaN</td>\n",
       "      <td>NaN</td>\n",
       "      <td>NaN</td>\n",
       "      <td>NaN</td>\n",
       "      <td>NaN</td>\n",
       "      <td>NaN</td>\n",
       "      <td>NaN</td>\n",
       "    </tr>\n",
       "    <tr>\n",
       "      <th>1</th>\n",
       "      <td>9518671</td>\n",
       "      <td>77160</td>\n",
       "      <td>2016-10-09T14:37:00.000</td>\n",
       "      <td>2016-10-10T12:03:00.000</td>\n",
       "      <td>NaN</td>\n",
       "      <td>NaN</td>\n",
       "      <td>NaN</td>\n",
       "      <td>3000.0</td>\n",
       "      <td>NaN</td>\n",
       "      <td>NaN</td>\n",
       "      <td>...</td>\n",
       "      <td>One Way</td>\n",
       "      <td>Monthly Pass</td>\n",
       "      <td>NaN</td>\n",
       "      <td>NaN</td>\n",
       "      <td>NaN</td>\n",
       "      <td>NaN</td>\n",
       "      <td>NaN</td>\n",
       "      <td>NaN</td>\n",
       "      <td>NaN</td>\n",
       "      <td>NaN</td>\n",
       "    </tr>\n",
       "    <tr>\n",
       "      <th>2</th>\n",
       "      <td>20444932</td>\n",
       "      <td>86400</td>\n",
       "      <td>2017-02-18T10:15:00.000</td>\n",
       "      <td>2017-02-20T15:20:00.000</td>\n",
       "      <td>3026.0</td>\n",
       "      <td>34.063179</td>\n",
       "      <td>-118.245880</td>\n",
       "      <td>3000.0</td>\n",
       "      <td>NaN</td>\n",
       "      <td>NaN</td>\n",
       "      <td>...</td>\n",
       "      <td>One Way</td>\n",
       "      <td>Walk-up</td>\n",
       "      <td>NaN</td>\n",
       "      <td>NaN</td>\n",
       "      <td>NaN</td>\n",
       "      <td>NaN</td>\n",
       "      <td>NaN</td>\n",
       "      <td>NaN</td>\n",
       "      <td>NaN</td>\n",
       "      <td>NaN</td>\n",
       "    </tr>\n",
       "    <tr>\n",
       "      <th>3</th>\n",
       "      <td>20905031</td>\n",
       "      <td>18840</td>\n",
       "      <td>2017-02-27T12:26:00.000</td>\n",
       "      <td>2017-02-27T17:40:00.000</td>\n",
       "      <td>3023.0</td>\n",
       "      <td>34.050911</td>\n",
       "      <td>-118.240967</td>\n",
       "      <td>3000.0</td>\n",
       "      <td>NaN</td>\n",
       "      <td>NaN</td>\n",
       "      <td>...</td>\n",
       "      <td>One Way</td>\n",
       "      <td>Walk-up</td>\n",
       "      <td>NaN</td>\n",
       "      <td>NaN</td>\n",
       "      <td>NaN</td>\n",
       "      <td>NaN</td>\n",
       "      <td>NaN</td>\n",
       "      <td>NaN</td>\n",
       "      <td>NaN</td>\n",
       "      <td>NaN</td>\n",
       "    </tr>\n",
       "    <tr>\n",
       "      <th>4</th>\n",
       "      <td>21031476</td>\n",
       "      <td>86400</td>\n",
       "      <td>2017-02-27T20:26:00.000</td>\n",
       "      <td>2017-03-01T09:49:00.000</td>\n",
       "      <td>3008.0</td>\n",
       "      <td>34.046612</td>\n",
       "      <td>-118.262733</td>\n",
       "      <td>3000.0</td>\n",
       "      <td>NaN</td>\n",
       "      <td>NaN</td>\n",
       "      <td>...</td>\n",
       "      <td>One Way</td>\n",
       "      <td>Flex Pass</td>\n",
       "      <td>NaN</td>\n",
       "      <td>NaN</td>\n",
       "      <td>NaN</td>\n",
       "      <td>NaN</td>\n",
       "      <td>NaN</td>\n",
       "      <td>NaN</td>\n",
       "      <td>NaN</td>\n",
       "      <td>NaN</td>\n",
       "    </tr>\n",
       "    <tr>\n",
       "      <th>5</th>\n",
       "      <td>9378284</td>\n",
       "      <td>60</td>\n",
       "      <td>2016-10-09T09:40:00.000</td>\n",
       "      <td>2016-10-09T09:41:00.000</td>\n",
       "      <td>NaN</td>\n",
       "      <td>NaN</td>\n",
       "      <td>NaN</td>\n",
       "      <td>NaN</td>\n",
       "      <td>NaN</td>\n",
       "      <td>NaN</td>\n",
       "      <td>...</td>\n",
       "      <td>One Way</td>\n",
       "      <td>Staff Annual</td>\n",
       "      <td>NaN</td>\n",
       "      <td>NaN</td>\n",
       "      <td>NaN</td>\n",
       "      <td>NaN</td>\n",
       "      <td>NaN</td>\n",
       "      <td>NaN</td>\n",
       "      <td>NaN</td>\n",
       "      <td>NaN</td>\n",
       "    </tr>\n",
       "    <tr>\n",
       "      <th>6</th>\n",
       "      <td>21784648</td>\n",
       "      <td>14760</td>\n",
       "      <td>2017-03-10T17:38:00.000</td>\n",
       "      <td>2017-03-10T21:44:00.000</td>\n",
       "      <td>3065.0</td>\n",
       "      <td>34.060558</td>\n",
       "      <td>-118.238327</td>\n",
       "      <td>3000.0</td>\n",
       "      <td>NaN</td>\n",
       "      <td>NaN</td>\n",
       "      <td>...</td>\n",
       "      <td>One Way</td>\n",
       "      <td>Walk-up</td>\n",
       "      <td>NaN</td>\n",
       "      <td>NaN</td>\n",
       "      <td>NaN</td>\n",
       "      <td>NaN</td>\n",
       "      <td>NaN</td>\n",
       "      <td>NaN</td>\n",
       "      <td>NaN</td>\n",
       "      <td>NaN</td>\n",
       "    </tr>\n",
       "    <tr>\n",
       "      <th>7</th>\n",
       "      <td>22506739</td>\n",
       "      <td>79020</td>\n",
       "      <td>2017-03-17T19:20:00.000</td>\n",
       "      <td>2017-03-18T17:17:00.000</td>\n",
       "      <td>3063.0</td>\n",
       "      <td>34.049198</td>\n",
       "      <td>-118.252831</td>\n",
       "      <td>3000.0</td>\n",
       "      <td>NaN</td>\n",
       "      <td>NaN</td>\n",
       "      <td>...</td>\n",
       "      <td>One Way</td>\n",
       "      <td>Walk-up</td>\n",
       "      <td>NaN</td>\n",
       "      <td>NaN</td>\n",
       "      <td>NaN</td>\n",
       "      <td>NaN</td>\n",
       "      <td>NaN</td>\n",
       "      <td>NaN</td>\n",
       "      <td>NaN</td>\n",
       "      <td>NaN</td>\n",
       "    </tr>\n",
       "    <tr>\n",
       "      <th>8</th>\n",
       "      <td>20889067</td>\n",
       "      <td>86400</td>\n",
       "      <td>2017-02-26T12:18:00.000</td>\n",
       "      <td>2017-02-27T12:36:00.000</td>\n",
       "      <td>3062.0</td>\n",
       "      <td>34.047749</td>\n",
       "      <td>-118.243172</td>\n",
       "      <td>3000.0</td>\n",
       "      <td>NaN</td>\n",
       "      <td>NaN</td>\n",
       "      <td>...</td>\n",
       "      <td>One Way</td>\n",
       "      <td>Walk-up</td>\n",
       "      <td>NaN</td>\n",
       "      <td>NaN</td>\n",
       "      <td>NaN</td>\n",
       "      <td>NaN</td>\n",
       "      <td>NaN</td>\n",
       "      <td>NaN</td>\n",
       "      <td>NaN</td>\n",
       "      <td>NaN</td>\n",
       "    </tr>\n",
       "    <tr>\n",
       "      <th>9</th>\n",
       "      <td>18481915</td>\n",
       "      <td>600</td>\n",
       "      <td>2017-01-23T18:48:00.000</td>\n",
       "      <td>2017-01-23T18:58:00.000</td>\n",
       "      <td>3082.0</td>\n",
       "      <td>34.046520</td>\n",
       "      <td>-118.237411</td>\n",
       "      <td>3000.0</td>\n",
       "      <td>NaN</td>\n",
       "      <td>NaN</td>\n",
       "      <td>...</td>\n",
       "      <td>One Way</td>\n",
       "      <td>Monthly Pass</td>\n",
       "      <td>NaN</td>\n",
       "      <td>NaN</td>\n",
       "      <td>NaN</td>\n",
       "      <td>NaN</td>\n",
       "      <td>NaN</td>\n",
       "      <td>NaN</td>\n",
       "      <td>NaN</td>\n",
       "      <td>NaN</td>\n",
       "    </tr>\n",
       "  </tbody>\n",
       "</table>\n",
       "<p>10 rows × 22 columns</p>\n",
       "</div>"
      ],
      "text/plain": [
       "    Trip ID  Duration               Start Time                 End Time  \\\n",
       "0  18222186     15060  2017-01-19T17:05:00.000  2017-01-19T21:16:00.000   \n",
       "1   9518671     77160  2016-10-09T14:37:00.000  2016-10-10T12:03:00.000   \n",
       "2  20444932     86400  2017-02-18T10:15:00.000  2017-02-20T15:20:00.000   \n",
       "3  20905031     18840  2017-02-27T12:26:00.000  2017-02-27T17:40:00.000   \n",
       "4  21031476     86400  2017-02-27T20:26:00.000  2017-03-01T09:49:00.000   \n",
       "5   9378284        60  2016-10-09T09:40:00.000  2016-10-09T09:41:00.000   \n",
       "6  21784648     14760  2017-03-10T17:38:00.000  2017-03-10T21:44:00.000   \n",
       "7  22506739     79020  2017-03-17T19:20:00.000  2017-03-18T17:17:00.000   \n",
       "8  20889067     86400  2017-02-26T12:18:00.000  2017-02-27T12:36:00.000   \n",
       "9  18481915       600  2017-01-23T18:48:00.000  2017-01-23T18:58:00.000   \n",
       "\n",
       "   Starting Station ID  Starting Station Latitude  Starting Station Longitude  \\\n",
       "0               3031.0                  34.044701                 -118.252441   \n",
       "1                  NaN                        NaN                         NaN   \n",
       "2               3026.0                  34.063179                 -118.245880   \n",
       "3               3023.0                  34.050911                 -118.240967   \n",
       "4               3008.0                  34.046612                 -118.262733   \n",
       "5                  NaN                        NaN                         NaN   \n",
       "6               3065.0                  34.060558                 -118.238327   \n",
       "7               3063.0                  34.049198                 -118.252831   \n",
       "8               3062.0                  34.047749                 -118.243172   \n",
       "9               3082.0                  34.046520                 -118.237411   \n",
       "\n",
       "   Ending Station ID  Ending Station Latitude  Ending Station Longitude  \\\n",
       "0             3000.0                      NaN                       NaN   \n",
       "1             3000.0                      NaN                       NaN   \n",
       "2             3000.0                      NaN                       NaN   \n",
       "3             3000.0                      NaN                       NaN   \n",
       "4             3000.0                      NaN                       NaN   \n",
       "5                NaN                      NaN                       NaN   \n",
       "6             3000.0                      NaN                       NaN   \n",
       "7             3000.0                      NaN                       NaN   \n",
       "8             3000.0                      NaN                       NaN   \n",
       "9             3000.0                      NaN                       NaN   \n",
       "\n",
       "       ...        Trip Route Category  Passholder Type Starting Lat-Long  \\\n",
       "0      ...                    One Way          Walk-up               NaN   \n",
       "1      ...                    One Way     Monthly Pass               NaN   \n",
       "2      ...                    One Way          Walk-up               NaN   \n",
       "3      ...                    One Way          Walk-up               NaN   \n",
       "4      ...                    One Way        Flex Pass               NaN   \n",
       "5      ...                    One Way     Staff Annual               NaN   \n",
       "6      ...                    One Way          Walk-up               NaN   \n",
       "7      ...                    One Way          Walk-up               NaN   \n",
       "8      ...                    One Way          Walk-up               NaN   \n",
       "9      ...                    One Way     Monthly Pass               NaN   \n",
       "\n",
       "  Ending Lat-Long Neighborhood Councils (Certified) Council Districts  \\\n",
       "0             NaN                               NaN               NaN   \n",
       "1             NaN                               NaN               NaN   \n",
       "2             NaN                               NaN               NaN   \n",
       "3             NaN                               NaN               NaN   \n",
       "4             NaN                               NaN               NaN   \n",
       "5             NaN                               NaN               NaN   \n",
       "6             NaN                               NaN               NaN   \n",
       "7             NaN                               NaN               NaN   \n",
       "8             NaN                               NaN               NaN   \n",
       "9             NaN                               NaN               NaN   \n",
       "\n",
       "   Zip Codes  LA Specific Plans  Precinct Boundaries  Census Tracts  \n",
       "0        NaN                NaN                  NaN            NaN  \n",
       "1        NaN                NaN                  NaN            NaN  \n",
       "2        NaN                NaN                  NaN            NaN  \n",
       "3        NaN                NaN                  NaN            NaN  \n",
       "4        NaN                NaN                  NaN            NaN  \n",
       "5        NaN                NaN                  NaN            NaN  \n",
       "6        NaN                NaN                  NaN            NaN  \n",
       "7        NaN                NaN                  NaN            NaN  \n",
       "8        NaN                NaN                  NaN            NaN  \n",
       "9        NaN                NaN                  NaN            NaN  \n",
       "\n",
       "[10 rows x 22 columns]"
      ]
     },
     "execution_count": 125,
     "metadata": {},
     "output_type": "execute_result"
    }
   ],
   "source": [
    "df=pd.read_csv('metro-bike-share-trip-data.csv')\n",
    "df.head(10)"
   ]
  },
  {
   "cell_type": "code",
   "execution_count": 126,
   "metadata": {
    "scrolled": true
   },
   "outputs": [
    {
     "data": {
      "text/plain": [
       "(132427, 22)"
      ]
     },
     "execution_count": 126,
     "metadata": {},
     "output_type": "execute_result"
    }
   ],
   "source": [
    "df.shape"
   ]
  },
  {
   "cell_type": "markdown",
   "metadata": {},
   "source": [
    "Feature descriptions from https://bikeshare.metro.net/about/data/\n",
    "\n",
    "<b>trip_id:</b> Locally unique integer that identifies the trip\n",
    "\n",
    "<b>duration:</b> Length of trip in <i> minutes*</i>\n",
    "\n",
    "<b>start_time:</b> The date/time when the trip began, presented in ISO 8601 format in local time\n",
    "\n",
    "<b>end_time: </b>The date/time when the trip ended, presented in ISO 8601 format in local time\n",
    "\n",
    "<b>start_station:</b> The station ID where the trip originated \n",
    "\n",
    "<b>start_lat:</b> The latitude of the station where the trip originated\n",
    "\n",
    "<b>start_lon: </b>The longitude of the station where the trip originated\n",
    "\n",
    "<b>end_station: </b>The station ID where the trip terminated \n",
    "\n",
    "<b>end_lat: </b>The latitude of the station where the trip terminated\n",
    "\n",
    "<b>end_lon: </b>The longitude of the station where the trip terminated\n",
    "\n",
    "<b>bike_id: </b> Locally unique integer that identifies the bike\n",
    "    \n",
    "<b>plan_duration: </b>The number of days that the plan the passholder is using entitles them to ride; 0 is used for a single ride plan (Walk-up)\n",
    "\n",
    "<b>trip_route_category:</b> \"Round Trip\" for trips starting and ending at the same station or \"One Way\" for all other trips\n",
    "\n",
    "<b>passholder_type: </b>The name of the passholder's plan\n",
    "\n",
    "*units are actually in but each instance is a multiple of 60 i.e. a whole minute number. We will convert this to minutes\n",
    "\n",
    "Other features are not officially described by Metro Bike Share\n",
    "\n",
    "Starting Lat-Long and Ending Lat-Long appear to be repetitions of previous station data and can be dropped safely\n",
    "\n",
    "Remaining features appear to be LA geographic information not relevant to this study, many of which include large amounts of missing data. These will  also be dropped."
   ]
  },
  {
   "cell_type": "code",
   "execution_count": null,
   "metadata": {},
   "outputs": [],
   "source": []
  },
  {
   "cell_type": "markdown",
   "metadata": {},
   "source": [
    "### Data Cleaning"
   ]
  },
  {
   "cell_type": "code",
   "execution_count": 127,
   "metadata": {
    "scrolled": false
   },
   "outputs": [
    {
     "name": "stdout",
     "output_type": "stream",
     "text": [
      "<class 'pandas.core.frame.DataFrame'>\n",
      "RangeIndex: 132427 entries, 0 to 132426\n",
      "Data columns (total 22 columns):\n",
      "Trip ID                              132427 non-null int64\n",
      "Duration                             132427 non-null int64\n",
      "Start Time                           132427 non-null object\n",
      "End Time                             132427 non-null object\n",
      "Starting Station ID                  132408 non-null float64\n",
      "Starting Station Latitude            132379 non-null float64\n",
      "Starting Station Longitude           132379 non-null float64\n",
      "Ending Station ID                    132331 non-null float64\n",
      "Ending Station Latitude              131376 non-null float64\n",
      "Ending Station Longitude             131376 non-null float64\n",
      "Bike ID                              132417 non-null float64\n",
      "Plan Duration                        131661 non-null float64\n",
      "Trip Route Category                  132427 non-null object\n",
      "Passholder Type                      132427 non-null object\n",
      "Starting Lat-Long                    98622 non-null object\n",
      "Ending Lat-Long                      131376 non-null object\n",
      "Neighborhood Councils (Certified)    98590 non-null float64\n",
      "Council Districts                    98590 non-null float64\n",
      "Zip Codes                            98590 non-null float64\n",
      "LA Specific Plans                    15837 non-null float64\n",
      "Precinct Boundaries                  131328 non-null float64\n",
      "Census Tracts                        131328 non-null float64\n",
      "dtypes: float64(14), int64(2), object(6)\n",
      "memory usage: 22.2+ MB\n"
     ]
    }
   ],
   "source": [
    "df.info()"
   ]
  },
  {
   "cell_type": "code",
   "execution_count": 128,
   "metadata": {
    "scrolled": true
   },
   "outputs": [
    {
     "data": {
      "text/plain": [
       "Trip ID                                   0\n",
       "Duration                                  0\n",
       "Start Time                                0\n",
       "End Time                                  0\n",
       "Starting Station ID                      19\n",
       "Starting Station Latitude                48\n",
       "Starting Station Longitude               48\n",
       "Ending Station ID                        96\n",
       "Ending Station Latitude                1051\n",
       "Ending Station Longitude               1051\n",
       "Bike ID                                  10\n",
       "Plan Duration                           766\n",
       "Trip Route Category                       0\n",
       "Passholder Type                           0\n",
       "Starting Lat-Long                     33805\n",
       "Ending Lat-Long                        1051\n",
       "Neighborhood Councils (Certified)     33837\n",
       "Council Districts                     33837\n",
       "Zip Codes                             33837\n",
       "LA Specific Plans                    116590\n",
       "Precinct Boundaries                    1099\n",
       "Census Tracts                          1099\n",
       "dtype: int64"
      ]
     },
     "execution_count": 128,
     "metadata": {},
     "output_type": "execute_result"
    }
   ],
   "source": [
    "df.isna().sum()"
   ]
  },
  {
   "cell_type": "code",
   "execution_count": 129,
   "metadata": {},
   "outputs": [],
   "source": [
    "df.drop(columns=['Starting Lat-Long',\n",
    "                 'Ending Lat-Long',\n",
    "                 'Neighborhood Councils (Certified)',\n",
    "                 'Council Districts',\n",
    "                 'Zip Codes',\n",
    "                 'LA Specific Plans',\n",
    "                 'Precinct Boundaries',\n",
    "                 'Census Tracts'],\n",
    "       inplace=True)\n",
    "df.Duration=df.Duration/60"
   ]
  },
  {
   "cell_type": "code",
   "execution_count": 130,
   "metadata": {},
   "outputs": [
    {
     "data": {
      "text/html": [
       "<div>\n",
       "<style scoped>\n",
       "    .dataframe tbody tr th:only-of-type {\n",
       "        vertical-align: middle;\n",
       "    }\n",
       "\n",
       "    .dataframe tbody tr th {\n",
       "        vertical-align: top;\n",
       "    }\n",
       "\n",
       "    .dataframe thead th {\n",
       "        text-align: right;\n",
       "    }\n",
       "</style>\n",
       "<table border=\"1\" class=\"dataframe\">\n",
       "  <thead>\n",
       "    <tr style=\"text-align: right;\">\n",
       "      <th></th>\n",
       "      <th>Trip ID</th>\n",
       "      <th>Duration</th>\n",
       "      <th>Start Time</th>\n",
       "      <th>End Time</th>\n",
       "      <th>Starting Station ID</th>\n",
       "      <th>Starting Station Latitude</th>\n",
       "      <th>Starting Station Longitude</th>\n",
       "      <th>Ending Station ID</th>\n",
       "      <th>Ending Station Latitude</th>\n",
       "      <th>Ending Station Longitude</th>\n",
       "      <th>Bike ID</th>\n",
       "      <th>Plan Duration</th>\n",
       "      <th>Trip Route Category</th>\n",
       "      <th>Passholder Type</th>\n",
       "    </tr>\n",
       "  </thead>\n",
       "  <tbody>\n",
       "    <tr>\n",
       "      <th>0</th>\n",
       "      <td>18222186</td>\n",
       "      <td>251.0</td>\n",
       "      <td>2017-01-19T17:05:00.000</td>\n",
       "      <td>2017-01-19T21:16:00.000</td>\n",
       "      <td>3031.0</td>\n",
       "      <td>34.044701</td>\n",
       "      <td>-118.252441</td>\n",
       "      <td>3000.0</td>\n",
       "      <td>NaN</td>\n",
       "      <td>NaN</td>\n",
       "      <td>5944.0</td>\n",
       "      <td>0.0</td>\n",
       "      <td>One Way</td>\n",
       "      <td>Walk-up</td>\n",
       "    </tr>\n",
       "    <tr>\n",
       "      <th>1</th>\n",
       "      <td>9518671</td>\n",
       "      <td>1286.0</td>\n",
       "      <td>2016-10-09T14:37:00.000</td>\n",
       "      <td>2016-10-10T12:03:00.000</td>\n",
       "      <td>NaN</td>\n",
       "      <td>NaN</td>\n",
       "      <td>NaN</td>\n",
       "      <td>3000.0</td>\n",
       "      <td>NaN</td>\n",
       "      <td>NaN</td>\n",
       "      <td>6603.0</td>\n",
       "      <td>30.0</td>\n",
       "      <td>One Way</td>\n",
       "      <td>Monthly Pass</td>\n",
       "    </tr>\n",
       "    <tr>\n",
       "      <th>2</th>\n",
       "      <td>20444932</td>\n",
       "      <td>1440.0</td>\n",
       "      <td>2017-02-18T10:15:00.000</td>\n",
       "      <td>2017-02-20T15:20:00.000</td>\n",
       "      <td>3026.0</td>\n",
       "      <td>34.063179</td>\n",
       "      <td>-118.245880</td>\n",
       "      <td>3000.0</td>\n",
       "      <td>NaN</td>\n",
       "      <td>NaN</td>\n",
       "      <td>5879.0</td>\n",
       "      <td>0.0</td>\n",
       "      <td>One Way</td>\n",
       "      <td>Walk-up</td>\n",
       "    </tr>\n",
       "    <tr>\n",
       "      <th>3</th>\n",
       "      <td>20905031</td>\n",
       "      <td>314.0</td>\n",
       "      <td>2017-02-27T12:26:00.000</td>\n",
       "      <td>2017-02-27T17:40:00.000</td>\n",
       "      <td>3023.0</td>\n",
       "      <td>34.050911</td>\n",
       "      <td>-118.240967</td>\n",
       "      <td>3000.0</td>\n",
       "      <td>NaN</td>\n",
       "      <td>NaN</td>\n",
       "      <td>6056.0</td>\n",
       "      <td>0.0</td>\n",
       "      <td>One Way</td>\n",
       "      <td>Walk-up</td>\n",
       "    </tr>\n",
       "    <tr>\n",
       "      <th>4</th>\n",
       "      <td>21031476</td>\n",
       "      <td>1440.0</td>\n",
       "      <td>2017-02-27T20:26:00.000</td>\n",
       "      <td>2017-03-01T09:49:00.000</td>\n",
       "      <td>3008.0</td>\n",
       "      <td>34.046612</td>\n",
       "      <td>-118.262733</td>\n",
       "      <td>3000.0</td>\n",
       "      <td>NaN</td>\n",
       "      <td>NaN</td>\n",
       "      <td>6054.0</td>\n",
       "      <td>365.0</td>\n",
       "      <td>One Way</td>\n",
       "      <td>Flex Pass</td>\n",
       "    </tr>\n",
       "  </tbody>\n",
       "</table>\n",
       "</div>"
      ],
      "text/plain": [
       "    Trip ID  Duration               Start Time                 End Time  \\\n",
       "0  18222186     251.0  2017-01-19T17:05:00.000  2017-01-19T21:16:00.000   \n",
       "1   9518671    1286.0  2016-10-09T14:37:00.000  2016-10-10T12:03:00.000   \n",
       "2  20444932    1440.0  2017-02-18T10:15:00.000  2017-02-20T15:20:00.000   \n",
       "3  20905031     314.0  2017-02-27T12:26:00.000  2017-02-27T17:40:00.000   \n",
       "4  21031476    1440.0  2017-02-27T20:26:00.000  2017-03-01T09:49:00.000   \n",
       "\n",
       "   Starting Station ID  Starting Station Latitude  Starting Station Longitude  \\\n",
       "0               3031.0                  34.044701                 -118.252441   \n",
       "1                  NaN                        NaN                         NaN   \n",
       "2               3026.0                  34.063179                 -118.245880   \n",
       "3               3023.0                  34.050911                 -118.240967   \n",
       "4               3008.0                  34.046612                 -118.262733   \n",
       "\n",
       "   Ending Station ID  Ending Station Latitude  Ending Station Longitude  \\\n",
       "0             3000.0                      NaN                       NaN   \n",
       "1             3000.0                      NaN                       NaN   \n",
       "2             3000.0                      NaN                       NaN   \n",
       "3             3000.0                      NaN                       NaN   \n",
       "4             3000.0                      NaN                       NaN   \n",
       "\n",
       "   Bike ID  Plan Duration Trip Route Category Passholder Type  \n",
       "0   5944.0            0.0             One Way         Walk-up  \n",
       "1   6603.0           30.0             One Way    Monthly Pass  \n",
       "2   5879.0            0.0             One Way         Walk-up  \n",
       "3   6056.0            0.0             One Way         Walk-up  \n",
       "4   6054.0          365.0             One Way       Flex Pass  "
      ]
     },
     "execution_count": 130,
     "metadata": {},
     "output_type": "execute_result"
    }
   ],
   "source": [
    "df.head()"
   ]
  },
  {
   "cell_type": "markdown",
   "metadata": {},
   "source": [
    "Trip ID can be used is a unique identifier and can be used as an index for this data.\n",
    "\n",
    "Remaining features had little missing data the largest source being just 1051 missing cells from over 132,000. Rows with missing data can be safely dropped from the datasets.\n",
    "\n",
    "Start Time and End Time will be converted to time series data types\n"
   ]
  },
  {
   "cell_type": "code",
   "execution_count": 131,
   "metadata": {},
   "outputs": [
    {
     "data": {
      "text/html": [
       "<div>\n",
       "<style scoped>\n",
       "    .dataframe tbody tr th:only-of-type {\n",
       "        vertical-align: middle;\n",
       "    }\n",
       "\n",
       "    .dataframe tbody tr th {\n",
       "        vertical-align: top;\n",
       "    }\n",
       "\n",
       "    .dataframe thead th {\n",
       "        text-align: right;\n",
       "    }\n",
       "</style>\n",
       "<table border=\"1\" class=\"dataframe\">\n",
       "  <thead>\n",
       "    <tr style=\"text-align: right;\">\n",
       "      <th></th>\n",
       "      <th>Duration</th>\n",
       "      <th>Start Time</th>\n",
       "      <th>End Time</th>\n",
       "      <th>Starting Station ID</th>\n",
       "      <th>Starting Station Latitude</th>\n",
       "      <th>Starting Station Longitude</th>\n",
       "      <th>Ending Station ID</th>\n",
       "      <th>Ending Station Latitude</th>\n",
       "      <th>Ending Station Longitude</th>\n",
       "      <th>Bike ID</th>\n",
       "      <th>Plan Duration</th>\n",
       "      <th>Trip Route Category</th>\n",
       "      <th>Passholder Type</th>\n",
       "    </tr>\n",
       "    <tr>\n",
       "      <th>Trip ID</th>\n",
       "      <th></th>\n",
       "      <th></th>\n",
       "      <th></th>\n",
       "      <th></th>\n",
       "      <th></th>\n",
       "      <th></th>\n",
       "      <th></th>\n",
       "      <th></th>\n",
       "      <th></th>\n",
       "      <th></th>\n",
       "      <th></th>\n",
       "      <th></th>\n",
       "      <th></th>\n",
       "    </tr>\n",
       "  </thead>\n",
       "  <tbody>\n",
       "    <tr>\n",
       "      <th>17848847</th>\n",
       "      <td>8.0</td>\n",
       "      <td>2017-01-13 21:32:00</td>\n",
       "      <td>2017-01-13 21:40:00</td>\n",
       "      <td>3082.0</td>\n",
       "      <td>34.046520</td>\n",
       "      <td>-118.237411</td>\n",
       "      <td>3036.0</td>\n",
       "      <td>34.039188</td>\n",
       "      <td>-118.232529</td>\n",
       "      <td>6474.0</td>\n",
       "      <td>0.0</td>\n",
       "      <td>One Way</td>\n",
       "      <td>Walk-up</td>\n",
       "    </tr>\n",
       "    <tr>\n",
       "      <th>20700706</th>\n",
       "      <td>9.0</td>\n",
       "      <td>2017-02-24 23:13:00</td>\n",
       "      <td>2017-02-24 23:22:00</td>\n",
       "      <td>3029.0</td>\n",
       "      <td>34.048851</td>\n",
       "      <td>-118.246422</td>\n",
       "      <td>3082.0</td>\n",
       "      <td>34.046520</td>\n",
       "      <td>-118.237411</td>\n",
       "      <td>5794.0</td>\n",
       "      <td>30.0</td>\n",
       "      <td>One Way</td>\n",
       "      <td>Monthly Pass</td>\n",
       "    </tr>\n",
       "    <tr>\n",
       "      <th>20595730</th>\n",
       "      <td>14.0</td>\n",
       "      <td>2017-02-23 07:34:00</td>\n",
       "      <td>2017-02-23 07:48:00</td>\n",
       "      <td>3022.0</td>\n",
       "      <td>34.046070</td>\n",
       "      <td>-118.233093</td>\n",
       "      <td>3005.0</td>\n",
       "      <td>34.048550</td>\n",
       "      <td>-118.259048</td>\n",
       "      <td>6604.0</td>\n",
       "      <td>30.0</td>\n",
       "      <td>One Way</td>\n",
       "      <td>Monthly Pass</td>\n",
       "    </tr>\n",
       "    <tr>\n",
       "      <th>17307719</th>\n",
       "      <td>7.0</td>\n",
       "      <td>2017-01-05 12:04:00</td>\n",
       "      <td>2017-01-05 12:11:00</td>\n",
       "      <td>3059.0</td>\n",
       "      <td>34.037949</td>\n",
       "      <td>-118.256271</td>\n",
       "      <td>3038.0</td>\n",
       "      <td>34.046822</td>\n",
       "      <td>-118.248352</td>\n",
       "      <td>6035.0</td>\n",
       "      <td>30.0</td>\n",
       "      <td>One Way</td>\n",
       "      <td>Monthly Pass</td>\n",
       "    </tr>\n",
       "    <tr>\n",
       "      <th>18941656</th>\n",
       "      <td>14.0</td>\n",
       "      <td>2017-01-30 20:19:00</td>\n",
       "      <td>2017-01-30 20:33:00</td>\n",
       "      <td>3035.0</td>\n",
       "      <td>34.048401</td>\n",
       "      <td>-118.260948</td>\n",
       "      <td>3040.0</td>\n",
       "      <td>34.053570</td>\n",
       "      <td>-118.266357</td>\n",
       "      <td>6728.0</td>\n",
       "      <td>0.0</td>\n",
       "      <td>One Way</td>\n",
       "      <td>Walk-up</td>\n",
       "    </tr>\n",
       "  </tbody>\n",
       "</table>\n",
       "</div>"
      ],
      "text/plain": [
       "          Duration          Start Time            End Time  \\\n",
       "Trip ID                                                      \n",
       "17848847       8.0 2017-01-13 21:32:00 2017-01-13 21:40:00   \n",
       "20700706       9.0 2017-02-24 23:13:00 2017-02-24 23:22:00   \n",
       "20595730      14.0 2017-02-23 07:34:00 2017-02-23 07:48:00   \n",
       "17307719       7.0 2017-01-05 12:04:00 2017-01-05 12:11:00   \n",
       "18941656      14.0 2017-01-30 20:19:00 2017-01-30 20:33:00   \n",
       "\n",
       "          Starting Station ID  Starting Station Latitude  \\\n",
       "Trip ID                                                    \n",
       "17848847               3082.0                  34.046520   \n",
       "20700706               3029.0                  34.048851   \n",
       "20595730               3022.0                  34.046070   \n",
       "17307719               3059.0                  34.037949   \n",
       "18941656               3035.0                  34.048401   \n",
       "\n",
       "          Starting Station Longitude  Ending Station ID  \\\n",
       "Trip ID                                                   \n",
       "17848847                 -118.237411             3036.0   \n",
       "20700706                 -118.246422             3082.0   \n",
       "20595730                 -118.233093             3005.0   \n",
       "17307719                 -118.256271             3038.0   \n",
       "18941656                 -118.260948             3040.0   \n",
       "\n",
       "          Ending Station Latitude  Ending Station Longitude  Bike ID  \\\n",
       "Trip ID                                                                \n",
       "17848847                34.039188               -118.232529   6474.0   \n",
       "20700706                34.046520               -118.237411   5794.0   \n",
       "20595730                34.048550               -118.259048   6604.0   \n",
       "17307719                34.046822               -118.248352   6035.0   \n",
       "18941656                34.053570               -118.266357   6728.0   \n",
       "\n",
       "          Plan Duration Trip Route Category Passholder Type  \n",
       "Trip ID                                                      \n",
       "17848847            0.0             One Way         Walk-up  \n",
       "20700706           30.0             One Way    Monthly Pass  \n",
       "20595730           30.0             One Way    Monthly Pass  \n",
       "17307719           30.0             One Way    Monthly Pass  \n",
       "18941656            0.0             One Way         Walk-up  "
      ]
     },
     "execution_count": 131,
     "metadata": {},
     "output_type": "execute_result"
    }
   ],
   "source": [
    "df.set_index('Trip ID', inplace=True)\n",
    "df.dropna(inplace=True)\n",
    "df['Start Time']= pd.to_datetime(df['Start Time'])\n",
    "df['End Time']=pd.to_datetime(df['End Time'])\n",
    "\n",
    "df.head()"
   ]
  },
  {
   "cell_type": "markdown",
   "metadata": {},
   "source": [
    "Lets inspect the categorical features of Bike ID, Plan Duration, Trip Route Category, Passholder Type"
   ]
  },
  {
   "cell_type": "code",
   "execution_count": 132,
   "metadata": {
    "scrolled": true
   },
   "outputs": [
    {
     "data": {
      "text/plain": [
       "One Way       118070\n",
       "Round Trip     12645\n",
       "Name: Trip Route Category, dtype: int64"
      ]
     },
     "execution_count": 132,
     "metadata": {},
     "output_type": "execute_result"
    }
   ],
   "source": [
    "df['Trip Route Category'].value_counts()"
   ]
  },
  {
   "cell_type": "code",
   "execution_count": 133,
   "metadata": {},
   "outputs": [
    {
     "data": {
      "text/plain": [
       "One Way       0.903263\n",
       "Round Trip    0.096737\n",
       "Name: Trip Route Category, dtype: float64"
      ]
     },
     "execution_count": 133,
     "metadata": {},
     "output_type": "execute_result"
    }
   ],
   "source": [
    "df['Trip Route Category'].value_counts(normalize=True)"
   ]
  },
  {
   "cell_type": "markdown",
   "metadata": {},
   "source": [
    "Over 90% of trips are One Way, the bike is picked up at one Station and ridden to another Station. The rider is getting from one place to another, using the bike as a legit mode of transport"
   ]
  },
  {
   "cell_type": "code",
   "execution_count": 134,
   "metadata": {
    "scrolled": true
   },
   "outputs": [
    {
     "data": {
      "text/plain": [
       "Monthly Pass    80493\n",
       "Walk-up         40756\n",
       "Flex Pass        9466\n",
       "Name: Passholder Type, dtype: int64"
      ]
     },
     "execution_count": 134,
     "metadata": {},
     "output_type": "execute_result"
    }
   ],
   "source": [
    "df['Passholder Type'].value_counts()"
   ]
  },
  {
   "cell_type": "code",
   "execution_count": 135,
   "metadata": {},
   "outputs": [
    {
     "data": {
      "text/plain": [
       "30.0     80493\n",
       "0.0      40756\n",
       "365.0     9466\n",
       "Name: Plan Duration, dtype: int64"
      ]
     },
     "execution_count": 135,
     "metadata": {},
     "output_type": "execute_result"
    }
   ],
   "source": [
    "df['Plan Duration'].value_counts()"
   ]
  },
  {
   "cell_type": "markdown",
   "metadata": {},
   "source": [
    "Plan Duration and Passholder Type appear to be displaying the same data in 2 different fashions\n",
    "30 == Monthly Pass \n",
    "0 == Walk-up\n",
    "365 == Flex Pass\n",
    "Having this feature exist twice is unnecessary, so lets drop Plan Duration"
   ]
  },
  {
   "cell_type": "code",
   "execution_count": 136,
   "metadata": {},
   "outputs": [],
   "source": [
    "df.drop(columns=['Plan Duration'],inplace=True)"
   ]
  },
  {
   "cell_type": "code",
   "execution_count": 137,
   "metadata": {},
   "outputs": [
    {
     "data": {
      "text/plain": [
       "762"
      ]
     },
     "execution_count": 137,
     "metadata": {},
     "output_type": "execute_result"
    }
   ],
   "source": [
    "len(df['Bike ID'].unique())"
   ]
  },
  {
   "cell_type": "markdown",
   "metadata": {},
   "source": [
    "762 individual bikes in the system"
   ]
  },
  {
   "cell_type": "code",
   "execution_count": 138,
   "metadata": {},
   "outputs": [
    {
     "data": {
      "text/plain": [
       "<matplotlib.axes._subplots.AxesSubplot at 0x2d6442e8>"
      ]
     },
     "execution_count": 138,
     "metadata": {},
     "output_type": "execute_result"
    },
    {
     "data": {
      "image/png": "[encoded data removed]",
      "text/plain": [
       "<Figure size 432x288 with 1 Axes>"
      ]
     },
     "metadata": {
      "needs_background": "light"
     },
     "output_type": "display_data"
    }
   ],
   "source": [
    "df['Bike ID'].value_counts().hist()"
   ]
  },
  {
   "cell_type": "markdown",
   "metadata": {},
   "source": [
    "Distribution of Bike usage appears normal indicating the bikes are all used randomly. This is to be expected"
   ]
  },
  {
   "cell_type": "code",
   "execution_count": 139,
   "metadata": {
    "scrolled": false
   },
   "outputs": [
    {
     "data": {
      "text/html": [
       "<div>\n",
       "<style scoped>\n",
       "    .dataframe tbody tr th:only-of-type {\n",
       "        vertical-align: middle;\n",
       "    }\n",
       "\n",
       "    .dataframe tbody tr th {\n",
       "        vertical-align: top;\n",
       "    }\n",
       "\n",
       "    .dataframe thead th {\n",
       "        text-align: right;\n",
       "    }\n",
       "</style>\n",
       "<table border=\"1\" class=\"dataframe\">\n",
       "  <thead>\n",
       "    <tr style=\"text-align: right;\">\n",
       "      <th></th>\n",
       "      <th>Duration</th>\n",
       "      <th>Starting Station ID</th>\n",
       "      <th>Starting Station Latitude</th>\n",
       "      <th>Starting Station Longitude</th>\n",
       "      <th>Ending Station ID</th>\n",
       "      <th>Ending Station Latitude</th>\n",
       "      <th>Ending Station Longitude</th>\n",
       "      <th>Bike ID</th>\n",
       "    </tr>\n",
       "  </thead>\n",
       "  <tbody>\n",
       "    <tr>\n",
       "      <th>count</th>\n",
       "      <td>130715.000000</td>\n",
       "      <td>130715.000000</td>\n",
       "      <td>130715.000000</td>\n",
       "      <td>130715.000000</td>\n",
       "      <td>130715.000000</td>\n",
       "      <td>130715.000000</td>\n",
       "      <td>130715.000000</td>\n",
       "      <td>130715.000000</td>\n",
       "    </tr>\n",
       "    <tr>\n",
       "      <th>mean</th>\n",
       "      <td>22.587155</td>\n",
       "      <td>3042.568756</td>\n",
       "      <td>34.039216</td>\n",
       "      <td>-118.221176</td>\n",
       "      <td>3041.993597</td>\n",
       "      <td>34.034566</td>\n",
       "      <td>-118.206420</td>\n",
       "      <td>6193.698114</td>\n",
       "    </tr>\n",
       "    <tr>\n",
       "      <th>std</th>\n",
       "      <td>77.840790</td>\n",
       "      <td>30.970158</td>\n",
       "      <td>0.532694</td>\n",
       "      <td>1.849996</td>\n",
       "      <td>33.546514</td>\n",
       "      <td>0.652348</td>\n",
       "      <td>2.265617</td>\n",
       "      <td>293.303470</td>\n",
       "    </tr>\n",
       "    <tr>\n",
       "      <th>min</th>\n",
       "      <td>1.000000</td>\n",
       "      <td>3005.000000</td>\n",
       "      <td>0.000000</td>\n",
       "      <td>-118.472832</td>\n",
       "      <td>3005.000000</td>\n",
       "      <td>0.000000</td>\n",
       "      <td>-118.472832</td>\n",
       "      <td>4727.000000</td>\n",
       "    </tr>\n",
       "    <tr>\n",
       "      <th>25%</th>\n",
       "      <td>6.000000</td>\n",
       "      <td>3024.000000</td>\n",
       "      <td>34.044170</td>\n",
       "      <td>-118.256980</td>\n",
       "      <td>3023.000000</td>\n",
       "      <td>34.044159</td>\n",
       "      <td>-118.256981</td>\n",
       "      <td>5953.000000</td>\n",
       "    </tr>\n",
       "    <tr>\n",
       "      <th>50%</th>\n",
       "      <td>10.000000</td>\n",
       "      <td>3039.000000</td>\n",
       "      <td>34.046822</td>\n",
       "      <td>-118.250954</td>\n",
       "      <td>3038.000000</td>\n",
       "      <td>34.046810</td>\n",
       "      <td>-118.250954</td>\n",
       "      <td>6186.000000</td>\n",
       "    </tr>\n",
       "    <tr>\n",
       "      <th>75%</th>\n",
       "      <td>18.000000</td>\n",
       "      <td>3063.000000</td>\n",
       "      <td>34.050880</td>\n",
       "      <td>-118.241562</td>\n",
       "      <td>3063.000000</td>\n",
       "      <td>34.050480</td>\n",
       "      <td>-118.238810</td>\n",
       "      <td>6434.000000</td>\n",
       "    </tr>\n",
       "    <tr>\n",
       "      <th>max</th>\n",
       "      <td>1440.000000</td>\n",
       "      <td>4108.000000</td>\n",
       "      <td>34.064281</td>\n",
       "      <td>0.000000</td>\n",
       "      <td>4108.000000</td>\n",
       "      <td>34.064281</td>\n",
       "      <td>0.000000</td>\n",
       "      <td>6728.000000</td>\n",
       "    </tr>\n",
       "  </tbody>\n",
       "</table>\n",
       "</div>"
      ],
      "text/plain": [
       "            Duration  Starting Station ID  Starting Station Latitude  \\\n",
       "count  130715.000000        130715.000000              130715.000000   \n",
       "mean       22.587155          3042.568756                  34.039216   \n",
       "std        77.840790            30.970158                   0.532694   \n",
       "min         1.000000          3005.000000                   0.000000   \n",
       "25%         6.000000          3024.000000                  34.044170   \n",
       "50%        10.000000          3039.000000                  34.046822   \n",
       "75%        18.000000          3063.000000                  34.050880   \n",
       "max      1440.000000          4108.000000                  34.064281   \n",
       "\n",
       "       Starting Station Longitude  Ending Station ID  Ending Station Latitude  \\\n",
       "count               130715.000000      130715.000000            130715.000000   \n",
       "mean                  -118.221176        3041.993597                34.034566   \n",
       "std                      1.849996          33.546514                 0.652348   \n",
       "min                   -118.472832        3005.000000                 0.000000   \n",
       "25%                   -118.256980        3023.000000                34.044159   \n",
       "50%                   -118.250954        3038.000000                34.046810   \n",
       "75%                   -118.241562        3063.000000                34.050480   \n",
       "max                      0.000000        4108.000000                34.064281   \n",
       "\n",
       "       Ending Station Longitude        Bike ID  \n",
       "count             130715.000000  130715.000000  \n",
       "mean                -118.206420    6193.698114  \n",
       "std                    2.265617     293.303470  \n",
       "min                 -118.472832    4727.000000  \n",
       "25%                 -118.256981    5953.000000  \n",
       "50%                 -118.250954    6186.000000  \n",
       "75%                 -118.238810    6434.000000  \n",
       "max                    0.000000    6728.000000  "
      ]
     },
     "execution_count": 139,
     "metadata": {},
     "output_type": "execute_result"
    }
   ],
   "source": [
    "df.describe()"
   ]
  },
  {
   "cell_type": "markdown",
   "metadata": {},
   "source": [
    "Starting Station Latitude, Starting Station Longitude, Ending Station Latitude & Ending Station Longitude contain zeros that must be treated as missing data. However, there are no zeros or any remaining missing values in Starting Station ID or Ending Station ID, we can use these values to umpute the missing data"
   ]
  },
  {
   "cell_type": "code",
   "execution_count": 140,
   "metadata": {
    "scrolled": true
   },
   "outputs": [
    {
     "data": {
      "text/plain": [
       "4108.0    32\n",
       "Name: Starting Station ID, dtype: int64"
      ]
     },
     "execution_count": 140,
     "metadata": {},
     "output_type": "execute_result"
    }
   ],
   "source": [
    "df.loc[df['Starting Station Latitude']==0]['Starting Station ID'].value_counts()"
   ]
  },
  {
   "cell_type": "code",
   "execution_count": 141,
   "metadata": {},
   "outputs": [
    {
     "data": {
      "text/plain": [
       "4108.0    32\n",
       "Name: Starting Station ID, dtype: int64"
      ]
     },
     "execution_count": 141,
     "metadata": {},
     "output_type": "execute_result"
    }
   ],
   "source": [
    "df.loc[df['Starting Station Longitude']==0]['Starting Station ID'].value_counts()"
   ]
  },
  {
   "cell_type": "code",
   "execution_count": 142,
   "metadata": {},
   "outputs": [
    {
     "data": {
      "text/plain": [
       "4108.0    48\n",
       "Name: Ending Station ID, dtype: int64"
      ]
     },
     "execution_count": 142,
     "metadata": {},
     "output_type": "execute_result"
    }
   ],
   "source": [
    "df.loc[df['Ending Station Latitude']==0]['Ending Station ID'].value_counts()"
   ]
  },
  {
   "cell_type": "code",
   "execution_count": 143,
   "metadata": {},
   "outputs": [
    {
     "data": {
      "text/plain": [
       "4108.0    48\n",
       "Name: Ending Station ID, dtype: int64"
      ]
     },
     "execution_count": 143,
     "metadata": {},
     "output_type": "execute_result"
    }
   ],
   "source": [
    "df.loc[df['Ending Station Longitude']==0]['Ending Station ID'].value_counts()"
   ]
  },
  {
   "cell_type": "markdown",
   "metadata": {},
   "source": [
    "All of the zeros were recorded at Bike Station 4108, there may be some kind of error related to this particular Bike Station. The values of this bike station's latitude and Longitude can be found in any of the complete values and imputed over the zeros"
   ]
  },
  {
   "cell_type": "code",
   "execution_count": 144,
   "metadata": {},
   "outputs": [],
   "source": [
    "stat_4108_lat= df.loc[df['Starting Station ID']==4108]['Starting Station Latitude'].max() #use max to avoid the zeros\n",
    "stat_4108_long= df.loc[df['Starting Station ID']==4108]['Starting Station Longitude'].min()\n",
    " #all non-zeroes are the same anyway no need to find and replace\n",
    "df['Starting Station Latitude'].replace(0,stat_4108_lat,inplace=True)\n",
    "df['Ending Station Latitude'].replace(0,stat_4108_lat,inplace=True)\n",
    "df['Starting Station Longitude'].replace(0,stat_4108_long,inplace=True)\n",
    "df['Ending Station Longitude'].replace(0,stat_4108_long,inplace=True)"
   ]
  },
  {
   "cell_type": "code",
   "execution_count": 145,
   "metadata": {},
   "outputs": [
    {
     "data": {
      "text/html": [
       "<div>\n",
       "<style scoped>\n",
       "    .dataframe tbody tr th:only-of-type {\n",
       "        vertical-align: middle;\n",
       "    }\n",
       "\n",
       "    .dataframe tbody tr th {\n",
       "        vertical-align: top;\n",
       "    }\n",
       "\n",
       "    .dataframe thead th {\n",
       "        text-align: right;\n",
       "    }\n",
       "</style>\n",
       "<table border=\"1\" class=\"dataframe\">\n",
       "  <thead>\n",
       "    <tr style=\"text-align: right;\">\n",
       "      <th></th>\n",
       "      <th>Duration</th>\n",
       "      <th>Starting Station ID</th>\n",
       "      <th>Starting Station Latitude</th>\n",
       "      <th>Starting Station Longitude</th>\n",
       "      <th>Ending Station ID</th>\n",
       "      <th>Ending Station Latitude</th>\n",
       "      <th>Ending Station Longitude</th>\n",
       "      <th>Bike ID</th>\n",
       "    </tr>\n",
       "  </thead>\n",
       "  <tbody>\n",
       "    <tr>\n",
       "      <th>count</th>\n",
       "      <td>130715.000000</td>\n",
       "      <td>130715.000000</td>\n",
       "      <td>130715.000000</td>\n",
       "      <td>130715.000000</td>\n",
       "      <td>130715.000000</td>\n",
       "      <td>130715.000000</td>\n",
       "      <td>130715.000000</td>\n",
       "      <td>130715.000000</td>\n",
       "    </tr>\n",
       "    <tr>\n",
       "      <th>mean</th>\n",
       "      <td>22.587155</td>\n",
       "      <td>3042.568756</td>\n",
       "      <td>34.047546</td>\n",
       "      <td>-118.250122</td>\n",
       "      <td>3041.993597</td>\n",
       "      <td>34.047060</td>\n",
       "      <td>-118.249839</td>\n",
       "      <td>6193.698114</td>\n",
       "    </tr>\n",
       "    <tr>\n",
       "      <th>std</th>\n",
       "      <td>77.840790</td>\n",
       "      <td>30.970158</td>\n",
       "      <td>0.006358</td>\n",
       "      <td>0.011475</td>\n",
       "      <td>33.546514</td>\n",
       "      <td>0.006277</td>\n",
       "      <td>0.011983</td>\n",
       "      <td>293.303470</td>\n",
       "    </tr>\n",
       "    <tr>\n",
       "      <th>min</th>\n",
       "      <td>1.000000</td>\n",
       "      <td>3005.000000</td>\n",
       "      <td>33.987381</td>\n",
       "      <td>-118.472832</td>\n",
       "      <td>3005.000000</td>\n",
       "      <td>33.987381</td>\n",
       "      <td>-118.472832</td>\n",
       "      <td>4727.000000</td>\n",
       "    </tr>\n",
       "    <tr>\n",
       "      <th>25%</th>\n",
       "      <td>6.000000</td>\n",
       "      <td>3024.000000</td>\n",
       "      <td>34.044170</td>\n",
       "      <td>-118.256980</td>\n",
       "      <td>3023.000000</td>\n",
       "      <td>34.044159</td>\n",
       "      <td>-118.256981</td>\n",
       "      <td>5953.000000</td>\n",
       "    </tr>\n",
       "    <tr>\n",
       "      <th>50%</th>\n",
       "      <td>10.000000</td>\n",
       "      <td>3039.000000</td>\n",
       "      <td>34.046822</td>\n",
       "      <td>-118.250954</td>\n",
       "      <td>3038.000000</td>\n",
       "      <td>34.046810</td>\n",
       "      <td>-118.250954</td>\n",
       "      <td>6186.000000</td>\n",
       "    </tr>\n",
       "    <tr>\n",
       "      <th>75%</th>\n",
       "      <td>18.000000</td>\n",
       "      <td>3063.000000</td>\n",
       "      <td>34.050880</td>\n",
       "      <td>-118.241562</td>\n",
       "      <td>3063.000000</td>\n",
       "      <td>34.050480</td>\n",
       "      <td>-118.238810</td>\n",
       "      <td>6434.000000</td>\n",
       "    </tr>\n",
       "    <tr>\n",
       "      <th>max</th>\n",
       "      <td>1440.000000</td>\n",
       "      <td>4108.000000</td>\n",
       "      <td>34.064281</td>\n",
       "      <td>-118.231277</td>\n",
       "      <td>4108.000000</td>\n",
       "      <td>34.064281</td>\n",
       "      <td>-118.231277</td>\n",
       "      <td>6728.000000</td>\n",
       "    </tr>\n",
       "  </tbody>\n",
       "</table>\n",
       "</div>"
      ],
      "text/plain": [
       "            Duration  Starting Station ID  Starting Station Latitude  \\\n",
       "count  130715.000000        130715.000000              130715.000000   \n",
       "mean       22.587155          3042.568756                  34.047546   \n",
       "std        77.840790            30.970158                   0.006358   \n",
       "min         1.000000          3005.000000                  33.987381   \n",
       "25%         6.000000          3024.000000                  34.044170   \n",
       "50%        10.000000          3039.000000                  34.046822   \n",
       "75%        18.000000          3063.000000                  34.050880   \n",
       "max      1440.000000          4108.000000                  34.064281   \n",
       "\n",
       "       Starting Station Longitude  Ending Station ID  Ending Station Latitude  \\\n",
       "count               130715.000000      130715.000000            130715.000000   \n",
       "mean                  -118.250122        3041.993597                34.047060   \n",
       "std                      0.011475          33.546514                 0.006277   \n",
       "min                   -118.472832        3005.000000                33.987381   \n",
       "25%                   -118.256980        3023.000000                34.044159   \n",
       "50%                   -118.250954        3038.000000                34.046810   \n",
       "75%                   -118.241562        3063.000000                34.050480   \n",
       "max                   -118.231277        4108.000000                34.064281   \n",
       "\n",
       "       Ending Station Longitude        Bike ID  \n",
       "count             130715.000000  130715.000000  \n",
       "mean                -118.249839    6193.698114  \n",
       "std                    0.011983     293.303470  \n",
       "min                 -118.472832    4727.000000  \n",
       "25%                 -118.256981    5953.000000  \n",
       "50%                 -118.250954    6186.000000  \n",
       "75%                 -118.238810    6434.000000  \n",
       "max                 -118.231277    6728.000000  "
      ]
     },
     "execution_count": 145,
     "metadata": {},
     "output_type": "execute_result"
    }
   ],
   "source": [
    "df.describe()"
   ]
  },
  {
   "cell_type": "markdown",
   "metadata": {},
   "source": [
    "### Geographic Investigation & Visualisation"
   ]
  },
  {
   "cell_type": "code",
   "execution_count": 146,
   "metadata": {
    "scrolled": false
   },
   "outputs": [
    {
     "data": {
      "image/png": "[encoded data removed]",
      "text/plain": [
       "<Figure size 1008x360 with 2 Axes>"
      ]
     },
     "metadata": {
      "needs_background": "light"
     },
     "output_type": "display_data"
    }
   ],
   "source": [
    "plt.figure(figsize=(14,5))\n",
    "plt.subplot(1,2,1)\n",
    "plt.scatter(df['Starting Station Latitude'],df['Starting Station Longitude'],alpha=0.3)\n",
    "plt.subplot(1,2,2)\n",
    "plt.scatter(df['Ending Station Latitude'],df['Ending Station Longitude'],alpha=0.3)\n",
    "plt.show()"
   ]
  },
  {
   "cell_type": "markdown",
   "metadata": {},
   "source": [
    "Matching plots indicate there are no start points that had no drop off and vice-versa this would seem logical"
   ]
  },
  {
   "cell_type": "code",
   "execution_count": 147,
   "metadata": {},
   "outputs": [
    {
     "data": {
      "text/plain": [
       "True"
      ]
     },
     "execution_count": 147,
     "metadata": {},
     "output_type": "execute_result"
    }
   ],
   "source": [
    "sorted(df['Starting Station ID'].unique())==sorted(df['Ending Station ID'].unique())"
   ]
  },
  {
   "cell_type": "markdown",
   "metadata": {},
   "source": [
    "This confirms that the Starting and Ending Stations sets are identical as expected"
   ]
  },
  {
   "cell_type": "markdown",
   "metadata": {},
   "source": [
    "Now would a great time for a map!"
   ]
  },
  {
   "cell_type": "code",
   "execution_count": 148,
   "metadata": {},
   "outputs": [
    {
     "data": {
      "text/html": [
       "<div style=\"width:100%;\"><div style=\"position:relative;width:100%;height:0;padding-bottom:60%;\"><iframe src=\"data:text/html;charset=utf-8;base64,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\" style=\"position:absolute;width:100%;height:100%;left:0;top:0;border:none !important;\" allowfullscreen webkitallowfullscreen mozallowfullscreen></iframe></div></div>"
      ],
      "text/plain": [
       "<folium.folium.Map at 0x2f1d0710>"
      ]
     },
     "execution_count": 148,
     "metadata": {},
     "output_type": "execute_result"
    }
   ],
   "source": [
    "import folium\n",
    "bike_map1=folium.Map([df['Starting Station Latitude'].values[0],df['Starting Station Longitude'].values[0]])\n",
    "for station in df['Starting Station ID'].unique():\n",
    "    lat=df.loc[df['Starting Station ID']==station]['Starting Station Latitude'].values[0]\n",
    "    lon=df.loc[df['Starting Station ID']==station]['Starting Station Longitude'].values[0]\n",
    "    marker=folium.Marker([lat,lon],popup=str(station))\n",
    "    marker.add_to(bike_map1)\n",
    "\n",
    "bike_map1"
   ]
  },
  {
   "cell_type": "markdown",
   "metadata": {},
   "source": [
    "Almost all the Bike Stations are located in Downtown LA with the exception of 2; 1 in Culver City(id = 3039), and 1 in Venice (id = 3009)"
   ]
  },
  {
   "cell_type": "markdown",
   "metadata": {},
   "source": [
    "Lets look closer at the traffic to and from these 2 outlying bike stations, are they outliers?"
   ]
  },
  {
   "cell_type": "code",
   "execution_count": 149,
   "metadata": {
    "scrolled": true
   },
   "outputs": [
    {
     "data": {
      "text/plain": [
       "3039.0    77\n",
       "3009.0    35\n",
       "Name: Ending Station ID, dtype: int64"
      ]
     },
     "execution_count": 149,
     "metadata": {},
     "output_type": "execute_result"
    }
   ],
   "source": [
    "df.loc[df['Starting Station ID']==3039]['Ending Station ID'].value_counts()"
   ]
  },
  {
   "cell_type": "code",
   "execution_count": 150,
   "metadata": {},
   "outputs": [
    {
     "data": {
      "text/plain": [
       "3039.0    77\n",
       "3009.0    26\n",
       "3064.0     6\n",
       "3005.0     2\n",
       "3052.0     1\n",
       "Name: Starting Station ID, dtype: int64"
      ]
     },
     "execution_count": 150,
     "metadata": {},
     "output_type": "execute_result"
    }
   ],
   "source": [
    "df.loc[df['Ending Station ID']==3039]['Starting Station ID'].value_counts()"
   ]
  },
  {
   "cell_type": "code",
   "execution_count": 151,
   "metadata": {},
   "outputs": [
    {
     "data": {
      "text/plain": [
       "3039.0    26\n",
       "3009.0    25\n",
       "Name: Ending Station ID, dtype: int64"
      ]
     },
     "execution_count": 151,
     "metadata": {},
     "output_type": "execute_result"
    }
   ],
   "source": [
    "df.loc[df['Starting Station ID']==3009]['Ending Station ID'].value_counts()"
   ]
  },
  {
   "cell_type": "code",
   "execution_count": 152,
   "metadata": {},
   "outputs": [
    {
     "data": {
      "text/plain": [
       "3039.0    35\n",
       "3009.0    25\n",
       "3011.0     1\n",
       "3027.0     1\n",
       "3005.0     1\n",
       "3042.0     1\n",
       "Name: Starting Station ID, dtype: int64"
      ]
     },
     "execution_count": 152,
     "metadata": {},
     "output_type": "execute_result"
    }
   ],
   "source": [
    "df.loc[df['Ending Station ID']==3009]['Starting Station ID'].value_counts()"
   ]
  },
  {
   "cell_type": "markdown",
   "metadata": {},
   "source": [
    "Almost all of the trips made to and from these bike stations are either round trips to the same place or from one of the two to the other. These two stations are almost completely disconnected from the Downtown LA network.\n",
    "\n",
    "They also only account for a very tiny fraction of the rides total; from over 130k rides just 163 are to or from these two stations, I wonder why that is?"
   ]
  },
  {
   "cell_type": "code",
   "execution_count": 153,
   "metadata": {},
   "outputs": [
    {
     "name": "stdout",
     "output_type": "stream",
     "text": [
      "The first trip made FROM bike Station 3039 (Culver City) was on :  2017-03-26 07:30:00\n",
      "The last trip made FROM bike Station 3039 (Culver City) was on :  2017-03-26 15:06:00\n",
      "The first trip made FROM bike Station 3009 (Venice) was on :  2017-03-26 08:30:00\n",
      "The last trip made FROM bike Station 309 (Venice) was on :  2017-03-26 15:31:00\n",
      "The first trip made TO bike Station 3039 (Culver City) was on :  2017-03-26 07:30:00\n",
      "The last trip made TO bike Station 3039 (Culver City) was on :  2017-03-26 15:31:00\n",
      "The first trip made TO bike Station 3009 (Venice) was on :  2017-03-26 07:45:00\n",
      "The last trip made TO bike Station 309 (Venice) was on :  2017-03-26 14:11:00\n"
     ]
    }
   ],
   "source": [
    "print('The first trip made FROM bike Station 3039 (Culver City) was on : ',df.loc[df['Starting Station ID']==3039]['Start Time'].min())\n",
    "print('The last trip made FROM bike Station 3039 (Culver City) was on : ',df.loc[df['Starting Station ID']==3039]['Start Time'].max())\n",
    "print('The first trip made FROM bike Station 3009 (Venice) was on : ',df.loc[df['Starting Station ID']==3009]['Start Time'].min())\n",
    "print('The last trip made FROM bike Station 309 (Venice) was on : ',df.loc[df['Starting Station ID']==3009]['Start Time'].max())\n",
    "\n",
    "print('The first trip made TO bike Station 3039 (Culver City) was on : ',df.loc[df['Ending Station ID']==3039]['Start Time'].min())\n",
    "print('The last trip made TO bike Station 3039 (Culver City) was on : ',df.loc[df['Ending Station ID']==3039]['Start Time'].max())\n",
    "print('The first trip made TO bike Station 3009 (Venice) was on : ',df.loc[df['Ending Station ID']==3009]['Start Time'].min())\n",
    "print('The last trip made TO bike Station 309 (Venice) was on : ',df.loc[df['Ending Station ID']==3009]['Start Time'].max())"
   ]
  },
  {
   "cell_type": "markdown",
   "metadata": {},
   "source": [
    "All these the trips to and from Culver City and Venice are on the same day; 2017-03-26 which is the last weekend day of the dataset. What may be the case is that this station was only operational beginning that day (or that weekend) used by on the sunday by people going to and from the beach but these were not used during the week."
   ]
  },
  {
   "cell_type": "markdown",
   "metadata": {},
   "source": [
    "Lets explore some of the distinctive characteristics of these other Bike Stations further:"
   ]
  },
  {
   "cell_type": "code",
   "execution_count": 154,
   "metadata": {},
   "outputs": [
    {
     "data": {
      "text/plain": [
       "3020.0    522\n",
       "3010.0    420\n",
       "3060.0    379\n",
       "3057.0    371\n",
       "3080.0    189\n",
       "3045.0    185\n",
       "3039.0    112\n",
       "4108.0     53\n",
       "3009.0     51\n",
       "3053.0     15\n",
       "Name: Starting Station ID, dtype: int64"
      ]
     },
     "execution_count": 154,
     "metadata": {},
     "output_type": "execute_result"
    }
   ],
   "source": [
    "df['Starting Station ID'].value_counts().tail(10)"
   ]
  },
  {
   "cell_type": "code",
   "execution_count": 155,
   "metadata": {},
   "outputs": [
    {
     "data": {
      "text/plain": [
       "3028.0    516\n",
       "3010.0    406\n",
       "3057.0    398\n",
       "3060.0    390\n",
       "3045.0    319\n",
       "3080.0    173\n",
       "3039.0    112\n",
       "4108.0     70\n",
       "3009.0     64\n",
       "3053.0     12\n",
       "Name: Ending Station ID, dtype: int64"
      ]
     },
     "execution_count": 155,
     "metadata": {},
     "output_type": "execute_result"
    }
   ],
   "source": [
    "df['Ending Station ID'].value_counts().tail(10)"
   ]
  },
  {
   "cell_type": "markdown",
   "metadata": {},
   "source": [
    "Bike Station 4108, which was our station with the possible logging errors, also has relatively few trips to and from it, from the map it is a little separated from the rest of the downtown set"
   ]
  },
  {
   "cell_type": "code",
   "execution_count": 156,
   "metadata": {},
   "outputs": [
    {
     "data": {
      "text/plain": [
       "Round Trip    0.735849\n",
       "One Way       0.264151\n",
       "Name: Trip Route Category, dtype: float64"
      ]
     },
     "execution_count": 156,
     "metadata": {},
     "output_type": "execute_result"
    }
   ],
   "source": [
    "df.loc[df['Starting Station ID']==4108]['Trip Route Category'].value_counts(normalize=True)"
   ]
  },
  {
   "cell_type": "code",
   "execution_count": 157,
   "metadata": {},
   "outputs": [
    {
     "data": {
      "text/plain": [
       "Round Trip    0.557143\n",
       "One Way       0.442857\n",
       "Name: Trip Route Category, dtype: float64"
      ]
     },
     "execution_count": 157,
     "metadata": {},
     "output_type": "execute_result"
    }
   ],
   "source": [
    "df.loc[df['Ending Station ID']==4108]['Trip Route Category'].value_counts(normalize=True)"
   ]
  },
  {
   "cell_type": "markdown",
   "metadata": {},
   "source": [
    "Bike Station ID 4108 is dominantly Round-Trip traffic, this is very unusual for this dataset! "
   ]
  },
  {
   "cell_type": "markdown",
   "metadata": {},
   "source": [
    "Bike Station 3053 has the least number of rides to and from it but it appears to be right in the mix of things"
   ]
  },
  {
   "cell_type": "code",
   "execution_count": 158,
   "metadata": {
    "scrolled": true
   },
   "outputs": [
    {
     "data": {
      "text/plain": [
       "Trip ID\n",
       "2137435   2016-07-09 12:42:00\n",
       "2057407   2016-07-08 17:46:00\n",
       "2419835   2016-07-11 07:50:00\n",
       "2057407   2016-07-08 17:46:00\n",
       "2419835   2016-07-11 07:50:00\n",
       "2116360   2016-07-09 07:12:00\n",
       "2321036   2016-07-10 17:42:00\n",
       "2419838   2016-07-11 07:32:00\n",
       "2335086   2016-07-10 15:41:00\n",
       "2019541   2016-07-08 08:39:00\n",
       "2176181   2016-07-09 19:11:00\n",
       "2314140   2016-07-10 15:18:00\n",
       "2062197   2016-07-08 18:22:00\n",
       "2169928   2016-07-09 18:40:00\n",
       "2137436   2016-07-09 12:42:00\n",
       "Name: Start Time, dtype: datetime64[ns]"
      ]
     },
     "execution_count": 158,
     "metadata": {},
     "output_type": "execute_result"
    }
   ],
   "source": [
    "df.loc[df['Starting Station ID']==3053]['Start Time']"
   ]
  },
  {
   "cell_type": "code",
   "execution_count": 159,
   "metadata": {},
   "outputs": [
    {
     "data": {
      "text/plain": [
       "Trip ID\n",
       "2067007   2016-07-08 19:03:00\n",
       "2152686   2016-07-09 15:49:00\n",
       "2066991   2016-07-08 19:33:00\n",
       "2158281   2016-07-09 16:35:00\n",
       "2188763   2016-07-09 21:37:00\n",
       "2426970   2016-07-11 08:05:00\n",
       "2158278   2016-07-09 16:36:00\n",
       "2280145   2016-07-10 10:58:00\n",
       "2170049   2016-07-09 17:50:00\n",
       "2116315   2016-07-09 07:36:00\n",
       "1947931   2016-07-07 13:51:00\n",
       "2188775   2016-07-09 20:55:00\n",
       "Name: Start Time, dtype: datetime64[ns]"
      ]
     },
     "execution_count": 159,
     "metadata": {},
     "output_type": "execute_result"
    }
   ],
   "source": [
    "df.loc[df['Ending Station ID']==3053]['Start Time']"
   ]
  },
  {
   "cell_type": "code",
   "execution_count": 160,
   "metadata": {},
   "outputs": [
    {
     "name": "stdout",
     "output_type": "stream",
     "text": [
      "The first trip made FROM bike Station 3053 was on :  2016-07-08 08:39:00\n",
      "The last trip made FROM bike Station 3053 was on :  2016-07-11 07:50:00\n",
      "The first trip made TO bike Station 3053 was on :  2016-07-07 13:51:00\n",
      "The last trip made TO bike Station 30053 was on :  2016-07-11 08:05:00\n"
     ]
    }
   ],
   "source": [
    "print('The first trip made FROM bike Station 3053 was on : ',df.loc[df['Starting Station ID']==3053]['Start Time'].min())\n",
    "print('The last trip made FROM bike Station 3053 was on : ',df.loc[df['Starting Station ID']==3053]['Start Time'].max())\n",
    "print('The first trip made TO bike Station 3053 was on : ',df.loc[df['Ending Station ID']==3053]['Start Time'].min())\n",
    "print('The last trip made TO bike Station 30053 was on : ',df.loc[df['Ending Station ID']==3053]['Start Time'].max())"
   ]
  },
  {
   "cell_type": "markdown",
   "metadata": {},
   "source": [
    "All trips made over just 5 days from the 7th of July 2016 (the first day of the dataset) to the 11th of July 2016. Is it possible this Bike Station was decomissioned? "
   ]
  },
  {
   "cell_type": "code",
   "execution_count": null,
   "metadata": {},
   "outputs": [],
   "source": []
  },
  {
   "cell_type": "markdown",
   "metadata": {},
   "source": [
    "### Time Series Investigation & Visualisation"
   ]
  },
  {
   "cell_type": "code",
   "execution_count": null,
   "metadata": {},
   "outputs": [],
   "source": []
  },
  {
   "cell_type": "code",
   "execution_count": 161,
   "metadata": {},
   "outputs": [
    {
     "data": {
      "text/plain": [
       "Timestamp('2016-07-07 04:17:00')"
      ]
     },
     "execution_count": 161,
     "metadata": {},
     "output_type": "execute_result"
    }
   ],
   "source": [
    "df['Start Time'].min()"
   ]
  },
  {
   "cell_type": "code",
   "execution_count": 162,
   "metadata": {},
   "outputs": [
    {
     "data": {
      "text/plain": [
       "Timestamp('2017-03-31 23:45:00')"
      ]
     },
     "execution_count": 162,
     "metadata": {},
     "output_type": "execute_result"
    }
   ],
   "source": [
    "df['Start Time'].max()"
   ]
  },
  {
   "cell_type": "code",
   "execution_count": 163,
   "metadata": {
    "scrolled": false
   },
   "outputs": [
    {
     "data": {
      "text/plain": [
       "<matplotlib.axes._subplots.AxesSubplot at 0x2f0aeda0>"
      ]
     },
     "execution_count": 163,
     "metadata": {},
     "output_type": "execute_result"
    },
    {
     "data": {
      "image/png": "[encoded data removed]",
      "text/plain": [
       "<Figure size 1080x576 with 1 Axes>"
      ]
     },
     "metadata": {
      "needs_background": "light"
     },
     "output_type": "display_data"
    }
   ],
   "source": [
    "df['Start Time'].hist(figsize=(15,8))\n"
   ]
  },
  {
   "cell_type": "code",
   "execution_count": 164,
   "metadata": {},
   "outputs": [
    {
     "data": {
      "text/plain": [
       "August       24148\n",
       "September    19861\n",
       "October      17863\n",
       "November     14196\n",
       "March        13564\n",
       "July         11430\n",
       "December     10327\n",
       "January      10053\n",
       "February      9273\n",
       "Name: Start Month, dtype: int64"
      ]
     },
     "execution_count": 164,
     "metadata": {},
     "output_type": "execute_result"
    }
   ],
   "source": [
    "df['Start Month']=df['Start Time'].dt.month_name()\n",
    "\n",
    "df['Start Month'].value_counts()"
   ]
  },
  {
   "cell_type": "code",
   "execution_count": null,
   "metadata": {},
   "outputs": [],
   "source": []
  },
  {
   "cell_type": "code",
   "execution_count": 165,
   "metadata": {},
   "outputs": [
    {
     "data": {
      "text/plain": [
       "Thursday     20087\n",
       "Friday       19791\n",
       "Wednesday    19551\n",
       "Tuesday      18918\n",
       "Saturday     18279\n",
       "Monday       17045\n",
       "Sunday       17044\n",
       "Name: Start Day, dtype: int64"
      ]
     },
     "execution_count": 165,
     "metadata": {},
     "output_type": "execute_result"
    }
   ],
   "source": [
    "df['Start Day']=df['Start Time'].dt.day_name()\n",
    "df['Start Day'].value_counts()"
   ]
  },
  {
   "cell_type": "code",
   "execution_count": 166,
   "metadata": {},
   "outputs": [
    {
     "data": {
      "image/png": "[encoded data removed]",
      "text/plain": [
       "<Figure size 432x288 with 1 Axes>"
      ]
     },
     "metadata": {
      "needs_background": "light"
     },
     "output_type": "display_data"
    }
   ],
   "source": [
    "plt.bar(df['Start Day'].value_counts().index,df['Start Day'].value_counts().values)\n",
    "plt.xticks(rotation=45)\n",
    "plt.show()"
   ]
  },
  {
   "cell_type": "code",
   "execution_count": null,
   "metadata": {},
   "outputs": [],
   "source": []
  },
  {
   "cell_type": "code",
   "execution_count": null,
   "metadata": {},
   "outputs": [],
   "source": []
  },
  {
   "cell_type": "code",
   "execution_count": 167,
   "metadata": {},
   "outputs": [
    {
     "data": {
      "text/html": [
       "<div>\n",
       "<style scoped>\n",
       "    .dataframe tbody tr th:only-of-type {\n",
       "        vertical-align: middle;\n",
       "    }\n",
       "\n",
       "    .dataframe tbody tr th {\n",
       "        vertical-align: top;\n",
       "    }\n",
       "\n",
       "    .dataframe thead th {\n",
       "        text-align: right;\n",
       "    }\n",
       "</style>\n",
       "<table border=\"1\" class=\"dataframe\">\n",
       "  <thead>\n",
       "    <tr style=\"text-align: right;\">\n",
       "      <th></th>\n",
       "      <th>Duration</th>\n",
       "      <th>Start Time</th>\n",
       "      <th>End Time</th>\n",
       "      <th>Starting Station ID</th>\n",
       "      <th>Starting Station Latitude</th>\n",
       "      <th>Starting Station Longitude</th>\n",
       "      <th>Ending Station ID</th>\n",
       "      <th>Ending Station Latitude</th>\n",
       "      <th>Ending Station Longitude</th>\n",
       "      <th>Bike ID</th>\n",
       "      <th>Trip Route Category</th>\n",
       "      <th>Passholder Type</th>\n",
       "      <th>Start Month</th>\n",
       "      <th>Start Day</th>\n",
       "      <th>Time Only</th>\n",
       "    </tr>\n",
       "    <tr>\n",
       "      <th>Trip ID</th>\n",
       "      <th></th>\n",
       "      <th></th>\n",
       "      <th></th>\n",
       "      <th></th>\n",
       "      <th></th>\n",
       "      <th></th>\n",
       "      <th></th>\n",
       "      <th></th>\n",
       "      <th></th>\n",
       "      <th></th>\n",
       "      <th></th>\n",
       "      <th></th>\n",
       "      <th></th>\n",
       "      <th></th>\n",
       "      <th></th>\n",
       "    </tr>\n",
       "  </thead>\n",
       "  <tbody>\n",
       "    <tr>\n",
       "      <th>17848847</th>\n",
       "      <td>8.0</td>\n",
       "      <td>2017-01-13 21:32:00</td>\n",
       "      <td>2017-01-13 21:40:00</td>\n",
       "      <td>3082.0</td>\n",
       "      <td>34.046520</td>\n",
       "      <td>-118.237411</td>\n",
       "      <td>3036.0</td>\n",
       "      <td>34.039188</td>\n",
       "      <td>-118.232529</td>\n",
       "      <td>6474.0</td>\n",
       "      <td>One Way</td>\n",
       "      <td>Walk-up</td>\n",
       "      <td>January</td>\n",
       "      <td>Friday</td>\n",
       "      <td>22:00:00</td>\n",
       "    </tr>\n",
       "    <tr>\n",
       "      <th>20700706</th>\n",
       "      <td>9.0</td>\n",
       "      <td>2017-02-24 23:13:00</td>\n",
       "      <td>2017-02-24 23:22:00</td>\n",
       "      <td>3029.0</td>\n",
       "      <td>34.048851</td>\n",
       "      <td>-118.246422</td>\n",
       "      <td>3082.0</td>\n",
       "      <td>34.046520</td>\n",
       "      <td>-118.237411</td>\n",
       "      <td>5794.0</td>\n",
       "      <td>One Way</td>\n",
       "      <td>Monthly Pass</td>\n",
       "      <td>February</td>\n",
       "      <td>Friday</td>\n",
       "      <td>23:00:00</td>\n",
       "    </tr>\n",
       "    <tr>\n",
       "      <th>20595730</th>\n",
       "      <td>14.0</td>\n",
       "      <td>2017-02-23 07:34:00</td>\n",
       "      <td>2017-02-23 07:48:00</td>\n",
       "      <td>3022.0</td>\n",
       "      <td>34.046070</td>\n",
       "      <td>-118.233093</td>\n",
       "      <td>3005.0</td>\n",
       "      <td>34.048550</td>\n",
       "      <td>-118.259048</td>\n",
       "      <td>6604.0</td>\n",
       "      <td>One Way</td>\n",
       "      <td>Monthly Pass</td>\n",
       "      <td>February</td>\n",
       "      <td>Thursday</td>\n",
       "      <td>08:00:00</td>\n",
       "    </tr>\n",
       "    <tr>\n",
       "      <th>17307719</th>\n",
       "      <td>7.0</td>\n",
       "      <td>2017-01-05 12:04:00</td>\n",
       "      <td>2017-01-05 12:11:00</td>\n",
       "      <td>3059.0</td>\n",
       "      <td>34.037949</td>\n",
       "      <td>-118.256271</td>\n",
       "      <td>3038.0</td>\n",
       "      <td>34.046822</td>\n",
       "      <td>-118.248352</td>\n",
       "      <td>6035.0</td>\n",
       "      <td>One Way</td>\n",
       "      <td>Monthly Pass</td>\n",
       "      <td>January</td>\n",
       "      <td>Thursday</td>\n",
       "      <td>12:00:00</td>\n",
       "    </tr>\n",
       "    <tr>\n",
       "      <th>18941656</th>\n",
       "      <td>14.0</td>\n",
       "      <td>2017-01-30 20:19:00</td>\n",
       "      <td>2017-01-30 20:33:00</td>\n",
       "      <td>3035.0</td>\n",
       "      <td>34.048401</td>\n",
       "      <td>-118.260948</td>\n",
       "      <td>3040.0</td>\n",
       "      <td>34.053570</td>\n",
       "      <td>-118.266357</td>\n",
       "      <td>6728.0</td>\n",
       "      <td>One Way</td>\n",
       "      <td>Walk-up</td>\n",
       "      <td>January</td>\n",
       "      <td>Monday</td>\n",
       "      <td>20:00:00</td>\n",
       "    </tr>\n",
       "  </tbody>\n",
       "</table>\n",
       "</div>"
      ],
      "text/plain": [
       "          Duration          Start Time            End Time  \\\n",
       "Trip ID                                                      \n",
       "17848847       8.0 2017-01-13 21:32:00 2017-01-13 21:40:00   \n",
       "20700706       9.0 2017-02-24 23:13:00 2017-02-24 23:22:00   \n",
       "20595730      14.0 2017-02-23 07:34:00 2017-02-23 07:48:00   \n",
       "17307719       7.0 2017-01-05 12:04:00 2017-01-05 12:11:00   \n",
       "18941656      14.0 2017-01-30 20:19:00 2017-01-30 20:33:00   \n",
       "\n",
       "          Starting Station ID  Starting Station Latitude  \\\n",
       "Trip ID                                                    \n",
       "17848847               3082.0                  34.046520   \n",
       "20700706               3029.0                  34.048851   \n",
       "20595730               3022.0                  34.046070   \n",
       "17307719               3059.0                  34.037949   \n",
       "18941656               3035.0                  34.048401   \n",
       "\n",
       "          Starting Station Longitude  Ending Station ID  \\\n",
       "Trip ID                                                   \n",
       "17848847                 -118.237411             3036.0   \n",
       "20700706                 -118.246422             3082.0   \n",
       "20595730                 -118.233093             3005.0   \n",
       "17307719                 -118.256271             3038.0   \n",
       "18941656                 -118.260948             3040.0   \n",
       "\n",
       "          Ending Station Latitude  Ending Station Longitude  Bike ID  \\\n",
       "Trip ID                                                                \n",
       "17848847                34.039188               -118.232529   6474.0   \n",
       "20700706                34.046520               -118.237411   5794.0   \n",
       "20595730                34.048550               -118.259048   6604.0   \n",
       "17307719                34.046822               -118.248352   6035.0   \n",
       "18941656                34.053570               -118.266357   6728.0   \n",
       "\n",
       "         Trip Route Category Passholder Type Start Month Start Day Time Only  \n",
       "Trip ID                                                                       \n",
       "17848847             One Way         Walk-up     January    Friday  22:00:00  \n",
       "20700706             One Way    Monthly Pass    February    Friday  23:00:00  \n",
       "20595730             One Way    Monthly Pass    February  Thursday  08:00:00  \n",
       "17307719             One Way    Monthly Pass     January  Thursday  12:00:00  \n",
       "18941656             One Way         Walk-up     January    Monday  20:00:00  "
      ]
     },
     "execution_count": 167,
     "metadata": {},
     "output_type": "execute_result"
    }
   ],
   "source": [
    "df['Time Only']= df['Start Time'].dt.round('H')\n",
    "df['Time Only']=pd.to_datetime(df['Time Only'],format= '%H:%M:%S' ).dt.time\n",
    "df.head()"
   ]
  },
  {
   "cell_type": "code",
   "execution_count": 168,
   "metadata": {},
   "outputs": [
    {
     "data": {
      "image/png": "[encoded data removed]",
      "text/plain": [
       "<Figure size 648x288 with 1 Axes>"
      ]
     },
     "metadata": {
      "needs_background": "light"
     },
     "output_type": "display_data"
    }
   ],
   "source": [
    "plt.figure(figsize=(9,4))\n",
    "plt.scatter(df['Time Only'].value_counts().index,df['Time Only'].value_counts().values)\n",
    "#on peak between the bars\n",
    "plt.vlines(x='7:30:00',ymin=0,ymax=12000,color='red')\n",
    "plt.vlines(x='20:30:00',ymin=0,ymax=12000,color='red')\n",
    "plt.show()"
   ]
  },
  {
   "cell_type": "code",
   "execution_count": null,
   "metadata": {},
   "outputs": [],
   "source": []
  },
  {
   "cell_type": "code",
   "execution_count": 169,
   "metadata": {},
   "outputs": [
    {
     "data": {
      "image/png": "[encoded data removed]",
      "text/plain": [
       "<Figure size 1008x576 with 7 Axes>"
      ]
     },
     "metadata": {
      "needs_background": "light"
     },
     "output_type": "display_data"
    }
   ],
   "source": [
    "plt.figure(figsize=(14,8))\n",
    "days=['Monday','Tuesday','Wednesday','Thursday','Friday']\n",
    "for i in range(len(days)):\n",
    "    plt.subplot(2,4,i+1)\n",
    "    plt.scatter(df.loc[df['Start Day'] == days[i]]['Time Only'].value_counts().index,df.loc[df['Start Day'] == days[i]]['Time Only'].value_counts().values)\n",
    "    plt.title(days[i])\n",
    "    plt.vlines(x='7:30:00',ymin=0,ymax=1800,color='red')\n",
    "    plt.vlines(x='20:30:00',ymin=0,ymax=1800,color='red')\n",
    "    \n",
    "#Offset peak start by 2 hours for the weekend\n",
    "plt.subplot(2,4,6)\n",
    "plt.scatter(df.loc[df['Start Day'] == 'Saturday']['Time Only'].value_counts().index,df.loc[df['Start Day'] == 'Saturday']['Time Only'].value_counts().values)\n",
    "plt.title('Saturday')\n",
    "plt.vlines(x='9:30:00',ymin=0,ymax=1800,color='red')\n",
    "plt.vlines(x='20:30:00',ymin=0,ymax=1800,color='red')\n",
    "\n",
    "plt.subplot(2,4,7)\n",
    "plt.scatter(df.loc[df['Start Day'] == 'Sunday']['Time Only'].value_counts().index,df.loc[df['Start Day'] == 'Sunday']['Time Only'].value_counts().values)\n",
    "plt.title('Sunday')\n",
    "plt.vlines(x='9:30:00',ymin=0,ymax=1800,color='red')\n",
    "plt.vlines(x='20:30:00',ymin=0,ymax=1800,color='red')\n",
    "\n",
    "plt.tight_layout()"
   ]
  },
  {
   "cell_type": "markdown",
   "metadata": {},
   "source": [
    "People like to sleep in on the weekends, move the start of peak bar up 2 hours on saturday and sunday"
   ]
  },
  {
   "cell_type": "code",
   "execution_count": 170,
   "metadata": {},
   "outputs": [],
   "source": [
    "def to_hour_int(x):\n",
    "    #convert hh:mm:ss to hh integar\n",
    "    x=str(x)\n",
    "    x=x[:2]\n",
    "    x=int(x)\n",
    "    return x"
   ]
  },
  {
   "cell_type": "code",
   "execution_count": 171,
   "metadata": {},
   "outputs": [],
   "source": [
    "df['Time Only Int']=df['Time Only']\n",
    "df['Time Only Int']=df['Time Only Int'].astype('str')\n",
    "df['Time Only Int']=df['Time Only Int'].apply(lambda x: to_hour_int(x))"
   ]
  },
  {
   "cell_type": "code",
   "execution_count": 172,
   "metadata": {
    "scrolled": true
   },
   "outputs": [
    {
     "data": {
      "text/plain": [
       "count    130715.000000\n",
       "mean          0.811850\n",
       "std           0.390833\n",
       "min           0.000000\n",
       "25%           1.000000\n",
       "50%           1.000000\n",
       "75%           1.000000\n",
       "max           1.000000\n",
       "Name: Peak, dtype: float64"
      ]
     },
     "execution_count": 172,
     "metadata": {},
     "output_type": "execute_result"
    }
   ],
   "source": [
    "df['Peak']=1\n",
    "df.loc[df['Time Only Int']>20.5,'Peak']=0\n",
    "df.loc[df['Time Only Int']<7.5,'Peak']=0\n",
    "df.loc[(df['Start Day']=='Saturday')&(df['Time Only Int']<9.5),'Peak']=0\n",
    "df.loc[(df['Start Day']=='Sunday')&(df['Time Only Int']<9.5),'Peak']=0\n",
    "\n",
    "df['Peak'].describe()"
   ]
  },
  {
   "cell_type": "code",
   "execution_count": 173,
   "metadata": {},
   "outputs": [
    {
     "data": {
      "text/html": [
       "<div>\n",
       "<style scoped>\n",
       "    .dataframe tbody tr th:only-of-type {\n",
       "        vertical-align: middle;\n",
       "    }\n",
       "\n",
       "    .dataframe tbody tr th {\n",
       "        vertical-align: top;\n",
       "    }\n",
       "\n",
       "    .dataframe thead th {\n",
       "        text-align: right;\n",
       "    }\n",
       "</style>\n",
       "<table border=\"1\" class=\"dataframe\">\n",
       "  <thead>\n",
       "    <tr style=\"text-align: right;\">\n",
       "      <th></th>\n",
       "      <th>Duration</th>\n",
       "      <th>Start Time</th>\n",
       "      <th>End Time</th>\n",
       "      <th>Starting Station ID</th>\n",
       "      <th>Starting Station Latitude</th>\n",
       "      <th>Starting Station Longitude</th>\n",
       "      <th>Ending Station ID</th>\n",
       "      <th>Ending Station Latitude</th>\n",
       "      <th>Ending Station Longitude</th>\n",
       "      <th>Bike ID</th>\n",
       "      <th>Trip Route Category</th>\n",
       "      <th>Passholder Type</th>\n",
       "      <th>Start Month</th>\n",
       "      <th>Start Day</th>\n",
       "      <th>Time Only</th>\n",
       "      <th>Time Only Int</th>\n",
       "      <th>Peak</th>\n",
       "    </tr>\n",
       "    <tr>\n",
       "      <th>Trip ID</th>\n",
       "      <th></th>\n",
       "      <th></th>\n",
       "      <th></th>\n",
       "      <th></th>\n",
       "      <th></th>\n",
       "      <th></th>\n",
       "      <th></th>\n",
       "      <th></th>\n",
       "      <th></th>\n",
       "      <th></th>\n",
       "      <th></th>\n",
       "      <th></th>\n",
       "      <th></th>\n",
       "      <th></th>\n",
       "      <th></th>\n",
       "      <th></th>\n",
       "      <th></th>\n",
       "    </tr>\n",
       "  </thead>\n",
       "  <tbody>\n",
       "    <tr>\n",
       "      <th>17848847</th>\n",
       "      <td>8.0</td>\n",
       "      <td>2017-01-13 21:32:00</td>\n",
       "      <td>2017-01-13 21:40:00</td>\n",
       "      <td>3082.0</td>\n",
       "      <td>34.046520</td>\n",
       "      <td>-118.237411</td>\n",
       "      <td>3036.0</td>\n",
       "      <td>34.039188</td>\n",
       "      <td>-118.232529</td>\n",
       "      <td>6474.0</td>\n",
       "      <td>One Way</td>\n",
       "      <td>Walk-up</td>\n",
       "      <td>January</td>\n",
       "      <td>Friday</td>\n",
       "      <td>22:00:00</td>\n",
       "      <td>22</td>\n",
       "      <td>0</td>\n",
       "    </tr>\n",
       "    <tr>\n",
       "      <th>20700706</th>\n",
       "      <td>9.0</td>\n",
       "      <td>2017-02-24 23:13:00</td>\n",
       "      <td>2017-02-24 23:22:00</td>\n",
       "      <td>3029.0</td>\n",
       "      <td>34.048851</td>\n",
       "      <td>-118.246422</td>\n",
       "      <td>3082.0</td>\n",
       "      <td>34.046520</td>\n",
       "      <td>-118.237411</td>\n",
       "      <td>5794.0</td>\n",
       "      <td>One Way</td>\n",
       "      <td>Monthly Pass</td>\n",
       "      <td>February</td>\n",
       "      <td>Friday</td>\n",
       "      <td>23:00:00</td>\n",
       "      <td>23</td>\n",
       "      <td>0</td>\n",
       "    </tr>\n",
       "    <tr>\n",
       "      <th>20595730</th>\n",
       "      <td>14.0</td>\n",
       "      <td>2017-02-23 07:34:00</td>\n",
       "      <td>2017-02-23 07:48:00</td>\n",
       "      <td>3022.0</td>\n",
       "      <td>34.046070</td>\n",
       "      <td>-118.233093</td>\n",
       "      <td>3005.0</td>\n",
       "      <td>34.048550</td>\n",
       "      <td>-118.259048</td>\n",
       "      <td>6604.0</td>\n",
       "      <td>One Way</td>\n",
       "      <td>Monthly Pass</td>\n",
       "      <td>February</td>\n",
       "      <td>Thursday</td>\n",
       "      <td>08:00:00</td>\n",
       "      <td>8</td>\n",
       "      <td>1</td>\n",
       "    </tr>\n",
       "    <tr>\n",
       "      <th>17307719</th>\n",
       "      <td>7.0</td>\n",
       "      <td>2017-01-05 12:04:00</td>\n",
       "      <td>2017-01-05 12:11:00</td>\n",
       "      <td>3059.0</td>\n",
       "      <td>34.037949</td>\n",
       "      <td>-118.256271</td>\n",
       "      <td>3038.0</td>\n",
       "      <td>34.046822</td>\n",
       "      <td>-118.248352</td>\n",
       "      <td>6035.0</td>\n",
       "      <td>One Way</td>\n",
       "      <td>Monthly Pass</td>\n",
       "      <td>January</td>\n",
       "      <td>Thursday</td>\n",
       "      <td>12:00:00</td>\n",
       "      <td>12</td>\n",
       "      <td>1</td>\n",
       "    </tr>\n",
       "    <tr>\n",
       "      <th>18941656</th>\n",
       "      <td>14.0</td>\n",
       "      <td>2017-01-30 20:19:00</td>\n",
       "      <td>2017-01-30 20:33:00</td>\n",
       "      <td>3035.0</td>\n",
       "      <td>34.048401</td>\n",
       "      <td>-118.260948</td>\n",
       "      <td>3040.0</td>\n",
       "      <td>34.053570</td>\n",
       "      <td>-118.266357</td>\n",
       "      <td>6728.0</td>\n",
       "      <td>One Way</td>\n",
       "      <td>Walk-up</td>\n",
       "      <td>January</td>\n",
       "      <td>Monday</td>\n",
       "      <td>20:00:00</td>\n",
       "      <td>20</td>\n",
       "      <td>1</td>\n",
       "    </tr>\n",
       "  </tbody>\n",
       "</table>\n",
       "</div>"
      ],
      "text/plain": [
       "          Duration          Start Time            End Time  \\\n",
       "Trip ID                                                      \n",
       "17848847       8.0 2017-01-13 21:32:00 2017-01-13 21:40:00   \n",
       "20700706       9.0 2017-02-24 23:13:00 2017-02-24 23:22:00   \n",
       "20595730      14.0 2017-02-23 07:34:00 2017-02-23 07:48:00   \n",
       "17307719       7.0 2017-01-05 12:04:00 2017-01-05 12:11:00   \n",
       "18941656      14.0 2017-01-30 20:19:00 2017-01-30 20:33:00   \n",
       "\n",
       "          Starting Station ID  Starting Station Latitude  \\\n",
       "Trip ID                                                    \n",
       "17848847               3082.0                  34.046520   \n",
       "20700706               3029.0                  34.048851   \n",
       "20595730               3022.0                  34.046070   \n",
       "17307719               3059.0                  34.037949   \n",
       "18941656               3035.0                  34.048401   \n",
       "\n",
       "          Starting Station Longitude  Ending Station ID  \\\n",
       "Trip ID                                                   \n",
       "17848847                 -118.237411             3036.0   \n",
       "20700706                 -118.246422             3082.0   \n",
       "20595730                 -118.233093             3005.0   \n",
       "17307719                 -118.256271             3038.0   \n",
       "18941656                 -118.260948             3040.0   \n",
       "\n",
       "          Ending Station Latitude  Ending Station Longitude  Bike ID  \\\n",
       "Trip ID                                                                \n",
       "17848847                34.039188               -118.232529   6474.0   \n",
       "20700706                34.046520               -118.237411   5794.0   \n",
       "20595730                34.048550               -118.259048   6604.0   \n",
       "17307719                34.046822               -118.248352   6035.0   \n",
       "18941656                34.053570               -118.266357   6728.0   \n",
       "\n",
       "         Trip Route Category Passholder Type Start Month Start Day Time Only  \\\n",
       "Trip ID                                                                        \n",
       "17848847             One Way         Walk-up     January    Friday  22:00:00   \n",
       "20700706             One Way    Monthly Pass    February    Friday  23:00:00   \n",
       "20595730             One Way    Monthly Pass    February  Thursday  08:00:00   \n",
       "17307719             One Way    Monthly Pass     January  Thursday  12:00:00   \n",
       "18941656             One Way         Walk-up     January    Monday  20:00:00   \n",
       "\n",
       "          Time Only Int  Peak  \n",
       "Trip ID                        \n",
       "17848847             22     0  \n",
       "20700706             23     0  \n",
       "20595730              8     1  \n",
       "17307719             12     1  \n",
       "18941656             20     1  "
      ]
     },
     "execution_count": 173,
     "metadata": {},
     "output_type": "execute_result"
    }
   ],
   "source": [
    "df.head()"
   ]
  },
  {
   "cell_type": "code",
   "execution_count": 174,
   "metadata": {},
   "outputs": [
    {
     "name": "stdout",
     "output_type": "stream",
     "text": [
      "<class 'pandas.core.frame.DataFrame'>\n",
      "Int64Index: 130715 entries, 17848847 to 5250466\n",
      "Data columns (total 17 columns):\n",
      "Duration                      130715 non-null float64\n",
      "Start Time                    130715 non-null datetime64[ns]\n",
      "End Time                      130715 non-null datetime64[ns]\n",
      "Starting Station ID           130715 non-null float64\n",
      "Starting Station Latitude     130715 non-null float64\n",
      "Starting Station Longitude    130715 non-null float64\n",
      "Ending Station ID             130715 non-null float64\n",
      "Ending Station Latitude       130715 non-null float64\n",
      "Ending Station Longitude      130715 non-null float64\n",
      "Bike ID                       130715 non-null float64\n",
      "Trip Route Category           130715 non-null object\n",
      "Passholder Type               130715 non-null object\n",
      "Start Month                   130715 non-null object\n",
      "Start Day                     130715 non-null object\n",
      "Time Only                     130715 non-null object\n",
      "Time Only Int                 130715 non-null int64\n",
      "Peak                          130715 non-null int64\n",
      "dtypes: datetime64[ns](2), float64(8), int64(2), object(5)\n",
      "memory usage: 18.0+ MB\n"
     ]
    }
   ],
   "source": [
    "df.info()"
   ]
  },
  {
   "cell_type": "code",
   "execution_count": 175,
   "metadata": {},
   "outputs": [
    {
     "data": {
      "text/html": [
       "<div>\n",
       "<style scoped>\n",
       "    .dataframe tbody tr th:only-of-type {\n",
       "        vertical-align: middle;\n",
       "    }\n",
       "\n",
       "    .dataframe tbody tr th {\n",
       "        vertical-align: top;\n",
       "    }\n",
       "\n",
       "    .dataframe thead th {\n",
       "        text-align: right;\n",
       "    }\n",
       "</style>\n",
       "<table border=\"1\" class=\"dataframe\">\n",
       "  <thead>\n",
       "    <tr style=\"text-align: right;\">\n",
       "      <th></th>\n",
       "      <th>count</th>\n",
       "      <th>mean</th>\n",
       "      <th>std</th>\n",
       "      <th>min</th>\n",
       "      <th>25%</th>\n",
       "      <th>50%</th>\n",
       "      <th>75%</th>\n",
       "      <th>max</th>\n",
       "    </tr>\n",
       "    <tr>\n",
       "      <th>Trip Route Category</th>\n",
       "      <th></th>\n",
       "      <th></th>\n",
       "      <th></th>\n",
       "      <th></th>\n",
       "      <th></th>\n",
       "      <th></th>\n",
       "      <th></th>\n",
       "      <th></th>\n",
       "    </tr>\n",
       "  </thead>\n",
       "  <tbody>\n",
       "    <tr>\n",
       "      <th>One Way</th>\n",
       "      <td>118070.0</td>\n",
       "      <td>19.119870</td>\n",
       "      <td>69.338844</td>\n",
       "      <td>1.0</td>\n",
       "      <td>6.0</td>\n",
       "      <td>10.0</td>\n",
       "      <td>16.0</td>\n",
       "      <td>1440.0</td>\n",
       "    </tr>\n",
       "    <tr>\n",
       "      <th>Round Trip</th>\n",
       "      <td>12645.0</td>\n",
       "      <td>54.962198</td>\n",
       "      <td>128.778401</td>\n",
       "      <td>1.0</td>\n",
       "      <td>15.0</td>\n",
       "      <td>28.0</td>\n",
       "      <td>53.0</td>\n",
       "      <td>1440.0</td>\n",
       "    </tr>\n",
       "  </tbody>\n",
       "</table>\n",
       "</div>"
      ],
      "text/plain": [
       "                        count       mean         std  min   25%   50%   75%  \\\n",
       "Trip Route Category                                                           \n",
       "One Way              118070.0  19.119870   69.338844  1.0   6.0  10.0  16.0   \n",
       "Round Trip            12645.0  54.962198  128.778401  1.0  15.0  28.0  53.0   \n",
       "\n",
       "                        max  \n",
       "Trip Route Category          \n",
       "One Way              1440.0  \n",
       "Round Trip           1440.0  "
      ]
     },
     "execution_count": 175,
     "metadata": {},
     "output_type": "execute_result"
    }
   ],
   "source": [
    "df.groupby('Trip Route Category')['Duration'].describe()"
   ]
  },
  {
   "cell_type": "code",
   "execution_count": null,
   "metadata": {},
   "outputs": [],
   "source": []
  },
  {
   "cell_type": "code",
   "execution_count": null,
   "metadata": {},
   "outputs": [],
   "source": []
  },
  {
   "cell_type": "code",
   "execution_count": 176,
   "metadata": {},
   "outputs": [
    {
     "data": {
      "text/html": [
       "<div>\n",
       "<style scoped>\n",
       "    .dataframe tbody tr th:only-of-type {\n",
       "        vertical-align: middle;\n",
       "    }\n",
       "\n",
       "    .dataframe tbody tr th {\n",
       "        vertical-align: top;\n",
       "    }\n",
       "\n",
       "    .dataframe thead th {\n",
       "        text-align: right;\n",
       "    }\n",
       "</style>\n",
       "<table border=\"1\" class=\"dataframe\">\n",
       "  <thead>\n",
       "    <tr style=\"text-align: right;\">\n",
       "      <th></th>\n",
       "      <th>count</th>\n",
       "      <th>mean</th>\n",
       "      <th>std</th>\n",
       "      <th>min</th>\n",
       "      <th>25%</th>\n",
       "      <th>50%</th>\n",
       "      <th>75%</th>\n",
       "      <th>max</th>\n",
       "    </tr>\n",
       "    <tr>\n",
       "      <th>Passholder Type</th>\n",
       "      <th></th>\n",
       "      <th></th>\n",
       "      <th></th>\n",
       "      <th></th>\n",
       "      <th></th>\n",
       "      <th></th>\n",
       "      <th></th>\n",
       "      <th></th>\n",
       "    </tr>\n",
       "  </thead>\n",
       "  <tbody>\n",
       "    <tr>\n",
       "      <th>Flex Pass</th>\n",
       "      <td>9466.0</td>\n",
       "      <td>17.804775</td>\n",
       "      <td>63.565957</td>\n",
       "      <td>1.0</td>\n",
       "      <td>7.0</td>\n",
       "      <td>10.0</td>\n",
       "      <td>15.0</td>\n",
       "      <td>1440.0</td>\n",
       "    </tr>\n",
       "    <tr>\n",
       "      <th>Monthly Pass</th>\n",
       "      <td>80493.0</td>\n",
       "      <td>12.938119</td>\n",
       "      <td>41.715014</td>\n",
       "      <td>1.0</td>\n",
       "      <td>5.0</td>\n",
       "      <td>8.0</td>\n",
       "      <td>13.0</td>\n",
       "      <td>1440.0</td>\n",
       "    </tr>\n",
       "    <tr>\n",
       "      <th>Walk-up</th>\n",
       "      <td>40756.0</td>\n",
       "      <td>42.754735</td>\n",
       "      <td>120.260342</td>\n",
       "      <td>1.0</td>\n",
       "      <td>11.0</td>\n",
       "      <td>19.0</td>\n",
       "      <td>34.0</td>\n",
       "      <td>1440.0</td>\n",
       "    </tr>\n",
       "  </tbody>\n",
       "</table>\n",
       "</div>"
      ],
      "text/plain": [
       "                   count       mean         std  min   25%   50%   75%     max\n",
       "Passholder Type                                                               \n",
       "Flex Pass         9466.0  17.804775   63.565957  1.0   7.0  10.0  15.0  1440.0\n",
       "Monthly Pass     80493.0  12.938119   41.715014  1.0   5.0   8.0  13.0  1440.0\n",
       "Walk-up          40756.0  42.754735  120.260342  1.0  11.0  19.0  34.0  1440.0"
      ]
     },
     "execution_count": 176,
     "metadata": {},
     "output_type": "execute_result"
    }
   ],
   "source": [
    "df.groupby('Passholder Type')['Duration'].describe()"
   ]
  },
  {
   "cell_type": "code",
   "execution_count": 177,
   "metadata": {},
   "outputs": [
    {
     "data": {
      "text/plain": [
       "Passholder Type  Trip Route Category\n",
       "Flex Pass        One Way                0.948658\n",
       "                 Round Trip             0.051342\n",
       "Monthly Pass     One Way                0.953984\n",
       "                 Round Trip             0.046016\n",
       "Walk-up          One Way                0.792546\n",
       "                 Round Trip             0.207454\n",
       "Name: Trip Route Category, dtype: float64"
      ]
     },
     "execution_count": 177,
     "metadata": {},
     "output_type": "execute_result"
    }
   ],
   "source": [
    "df.groupby('Passholder Type')['Trip Route Category'].value_counts(normalize=True)"
   ]
  },
  {
   "cell_type": "code",
   "execution_count": null,
   "metadata": {},
   "outputs": [],
   "source": []
  },
  {
   "cell_type": "markdown",
   "metadata": {},
   "source": [
    "### Model Building - Regression Model for Duration\n",
    "\n"
   ]
  },
  {
   "cell_type": "markdown",
   "metadata": {},
   "source": [
    "Can we predict the duration of a ride based on the starting conditions? \n",
    "\n",
    "No using any features that could not be determined until the bike is dropped off"
   ]
  },
  {
   "cell_type": "code",
   "execution_count": 178,
   "metadata": {},
   "outputs": [
    {
     "data": {
      "text/plain": [
       "Index(['Duration', 'Start Time', 'End Time', 'Starting Station ID',\n",
       "       'Starting Station Latitude', 'Starting Station Longitude',\n",
       "       'Ending Station ID', 'Ending Station Latitude',\n",
       "       'Ending Station Longitude', 'Bike ID', 'Trip Route Category',\n",
       "       'Passholder Type', 'Start Month', 'Start Day', 'Time Only',\n",
       "       'Time Only Int', 'Peak'],\n",
       "      dtype='object')"
      ]
     },
     "execution_count": 178,
     "metadata": {},
     "output_type": "execute_result"
    }
   ],
   "source": [
    "df.columns"
   ]
  },
  {
   "cell_type": "code",
   "execution_count": 334,
   "metadata": {},
   "outputs": [],
   "source": [
    "X=df[[#'Starting Station ID',\n",
    "     'Starting Station Latitude',\n",
    "     'Starting Station Longitude',\n",
    "#      'Bike ID',\n",
    "     'Passholder Type',\n",
    "     'Start Month',\n",
    "     'Start Day',\n",
    "#      'Time Only',\n",
    "     'Peak']]\n",
    "y=df['Duration'].clip(upper =30)"
   ]
  },
  {
   "cell_type": "code",
   "execution_count": 180,
   "metadata": {},
   "outputs": [
    {
     "data": {
      "text/plain": [
       "<matplotlib.axes._subplots.AxesSubplot at 0x2f463da0>"
      ]
     },
     "execution_count": 180,
     "metadata": {},
     "output_type": "execute_result"
    },
    {
     "data": {
      "image/png": "[encoded data removed]",
      "text/plain": [
       "<Figure size 432x288 with 1 Axes>"
      ]
     },
     "metadata": {
      "needs_background": "light"
     },
     "output_type": "display_data"
    }
   ],
   "source": [
    "y.hist()"
   ]
  },
  {
   "cell_type": "markdown",
   "metadata": {},
   "source": [
    "data type correction - float to object\n"
   ]
  },
  {
   "cell_type": "code",
   "execution_count": 335,
   "metadata": {},
   "outputs": [
    {
     "name": "stdout",
     "output_type": "stream",
     "text": [
      "<class 'pandas.core.frame.DataFrame'>\n",
      "Int64Index: 130715 entries, 17848847 to 5250466\n",
      "Data columns (total 6 columns):\n",
      "Starting Station Latitude     130715 non-null float64\n",
      "Starting Station Longitude    130715 non-null float64\n",
      "Passholder Type               130715 non-null object\n",
      "Start Month                   130715 non-null object\n",
      "Start Day                     130715 non-null object\n",
      "Peak                          130715 non-null int64\n",
      "dtypes: float64(2), int64(1), object(3)\n",
      "memory usage: 7.0+ MB\n"
     ]
    }
   ],
   "source": [
    "# X['Starting Station ID']=X['Starting Station ID'].astype('str')\n",
    "# X['Bike ID']=X['Bike ID'].astype('str')\n",
    "X.info()"
   ]
  },
  {
   "cell_type": "code",
   "execution_count": 336,
   "metadata": {},
   "outputs": [
    {
     "data": {
      "text/plain": [
       "(130715, 22)"
      ]
     },
     "execution_count": 336,
     "metadata": {},
     "output_type": "execute_result"
    }
   ],
   "source": [
    "X=pd.get_dummies(X)\n",
    "X.shape"
   ]
  },
  {
   "cell_type": "markdown",
   "metadata": {},
   "source": [
    "A lot of features from one-hot encoding now that the Bikes and Stations are not floats"
   ]
  },
  {
   "cell_type": "code",
   "execution_count": 183,
   "metadata": {},
   "outputs": [
    {
     "name": "stderr",
     "output_type": "stream",
     "text": [
      "C:\\kosta\\Anaconda3\\lib\\site-packages\\sklearn\\preprocessing\\data.py:625: DataConversionWarning: Data with input dtype uint8, int64, float64 were all converted to float64 by StandardScaler.\n",
      "  return self.partial_fit(X, y)\n",
      "C:\\kosta\\Anaconda3\\lib\\site-packages\\sklearn\\base.py:462: DataConversionWarning: Data with input dtype uint8, int64, float64 were all converted to float64 by StandardScaler.\n",
      "  return self.fit(X, **fit_params).transform(X)\n"
     ]
    },
    {
     "data": {
      "text/plain": [
       "array([[-0.16140359,  1.10770092, -2.07723716, ..., -0.42611322,\n",
       "        -0.41136045, -0.41937487],\n",
       "       [ 0.20523359,  0.32241175, -2.07723716, ..., -0.42611322,\n",
       "        -0.41136045, -0.41937487],\n",
       "       [-0.23218297,  1.48400529,  0.48140868, ...,  2.34679412,\n",
       "        -0.41136045, -0.41937487],\n",
       "       ...,\n",
       "       [ 1.42564309,  1.12521764,  0.48140868, ..., -0.42611322,\n",
       "        -0.41136045, -0.41937487],\n",
       "       [-1.31457267,  1.53306953,  0.48140868, ..., -0.42611322,\n",
       "        -0.41136045, -0.41937487],\n",
       "       [ 0.86104385,  0.18924985,  0.48140868, ..., -0.42611322,\n",
       "         2.43095805, -0.41937487]])"
      ]
     },
     "execution_count": 183,
     "metadata": {},
     "output_type": "execute_result"
    }
   ],
   "source": [
    "from sklearn.preprocessing import StandardScaler\n",
    "scaler=StandardScaler()\n",
    "scaler.fit_transform(X)"
   ]
  },
  {
   "cell_type": "code",
   "execution_count": 184,
   "metadata": {},
   "outputs": [
    {
     "name": "stdout",
     "output_type": "stream",
     "text": [
      "[18.21262070657032, 7.318637586882739, 6.491911612213361, 6.396283092476398, 6.33846448155241]\n",
      "100.00000000000003\n"
     ]
    },
    {
     "data": {
      "text/plain": [
       "<matplotlib.collections.LineCollection at 0x34122eb8>"
      ]
     },
     "execution_count": 184,
     "metadata": {},
     "output_type": "execute_result"
    },
    {
     "data": {
      "image/png": "[encoded data removed]",
      "text/plain": [
       "<Figure size 1080x576 with 1 Axes>"
      ]
     },
     "metadata": {},
     "output_type": "display_data"
    }
   ],
   "source": [
    "from sklearn.decomposition import PCA\n",
    "pca=PCA()\n",
    "pca.fit(X)\n",
    "tot = sum(pca.explained_variance_)\n",
    "var_exp = [(i/tot)*100 for i in sorted(pca.explained_variance_, reverse=True)] \n",
    "print(var_exp[0:5])\n",
    "print(sum(var_exp))\n",
    "cum_var_exp = np.cumsum(var_exp) \n",
    "plt.style.use('ggplot')\n",
    "plt.figure(figsize=(15, 8))\n",
    "plt.plot(cum_var_exp)\n",
    "plt.title('Cumulative Explained Variance as a Function of the Number of Components')\n",
    "plt.vlines(x=15,ymin=90,ymax=100)"
   ]
  },
  {
   "cell_type": "markdown",
   "metadata": {},
   "source": [
    "Turning point around n_components =70 retains >96% of variance\n",
    "\n",
    "Data will be reduced using Principal Component Analysis with n_components =70"
   ]
  },
  {
   "cell_type": "code",
   "execution_count": 185,
   "metadata": {},
   "outputs": [
    {
     "data": {
      "text/plain": [
       "PCA(copy=True, iterated_power='auto', n_components=15, random_state=None,\n",
       "  svd_solver='auto', tol=0.0, whiten=False)"
      ]
     },
     "execution_count": 185,
     "metadata": {},
     "output_type": "execute_result"
    }
   ],
   "source": [
    "pca=PCA(n_components=15)\n",
    "pca.fit(X)"
   ]
  },
  {
   "cell_type": "code",
   "execution_count": 337,
   "metadata": {},
   "outputs": [],
   "source": [
    "from sklearn.model_selection import train_test_split\n",
    "X_train,X_test,y_train,y_test=train_test_split(X,y)"
   ]
  },
  {
   "cell_type": "code",
   "execution_count": 187,
   "metadata": {},
   "outputs": [],
   "source": [
    "X_train=pca.transform(X_train)\n",
    "X_test=pca.transform(X_test)"
   ]
  },
  {
   "cell_type": "code",
   "execution_count": 362,
   "metadata": {},
   "outputs": [],
   "source": [
    "param_grid_dtr={'criterion':['mse','friedman_mse','mae'],\n",
    "               'max_depth': [2,5,10,None],\n",
    "               'min_samples_split':[2,4,10]}"
   ]
  },
  {
   "cell_type": "code",
   "execution_count": 363,
   "metadata": {},
   "outputs": [],
   "source": [
    "from sklearn.tree import DecisionTreeRegressor\n",
    "from sklearn.model_selection import GridSearchCV\n",
    "grid_dtr=GridSearchCV(estimator=DecisionTreeRegressor(),\n",
    "                     param_grid=param_grid_dtr,cv=3)"
   ]
  },
  {
   "cell_type": "code",
   "execution_count": null,
   "metadata": {},
   "outputs": [],
   "source": [
    "from sklearn.tree import DecisionTreeRegressor\n",
    "# cart=DecisionTreeRegressor()\n",
    "grid_dtr.fit(X_train,y_train)"
   ]
  },
  {
   "cell_type": "code",
   "execution_count": null,
   "metadata": {},
   "outputs": [],
   "source": [
    "grid_dtr.best_params_"
   ]
  },
  {
   "cell_type": "code",
   "execution_count": null,
   "metadata": {},
   "outputs": [],
   "source": [
    "grid_dtr.best_score_"
   ]
  },
  {
   "cell_type": "code",
   "execution_count": null,
   "metadata": {},
   "outputs": [],
   "source": [
    "from sklearn.metrics import mean_squared_error as mse\n",
    "from sklearn.metrics import mean_absolute_error as mae\n",
    "from sklearn.metrics import r2_score\n",
    "\n",
    "# Make predictions and evaluate \n",
    "y_pred = cart.predict(X_test)\n",
    "print ('MSE score:', mse(y_test, y_pred))\n",
    "print ('MAE score:', mae(y_test, y_pred))\n",
    "print('R-sq score:',r2_score(y_test,y_pred))"
   ]
  },
  {
   "cell_type": "code",
   "execution_count": null,
   "metadata": {},
   "outputs": [],
   "source": [
    "y_hat_train=cart.predict(X_train)\n",
    "print ('MSE score:', mse(y_train, y_hat_train))\n",
    "print('R-sq score:',r2_score(y_train,y_hat_train))"
   ]
  },
  {
   "cell_type": "code",
   "execution_count": null,
   "metadata": {},
   "outputs": [],
   "source": []
  },
  {
   "cell_type": "code",
   "execution_count": null,
   "metadata": {},
   "outputs": [],
   "source": []
  },
  {
   "cell_type": "code",
   "execution_count": null,
   "metadata": {},
   "outputs": [],
   "source": []
  },
  {
   "cell_type": "code",
   "execution_count": 191,
   "metadata": {},
   "outputs": [
    {
     "name": "stderr",
     "output_type": "stream",
     "text": [
      "C:\\kosta\\Anaconda3\\lib\\site-packages\\sklearn\\ensemble\\forest.py:246: FutureWarning: The default value of n_estimators will change from 10 in version 0.20 to 100 in 0.22.\n",
      "  \"10 in version 0.20 to 100 in 0.22.\", FutureWarning)\n"
     ]
    },
    {
     "name": "stdout",
     "output_type": "stream",
     "text": [
      "MSE score: 56.49459551284301\n",
      "R-sq score: 0.235108684365802\n"
     ]
    }
   ],
   "source": [
    "from sklearn.ensemble import RandomForestRegressor\n",
    "forest=RandomForestRegressor()\n",
    "forest.fit(X_train,y_train)\n",
    "y_pred=forest.predict(X_test)\n",
    "print ('MSE score:', mse(y_test, y_pred))\n",
    "print('R-sq score:',r2_score(y_test,y_pred))"
   ]
  },
  {
   "cell_type": "code",
   "execution_count": null,
   "metadata": {},
   "outputs": [],
   "source": []
  },
  {
   "cell_type": "code",
   "execution_count": null,
   "metadata": {},
   "outputs": [],
   "source": []
  },
  {
   "cell_type": "code",
   "execution_count": null,
   "metadata": {},
   "outputs": [],
   "source": []
  },
  {
   "cell_type": "code",
   "execution_count": null,
   "metadata": {},
   "outputs": [],
   "source": []
  },
  {
   "cell_type": "code",
   "execution_count": null,
   "metadata": {},
   "outputs": [],
   "source": []
  },
  {
   "cell_type": "code",
   "execution_count": null,
   "metadata": {},
   "outputs": [],
   "source": []
  },
  {
   "cell_type": "code",
   "execution_count": null,
   "metadata": {},
   "outputs": [],
   "source": []
  },
  {
   "cell_type": "code",
   "execution_count": null,
   "metadata": {},
   "outputs": [],
   "source": []
  },
  {
   "cell_type": "code",
   "execution_count": null,
   "metadata": {},
   "outputs": [],
   "source": []
  },
  {
   "cell_type": "code",
   "execution_count": null,
   "metadata": {},
   "outputs": [],
   "source": []
  },
  {
   "cell_type": "markdown",
   "metadata": {},
   "source": [
    "### Classifier Model for Passholder Type"
   ]
  },
  {
   "cell_type": "code",
   "execution_count": 192,
   "metadata": {},
   "outputs": [
    {
     "data": {
      "text/plain": [
       "Index(['Duration', 'Start Time', 'End Time', 'Starting Station ID',\n",
       "       'Starting Station Latitude', 'Starting Station Longitude',\n",
       "       'Ending Station ID', 'Ending Station Latitude',\n",
       "       'Ending Station Longitude', 'Bike ID', 'Trip Route Category',\n",
       "       'Passholder Type', 'Start Month', 'Start Day', 'Time Only',\n",
       "       'Time Only Int', 'Peak'],\n",
       "      dtype='object')"
      ]
     },
     "execution_count": 192,
     "metadata": {},
     "output_type": "execute_result"
    }
   ],
   "source": [
    "df.columns"
   ]
  },
  {
   "cell_type": "code",
   "execution_count": 319,
   "metadata": {},
   "outputs": [],
   "source": [
    "y=df['Passholder Type']#=='Monthly Pass'\n",
    "# y=np.where(y==True,1.0,0.0)\n",
    "X=df.drop(columns=['Bike ID','Time Only','Start Time','End Time','Passholder Type'])"
   ]
  },
  {
   "cell_type": "code",
   "execution_count": 320,
   "metadata": {},
   "outputs": [],
   "source": [
    "X['Starting Station ID']=X['Starting Station ID'].astype('str')\n",
    "X['Ending Station ID']=X['Ending Station ID'].astype('str')"
   ]
  },
  {
   "cell_type": "code",
   "execution_count": 321,
   "metadata": {},
   "outputs": [],
   "source": [
    "X=pd.get_dummies(X)"
   ]
  },
  {
   "cell_type": "code",
   "execution_count": 322,
   "metadata": {},
   "outputs": [
    {
     "data": {
      "text/plain": [
       "(130715, 157)"
      ]
     },
     "execution_count": 322,
     "metadata": {},
     "output_type": "execute_result"
    }
   ],
   "source": [
    "X.shape"
   ]
  },
  {
   "cell_type": "code",
   "execution_count": 323,
   "metadata": {},
   "outputs": [
    {
     "name": "stdout",
     "output_type": "stream",
     "text": [
      "[99.51368969407858, 0.42049529964413546, 0.0029700820842616326, 0.002884900340691535, 0.002557971821726054]\n",
      "100.0\n"
     ]
    },
    {
     "data": {
      "text/plain": [
       "Text(0.5, 1.0, 'Cumulative Explained Variance as a Function of the Number of Components')"
      ]
     },
     "execution_count": 323,
     "metadata": {},
     "output_type": "execute_result"
    },
    {
     "data": {
      "image/png": "[encoded data removed]",
      "text/plain": [
       "<Figure size 1080x576 with 1 Axes>"
      ]
     },
     "metadata": {},
     "output_type": "display_data"
    }
   ],
   "source": [
    "from sklearn.decomposition import PCA\n",
    "pca=PCA()\n",
    "pca.fit(X)\n",
    "tot = sum(pca.explained_variance_)\n",
    "var_exp = [(i/tot)*100 for i in sorted(pca.explained_variance_, reverse=True)] \n",
    "print(var_exp[0:5])\n",
    "print(sum(var_exp))\n",
    "cum_var_exp = np.cumsum(var_exp) \n",
    "plt.style.use('ggplot')\n",
    "plt.figure(figsize=(15, 8))\n",
    "plt.plot(cum_var_exp)\n",
    "plt.title('Cumulative Explained Variance as a Function of the Number of Components')\n",
    "# plt.vlines(x=15,ymin=90,ymax=100)"
   ]
  },
  {
   "cell_type": "code",
   "execution_count": 324,
   "metadata": {},
   "outputs": [
    {
     "data": {
      "text/plain": [
       "PCA(copy=True, iterated_power='auto', n_components=15, random_state=None,\n",
       "  svd_solver='auto', tol=0.0, whiten=False)"
      ]
     },
     "execution_count": 324,
     "metadata": {},
     "output_type": "execute_result"
    }
   ],
   "source": [
    "pca=PCA(n_components=15)\n",
    "pca.fit(X)"
   ]
  },
  {
   "cell_type": "code",
   "execution_count": 325,
   "metadata": {},
   "outputs": [],
   "source": [
    "from sklearn.model_selection import train_test_split\n",
    "X_train,X_test,y_train,y_test=train_test_split(X,y)"
   ]
  },
  {
   "cell_type": "code",
   "execution_count": 326,
   "metadata": {},
   "outputs": [],
   "source": [
    "X_train=pca.transform(X_train)\n",
    "X_test=pca.transform(X_test)"
   ]
  },
  {
   "cell_type": "code",
   "execution_count": 327,
   "metadata": {},
   "outputs": [
    {
     "data": {
      "text/plain": [
       "DecisionTreeClassifier(class_weight=None, criterion='gini', max_depth=None,\n",
       "            max_features=None, max_leaf_nodes=None,\n",
       "            min_impurity_decrease=0.0, min_impurity_split=None,\n",
       "            min_samples_leaf=1, min_samples_split=2,\n",
       "            min_weight_fraction_leaf=0.0, presort=False, random_state=None,\n",
       "            splitter='best')"
      ]
     },
     "execution_count": 327,
     "metadata": {},
     "output_type": "execute_result"
    }
   ],
   "source": [
    "from sklearn.tree import DecisionTreeClassifier\n",
    "cart=DecisionTreeClassifier()\n",
    "cart.fit(X_train,y_train)"
   ]
  },
  {
   "cell_type": "code",
   "execution_count": 328,
   "metadata": {},
   "outputs": [
    {
     "data": {
      "text/plain": [
       "0.6693901282168977"
      ]
     },
     "execution_count": 328,
     "metadata": {},
     "output_type": "execute_result"
    }
   ],
   "source": [
    "y_pred = cart.predict(X_test)\n",
    "from sklearn.metrics import accuracy_score\n",
    "accuracy_score(y_test,y_pred)"
   ]
  },
  {
   "cell_type": "code",
   "execution_count": 330,
   "metadata": {
    "scrolled": true
   },
   "outputs": [
    {
     "name": "stdout",
     "output_type": "stream",
     "text": [
      "              precision    recall  f1-score   support\n",
      "\n",
      "   Flex Pass       0.17      0.19      0.18      2379\n",
      "Monthly Pass       0.76      0.75      0.75     20001\n",
      "     Walk-up       0.62      0.63      0.63     10299\n",
      "\n",
      "   micro avg       0.67      0.67      0.67     32679\n",
      "   macro avg       0.52      0.52      0.52     32679\n",
      "weighted avg       0.67      0.67      0.67     32679\n",
      "\n"
     ]
    }
   ],
   "source": [
    "from sklearn.metrics import classification_report\n",
    "print(classification_report(y_test,y_pred))"
   ]
  },
  {
   "cell_type": "code",
   "execution_count": 329,
   "metadata": {},
   "outputs": [
    {
     "name": "stdout",
     "output_type": "stream",
     "text": [
      "[[  446  1420   513]\n",
      " [ 1638 14955  3408]\n",
      " [  558  3267  6474]]\n"
     ]
    }
   ],
   "source": [
    "from sklearn.metrics import confusion_matrix\n",
    "print(confusion_matrix(y_test,y_pred))"
   ]
  },
  {
   "cell_type": "code",
   "execution_count": null,
   "metadata": {},
   "outputs": [],
   "source": []
  },
  {
   "cell_type": "code",
   "execution_count": null,
   "metadata": {},
   "outputs": [],
   "source": []
  },
  {
   "cell_type": "code",
   "execution_count": null,
   "metadata": {},
   "outputs": [],
   "source": []
  },
  {
   "cell_type": "code",
   "execution_count": null,
   "metadata": {},
   "outputs": [],
   "source": []
  },
  {
   "cell_type": "code",
   "execution_count": null,
   "metadata": {},
   "outputs": [],
   "source": []
  },
  {
   "cell_type": "code",
   "execution_count": null,
   "metadata": {},
   "outputs": [],
   "source": []
  },
  {
   "cell_type": "code",
   "execution_count": null,
   "metadata": {},
   "outputs": [],
   "source": []
  },
  {
   "cell_type": "code",
   "execution_count": null,
   "metadata": {},
   "outputs": [],
   "source": []
  },
  {
   "cell_type": "code",
   "execution_count": 204,
   "metadata": {
    "scrolled": false
   },
   "outputs": [
    {
     "data": {
      "text/plain": [
       "<matplotlib.collections.LineCollection at 0x340ae390>"
      ]
     },
     "execution_count": 204,
     "metadata": {},
     "output_type": "execute_result"
    },
    {
     "data": {
      "image/png": "[encoded data removed]",
      "text/plain": [
       "<Figure size 1080x288 with 1 Axes>"
      ]
     },
     "metadata": {},
     "output_type": "display_data"
    }
   ],
   "source": [
    "plt.figure(figsize=(15,4))\n",
    "df.loc[df.Duration<30]['Duration'].hist(bins=29)\n",
    "plt.vlines(x=15,ymin=0,ymax=10000,color='red')\n",
    "plt.vlines(x=10,ymin=0,ymax=10000,color='red')\n",
    "plt.vlines(x=5,ymin=0,ymax=10000,color='red')\n",
    "# plt.ylim(0,30000)\n",
    "# plt.xlim(0,5000)"
   ]
  },
  {
   "cell_type": "markdown",
   "metadata": {},
   "source": [
    "4-bin 5 min interval 15 minutes  classifier?"
   ]
  },
  {
   "cell_type": "markdown",
   "metadata": {},
   "source": [
    "Notes:\n",
    "corellate distance/duration? probs not\n",
    "\n",
    "insert day of week and month \n",
    "\n",
    "bin start time? morning/afternoon/evening? rounded to the nearest hour\n",
    "\n",
    "clustering of stations? <i> 1 main cluster really</i>\n",
    "\n",
    "\n",
    "machine learning:\n",
    "ride duration classifier?\n",
    "\n"
   ]
  },
  {
   "cell_type": "code",
   "execution_count": null,
   "metadata": {},
   "outputs": [],
   "source": []
  }
 ],
 "metadata": {
  "kernelspec": {
   "display_name": "Python 3",
   "language": "python",
   "name": "python3"
  },
  "language_info": {
   "codemirror_mode": {
    "name": "ipython",
    "version": 3
   },
   "file_extension": ".py",
   "mimetype": "text/x-python",
   "name": "python",
   "nbconvert_exporter": "python",
   "pygments_lexer": "ipython3",
   "version": "3.7.1"
  }
 },
 "nbformat": 4,
 "nbformat_minor": 2
}
