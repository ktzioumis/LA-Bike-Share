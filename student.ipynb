{
 "cells": [
  {
   "cell_type": "markdown",
   "metadata": {},
   "source": [
    "## Introduction \n",
    "\n",
    "This dataset is a catalogue of rides taken on the LA-Metro Bike Share Network.\n",
    "\n",
    "\"The Metro Bike Share system makes bikes available 24/7, 365 days a year in Downtown LA, Central LA, Port of LA and the Westside. Metro Bike Share offers convenient round-the-clock access to a fleet of bicycles for short trips. Metro Bike Share is one of LA Metro's multiple public transportation options for Angelenos and visitors to get around.\"\n",
    "<br>-https://bikeshare.metro.net/about/\n",
    "\n",
    "Bike sharing networks have been established in cities of all sizes, they allow residents and visitors a fun, cheap, fast and  easy way to explore the city they are based in and have even become part of regular commuter routines. Although a bicycle is in itself a low-tech transport option, technology has and will continue to play major role in the rapid expansion of bike sharing networks. The bike may be dumb (and they increasingly aren't) but the network itself is very smart.\n",
    "\n",
    "\"Now companies have GPS sensors to track their bikes, and smartphones, credit cards, or transit passes to know who has them—and whom to penalize if the wheels go missing. Riders, meanwhile, can use apps to track down available rides or bike-share stations when they need them.\"\n",
    "<br>-Wired Magazine (https://www.wired.com/story/americans-falling-in-love-bike-share/)\n",
    "\n",
    "And data collection and analysis and with it machine learning is the key to building a bike network that really works. Data can provide many insights and much guidance about a bike sharing network and through this exploration of the LA-Metro Bike Network I hope to demonstrate just some of this potential.\n",
    "\n",
    "Datset obtained from:\n",
    "\n",
    "https://www.kaggle.com/cityofLA/los-angeles-metro-bike-share-trip-data"
   ]
  },
  {
   "cell_type": "markdown",
   "metadata": {},
   "source": [
    "### Load Data and Basic Libraries"
   ]
  },
  {
   "cell_type": "code",
   "execution_count": 1,
   "metadata": {},
   "outputs": [],
   "source": [
    "import pandas as pd\n",
    "import numpy as np\n",
    "import matplotlib.pyplot as plt\n",
    "%matplotlib inline"
   ]
  },
  {
   "cell_type": "code",
   "execution_count": 2,
   "metadata": {
    "scrolled": false
   },
   "outputs": [
    {
     "data": {
      "text/html": [
       "<div>\n",
       "<style scoped>\n",
       "    .dataframe tbody tr th:only-of-type {\n",
       "        vertical-align: middle;\n",
       "    }\n",
       "\n",
       "    .dataframe tbody tr th {\n",
       "        vertical-align: top;\n",
       "    }\n",
       "\n",
       "    .dataframe thead th {\n",
       "        text-align: right;\n",
       "    }\n",
       "</style>\n",
       "<table border=\"1\" class=\"dataframe\">\n",
       "  <thead>\n",
       "    <tr style=\"text-align: right;\">\n",
       "      <th></th>\n",
       "      <th>Trip ID</th>\n",
       "      <th>Duration</th>\n",
       "      <th>Start Time</th>\n",
       "      <th>End Time</th>\n",
       "      <th>Starting Station ID</th>\n",
       "      <th>Starting Station Latitude</th>\n",
       "      <th>Starting Station Longitude</th>\n",
       "      <th>Ending Station ID</th>\n",
       "      <th>Ending Station Latitude</th>\n",
       "      <th>Ending Station Longitude</th>\n",
       "      <th>...</th>\n",
       "      <th>Trip Route Category</th>\n",
       "      <th>Passholder Type</th>\n",
       "      <th>Starting Lat-Long</th>\n",
       "      <th>Ending Lat-Long</th>\n",
       "      <th>Neighborhood Councils (Certified)</th>\n",
       "      <th>Council Districts</th>\n",
       "      <th>Zip Codes</th>\n",
       "      <th>LA Specific Plans</th>\n",
       "      <th>Precinct Boundaries</th>\n",
       "      <th>Census Tracts</th>\n",
       "    </tr>\n",
       "  </thead>\n",
       "  <tbody>\n",
       "    <tr>\n",
       "      <th>0</th>\n",
       "      <td>18222186</td>\n",
       "      <td>15060</td>\n",
       "      <td>2017-01-19T17:05:00.000</td>\n",
       "      <td>2017-01-19T21:16:00.000</td>\n",
       "      <td>3031.0</td>\n",
       "      <td>34.044701</td>\n",
       "      <td>-118.252441</td>\n",
       "      <td>3000.0</td>\n",
       "      <td>NaN</td>\n",
       "      <td>NaN</td>\n",
       "      <td>...</td>\n",
       "      <td>One Way</td>\n",
       "      <td>Walk-up</td>\n",
       "      <td>NaN</td>\n",
       "      <td>NaN</td>\n",
       "      <td>NaN</td>\n",
       "      <td>NaN</td>\n",
       "      <td>NaN</td>\n",
       "      <td>NaN</td>\n",
       "      <td>NaN</td>\n",
       "      <td>NaN</td>\n",
       "    </tr>\n",
       "    <tr>\n",
       "      <th>1</th>\n",
       "      <td>9518671</td>\n",
       "      <td>77160</td>\n",
       "      <td>2016-10-09T14:37:00.000</td>\n",
       "      <td>2016-10-10T12:03:00.000</td>\n",
       "      <td>NaN</td>\n",
       "      <td>NaN</td>\n",
       "      <td>NaN</td>\n",
       "      <td>3000.0</td>\n",
       "      <td>NaN</td>\n",
       "      <td>NaN</td>\n",
       "      <td>...</td>\n",
       "      <td>One Way</td>\n",
       "      <td>Monthly Pass</td>\n",
       "      <td>NaN</td>\n",
       "      <td>NaN</td>\n",
       "      <td>NaN</td>\n",
       "      <td>NaN</td>\n",
       "      <td>NaN</td>\n",
       "      <td>NaN</td>\n",
       "      <td>NaN</td>\n",
       "      <td>NaN</td>\n",
       "    </tr>\n",
       "    <tr>\n",
       "      <th>2</th>\n",
       "      <td>20444932</td>\n",
       "      <td>86400</td>\n",
       "      <td>2017-02-18T10:15:00.000</td>\n",
       "      <td>2017-02-20T15:20:00.000</td>\n",
       "      <td>3026.0</td>\n",
       "      <td>34.063179</td>\n",
       "      <td>-118.245880</td>\n",
       "      <td>3000.0</td>\n",
       "      <td>NaN</td>\n",
       "      <td>NaN</td>\n",
       "      <td>...</td>\n",
       "      <td>One Way</td>\n",
       "      <td>Walk-up</td>\n",
       "      <td>NaN</td>\n",
       "      <td>NaN</td>\n",
       "      <td>NaN</td>\n",
       "      <td>NaN</td>\n",
       "      <td>NaN</td>\n",
       "      <td>NaN</td>\n",
       "      <td>NaN</td>\n",
       "      <td>NaN</td>\n",
       "    </tr>\n",
       "    <tr>\n",
       "      <th>3</th>\n",
       "      <td>20905031</td>\n",
       "      <td>18840</td>\n",
       "      <td>2017-02-27T12:26:00.000</td>\n",
       "      <td>2017-02-27T17:40:00.000</td>\n",
       "      <td>3023.0</td>\n",
       "      <td>34.050911</td>\n",
       "      <td>-118.240967</td>\n",
       "      <td>3000.0</td>\n",
       "      <td>NaN</td>\n",
       "      <td>NaN</td>\n",
       "      <td>...</td>\n",
       "      <td>One Way</td>\n",
       "      <td>Walk-up</td>\n",
       "      <td>NaN</td>\n",
       "      <td>NaN</td>\n",
       "      <td>NaN</td>\n",
       "      <td>NaN</td>\n",
       "      <td>NaN</td>\n",
       "      <td>NaN</td>\n",
       "      <td>NaN</td>\n",
       "      <td>NaN</td>\n",
       "    </tr>\n",
       "    <tr>\n",
       "      <th>4</th>\n",
       "      <td>21031476</td>\n",
       "      <td>86400</td>\n",
       "      <td>2017-02-27T20:26:00.000</td>\n",
       "      <td>2017-03-01T09:49:00.000</td>\n",
       "      <td>3008.0</td>\n",
       "      <td>34.046612</td>\n",
       "      <td>-118.262733</td>\n",
       "      <td>3000.0</td>\n",
       "      <td>NaN</td>\n",
       "      <td>NaN</td>\n",
       "      <td>...</td>\n",
       "      <td>One Way</td>\n",
       "      <td>Flex Pass</td>\n",
       "      <td>NaN</td>\n",
       "      <td>NaN</td>\n",
       "      <td>NaN</td>\n",
       "      <td>NaN</td>\n",
       "      <td>NaN</td>\n",
       "      <td>NaN</td>\n",
       "      <td>NaN</td>\n",
       "      <td>NaN</td>\n",
       "    </tr>\n",
       "    <tr>\n",
       "      <th>5</th>\n",
       "      <td>9378284</td>\n",
       "      <td>60</td>\n",
       "      <td>2016-10-09T09:40:00.000</td>\n",
       "      <td>2016-10-09T09:41:00.000</td>\n",
       "      <td>NaN</td>\n",
       "      <td>NaN</td>\n",
       "      <td>NaN</td>\n",
       "      <td>NaN</td>\n",
       "      <td>NaN</td>\n",
       "      <td>NaN</td>\n",
       "      <td>...</td>\n",
       "      <td>One Way</td>\n",
       "      <td>Staff Annual</td>\n",
       "      <td>NaN</td>\n",
       "      <td>NaN</td>\n",
       "      <td>NaN</td>\n",
       "      <td>NaN</td>\n",
       "      <td>NaN</td>\n",
       "      <td>NaN</td>\n",
       "      <td>NaN</td>\n",
       "      <td>NaN</td>\n",
       "    </tr>\n",
       "    <tr>\n",
       "      <th>6</th>\n",
       "      <td>21784648</td>\n",
       "      <td>14760</td>\n",
       "      <td>2017-03-10T17:38:00.000</td>\n",
       "      <td>2017-03-10T21:44:00.000</td>\n",
       "      <td>3065.0</td>\n",
       "      <td>34.060558</td>\n",
       "      <td>-118.238327</td>\n",
       "      <td>3000.0</td>\n",
       "      <td>NaN</td>\n",
       "      <td>NaN</td>\n",
       "      <td>...</td>\n",
       "      <td>One Way</td>\n",
       "      <td>Walk-up</td>\n",
       "      <td>NaN</td>\n",
       "      <td>NaN</td>\n",
       "      <td>NaN</td>\n",
       "      <td>NaN</td>\n",
       "      <td>NaN</td>\n",
       "      <td>NaN</td>\n",
       "      <td>NaN</td>\n",
       "      <td>NaN</td>\n",
       "    </tr>\n",
       "    <tr>\n",
       "      <th>7</th>\n",
       "      <td>22506739</td>\n",
       "      <td>79020</td>\n",
       "      <td>2017-03-17T19:20:00.000</td>\n",
       "      <td>2017-03-18T17:17:00.000</td>\n",
       "      <td>3063.0</td>\n",
       "      <td>34.049198</td>\n",
       "      <td>-118.252831</td>\n",
       "      <td>3000.0</td>\n",
       "      <td>NaN</td>\n",
       "      <td>NaN</td>\n",
       "      <td>...</td>\n",
       "      <td>One Way</td>\n",
       "      <td>Walk-up</td>\n",
       "      <td>NaN</td>\n",
       "      <td>NaN</td>\n",
       "      <td>NaN</td>\n",
       "      <td>NaN</td>\n",
       "      <td>NaN</td>\n",
       "      <td>NaN</td>\n",
       "      <td>NaN</td>\n",
       "      <td>NaN</td>\n",
       "    </tr>\n",
       "    <tr>\n",
       "      <th>8</th>\n",
       "      <td>20889067</td>\n",
       "      <td>86400</td>\n",
       "      <td>2017-02-26T12:18:00.000</td>\n",
       "      <td>2017-02-27T12:36:00.000</td>\n",
       "      <td>3062.0</td>\n",
       "      <td>34.047749</td>\n",
       "      <td>-118.243172</td>\n",
       "      <td>3000.0</td>\n",
       "      <td>NaN</td>\n",
       "      <td>NaN</td>\n",
       "      <td>...</td>\n",
       "      <td>One Way</td>\n",
       "      <td>Walk-up</td>\n",
       "      <td>NaN</td>\n",
       "      <td>NaN</td>\n",
       "      <td>NaN</td>\n",
       "      <td>NaN</td>\n",
       "      <td>NaN</td>\n",
       "      <td>NaN</td>\n",
       "      <td>NaN</td>\n",
       "      <td>NaN</td>\n",
       "    </tr>\n",
       "    <tr>\n",
       "      <th>9</th>\n",
       "      <td>18481915</td>\n",
       "      <td>600</td>\n",
       "      <td>2017-01-23T18:48:00.000</td>\n",
       "      <td>2017-01-23T18:58:00.000</td>\n",
       "      <td>3082.0</td>\n",
       "      <td>34.046520</td>\n",
       "      <td>-118.237411</td>\n",
       "      <td>3000.0</td>\n",
       "      <td>NaN</td>\n",
       "      <td>NaN</td>\n",
       "      <td>...</td>\n",
       "      <td>One Way</td>\n",
       "      <td>Monthly Pass</td>\n",
       "      <td>NaN</td>\n",
       "      <td>NaN</td>\n",
       "      <td>NaN</td>\n",
       "      <td>NaN</td>\n",
       "      <td>NaN</td>\n",
       "      <td>NaN</td>\n",
       "      <td>NaN</td>\n",
       "      <td>NaN</td>\n",
       "    </tr>\n",
       "  </tbody>\n",
       "</table>\n",
       "<p>10 rows × 22 columns</p>\n",
       "</div>"
      ],
      "text/plain": [
       "    Trip ID  Duration               Start Time                 End Time  \\\n",
       "0  18222186     15060  2017-01-19T17:05:00.000  2017-01-19T21:16:00.000   \n",
       "1   9518671     77160  2016-10-09T14:37:00.000  2016-10-10T12:03:00.000   \n",
       "2  20444932     86400  2017-02-18T10:15:00.000  2017-02-20T15:20:00.000   \n",
       "3  20905031     18840  2017-02-27T12:26:00.000  2017-02-27T17:40:00.000   \n",
       "4  21031476     86400  2017-02-27T20:26:00.000  2017-03-01T09:49:00.000   \n",
       "5   9378284        60  2016-10-09T09:40:00.000  2016-10-09T09:41:00.000   \n",
       "6  21784648     14760  2017-03-10T17:38:00.000  2017-03-10T21:44:00.000   \n",
       "7  22506739     79020  2017-03-17T19:20:00.000  2017-03-18T17:17:00.000   \n",
       "8  20889067     86400  2017-02-26T12:18:00.000  2017-02-27T12:36:00.000   \n",
       "9  18481915       600  2017-01-23T18:48:00.000  2017-01-23T18:58:00.000   \n",
       "\n",
       "   Starting Station ID  Starting Station Latitude  Starting Station Longitude  \\\n",
       "0               3031.0                  34.044701                 -118.252441   \n",
       "1                  NaN                        NaN                         NaN   \n",
       "2               3026.0                  34.063179                 -118.245880   \n",
       "3               3023.0                  34.050911                 -118.240967   \n",
       "4               3008.0                  34.046612                 -118.262733   \n",
       "5                  NaN                        NaN                         NaN   \n",
       "6               3065.0                  34.060558                 -118.238327   \n",
       "7               3063.0                  34.049198                 -118.252831   \n",
       "8               3062.0                  34.047749                 -118.243172   \n",
       "9               3082.0                  34.046520                 -118.237411   \n",
       "\n",
       "   Ending Station ID  Ending Station Latitude  Ending Station Longitude  \\\n",
       "0             3000.0                      NaN                       NaN   \n",
       "1             3000.0                      NaN                       NaN   \n",
       "2             3000.0                      NaN                       NaN   \n",
       "3             3000.0                      NaN                       NaN   \n",
       "4             3000.0                      NaN                       NaN   \n",
       "5                NaN                      NaN                       NaN   \n",
       "6             3000.0                      NaN                       NaN   \n",
       "7             3000.0                      NaN                       NaN   \n",
       "8             3000.0                      NaN                       NaN   \n",
       "9             3000.0                      NaN                       NaN   \n",
       "\n",
       "       ...        Trip Route Category  Passholder Type Starting Lat-Long  \\\n",
       "0      ...                    One Way          Walk-up               NaN   \n",
       "1      ...                    One Way     Monthly Pass               NaN   \n",
       "2      ...                    One Way          Walk-up               NaN   \n",
       "3      ...                    One Way          Walk-up               NaN   \n",
       "4      ...                    One Way        Flex Pass               NaN   \n",
       "5      ...                    One Way     Staff Annual               NaN   \n",
       "6      ...                    One Way          Walk-up               NaN   \n",
       "7      ...                    One Way          Walk-up               NaN   \n",
       "8      ...                    One Way          Walk-up               NaN   \n",
       "9      ...                    One Way     Monthly Pass               NaN   \n",
       "\n",
       "  Ending Lat-Long Neighborhood Councils (Certified) Council Districts  \\\n",
       "0             NaN                               NaN               NaN   \n",
       "1             NaN                               NaN               NaN   \n",
       "2             NaN                               NaN               NaN   \n",
       "3             NaN                               NaN               NaN   \n",
       "4             NaN                               NaN               NaN   \n",
       "5             NaN                               NaN               NaN   \n",
       "6             NaN                               NaN               NaN   \n",
       "7             NaN                               NaN               NaN   \n",
       "8             NaN                               NaN               NaN   \n",
       "9             NaN                               NaN               NaN   \n",
       "\n",
       "   Zip Codes  LA Specific Plans  Precinct Boundaries  Census Tracts  \n",
       "0        NaN                NaN                  NaN            NaN  \n",
       "1        NaN                NaN                  NaN            NaN  \n",
       "2        NaN                NaN                  NaN            NaN  \n",
       "3        NaN                NaN                  NaN            NaN  \n",
       "4        NaN                NaN                  NaN            NaN  \n",
       "5        NaN                NaN                  NaN            NaN  \n",
       "6        NaN                NaN                  NaN            NaN  \n",
       "7        NaN                NaN                  NaN            NaN  \n",
       "8        NaN                NaN                  NaN            NaN  \n",
       "9        NaN                NaN                  NaN            NaN  \n",
       "\n",
       "[10 rows x 22 columns]"
      ]
     },
     "execution_count": 2,
     "metadata": {},
     "output_type": "execute_result"
    }
   ],
   "source": [
    "df=pd.read_csv('metro-bike-share-trip-data.csv')\n",
    "df.head(10)"
   ]
  },
  {
   "cell_type": "code",
   "execution_count": 3,
   "metadata": {
    "scrolled": true
   },
   "outputs": [
    {
     "data": {
      "text/plain": [
       "(132427, 22)"
      ]
     },
     "execution_count": 3,
     "metadata": {},
     "output_type": "execute_result"
    }
   ],
   "source": [
    "df.shape"
   ]
  },
  {
   "cell_type": "code",
   "execution_count": null,
   "metadata": {},
   "outputs": [],
   "source": []
  },
  {
   "cell_type": "markdown",
   "metadata": {},
   "source": [
    "Feature descriptions from https://bikeshare.metro.net/about/data/\n",
    "\n",
    "<b>trip_id:</b> Locally unique integer that identifies the trip\n",
    "\n",
    "<b>duration:</b> Length of trip in <i> minutes*</i>\n",
    "\n",
    "<b>start_time:</b> The date/time when the trip began, presented in ISO 8601 format in local time\n",
    "\n",
    "<b>end_time: </b>The date/time when the trip ended, presented in ISO 8601 format in local time\n",
    "\n",
    "<b>start_station:</b> The station ID where the trip originated \n",
    "\n",
    "<b>start_lat:</b> The latitude of the station where the trip originated\n",
    "\n",
    "<b>start_lon: </b>The longitude of the station where the trip originated\n",
    "\n",
    "<b>end_station: </b>The station ID where the trip terminated \n",
    "\n",
    "<b>end_lat: </b>The latitude of the station where the trip terminated\n",
    "\n",
    "<b>end_lon: </b>The longitude of the station where the trip terminated\n",
    "\n",
    "<b>bike_id: </b> Locally unique integer that identifies the bike\n",
    "    \n",
    "<b>plan_duration: </b>The number of days that the plan the passholder is using entitles them to ride; 0 is used for a single ride plan (Walk-up)\n",
    "\n",
    "<b>trip_route_category:</b> \"Round Trip\" for trips starting and ending at the same station or \"One Way\" for all other trips\n",
    "\n",
    "<b>passholder_type: </b>The name of the passholder's plan\n",
    "\n",
    "*units are actually in but each instance is a multiple of 60 i.e. a whole minute number. We will convert this to minutes\n",
    "\n",
    "Other features are not officially described by Metro Bike Share\n",
    "\n",
    "Starting Lat-Long and Ending Lat-Long appear to be repetitions of previous station data and can be dropped safely\n",
    "\n",
    "Remaining features appear to be LA geographic information not relevant to this study, many of which include large amounts of missing data. These will  also be dropped."
   ]
  },
  {
   "cell_type": "code",
   "execution_count": null,
   "metadata": {},
   "outputs": [],
   "source": []
  },
  {
   "cell_type": "markdown",
   "metadata": {},
   "source": [
    "### Data Cleaning"
   ]
  },
  {
   "cell_type": "code",
   "execution_count": 4,
   "metadata": {
    "scrolled": false
   },
   "outputs": [
    {
     "name": "stdout",
     "output_type": "stream",
     "text": [
      "<class 'pandas.core.frame.DataFrame'>\n",
      "RangeIndex: 132427 entries, 0 to 132426\n",
      "Data columns (total 22 columns):\n",
      "Trip ID                              132427 non-null int64\n",
      "Duration                             132427 non-null int64\n",
      "Start Time                           132427 non-null object\n",
      "End Time                             132427 non-null object\n",
      "Starting Station ID                  132408 non-null float64\n",
      "Starting Station Latitude            132379 non-null float64\n",
      "Starting Station Longitude           132379 non-null float64\n",
      "Ending Station ID                    132331 non-null float64\n",
      "Ending Station Latitude              131376 non-null float64\n",
      "Ending Station Longitude             131376 non-null float64\n",
      "Bike ID                              132417 non-null float64\n",
      "Plan Duration                        131661 non-null float64\n",
      "Trip Route Category                  132427 non-null object\n",
      "Passholder Type                      132427 non-null object\n",
      "Starting Lat-Long                    98622 non-null object\n",
      "Ending Lat-Long                      131376 non-null object\n",
      "Neighborhood Councils (Certified)    98590 non-null float64\n",
      "Council Districts                    98590 non-null float64\n",
      "Zip Codes                            98590 non-null float64\n",
      "LA Specific Plans                    15837 non-null float64\n",
      "Precinct Boundaries                  131328 non-null float64\n",
      "Census Tracts                        131328 non-null float64\n",
      "dtypes: float64(14), int64(2), object(6)\n",
      "memory usage: 22.2+ MB\n"
     ]
    }
   ],
   "source": [
    "df.info()"
   ]
  },
  {
   "cell_type": "code",
   "execution_count": 5,
   "metadata": {
    "scrolled": false
   },
   "outputs": [
    {
     "data": {
      "text/plain": [
       "Trip ID                                   0\n",
       "Duration                                  0\n",
       "Start Time                                0\n",
       "End Time                                  0\n",
       "Starting Station ID                      19\n",
       "Starting Station Latitude                48\n",
       "Starting Station Longitude               48\n",
       "Ending Station ID                        96\n",
       "Ending Station Latitude                1051\n",
       "Ending Station Longitude               1051\n",
       "Bike ID                                  10\n",
       "Plan Duration                           766\n",
       "Trip Route Category                       0\n",
       "Passholder Type                           0\n",
       "Starting Lat-Long                     33805\n",
       "Ending Lat-Long                        1051\n",
       "Neighborhood Councils (Certified)     33837\n",
       "Council Districts                     33837\n",
       "Zip Codes                             33837\n",
       "LA Specific Plans                    116590\n",
       "Precinct Boundaries                    1099\n",
       "Census Tracts                          1099\n",
       "dtype: int64"
      ]
     },
     "execution_count": 5,
     "metadata": {},
     "output_type": "execute_result"
    }
   ],
   "source": [
    "df.isna().sum()"
   ]
  },
  {
   "cell_type": "code",
   "execution_count": 6,
   "metadata": {},
   "outputs": [],
   "source": [
    "df.drop(columns=['Starting Lat-Long',\n",
    "                 'Ending Lat-Long',\n",
    "                 'Neighborhood Councils (Certified)',\n",
    "                 'Council Districts',\n",
    "                 'Zip Codes',\n",
    "                 'LA Specific Plans',\n",
    "                 'Precinct Boundaries',\n",
    "                 'Census Tracts'],\n",
    "       inplace=True)\n",
    "df.Duration=df.Duration/60"
   ]
  },
  {
   "cell_type": "code",
   "execution_count": 7,
   "metadata": {},
   "outputs": [
    {
     "data": {
      "text/html": [
       "<div>\n",
       "<style scoped>\n",
       "    .dataframe tbody tr th:only-of-type {\n",
       "        vertical-align: middle;\n",
       "    }\n",
       "\n",
       "    .dataframe tbody tr th {\n",
       "        vertical-align: top;\n",
       "    }\n",
       "\n",
       "    .dataframe thead th {\n",
       "        text-align: right;\n",
       "    }\n",
       "</style>\n",
       "<table border=\"1\" class=\"dataframe\">\n",
       "  <thead>\n",
       "    <tr style=\"text-align: right;\">\n",
       "      <th></th>\n",
       "      <th>Trip ID</th>\n",
       "      <th>Duration</th>\n",
       "      <th>Start Time</th>\n",
       "      <th>End Time</th>\n",
       "      <th>Starting Station ID</th>\n",
       "      <th>Starting Station Latitude</th>\n",
       "      <th>Starting Station Longitude</th>\n",
       "      <th>Ending Station ID</th>\n",
       "      <th>Ending Station Latitude</th>\n",
       "      <th>Ending Station Longitude</th>\n",
       "      <th>Bike ID</th>\n",
       "      <th>Plan Duration</th>\n",
       "      <th>Trip Route Category</th>\n",
       "      <th>Passholder Type</th>\n",
       "    </tr>\n",
       "  </thead>\n",
       "  <tbody>\n",
       "    <tr>\n",
       "      <th>0</th>\n",
       "      <td>18222186</td>\n",
       "      <td>251.0</td>\n",
       "      <td>2017-01-19T17:05:00.000</td>\n",
       "      <td>2017-01-19T21:16:00.000</td>\n",
       "      <td>3031.0</td>\n",
       "      <td>34.044701</td>\n",
       "      <td>-118.252441</td>\n",
       "      <td>3000.0</td>\n",
       "      <td>NaN</td>\n",
       "      <td>NaN</td>\n",
       "      <td>5944.0</td>\n",
       "      <td>0.0</td>\n",
       "      <td>One Way</td>\n",
       "      <td>Walk-up</td>\n",
       "    </tr>\n",
       "    <tr>\n",
       "      <th>1</th>\n",
       "      <td>9518671</td>\n",
       "      <td>1286.0</td>\n",
       "      <td>2016-10-09T14:37:00.000</td>\n",
       "      <td>2016-10-10T12:03:00.000</td>\n",
       "      <td>NaN</td>\n",
       "      <td>NaN</td>\n",
       "      <td>NaN</td>\n",
       "      <td>3000.0</td>\n",
       "      <td>NaN</td>\n",
       "      <td>NaN</td>\n",
       "      <td>6603.0</td>\n",
       "      <td>30.0</td>\n",
       "      <td>One Way</td>\n",
       "      <td>Monthly Pass</td>\n",
       "    </tr>\n",
       "    <tr>\n",
       "      <th>2</th>\n",
       "      <td>20444932</td>\n",
       "      <td>1440.0</td>\n",
       "      <td>2017-02-18T10:15:00.000</td>\n",
       "      <td>2017-02-20T15:20:00.000</td>\n",
       "      <td>3026.0</td>\n",
       "      <td>34.063179</td>\n",
       "      <td>-118.245880</td>\n",
       "      <td>3000.0</td>\n",
       "      <td>NaN</td>\n",
       "      <td>NaN</td>\n",
       "      <td>5879.0</td>\n",
       "      <td>0.0</td>\n",
       "      <td>One Way</td>\n",
       "      <td>Walk-up</td>\n",
       "    </tr>\n",
       "    <tr>\n",
       "      <th>3</th>\n",
       "      <td>20905031</td>\n",
       "      <td>314.0</td>\n",
       "      <td>2017-02-27T12:26:00.000</td>\n",
       "      <td>2017-02-27T17:40:00.000</td>\n",
       "      <td>3023.0</td>\n",
       "      <td>34.050911</td>\n",
       "      <td>-118.240967</td>\n",
       "      <td>3000.0</td>\n",
       "      <td>NaN</td>\n",
       "      <td>NaN</td>\n",
       "      <td>6056.0</td>\n",
       "      <td>0.0</td>\n",
       "      <td>One Way</td>\n",
       "      <td>Walk-up</td>\n",
       "    </tr>\n",
       "    <tr>\n",
       "      <th>4</th>\n",
       "      <td>21031476</td>\n",
       "      <td>1440.0</td>\n",
       "      <td>2017-02-27T20:26:00.000</td>\n",
       "      <td>2017-03-01T09:49:00.000</td>\n",
       "      <td>3008.0</td>\n",
       "      <td>34.046612</td>\n",
       "      <td>-118.262733</td>\n",
       "      <td>3000.0</td>\n",
       "      <td>NaN</td>\n",
       "      <td>NaN</td>\n",
       "      <td>6054.0</td>\n",
       "      <td>365.0</td>\n",
       "      <td>One Way</td>\n",
       "      <td>Flex Pass</td>\n",
       "    </tr>\n",
       "  </tbody>\n",
       "</table>\n",
       "</div>"
      ],
      "text/plain": [
       "    Trip ID  Duration               Start Time                 End Time  \\\n",
       "0  18222186     251.0  2017-01-19T17:05:00.000  2017-01-19T21:16:00.000   \n",
       "1   9518671    1286.0  2016-10-09T14:37:00.000  2016-10-10T12:03:00.000   \n",
       "2  20444932    1440.0  2017-02-18T10:15:00.000  2017-02-20T15:20:00.000   \n",
       "3  20905031     314.0  2017-02-27T12:26:00.000  2017-02-27T17:40:00.000   \n",
       "4  21031476    1440.0  2017-02-27T20:26:00.000  2017-03-01T09:49:00.000   \n",
       "\n",
       "   Starting Station ID  Starting Station Latitude  Starting Station Longitude  \\\n",
       "0               3031.0                  34.044701                 -118.252441   \n",
       "1                  NaN                        NaN                         NaN   \n",
       "2               3026.0                  34.063179                 -118.245880   \n",
       "3               3023.0                  34.050911                 -118.240967   \n",
       "4               3008.0                  34.046612                 -118.262733   \n",
       "\n",
       "   Ending Station ID  Ending Station Latitude  Ending Station Longitude  \\\n",
       "0             3000.0                      NaN                       NaN   \n",
       "1             3000.0                      NaN                       NaN   \n",
       "2             3000.0                      NaN                       NaN   \n",
       "3             3000.0                      NaN                       NaN   \n",
       "4             3000.0                      NaN                       NaN   \n",
       "\n",
       "   Bike ID  Plan Duration Trip Route Category Passholder Type  \n",
       "0   5944.0            0.0             One Way         Walk-up  \n",
       "1   6603.0           30.0             One Way    Monthly Pass  \n",
       "2   5879.0            0.0             One Way         Walk-up  \n",
       "3   6056.0            0.0             One Way         Walk-up  \n",
       "4   6054.0          365.0             One Way       Flex Pass  "
      ]
     },
     "execution_count": 7,
     "metadata": {},
     "output_type": "execute_result"
    }
   ],
   "source": [
    "df.head()"
   ]
  },
  {
   "cell_type": "markdown",
   "metadata": {},
   "source": [
    "Trip ID can be used is a unique identifier and can be used as an index for this data.\n",
    "\n",
    "Remaining features had little missing data the largest source being just 1051 missing cells from over 132,000. Rows with missing data will be dropped from the datasets.\n",
    "\n",
    "Start Time and End Time will be converted to time series data types\n"
   ]
  },
  {
   "cell_type": "code",
   "execution_count": 8,
   "metadata": {},
   "outputs": [
    {
     "data": {
      "text/html": [
       "<div>\n",
       "<style scoped>\n",
       "    .dataframe tbody tr th:only-of-type {\n",
       "        vertical-align: middle;\n",
       "    }\n",
       "\n",
       "    .dataframe tbody tr th {\n",
       "        vertical-align: top;\n",
       "    }\n",
       "\n",
       "    .dataframe thead th {\n",
       "        text-align: right;\n",
       "    }\n",
       "</style>\n",
       "<table border=\"1\" class=\"dataframe\">\n",
       "  <thead>\n",
       "    <tr style=\"text-align: right;\">\n",
       "      <th></th>\n",
       "      <th>Duration</th>\n",
       "      <th>Start Time</th>\n",
       "      <th>End Time</th>\n",
       "      <th>Starting Station ID</th>\n",
       "      <th>Starting Station Latitude</th>\n",
       "      <th>Starting Station Longitude</th>\n",
       "      <th>Ending Station ID</th>\n",
       "      <th>Ending Station Latitude</th>\n",
       "      <th>Ending Station Longitude</th>\n",
       "      <th>Bike ID</th>\n",
       "      <th>Plan Duration</th>\n",
       "      <th>Trip Route Category</th>\n",
       "      <th>Passholder Type</th>\n",
       "    </tr>\n",
       "    <tr>\n",
       "      <th>Trip ID</th>\n",
       "      <th></th>\n",
       "      <th></th>\n",
       "      <th></th>\n",
       "      <th></th>\n",
       "      <th></th>\n",
       "      <th></th>\n",
       "      <th></th>\n",
       "      <th></th>\n",
       "      <th></th>\n",
       "      <th></th>\n",
       "      <th></th>\n",
       "      <th></th>\n",
       "      <th></th>\n",
       "    </tr>\n",
       "  </thead>\n",
       "  <tbody>\n",
       "    <tr>\n",
       "      <th>17848847</th>\n",
       "      <td>8.0</td>\n",
       "      <td>2017-01-13 21:32:00</td>\n",
       "      <td>2017-01-13 21:40:00</td>\n",
       "      <td>3082.0</td>\n",
       "      <td>34.046520</td>\n",
       "      <td>-118.237411</td>\n",
       "      <td>3036.0</td>\n",
       "      <td>34.039188</td>\n",
       "      <td>-118.232529</td>\n",
       "      <td>6474.0</td>\n",
       "      <td>0.0</td>\n",
       "      <td>One Way</td>\n",
       "      <td>Walk-up</td>\n",
       "    </tr>\n",
       "    <tr>\n",
       "      <th>20700706</th>\n",
       "      <td>9.0</td>\n",
       "      <td>2017-02-24 23:13:00</td>\n",
       "      <td>2017-02-24 23:22:00</td>\n",
       "      <td>3029.0</td>\n",
       "      <td>34.048851</td>\n",
       "      <td>-118.246422</td>\n",
       "      <td>3082.0</td>\n",
       "      <td>34.046520</td>\n",
       "      <td>-118.237411</td>\n",
       "      <td>5794.0</td>\n",
       "      <td>30.0</td>\n",
       "      <td>One Way</td>\n",
       "      <td>Monthly Pass</td>\n",
       "    </tr>\n",
       "    <tr>\n",
       "      <th>20595730</th>\n",
       "      <td>14.0</td>\n",
       "      <td>2017-02-23 07:34:00</td>\n",
       "      <td>2017-02-23 07:48:00</td>\n",
       "      <td>3022.0</td>\n",
       "      <td>34.046070</td>\n",
       "      <td>-118.233093</td>\n",
       "      <td>3005.0</td>\n",
       "      <td>34.048550</td>\n",
       "      <td>-118.259048</td>\n",
       "      <td>6604.0</td>\n",
       "      <td>30.0</td>\n",
       "      <td>One Way</td>\n",
       "      <td>Monthly Pass</td>\n",
       "    </tr>\n",
       "    <tr>\n",
       "      <th>17307719</th>\n",
       "      <td>7.0</td>\n",
       "      <td>2017-01-05 12:04:00</td>\n",
       "      <td>2017-01-05 12:11:00</td>\n",
       "      <td>3059.0</td>\n",
       "      <td>34.037949</td>\n",
       "      <td>-118.256271</td>\n",
       "      <td>3038.0</td>\n",
       "      <td>34.046822</td>\n",
       "      <td>-118.248352</td>\n",
       "      <td>6035.0</td>\n",
       "      <td>30.0</td>\n",
       "      <td>One Way</td>\n",
       "      <td>Monthly Pass</td>\n",
       "    </tr>\n",
       "    <tr>\n",
       "      <th>18941656</th>\n",
       "      <td>14.0</td>\n",
       "      <td>2017-01-30 20:19:00</td>\n",
       "      <td>2017-01-30 20:33:00</td>\n",
       "      <td>3035.0</td>\n",
       "      <td>34.048401</td>\n",
       "      <td>-118.260948</td>\n",
       "      <td>3040.0</td>\n",
       "      <td>34.053570</td>\n",
       "      <td>-118.266357</td>\n",
       "      <td>6728.0</td>\n",
       "      <td>0.0</td>\n",
       "      <td>One Way</td>\n",
       "      <td>Walk-up</td>\n",
       "    </tr>\n",
       "  </tbody>\n",
       "</table>\n",
       "</div>"
      ],
      "text/plain": [
       "          Duration          Start Time            End Time  \\\n",
       "Trip ID                                                      \n",
       "17848847       8.0 2017-01-13 21:32:00 2017-01-13 21:40:00   \n",
       "20700706       9.0 2017-02-24 23:13:00 2017-02-24 23:22:00   \n",
       "20595730      14.0 2017-02-23 07:34:00 2017-02-23 07:48:00   \n",
       "17307719       7.0 2017-01-05 12:04:00 2017-01-05 12:11:00   \n",
       "18941656      14.0 2017-01-30 20:19:00 2017-01-30 20:33:00   \n",
       "\n",
       "          Starting Station ID  Starting Station Latitude  \\\n",
       "Trip ID                                                    \n",
       "17848847               3082.0                  34.046520   \n",
       "20700706               3029.0                  34.048851   \n",
       "20595730               3022.0                  34.046070   \n",
       "17307719               3059.0                  34.037949   \n",
       "18941656               3035.0                  34.048401   \n",
       "\n",
       "          Starting Station Longitude  Ending Station ID  \\\n",
       "Trip ID                                                   \n",
       "17848847                 -118.237411             3036.0   \n",
       "20700706                 -118.246422             3082.0   \n",
       "20595730                 -118.233093             3005.0   \n",
       "17307719                 -118.256271             3038.0   \n",
       "18941656                 -118.260948             3040.0   \n",
       "\n",
       "          Ending Station Latitude  Ending Station Longitude  Bike ID  \\\n",
       "Trip ID                                                                \n",
       "17848847                34.039188               -118.232529   6474.0   \n",
       "20700706                34.046520               -118.237411   5794.0   \n",
       "20595730                34.048550               -118.259048   6604.0   \n",
       "17307719                34.046822               -118.248352   6035.0   \n",
       "18941656                34.053570               -118.266357   6728.0   \n",
       "\n",
       "          Plan Duration Trip Route Category Passholder Type  \n",
       "Trip ID                                                      \n",
       "17848847            0.0             One Way         Walk-up  \n",
       "20700706           30.0             One Way    Monthly Pass  \n",
       "20595730           30.0             One Way    Monthly Pass  \n",
       "17307719           30.0             One Way    Monthly Pass  \n",
       "18941656            0.0             One Way         Walk-up  "
      ]
     },
     "execution_count": 8,
     "metadata": {},
     "output_type": "execute_result"
    }
   ],
   "source": [
    "df.set_index('Trip ID', inplace=True)\n",
    "df.dropna(inplace=True)\n",
    "df['Start Time']= pd.to_datetime(df['Start Time'])\n",
    "df['End Time']=pd.to_datetime(df['End Time'])\n",
    "\n",
    "df.head()"
   ]
  },
  {
   "cell_type": "code",
   "execution_count": 9,
   "metadata": {
    "scrolled": false
   },
   "outputs": [
    {
     "data": {
      "text/html": [
       "<div>\n",
       "<style scoped>\n",
       "    .dataframe tbody tr th:only-of-type {\n",
       "        vertical-align: middle;\n",
       "    }\n",
       "\n",
       "    .dataframe tbody tr th {\n",
       "        vertical-align: top;\n",
       "    }\n",
       "\n",
       "    .dataframe thead th {\n",
       "        text-align: right;\n",
       "    }\n",
       "</style>\n",
       "<table border=\"1\" class=\"dataframe\">\n",
       "  <thead>\n",
       "    <tr style=\"text-align: right;\">\n",
       "      <th></th>\n",
       "      <th>Duration</th>\n",
       "      <th>Starting Station ID</th>\n",
       "      <th>Starting Station Latitude</th>\n",
       "      <th>Starting Station Longitude</th>\n",
       "      <th>Ending Station ID</th>\n",
       "      <th>Ending Station Latitude</th>\n",
       "      <th>Ending Station Longitude</th>\n",
       "      <th>Bike ID</th>\n",
       "      <th>Plan Duration</th>\n",
       "    </tr>\n",
       "  </thead>\n",
       "  <tbody>\n",
       "    <tr>\n",
       "      <th>count</th>\n",
       "      <td>130715.000000</td>\n",
       "      <td>130715.000000</td>\n",
       "      <td>130715.000000</td>\n",
       "      <td>130715.000000</td>\n",
       "      <td>130715.000000</td>\n",
       "      <td>130715.000000</td>\n",
       "      <td>130715.000000</td>\n",
       "      <td>130715.000000</td>\n",
       "      <td>130715.000000</td>\n",
       "    </tr>\n",
       "    <tr>\n",
       "      <th>mean</th>\n",
       "      <td>22.587155</td>\n",
       "      <td>3042.568756</td>\n",
       "      <td>34.039216</td>\n",
       "      <td>-118.221176</td>\n",
       "      <td>3041.993597</td>\n",
       "      <td>34.034566</td>\n",
       "      <td>-118.206420</td>\n",
       "      <td>6193.698114</td>\n",
       "      <td>44.905940</td>\n",
       "    </tr>\n",
       "    <tr>\n",
       "      <th>std</th>\n",
       "      <td>77.840790</td>\n",
       "      <td>30.970158</td>\n",
       "      <td>0.532694</td>\n",
       "      <td>1.849996</td>\n",
       "      <td>33.546514</td>\n",
       "      <td>0.652348</td>\n",
       "      <td>2.265617</td>\n",
       "      <td>293.303470</td>\n",
       "      <td>90.473737</td>\n",
       "    </tr>\n",
       "    <tr>\n",
       "      <th>min</th>\n",
       "      <td>1.000000</td>\n",
       "      <td>3005.000000</td>\n",
       "      <td>0.000000</td>\n",
       "      <td>-118.472832</td>\n",
       "      <td>3005.000000</td>\n",
       "      <td>0.000000</td>\n",
       "      <td>-118.472832</td>\n",
       "      <td>4727.000000</td>\n",
       "      <td>0.000000</td>\n",
       "    </tr>\n",
       "    <tr>\n",
       "      <th>25%</th>\n",
       "      <td>6.000000</td>\n",
       "      <td>3024.000000</td>\n",
       "      <td>34.044170</td>\n",
       "      <td>-118.256980</td>\n",
       "      <td>3023.000000</td>\n",
       "      <td>34.044159</td>\n",
       "      <td>-118.256981</td>\n",
       "      <td>5953.000000</td>\n",
       "      <td>0.000000</td>\n",
       "    </tr>\n",
       "    <tr>\n",
       "      <th>50%</th>\n",
       "      <td>10.000000</td>\n",
       "      <td>3039.000000</td>\n",
       "      <td>34.046822</td>\n",
       "      <td>-118.250954</td>\n",
       "      <td>3038.000000</td>\n",
       "      <td>34.046810</td>\n",
       "      <td>-118.250954</td>\n",
       "      <td>6186.000000</td>\n",
       "      <td>30.000000</td>\n",
       "    </tr>\n",
       "    <tr>\n",
       "      <th>75%</th>\n",
       "      <td>18.000000</td>\n",
       "      <td>3063.000000</td>\n",
       "      <td>34.050880</td>\n",
       "      <td>-118.241562</td>\n",
       "      <td>3063.000000</td>\n",
       "      <td>34.050480</td>\n",
       "      <td>-118.238810</td>\n",
       "      <td>6434.000000</td>\n",
       "      <td>30.000000</td>\n",
       "    </tr>\n",
       "    <tr>\n",
       "      <th>max</th>\n",
       "      <td>1440.000000</td>\n",
       "      <td>4108.000000</td>\n",
       "      <td>34.064281</td>\n",
       "      <td>0.000000</td>\n",
       "      <td>4108.000000</td>\n",
       "      <td>34.064281</td>\n",
       "      <td>0.000000</td>\n",
       "      <td>6728.000000</td>\n",
       "      <td>365.000000</td>\n",
       "    </tr>\n",
       "  </tbody>\n",
       "</table>\n",
       "</div>"
      ],
      "text/plain": [
       "            Duration  Starting Station ID  Starting Station Latitude  \\\n",
       "count  130715.000000        130715.000000              130715.000000   \n",
       "mean       22.587155          3042.568756                  34.039216   \n",
       "std        77.840790            30.970158                   0.532694   \n",
       "min         1.000000          3005.000000                   0.000000   \n",
       "25%         6.000000          3024.000000                  34.044170   \n",
       "50%        10.000000          3039.000000                  34.046822   \n",
       "75%        18.000000          3063.000000                  34.050880   \n",
       "max      1440.000000          4108.000000                  34.064281   \n",
       "\n",
       "       Starting Station Longitude  Ending Station ID  Ending Station Latitude  \\\n",
       "count               130715.000000      130715.000000            130715.000000   \n",
       "mean                  -118.221176        3041.993597                34.034566   \n",
       "std                      1.849996          33.546514                 0.652348   \n",
       "min                   -118.472832        3005.000000                 0.000000   \n",
       "25%                   -118.256980        3023.000000                34.044159   \n",
       "50%                   -118.250954        3038.000000                34.046810   \n",
       "75%                   -118.241562        3063.000000                34.050480   \n",
       "max                      0.000000        4108.000000                34.064281   \n",
       "\n",
       "       Ending Station Longitude        Bike ID  Plan Duration  \n",
       "count             130715.000000  130715.000000  130715.000000  \n",
       "mean                -118.206420    6193.698114      44.905940  \n",
       "std                    2.265617     293.303470      90.473737  \n",
       "min                 -118.472832    4727.000000       0.000000  \n",
       "25%                 -118.256981    5953.000000       0.000000  \n",
       "50%                 -118.250954    6186.000000      30.000000  \n",
       "75%                 -118.238810    6434.000000      30.000000  \n",
       "max                    0.000000    6728.000000     365.000000  "
      ]
     },
     "execution_count": 9,
     "metadata": {},
     "output_type": "execute_result"
    }
   ],
   "source": [
    "df.describe()"
   ]
  },
  {
   "cell_type": "markdown",
   "metadata": {},
   "source": [
    "Starting Station Latitude, Starting Station Longitude, Ending Station Latitude & Ending Station Longitude contain zeros that must be treated as missing data. However, there are no zeros or any remaining missing values in Starting Station ID or Ending Station ID, we can use these values to impute the missing data"
   ]
  },
  {
   "cell_type": "code",
   "execution_count": 10,
   "metadata": {
    "scrolled": true
   },
   "outputs": [
    {
     "data": {
      "text/plain": [
       "4108.0    32\n",
       "Name: Starting Station ID, dtype: int64"
      ]
     },
     "execution_count": 10,
     "metadata": {},
     "output_type": "execute_result"
    }
   ],
   "source": [
    "df.loc[df['Starting Station Latitude']==0]['Starting Station ID'].value_counts()"
   ]
  },
  {
   "cell_type": "code",
   "execution_count": 11,
   "metadata": {},
   "outputs": [
    {
     "data": {
      "text/plain": [
       "4108.0    32\n",
       "Name: Starting Station ID, dtype: int64"
      ]
     },
     "execution_count": 11,
     "metadata": {},
     "output_type": "execute_result"
    }
   ],
   "source": [
    "df.loc[df['Starting Station Longitude']==0]['Starting Station ID'].value_counts()"
   ]
  },
  {
   "cell_type": "code",
   "execution_count": 12,
   "metadata": {},
   "outputs": [
    {
     "data": {
      "text/plain": [
       "4108.0    48\n",
       "Name: Ending Station ID, dtype: int64"
      ]
     },
     "execution_count": 12,
     "metadata": {},
     "output_type": "execute_result"
    }
   ],
   "source": [
    "df.loc[df['Ending Station Latitude']==0]['Ending Station ID'].value_counts()"
   ]
  },
  {
   "cell_type": "code",
   "execution_count": 13,
   "metadata": {},
   "outputs": [
    {
     "data": {
      "text/plain": [
       "4108.0    48\n",
       "Name: Ending Station ID, dtype: int64"
      ]
     },
     "execution_count": 13,
     "metadata": {},
     "output_type": "execute_result"
    }
   ],
   "source": [
    "df.loc[df['Ending Station Longitude']==0]['Ending Station ID'].value_counts()"
   ]
  },
  {
   "cell_type": "markdown",
   "metadata": {},
   "source": [
    "All of the zeros were recorded at Bike Station 4108, there may be some kind of error related to this particular Bike Station. The values of this bike station's latitude and Longitude can be found in any of the complete values and imputed over the zeros"
   ]
  },
  {
   "cell_type": "code",
   "execution_count": 14,
   "metadata": {},
   "outputs": [],
   "source": [
    "stat_4108_lat= df.loc[df['Starting Station ID']==4108]['Starting Station Latitude'].max() #use max to avoid the zeros\n",
    "stat_4108_long= df.loc[df['Starting Station ID']==4108]['Starting Station Longitude'].min()\n",
    " #all non-zeroes are the same anyway no need to find and replace\n",
    "df['Starting Station Latitude'].replace(0,stat_4108_lat,inplace=True)\n",
    "df['Ending Station Latitude'].replace(0,stat_4108_lat,inplace=True)\n",
    "df['Starting Station Longitude'].replace(0,stat_4108_long,inplace=True)\n",
    "df['Ending Station Longitude'].replace(0,stat_4108_long,inplace=True)"
   ]
  },
  {
   "cell_type": "code",
   "execution_count": 15,
   "metadata": {},
   "outputs": [
    {
     "data": {
      "text/html": [
       "<div>\n",
       "<style scoped>\n",
       "    .dataframe tbody tr th:only-of-type {\n",
       "        vertical-align: middle;\n",
       "    }\n",
       "\n",
       "    .dataframe tbody tr th {\n",
       "        vertical-align: top;\n",
       "    }\n",
       "\n",
       "    .dataframe thead th {\n",
       "        text-align: right;\n",
       "    }\n",
       "</style>\n",
       "<table border=\"1\" class=\"dataframe\">\n",
       "  <thead>\n",
       "    <tr style=\"text-align: right;\">\n",
       "      <th></th>\n",
       "      <th>Duration</th>\n",
       "      <th>Starting Station ID</th>\n",
       "      <th>Starting Station Latitude</th>\n",
       "      <th>Starting Station Longitude</th>\n",
       "      <th>Ending Station ID</th>\n",
       "      <th>Ending Station Latitude</th>\n",
       "      <th>Ending Station Longitude</th>\n",
       "      <th>Bike ID</th>\n",
       "      <th>Plan Duration</th>\n",
       "    </tr>\n",
       "  </thead>\n",
       "  <tbody>\n",
       "    <tr>\n",
       "      <th>count</th>\n",
       "      <td>130715.000000</td>\n",
       "      <td>130715.000000</td>\n",
       "      <td>130715.000000</td>\n",
       "      <td>130715.000000</td>\n",
       "      <td>130715.000000</td>\n",
       "      <td>130715.000000</td>\n",
       "      <td>130715.000000</td>\n",
       "      <td>130715.000000</td>\n",
       "      <td>130715.000000</td>\n",
       "    </tr>\n",
       "    <tr>\n",
       "      <th>mean</th>\n",
       "      <td>22.587155</td>\n",
       "      <td>3042.568756</td>\n",
       "      <td>34.047546</td>\n",
       "      <td>-118.250122</td>\n",
       "      <td>3041.993597</td>\n",
       "      <td>34.047060</td>\n",
       "      <td>-118.249839</td>\n",
       "      <td>6193.698114</td>\n",
       "      <td>44.905940</td>\n",
       "    </tr>\n",
       "    <tr>\n",
       "      <th>std</th>\n",
       "      <td>77.840790</td>\n",
       "      <td>30.970158</td>\n",
       "      <td>0.006358</td>\n",
       "      <td>0.011475</td>\n",
       "      <td>33.546514</td>\n",
       "      <td>0.006277</td>\n",
       "      <td>0.011983</td>\n",
       "      <td>293.303470</td>\n",
       "      <td>90.473737</td>\n",
       "    </tr>\n",
       "    <tr>\n",
       "      <th>min</th>\n",
       "      <td>1.000000</td>\n",
       "      <td>3005.000000</td>\n",
       "      <td>33.987381</td>\n",
       "      <td>-118.472832</td>\n",
       "      <td>3005.000000</td>\n",
       "      <td>33.987381</td>\n",
       "      <td>-118.472832</td>\n",
       "      <td>4727.000000</td>\n",
       "      <td>0.000000</td>\n",
       "    </tr>\n",
       "    <tr>\n",
       "      <th>25%</th>\n",
       "      <td>6.000000</td>\n",
       "      <td>3024.000000</td>\n",
       "      <td>34.044170</td>\n",
       "      <td>-118.256980</td>\n",
       "      <td>3023.000000</td>\n",
       "      <td>34.044159</td>\n",
       "      <td>-118.256981</td>\n",
       "      <td>5953.000000</td>\n",
       "      <td>0.000000</td>\n",
       "    </tr>\n",
       "    <tr>\n",
       "      <th>50%</th>\n",
       "      <td>10.000000</td>\n",
       "      <td>3039.000000</td>\n",
       "      <td>34.046822</td>\n",
       "      <td>-118.250954</td>\n",
       "      <td>3038.000000</td>\n",
       "      <td>34.046810</td>\n",
       "      <td>-118.250954</td>\n",
       "      <td>6186.000000</td>\n",
       "      <td>30.000000</td>\n",
       "    </tr>\n",
       "    <tr>\n",
       "      <th>75%</th>\n",
       "      <td>18.000000</td>\n",
       "      <td>3063.000000</td>\n",
       "      <td>34.050880</td>\n",
       "      <td>-118.241562</td>\n",
       "      <td>3063.000000</td>\n",
       "      <td>34.050480</td>\n",
       "      <td>-118.238810</td>\n",
       "      <td>6434.000000</td>\n",
       "      <td>30.000000</td>\n",
       "    </tr>\n",
       "    <tr>\n",
       "      <th>max</th>\n",
       "      <td>1440.000000</td>\n",
       "      <td>4108.000000</td>\n",
       "      <td>34.064281</td>\n",
       "      <td>-118.231277</td>\n",
       "      <td>4108.000000</td>\n",
       "      <td>34.064281</td>\n",
       "      <td>-118.231277</td>\n",
       "      <td>6728.000000</td>\n",
       "      <td>365.000000</td>\n",
       "    </tr>\n",
       "  </tbody>\n",
       "</table>\n",
       "</div>"
      ],
      "text/plain": [
       "            Duration  Starting Station ID  Starting Station Latitude  \\\n",
       "count  130715.000000        130715.000000              130715.000000   \n",
       "mean       22.587155          3042.568756                  34.047546   \n",
       "std        77.840790            30.970158                   0.006358   \n",
       "min         1.000000          3005.000000                  33.987381   \n",
       "25%         6.000000          3024.000000                  34.044170   \n",
       "50%        10.000000          3039.000000                  34.046822   \n",
       "75%        18.000000          3063.000000                  34.050880   \n",
       "max      1440.000000          4108.000000                  34.064281   \n",
       "\n",
       "       Starting Station Longitude  Ending Station ID  Ending Station Latitude  \\\n",
       "count               130715.000000      130715.000000            130715.000000   \n",
       "mean                  -118.250122        3041.993597                34.047060   \n",
       "std                      0.011475          33.546514                 0.006277   \n",
       "min                   -118.472832        3005.000000                33.987381   \n",
       "25%                   -118.256980        3023.000000                34.044159   \n",
       "50%                   -118.250954        3038.000000                34.046810   \n",
       "75%                   -118.241562        3063.000000                34.050480   \n",
       "max                   -118.231277        4108.000000                34.064281   \n",
       "\n",
       "       Ending Station Longitude        Bike ID  Plan Duration  \n",
       "count             130715.000000  130715.000000  130715.000000  \n",
       "mean                -118.249839    6193.698114      44.905940  \n",
       "std                    0.011983     293.303470      90.473737  \n",
       "min                 -118.472832    4727.000000       0.000000  \n",
       "25%                 -118.256981    5953.000000       0.000000  \n",
       "50%                 -118.250954    6186.000000      30.000000  \n",
       "75%                 -118.238810    6434.000000      30.000000  \n",
       "max                 -118.231277    6728.000000     365.000000  "
      ]
     },
     "execution_count": 15,
     "metadata": {},
     "output_type": "execute_result"
    }
   ],
   "source": [
    "df.describe()"
   ]
  },
  {
   "cell_type": "markdown",
   "metadata": {},
   "source": [
    "Our dataset is now free of missing values"
   ]
  },
  {
   "cell_type": "markdown",
   "metadata": {},
   "source": [
    "### Geographic Investigation & Visualisation"
   ]
  },
  {
   "cell_type": "code",
   "execution_count": 16,
   "metadata": {
    "scrolled": false
   },
   "outputs": [
    {
     "data": {
      "image/png": "[encoded data removed]",
      "text/plain": [
       "<Figure size 1008x360 with 2 Axes>"
      ]
     },
     "metadata": {
      "needs_background": "light"
     },
     "output_type": "display_data"
    }
   ],
   "source": [
    "plt.figure(figsize=(14,5))\n",
    "plt.subplot(1,2,1)\n",
    "plt.scatter(df['Starting Station Latitude'],df['Starting Station Longitude'],alpha=0.3)\n",
    "plt.title(\"Starting Station Latitude and Longitude\")\n",
    "plt.subplot(1,2,2)\n",
    "plt.scatter(df['Ending Station Latitude'],df['Ending Station Longitude'],alpha=0.3)\n",
    "plt.title(\"Ending Station Latitude and Longitude\")\n",
    "plt.show()"
   ]
  },
  {
   "cell_type": "markdown",
   "metadata": {},
   "source": [
    "Matching plots indicate there are no start points that had no drop off and vice-versa this would seem logical"
   ]
  },
  {
   "cell_type": "code",
   "execution_count": 17,
   "metadata": {},
   "outputs": [
    {
     "data": {
      "text/plain": [
       "True"
      ]
     },
     "execution_count": 17,
     "metadata": {},
     "output_type": "execute_result"
    }
   ],
   "source": [
    "sorted(df['Starting Station ID'].unique())==sorted(df['Ending Station ID'].unique())"
   ]
  },
  {
   "cell_type": "markdown",
   "metadata": {},
   "source": [
    "This confirms that the Starting and Ending Stations sets are identical as expected"
   ]
  },
  {
   "cell_type": "markdown",
   "metadata": {},
   "source": [
    "Now would a great time for a map!"
   ]
  },
  {
   "cell_type": "code",
   "execution_count": 1,
   "metadata": {},
   "outputs": [
    {
     "ename": "NameError",
     "evalue": "name 'df' is not defined",
     "output_type": "error",
     "traceback": [
      "\u001b[1;31m---------------------------------------------------------------------------\u001b[0m",
      "\u001b[1;31mNameError\u001b[0m                                 Traceback (most recent call last)",
      "\u001b[1;32m<ipython-input-1-632c2129eb6a>\u001b[0m in \u001b[0;36m<module>\u001b[1;34m()\u001b[0m\n\u001b[0;32m      1\u001b[0m \u001b[1;32mimport\u001b[0m \u001b[0mfolium\u001b[0m\u001b[1;33m\u001b[0m\u001b[0m\n\u001b[1;32m----> 2\u001b[1;33m \u001b[0mbike_map1\u001b[0m\u001b[1;33m=\u001b[0m\u001b[0mfolium\u001b[0m\u001b[1;33m.\u001b[0m\u001b[0mMap\u001b[0m\u001b[1;33m(\u001b[0m\u001b[1;33m[\u001b[0m\u001b[0mdf\u001b[0m\u001b[1;33m[\u001b[0m\u001b[1;34m'Starting Station Latitude'\u001b[0m\u001b[1;33m]\u001b[0m\u001b[1;33m.\u001b[0m\u001b[0mvalues\u001b[0m\u001b[1;33m[\u001b[0m\u001b[1;36m0\u001b[0m\u001b[1;33m]\u001b[0m\u001b[1;33m,\u001b[0m\u001b[0mdf\u001b[0m\u001b[1;33m[\u001b[0m\u001b[1;34m'Starting Station Longitude'\u001b[0m\u001b[1;33m]\u001b[0m\u001b[1;33m.\u001b[0m\u001b[0mvalues\u001b[0m\u001b[1;33m[\u001b[0m\u001b[1;36m0\u001b[0m\u001b[1;33m]\u001b[0m\u001b[1;33m]\u001b[0m\u001b[1;33m)\u001b[0m\u001b[1;33m\u001b[0m\u001b[0m\n\u001b[0m\u001b[0;32m      3\u001b[0m \u001b[1;32mfor\u001b[0m \u001b[0mstation\u001b[0m \u001b[1;32min\u001b[0m \u001b[0mdf\u001b[0m\u001b[1;33m[\u001b[0m\u001b[1;34m'Starting Station ID'\u001b[0m\u001b[1;33m]\u001b[0m\u001b[1;33m.\u001b[0m\u001b[0munique\u001b[0m\u001b[1;33m(\u001b[0m\u001b[1;33m)\u001b[0m\u001b[1;33m:\u001b[0m\u001b[1;33m\u001b[0m\u001b[0m\n\u001b[0;32m      4\u001b[0m     \u001b[0mlat\u001b[0m\u001b[1;33m=\u001b[0m\u001b[0mdf\u001b[0m\u001b[1;33m.\u001b[0m\u001b[0mloc\u001b[0m\u001b[1;33m[\u001b[0m\u001b[0mdf\u001b[0m\u001b[1;33m[\u001b[0m\u001b[1;34m'Starting Station ID'\u001b[0m\u001b[1;33m]\u001b[0m\u001b[1;33m==\u001b[0m\u001b[0mstation\u001b[0m\u001b[1;33m]\u001b[0m\u001b[1;33m[\u001b[0m\u001b[1;34m'Starting Station Latitude'\u001b[0m\u001b[1;33m]\u001b[0m\u001b[1;33m.\u001b[0m\u001b[0mdropna\u001b[0m\u001b[1;33m(\u001b[0m\u001b[1;33m)\u001b[0m\u001b[1;33m.\u001b[0m\u001b[0mvalues\u001b[0m\u001b[1;33m[\u001b[0m\u001b[1;36m0\u001b[0m\u001b[1;33m]\u001b[0m\u001b[1;33m\u001b[0m\u001b[0m\n\u001b[0;32m      5\u001b[0m     \u001b[0mlon\u001b[0m\u001b[1;33m=\u001b[0m\u001b[0mdf\u001b[0m\u001b[1;33m.\u001b[0m\u001b[0mloc\u001b[0m\u001b[1;33m[\u001b[0m\u001b[0mdf\u001b[0m\u001b[1;33m[\u001b[0m\u001b[1;34m'Starting Station ID'\u001b[0m\u001b[1;33m]\u001b[0m\u001b[1;33m==\u001b[0m\u001b[0mstation\u001b[0m\u001b[1;33m]\u001b[0m\u001b[1;33m[\u001b[0m\u001b[1;34m'Starting Station Longitude'\u001b[0m\u001b[1;33m]\u001b[0m\u001b[1;33m.\u001b[0m\u001b[0mdropna\u001b[0m\u001b[1;33m(\u001b[0m\u001b[1;33m)\u001b[0m\u001b[1;33m.\u001b[0m\u001b[0mvalues\u001b[0m\u001b[1;33m[\u001b[0m\u001b[1;36m0\u001b[0m\u001b[1;33m]\u001b[0m\u001b[1;33m\u001b[0m\u001b[0m\n",
      "\u001b[1;31mNameError\u001b[0m: name 'df' is not defined"
     ]
    }
   ],
   "source": [
    "import folium\n",
    "bike_map1=folium.Map([df['Starting Station Latitude'].values[0],df['Starting Station Longitude'].values[0]])\n",
    "for station in df['Starting Station ID'].unique():\n",
    "    lat=df.loc[df['Starting Station ID']==station]['Starting Station Latitude'].values[0]\n",
    "    lon=df.loc[df['Starting Station ID']==station]['Starting Station Longitude'].values[0]\n",
    "    marker=folium.Marker([lat,lon],popup=str(station))\n",
    "    marker.add_to(bike_map1)\n",
    "\n",
    "bike_map1"
   ]
  },
  {
   "cell_type": "markdown",
   "metadata": {},
   "source": [
    "Almost all the Bike Stations are located in Downtown LA with the exception of 2; 1 in Culver City(id = 3039), and 1 in Venice (id = 3009)"
   ]
  },
  {
   "cell_type": "markdown",
   "metadata": {},
   "source": [
    "Lets look closer at the traffic to and from these 2 outlying bike stations, are they outliers?"
   ]
  },
  {
   "cell_type": "code",
   "execution_count": 103,
   "metadata": {
    "scrolled": true
   },
   "outputs": [
    {
     "data": {
      "text/plain": [
       "3039.0    77\n",
       "3009.0    35\n",
       "Name: Ending Station ID, dtype: int64"
      ]
     },
     "execution_count": 103,
     "metadata": {},
     "output_type": "execute_result"
    }
   ],
   "source": [
    "df.loc[df['Starting Station ID']==3039]['Ending Station ID'].value_counts()"
   ]
  },
  {
   "cell_type": "code",
   "execution_count": 104,
   "metadata": {},
   "outputs": [
    {
     "data": {
      "text/plain": [
       "3039.0    77\n",
       "3009.0    26\n",
       "3064.0     6\n",
       "3005.0     2\n",
       "3052.0     1\n",
       "Name: Starting Station ID, dtype: int64"
      ]
     },
     "execution_count": 104,
     "metadata": {},
     "output_type": "execute_result"
    }
   ],
   "source": [
    "df.loc[df['Ending Station ID']==3039]['Starting Station ID'].value_counts()"
   ]
  },
  {
   "cell_type": "code",
   "execution_count": 105,
   "metadata": {},
   "outputs": [
    {
     "data": {
      "text/plain": [
       "3039.0    26\n",
       "3009.0    25\n",
       "Name: Ending Station ID, dtype: int64"
      ]
     },
     "execution_count": 105,
     "metadata": {},
     "output_type": "execute_result"
    }
   ],
   "source": [
    "df.loc[df['Starting Station ID']==3009]['Ending Station ID'].value_counts()"
   ]
  },
  {
   "cell_type": "code",
   "execution_count": 106,
   "metadata": {},
   "outputs": [
    {
     "data": {
      "text/plain": [
       "3039.0    35\n",
       "3009.0    25\n",
       "3011.0     1\n",
       "3027.0     1\n",
       "3005.0     1\n",
       "3042.0     1\n",
       "Name: Starting Station ID, dtype: int64"
      ]
     },
     "execution_count": 106,
     "metadata": {},
     "output_type": "execute_result"
    }
   ],
   "source": [
    "df.loc[df['Ending Station ID']==3009]['Starting Station ID'].value_counts()"
   ]
  },
  {
   "cell_type": "markdown",
   "metadata": {},
   "source": [
    "Almost all of the trips made to and from these bike stations are either round trips to the same place or from one of the two to the other. These two stations are almost completely disconnected from the Downtown LA network.\n",
    "\n",
    "They also only account for a very tiny fraction of the rides total; from over 130k rides just 163 are to or from these two stations, I wonder why that is?"
   ]
  },
  {
   "cell_type": "code",
   "execution_count": 107,
   "metadata": {},
   "outputs": [
    {
     "name": "stdout",
     "output_type": "stream",
     "text": [
      "The first trip made FROM bike Station 3039 (Culver City) was on :  2017-03-26 07:30:00\n",
      "The last trip made FROM bike Station 3039 (Culver City) was on :  2017-03-26 15:06:00\n",
      "The first trip made FROM bike Station 3009 (Venice) was on :  2017-03-26 08:30:00\n",
      "The last trip made FROM bike Station 309 (Venice) was on :  2017-03-26 15:31:00\n",
      "The first trip made TO bike Station 3039 (Culver City) was on :  2017-03-26 07:30:00\n",
      "The last trip made TO bike Station 3039 (Culver City) was on :  2017-03-26 15:31:00\n",
      "The first trip made TO bike Station 3009 (Venice) was on :  2017-03-26 07:45:00\n",
      "The last trip made TO bike Station 309 (Venice) was on :  2017-03-26 14:11:00\n"
     ]
    }
   ],
   "source": [
    "print('The first trip made FROM bike Station 3039 (Culver City) was on : ',df.loc[df['Starting Station ID']==3039]['Start Time'].min())\n",
    "print('The last trip made FROM bike Station 3039 (Culver City) was on : ',df.loc[df['Starting Station ID']==3039]['Start Time'].max())\n",
    "print('The first trip made FROM bike Station 3009 (Venice) was on : ',df.loc[df['Starting Station ID']==3009]['Start Time'].min())\n",
    "print('The last trip made FROM bike Station 309 (Venice) was on : ',df.loc[df['Starting Station ID']==3009]['Start Time'].max())\n",
    "\n",
    "print('The first trip made TO bike Station 3039 (Culver City) was on : ',df.loc[df['Ending Station ID']==3039]['Start Time'].min())\n",
    "print('The last trip made TO bike Station 3039 (Culver City) was on : ',df.loc[df['Ending Station ID']==3039]['Start Time'].max())\n",
    "print('The first trip made TO bike Station 3009 (Venice) was on : ',df.loc[df['Ending Station ID']==3009]['Start Time'].min())\n",
    "print('The last trip made TO bike Station 309 (Venice) was on : ',df.loc[df['Ending Station ID']==3009]['Start Time'].max())"
   ]
  },
  {
   "cell_type": "markdown",
   "metadata": {},
   "source": [
    "All these the trips to and from Culver City and Venice are on the same day; 2017-03-26 which is the last weekend day of the dataset. What may be the case is that this station was only operational beginning that day (or that weekend)so it was only  used on the sunday by people going to and from the beach but these new stations were not used during the week as part of anyone's regular commute. Atl least not yet."
   ]
  },
  {
   "cell_type": "markdown",
   "metadata": {},
   "source": [
    "Lets explore some of the distinctive characteristics of these other Bike Stations further:"
   ]
  },
  {
   "cell_type": "code",
   "execution_count": 108,
   "metadata": {},
   "outputs": [
    {
     "data": {
      "text/plain": [
       "3020.0    522\n",
       "3010.0    420\n",
       "3060.0    379\n",
       "3057.0    371\n",
       "3080.0    189\n",
       "3045.0    185\n",
       "3039.0    112\n",
       "4108.0     53\n",
       "3009.0     51\n",
       "3053.0     15\n",
       "Name: Starting Station ID, dtype: int64"
      ]
     },
     "execution_count": 108,
     "metadata": {},
     "output_type": "execute_result"
    }
   ],
   "source": [
    "df['Starting Station ID'].value_counts().tail(10)"
   ]
  },
  {
   "cell_type": "code",
   "execution_count": 109,
   "metadata": {},
   "outputs": [
    {
     "data": {
      "text/plain": [
       "3028.0    516\n",
       "3010.0    406\n",
       "3057.0    398\n",
       "3060.0    390\n",
       "3045.0    319\n",
       "3080.0    173\n",
       "3039.0    112\n",
       "4108.0     70\n",
       "3009.0     64\n",
       "3053.0     12\n",
       "Name: Ending Station ID, dtype: int64"
      ]
     },
     "execution_count": 109,
     "metadata": {},
     "output_type": "execute_result"
    }
   ],
   "source": [
    "df['Ending Station ID'].value_counts().tail(10)"
   ]
  },
  {
   "cell_type": "markdown",
   "metadata": {},
   "source": [
    "Bike Station 4108, which was our station with the apparent logging errors, also has relatively few trips to and from it, from the map it is a little separated from the rest of the downtown set"
   ]
  },
  {
   "cell_type": "code",
   "execution_count": 110,
   "metadata": {},
   "outputs": [
    {
     "data": {
      "text/plain": [
       "Round Trip    0.735849\n",
       "One Way       0.264151\n",
       "Name: Trip Route Category, dtype: float64"
      ]
     },
     "execution_count": 110,
     "metadata": {},
     "output_type": "execute_result"
    }
   ],
   "source": [
    "df.loc[df['Starting Station ID']==4108]['Trip Route Category'].value_counts(normalize=True)"
   ]
  },
  {
   "cell_type": "code",
   "execution_count": 111,
   "metadata": {},
   "outputs": [
    {
     "data": {
      "text/plain": [
       "Round Trip    0.557143\n",
       "One Way       0.442857\n",
       "Name: Trip Route Category, dtype: float64"
      ]
     },
     "execution_count": 111,
     "metadata": {},
     "output_type": "execute_result"
    }
   ],
   "source": [
    "df.loc[df['Ending Station ID']==4108]['Trip Route Category'].value_counts(normalize=True)"
   ]
  },
  {
   "cell_type": "markdown",
   "metadata": {},
   "source": [
    "Bike Station ID 4108 is dominantly Round-Trip traffic, this is very unusual for this dataset! "
   ]
  },
  {
   "cell_type": "markdown",
   "metadata": {},
   "source": [
    "Bike Station 3053 has the least number of rides to and from it but it appears to be right in the mix of things"
   ]
  },
  {
   "cell_type": "code",
   "execution_count": 112,
   "metadata": {
    "scrolled": true
   },
   "outputs": [
    {
     "data": {
      "text/plain": [
       "Trip ID\n",
       "2137435   2016-07-09 12:42:00\n",
       "2057407   2016-07-08 17:46:00\n",
       "2419835   2016-07-11 07:50:00\n",
       "2057407   2016-07-08 17:46:00\n",
       "2419835   2016-07-11 07:50:00\n",
       "2116360   2016-07-09 07:12:00\n",
       "2321036   2016-07-10 17:42:00\n",
       "2419838   2016-07-11 07:32:00\n",
       "2335086   2016-07-10 15:41:00\n",
       "2019541   2016-07-08 08:39:00\n",
       "2176181   2016-07-09 19:11:00\n",
       "2314140   2016-07-10 15:18:00\n",
       "2062197   2016-07-08 18:22:00\n",
       "2169928   2016-07-09 18:40:00\n",
       "2137436   2016-07-09 12:42:00\n",
       "Name: Start Time, dtype: datetime64[ns]"
      ]
     },
     "execution_count": 112,
     "metadata": {},
     "output_type": "execute_result"
    }
   ],
   "source": [
    "df.loc[df['Starting Station ID']==3053]['Start Time']"
   ]
  },
  {
   "cell_type": "code",
   "execution_count": 113,
   "metadata": {},
   "outputs": [
    {
     "data": {
      "text/plain": [
       "Trip ID\n",
       "2067007   2016-07-08 19:03:00\n",
       "2152686   2016-07-09 15:49:00\n",
       "2066991   2016-07-08 19:33:00\n",
       "2158281   2016-07-09 16:35:00\n",
       "2188763   2016-07-09 21:37:00\n",
       "2426970   2016-07-11 08:05:00\n",
       "2158278   2016-07-09 16:36:00\n",
       "2280145   2016-07-10 10:58:00\n",
       "2170049   2016-07-09 17:50:00\n",
       "2116315   2016-07-09 07:36:00\n",
       "1947931   2016-07-07 13:51:00\n",
       "2188775   2016-07-09 20:55:00\n",
       "Name: Start Time, dtype: datetime64[ns]"
      ]
     },
     "execution_count": 113,
     "metadata": {},
     "output_type": "execute_result"
    }
   ],
   "source": [
    "df.loc[df['Ending Station ID']==3053]['Start Time']"
   ]
  },
  {
   "cell_type": "code",
   "execution_count": 114,
   "metadata": {},
   "outputs": [
    {
     "name": "stdout",
     "output_type": "stream",
     "text": [
      "The first trip made FROM bike Station 3053 was on :  2016-07-08 08:39:00\n",
      "The last trip made FROM bike Station 3053 was on :  2016-07-11 07:50:00\n",
      "The first trip made TO bike Station 3053 was on :  2016-07-07 13:51:00\n",
      "The last trip made TO bike Station 30053 was on :  2016-07-11 08:05:00\n"
     ]
    }
   ],
   "source": [
    "print('The first trip made FROM bike Station 3053 was on : ',df.loc[df['Starting Station ID']==3053]['Start Time'].min())\n",
    "print('The last trip made FROM bike Station 3053 was on : ',df.loc[df['Starting Station ID']==3053]['Start Time'].max())\n",
    "print('The first trip made TO bike Station 3053 was on : ',df.loc[df['Ending Station ID']==3053]['Start Time'].min())\n",
    "print('The last trip made TO bike Station 30053 was on : ',df.loc[df['Ending Station ID']==3053]['Start Time'].max())"
   ]
  },
  {
   "cell_type": "markdown",
   "metadata": {},
   "source": [
    "All trips made over just 5 days from the 7th of July 2016 (the first day of the dataset) to the 11th of July 2016. Is it possible this Bike Station was decomissioned? "
   ]
  },
  {
   "cell_type": "code",
   "execution_count": null,
   "metadata": {},
   "outputs": [],
   "source": []
  },
  {
   "cell_type": "markdown",
   "metadata": {},
   "source": [
    "### Time Series Investigation & Visualisation"
   ]
  },
  {
   "cell_type": "code",
   "execution_count": null,
   "metadata": {},
   "outputs": [],
   "source": []
  },
  {
   "cell_type": "code",
   "execution_count": 115,
   "metadata": {},
   "outputs": [
    {
     "data": {
      "text/plain": [
       "Timestamp('2016-07-07 04:17:00')"
      ]
     },
     "execution_count": 115,
     "metadata": {},
     "output_type": "execute_result"
    }
   ],
   "source": [
    "df['Start Time'].min()"
   ]
  },
  {
   "cell_type": "code",
   "execution_count": 116,
   "metadata": {},
   "outputs": [
    {
     "data": {
      "text/plain": [
       "Timestamp('2017-03-31 23:45:00')"
      ]
     },
     "execution_count": 116,
     "metadata": {},
     "output_type": "execute_result"
    }
   ],
   "source": [
    "df['Start Time'].max()"
   ]
  },
  {
   "cell_type": "code",
   "execution_count": 117,
   "metadata": {
    "scrolled": false
   },
   "outputs": [
    {
     "data": {
      "image/png": "[encoded data removed]",
      "text/plain": [
       "<Figure size 1080x288 with 1 Axes>"
      ]
     },
     "metadata": {
      "needs_background": "light"
     },
     "output_type": "display_data"
    }
   ],
   "source": [
    "df['Start Time'].hist(figsize=(15,4))\n",
    "plt.title('Ride Timeline Histogram')\n",
    "plt.show()"
   ]
  },
  {
   "cell_type": "markdown",
   "metadata": {},
   "source": [
    "Rides data is assumed to be complete over the timeperiod starting from the 7th of July 2016 to the 31st of March 2017. In the above histogram we can see the growth in popularity over the summer months. Ridership declines as summer turns into autumn turns into winter dropping to its lowest point in wht we would expect to be the coldest part of winter of 2017 and the nincreasing as spring begins to arrive. Unfortunately the time period encompasses less than 1 year so we are unable to observe a full cyclical seasonality on ridership"
   ]
  },
  {
   "cell_type": "code",
   "execution_count": 118,
   "metadata": {},
   "outputs": [
    {
     "data": {
      "text/plain": [
       "August       24148\n",
       "September    19861\n",
       "October      17863\n",
       "November     14196\n",
       "March        13564\n",
       "July         11430\n",
       "December     10327\n",
       "January      10053\n",
       "February      9273\n",
       "Name: Start Month, dtype: int64"
      ]
     },
     "execution_count": 118,
     "metadata": {},
     "output_type": "execute_result"
    }
   ],
   "source": [
    "df['Start Month']=df['Start Time'].dt.month_name()\n",
    "\n",
    "df['Start Month'].value_counts()"
   ]
  },
  {
   "cell_type": "code",
   "execution_count": 121,
   "metadata": {},
   "outputs": [
    {
     "data": {
      "image/png": "[encoded data removed]",
      "text/plain": [
       "<Figure size 1008x360 with 1 Axes>"
      ]
     },
     "metadata": {
      "needs_background": "light"
     },
     "output_type": "display_data"
    }
   ],
   "source": [
    "plt.figure(figsize=(14,5))\n",
    "plt.bar(df['Start Month'].value_counts().index,df['Start Month'].value_counts().values)\n",
    "plt.title('Number of Rides by Month of Year')\n",
    "plt.show()"
   ]
  },
  {
   "cell_type": "code",
   "execution_count": 122,
   "metadata": {
    "scrolled": true
   },
   "outputs": [
    {
     "data": {
      "text/plain": [
       "Thursday     20087\n",
       "Friday       19791\n",
       "Wednesday    19551\n",
       "Tuesday      18918\n",
       "Saturday     18279\n",
       "Monday       17045\n",
       "Sunday       17044\n",
       "Name: Start Day, dtype: int64"
      ]
     },
     "execution_count": 122,
     "metadata": {},
     "output_type": "execute_result"
    }
   ],
   "source": [
    "df['Start Day']=df['Start Time'].dt.day_name()\n",
    "df['Start Day'].value_counts()"
   ]
  },
  {
   "cell_type": "code",
   "execution_count": 123,
   "metadata": {
    "scrolled": false
   },
   "outputs": [
    {
     "data": {
      "image/png": "[encoded data removed]",
      "text/plain": [
       "<Figure size 1008x360 with 1 Axes>"
      ]
     },
     "metadata": {
      "needs_background": "light"
     },
     "output_type": "display_data"
    }
   ],
   "source": [
    "plt.figure(figsize=(14,5))\n",
    "\n",
    "plt.bar(df['Start Day'].value_counts().index,df['Start Day'].value_counts().values)\n",
    "plt.xticks(rotation=45)\n",
    "plt.title('Number of Rides by Day of Week')\n",
    "plt.show()"
   ]
  },
  {
   "cell_type": "markdown",
   "metadata": {},
   "source": [
    "Ridership does vary by day of the week but without a clear weekday vs weekend divide"
   ]
  },
  {
   "cell_type": "markdown",
   "metadata": {},
   "source": [
    "Just the time string data is isolated from the datetime provided in Start Time and is rounded off to the nearest hour to ease our analysis"
   ]
  },
  {
   "cell_type": "code",
   "execution_count": 124,
   "metadata": {},
   "outputs": [
    {
     "data": {
      "text/html": [
       "<div>\n",
       "<style scoped>\n",
       "    .dataframe tbody tr th:only-of-type {\n",
       "        vertical-align: middle;\n",
       "    }\n",
       "\n",
       "    .dataframe tbody tr th {\n",
       "        vertical-align: top;\n",
       "    }\n",
       "\n",
       "    .dataframe thead th {\n",
       "        text-align: right;\n",
       "    }\n",
       "</style>\n",
       "<table border=\"1\" class=\"dataframe\">\n",
       "  <thead>\n",
       "    <tr style=\"text-align: right;\">\n",
       "      <th></th>\n",
       "      <th>Duration</th>\n",
       "      <th>Start Time</th>\n",
       "      <th>End Time</th>\n",
       "      <th>Starting Station ID</th>\n",
       "      <th>Starting Station Latitude</th>\n",
       "      <th>Starting Station Longitude</th>\n",
       "      <th>Ending Station ID</th>\n",
       "      <th>Ending Station Latitude</th>\n",
       "      <th>Ending Station Longitude</th>\n",
       "      <th>Bike ID</th>\n",
       "      <th>Trip Route Category</th>\n",
       "      <th>Passholder Type</th>\n",
       "      <th>Start Month</th>\n",
       "      <th>Start Day</th>\n",
       "      <th>Time Only</th>\n",
       "    </tr>\n",
       "    <tr>\n",
       "      <th>Trip ID</th>\n",
       "      <th></th>\n",
       "      <th></th>\n",
       "      <th></th>\n",
       "      <th></th>\n",
       "      <th></th>\n",
       "      <th></th>\n",
       "      <th></th>\n",
       "      <th></th>\n",
       "      <th></th>\n",
       "      <th></th>\n",
       "      <th></th>\n",
       "      <th></th>\n",
       "      <th></th>\n",
       "      <th></th>\n",
       "      <th></th>\n",
       "    </tr>\n",
       "  </thead>\n",
       "  <tbody>\n",
       "    <tr>\n",
       "      <th>17848847</th>\n",
       "      <td>8.0</td>\n",
       "      <td>2017-01-13 21:32:00</td>\n",
       "      <td>2017-01-13 21:40:00</td>\n",
       "      <td>3082.0</td>\n",
       "      <td>34.046520</td>\n",
       "      <td>-118.237411</td>\n",
       "      <td>3036.0</td>\n",
       "      <td>34.039188</td>\n",
       "      <td>-118.232529</td>\n",
       "      <td>6474.0</td>\n",
       "      <td>One Way</td>\n",
       "      <td>Walk-up</td>\n",
       "      <td>January</td>\n",
       "      <td>Friday</td>\n",
       "      <td>22:00:00</td>\n",
       "    </tr>\n",
       "    <tr>\n",
       "      <th>20700706</th>\n",
       "      <td>9.0</td>\n",
       "      <td>2017-02-24 23:13:00</td>\n",
       "      <td>2017-02-24 23:22:00</td>\n",
       "      <td>3029.0</td>\n",
       "      <td>34.048851</td>\n",
       "      <td>-118.246422</td>\n",
       "      <td>3082.0</td>\n",
       "      <td>34.046520</td>\n",
       "      <td>-118.237411</td>\n",
       "      <td>5794.0</td>\n",
       "      <td>One Way</td>\n",
       "      <td>Monthly Pass</td>\n",
       "      <td>February</td>\n",
       "      <td>Friday</td>\n",
       "      <td>23:00:00</td>\n",
       "    </tr>\n",
       "    <tr>\n",
       "      <th>20595730</th>\n",
       "      <td>14.0</td>\n",
       "      <td>2017-02-23 07:34:00</td>\n",
       "      <td>2017-02-23 07:48:00</td>\n",
       "      <td>3022.0</td>\n",
       "      <td>34.046070</td>\n",
       "      <td>-118.233093</td>\n",
       "      <td>3005.0</td>\n",
       "      <td>34.048550</td>\n",
       "      <td>-118.259048</td>\n",
       "      <td>6604.0</td>\n",
       "      <td>One Way</td>\n",
       "      <td>Monthly Pass</td>\n",
       "      <td>February</td>\n",
       "      <td>Thursday</td>\n",
       "      <td>08:00:00</td>\n",
       "    </tr>\n",
       "    <tr>\n",
       "      <th>17307719</th>\n",
       "      <td>7.0</td>\n",
       "      <td>2017-01-05 12:04:00</td>\n",
       "      <td>2017-01-05 12:11:00</td>\n",
       "      <td>3059.0</td>\n",
       "      <td>34.037949</td>\n",
       "      <td>-118.256271</td>\n",
       "      <td>3038.0</td>\n",
       "      <td>34.046822</td>\n",
       "      <td>-118.248352</td>\n",
       "      <td>6035.0</td>\n",
       "      <td>One Way</td>\n",
       "      <td>Monthly Pass</td>\n",
       "      <td>January</td>\n",
       "      <td>Thursday</td>\n",
       "      <td>12:00:00</td>\n",
       "    </tr>\n",
       "    <tr>\n",
       "      <th>18941656</th>\n",
       "      <td>14.0</td>\n",
       "      <td>2017-01-30 20:19:00</td>\n",
       "      <td>2017-01-30 20:33:00</td>\n",
       "      <td>3035.0</td>\n",
       "      <td>34.048401</td>\n",
       "      <td>-118.260948</td>\n",
       "      <td>3040.0</td>\n",
       "      <td>34.053570</td>\n",
       "      <td>-118.266357</td>\n",
       "      <td>6728.0</td>\n",
       "      <td>One Way</td>\n",
       "      <td>Walk-up</td>\n",
       "      <td>January</td>\n",
       "      <td>Monday</td>\n",
       "      <td>20:00:00</td>\n",
       "    </tr>\n",
       "  </tbody>\n",
       "</table>\n",
       "</div>"
      ],
      "text/plain": [
       "          Duration          Start Time            End Time  \\\n",
       "Trip ID                                                      \n",
       "17848847       8.0 2017-01-13 21:32:00 2017-01-13 21:40:00   \n",
       "20700706       9.0 2017-02-24 23:13:00 2017-02-24 23:22:00   \n",
       "20595730      14.0 2017-02-23 07:34:00 2017-02-23 07:48:00   \n",
       "17307719       7.0 2017-01-05 12:04:00 2017-01-05 12:11:00   \n",
       "18941656      14.0 2017-01-30 20:19:00 2017-01-30 20:33:00   \n",
       "\n",
       "          Starting Station ID  Starting Station Latitude  \\\n",
       "Trip ID                                                    \n",
       "17848847               3082.0                  34.046520   \n",
       "20700706               3029.0                  34.048851   \n",
       "20595730               3022.0                  34.046070   \n",
       "17307719               3059.0                  34.037949   \n",
       "18941656               3035.0                  34.048401   \n",
       "\n",
       "          Starting Station Longitude  Ending Station ID  \\\n",
       "Trip ID                                                   \n",
       "17848847                 -118.237411             3036.0   \n",
       "20700706                 -118.246422             3082.0   \n",
       "20595730                 -118.233093             3005.0   \n",
       "17307719                 -118.256271             3038.0   \n",
       "18941656                 -118.260948             3040.0   \n",
       "\n",
       "          Ending Station Latitude  Ending Station Longitude  Bike ID  \\\n",
       "Trip ID                                                                \n",
       "17848847                34.039188               -118.232529   6474.0   \n",
       "20700706                34.046520               -118.237411   5794.0   \n",
       "20595730                34.048550               -118.259048   6604.0   \n",
       "17307719                34.046822               -118.248352   6035.0   \n",
       "18941656                34.053570               -118.266357   6728.0   \n",
       "\n",
       "         Trip Route Category Passholder Type Start Month Start Day Time Only  \n",
       "Trip ID                                                                       \n",
       "17848847             One Way         Walk-up     January    Friday  22:00:00  \n",
       "20700706             One Way    Monthly Pass    February    Friday  23:00:00  \n",
       "20595730             One Way    Monthly Pass    February  Thursday  08:00:00  \n",
       "17307719             One Way    Monthly Pass     January  Thursday  12:00:00  \n",
       "18941656             One Way         Walk-up     January    Monday  20:00:00  "
      ]
     },
     "execution_count": 124,
     "metadata": {},
     "output_type": "execute_result"
    }
   ],
   "source": [
    "df['Time Only']= df['Start Time'].dt.round('H')\n",
    "df['Time Only']=pd.to_datetime(df['Time Only'],format= '%H:%M:%S' ).dt.time\n",
    "df.head()"
   ]
  },
  {
   "cell_type": "code",
   "execution_count": 125,
   "metadata": {},
   "outputs": [
    {
     "data": {
      "image/png": "[encoded data removed]",
      "text/plain": [
       "<Figure size 648x288 with 1 Axes>"
      ]
     },
     "metadata": {
      "needs_background": "light"
     },
     "output_type": "display_data"
    }
   ],
   "source": [
    "plt.figure(figsize=(9,4))\n",
    "plt.scatter(df['Time Only'].value_counts().index,df['Time Only'].value_counts().values)\n",
    "#on peak between the bars\n",
    "plt.vlines(x='7:30:00',ymin=0,ymax=12000,color='red')\n",
    "plt.vlines(x='20:30:00',ymin=0,ymax=12000,color='red')\n",
    "plt.title('Bike Usage by Time of Day')\n",
    "plt.show()"
   ]
  },
  {
   "cell_type": "markdown",
   "metadata": {},
   "source": [
    "Across the day, the bike network usage clearly has a peak time seen between the red bars above"
   ]
  },
  {
   "cell_type": "code",
   "execution_count": 126,
   "metadata": {},
   "outputs": [
    {
     "data": {
      "image/png": "[encoded data removed]",
      "text/plain": [
       "<Figure size 1008x576 with 7 Axes>"
      ]
     },
     "metadata": {
      "needs_background": "light"
     },
     "output_type": "display_data"
    }
   ],
   "source": [
    "plt.figure(figsize=(14,8))\n",
    "days=['Monday','Tuesday','Wednesday','Thursday','Friday']\n",
    "for i in range(len(days)):\n",
    "    plt.subplot(2,4,i+1)\n",
    "    plt.scatter(df.loc[df['Start Day'] == days[i]]['Time Only'].value_counts().index,df.loc[df['Start Day'] == days[i]]['Time Only'].value_counts().values)\n",
    "    plt.title(days[i])\n",
    "    plt.vlines(x='7:30:00',ymin=0,ymax=1800,color='red')\n",
    "    plt.vlines(x='20:30:00',ymin=0,ymax=1800,color='red')\n",
    "    \n",
    "#Offset peak start by 2 hours for the weekend\n",
    "plt.subplot(2,4,6)\n",
    "plt.scatter(df.loc[df['Start Day'] == 'Saturday']['Time Only'].value_counts().index,df.loc[df['Start Day'] == 'Saturday']['Time Only'].value_counts().values)\n",
    "plt.title('Saturday')\n",
    "plt.vlines(x='9:30:00',ymin=0,ymax=1800,color='red')\n",
    "plt.vlines(x='20:30:00',ymin=0,ymax=1800,color='red')\n",
    "\n",
    "plt.subplot(2,4,7)\n",
    "plt.scatter(df.loc[df['Start Day'] == 'Sunday']['Time Only'].value_counts().index,df.loc[df['Start Day'] == 'Sunday']['Time Only'].value_counts().values)\n",
    "plt.title('Sunday')\n",
    "plt.vlines(x='9:30:00',ymin=0,ymax=1800,color='red')\n",
    "plt.vlines(x='20:30:00',ymin=0,ymax=1800,color='red')\n",
    "\n",
    "plt.tight_layout()"
   ]
  },
  {
   "cell_type": "markdown",
   "metadata": {},
   "source": [
    "People like to sleep in on the weekends, move the start of peak bar up 2 hours on saturday and sunday"
   ]
  },
  {
   "cell_type": "markdown",
   "metadata": {},
   "source": [
    "We will create a feature called 'Peak' to describe this On-Peak vs Off-Peak difference and a feature called 'Time Only Int' to simplify our Start Time for later usage"
   ]
  },
  {
   "cell_type": "code",
   "execution_count": 127,
   "metadata": {},
   "outputs": [],
   "source": [
    "def to_hour_int(x):\n",
    "    #convert hh:mm:ss to hh integar\n",
    "    x=str(x)\n",
    "    x=x[:2]\n",
    "    x=int(x)\n",
    "    return x"
   ]
  },
  {
   "cell_type": "code",
   "execution_count": 128,
   "metadata": {},
   "outputs": [],
   "source": [
    "df['Time Only Int']=df['Time Only']\n",
    "df['Time Only Int']=df['Time Only Int'].astype('str')\n",
    "df['Time Only Int']=df['Time Only Int'].apply(lambda x: to_hour_int(x))"
   ]
  },
  {
   "cell_type": "code",
   "execution_count": 129,
   "metadata": {
    "scrolled": true
   },
   "outputs": [
    {
     "data": {
      "text/plain": [
       "count    130715.000000\n",
       "mean          0.811850\n",
       "std           0.390833\n",
       "min           0.000000\n",
       "25%           1.000000\n",
       "50%           1.000000\n",
       "75%           1.000000\n",
       "max           1.000000\n",
       "Name: Peak, dtype: float64"
      ]
     },
     "execution_count": 129,
     "metadata": {},
     "output_type": "execute_result"
    }
   ],
   "source": [
    "df['Peak']=1\n",
    "df.loc[df['Time Only Int']>20.5,'Peak']=0\n",
    "df.loc[df['Time Only Int']<7.5,'Peak']=0\n",
    "df.loc[(df['Start Day']=='Saturday')&(df['Time Only Int']<9.5),'Peak']=0\n",
    "df.loc[(df['Start Day']=='Sunday')&(df['Time Only Int']<9.5),'Peak']=0\n",
    "\n",
    "df['Peak'].describe()"
   ]
  },
  {
   "cell_type": "code",
   "execution_count": 130,
   "metadata": {},
   "outputs": [
    {
     "name": "stdout",
     "output_type": "stream",
     "text": [
      "1    0.81185\n",
      "0    0.18815\n",
      "Name: Peak, dtype: float64\n"
     ]
    },
    {
     "data": {
      "image/png": "[encoded data removed]",
      "text/plain": [
       "<Figure size 432x288 with 1 Axes>"
      ]
     },
     "metadata": {
      "needs_background": "light"
     },
     "output_type": "display_data"
    }
   ],
   "source": [
    "print(df.Peak.value_counts(normalize=True))\n",
    "plt.bar(df.Peak.value_counts().index,df.Peak.value_counts().values)\n",
    "plt.xticks(ticks=[0,1],labels=['Off-Peak','On-Peak'])\n",
    "plt.title('On-Peak vs. Off-Peak Rides')\n",
    "plt.show()"
   ]
  },
  {
   "cell_type": "code",
   "execution_count": 131,
   "metadata": {},
   "outputs": [
    {
     "name": "stdout",
     "output_type": "stream",
     "text": [
      "<class 'pandas.core.frame.DataFrame'>\n",
      "Int64Index: 130715 entries, 17848847 to 5250466\n",
      "Data columns (total 17 columns):\n",
      "Duration                      130715 non-null float64\n",
      "Start Time                    130715 non-null datetime64[ns]\n",
      "End Time                      130715 non-null datetime64[ns]\n",
      "Starting Station ID           130715 non-null float64\n",
      "Starting Station Latitude     130715 non-null float64\n",
      "Starting Station Longitude    130715 non-null float64\n",
      "Ending Station ID             130715 non-null float64\n",
      "Ending Station Latitude       130715 non-null float64\n",
      "Ending Station Longitude      130715 non-null float64\n",
      "Bike ID                       130715 non-null float64\n",
      "Trip Route Category           130715 non-null object\n",
      "Passholder Type               130715 non-null object\n",
      "Start Month                   130715 non-null object\n",
      "Start Day                     130715 non-null object\n",
      "Time Only                     130715 non-null object\n",
      "Time Only Int                 130715 non-null int64\n",
      "Peak                          130715 non-null int64\n",
      "dtypes: datetime64[ns](2), float64(8), int64(2), object(5)\n",
      "memory usage: 18.0+ MB\n"
     ]
    }
   ],
   "source": [
    "df.info()"
   ]
  },
  {
   "cell_type": "markdown",
   "metadata": {},
   "source": [
    "## Ride Duration and Type Investigation"
   ]
  },
  {
   "cell_type": "code",
   "execution_count": 85,
   "metadata": {
    "scrolled": true
   },
   "outputs": [
    {
     "data": {
      "text/plain": [
       "One Way       118070\n",
       "Round Trip     12645\n",
       "Name: Trip Route Category, dtype: int64"
      ]
     },
     "execution_count": 85,
     "metadata": {},
     "output_type": "execute_result"
    }
   ],
   "source": [
    "df['Trip Route Category'].value_counts()"
   ]
  },
  {
   "cell_type": "code",
   "execution_count": 86,
   "metadata": {},
   "outputs": [
    {
     "data": {
      "text/plain": [
       "One Way       0.903263\n",
       "Round Trip    0.096737\n",
       "Name: Trip Route Category, dtype: float64"
      ]
     },
     "execution_count": 86,
     "metadata": {},
     "output_type": "execute_result"
    }
   ],
   "source": [
    "df['Trip Route Category'].value_counts(normalize=True)"
   ]
  },
  {
   "cell_type": "markdown",
   "metadata": {},
   "source": [
    "Over 90% of trips are One Way, the bike is picked up at one Station and ridden to another Station. The rider is getting from one place to another, using the bike as a legit mode of transport"
   ]
  },
  {
   "cell_type": "code",
   "execution_count": 87,
   "metadata": {
    "scrolled": true
   },
   "outputs": [
    {
     "data": {
      "text/plain": [
       "Monthly Pass    80493\n",
       "Walk-up         40756\n",
       "Flex Pass        9466\n",
       "Name: Passholder Type, dtype: int64"
      ]
     },
     "execution_count": 87,
     "metadata": {},
     "output_type": "execute_result"
    }
   ],
   "source": [
    "df['Passholder Type'].value_counts()"
   ]
  },
  {
   "cell_type": "code",
   "execution_count": 88,
   "metadata": {
    "scrolled": false
   },
   "outputs": [
    {
     "data": {
      "text/plain": [
       "Monthly Pass    0.615790\n",
       "Walk-up         0.311793\n",
       "Flex Pass       0.072417\n",
       "Name: Passholder Type, dtype: float64"
      ]
     },
     "execution_count": 88,
     "metadata": {},
     "output_type": "execute_result"
    }
   ],
   "source": [
    "df['Passholder Type'].value_counts(normalize=True)"
   ]
  },
  {
   "cell_type": "markdown",
   "metadata": {},
   "source": [
    "Monthly Pass holder make the majority of rides in LA Metro bike Share Network by a noticeable margin. By taking up a recurring monthly subscription they are well committed to the bike share network"
   ]
  },
  {
   "cell_type": "code",
   "execution_count": 89,
   "metadata": {},
   "outputs": [
    {
     "data": {
      "text/plain": [
       "30.0     80493\n",
       "0.0      40756\n",
       "365.0     9466\n",
       "Name: Plan Duration, dtype: int64"
      ]
     },
     "execution_count": 89,
     "metadata": {},
     "output_type": "execute_result"
    }
   ],
   "source": [
    "df['Plan Duration'].value_counts()"
   ]
  },
  {
   "cell_type": "markdown",
   "metadata": {},
   "source": [
    "Plan Duration and Passholder Type appear to be displaying the same data in 2 different fashions\n",
    "30 == Monthly Pass \n",
    "0 == Walk-up\n",
    "365 == Flex Pass\n",
    "Having this feature exist twice is unnecessary, so lets drop Plan Duration\n",
    "\n"
   ]
  },
  {
   "cell_type": "code",
   "execution_count": 90,
   "metadata": {},
   "outputs": [],
   "source": [
    "df.drop(columns=['Plan Duration'],inplace=True)"
   ]
  },
  {
   "cell_type": "code",
   "execution_count": 91,
   "metadata": {},
   "outputs": [
    {
     "data": {
      "text/plain": [
       "762"
      ]
     },
     "execution_count": 91,
     "metadata": {},
     "output_type": "execute_result"
    }
   ],
   "source": [
    "len(df['Bike ID'].unique())"
   ]
  },
  {
   "cell_type": "markdown",
   "metadata": {},
   "source": [
    "762 individual bikes in the system"
   ]
  },
  {
   "cell_type": "code",
   "execution_count": 92,
   "metadata": {},
   "outputs": [
    {
     "data": {
      "image/png": "[encoded data removed]",
      "text/plain": [
       "<Figure size 432x288 with 1 Axes>"
      ]
     },
     "metadata": {
      "needs_background": "light"
     },
     "output_type": "display_data"
    }
   ],
   "source": [
    "df['Bike ID'].value_counts().hist()\n",
    "plt.title('Bike Usage')\n",
    "plt.show()"
   ]
  },
  {
   "cell_type": "markdown",
   "metadata": {},
   "source": [
    "Distribution of Bike usage appears normal indicating the bikes are all used randomly. This is to be expected but we can also expect the particular bike ridden to be of little use to our machine learning models"
   ]
  },
  {
   "cell_type": "code",
   "execution_count": null,
   "metadata": {},
   "outputs": [],
   "source": []
  },
  {
   "cell_type": "code",
   "execution_count": 132,
   "metadata": {
    "scrolled": false
   },
   "outputs": [
    {
     "data": {
      "text/html": [
       "<div>\n",
       "<style scoped>\n",
       "    .dataframe tbody tr th:only-of-type {\n",
       "        vertical-align: middle;\n",
       "    }\n",
       "\n",
       "    .dataframe tbody tr th {\n",
       "        vertical-align: top;\n",
       "    }\n",
       "\n",
       "    .dataframe thead th {\n",
       "        text-align: right;\n",
       "    }\n",
       "</style>\n",
       "<table border=\"1\" class=\"dataframe\">\n",
       "  <thead>\n",
       "    <tr style=\"text-align: right;\">\n",
       "      <th></th>\n",
       "      <th>count</th>\n",
       "      <th>mean</th>\n",
       "      <th>std</th>\n",
       "      <th>min</th>\n",
       "      <th>25%</th>\n",
       "      <th>50%</th>\n",
       "      <th>75%</th>\n",
       "      <th>max</th>\n",
       "    </tr>\n",
       "    <tr>\n",
       "      <th>Trip Route Category</th>\n",
       "      <th></th>\n",
       "      <th></th>\n",
       "      <th></th>\n",
       "      <th></th>\n",
       "      <th></th>\n",
       "      <th></th>\n",
       "      <th></th>\n",
       "      <th></th>\n",
       "    </tr>\n",
       "  </thead>\n",
       "  <tbody>\n",
       "    <tr>\n",
       "      <th>One Way</th>\n",
       "      <td>118070.0</td>\n",
       "      <td>19.119870</td>\n",
       "      <td>69.338844</td>\n",
       "      <td>1.0</td>\n",
       "      <td>6.0</td>\n",
       "      <td>10.0</td>\n",
       "      <td>16.0</td>\n",
       "      <td>1440.0</td>\n",
       "    </tr>\n",
       "    <tr>\n",
       "      <th>Round Trip</th>\n",
       "      <td>12645.0</td>\n",
       "      <td>54.962198</td>\n",
       "      <td>128.778401</td>\n",
       "      <td>1.0</td>\n",
       "      <td>15.0</td>\n",
       "      <td>28.0</td>\n",
       "      <td>53.0</td>\n",
       "      <td>1440.0</td>\n",
       "    </tr>\n",
       "  </tbody>\n",
       "</table>\n",
       "</div>"
      ],
      "text/plain": [
       "                        count       mean         std  min   25%   50%   75%  \\\n",
       "Trip Route Category                                                           \n",
       "One Way              118070.0  19.119870   69.338844  1.0   6.0  10.0  16.0   \n",
       "Round Trip            12645.0  54.962198  128.778401  1.0  15.0  28.0  53.0   \n",
       "\n",
       "                        max  \n",
       "Trip Route Category          \n",
       "One Way              1440.0  \n",
       "Round Trip           1440.0  "
      ]
     },
     "execution_count": 132,
     "metadata": {},
     "output_type": "execute_result"
    }
   ],
   "source": [
    "df.groupby('Trip Route Category')['Duration'].describe()"
   ]
  },
  {
   "cell_type": "markdown",
   "metadata": {},
   "source": [
    "Round Trips tend to be significantly longer rides"
   ]
  },
  {
   "cell_type": "code",
   "execution_count": 133,
   "metadata": {},
   "outputs": [
    {
     "data": {
      "text/html": [
       "<div>\n",
       "<style scoped>\n",
       "    .dataframe tbody tr th:only-of-type {\n",
       "        vertical-align: middle;\n",
       "    }\n",
       "\n",
       "    .dataframe tbody tr th {\n",
       "        vertical-align: top;\n",
       "    }\n",
       "\n",
       "    .dataframe thead th {\n",
       "        text-align: right;\n",
       "    }\n",
       "</style>\n",
       "<table border=\"1\" class=\"dataframe\">\n",
       "  <thead>\n",
       "    <tr style=\"text-align: right;\">\n",
       "      <th></th>\n",
       "      <th>count</th>\n",
       "      <th>mean</th>\n",
       "      <th>std</th>\n",
       "      <th>min</th>\n",
       "      <th>25%</th>\n",
       "      <th>50%</th>\n",
       "      <th>75%</th>\n",
       "      <th>max</th>\n",
       "    </tr>\n",
       "    <tr>\n",
       "      <th>Passholder Type</th>\n",
       "      <th></th>\n",
       "      <th></th>\n",
       "      <th></th>\n",
       "      <th></th>\n",
       "      <th></th>\n",
       "      <th></th>\n",
       "      <th></th>\n",
       "      <th></th>\n",
       "    </tr>\n",
       "  </thead>\n",
       "  <tbody>\n",
       "    <tr>\n",
       "      <th>Flex Pass</th>\n",
       "      <td>9466.0</td>\n",
       "      <td>17.804775</td>\n",
       "      <td>63.565957</td>\n",
       "      <td>1.0</td>\n",
       "      <td>7.0</td>\n",
       "      <td>10.0</td>\n",
       "      <td>15.0</td>\n",
       "      <td>1440.0</td>\n",
       "    </tr>\n",
       "    <tr>\n",
       "      <th>Monthly Pass</th>\n",
       "      <td>80493.0</td>\n",
       "      <td>12.938119</td>\n",
       "      <td>41.715014</td>\n",
       "      <td>1.0</td>\n",
       "      <td>5.0</td>\n",
       "      <td>8.0</td>\n",
       "      <td>13.0</td>\n",
       "      <td>1440.0</td>\n",
       "    </tr>\n",
       "    <tr>\n",
       "      <th>Walk-up</th>\n",
       "      <td>40756.0</td>\n",
       "      <td>42.754735</td>\n",
       "      <td>120.260342</td>\n",
       "      <td>1.0</td>\n",
       "      <td>11.0</td>\n",
       "      <td>19.0</td>\n",
       "      <td>34.0</td>\n",
       "      <td>1440.0</td>\n",
       "    </tr>\n",
       "  </tbody>\n",
       "</table>\n",
       "</div>"
      ],
      "text/plain": [
       "                   count       mean         std  min   25%   50%   75%     max\n",
       "Passholder Type                                                               \n",
       "Flex Pass         9466.0  17.804775   63.565957  1.0   7.0  10.0  15.0  1440.0\n",
       "Monthly Pass     80493.0  12.938119   41.715014  1.0   5.0   8.0  13.0  1440.0\n",
       "Walk-up          40756.0  42.754735  120.260342  1.0  11.0  19.0  34.0  1440.0"
      ]
     },
     "execution_count": 133,
     "metadata": {},
     "output_type": "execute_result"
    }
   ],
   "source": [
    "df.groupby('Passholder Type')['Duration'].describe()"
   ]
  },
  {
   "cell_type": "markdown",
   "metadata": {},
   "source": [
    "Monthly Pass Holder tend to take much shorter rides  but take many more of them. An excellent indication of a low barrier to riding. Walk up riders that only use the bike share system occasionally tend to take longer rides, this would be the type of pass Iespect to be held by a tourist, leisurely riding around downtown LA"
   ]
  },
  {
   "cell_type": "code",
   "execution_count": 134,
   "metadata": {},
   "outputs": [
    {
     "data": {
      "text/plain": [
       "Passholder Type  Trip Route Category\n",
       "Flex Pass        One Way                0.948658\n",
       "                 Round Trip             0.051342\n",
       "Monthly Pass     One Way                0.953984\n",
       "                 Round Trip             0.046016\n",
       "Walk-up          One Way                0.792546\n",
       "                 Round Trip             0.207454\n",
       "Name: Trip Route Category, dtype: float64"
      ]
     },
     "execution_count": 134,
     "metadata": {},
     "output_type": "execute_result"
    }
   ],
   "source": [
    "df.groupby('Passholder Type')['Trip Route Category'].value_counts(normalize=True)"
   ]
  },
  {
   "cell_type": "code",
   "execution_count": 135,
   "metadata": {},
   "outputs": [
    {
     "data": {
      "text/html": [
       "<div>\n",
       "<style scoped>\n",
       "    .dataframe tbody tr th:only-of-type {\n",
       "        vertical-align: middle;\n",
       "    }\n",
       "\n",
       "    .dataframe tbody tr th {\n",
       "        vertical-align: top;\n",
       "    }\n",
       "\n",
       "    .dataframe thead th {\n",
       "        text-align: right;\n",
       "    }\n",
       "</style>\n",
       "<table border=\"1\" class=\"dataframe\">\n",
       "  <thead>\n",
       "    <tr style=\"text-align: right;\">\n",
       "      <th></th>\n",
       "      <th>count</th>\n",
       "      <th>mean</th>\n",
       "      <th>std</th>\n",
       "      <th>min</th>\n",
       "      <th>25%</th>\n",
       "      <th>50%</th>\n",
       "      <th>75%</th>\n",
       "      <th>max</th>\n",
       "    </tr>\n",
       "    <tr>\n",
       "      <th>Peak</th>\n",
       "      <th></th>\n",
       "      <th></th>\n",
       "      <th></th>\n",
       "      <th></th>\n",
       "      <th></th>\n",
       "      <th></th>\n",
       "      <th></th>\n",
       "      <th></th>\n",
       "    </tr>\n",
       "  </thead>\n",
       "  <tbody>\n",
       "    <tr>\n",
       "      <th>0</th>\n",
       "      <td>24594.0</td>\n",
       "      <td>27.888672</td>\n",
       "      <td>98.299233</td>\n",
       "      <td>1.0</td>\n",
       "      <td>6.0</td>\n",
       "      <td>11.0</td>\n",
       "      <td>19.0</td>\n",
       "      <td>1440.0</td>\n",
       "    </tr>\n",
       "    <tr>\n",
       "      <th>1</th>\n",
       "      <td>106121.0</td>\n",
       "      <td>21.358506</td>\n",
       "      <td>72.222643</td>\n",
       "      <td>1.0</td>\n",
       "      <td>6.0</td>\n",
       "      <td>10.0</td>\n",
       "      <td>17.0</td>\n",
       "      <td>1440.0</td>\n",
       "    </tr>\n",
       "  </tbody>\n",
       "</table>\n",
       "</div>"
      ],
      "text/plain": [
       "         count       mean        std  min  25%   50%   75%     max\n",
       "Peak                                                              \n",
       "0      24594.0  27.888672  98.299233  1.0  6.0  11.0  19.0  1440.0\n",
       "1     106121.0  21.358506  72.222643  1.0  6.0  10.0  17.0  1440.0"
      ]
     },
     "execution_count": 135,
     "metadata": {},
     "output_type": "execute_result"
    }
   ],
   "source": [
    "df.groupby('Peak')['Duration'].describe()"
   ]
  },
  {
   "cell_type": "code",
   "execution_count": 136,
   "metadata": {},
   "outputs": [
    {
     "data": {
      "text/plain": [
       "Peak  Trip Route Category\n",
       "0     One Way                0.878954\n",
       "      Round Trip             0.121046\n",
       "1     One Way                0.908896\n",
       "      Round Trip             0.091104\n",
       "Name: Trip Route Category, dtype: float64"
      ]
     },
     "execution_count": 136,
     "metadata": {},
     "output_type": "execute_result"
    }
   ],
   "source": [
    "df.groupby('Peak')['Trip Route Category'].value_counts(normalize=True)"
   ]
  },
  {
   "cell_type": "code",
   "execution_count": 137,
   "metadata": {},
   "outputs": [
    {
     "data": {
      "text/plain": [
       "Peak  Passholder Type\n",
       "0     Monthly Pass       0.555583\n",
       "      Walk-up            0.381475\n",
       "      Flex Pass          0.062942\n",
       "1     Monthly Pass       0.629743\n",
       "      Walk-up            0.295644\n",
       "      Flex Pass          0.074613\n",
       "Name: Passholder Type, dtype: float64"
      ]
     },
     "execution_count": 137,
     "metadata": {},
     "output_type": "execute_result"
    }
   ],
   "source": [
    "df.groupby('Peak')['Passholder Type'].value_counts(normalize=True)"
   ]
  },
  {
   "cell_type": "markdown",
   "metadata": {},
   "source": [
    "Interestingly On-Peak and Off-Peak riding times did not see a difference in ride Duration or Trip Route Category. \n",
    "The proportion of Monthly Pass holders riding is higher during On-Peak hours and Walk-Up riders are a higher proportion of Off-Peak riders. "
   ]
  },
  {
   "cell_type": "code",
   "execution_count": 138,
   "metadata": {
    "scrolled": true
   },
   "outputs": [
    {
     "data": {
      "text/plain": [
       "6.0     0.072807\n",
       "7.0     0.071423\n",
       "5.0     0.068378\n",
       "8.0     0.067666\n",
       "9.0     0.058647\n",
       "4.0     0.055816\n",
       "10.0    0.053353\n",
       "11.0    0.046827\n",
       "12.0    0.041434\n",
       "13.0    0.037019\n",
       "Name: Duration, dtype: float64"
      ]
     },
     "execution_count": 138,
     "metadata": {},
     "output_type": "execute_result"
    }
   ],
   "source": [
    "df.Duration.value_counts(normalize=True).head(10)\n"
   ]
  },
  {
   "cell_type": "code",
   "execution_count": 139,
   "metadata": {},
   "outputs": [
    {
     "data": {
      "image/png": "[encoded data removed]",
      "text/plain": [
       "<Figure size 1080x288 with 1 Axes>"
      ]
     },
     "metadata": {
      "needs_background": "light"
     },
     "output_type": "display_data"
    }
   ],
   "source": [
    "plt.figure(figsize=(15,4))\n",
    "df.Duration.hist(bins=29)\n",
    "plt.title('Ride Duration Histogram')\n",
    "plt.show()"
   ]
  },
  {
   "cell_type": "markdown",
   "metadata": {},
   "source": [
    "Ride Duration is very heavily left skewed, most rides are very short but there is a very long tail out to a max of 1440 minutes which is rides lasting longer than a full day"
   ]
  },
  {
   "cell_type": "code",
   "execution_count": 140,
   "metadata": {},
   "outputs": [
    {
     "data": {
      "image/png": "[encoded data removed]",
      "text/plain": [
       "<Figure size 1080x288 with 1 Axes>"
      ]
     },
     "metadata": {
      "needs_background": "light"
     },
     "output_type": "display_data"
    }
   ],
   "source": [
    "plt.figure(figsize=(15,4))\n",
    "df.loc[df['Duration']<30].Duration.hist(bins=29)\n",
    "plt.title('Ride Duration for rides less than 30 minutes')\n",
    "plt.show()"
   ]
  },
  {
   "cell_type": "code",
   "execution_count": 141,
   "metadata": {},
   "outputs": [
    {
     "data": {
      "text/plain": [
       "0.89"
      ]
     },
     "execution_count": 141,
     "metadata": {},
     "output_type": "execute_result"
    }
   ],
   "source": [
    "round(len(df.loc[df.Duration<31])/len(df),2)"
   ]
  },
  {
   "cell_type": "markdown",
   "metadata": {},
   "source": [
    "89% of rides are 30 minutes or less. All rides longer than 30 minutes will be rounded down to 30 to prevent the long tail from exerting undue influence on our machine learning models."
   ]
  },
  {
   "cell_type": "code",
   "execution_count": 142,
   "metadata": {},
   "outputs": [],
   "source": [
    "df['Duration']=df['Duration'].clip(upper=30)"
   ]
  },
  {
   "cell_type": "code",
   "execution_count": 143,
   "metadata": {
    "scrolled": true
   },
   "outputs": [
    {
     "data": {
      "image/png": "[encoded data removed]",
      "text/plain": [
       "<Figure size 1080x288 with 1 Axes>"
      ]
     },
     "metadata": {
      "needs_background": "light"
     },
     "output_type": "display_data"
    }
   ],
   "source": [
    "plt.figure(figsize=(15,4))\n",
    "df.Duration.hist(bins=29)\n",
    "plt.title('Ride Duration clipped to 30 minutes')\n",
    "plt.show()\n",
    "# plt.vlines(x=15,ymin=0,ymax=10000,color='red')\n",
    "# plt.vlines(x=10,ymin=0,ymax=10000,color='red')\n",
    "# plt.vlines(x=5,ymin=0,ymax=10000,color='red')\n",
    "# plt.ylim(0,30000)\n",
    "# plt.xlim(0,5000)"
   ]
  },
  {
   "cell_type": "code",
   "execution_count": null,
   "metadata": {},
   "outputs": [],
   "source": []
  },
  {
   "cell_type": "markdown",
   "metadata": {},
   "source": [
    "### Classifier Model for Passholder Type"
   ]
  },
  {
   "cell_type": "markdown",
   "metadata": {},
   "source": [
    "Can we predict what kind of membership the ride taker holds?\n",
    "\n",
    "There are multiple types of network membership and each are bound to attract riders with different wants or expectations. An understanding of how and why these riders fit into these particular categories is invaluable for understanding rider behaviour attracting new riders and ultimately growing the LA bike share network."
   ]
  },
  {
   "cell_type": "code",
   "execution_count": 230,
   "metadata": {},
   "outputs": [
    {
     "data": {
      "text/plain": [
       "Index(['Duration', 'Start Time', 'End Time', 'Starting Station ID',\n",
       "       'Starting Station Latitude', 'Starting Station Longitude',\n",
       "       'Ending Station ID', 'Ending Station Latitude',\n",
       "       'Ending Station Longitude', 'Bike ID', 'Trip Route Category',\n",
       "       'Passholder Type', 'Start Month', 'Start Day', 'Time Only',\n",
       "       'Time Only Int', 'Peak'],\n",
       "      dtype='object')"
      ]
     },
     "execution_count": 230,
     "metadata": {},
     "output_type": "execute_result"
    }
   ],
   "source": [
    "df.columns"
   ]
  },
  {
   "cell_type": "code",
   "execution_count": 161,
   "metadata": {},
   "outputs": [],
   "source": [
    "y=df['Passholder Type']\n",
    "X=df.drop(columns=['Bike ID','Time Only','Start Time','End Time','Passholder Type'])"
   ]
  },
  {
   "cell_type": "code",
   "execution_count": 162,
   "metadata": {},
   "outputs": [],
   "source": [
    "X['Starting Station ID']=X['Starting Station ID'].astype('str')\n",
    "X['Ending Station ID']=X['Ending Station ID'].astype('str')\n"
   ]
  },
  {
   "cell_type": "markdown",
   "metadata": {},
   "source": [
    "Categorical features are one-hot encoded, all features are scaled and dimensionality is reduced"
   ]
  },
  {
   "cell_type": "code",
   "execution_count": 163,
   "metadata": {},
   "outputs": [],
   "source": [
    "X=pd.get_dummies(X)"
   ]
  },
  {
   "cell_type": "code",
   "execution_count": 164,
   "metadata": {},
   "outputs": [
    {
     "data": {
      "text/plain": [
       "(130715, 157)"
      ]
     },
     "execution_count": 164,
     "metadata": {},
     "output_type": "execute_result"
    }
   ],
   "source": [
    "X.shape"
   ]
  },
  {
   "cell_type": "code",
   "execution_count": 165,
   "metadata": {},
   "outputs": [
    {
     "name": "stderr",
     "output_type": "stream",
     "text": [
      "C:\\Users\\kosta\\Anaconda3\\envs\\learn-env\\lib\\site-packages\\sklearn\\preprocessing\\data.py:625: DataConversionWarning: Data with input dtype uint8, int64, float64 were all converted to float64 by StandardScaler.\n",
      "  return self.partial_fit(X, y)\n",
      "C:\\Users\\kosta\\Anaconda3\\envs\\learn-env\\lib\\site-packages\\sklearn\\base.py:462: DataConversionWarning: Data with input dtype uint8, int64, float64 were all converted to float64 by StandardScaler.\n",
      "  return self.fit(X, **fit_params).transform(X)\n"
     ]
    },
    {
     "data": {
      "text/plain": [
       "array([[-0.5903835 , -0.16140359,  1.10770092, ..., -0.42611322,\n",
       "        -0.41136045, -0.41937487],\n",
       "       [-0.47384103,  0.20523359,  0.32241175, ..., -0.42611322,\n",
       "        -0.41136045, -0.41937487],\n",
       "       [ 0.10887135, -0.23218297,  1.48400529, ...,  2.34679412,\n",
       "        -0.41136045, -0.41937487],\n",
       "       ...,\n",
       "       [ 1.39083857,  1.42564309,  1.12521764, ..., -0.42611322,\n",
       "        -0.41136045, -0.41937487],\n",
       "       [-0.00767113, -1.31457267,  1.53306953, ..., -0.42611322,\n",
       "        -0.41136045, -0.41937487],\n",
       "       [-0.94001093,  0.86104385,  0.18924985, ..., -0.42611322,\n",
       "         2.43095805, -0.41937487]])"
      ]
     },
     "execution_count": 165,
     "metadata": {},
     "output_type": "execute_result"
    }
   ],
   "source": [
    "from sklearn.preprocessing import StandardScaler\n",
    "scaler=StandardScaler()\n",
    "scaler.fit_transform(X)"
   ]
  },
  {
   "cell_type": "code",
   "execution_count": 166,
   "metadata": {},
   "outputs": [
    {
     "name": "stdout",
     "output_type": "stream",
     "text": [
      "[71.3857058708633, 24.75791639117819, 0.17116505519736155, 0.15646279107469624, 0.14964004930898522]\n",
      "100.00000000000013\n"
     ]
    },
    {
     "data": {
      "text/plain": [
       "<matplotlib.collections.LineCollection at 0x1cdd4b29b70>"
      ]
     },
     "execution_count": 166,
     "metadata": {},
     "output_type": "execute_result"
    },
    {
     "data": {
      "image/png": "[encoded data removed]",
      "text/plain": [
       "<Figure size 1080x576 with 1 Axes>"
      ]
     },
     "metadata": {},
     "output_type": "display_data"
    }
   ],
   "source": [
    "from sklearn.decomposition import PCA\n",
    "pca=PCA()\n",
    "pca.fit(X)\n",
    "tot = sum(pca.explained_variance_)\n",
    "var_exp = [(i/tot)*100 for i in sorted(pca.explained_variance_, reverse=True)] \n",
    "print(var_exp[0:5])\n",
    "print(sum(var_exp))\n",
    "cum_var_exp = np.cumsum(var_exp) \n",
    "plt.style.use('ggplot')\n",
    "plt.figure(figsize=(15, 8))\n",
    "plt.plot(cum_var_exp)\n",
    "plt.title('Cumulative Explained Variance as a Function of the Number of Components')\n",
    "plt.vlines(x=20,ymin=var_exp[0],ymax=100)"
   ]
  },
  {
   "cell_type": "markdown",
   "metadata": {},
   "source": [
    "Approximately 98% of variance retained using 20 variables"
   ]
  },
  {
   "cell_type": "code",
   "execution_count": 167,
   "metadata": {},
   "outputs": [
    {
     "data": {
      "text/plain": [
       "PCA(copy=True, iterated_power='auto', n_components=20, random_state=None,\n",
       "  svd_solver='auto', tol=0.0, whiten=False)"
      ]
     },
     "execution_count": 167,
     "metadata": {},
     "output_type": "execute_result"
    }
   ],
   "source": [
    "pca=PCA(n_components=20)\n",
    "pca.fit(X)"
   ]
  },
  {
   "cell_type": "code",
   "execution_count": 168,
   "metadata": {},
   "outputs": [],
   "source": [
    "from sklearn.model_selection import train_test_split\n",
    "X_train,X_test,y_train,y_test=train_test_split(X,y)"
   ]
  },
  {
   "cell_type": "code",
   "execution_count": 169,
   "metadata": {},
   "outputs": [],
   "source": [
    "X_train=pca.transform(X_train)\n",
    "X_test=pca.transform(X_test)"
   ]
  },
  {
   "cell_type": "code",
   "execution_count": 170,
   "metadata": {
    "scrolled": true
   },
   "outputs": [
    {
     "name": "stdout",
     "output_type": "stream",
     "text": [
      "Fitting 3 folds for each of 144 candidates, totalling 432 fits\n",
      "[CV] criterion=entropy, max_depth=2, min_samples_leaf=0.05, min_samples_split=0.05, n_estimators=10 \n"
     ]
    },
    {
     "name": "stderr",
     "output_type": "stream",
     "text": [
      "[Parallel(n_jobs=1)]: Using backend SequentialBackend with 1 concurrent workers.\n"
     ]
    },
    {
     "name": "stdout",
     "output_type": "stream",
     "text": [
      "[CV]  criterion=entropy, max_depth=2, min_samples_leaf=0.05, min_samples_split=0.05, n_estimators=10, total=   0.7s\n",
      "[CV] criterion=entropy, max_depth=2, min_samples_leaf=0.05, min_samples_split=0.05, n_estimators=10 \n"
     ]
    },
    {
     "name": "stderr",
     "output_type": "stream",
     "text": [
      "[Parallel(n_jobs=1)]: Done   1 out of   1 | elapsed:    0.8s remaining:    0.0s\n"
     ]
    },
    {
     "name": "stdout",
     "output_type": "stream",
     "text": [
      "[CV]  criterion=entropy, max_depth=2, min_samples_leaf=0.05, min_samples_split=0.05, n_estimators=10, total=   0.6s\n",
      "[CV] criterion=entropy, max_depth=2, min_samples_leaf=0.05, min_samples_split=0.05, n_estimators=10 \n",
      "[CV]  criterion=entropy, max_depth=2, min_samples_leaf=0.05, min_samples_split=0.05, n_estimators=10, total=   0.6s\n",
      "[CV] criterion=entropy, max_depth=2, min_samples_leaf=0.05, min_samples_split=0.05, n_estimators=100 \n",
      "[CV]  criterion=entropy, max_depth=2, min_samples_leaf=0.05, min_samples_split=0.05, n_estimators=100, total=   6.2s\n",
      "[CV] criterion=entropy, max_depth=2, min_samples_leaf=0.05, min_samples_split=0.05, n_estimators=100 \n",
      "[CV]  criterion=entropy, max_depth=2, min_samples_leaf=0.05, min_samples_split=0.05, n_estimators=100, total=   6.2s\n",
      "[CV] criterion=entropy, max_depth=2, min_samples_leaf=0.05, min_samples_split=0.05, n_estimators=100 \n",
      "[CV]  criterion=entropy, max_depth=2, min_samples_leaf=0.05, min_samples_split=0.05, n_estimators=100, total=   6.2s\n",
      "[CV] criterion=entropy, max_depth=2, min_samples_leaf=0.05, min_samples_split=0.1, n_estimators=10 \n",
      "[CV]  criterion=entropy, max_depth=2, min_samples_leaf=0.05, min_samples_split=0.1, n_estimators=10, total=   0.6s\n",
      "[CV] criterion=entropy, max_depth=2, min_samples_leaf=0.05, min_samples_split=0.1, n_estimators=10 \n",
      "[CV]  criterion=entropy, max_depth=2, min_samples_leaf=0.05, min_samples_split=0.1, n_estimators=10, total=   0.6s\n",
      "[CV] criterion=entropy, max_depth=2, min_samples_leaf=0.05, min_samples_split=0.1, n_estimators=10 \n",
      "[CV]  criterion=entropy, max_depth=2, min_samples_leaf=0.05, min_samples_split=0.1, n_estimators=10, total=   0.6s\n",
      "[CV] criterion=entropy, max_depth=2, min_samples_leaf=0.05, min_samples_split=0.1, n_estimators=100 \n",
      "[CV]  criterion=entropy, max_depth=2, min_samples_leaf=0.05, min_samples_split=0.1, n_estimators=100, total=   6.2s\n",
      "[CV] criterion=entropy, max_depth=2, min_samples_leaf=0.05, min_samples_split=0.1, n_estimators=100 \n",
      "[CV]  criterion=entropy, max_depth=2, min_samples_leaf=0.05, min_samples_split=0.1, n_estimators=100, total=   6.2s\n",
      "[CV] criterion=entropy, max_depth=2, min_samples_leaf=0.05, min_samples_split=0.1, n_estimators=100 \n",
      "[CV]  criterion=entropy, max_depth=2, min_samples_leaf=0.05, min_samples_split=0.1, n_estimators=100, total=   6.1s\n",
      "[CV] criterion=entropy, max_depth=2, min_samples_leaf=0.05, min_samples_split=0.2, n_estimators=10 \n",
      "[CV]  criterion=entropy, max_depth=2, min_samples_leaf=0.05, min_samples_split=0.2, n_estimators=10, total=   0.6s\n",
      "[CV] criterion=entropy, max_depth=2, min_samples_leaf=0.05, min_samples_split=0.2, n_estimators=10 \n",
      "[CV]  criterion=entropy, max_depth=2, min_samples_leaf=0.05, min_samples_split=0.2, n_estimators=10, total=   0.6s\n",
      "[CV] criterion=entropy, max_depth=2, min_samples_leaf=0.05, min_samples_split=0.2, n_estimators=10 \n",
      "[CV]  criterion=entropy, max_depth=2, min_samples_leaf=0.05, min_samples_split=0.2, n_estimators=10, total=   0.6s\n",
      "[CV] criterion=entropy, max_depth=2, min_samples_leaf=0.05, min_samples_split=0.2, n_estimators=100 \n",
      "[CV]  criterion=entropy, max_depth=2, min_samples_leaf=0.05, min_samples_split=0.2, n_estimators=100, total=   6.1s\n",
      "[CV] criterion=entropy, max_depth=2, min_samples_leaf=0.05, min_samples_split=0.2, n_estimators=100 \n",
      "[CV]  criterion=entropy, max_depth=2, min_samples_leaf=0.05, min_samples_split=0.2, n_estimators=100, total=   5.9s\n",
      "[CV] criterion=entropy, max_depth=2, min_samples_leaf=0.05, min_samples_split=0.2, n_estimators=100 \n",
      "[CV]  criterion=entropy, max_depth=2, min_samples_leaf=0.05, min_samples_split=0.2, n_estimators=100, total=   6.1s\n",
      "[CV] criterion=entropy, max_depth=2, min_samples_leaf=0.1, min_samples_split=0.05, n_estimators=10 \n",
      "[CV]  criterion=entropy, max_depth=2, min_samples_leaf=0.1, min_samples_split=0.05, n_estimators=10, total=   0.5s\n",
      "[CV] criterion=entropy, max_depth=2, min_samples_leaf=0.1, min_samples_split=0.05, n_estimators=10 \n",
      "[CV]  criterion=entropy, max_depth=2, min_samples_leaf=0.1, min_samples_split=0.05, n_estimators=10, total=   0.5s\n",
      "[CV] criterion=entropy, max_depth=2, min_samples_leaf=0.1, min_samples_split=0.05, n_estimators=10 \n",
      "[CV]  criterion=entropy, max_depth=2, min_samples_leaf=0.1, min_samples_split=0.05, n_estimators=10, total=   0.5s\n",
      "[CV] criterion=entropy, max_depth=2, min_samples_leaf=0.1, min_samples_split=0.05, n_estimators=100 \n",
      "[CV]  criterion=entropy, max_depth=2, min_samples_leaf=0.1, min_samples_split=0.05, n_estimators=100, total=   5.4s\n",
      "[CV] criterion=entropy, max_depth=2, min_samples_leaf=0.1, min_samples_split=0.05, n_estimators=100 \n",
      "[CV]  criterion=entropy, max_depth=2, min_samples_leaf=0.1, min_samples_split=0.05, n_estimators=100, total=   5.3s\n",
      "[CV] criterion=entropy, max_depth=2, min_samples_leaf=0.1, min_samples_split=0.05, n_estimators=100 \n",
      "[CV]  criterion=entropy, max_depth=2, min_samples_leaf=0.1, min_samples_split=0.05, n_estimators=100, total=   5.3s\n",
      "[CV] criterion=entropy, max_depth=2, min_samples_leaf=0.1, min_samples_split=0.1, n_estimators=10 \n",
      "[CV]  criterion=entropy, max_depth=2, min_samples_leaf=0.1, min_samples_split=0.1, n_estimators=10, total=   0.6s\n",
      "[CV] criterion=entropy, max_depth=2, min_samples_leaf=0.1, min_samples_split=0.1, n_estimators=10 \n",
      "[CV]  criterion=entropy, max_depth=2, min_samples_leaf=0.1, min_samples_split=0.1, n_estimators=10, total=   0.5s\n",
      "[CV] criterion=entropy, max_depth=2, min_samples_leaf=0.1, min_samples_split=0.1, n_estimators=10 \n",
      "[CV]  criterion=entropy, max_depth=2, min_samples_leaf=0.1, min_samples_split=0.1, n_estimators=10, total=   0.5s\n",
      "[CV] criterion=entropy, max_depth=2, min_samples_leaf=0.1, min_samples_split=0.1, n_estimators=100 \n",
      "[CV]  criterion=entropy, max_depth=2, min_samples_leaf=0.1, min_samples_split=0.1, n_estimators=100, total=   5.3s\n",
      "[CV] criterion=entropy, max_depth=2, min_samples_leaf=0.1, min_samples_split=0.1, n_estimators=100 \n",
      "[CV]  criterion=entropy, max_depth=2, min_samples_leaf=0.1, min_samples_split=0.1, n_estimators=100, total=   5.3s\n",
      "[CV] criterion=entropy, max_depth=2, min_samples_leaf=0.1, min_samples_split=0.1, n_estimators=100 \n",
      "[CV]  criterion=entropy, max_depth=2, min_samples_leaf=0.1, min_samples_split=0.1, n_estimators=100, total=   5.3s\n",
      "[CV] criterion=entropy, max_depth=2, min_samples_leaf=0.1, min_samples_split=0.2, n_estimators=10 \n",
      "[CV]  criterion=entropy, max_depth=2, min_samples_leaf=0.1, min_samples_split=0.2, n_estimators=10, total=   0.6s\n",
      "[CV] criterion=entropy, max_depth=2, min_samples_leaf=0.1, min_samples_split=0.2, n_estimators=10 \n",
      "[CV]  criterion=entropy, max_depth=2, min_samples_leaf=0.1, min_samples_split=0.2, n_estimators=10, total=   0.5s\n",
      "[CV] criterion=entropy, max_depth=2, min_samples_leaf=0.1, min_samples_split=0.2, n_estimators=10 \n",
      "[CV]  criterion=entropy, max_depth=2, min_samples_leaf=0.1, min_samples_split=0.2, n_estimators=10, total=   0.5s\n",
      "[CV] criterion=entropy, max_depth=2, min_samples_leaf=0.1, min_samples_split=0.2, n_estimators=100 \n",
      "[CV]  criterion=entropy, max_depth=2, min_samples_leaf=0.1, min_samples_split=0.2, n_estimators=100, total=   5.3s\n",
      "[CV] criterion=entropy, max_depth=2, min_samples_leaf=0.1, min_samples_split=0.2, n_estimators=100 \n",
      "[CV]  criterion=entropy, max_depth=2, min_samples_leaf=0.1, min_samples_split=0.2, n_estimators=100, total=   5.3s\n",
      "[CV] criterion=entropy, max_depth=2, min_samples_leaf=0.1, min_samples_split=0.2, n_estimators=100 \n",
      "[CV]  criterion=entropy, max_depth=2, min_samples_leaf=0.1, min_samples_split=0.2, n_estimators=100, total=   5.3s\n",
      "[CV] criterion=entropy, max_depth=2, min_samples_leaf=0.2, min_samples_split=0.05, n_estimators=10 \n",
      "[CV]  criterion=entropy, max_depth=2, min_samples_leaf=0.2, min_samples_split=0.05, n_estimators=10, total=   0.3s\n",
      "[CV] criterion=entropy, max_depth=2, min_samples_leaf=0.2, min_samples_split=0.05, n_estimators=10 \n",
      "[CV]  criterion=entropy, max_depth=2, min_samples_leaf=0.2, min_samples_split=0.05, n_estimators=10, total=   0.4s\n",
      "[CV] criterion=entropy, max_depth=2, min_samples_leaf=0.2, min_samples_split=0.05, n_estimators=10 \n",
      "[CV]  criterion=entropy, max_depth=2, min_samples_leaf=0.2, min_samples_split=0.05, n_estimators=10, total=   0.5s\n",
      "[CV] criterion=entropy, max_depth=2, min_samples_leaf=0.2, min_samples_split=0.05, n_estimators=100 \n",
      "[CV]  criterion=entropy, max_depth=2, min_samples_leaf=0.2, min_samples_split=0.05, n_estimators=100, total=   3.6s\n",
      "[CV] criterion=entropy, max_depth=2, min_samples_leaf=0.2, min_samples_split=0.05, n_estimators=100 \n"
     ]
    },
    {
     "name": "stdout",
     "output_type": "stream",
     "text": [
      "[CV]  criterion=entropy, max_depth=2, min_samples_leaf=0.2, min_samples_split=0.05, n_estimators=100, total=   3.5s\n",
      "[CV] criterion=entropy, max_depth=2, min_samples_leaf=0.2, min_samples_split=0.05, n_estimators=100 \n",
      "[CV]  criterion=entropy, max_depth=2, min_samples_leaf=0.2, min_samples_split=0.05, n_estimators=100, total=   3.6s\n",
      "[CV] criterion=entropy, max_depth=2, min_samples_leaf=0.2, min_samples_split=0.1, n_estimators=10 \n",
      "[CV]  criterion=entropy, max_depth=2, min_samples_leaf=0.2, min_samples_split=0.1, n_estimators=10, total=   0.4s\n",
      "[CV] criterion=entropy, max_depth=2, min_samples_leaf=0.2, min_samples_split=0.1, n_estimators=10 \n",
      "[CV]  criterion=entropy, max_depth=2, min_samples_leaf=0.2, min_samples_split=0.1, n_estimators=10, total=   0.4s\n",
      "[CV] criterion=entropy, max_depth=2, min_samples_leaf=0.2, min_samples_split=0.1, n_estimators=10 \n",
      "[CV]  criterion=entropy, max_depth=2, min_samples_leaf=0.2, min_samples_split=0.1, n_estimators=10, total=   0.4s\n",
      "[CV] criterion=entropy, max_depth=2, min_samples_leaf=0.2, min_samples_split=0.1, n_estimators=100 \n",
      "[CV]  criterion=entropy, max_depth=2, min_samples_leaf=0.2, min_samples_split=0.1, n_estimators=100, total=   3.5s\n",
      "[CV] criterion=entropy, max_depth=2, min_samples_leaf=0.2, min_samples_split=0.1, n_estimators=100 \n",
      "[CV]  criterion=entropy, max_depth=2, min_samples_leaf=0.2, min_samples_split=0.1, n_estimators=100, total=   3.5s\n",
      "[CV] criterion=entropy, max_depth=2, min_samples_leaf=0.2, min_samples_split=0.1, n_estimators=100 \n",
      "[CV]  criterion=entropy, max_depth=2, min_samples_leaf=0.2, min_samples_split=0.1, n_estimators=100, total=   3.5s\n",
      "[CV] criterion=entropy, max_depth=2, min_samples_leaf=0.2, min_samples_split=0.2, n_estimators=10 \n",
      "[CV]  criterion=entropy, max_depth=2, min_samples_leaf=0.2, min_samples_split=0.2, n_estimators=10, total=   0.4s\n",
      "[CV] criterion=entropy, max_depth=2, min_samples_leaf=0.2, min_samples_split=0.2, n_estimators=10 \n",
      "[CV]  criterion=entropy, max_depth=2, min_samples_leaf=0.2, min_samples_split=0.2, n_estimators=10, total=   0.4s\n",
      "[CV] criterion=entropy, max_depth=2, min_samples_leaf=0.2, min_samples_split=0.2, n_estimators=10 \n",
      "[CV]  criterion=entropy, max_depth=2, min_samples_leaf=0.2, min_samples_split=0.2, n_estimators=10, total=   0.4s\n",
      "[CV] criterion=entropy, max_depth=2, min_samples_leaf=0.2, min_samples_split=0.2, n_estimators=100 \n",
      "[CV]  criterion=entropy, max_depth=2, min_samples_leaf=0.2, min_samples_split=0.2, n_estimators=100, total=   3.5s\n",
      "[CV] criterion=entropy, max_depth=2, min_samples_leaf=0.2, min_samples_split=0.2, n_estimators=100 \n",
      "[CV]  criterion=entropy, max_depth=2, min_samples_leaf=0.2, min_samples_split=0.2, n_estimators=100, total=   3.4s\n",
      "[CV] criterion=entropy, max_depth=2, min_samples_leaf=0.2, min_samples_split=0.2, n_estimators=100 \n",
      "[CV]  criterion=entropy, max_depth=2, min_samples_leaf=0.2, min_samples_split=0.2, n_estimators=100, total=   3.7s\n",
      "[CV] criterion=entropy, max_depth=5, min_samples_leaf=0.05, min_samples_split=0.05, n_estimators=10 \n",
      "[CV]  criterion=entropy, max_depth=5, min_samples_leaf=0.05, min_samples_split=0.05, n_estimators=10, total=   1.0s\n",
      "[CV] criterion=entropy, max_depth=5, min_samples_leaf=0.05, min_samples_split=0.05, n_estimators=10 \n",
      "[CV]  criterion=entropy, max_depth=5, min_samples_leaf=0.05, min_samples_split=0.05, n_estimators=10, total=   1.0s\n",
      "[CV] criterion=entropy, max_depth=5, min_samples_leaf=0.05, min_samples_split=0.05, n_estimators=10 \n",
      "[CV]  criterion=entropy, max_depth=5, min_samples_leaf=0.05, min_samples_split=0.05, n_estimators=10, total=   1.0s\n",
      "[CV] criterion=entropy, max_depth=5, min_samples_leaf=0.05, min_samples_split=0.05, n_estimators=100 \n",
      "[CV]  criterion=entropy, max_depth=5, min_samples_leaf=0.05, min_samples_split=0.05, n_estimators=100, total=  10.4s\n",
      "[CV] criterion=entropy, max_depth=5, min_samples_leaf=0.05, min_samples_split=0.05, n_estimators=100 \n",
      "[CV]  criterion=entropy, max_depth=5, min_samples_leaf=0.05, min_samples_split=0.05, n_estimators=100, total=  10.4s\n",
      "[CV] criterion=entropy, max_depth=5, min_samples_leaf=0.05, min_samples_split=0.05, n_estimators=100 \n",
      "[CV]  criterion=entropy, max_depth=5, min_samples_leaf=0.05, min_samples_split=0.05, n_estimators=100, total=  10.4s\n",
      "[CV] criterion=entropy, max_depth=5, min_samples_leaf=0.05, min_samples_split=0.1, n_estimators=10 \n",
      "[CV]  criterion=entropy, max_depth=5, min_samples_leaf=0.05, min_samples_split=0.1, n_estimators=10, total=   1.1s\n",
      "[CV] criterion=entropy, max_depth=5, min_samples_leaf=0.05, min_samples_split=0.1, n_estimators=10 \n",
      "[CV]  criterion=entropy, max_depth=5, min_samples_leaf=0.05, min_samples_split=0.1, n_estimators=10, total=   1.1s\n",
      "[CV] criterion=entropy, max_depth=5, min_samples_leaf=0.05, min_samples_split=0.1, n_estimators=10 \n",
      "[CV]  criterion=entropy, max_depth=5, min_samples_leaf=0.05, min_samples_split=0.1, n_estimators=10, total=   1.0s\n",
      "[CV] criterion=entropy, max_depth=5, min_samples_leaf=0.05, min_samples_split=0.1, n_estimators=100 \n",
      "[CV]  criterion=entropy, max_depth=5, min_samples_leaf=0.05, min_samples_split=0.1, n_estimators=100, total=  10.4s\n",
      "[CV] criterion=entropy, max_depth=5, min_samples_leaf=0.05, min_samples_split=0.1, n_estimators=100 \n",
      "[CV]  criterion=entropy, max_depth=5, min_samples_leaf=0.05, min_samples_split=0.1, n_estimators=100, total=  10.4s\n",
      "[CV] criterion=entropy, max_depth=5, min_samples_leaf=0.05, min_samples_split=0.1, n_estimators=100 \n",
      "[CV]  criterion=entropy, max_depth=5, min_samples_leaf=0.05, min_samples_split=0.1, n_estimators=100, total=  10.5s\n",
      "[CV] criterion=entropy, max_depth=5, min_samples_leaf=0.05, min_samples_split=0.2, n_estimators=10 \n",
      "[CV]  criterion=entropy, max_depth=5, min_samples_leaf=0.05, min_samples_split=0.2, n_estimators=10, total=   0.9s\n",
      "[CV] criterion=entropy, max_depth=5, min_samples_leaf=0.05, min_samples_split=0.2, n_estimators=10 \n",
      "[CV]  criterion=entropy, max_depth=5, min_samples_leaf=0.05, min_samples_split=0.2, n_estimators=10, total=   0.9s\n",
      "[CV] criterion=entropy, max_depth=5, min_samples_leaf=0.05, min_samples_split=0.2, n_estimators=10 \n",
      "[CV]  criterion=entropy, max_depth=5, min_samples_leaf=0.05, min_samples_split=0.2, n_estimators=10, total=   1.0s\n",
      "[CV] criterion=entropy, max_depth=5, min_samples_leaf=0.05, min_samples_split=0.2, n_estimators=100 \n",
      "[CV]  criterion=entropy, max_depth=5, min_samples_leaf=0.05, min_samples_split=0.2, n_estimators=100, total=   9.1s\n",
      "[CV] criterion=entropy, max_depth=5, min_samples_leaf=0.05, min_samples_split=0.2, n_estimators=100 \n",
      "[CV]  criterion=entropy, max_depth=5, min_samples_leaf=0.05, min_samples_split=0.2, n_estimators=100, total=   9.2s\n",
      "[CV] criterion=entropy, max_depth=5, min_samples_leaf=0.05, min_samples_split=0.2, n_estimators=100 \n",
      "[CV]  criterion=entropy, max_depth=5, min_samples_leaf=0.05, min_samples_split=0.2, n_estimators=100, total=   9.2s\n",
      "[CV] criterion=entropy, max_depth=5, min_samples_leaf=0.1, min_samples_split=0.05, n_estimators=10 \n",
      "[CV]  criterion=entropy, max_depth=5, min_samples_leaf=0.1, min_samples_split=0.05, n_estimators=10, total=   0.7s\n",
      "[CV] criterion=entropy, max_depth=5, min_samples_leaf=0.1, min_samples_split=0.05, n_estimators=10 \n",
      "[CV]  criterion=entropy, max_depth=5, min_samples_leaf=0.1, min_samples_split=0.05, n_estimators=10, total=   0.7s\n",
      "[CV] criterion=entropy, max_depth=5, min_samples_leaf=0.1, min_samples_split=0.05, n_estimators=10 \n",
      "[CV]  criterion=entropy, max_depth=5, min_samples_leaf=0.1, min_samples_split=0.05, n_estimators=10, total=   0.7s\n",
      "[CV] criterion=entropy, max_depth=5, min_samples_leaf=0.1, min_samples_split=0.05, n_estimators=100 \n",
      "[CV]  criterion=entropy, max_depth=5, min_samples_leaf=0.1, min_samples_split=0.05, n_estimators=100, total=   6.8s\n",
      "[CV] criterion=entropy, max_depth=5, min_samples_leaf=0.1, min_samples_split=0.05, n_estimators=100 \n",
      "[CV]  criterion=entropy, max_depth=5, min_samples_leaf=0.1, min_samples_split=0.05, n_estimators=100, total=   6.9s\n",
      "[CV] criterion=entropy, max_depth=5, min_samples_leaf=0.1, min_samples_split=0.05, n_estimators=100 \n",
      "[CV]  criterion=entropy, max_depth=5, min_samples_leaf=0.1, min_samples_split=0.05, n_estimators=100, total=   6.7s\n",
      "[CV] criterion=entropy, max_depth=5, min_samples_leaf=0.1, min_samples_split=0.1, n_estimators=10 \n"
     ]
    },
    {
     "name": "stdout",
     "output_type": "stream",
     "text": [
      "[CV]  criterion=entropy, max_depth=5, min_samples_leaf=0.1, min_samples_split=0.1, n_estimators=10, total=   0.7s\n",
      "[CV] criterion=entropy, max_depth=5, min_samples_leaf=0.1, min_samples_split=0.1, n_estimators=10 \n",
      "[CV]  criterion=entropy, max_depth=5, min_samples_leaf=0.1, min_samples_split=0.1, n_estimators=10, total=   0.8s\n",
      "[CV] criterion=entropy, max_depth=5, min_samples_leaf=0.1, min_samples_split=0.1, n_estimators=10 \n",
      "[CV]  criterion=entropy, max_depth=5, min_samples_leaf=0.1, min_samples_split=0.1, n_estimators=10, total=   0.7s\n",
      "[CV] criterion=entropy, max_depth=5, min_samples_leaf=0.1, min_samples_split=0.1, n_estimators=100 \n",
      "[CV]  criterion=entropy, max_depth=5, min_samples_leaf=0.1, min_samples_split=0.1, n_estimators=100, total=   6.8s\n",
      "[CV] criterion=entropy, max_depth=5, min_samples_leaf=0.1, min_samples_split=0.1, n_estimators=100 \n",
      "[CV]  criterion=entropy, max_depth=5, min_samples_leaf=0.1, min_samples_split=0.1, n_estimators=100, total=   6.9s\n",
      "[CV] criterion=entropy, max_depth=5, min_samples_leaf=0.1, min_samples_split=0.1, n_estimators=100 \n",
      "[CV]  criterion=entropy, max_depth=5, min_samples_leaf=0.1, min_samples_split=0.1, n_estimators=100, total=   6.8s\n",
      "[CV] criterion=entropy, max_depth=5, min_samples_leaf=0.1, min_samples_split=0.2, n_estimators=10 \n",
      "[CV]  criterion=entropy, max_depth=5, min_samples_leaf=0.1, min_samples_split=0.2, n_estimators=10, total=   0.7s\n",
      "[CV] criterion=entropy, max_depth=5, min_samples_leaf=0.1, min_samples_split=0.2, n_estimators=10 \n",
      "[CV]  criterion=entropy, max_depth=5, min_samples_leaf=0.1, min_samples_split=0.2, n_estimators=10, total=   0.7s\n",
      "[CV] criterion=entropy, max_depth=5, min_samples_leaf=0.1, min_samples_split=0.2, n_estimators=10 \n",
      "[CV]  criterion=entropy, max_depth=5, min_samples_leaf=0.1, min_samples_split=0.2, n_estimators=10, total=   0.7s\n",
      "[CV] criterion=entropy, max_depth=5, min_samples_leaf=0.1, min_samples_split=0.2, n_estimators=100 \n",
      "[CV]  criterion=entropy, max_depth=5, min_samples_leaf=0.1, min_samples_split=0.2, n_estimators=100, total=   6.8s\n",
      "[CV] criterion=entropy, max_depth=5, min_samples_leaf=0.1, min_samples_split=0.2, n_estimators=100 \n",
      "[CV]  criterion=entropy, max_depth=5, min_samples_leaf=0.1, min_samples_split=0.2, n_estimators=100, total=   6.9s\n",
      "[CV] criterion=entropy, max_depth=5, min_samples_leaf=0.1, min_samples_split=0.2, n_estimators=100 \n",
      "[CV]  criterion=entropy, max_depth=5, min_samples_leaf=0.1, min_samples_split=0.2, n_estimators=100, total=   6.7s\n",
      "[CV] criterion=entropy, max_depth=5, min_samples_leaf=0.2, min_samples_split=0.05, n_estimators=10 \n",
      "[CV]  criterion=entropy, max_depth=5, min_samples_leaf=0.2, min_samples_split=0.05, n_estimators=10, total=   0.3s\n",
      "[CV] criterion=entropy, max_depth=5, min_samples_leaf=0.2, min_samples_split=0.05, n_estimators=10 \n",
      "[CV]  criterion=entropy, max_depth=5, min_samples_leaf=0.2, min_samples_split=0.05, n_estimators=10, total=   0.4s\n",
      "[CV] criterion=entropy, max_depth=5, min_samples_leaf=0.2, min_samples_split=0.05, n_estimators=10 \n",
      "[CV]  criterion=entropy, max_depth=5, min_samples_leaf=0.2, min_samples_split=0.05, n_estimators=10, total=   0.4s\n",
      "[CV] criterion=entropy, max_depth=5, min_samples_leaf=0.2, min_samples_split=0.05, n_estimators=100 \n",
      "[CV]  criterion=entropy, max_depth=5, min_samples_leaf=0.2, min_samples_split=0.05, n_estimators=100, total=   3.5s\n",
      "[CV] criterion=entropy, max_depth=5, min_samples_leaf=0.2, min_samples_split=0.05, n_estimators=100 \n",
      "[CV]  criterion=entropy, max_depth=5, min_samples_leaf=0.2, min_samples_split=0.05, n_estimators=100, total=   3.5s\n",
      "[CV] criterion=entropy, max_depth=5, min_samples_leaf=0.2, min_samples_split=0.05, n_estimators=100 \n",
      "[CV]  criterion=entropy, max_depth=5, min_samples_leaf=0.2, min_samples_split=0.05, n_estimators=100, total=   3.5s\n",
      "[CV] criterion=entropy, max_depth=5, min_samples_leaf=0.2, min_samples_split=0.1, n_estimators=10 \n",
      "[CV]  criterion=entropy, max_depth=5, min_samples_leaf=0.2, min_samples_split=0.1, n_estimators=10, total=   0.3s\n",
      "[CV] criterion=entropy, max_depth=5, min_samples_leaf=0.2, min_samples_split=0.1, n_estimators=10 \n",
      "[CV]  criterion=entropy, max_depth=5, min_samples_leaf=0.2, min_samples_split=0.1, n_estimators=10, total=   0.3s\n",
      "[CV] criterion=entropy, max_depth=5, min_samples_leaf=0.2, min_samples_split=0.1, n_estimators=10 \n",
      "[CV]  criterion=entropy, max_depth=5, min_samples_leaf=0.2, min_samples_split=0.1, n_estimators=10, total=   0.3s\n",
      "[CV] criterion=entropy, max_depth=5, min_samples_leaf=0.2, min_samples_split=0.1, n_estimators=100 \n",
      "[CV]  criterion=entropy, max_depth=5, min_samples_leaf=0.2, min_samples_split=0.1, n_estimators=100, total=   3.6s\n",
      "[CV] criterion=entropy, max_depth=5, min_samples_leaf=0.2, min_samples_split=0.1, n_estimators=100 \n",
      "[CV]  criterion=entropy, max_depth=5, min_samples_leaf=0.2, min_samples_split=0.1, n_estimators=100, total=   3.5s\n",
      "[CV] criterion=entropy, max_depth=5, min_samples_leaf=0.2, min_samples_split=0.1, n_estimators=100 \n",
      "[CV]  criterion=entropy, max_depth=5, min_samples_leaf=0.2, min_samples_split=0.1, n_estimators=100, total=   3.6s\n",
      "[CV] criterion=entropy, max_depth=5, min_samples_leaf=0.2, min_samples_split=0.2, n_estimators=10 \n",
      "[CV]  criterion=entropy, max_depth=5, min_samples_leaf=0.2, min_samples_split=0.2, n_estimators=10, total=   0.4s\n",
      "[CV] criterion=entropy, max_depth=5, min_samples_leaf=0.2, min_samples_split=0.2, n_estimators=10 \n",
      "[CV]  criterion=entropy, max_depth=5, min_samples_leaf=0.2, min_samples_split=0.2, n_estimators=10, total=   0.4s\n",
      "[CV] criterion=entropy, max_depth=5, min_samples_leaf=0.2, min_samples_split=0.2, n_estimators=10 \n",
      "[CV]  criterion=entropy, max_depth=5, min_samples_leaf=0.2, min_samples_split=0.2, n_estimators=10, total=   0.4s\n",
      "[CV] criterion=entropy, max_depth=5, min_samples_leaf=0.2, min_samples_split=0.2, n_estimators=100 \n",
      "[CV]  criterion=entropy, max_depth=5, min_samples_leaf=0.2, min_samples_split=0.2, n_estimators=100, total=   3.5s\n",
      "[CV] criterion=entropy, max_depth=5, min_samples_leaf=0.2, min_samples_split=0.2, n_estimators=100 \n",
      "[CV]  criterion=entropy, max_depth=5, min_samples_leaf=0.2, min_samples_split=0.2, n_estimators=100, total=   3.5s\n",
      "[CV] criterion=entropy, max_depth=5, min_samples_leaf=0.2, min_samples_split=0.2, n_estimators=100 \n",
      "[CV]  criterion=entropy, max_depth=5, min_samples_leaf=0.2, min_samples_split=0.2, n_estimators=100, total=   3.5s\n",
      "[CV] criterion=entropy, max_depth=10, min_samples_leaf=0.05, min_samples_split=0.05, n_estimators=10 \n",
      "[CV]  criterion=entropy, max_depth=10, min_samples_leaf=0.05, min_samples_split=0.05, n_estimators=10, total=   1.2s\n",
      "[CV] criterion=entropy, max_depth=10, min_samples_leaf=0.05, min_samples_split=0.05, n_estimators=10 \n",
      "[CV]  criterion=entropy, max_depth=10, min_samples_leaf=0.05, min_samples_split=0.05, n_estimators=10, total=   1.2s\n",
      "[CV] criterion=entropy, max_depth=10, min_samples_leaf=0.05, min_samples_split=0.05, n_estimators=10 \n",
      "[CV]  criterion=entropy, max_depth=10, min_samples_leaf=0.05, min_samples_split=0.05, n_estimators=10, total=   1.2s\n",
      "[CV] criterion=entropy, max_depth=10, min_samples_leaf=0.05, min_samples_split=0.05, n_estimators=100 \n",
      "[CV]  criterion=entropy, max_depth=10, min_samples_leaf=0.05, min_samples_split=0.05, n_estimators=100, total=  10.9s\n",
      "[CV] criterion=entropy, max_depth=10, min_samples_leaf=0.05, min_samples_split=0.05, n_estimators=100 \n",
      "[CV]  criterion=entropy, max_depth=10, min_samples_leaf=0.05, min_samples_split=0.05, n_estimators=100, total=  10.9s\n",
      "[CV] criterion=entropy, max_depth=10, min_samples_leaf=0.05, min_samples_split=0.05, n_estimators=100 \n",
      "[CV]  criterion=entropy, max_depth=10, min_samples_leaf=0.05, min_samples_split=0.05, n_estimators=100, total=  10.7s\n",
      "[CV] criterion=entropy, max_depth=10, min_samples_leaf=0.05, min_samples_split=0.1, n_estimators=10 \n",
      "[CV]  criterion=entropy, max_depth=10, min_samples_leaf=0.05, min_samples_split=0.1, n_estimators=10, total=   1.1s\n",
      "[CV] criterion=entropy, max_depth=10, min_samples_leaf=0.05, min_samples_split=0.1, n_estimators=10 \n",
      "[CV]  criterion=entropy, max_depth=10, min_samples_leaf=0.05, min_samples_split=0.1, n_estimators=10, total=   1.1s\n",
      "[CV] criterion=entropy, max_depth=10, min_samples_leaf=0.05, min_samples_split=0.1, n_estimators=10 \n",
      "[CV]  criterion=entropy, max_depth=10, min_samples_leaf=0.05, min_samples_split=0.1, n_estimators=10, total=   1.1s\n",
      "[CV] criterion=entropy, max_depth=10, min_samples_leaf=0.05, min_samples_split=0.1, n_estimators=100 \n"
     ]
    },
    {
     "name": "stdout",
     "output_type": "stream",
     "text": [
      "[CV]  criterion=entropy, max_depth=10, min_samples_leaf=0.05, min_samples_split=0.1, n_estimators=100, total=  11.0s\n",
      "[CV] criterion=entropy, max_depth=10, min_samples_leaf=0.05, min_samples_split=0.1, n_estimators=100 \n",
      "[CV]  criterion=entropy, max_depth=10, min_samples_leaf=0.05, min_samples_split=0.1, n_estimators=100, total=  10.8s\n",
      "[CV] criterion=entropy, max_depth=10, min_samples_leaf=0.05, min_samples_split=0.1, n_estimators=100 \n",
      "[CV]  criterion=entropy, max_depth=10, min_samples_leaf=0.05, min_samples_split=0.1, n_estimators=100, total=  10.8s\n",
      "[CV] criterion=entropy, max_depth=10, min_samples_leaf=0.05, min_samples_split=0.2, n_estimators=10 \n",
      "[CV]  criterion=entropy, max_depth=10, min_samples_leaf=0.05, min_samples_split=0.2, n_estimators=10, total=   1.0s\n",
      "[CV] criterion=entropy, max_depth=10, min_samples_leaf=0.05, min_samples_split=0.2, n_estimators=10 \n",
      "[CV]  criterion=entropy, max_depth=10, min_samples_leaf=0.05, min_samples_split=0.2, n_estimators=10, total=   1.0s\n",
      "[CV] criterion=entropy, max_depth=10, min_samples_leaf=0.05, min_samples_split=0.2, n_estimators=10 \n",
      "[CV]  criterion=entropy, max_depth=10, min_samples_leaf=0.05, min_samples_split=0.2, n_estimators=10, total=   1.0s\n",
      "[CV] criterion=entropy, max_depth=10, min_samples_leaf=0.05, min_samples_split=0.2, n_estimators=100 \n",
      "[CV]  criterion=entropy, max_depth=10, min_samples_leaf=0.05, min_samples_split=0.2, n_estimators=100, total=   9.3s\n",
      "[CV] criterion=entropy, max_depth=10, min_samples_leaf=0.05, min_samples_split=0.2, n_estimators=100 \n",
      "[CV]  criterion=entropy, max_depth=10, min_samples_leaf=0.05, min_samples_split=0.2, n_estimators=100, total=   9.2s\n",
      "[CV] criterion=entropy, max_depth=10, min_samples_leaf=0.05, min_samples_split=0.2, n_estimators=100 \n",
      "[CV]  criterion=entropy, max_depth=10, min_samples_leaf=0.05, min_samples_split=0.2, n_estimators=100, total=   9.1s\n",
      "[CV] criterion=entropy, max_depth=10, min_samples_leaf=0.1, min_samples_split=0.05, n_estimators=10 \n",
      "[CV]  criterion=entropy, max_depth=10, min_samples_leaf=0.1, min_samples_split=0.05, n_estimators=10, total=   0.7s\n",
      "[CV] criterion=entropy, max_depth=10, min_samples_leaf=0.1, min_samples_split=0.05, n_estimators=10 \n",
      "[CV]  criterion=entropy, max_depth=10, min_samples_leaf=0.1, min_samples_split=0.05, n_estimators=10, total=   0.7s\n",
      "[CV] criterion=entropy, max_depth=10, min_samples_leaf=0.1, min_samples_split=0.05, n_estimators=10 \n",
      "[CV]  criterion=entropy, max_depth=10, min_samples_leaf=0.1, min_samples_split=0.05, n_estimators=10, total=   0.7s\n",
      "[CV] criterion=entropy, max_depth=10, min_samples_leaf=0.1, min_samples_split=0.05, n_estimators=100 \n",
      "[CV]  criterion=entropy, max_depth=10, min_samples_leaf=0.1, min_samples_split=0.05, n_estimators=100, total=   6.9s\n",
      "[CV] criterion=entropy, max_depth=10, min_samples_leaf=0.1, min_samples_split=0.05, n_estimators=100 \n",
      "[CV]  criterion=entropy, max_depth=10, min_samples_leaf=0.1, min_samples_split=0.05, n_estimators=100, total=   6.9s\n",
      "[CV] criterion=entropy, max_depth=10, min_samples_leaf=0.1, min_samples_split=0.05, n_estimators=100 \n",
      "[CV]  criterion=entropy, max_depth=10, min_samples_leaf=0.1, min_samples_split=0.05, n_estimators=100, total=   6.9s\n",
      "[CV] criterion=entropy, max_depth=10, min_samples_leaf=0.1, min_samples_split=0.1, n_estimators=10 \n",
      "[CV]  criterion=entropy, max_depth=10, min_samples_leaf=0.1, min_samples_split=0.1, n_estimators=10, total=   0.7s\n",
      "[CV] criterion=entropy, max_depth=10, min_samples_leaf=0.1, min_samples_split=0.1, n_estimators=10 \n",
      "[CV]  criterion=entropy, max_depth=10, min_samples_leaf=0.1, min_samples_split=0.1, n_estimators=10, total=   0.7s\n",
      "[CV] criterion=entropy, max_depth=10, min_samples_leaf=0.1, min_samples_split=0.1, n_estimators=10 \n",
      "[CV]  criterion=entropy, max_depth=10, min_samples_leaf=0.1, min_samples_split=0.1, n_estimators=10, total=   0.6s\n",
      "[CV] criterion=entropy, max_depth=10, min_samples_leaf=0.1, min_samples_split=0.1, n_estimators=100 \n",
      "[CV]  criterion=entropy, max_depth=10, min_samples_leaf=0.1, min_samples_split=0.1, n_estimators=100, total=   6.9s\n",
      "[CV] criterion=entropy, max_depth=10, min_samples_leaf=0.1, min_samples_split=0.1, n_estimators=100 \n",
      "[CV]  criterion=entropy, max_depth=10, min_samples_leaf=0.1, min_samples_split=0.1, n_estimators=100, total=   6.8s\n",
      "[CV] criterion=entropy, max_depth=10, min_samples_leaf=0.1, min_samples_split=0.1, n_estimators=100 \n",
      "[CV]  criterion=entropy, max_depth=10, min_samples_leaf=0.1, min_samples_split=0.1, n_estimators=100, total=   6.7s\n",
      "[CV] criterion=entropy, max_depth=10, min_samples_leaf=0.1, min_samples_split=0.2, n_estimators=10 \n",
      "[CV]  criterion=entropy, max_depth=10, min_samples_leaf=0.1, min_samples_split=0.2, n_estimators=10, total=   0.7s\n",
      "[CV] criterion=entropy, max_depth=10, min_samples_leaf=0.1, min_samples_split=0.2, n_estimators=10 \n",
      "[CV]  criterion=entropy, max_depth=10, min_samples_leaf=0.1, min_samples_split=0.2, n_estimators=10, total=   0.7s\n",
      "[CV] criterion=entropy, max_depth=10, min_samples_leaf=0.1, min_samples_split=0.2, n_estimators=10 \n",
      "[CV]  criterion=entropy, max_depth=10, min_samples_leaf=0.1, min_samples_split=0.2, n_estimators=10, total=   0.7s\n",
      "[CV] criterion=entropy, max_depth=10, min_samples_leaf=0.1, min_samples_split=0.2, n_estimators=100 \n",
      "[CV]  criterion=entropy, max_depth=10, min_samples_leaf=0.1, min_samples_split=0.2, n_estimators=100, total=   6.8s\n",
      "[CV] criterion=entropy, max_depth=10, min_samples_leaf=0.1, min_samples_split=0.2, n_estimators=100 \n",
      "[CV]  criterion=entropy, max_depth=10, min_samples_leaf=0.1, min_samples_split=0.2, n_estimators=100, total=   7.0s\n",
      "[CV] criterion=entropy, max_depth=10, min_samples_leaf=0.1, min_samples_split=0.2, n_estimators=100 \n",
      "[CV]  criterion=entropy, max_depth=10, min_samples_leaf=0.1, min_samples_split=0.2, n_estimators=100, total=   6.8s\n",
      "[CV] criterion=entropy, max_depth=10, min_samples_leaf=0.2, min_samples_split=0.05, n_estimators=10 \n",
      "[CV]  criterion=entropy, max_depth=10, min_samples_leaf=0.2, min_samples_split=0.05, n_estimators=10, total=   0.3s\n",
      "[CV] criterion=entropy, max_depth=10, min_samples_leaf=0.2, min_samples_split=0.05, n_estimators=10 \n",
      "[CV]  criterion=entropy, max_depth=10, min_samples_leaf=0.2, min_samples_split=0.05, n_estimators=10, total=   0.4s\n",
      "[CV] criterion=entropy, max_depth=10, min_samples_leaf=0.2, min_samples_split=0.05, n_estimators=10 \n",
      "[CV]  criterion=entropy, max_depth=10, min_samples_leaf=0.2, min_samples_split=0.05, n_estimators=10, total=   0.3s\n",
      "[CV] criterion=entropy, max_depth=10, min_samples_leaf=0.2, min_samples_split=0.05, n_estimators=100 \n",
      "[CV]  criterion=entropy, max_depth=10, min_samples_leaf=0.2, min_samples_split=0.05, n_estimators=100, total=   3.4s\n",
      "[CV] criterion=entropy, max_depth=10, min_samples_leaf=0.2, min_samples_split=0.05, n_estimators=100 \n",
      "[CV]  criterion=entropy, max_depth=10, min_samples_leaf=0.2, min_samples_split=0.05, n_estimators=100, total=   3.4s\n",
      "[CV] criterion=entropy, max_depth=10, min_samples_leaf=0.2, min_samples_split=0.05, n_estimators=100 \n",
      "[CV]  criterion=entropy, max_depth=10, min_samples_leaf=0.2, min_samples_split=0.05, n_estimators=100, total=   3.6s\n",
      "[CV] criterion=entropy, max_depth=10, min_samples_leaf=0.2, min_samples_split=0.1, n_estimators=10 \n",
      "[CV]  criterion=entropy, max_depth=10, min_samples_leaf=0.2, min_samples_split=0.1, n_estimators=10, total=   0.4s\n",
      "[CV] criterion=entropy, max_depth=10, min_samples_leaf=0.2, min_samples_split=0.1, n_estimators=10 \n",
      "[CV]  criterion=entropy, max_depth=10, min_samples_leaf=0.2, min_samples_split=0.1, n_estimators=10, total=   0.4s\n",
      "[CV] criterion=entropy, max_depth=10, min_samples_leaf=0.2, min_samples_split=0.1, n_estimators=10 \n",
      "[CV]  criterion=entropy, max_depth=10, min_samples_leaf=0.2, min_samples_split=0.1, n_estimators=10, total=   0.4s\n",
      "[CV] criterion=entropy, max_depth=10, min_samples_leaf=0.2, min_samples_split=0.1, n_estimators=100 \n",
      "[CV]  criterion=entropy, max_depth=10, min_samples_leaf=0.2, min_samples_split=0.1, n_estimators=100, total=   3.4s\n",
      "[CV] criterion=entropy, max_depth=10, min_samples_leaf=0.2, min_samples_split=0.1, n_estimators=100 \n",
      "[CV]  criterion=entropy, max_depth=10, min_samples_leaf=0.2, min_samples_split=0.1, n_estimators=100, total=   3.5s\n",
      "[CV] criterion=entropy, max_depth=10, min_samples_leaf=0.2, min_samples_split=0.1, n_estimators=100 \n"
     ]
    },
    {
     "name": "stdout",
     "output_type": "stream",
     "text": [
      "[CV]  criterion=entropy, max_depth=10, min_samples_leaf=0.2, min_samples_split=0.1, n_estimators=100, total=   3.5s\n",
      "[CV] criterion=entropy, max_depth=10, min_samples_leaf=0.2, min_samples_split=0.2, n_estimators=10 \n",
      "[CV]  criterion=entropy, max_depth=10, min_samples_leaf=0.2, min_samples_split=0.2, n_estimators=10, total=   0.3s\n",
      "[CV] criterion=entropy, max_depth=10, min_samples_leaf=0.2, min_samples_split=0.2, n_estimators=10 \n",
      "[CV]  criterion=entropy, max_depth=10, min_samples_leaf=0.2, min_samples_split=0.2, n_estimators=10, total=   0.3s\n",
      "[CV] criterion=entropy, max_depth=10, min_samples_leaf=0.2, min_samples_split=0.2, n_estimators=10 \n",
      "[CV]  criterion=entropy, max_depth=10, min_samples_leaf=0.2, min_samples_split=0.2, n_estimators=10, total=   0.4s\n",
      "[CV] criterion=entropy, max_depth=10, min_samples_leaf=0.2, min_samples_split=0.2, n_estimators=100 \n",
      "[CV]  criterion=entropy, max_depth=10, min_samples_leaf=0.2, min_samples_split=0.2, n_estimators=100, total=   3.4s\n",
      "[CV] criterion=entropy, max_depth=10, min_samples_leaf=0.2, min_samples_split=0.2, n_estimators=100 \n",
      "[CV]  criterion=entropy, max_depth=10, min_samples_leaf=0.2, min_samples_split=0.2, n_estimators=100, total=   3.5s\n",
      "[CV] criterion=entropy, max_depth=10, min_samples_leaf=0.2, min_samples_split=0.2, n_estimators=100 \n",
      "[CV]  criterion=entropy, max_depth=10, min_samples_leaf=0.2, min_samples_split=0.2, n_estimators=100, total=   3.5s\n",
      "[CV] criterion=entropy, max_depth=None, min_samples_leaf=0.05, min_samples_split=0.05, n_estimators=10 \n",
      "[CV]  criterion=entropy, max_depth=None, min_samples_leaf=0.05, min_samples_split=0.05, n_estimators=10, total=   1.1s\n",
      "[CV] criterion=entropy, max_depth=None, min_samples_leaf=0.05, min_samples_split=0.05, n_estimators=10 \n",
      "[CV]  criterion=entropy, max_depth=None, min_samples_leaf=0.05, min_samples_split=0.05, n_estimators=10, total=   1.2s\n",
      "[CV] criterion=entropy, max_depth=None, min_samples_leaf=0.05, min_samples_split=0.05, n_estimators=10 \n",
      "[CV]  criterion=entropy, max_depth=None, min_samples_leaf=0.05, min_samples_split=0.05, n_estimators=10, total=   1.1s\n",
      "[CV] criterion=entropy, max_depth=None, min_samples_leaf=0.05, min_samples_split=0.05, n_estimators=100 \n",
      "[CV]  criterion=entropy, max_depth=None, min_samples_leaf=0.05, min_samples_split=0.05, n_estimators=100, total=  10.8s\n",
      "[CV] criterion=entropy, max_depth=None, min_samples_leaf=0.05, min_samples_split=0.05, n_estimators=100 \n",
      "[CV]  criterion=entropy, max_depth=None, min_samples_leaf=0.05, min_samples_split=0.05, n_estimators=100, total=  10.6s\n",
      "[CV] criterion=entropy, max_depth=None, min_samples_leaf=0.05, min_samples_split=0.05, n_estimators=100 \n",
      "[CV]  criterion=entropy, max_depth=None, min_samples_leaf=0.05, min_samples_split=0.05, n_estimators=100, total=  10.7s\n",
      "[CV] criterion=entropy, max_depth=None, min_samples_leaf=0.05, min_samples_split=0.1, n_estimators=10 \n",
      "[CV]  criterion=entropy, max_depth=None, min_samples_leaf=0.05, min_samples_split=0.1, n_estimators=10, total=   1.1s\n",
      "[CV] criterion=entropy, max_depth=None, min_samples_leaf=0.05, min_samples_split=0.1, n_estimators=10 \n",
      "[CV]  criterion=entropy, max_depth=None, min_samples_leaf=0.05, min_samples_split=0.1, n_estimators=10, total=   1.1s\n",
      "[CV] criterion=entropy, max_depth=None, min_samples_leaf=0.05, min_samples_split=0.1, n_estimators=10 \n",
      "[CV]  criterion=entropy, max_depth=None, min_samples_leaf=0.05, min_samples_split=0.1, n_estimators=10, total=   1.1s\n",
      "[CV] criterion=entropy, max_depth=None, min_samples_leaf=0.05, min_samples_split=0.1, n_estimators=100 \n",
      "[CV]  criterion=entropy, max_depth=None, min_samples_leaf=0.05, min_samples_split=0.1, n_estimators=100, total=  10.9s\n",
      "[CV] criterion=entropy, max_depth=None, min_samples_leaf=0.05, min_samples_split=0.1, n_estimators=100 \n",
      "[CV]  criterion=entropy, max_depth=None, min_samples_leaf=0.05, min_samples_split=0.1, n_estimators=100, total=  10.9s\n",
      "[CV] criterion=entropy, max_depth=None, min_samples_leaf=0.05, min_samples_split=0.1, n_estimators=100 \n",
      "[CV]  criterion=entropy, max_depth=None, min_samples_leaf=0.05, min_samples_split=0.1, n_estimators=100, total=  10.8s\n",
      "[CV] criterion=entropy, max_depth=None, min_samples_leaf=0.05, min_samples_split=0.2, n_estimators=10 \n",
      "[CV]  criterion=entropy, max_depth=None, min_samples_leaf=0.05, min_samples_split=0.2, n_estimators=10, total=   0.9s\n",
      "[CV] criterion=entropy, max_depth=None, min_samples_leaf=0.05, min_samples_split=0.2, n_estimators=10 \n",
      "[CV]  criterion=entropy, max_depth=None, min_samples_leaf=0.05, min_samples_split=0.2, n_estimators=10, total=   1.0s\n",
      "[CV] criterion=entropy, max_depth=None, min_samples_leaf=0.05, min_samples_split=0.2, n_estimators=10 \n",
      "[CV]  criterion=entropy, max_depth=None, min_samples_leaf=0.05, min_samples_split=0.2, n_estimators=10, total=   1.0s\n",
      "[CV] criterion=entropy, max_depth=None, min_samples_leaf=0.05, min_samples_split=0.2, n_estimators=100 \n",
      "[CV]  criterion=entropy, max_depth=None, min_samples_leaf=0.05, min_samples_split=0.2, n_estimators=100, total=   9.5s\n",
      "[CV] criterion=entropy, max_depth=None, min_samples_leaf=0.05, min_samples_split=0.2, n_estimators=100 \n",
      "[CV]  criterion=entropy, max_depth=None, min_samples_leaf=0.05, min_samples_split=0.2, n_estimators=100, total=   9.1s\n",
      "[CV] criterion=entropy, max_depth=None, min_samples_leaf=0.05, min_samples_split=0.2, n_estimators=100 \n",
      "[CV]  criterion=entropy, max_depth=None, min_samples_leaf=0.05, min_samples_split=0.2, n_estimators=100, total=   9.2s\n",
      "[CV] criterion=entropy, max_depth=None, min_samples_leaf=0.1, min_samples_split=0.05, n_estimators=10 \n",
      "[CV]  criterion=entropy, max_depth=None, min_samples_leaf=0.1, min_samples_split=0.05, n_estimators=10, total=   0.7s\n",
      "[CV] criterion=entropy, max_depth=None, min_samples_leaf=0.1, min_samples_split=0.05, n_estimators=10 \n",
      "[CV]  criterion=entropy, max_depth=None, min_samples_leaf=0.1, min_samples_split=0.05, n_estimators=10, total=   0.8s\n",
      "[CV] criterion=entropy, max_depth=None, min_samples_leaf=0.1, min_samples_split=0.05, n_estimators=10 \n",
      "[CV]  criterion=entropy, max_depth=None, min_samples_leaf=0.1, min_samples_split=0.05, n_estimators=10, total=   0.7s\n",
      "[CV] criterion=entropy, max_depth=None, min_samples_leaf=0.1, min_samples_split=0.05, n_estimators=100 \n",
      "[CV]  criterion=entropy, max_depth=None, min_samples_leaf=0.1, min_samples_split=0.05, n_estimators=100, total=   7.2s\n",
      "[CV] criterion=entropy, max_depth=None, min_samples_leaf=0.1, min_samples_split=0.05, n_estimators=100 \n",
      "[CV]  criterion=entropy, max_depth=None, min_samples_leaf=0.1, min_samples_split=0.05, n_estimators=100, total=   6.8s\n",
      "[CV] criterion=entropy, max_depth=None, min_samples_leaf=0.1, min_samples_split=0.05, n_estimators=100 \n",
      "[CV]  criterion=entropy, max_depth=None, min_samples_leaf=0.1, min_samples_split=0.05, n_estimators=100, total=   6.7s\n",
      "[CV] criterion=entropy, max_depth=None, min_samples_leaf=0.1, min_samples_split=0.1, n_estimators=10 \n",
      "[CV]  criterion=entropy, max_depth=None, min_samples_leaf=0.1, min_samples_split=0.1, n_estimators=10, total=   0.7s\n",
      "[CV] criterion=entropy, max_depth=None, min_samples_leaf=0.1, min_samples_split=0.1, n_estimators=10 \n",
      "[CV]  criterion=entropy, max_depth=None, min_samples_leaf=0.1, min_samples_split=0.1, n_estimators=10, total=   0.7s\n",
      "[CV] criterion=entropy, max_depth=None, min_samples_leaf=0.1, min_samples_split=0.1, n_estimators=10 \n",
      "[CV]  criterion=entropy, max_depth=None, min_samples_leaf=0.1, min_samples_split=0.1, n_estimators=10, total=   0.7s\n",
      "[CV] criterion=entropy, max_depth=None, min_samples_leaf=0.1, min_samples_split=0.1, n_estimators=100 \n",
      "[CV]  criterion=entropy, max_depth=None, min_samples_leaf=0.1, min_samples_split=0.1, n_estimators=100, total=   6.8s\n",
      "[CV] criterion=entropy, max_depth=None, min_samples_leaf=0.1, min_samples_split=0.1, n_estimators=100 \n",
      "[CV]  criterion=entropy, max_depth=None, min_samples_leaf=0.1, min_samples_split=0.1, n_estimators=100, total=   6.9s\n",
      "[CV] criterion=entropy, max_depth=None, min_samples_leaf=0.1, min_samples_split=0.1, n_estimators=100 \n",
      "[CV]  criterion=entropy, max_depth=None, min_samples_leaf=0.1, min_samples_split=0.1, n_estimators=100, total=   6.7s\n",
      "[CV] criterion=entropy, max_depth=None, min_samples_leaf=0.1, min_samples_split=0.2, n_estimators=10 \n",
      "[CV]  criterion=entropy, max_depth=None, min_samples_leaf=0.1, min_samples_split=0.2, n_estimators=10, total=   0.7s\n",
      "[CV] criterion=entropy, max_depth=None, min_samples_leaf=0.1, min_samples_split=0.2, n_estimators=10 \n"
     ]
    },
    {
     "name": "stdout",
     "output_type": "stream",
     "text": [
      "[CV]  criterion=entropy, max_depth=None, min_samples_leaf=0.1, min_samples_split=0.2, n_estimators=10, total=   0.8s\n",
      "[CV] criterion=entropy, max_depth=None, min_samples_leaf=0.1, min_samples_split=0.2, n_estimators=10 \n",
      "[CV]  criterion=entropy, max_depth=None, min_samples_leaf=0.1, min_samples_split=0.2, n_estimators=10, total=   0.7s\n",
      "[CV] criterion=entropy, max_depth=None, min_samples_leaf=0.1, min_samples_split=0.2, n_estimators=100 \n",
      "[CV]  criterion=entropy, max_depth=None, min_samples_leaf=0.1, min_samples_split=0.2, n_estimators=100, total=   6.8s\n",
      "[CV] criterion=entropy, max_depth=None, min_samples_leaf=0.1, min_samples_split=0.2, n_estimators=100 \n",
      "[CV]  criterion=entropy, max_depth=None, min_samples_leaf=0.1, min_samples_split=0.2, n_estimators=100, total=   7.0s\n",
      "[CV] criterion=entropy, max_depth=None, min_samples_leaf=0.1, min_samples_split=0.2, n_estimators=100 \n",
      "[CV]  criterion=entropy, max_depth=None, min_samples_leaf=0.1, min_samples_split=0.2, n_estimators=100, total=   6.9s\n",
      "[CV] criterion=entropy, max_depth=None, min_samples_leaf=0.2, min_samples_split=0.05, n_estimators=10 \n",
      "[CV]  criterion=entropy, max_depth=None, min_samples_leaf=0.2, min_samples_split=0.05, n_estimators=10, total=   0.4s\n",
      "[CV] criterion=entropy, max_depth=None, min_samples_leaf=0.2, min_samples_split=0.05, n_estimators=10 \n",
      "[CV]  criterion=entropy, max_depth=None, min_samples_leaf=0.2, min_samples_split=0.05, n_estimators=10, total=   0.4s\n",
      "[CV] criterion=entropy, max_depth=None, min_samples_leaf=0.2, min_samples_split=0.05, n_estimators=10 \n",
      "[CV]  criterion=entropy, max_depth=None, min_samples_leaf=0.2, min_samples_split=0.05, n_estimators=10, total=   0.3s\n",
      "[CV] criterion=entropy, max_depth=None, min_samples_leaf=0.2, min_samples_split=0.05, n_estimators=100 \n",
      "[CV]  criterion=entropy, max_depth=None, min_samples_leaf=0.2, min_samples_split=0.05, n_estimators=100, total=   3.5s\n",
      "[CV] criterion=entropy, max_depth=None, min_samples_leaf=0.2, min_samples_split=0.05, n_estimators=100 \n",
      "[CV]  criterion=entropy, max_depth=None, min_samples_leaf=0.2, min_samples_split=0.05, n_estimators=100, total=   3.5s\n",
      "[CV] criterion=entropy, max_depth=None, min_samples_leaf=0.2, min_samples_split=0.05, n_estimators=100 \n",
      "[CV]  criterion=entropy, max_depth=None, min_samples_leaf=0.2, min_samples_split=0.05, n_estimators=100, total=   3.5s\n",
      "[CV] criterion=entropy, max_depth=None, min_samples_leaf=0.2, min_samples_split=0.1, n_estimators=10 \n",
      "[CV]  criterion=entropy, max_depth=None, min_samples_leaf=0.2, min_samples_split=0.1, n_estimators=10, total=   0.4s\n",
      "[CV] criterion=entropy, max_depth=None, min_samples_leaf=0.2, min_samples_split=0.1, n_estimators=10 \n",
      "[CV]  criterion=entropy, max_depth=None, min_samples_leaf=0.2, min_samples_split=0.1, n_estimators=10, total=   0.4s\n",
      "[CV] criterion=entropy, max_depth=None, min_samples_leaf=0.2, min_samples_split=0.1, n_estimators=10 \n",
      "[CV]  criterion=entropy, max_depth=None, min_samples_leaf=0.2, min_samples_split=0.1, n_estimators=10, total=   0.4s\n",
      "[CV] criterion=entropy, max_depth=None, min_samples_leaf=0.2, min_samples_split=0.1, n_estimators=100 \n",
      "[CV]  criterion=entropy, max_depth=None, min_samples_leaf=0.2, min_samples_split=0.1, n_estimators=100, total=   3.5s\n",
      "[CV] criterion=entropy, max_depth=None, min_samples_leaf=0.2, min_samples_split=0.1, n_estimators=100 \n",
      "[CV]  criterion=entropy, max_depth=None, min_samples_leaf=0.2, min_samples_split=0.1, n_estimators=100, total=   3.5s\n",
      "[CV] criterion=entropy, max_depth=None, min_samples_leaf=0.2, min_samples_split=0.1, n_estimators=100 \n",
      "[CV]  criterion=entropy, max_depth=None, min_samples_leaf=0.2, min_samples_split=0.1, n_estimators=100, total=   3.5s\n",
      "[CV] criterion=entropy, max_depth=None, min_samples_leaf=0.2, min_samples_split=0.2, n_estimators=10 \n",
      "[CV]  criterion=entropy, max_depth=None, min_samples_leaf=0.2, min_samples_split=0.2, n_estimators=10, total=   0.3s\n",
      "[CV] criterion=entropy, max_depth=None, min_samples_leaf=0.2, min_samples_split=0.2, n_estimators=10 \n",
      "[CV]  criterion=entropy, max_depth=None, min_samples_leaf=0.2, min_samples_split=0.2, n_estimators=10, total=   0.4s\n",
      "[CV] criterion=entropy, max_depth=None, min_samples_leaf=0.2, min_samples_split=0.2, n_estimators=10 \n",
      "[CV]  criterion=entropy, max_depth=None, min_samples_leaf=0.2, min_samples_split=0.2, n_estimators=10, total=   0.4s\n",
      "[CV] criterion=entropy, max_depth=None, min_samples_leaf=0.2, min_samples_split=0.2, n_estimators=100 \n",
      "[CV]  criterion=entropy, max_depth=None, min_samples_leaf=0.2, min_samples_split=0.2, n_estimators=100, total=   3.4s\n",
      "[CV] criterion=entropy, max_depth=None, min_samples_leaf=0.2, min_samples_split=0.2, n_estimators=100 \n",
      "[CV]  criterion=entropy, max_depth=None, min_samples_leaf=0.2, min_samples_split=0.2, n_estimators=100, total=   3.5s\n",
      "[CV] criterion=entropy, max_depth=None, min_samples_leaf=0.2, min_samples_split=0.2, n_estimators=100 \n",
      "[CV]  criterion=entropy, max_depth=None, min_samples_leaf=0.2, min_samples_split=0.2, n_estimators=100, total=   3.5s\n",
      "[CV] criterion=gini, max_depth=2, min_samples_leaf=0.05, min_samples_split=0.05, n_estimators=10 \n",
      "[CV]  criterion=gini, max_depth=2, min_samples_leaf=0.05, min_samples_split=0.05, n_estimators=10, total=   0.4s\n",
      "[CV] criterion=gini, max_depth=2, min_samples_leaf=0.05, min_samples_split=0.05, n_estimators=10 \n",
      "[CV]  criterion=gini, max_depth=2, min_samples_leaf=0.05, min_samples_split=0.05, n_estimators=10, total=   0.4s\n",
      "[CV] criterion=gini, max_depth=2, min_samples_leaf=0.05, min_samples_split=0.05, n_estimators=10 \n",
      "[CV]  criterion=gini, max_depth=2, min_samples_leaf=0.05, min_samples_split=0.05, n_estimators=10, total=   0.4s\n",
      "[CV] criterion=gini, max_depth=2, min_samples_leaf=0.05, min_samples_split=0.05, n_estimators=100 \n",
      "[CV]  criterion=gini, max_depth=2, min_samples_leaf=0.05, min_samples_split=0.05, n_estimators=100, total=   4.1s\n",
      "[CV] criterion=gini, max_depth=2, min_samples_leaf=0.05, min_samples_split=0.05, n_estimators=100 \n",
      "[CV]  criterion=gini, max_depth=2, min_samples_leaf=0.05, min_samples_split=0.05, n_estimators=100, total=   4.1s\n",
      "[CV] criterion=gini, max_depth=2, min_samples_leaf=0.05, min_samples_split=0.05, n_estimators=100 \n",
      "[CV]  criterion=gini, max_depth=2, min_samples_leaf=0.05, min_samples_split=0.05, n_estimators=100, total=   4.1s\n",
      "[CV] criterion=gini, max_depth=2, min_samples_leaf=0.05, min_samples_split=0.1, n_estimators=10 \n",
      "[CV]  criterion=gini, max_depth=2, min_samples_leaf=0.05, min_samples_split=0.1, n_estimators=10, total=   0.4s\n",
      "[CV] criterion=gini, max_depth=2, min_samples_leaf=0.05, min_samples_split=0.1, n_estimators=10 \n",
      "[CV]  criterion=gini, max_depth=2, min_samples_leaf=0.05, min_samples_split=0.1, n_estimators=10, total=   0.4s\n",
      "[CV] criterion=gini, max_depth=2, min_samples_leaf=0.05, min_samples_split=0.1, n_estimators=10 \n",
      "[CV]  criterion=gini, max_depth=2, min_samples_leaf=0.05, min_samples_split=0.1, n_estimators=10, total=   0.4s\n",
      "[CV] criterion=gini, max_depth=2, min_samples_leaf=0.05, min_samples_split=0.1, n_estimators=100 \n",
      "[CV]  criterion=gini, max_depth=2, min_samples_leaf=0.05, min_samples_split=0.1, n_estimators=100, total=   4.1s\n",
      "[CV] criterion=gini, max_depth=2, min_samples_leaf=0.05, min_samples_split=0.1, n_estimators=100 \n",
      "[CV]  criterion=gini, max_depth=2, min_samples_leaf=0.05, min_samples_split=0.1, n_estimators=100, total=   4.2s\n",
      "[CV] criterion=gini, max_depth=2, min_samples_leaf=0.05, min_samples_split=0.1, n_estimators=100 \n",
      "[CV]  criterion=gini, max_depth=2, min_samples_leaf=0.05, min_samples_split=0.1, n_estimators=100, total=   4.1s\n",
      "[CV] criterion=gini, max_depth=2, min_samples_leaf=0.05, min_samples_split=0.2, n_estimators=10 \n",
      "[CV]  criterion=gini, max_depth=2, min_samples_leaf=0.05, min_samples_split=0.2, n_estimators=10, total=   0.4s\n",
      "[CV] criterion=gini, max_depth=2, min_samples_leaf=0.05, min_samples_split=0.2, n_estimators=10 \n",
      "[CV]  criterion=gini, max_depth=2, min_samples_leaf=0.05, min_samples_split=0.2, n_estimators=10, total=   0.4s\n",
      "[CV] criterion=gini, max_depth=2, min_samples_leaf=0.05, min_samples_split=0.2, n_estimators=10 \n",
      "[CV]  criterion=gini, max_depth=2, min_samples_leaf=0.05, min_samples_split=0.2, n_estimators=10, total=   0.4s\n",
      "[CV] criterion=gini, max_depth=2, min_samples_leaf=0.05, min_samples_split=0.2, n_estimators=100 \n"
     ]
    },
    {
     "name": "stdout",
     "output_type": "stream",
     "text": [
      "[CV]  criterion=gini, max_depth=2, min_samples_leaf=0.05, min_samples_split=0.2, n_estimators=100, total=   4.1s\n",
      "[CV] criterion=gini, max_depth=2, min_samples_leaf=0.05, min_samples_split=0.2, n_estimators=100 \n",
      "[CV]  criterion=gini, max_depth=2, min_samples_leaf=0.05, min_samples_split=0.2, n_estimators=100, total=   4.1s\n",
      "[CV] criterion=gini, max_depth=2, min_samples_leaf=0.05, min_samples_split=0.2, n_estimators=100 \n",
      "[CV]  criterion=gini, max_depth=2, min_samples_leaf=0.05, min_samples_split=0.2, n_estimators=100, total=   4.0s\n",
      "[CV] criterion=gini, max_depth=2, min_samples_leaf=0.1, min_samples_split=0.05, n_estimators=10 \n",
      "[CV]  criterion=gini, max_depth=2, min_samples_leaf=0.1, min_samples_split=0.05, n_estimators=10, total=   0.4s\n",
      "[CV] criterion=gini, max_depth=2, min_samples_leaf=0.1, min_samples_split=0.05, n_estimators=10 \n",
      "[CV]  criterion=gini, max_depth=2, min_samples_leaf=0.1, min_samples_split=0.05, n_estimators=10, total=   0.4s\n",
      "[CV] criterion=gini, max_depth=2, min_samples_leaf=0.1, min_samples_split=0.05, n_estimators=10 \n",
      "[CV]  criterion=gini, max_depth=2, min_samples_leaf=0.1, min_samples_split=0.05, n_estimators=10, total=   0.4s\n",
      "[CV] criterion=gini, max_depth=2, min_samples_leaf=0.1, min_samples_split=0.05, n_estimators=100 \n",
      "[CV]  criterion=gini, max_depth=2, min_samples_leaf=0.1, min_samples_split=0.05, n_estimators=100, total=   3.8s\n",
      "[CV] criterion=gini, max_depth=2, min_samples_leaf=0.1, min_samples_split=0.05, n_estimators=100 \n",
      "[CV]  criterion=gini, max_depth=2, min_samples_leaf=0.1, min_samples_split=0.05, n_estimators=100, total=   3.8s\n",
      "[CV] criterion=gini, max_depth=2, min_samples_leaf=0.1, min_samples_split=0.05, n_estimators=100 \n",
      "[CV]  criterion=gini, max_depth=2, min_samples_leaf=0.1, min_samples_split=0.05, n_estimators=100, total=   3.8s\n",
      "[CV] criterion=gini, max_depth=2, min_samples_leaf=0.1, min_samples_split=0.1, n_estimators=10 \n",
      "[CV]  criterion=gini, max_depth=2, min_samples_leaf=0.1, min_samples_split=0.1, n_estimators=10, total=   0.4s\n",
      "[CV] criterion=gini, max_depth=2, min_samples_leaf=0.1, min_samples_split=0.1, n_estimators=10 \n",
      "[CV]  criterion=gini, max_depth=2, min_samples_leaf=0.1, min_samples_split=0.1, n_estimators=10, total=   0.4s\n",
      "[CV] criterion=gini, max_depth=2, min_samples_leaf=0.1, min_samples_split=0.1, n_estimators=10 \n",
      "[CV]  criterion=gini, max_depth=2, min_samples_leaf=0.1, min_samples_split=0.1, n_estimators=10, total=   0.4s\n",
      "[CV] criterion=gini, max_depth=2, min_samples_leaf=0.1, min_samples_split=0.1, n_estimators=100 \n",
      "[CV]  criterion=gini, max_depth=2, min_samples_leaf=0.1, min_samples_split=0.1, n_estimators=100, total=   3.9s\n",
      "[CV] criterion=gini, max_depth=2, min_samples_leaf=0.1, min_samples_split=0.1, n_estimators=100 \n",
      "[CV]  criterion=gini, max_depth=2, min_samples_leaf=0.1, min_samples_split=0.1, n_estimators=100, total=   3.9s\n",
      "[CV] criterion=gini, max_depth=2, min_samples_leaf=0.1, min_samples_split=0.1, n_estimators=100 \n",
      "[CV]  criterion=gini, max_depth=2, min_samples_leaf=0.1, min_samples_split=0.1, n_estimators=100, total=   3.8s\n",
      "[CV] criterion=gini, max_depth=2, min_samples_leaf=0.1, min_samples_split=0.2, n_estimators=10 \n",
      "[CV]  criterion=gini, max_depth=2, min_samples_leaf=0.1, min_samples_split=0.2, n_estimators=10, total=   0.4s\n",
      "[CV] criterion=gini, max_depth=2, min_samples_leaf=0.1, min_samples_split=0.2, n_estimators=10 \n",
      "[CV]  criterion=gini, max_depth=2, min_samples_leaf=0.1, min_samples_split=0.2, n_estimators=10, total=   0.4s\n",
      "[CV] criterion=gini, max_depth=2, min_samples_leaf=0.1, min_samples_split=0.2, n_estimators=10 \n",
      "[CV]  criterion=gini, max_depth=2, min_samples_leaf=0.1, min_samples_split=0.2, n_estimators=10, total=   0.4s\n",
      "[CV] criterion=gini, max_depth=2, min_samples_leaf=0.1, min_samples_split=0.2, n_estimators=100 \n",
      "[CV]  criterion=gini, max_depth=2, min_samples_leaf=0.1, min_samples_split=0.2, n_estimators=100, total=   3.9s\n",
      "[CV] criterion=gini, max_depth=2, min_samples_leaf=0.1, min_samples_split=0.2, n_estimators=100 \n",
      "[CV]  criterion=gini, max_depth=2, min_samples_leaf=0.1, min_samples_split=0.2, n_estimators=100, total=   3.8s\n",
      "[CV] criterion=gini, max_depth=2, min_samples_leaf=0.1, min_samples_split=0.2, n_estimators=100 \n",
      "[CV]  criterion=gini, max_depth=2, min_samples_leaf=0.1, min_samples_split=0.2, n_estimators=100, total=   3.8s\n",
      "[CV] criterion=gini, max_depth=2, min_samples_leaf=0.2, min_samples_split=0.05, n_estimators=10 \n",
      "[CV]  criterion=gini, max_depth=2, min_samples_leaf=0.2, min_samples_split=0.05, n_estimators=10, total=   0.3s\n",
      "[CV] criterion=gini, max_depth=2, min_samples_leaf=0.2, min_samples_split=0.05, n_estimators=10 \n",
      "[CV]  criterion=gini, max_depth=2, min_samples_leaf=0.2, min_samples_split=0.05, n_estimators=10, total=   0.3s\n",
      "[CV] criterion=gini, max_depth=2, min_samples_leaf=0.2, min_samples_split=0.05, n_estimators=10 \n",
      "[CV]  criterion=gini, max_depth=2, min_samples_leaf=0.2, min_samples_split=0.05, n_estimators=10, total=   0.3s\n",
      "[CV] criterion=gini, max_depth=2, min_samples_leaf=0.2, min_samples_split=0.05, n_estimators=100 \n",
      "[CV]  criterion=gini, max_depth=2, min_samples_leaf=0.2, min_samples_split=0.05, n_estimators=100, total=   3.0s\n",
      "[CV] criterion=gini, max_depth=2, min_samples_leaf=0.2, min_samples_split=0.05, n_estimators=100 \n",
      "[CV]  criterion=gini, max_depth=2, min_samples_leaf=0.2, min_samples_split=0.05, n_estimators=100, total=   3.0s\n",
      "[CV] criterion=gini, max_depth=2, min_samples_leaf=0.2, min_samples_split=0.05, n_estimators=100 \n",
      "[CV]  criterion=gini, max_depth=2, min_samples_leaf=0.2, min_samples_split=0.05, n_estimators=100, total=   2.9s\n",
      "[CV] criterion=gini, max_depth=2, min_samples_leaf=0.2, min_samples_split=0.1, n_estimators=10 \n",
      "[CV]  criterion=gini, max_depth=2, min_samples_leaf=0.2, min_samples_split=0.1, n_estimators=10, total=   0.3s\n",
      "[CV] criterion=gini, max_depth=2, min_samples_leaf=0.2, min_samples_split=0.1, n_estimators=10 \n",
      "[CV]  criterion=gini, max_depth=2, min_samples_leaf=0.2, min_samples_split=0.1, n_estimators=10, total=   0.3s\n",
      "[CV] criterion=gini, max_depth=2, min_samples_leaf=0.2, min_samples_split=0.1, n_estimators=10 \n",
      "[CV]  criterion=gini, max_depth=2, min_samples_leaf=0.2, min_samples_split=0.1, n_estimators=10, total=   0.3s\n",
      "[CV] criterion=gini, max_depth=2, min_samples_leaf=0.2, min_samples_split=0.1, n_estimators=100 \n",
      "[CV]  criterion=gini, max_depth=2, min_samples_leaf=0.2, min_samples_split=0.1, n_estimators=100, total=   3.0s\n",
      "[CV] criterion=gini, max_depth=2, min_samples_leaf=0.2, min_samples_split=0.1, n_estimators=100 \n",
      "[CV]  criterion=gini, max_depth=2, min_samples_leaf=0.2, min_samples_split=0.1, n_estimators=100, total=   3.0s\n",
      "[CV] criterion=gini, max_depth=2, min_samples_leaf=0.2, min_samples_split=0.1, n_estimators=100 \n",
      "[CV]  criterion=gini, max_depth=2, min_samples_leaf=0.2, min_samples_split=0.1, n_estimators=100, total=   3.2s\n",
      "[CV] criterion=gini, max_depth=2, min_samples_leaf=0.2, min_samples_split=0.2, n_estimators=10 \n",
      "[CV]  criterion=gini, max_depth=2, min_samples_leaf=0.2, min_samples_split=0.2, n_estimators=10, total=   0.3s\n",
      "[CV] criterion=gini, max_depth=2, min_samples_leaf=0.2, min_samples_split=0.2, n_estimators=10 \n",
      "[CV]  criterion=gini, max_depth=2, min_samples_leaf=0.2, min_samples_split=0.2, n_estimators=10, total=   0.3s\n",
      "[CV] criterion=gini, max_depth=2, min_samples_leaf=0.2, min_samples_split=0.2, n_estimators=10 \n",
      "[CV]  criterion=gini, max_depth=2, min_samples_leaf=0.2, min_samples_split=0.2, n_estimators=10, total=   0.3s\n",
      "[CV] criterion=gini, max_depth=2, min_samples_leaf=0.2, min_samples_split=0.2, n_estimators=100 \n",
      "[CV]  criterion=gini, max_depth=2, min_samples_leaf=0.2, min_samples_split=0.2, n_estimators=100, total=   3.0s\n",
      "[CV] criterion=gini, max_depth=2, min_samples_leaf=0.2, min_samples_split=0.2, n_estimators=100 \n",
      "[CV]  criterion=gini, max_depth=2, min_samples_leaf=0.2, min_samples_split=0.2, n_estimators=100, total=   3.0s\n",
      "[CV] criterion=gini, max_depth=2, min_samples_leaf=0.2, min_samples_split=0.2, n_estimators=100 \n",
      "[CV]  criterion=gini, max_depth=2, min_samples_leaf=0.2, min_samples_split=0.2, n_estimators=100, total=   2.9s\n",
      "[CV] criterion=gini, max_depth=5, min_samples_leaf=0.05, min_samples_split=0.05, n_estimators=10 \n",
      "[CV]  criterion=gini, max_depth=5, min_samples_leaf=0.05, min_samples_split=0.05, n_estimators=10, total=   0.7s\n",
      "[CV] criterion=gini, max_depth=5, min_samples_leaf=0.05, min_samples_split=0.05, n_estimators=10 \n"
     ]
    },
    {
     "name": "stdout",
     "output_type": "stream",
     "text": [
      "[CV]  criterion=gini, max_depth=5, min_samples_leaf=0.05, min_samples_split=0.05, n_estimators=10, total=   0.7s\n",
      "[CV] criterion=gini, max_depth=5, min_samples_leaf=0.05, min_samples_split=0.05, n_estimators=10 \n",
      "[CV]  criterion=gini, max_depth=5, min_samples_leaf=0.05, min_samples_split=0.05, n_estimators=10, total=   0.7s\n",
      "[CV] criterion=gini, max_depth=5, min_samples_leaf=0.05, min_samples_split=0.05, n_estimators=100 \n",
      "[CV]  criterion=gini, max_depth=5, min_samples_leaf=0.05, min_samples_split=0.05, n_estimators=100, total=   7.0s\n",
      "[CV] criterion=gini, max_depth=5, min_samples_leaf=0.05, min_samples_split=0.05, n_estimators=100 \n",
      "[CV]  criterion=gini, max_depth=5, min_samples_leaf=0.05, min_samples_split=0.05, n_estimators=100, total=   7.0s\n",
      "[CV] criterion=gini, max_depth=5, min_samples_leaf=0.05, min_samples_split=0.05, n_estimators=100 \n",
      "[CV]  criterion=gini, max_depth=5, min_samples_leaf=0.05, min_samples_split=0.05, n_estimators=100, total=   7.0s\n",
      "[CV] criterion=gini, max_depth=5, min_samples_leaf=0.05, min_samples_split=0.1, n_estimators=10 \n",
      "[CV]  criterion=gini, max_depth=5, min_samples_leaf=0.05, min_samples_split=0.1, n_estimators=10, total=   0.7s\n",
      "[CV] criterion=gini, max_depth=5, min_samples_leaf=0.05, min_samples_split=0.1, n_estimators=10 \n",
      "[CV]  criterion=gini, max_depth=5, min_samples_leaf=0.05, min_samples_split=0.1, n_estimators=10, total=   0.7s\n",
      "[CV] criterion=gini, max_depth=5, min_samples_leaf=0.05, min_samples_split=0.1, n_estimators=10 \n",
      "[CV]  criterion=gini, max_depth=5, min_samples_leaf=0.05, min_samples_split=0.1, n_estimators=10, total=   0.7s\n",
      "[CV] criterion=gini, max_depth=5, min_samples_leaf=0.05, min_samples_split=0.1, n_estimators=100 \n",
      "[CV]  criterion=gini, max_depth=5, min_samples_leaf=0.05, min_samples_split=0.1, n_estimators=100, total=   7.0s\n",
      "[CV] criterion=gini, max_depth=5, min_samples_leaf=0.05, min_samples_split=0.1, n_estimators=100 \n",
      "[CV]  criterion=gini, max_depth=5, min_samples_leaf=0.05, min_samples_split=0.1, n_estimators=100, total=   7.0s\n",
      "[CV] criterion=gini, max_depth=5, min_samples_leaf=0.05, min_samples_split=0.1, n_estimators=100 \n",
      "[CV]  criterion=gini, max_depth=5, min_samples_leaf=0.05, min_samples_split=0.1, n_estimators=100, total=   7.0s\n",
      "[CV] criterion=gini, max_depth=5, min_samples_leaf=0.05, min_samples_split=0.2, n_estimators=10 \n",
      "[CV]  criterion=gini, max_depth=5, min_samples_leaf=0.05, min_samples_split=0.2, n_estimators=10, total=   0.6s\n",
      "[CV] criterion=gini, max_depth=5, min_samples_leaf=0.05, min_samples_split=0.2, n_estimators=10 \n",
      "[CV]  criterion=gini, max_depth=5, min_samples_leaf=0.05, min_samples_split=0.2, n_estimators=10, total=   0.6s\n",
      "[CV] criterion=gini, max_depth=5, min_samples_leaf=0.05, min_samples_split=0.2, n_estimators=10 \n",
      "[CV]  criterion=gini, max_depth=5, min_samples_leaf=0.05, min_samples_split=0.2, n_estimators=10, total=   0.6s\n",
      "[CV] criterion=gini, max_depth=5, min_samples_leaf=0.05, min_samples_split=0.2, n_estimators=100 \n",
      "[CV]  criterion=gini, max_depth=5, min_samples_leaf=0.05, min_samples_split=0.2, n_estimators=100, total=   5.9s\n",
      "[CV] criterion=gini, max_depth=5, min_samples_leaf=0.05, min_samples_split=0.2, n_estimators=100 \n",
      "[CV]  criterion=gini, max_depth=5, min_samples_leaf=0.05, min_samples_split=0.2, n_estimators=100, total=   6.1s\n",
      "[CV] criterion=gini, max_depth=5, min_samples_leaf=0.05, min_samples_split=0.2, n_estimators=100 \n",
      "[CV]  criterion=gini, max_depth=5, min_samples_leaf=0.05, min_samples_split=0.2, n_estimators=100, total=   5.8s\n",
      "[CV] criterion=gini, max_depth=5, min_samples_leaf=0.1, min_samples_split=0.05, n_estimators=10 \n",
      "[CV]  criterion=gini, max_depth=5, min_samples_leaf=0.1, min_samples_split=0.05, n_estimators=10, total=   0.5s\n",
      "[CV] criterion=gini, max_depth=5, min_samples_leaf=0.1, min_samples_split=0.05, n_estimators=10 \n",
      "[CV]  criterion=gini, max_depth=5, min_samples_leaf=0.1, min_samples_split=0.05, n_estimators=10, total=   0.5s\n",
      "[CV] criterion=gini, max_depth=5, min_samples_leaf=0.1, min_samples_split=0.05, n_estimators=10 \n",
      "[CV]  criterion=gini, max_depth=5, min_samples_leaf=0.1, min_samples_split=0.05, n_estimators=10, total=   0.5s\n",
      "[CV] criterion=gini, max_depth=5, min_samples_leaf=0.1, min_samples_split=0.05, n_estimators=100 \n",
      "[CV]  criterion=gini, max_depth=5, min_samples_leaf=0.1, min_samples_split=0.05, n_estimators=100, total=   5.0s\n",
      "[CV] criterion=gini, max_depth=5, min_samples_leaf=0.1, min_samples_split=0.05, n_estimators=100 \n",
      "[CV]  criterion=gini, max_depth=5, min_samples_leaf=0.1, min_samples_split=0.05, n_estimators=100, total=   4.9s\n",
      "[CV] criterion=gini, max_depth=5, min_samples_leaf=0.1, min_samples_split=0.05, n_estimators=100 \n",
      "[CV]  criterion=gini, max_depth=5, min_samples_leaf=0.1, min_samples_split=0.05, n_estimators=100, total=   4.9s\n",
      "[CV] criterion=gini, max_depth=5, min_samples_leaf=0.1, min_samples_split=0.1, n_estimators=10 \n",
      "[CV]  criterion=gini, max_depth=5, min_samples_leaf=0.1, min_samples_split=0.1, n_estimators=10, total=   0.5s\n",
      "[CV] criterion=gini, max_depth=5, min_samples_leaf=0.1, min_samples_split=0.1, n_estimators=10 \n",
      "[CV]  criterion=gini, max_depth=5, min_samples_leaf=0.1, min_samples_split=0.1, n_estimators=10, total=   0.5s\n",
      "[CV] criterion=gini, max_depth=5, min_samples_leaf=0.1, min_samples_split=0.1, n_estimators=10 \n",
      "[CV]  criterion=gini, max_depth=5, min_samples_leaf=0.1, min_samples_split=0.1, n_estimators=10, total=   0.5s\n",
      "[CV] criterion=gini, max_depth=5, min_samples_leaf=0.1, min_samples_split=0.1, n_estimators=100 \n",
      "[CV]  criterion=gini, max_depth=5, min_samples_leaf=0.1, min_samples_split=0.1, n_estimators=100, total=   5.1s\n",
      "[CV] criterion=gini, max_depth=5, min_samples_leaf=0.1, min_samples_split=0.1, n_estimators=100 \n",
      "[CV]  criterion=gini, max_depth=5, min_samples_leaf=0.1, min_samples_split=0.1, n_estimators=100, total=   5.0s\n",
      "[CV] criterion=gini, max_depth=5, min_samples_leaf=0.1, min_samples_split=0.1, n_estimators=100 \n",
      "[CV]  criterion=gini, max_depth=5, min_samples_leaf=0.1, min_samples_split=0.1, n_estimators=100, total=   5.1s\n",
      "[CV] criterion=gini, max_depth=5, min_samples_leaf=0.1, min_samples_split=0.2, n_estimators=10 \n",
      "[CV]  criterion=gini, max_depth=5, min_samples_leaf=0.1, min_samples_split=0.2, n_estimators=10, total=   0.5s\n",
      "[CV] criterion=gini, max_depth=5, min_samples_leaf=0.1, min_samples_split=0.2, n_estimators=10 \n",
      "[CV]  criterion=gini, max_depth=5, min_samples_leaf=0.1, min_samples_split=0.2, n_estimators=10, total=   0.5s\n",
      "[CV] criterion=gini, max_depth=5, min_samples_leaf=0.1, min_samples_split=0.2, n_estimators=10 \n",
      "[CV]  criterion=gini, max_depth=5, min_samples_leaf=0.1, min_samples_split=0.2, n_estimators=10, total=   0.5s\n",
      "[CV] criterion=gini, max_depth=5, min_samples_leaf=0.1, min_samples_split=0.2, n_estimators=100 \n",
      "[CV]  criterion=gini, max_depth=5, min_samples_leaf=0.1, min_samples_split=0.2, n_estimators=100, total=   5.0s\n",
      "[CV] criterion=gini, max_depth=5, min_samples_leaf=0.1, min_samples_split=0.2, n_estimators=100 \n",
      "[CV]  criterion=gini, max_depth=5, min_samples_leaf=0.1, min_samples_split=0.2, n_estimators=100, total=   5.1s\n",
      "[CV] criterion=gini, max_depth=5, min_samples_leaf=0.1, min_samples_split=0.2, n_estimators=100 \n",
      "[CV]  criterion=gini, max_depth=5, min_samples_leaf=0.1, min_samples_split=0.2, n_estimators=100, total=   4.9s\n",
      "[CV] criterion=gini, max_depth=5, min_samples_leaf=0.2, min_samples_split=0.05, n_estimators=10 \n",
      "[CV]  criterion=gini, max_depth=5, min_samples_leaf=0.2, min_samples_split=0.05, n_estimators=10, total=   0.4s\n",
      "[CV] criterion=gini, max_depth=5, min_samples_leaf=0.2, min_samples_split=0.05, n_estimators=10 \n",
      "[CV]  criterion=gini, max_depth=5, min_samples_leaf=0.2, min_samples_split=0.05, n_estimators=10, total=   0.3s\n",
      "[CV] criterion=gini, max_depth=5, min_samples_leaf=0.2, min_samples_split=0.05, n_estimators=10 \n",
      "[CV]  criterion=gini, max_depth=5, min_samples_leaf=0.2, min_samples_split=0.05, n_estimators=10, total=   0.3s\n",
      "[CV] criterion=gini, max_depth=5, min_samples_leaf=0.2, min_samples_split=0.05, n_estimators=100 \n",
      "[CV]  criterion=gini, max_depth=5, min_samples_leaf=0.2, min_samples_split=0.05, n_estimators=100, total=   3.0s\n",
      "[CV] criterion=gini, max_depth=5, min_samples_leaf=0.2, min_samples_split=0.05, n_estimators=100 \n",
      "[CV]  criterion=gini, max_depth=5, min_samples_leaf=0.2, min_samples_split=0.05, n_estimators=100, total=   2.9s\n",
      "[CV] criterion=gini, max_depth=5, min_samples_leaf=0.2, min_samples_split=0.05, n_estimators=100 \n"
     ]
    },
    {
     "name": "stdout",
     "output_type": "stream",
     "text": [
      "[CV]  criterion=gini, max_depth=5, min_samples_leaf=0.2, min_samples_split=0.05, n_estimators=100, total=   3.0s\n",
      "[CV] criterion=gini, max_depth=5, min_samples_leaf=0.2, min_samples_split=0.1, n_estimators=10 \n",
      "[CV]  criterion=gini, max_depth=5, min_samples_leaf=0.2, min_samples_split=0.1, n_estimators=10, total=   0.3s\n",
      "[CV] criterion=gini, max_depth=5, min_samples_leaf=0.2, min_samples_split=0.1, n_estimators=10 \n",
      "[CV]  criterion=gini, max_depth=5, min_samples_leaf=0.2, min_samples_split=0.1, n_estimators=10, total=   0.3s\n",
      "[CV] criterion=gini, max_depth=5, min_samples_leaf=0.2, min_samples_split=0.1, n_estimators=10 \n",
      "[CV]  criterion=gini, max_depth=5, min_samples_leaf=0.2, min_samples_split=0.1, n_estimators=10, total=   0.3s\n",
      "[CV] criterion=gini, max_depth=5, min_samples_leaf=0.2, min_samples_split=0.1, n_estimators=100 \n",
      "[CV]  criterion=gini, max_depth=5, min_samples_leaf=0.2, min_samples_split=0.1, n_estimators=100, total=   3.1s\n",
      "[CV] criterion=gini, max_depth=5, min_samples_leaf=0.2, min_samples_split=0.1, n_estimators=100 \n",
      "[CV]  criterion=gini, max_depth=5, min_samples_leaf=0.2, min_samples_split=0.1, n_estimators=100, total=   2.9s\n",
      "[CV] criterion=gini, max_depth=5, min_samples_leaf=0.2, min_samples_split=0.1, n_estimators=100 \n",
      "[CV]  criterion=gini, max_depth=5, min_samples_leaf=0.2, min_samples_split=0.1, n_estimators=100, total=   3.0s\n",
      "[CV] criterion=gini, max_depth=5, min_samples_leaf=0.2, min_samples_split=0.2, n_estimators=10 \n",
      "[CV]  criterion=gini, max_depth=5, min_samples_leaf=0.2, min_samples_split=0.2, n_estimators=10, total=   0.3s\n",
      "[CV] criterion=gini, max_depth=5, min_samples_leaf=0.2, min_samples_split=0.2, n_estimators=10 \n",
      "[CV]  criterion=gini, max_depth=5, min_samples_leaf=0.2, min_samples_split=0.2, n_estimators=10, total=   0.3s\n",
      "[CV] criterion=gini, max_depth=5, min_samples_leaf=0.2, min_samples_split=0.2, n_estimators=10 \n",
      "[CV]  criterion=gini, max_depth=5, min_samples_leaf=0.2, min_samples_split=0.2, n_estimators=10, total=   0.3s\n",
      "[CV] criterion=gini, max_depth=5, min_samples_leaf=0.2, min_samples_split=0.2, n_estimators=100 \n",
      "[CV]  criterion=gini, max_depth=5, min_samples_leaf=0.2, min_samples_split=0.2, n_estimators=100, total=   3.0s\n",
      "[CV] criterion=gini, max_depth=5, min_samples_leaf=0.2, min_samples_split=0.2, n_estimators=100 \n",
      "[CV]  criterion=gini, max_depth=5, min_samples_leaf=0.2, min_samples_split=0.2, n_estimators=100, total=   2.9s\n",
      "[CV] criterion=gini, max_depth=5, min_samples_leaf=0.2, min_samples_split=0.2, n_estimators=100 \n",
      "[CV]  criterion=gini, max_depth=5, min_samples_leaf=0.2, min_samples_split=0.2, n_estimators=100, total=   3.0s\n",
      "[CV] criterion=gini, max_depth=10, min_samples_leaf=0.05, min_samples_split=0.05, n_estimators=10 \n",
      "[CV]  criterion=gini, max_depth=10, min_samples_leaf=0.05, min_samples_split=0.05, n_estimators=10, total=   0.7s\n",
      "[CV] criterion=gini, max_depth=10, min_samples_leaf=0.05, min_samples_split=0.05, n_estimators=10 \n",
      "[CV]  criterion=gini, max_depth=10, min_samples_leaf=0.05, min_samples_split=0.05, n_estimators=10, total=   0.7s\n",
      "[CV] criterion=gini, max_depth=10, min_samples_leaf=0.05, min_samples_split=0.05, n_estimators=10 \n",
      "[CV]  criterion=gini, max_depth=10, min_samples_leaf=0.05, min_samples_split=0.05, n_estimators=10, total=   0.7s\n",
      "[CV] criterion=gini, max_depth=10, min_samples_leaf=0.05, min_samples_split=0.05, n_estimators=100 \n",
      "[CV]  criterion=gini, max_depth=10, min_samples_leaf=0.05, min_samples_split=0.05, n_estimators=100, total=   7.3s\n",
      "[CV] criterion=gini, max_depth=10, min_samples_leaf=0.05, min_samples_split=0.05, n_estimators=100 \n",
      "[CV]  criterion=gini, max_depth=10, min_samples_leaf=0.05, min_samples_split=0.05, n_estimators=100, total=   7.4s\n",
      "[CV] criterion=gini, max_depth=10, min_samples_leaf=0.05, min_samples_split=0.05, n_estimators=100 \n",
      "[CV]  criterion=gini, max_depth=10, min_samples_leaf=0.05, min_samples_split=0.05, n_estimators=100, total=   7.4s\n",
      "[CV] criterion=gini, max_depth=10, min_samples_leaf=0.05, min_samples_split=0.1, n_estimators=10 \n",
      "[CV]  criterion=gini, max_depth=10, min_samples_leaf=0.05, min_samples_split=0.1, n_estimators=10, total=   0.8s\n",
      "[CV] criterion=gini, max_depth=10, min_samples_leaf=0.05, min_samples_split=0.1, n_estimators=10 \n",
      "[CV]  criterion=gini, max_depth=10, min_samples_leaf=0.05, min_samples_split=0.1, n_estimators=10, total=   0.7s\n",
      "[CV] criterion=gini, max_depth=10, min_samples_leaf=0.05, min_samples_split=0.1, n_estimators=10 \n",
      "[CV]  criterion=gini, max_depth=10, min_samples_leaf=0.05, min_samples_split=0.1, n_estimators=10, total=   0.7s\n",
      "[CV] criterion=gini, max_depth=10, min_samples_leaf=0.05, min_samples_split=0.1, n_estimators=100 \n",
      "[CV]  criterion=gini, max_depth=10, min_samples_leaf=0.05, min_samples_split=0.1, n_estimators=100, total=   7.5s\n",
      "[CV] criterion=gini, max_depth=10, min_samples_leaf=0.05, min_samples_split=0.1, n_estimators=100 \n",
      "[CV]  criterion=gini, max_depth=10, min_samples_leaf=0.05, min_samples_split=0.1, n_estimators=100, total=   7.6s\n",
      "[CV] criterion=gini, max_depth=10, min_samples_leaf=0.05, min_samples_split=0.1, n_estimators=100 \n",
      "[CV]  criterion=gini, max_depth=10, min_samples_leaf=0.05, min_samples_split=0.1, n_estimators=100, total=   7.2s\n",
      "[CV] criterion=gini, max_depth=10, min_samples_leaf=0.05, min_samples_split=0.2, n_estimators=10 \n",
      "[CV]  criterion=gini, max_depth=10, min_samples_leaf=0.05, min_samples_split=0.2, n_estimators=10, total=   0.6s\n",
      "[CV] criterion=gini, max_depth=10, min_samples_leaf=0.05, min_samples_split=0.2, n_estimators=10 \n",
      "[CV]  criterion=gini, max_depth=10, min_samples_leaf=0.05, min_samples_split=0.2, n_estimators=10, total=   0.6s\n",
      "[CV] criterion=gini, max_depth=10, min_samples_leaf=0.05, min_samples_split=0.2, n_estimators=10 \n",
      "[CV]  criterion=gini, max_depth=10, min_samples_leaf=0.05, min_samples_split=0.2, n_estimators=10, total=   0.6s\n",
      "[CV] criterion=gini, max_depth=10, min_samples_leaf=0.05, min_samples_split=0.2, n_estimators=100 \n",
      "[CV]  criterion=gini, max_depth=10, min_samples_leaf=0.05, min_samples_split=0.2, n_estimators=100, total=   6.0s\n",
      "[CV] criterion=gini, max_depth=10, min_samples_leaf=0.05, min_samples_split=0.2, n_estimators=100 \n",
      "[CV]  criterion=gini, max_depth=10, min_samples_leaf=0.05, min_samples_split=0.2, n_estimators=100, total=   6.2s\n",
      "[CV] criterion=gini, max_depth=10, min_samples_leaf=0.05, min_samples_split=0.2, n_estimators=100 \n",
      "[CV]  criterion=gini, max_depth=10, min_samples_leaf=0.05, min_samples_split=0.2, n_estimators=100, total=   5.9s\n",
      "[CV] criterion=gini, max_depth=10, min_samples_leaf=0.1, min_samples_split=0.05, n_estimators=10 \n",
      "[CV]  criterion=gini, max_depth=10, min_samples_leaf=0.1, min_samples_split=0.05, n_estimators=10, total=   0.5s\n",
      "[CV] criterion=gini, max_depth=10, min_samples_leaf=0.1, min_samples_split=0.05, n_estimators=10 \n",
      "[CV]  criterion=gini, max_depth=10, min_samples_leaf=0.1, min_samples_split=0.05, n_estimators=10, total=   0.5s\n",
      "[CV] criterion=gini, max_depth=10, min_samples_leaf=0.1, min_samples_split=0.05, n_estimators=10 \n",
      "[CV]  criterion=gini, max_depth=10, min_samples_leaf=0.1, min_samples_split=0.05, n_estimators=10, total=   0.5s\n",
      "[CV] criterion=gini, max_depth=10, min_samples_leaf=0.1, min_samples_split=0.05, n_estimators=100 \n",
      "[CV]  criterion=gini, max_depth=10, min_samples_leaf=0.1, min_samples_split=0.05, n_estimators=100, total=   4.9s\n",
      "[CV] criterion=gini, max_depth=10, min_samples_leaf=0.1, min_samples_split=0.05, n_estimators=100 \n",
      "[CV]  criterion=gini, max_depth=10, min_samples_leaf=0.1, min_samples_split=0.05, n_estimators=100, total=   5.3s\n",
      "[CV] criterion=gini, max_depth=10, min_samples_leaf=0.1, min_samples_split=0.05, n_estimators=100 \n",
      "[CV]  criterion=gini, max_depth=10, min_samples_leaf=0.1, min_samples_split=0.05, n_estimators=100, total=   5.0s\n",
      "[CV] criterion=gini, max_depth=10, min_samples_leaf=0.1, min_samples_split=0.1, n_estimators=10 \n",
      "[CV]  criterion=gini, max_depth=10, min_samples_leaf=0.1, min_samples_split=0.1, n_estimators=10, total=   0.5s\n",
      "[CV] criterion=gini, max_depth=10, min_samples_leaf=0.1, min_samples_split=0.1, n_estimators=10 \n",
      "[CV]  criterion=gini, max_depth=10, min_samples_leaf=0.1, min_samples_split=0.1, n_estimators=10, total=   0.5s\n",
      "[CV] criterion=gini, max_depth=10, min_samples_leaf=0.1, min_samples_split=0.1, n_estimators=10 \n"
     ]
    },
    {
     "name": "stdout",
     "output_type": "stream",
     "text": [
      "[CV]  criterion=gini, max_depth=10, min_samples_leaf=0.1, min_samples_split=0.1, n_estimators=10, total=   0.5s\n",
      "[CV] criterion=gini, max_depth=10, min_samples_leaf=0.1, min_samples_split=0.1, n_estimators=100 \n",
      "[CV]  criterion=gini, max_depth=10, min_samples_leaf=0.1, min_samples_split=0.1, n_estimators=100, total=   5.0s\n",
      "[CV] criterion=gini, max_depth=10, min_samples_leaf=0.1, min_samples_split=0.1, n_estimators=100 \n",
      "[CV]  criterion=gini, max_depth=10, min_samples_leaf=0.1, min_samples_split=0.1, n_estimators=100, total=   5.0s\n",
      "[CV] criterion=gini, max_depth=10, min_samples_leaf=0.1, min_samples_split=0.1, n_estimators=100 \n",
      "[CV]  criterion=gini, max_depth=10, min_samples_leaf=0.1, min_samples_split=0.1, n_estimators=100, total=   4.9s\n",
      "[CV] criterion=gini, max_depth=10, min_samples_leaf=0.1, min_samples_split=0.2, n_estimators=10 \n",
      "[CV]  criterion=gini, max_depth=10, min_samples_leaf=0.1, min_samples_split=0.2, n_estimators=10, total=   0.5s\n",
      "[CV] criterion=gini, max_depth=10, min_samples_leaf=0.1, min_samples_split=0.2, n_estimators=10 \n",
      "[CV]  criterion=gini, max_depth=10, min_samples_leaf=0.1, min_samples_split=0.2, n_estimators=10, total=   0.5s\n",
      "[CV] criterion=gini, max_depth=10, min_samples_leaf=0.1, min_samples_split=0.2, n_estimators=10 \n",
      "[CV]  criterion=gini, max_depth=10, min_samples_leaf=0.1, min_samples_split=0.2, n_estimators=10, total=   0.5s\n",
      "[CV] criterion=gini, max_depth=10, min_samples_leaf=0.1, min_samples_split=0.2, n_estimators=100 \n",
      "[CV]  criterion=gini, max_depth=10, min_samples_leaf=0.1, min_samples_split=0.2, n_estimators=100, total=   5.1s\n",
      "[CV] criterion=gini, max_depth=10, min_samples_leaf=0.1, min_samples_split=0.2, n_estimators=100 \n",
      "[CV]  criterion=gini, max_depth=10, min_samples_leaf=0.1, min_samples_split=0.2, n_estimators=100, total=   5.1s\n",
      "[CV] criterion=gini, max_depth=10, min_samples_leaf=0.1, min_samples_split=0.2, n_estimators=100 \n",
      "[CV]  criterion=gini, max_depth=10, min_samples_leaf=0.1, min_samples_split=0.2, n_estimators=100, total=   4.9s\n",
      "[CV] criterion=gini, max_depth=10, min_samples_leaf=0.2, min_samples_split=0.05, n_estimators=10 \n",
      "[CV]  criterion=gini, max_depth=10, min_samples_leaf=0.2, min_samples_split=0.05, n_estimators=10, total=   0.3s\n",
      "[CV] criterion=gini, max_depth=10, min_samples_leaf=0.2, min_samples_split=0.05, n_estimators=10 \n",
      "[CV]  criterion=gini, max_depth=10, min_samples_leaf=0.2, min_samples_split=0.05, n_estimators=10, total=   0.3s\n",
      "[CV] criterion=gini, max_depth=10, min_samples_leaf=0.2, min_samples_split=0.05, n_estimators=10 \n",
      "[CV]  criterion=gini, max_depth=10, min_samples_leaf=0.2, min_samples_split=0.05, n_estimators=10, total=   0.3s\n",
      "[CV] criterion=gini, max_depth=10, min_samples_leaf=0.2, min_samples_split=0.05, n_estimators=100 \n",
      "[CV]  criterion=gini, max_depth=10, min_samples_leaf=0.2, min_samples_split=0.05, n_estimators=100, total=   3.0s\n",
      "[CV] criterion=gini, max_depth=10, min_samples_leaf=0.2, min_samples_split=0.05, n_estimators=100 \n",
      "[CV]  criterion=gini, max_depth=10, min_samples_leaf=0.2, min_samples_split=0.05, n_estimators=100, total=   3.1s\n",
      "[CV] criterion=gini, max_depth=10, min_samples_leaf=0.2, min_samples_split=0.05, n_estimators=100 \n",
      "[CV]  criterion=gini, max_depth=10, min_samples_leaf=0.2, min_samples_split=0.05, n_estimators=100, total=   3.0s\n",
      "[CV] criterion=gini, max_depth=10, min_samples_leaf=0.2, min_samples_split=0.1, n_estimators=10 \n",
      "[CV]  criterion=gini, max_depth=10, min_samples_leaf=0.2, min_samples_split=0.1, n_estimators=10, total=   0.3s\n",
      "[CV] criterion=gini, max_depth=10, min_samples_leaf=0.2, min_samples_split=0.1, n_estimators=10 \n",
      "[CV]  criterion=gini, max_depth=10, min_samples_leaf=0.2, min_samples_split=0.1, n_estimators=10, total=   0.3s\n",
      "[CV] criterion=gini, max_depth=10, min_samples_leaf=0.2, min_samples_split=0.1, n_estimators=10 \n",
      "[CV]  criterion=gini, max_depth=10, min_samples_leaf=0.2, min_samples_split=0.1, n_estimators=10, total=   0.3s\n",
      "[CV] criterion=gini, max_depth=10, min_samples_leaf=0.2, min_samples_split=0.1, n_estimators=100 \n",
      "[CV]  criterion=gini, max_depth=10, min_samples_leaf=0.2, min_samples_split=0.1, n_estimators=100, total=   3.0s\n",
      "[CV] criterion=gini, max_depth=10, min_samples_leaf=0.2, min_samples_split=0.1, n_estimators=100 \n",
      "[CV]  criterion=gini, max_depth=10, min_samples_leaf=0.2, min_samples_split=0.1, n_estimators=100, total=   3.0s\n",
      "[CV] criterion=gini, max_depth=10, min_samples_leaf=0.2, min_samples_split=0.1, n_estimators=100 \n",
      "[CV]  criterion=gini, max_depth=10, min_samples_leaf=0.2, min_samples_split=0.1, n_estimators=100, total=   3.0s\n",
      "[CV] criterion=gini, max_depth=10, min_samples_leaf=0.2, min_samples_split=0.2, n_estimators=10 \n",
      "[CV]  criterion=gini, max_depth=10, min_samples_leaf=0.2, min_samples_split=0.2, n_estimators=10, total=   0.3s\n",
      "[CV] criterion=gini, max_depth=10, min_samples_leaf=0.2, min_samples_split=0.2, n_estimators=10 \n",
      "[CV]  criterion=gini, max_depth=10, min_samples_leaf=0.2, min_samples_split=0.2, n_estimators=10, total=   0.3s\n",
      "[CV] criterion=gini, max_depth=10, min_samples_leaf=0.2, min_samples_split=0.2, n_estimators=10 \n",
      "[CV]  criterion=gini, max_depth=10, min_samples_leaf=0.2, min_samples_split=0.2, n_estimators=10, total=   0.3s\n",
      "[CV] criterion=gini, max_depth=10, min_samples_leaf=0.2, min_samples_split=0.2, n_estimators=100 \n",
      "[CV]  criterion=gini, max_depth=10, min_samples_leaf=0.2, min_samples_split=0.2, n_estimators=100, total=   3.1s\n",
      "[CV] criterion=gini, max_depth=10, min_samples_leaf=0.2, min_samples_split=0.2, n_estimators=100 \n",
      "[CV]  criterion=gini, max_depth=10, min_samples_leaf=0.2, min_samples_split=0.2, n_estimators=100, total=   2.9s\n",
      "[CV] criterion=gini, max_depth=10, min_samples_leaf=0.2, min_samples_split=0.2, n_estimators=100 \n",
      "[CV]  criterion=gini, max_depth=10, min_samples_leaf=0.2, min_samples_split=0.2, n_estimators=100, total=   3.0s\n",
      "[CV] criterion=gini, max_depth=None, min_samples_leaf=0.05, min_samples_split=0.05, n_estimators=10 \n",
      "[CV]  criterion=gini, max_depth=None, min_samples_leaf=0.05, min_samples_split=0.05, n_estimators=10, total=   0.8s\n",
      "[CV] criterion=gini, max_depth=None, min_samples_leaf=0.05, min_samples_split=0.05, n_estimators=10 \n",
      "[CV]  criterion=gini, max_depth=None, min_samples_leaf=0.05, min_samples_split=0.05, n_estimators=10, total=   0.7s\n",
      "[CV] criterion=gini, max_depth=None, min_samples_leaf=0.05, min_samples_split=0.05, n_estimators=10 \n",
      "[CV]  criterion=gini, max_depth=None, min_samples_leaf=0.05, min_samples_split=0.05, n_estimators=10, total=   0.7s\n",
      "[CV] criterion=gini, max_depth=None, min_samples_leaf=0.05, min_samples_split=0.05, n_estimators=100 \n",
      "[CV]  criterion=gini, max_depth=None, min_samples_leaf=0.05, min_samples_split=0.05, n_estimators=100, total=   7.4s\n",
      "[CV] criterion=gini, max_depth=None, min_samples_leaf=0.05, min_samples_split=0.05, n_estimators=100 \n",
      "[CV]  criterion=gini, max_depth=None, min_samples_leaf=0.05, min_samples_split=0.05, n_estimators=100, total=   7.4s\n",
      "[CV] criterion=gini, max_depth=None, min_samples_leaf=0.05, min_samples_split=0.05, n_estimators=100 \n",
      "[CV]  criterion=gini, max_depth=None, min_samples_leaf=0.05, min_samples_split=0.05, n_estimators=100, total=   7.6s\n",
      "[CV] criterion=gini, max_depth=None, min_samples_leaf=0.05, min_samples_split=0.1, n_estimators=10 \n",
      "[CV]  criterion=gini, max_depth=None, min_samples_leaf=0.05, min_samples_split=0.1, n_estimators=10, total=   0.7s\n",
      "[CV] criterion=gini, max_depth=None, min_samples_leaf=0.05, min_samples_split=0.1, n_estimators=10 \n",
      "[CV]  criterion=gini, max_depth=None, min_samples_leaf=0.05, min_samples_split=0.1, n_estimators=10, total=   0.7s\n",
      "[CV] criterion=gini, max_depth=None, min_samples_leaf=0.05, min_samples_split=0.1, n_estimators=10 \n",
      "[CV]  criterion=gini, max_depth=None, min_samples_leaf=0.05, min_samples_split=0.1, n_estimators=10, total=   0.8s\n",
      "[CV] criterion=gini, max_depth=None, min_samples_leaf=0.05, min_samples_split=0.1, n_estimators=100 \n",
      "[CV]  criterion=gini, max_depth=None, min_samples_leaf=0.05, min_samples_split=0.1, n_estimators=100, total=   7.4s\n",
      "[CV] criterion=gini, max_depth=None, min_samples_leaf=0.05, min_samples_split=0.1, n_estimators=100 \n",
      "[CV]  criterion=gini, max_depth=None, min_samples_leaf=0.05, min_samples_split=0.1, n_estimators=100, total=   7.3s\n",
      "[CV] criterion=gini, max_depth=None, min_samples_leaf=0.05, min_samples_split=0.1, n_estimators=100 \n"
     ]
    },
    {
     "name": "stdout",
     "output_type": "stream",
     "text": [
      "[CV]  criterion=gini, max_depth=None, min_samples_leaf=0.05, min_samples_split=0.1, n_estimators=100, total=   7.2s\n",
      "[CV] criterion=gini, max_depth=None, min_samples_leaf=0.05, min_samples_split=0.2, n_estimators=10 \n",
      "[CV]  criterion=gini, max_depth=None, min_samples_leaf=0.05, min_samples_split=0.2, n_estimators=10, total=   0.7s\n",
      "[CV] criterion=gini, max_depth=None, min_samples_leaf=0.05, min_samples_split=0.2, n_estimators=10 \n",
      "[CV]  criterion=gini, max_depth=None, min_samples_leaf=0.05, min_samples_split=0.2, n_estimators=10, total=   0.6s\n",
      "[CV] criterion=gini, max_depth=None, min_samples_leaf=0.05, min_samples_split=0.2, n_estimators=10 \n",
      "[CV]  criterion=gini, max_depth=None, min_samples_leaf=0.05, min_samples_split=0.2, n_estimators=10, total=   0.6s\n",
      "[CV] criterion=gini, max_depth=None, min_samples_leaf=0.05, min_samples_split=0.2, n_estimators=100 \n",
      "[CV]  criterion=gini, max_depth=None, min_samples_leaf=0.05, min_samples_split=0.2, n_estimators=100, total=   6.2s\n",
      "[CV] criterion=gini, max_depth=None, min_samples_leaf=0.05, min_samples_split=0.2, n_estimators=100 \n",
      "[CV]  criterion=gini, max_depth=None, min_samples_leaf=0.05, min_samples_split=0.2, n_estimators=100, total=   6.3s\n",
      "[CV] criterion=gini, max_depth=None, min_samples_leaf=0.05, min_samples_split=0.2, n_estimators=100 \n",
      "[CV]  criterion=gini, max_depth=None, min_samples_leaf=0.05, min_samples_split=0.2, n_estimators=100, total=   6.0s\n",
      "[CV] criterion=gini, max_depth=None, min_samples_leaf=0.1, min_samples_split=0.05, n_estimators=10 \n",
      "[CV]  criterion=gini, max_depth=None, min_samples_leaf=0.1, min_samples_split=0.05, n_estimators=10, total=   0.5s\n",
      "[CV] criterion=gini, max_depth=None, min_samples_leaf=0.1, min_samples_split=0.05, n_estimators=10 \n",
      "[CV]  criterion=gini, max_depth=None, min_samples_leaf=0.1, min_samples_split=0.05, n_estimators=10, total=   0.5s\n",
      "[CV] criterion=gini, max_depth=None, min_samples_leaf=0.1, min_samples_split=0.05, n_estimators=10 \n",
      "[CV]  criterion=gini, max_depth=None, min_samples_leaf=0.1, min_samples_split=0.05, n_estimators=10, total=   0.5s\n",
      "[CV] criterion=gini, max_depth=None, min_samples_leaf=0.1, min_samples_split=0.05, n_estimators=100 \n",
      "[CV]  criterion=gini, max_depth=None, min_samples_leaf=0.1, min_samples_split=0.05, n_estimators=100, total=   5.1s\n",
      "[CV] criterion=gini, max_depth=None, min_samples_leaf=0.1, min_samples_split=0.05, n_estimators=100 \n",
      "[CV]  criterion=gini, max_depth=None, min_samples_leaf=0.1, min_samples_split=0.05, n_estimators=100, total=   5.0s\n",
      "[CV] criterion=gini, max_depth=None, min_samples_leaf=0.1, min_samples_split=0.05, n_estimators=100 \n",
      "[CV]  criterion=gini, max_depth=None, min_samples_leaf=0.1, min_samples_split=0.05, n_estimators=100, total=   4.9s\n",
      "[CV] criterion=gini, max_depth=None, min_samples_leaf=0.1, min_samples_split=0.1, n_estimators=10 \n",
      "[CV]  criterion=gini, max_depth=None, min_samples_leaf=0.1, min_samples_split=0.1, n_estimators=10, total=   0.5s\n",
      "[CV] criterion=gini, max_depth=None, min_samples_leaf=0.1, min_samples_split=0.1, n_estimators=10 \n",
      "[CV]  criterion=gini, max_depth=None, min_samples_leaf=0.1, min_samples_split=0.1, n_estimators=10, total=   0.5s\n",
      "[CV] criterion=gini, max_depth=None, min_samples_leaf=0.1, min_samples_split=0.1, n_estimators=10 \n",
      "[CV]  criterion=gini, max_depth=None, min_samples_leaf=0.1, min_samples_split=0.1, n_estimators=10, total=   0.5s\n",
      "[CV] criterion=gini, max_depth=None, min_samples_leaf=0.1, min_samples_split=0.1, n_estimators=100 \n",
      "[CV]  criterion=gini, max_depth=None, min_samples_leaf=0.1, min_samples_split=0.1, n_estimators=100, total=   4.9s\n",
      "[CV] criterion=gini, max_depth=None, min_samples_leaf=0.1, min_samples_split=0.1, n_estimators=100 \n",
      "[CV]  criterion=gini, max_depth=None, min_samples_leaf=0.1, min_samples_split=0.1, n_estimators=100, total=   5.1s\n",
      "[CV] criterion=gini, max_depth=None, min_samples_leaf=0.1, min_samples_split=0.1, n_estimators=100 \n",
      "[CV]  criterion=gini, max_depth=None, min_samples_leaf=0.1, min_samples_split=0.1, n_estimators=100, total=   5.1s\n",
      "[CV] criterion=gini, max_depth=None, min_samples_leaf=0.1, min_samples_split=0.2, n_estimators=10 \n",
      "[CV]  criterion=gini, max_depth=None, min_samples_leaf=0.1, min_samples_split=0.2, n_estimators=10, total=   0.5s\n",
      "[CV] criterion=gini, max_depth=None, min_samples_leaf=0.1, min_samples_split=0.2, n_estimators=10 \n",
      "[CV]  criterion=gini, max_depth=None, min_samples_leaf=0.1, min_samples_split=0.2, n_estimators=10, total=   0.5s\n",
      "[CV] criterion=gini, max_depth=None, min_samples_leaf=0.1, min_samples_split=0.2, n_estimators=10 \n",
      "[CV]  criterion=gini, max_depth=None, min_samples_leaf=0.1, min_samples_split=0.2, n_estimators=10, total=   0.5s\n",
      "[CV] criterion=gini, max_depth=None, min_samples_leaf=0.1, min_samples_split=0.2, n_estimators=100 \n",
      "[CV]  criterion=gini, max_depth=None, min_samples_leaf=0.1, min_samples_split=0.2, n_estimators=100, total=   5.0s\n",
      "[CV] criterion=gini, max_depth=None, min_samples_leaf=0.1, min_samples_split=0.2, n_estimators=100 \n",
      "[CV]  criterion=gini, max_depth=None, min_samples_leaf=0.1, min_samples_split=0.2, n_estimators=100, total=   5.1s\n",
      "[CV] criterion=gini, max_depth=None, min_samples_leaf=0.1, min_samples_split=0.2, n_estimators=100 \n",
      "[CV]  criterion=gini, max_depth=None, min_samples_leaf=0.1, min_samples_split=0.2, n_estimators=100, total=   5.0s\n",
      "[CV] criterion=gini, max_depth=None, min_samples_leaf=0.2, min_samples_split=0.05, n_estimators=10 \n",
      "[CV]  criterion=gini, max_depth=None, min_samples_leaf=0.2, min_samples_split=0.05, n_estimators=10, total=   0.3s\n",
      "[CV] criterion=gini, max_depth=None, min_samples_leaf=0.2, min_samples_split=0.05, n_estimators=10 \n",
      "[CV]  criterion=gini, max_depth=None, min_samples_leaf=0.2, min_samples_split=0.05, n_estimators=10, total=   0.3s\n",
      "[CV] criterion=gini, max_depth=None, min_samples_leaf=0.2, min_samples_split=0.05, n_estimators=10 \n",
      "[CV]  criterion=gini, max_depth=None, min_samples_leaf=0.2, min_samples_split=0.05, n_estimators=10, total=   0.3s\n",
      "[CV] criterion=gini, max_depth=None, min_samples_leaf=0.2, min_samples_split=0.05, n_estimators=100 \n",
      "[CV]  criterion=gini, max_depth=None, min_samples_leaf=0.2, min_samples_split=0.05, n_estimators=100, total=   3.0s\n",
      "[CV] criterion=gini, max_depth=None, min_samples_leaf=0.2, min_samples_split=0.05, n_estimators=100 \n",
      "[CV]  criterion=gini, max_depth=None, min_samples_leaf=0.2, min_samples_split=0.05, n_estimators=100, total=   3.0s\n",
      "[CV] criterion=gini, max_depth=None, min_samples_leaf=0.2, min_samples_split=0.05, n_estimators=100 \n",
      "[CV]  criterion=gini, max_depth=None, min_samples_leaf=0.2, min_samples_split=0.05, n_estimators=100, total=   3.0s\n",
      "[CV] criterion=gini, max_depth=None, min_samples_leaf=0.2, min_samples_split=0.1, n_estimators=10 \n",
      "[CV]  criterion=gini, max_depth=None, min_samples_leaf=0.2, min_samples_split=0.1, n_estimators=10, total=   0.3s\n",
      "[CV] criterion=gini, max_depth=None, min_samples_leaf=0.2, min_samples_split=0.1, n_estimators=10 \n",
      "[CV]  criterion=gini, max_depth=None, min_samples_leaf=0.2, min_samples_split=0.1, n_estimators=10, total=   0.3s\n",
      "[CV] criterion=gini, max_depth=None, min_samples_leaf=0.2, min_samples_split=0.1, n_estimators=10 \n",
      "[CV]  criterion=gini, max_depth=None, min_samples_leaf=0.2, min_samples_split=0.1, n_estimators=10, total=   0.3s\n",
      "[CV] criterion=gini, max_depth=None, min_samples_leaf=0.2, min_samples_split=0.1, n_estimators=100 \n",
      "[CV]  criterion=gini, max_depth=None, min_samples_leaf=0.2, min_samples_split=0.1, n_estimators=100, total=   3.0s\n",
      "[CV] criterion=gini, max_depth=None, min_samples_leaf=0.2, min_samples_split=0.1, n_estimators=100 \n",
      "[CV]  criterion=gini, max_depth=None, min_samples_leaf=0.2, min_samples_split=0.1, n_estimators=100, total=   2.9s\n",
      "[CV] criterion=gini, max_depth=None, min_samples_leaf=0.2, min_samples_split=0.1, n_estimators=100 \n",
      "[CV]  criterion=gini, max_depth=None, min_samples_leaf=0.2, min_samples_split=0.1, n_estimators=100, total=   3.0s\n",
      "[CV] criterion=gini, max_depth=None, min_samples_leaf=0.2, min_samples_split=0.2, n_estimators=10 \n",
      "[CV]  criterion=gini, max_depth=None, min_samples_leaf=0.2, min_samples_split=0.2, n_estimators=10, total=   0.3s\n",
      "[CV] criterion=gini, max_depth=None, min_samples_leaf=0.2, min_samples_split=0.2, n_estimators=10 \n",
      "[CV]  criterion=gini, max_depth=None, min_samples_leaf=0.2, min_samples_split=0.2, n_estimators=10, total=   0.3s\n",
      "[CV] criterion=gini, max_depth=None, min_samples_leaf=0.2, min_samples_split=0.2, n_estimators=10 \n"
     ]
    },
    {
     "name": "stdout",
     "output_type": "stream",
     "text": [
      "[CV]  criterion=gini, max_depth=None, min_samples_leaf=0.2, min_samples_split=0.2, n_estimators=10, total=   0.3s\n",
      "[CV] criterion=gini, max_depth=None, min_samples_leaf=0.2, min_samples_split=0.2, n_estimators=100 \n",
      "[CV]  criterion=gini, max_depth=None, min_samples_leaf=0.2, min_samples_split=0.2, n_estimators=100, total=   3.1s\n",
      "[CV] criterion=gini, max_depth=None, min_samples_leaf=0.2, min_samples_split=0.2, n_estimators=100 \n",
      "[CV]  criterion=gini, max_depth=None, min_samples_leaf=0.2, min_samples_split=0.2, n_estimators=100, total=   3.0s\n",
      "[CV] criterion=gini, max_depth=None, min_samples_leaf=0.2, min_samples_split=0.2, n_estimators=100 \n",
      "[CV]  criterion=gini, max_depth=None, min_samples_leaf=0.2, min_samples_split=0.2, n_estimators=100, total=   2.9s\n"
     ]
    },
    {
     "name": "stderr",
     "output_type": "stream",
     "text": [
      "[Parallel(n_jobs=1)]: Done 432 out of 432 | elapsed: 24.5min finished\n"
     ]
    },
    {
     "data": {
      "text/plain": [
       "GridSearchCV(cv=3, error_score='raise-deprecating',\n",
       "       estimator=RandomForestClassifier(bootstrap=True, class_weight=None, criterion='gini',\n",
       "            max_depth=None, max_features='auto', max_leaf_nodes=None,\n",
       "            min_impurity_decrease=0.0, min_impurity_split=None,\n",
       "            min_samples_leaf=1, min_samples_split=2,\n",
       "            min_weight_fraction_leaf=0.0, n_estimators='warn', n_jobs=None,\n",
       "            oob_score=False, random_state=None, verbose=0,\n",
       "            warm_start=False),\n",
       "       fit_params=None, iid='warn', n_jobs=None,\n",
       "       param_grid={'n_estimators': [10, 100], 'criterion': ['entropy', 'gini'], 'max_depth': [2, 5, 10, None], 'min_samples_leaf': [0.05, 0.1, 0.2], 'min_samples_split': [0.05, 0.1, 0.2]},\n",
       "       pre_dispatch='2*n_jobs', refit=True, return_train_score='warn',\n",
       "       scoring=None, verbose=2)"
      ]
     },
     "execution_count": 170,
     "metadata": {},
     "output_type": "execute_result"
    }
   ],
   "source": [
    "from sklearn.model_selection import GridSearchCV\n",
    "from sklearn.ensemble import RandomForestClassifier\n",
    "param_grid_rfc={'n_estimators':[10,100],\n",
    "                'criterion': ['entropy', 'gini'], \n",
    "                'max_depth': [2, 5, 10, None],  \n",
    "                'min_samples_leaf':[0.05 ,0.1, 0.2], \n",
    "                'min_samples_split':[0.05 ,0.1, 0.2]}\n",
    "grid_rfc=GridSearchCV(estimator=RandomForestClassifier(),\n",
    "                     param_grid=param_grid_rfc,\n",
    "                     cv=3,\n",
    "                     verbose=2)\n",
    "grid_rfc.fit(X_train,y_train)"
   ]
  },
  {
   "cell_type": "code",
   "execution_count": 171,
   "metadata": {},
   "outputs": [
    {
     "data": {
      "text/plain": [
       "{'criterion': 'entropy',\n",
       " 'max_depth': 5,\n",
       " 'min_samples_leaf': 0.05,\n",
       " 'min_samples_split': 0.05,\n",
       " 'n_estimators': 100}"
      ]
     },
     "execution_count": 171,
     "metadata": {},
     "output_type": "execute_result"
    }
   ],
   "source": [
    "grid_rfc.best_params_"
   ]
  },
  {
   "cell_type": "code",
   "execution_count": 172,
   "metadata": {},
   "outputs": [
    {
     "data": {
      "text/plain": [
       "0.724958178628259"
      ]
     },
     "execution_count": 172,
     "metadata": {},
     "output_type": "execute_result"
    }
   ],
   "source": [
    "grid_rfc.best_score_"
   ]
  },
  {
   "cell_type": "code",
   "execution_count": 224,
   "metadata": {},
   "outputs": [
    {
     "name": "stderr",
     "output_type": "stream",
     "text": [
      "C:\\Users\\kosta\\Anaconda3\\envs\\learn-env\\lib\\site-packages\\sklearn\\metrics\\classification.py:1143: UndefinedMetricWarning: Precision and F-score are ill-defined and being set to 0.0 in labels with no predicted samples.\n",
      "  'precision', 'predicted', average, warn_for)\n"
     ]
    },
    {
     "name": "stdout",
     "output_type": "stream",
     "text": [
      "              precision    recall  f1-score   support\n",
      "\n",
      "   Flex Pass       0.00      0.00      0.00      2348\n",
      "Monthly Pass       0.72      0.93      0.81     20070\n",
      "     Walk-up       0.76      0.49      0.59     10261\n",
      "\n",
      "   micro avg       0.73      0.73      0.73     32679\n",
      "   macro avg       0.49      0.47      0.47     32679\n",
      "weighted avg       0.68      0.73      0.68     32679\n",
      "\n"
     ]
    }
   ],
   "source": [
    "from sklearn.metrics import confusion_matrix, classification_report\n",
    "y_pred = grid_rfc.best_estimator_.predict(X_test)\n",
    "print(classification_report(y_test,y_pred))"
   ]
  },
  {
   "cell_type": "code",
   "execution_count": 219,
   "metadata": {},
   "outputs": [],
   "source": [
    "import itertools\n",
    "def show_cf(y_true, y_pred, class_names=None, model_name=None):\n",
    "    '''Stylized Visual Confusion Matrix provided by Flatiron School'''\n",
    "    cf = confusion_matrix(y_true, y_pred)\n",
    "    plt.imshow(cf, cmap=plt.cm.Blues)\n",
    "    \n",
    "    if model_name:\n",
    "        plt.title(\"Confusion Matrix: {}\".format(model_name))\n",
    "    else:\n",
    "        plt.title(\"Confusion Matrix\")\n",
    "    plt.ylabel('True Label')\n",
    "    plt.xlabel('Predicted Label')\n",
    "    \n",
    "#     class_names = set(y_true)\n",
    "    tick_marks = np.arange(len(class_names))\n",
    "    if class_names:\n",
    "        plt.xticks(tick_marks, class_names)\n",
    "        plt.yticks(tick_marks, class_names)\n",
    "    \n",
    "    thresh = cf.max() / 2.\n",
    "    \n",
    "    for i, j in itertools.product(range(cf.shape[0]), range(cf.shape[1])):\n",
    "        plt.text(j, i, cf[i, j], horizontalalignment='center', color='white' if cf[i, j] > thresh else 'black')\n",
    "\n",
    "    plt.colorbar()\n",
    "    \n"
   ]
  },
  {
   "cell_type": "code",
   "execution_count": 225,
   "metadata": {
    "scrolled": true
   },
   "outputs": [
    {
     "data": {
      "image/png": "[encoded data removed]",
      "text/plain": [
       "<Figure size 432x288 with 2 Axes>"
      ]
     },
     "metadata": {},
     "output_type": "display_data"
    }
   ],
   "source": [
    "show_cf(y_test,y_pred,class_names=['Flex Pass','Monthly Pass','Walk Up'],model_name='Tuned Random Forest Classifier')"
   ]
  },
  {
   "cell_type": "code",
   "execution_count": null,
   "metadata": {},
   "outputs": [],
   "source": []
  },
  {
   "cell_type": "code",
   "execution_count": null,
   "metadata": {},
   "outputs": [],
   "source": []
  },
  {
   "cell_type": "code",
   "execution_count": 174,
   "metadata": {
    "scrolled": true
   },
   "outputs": [
    {
     "name": "stdout",
     "output_type": "stream",
     "text": [
      "Fitting 3 folds for each of 9 candidates, totalling 27 fits\n",
      "[CV] learning_rate=1.0, n_estimators=30 ..............................\n"
     ]
    },
    {
     "name": "stderr",
     "output_type": "stream",
     "text": [
      "[Parallel(n_jobs=1)]: Using backend SequentialBackend with 1 concurrent workers.\n"
     ]
    },
    {
     "name": "stdout",
     "output_type": "stream",
     "text": [
      "[CV] ............... learning_rate=1.0, n_estimators=30, total=   7.7s\n",
      "[CV] learning_rate=1.0, n_estimators=30 ..............................\n"
     ]
    },
    {
     "name": "stderr",
     "output_type": "stream",
     "text": [
      "[Parallel(n_jobs=1)]: Done   1 out of   1 | elapsed:    8.0s remaining:    0.0s\n"
     ]
    },
    {
     "name": "stdout",
     "output_type": "stream",
     "text": [
      "[CV] ............... learning_rate=1.0, n_estimators=30, total=   7.8s\n",
      "[CV] learning_rate=1.0, n_estimators=30 ..............................\n",
      "[CV] ............... learning_rate=1.0, n_estimators=30, total=   7.7s\n",
      "[CV] learning_rate=1.0, n_estimators=50 ..............................\n",
      "[CV] ............... learning_rate=1.0, n_estimators=50, total=  12.8s\n",
      "[CV] learning_rate=1.0, n_estimators=50 ..............................\n",
      "[CV] ............... learning_rate=1.0, n_estimators=50, total=  12.8s\n",
      "[CV] learning_rate=1.0, n_estimators=50 ..............................\n",
      "[CV] ............... learning_rate=1.0, n_estimators=50, total=  12.8s\n",
      "[CV] learning_rate=1.0, n_estimators=70 ..............................\n",
      "[CV] ............... learning_rate=1.0, n_estimators=70, total=  18.1s\n",
      "[CV] learning_rate=1.0, n_estimators=70 ..............................\n",
      "[CV] ............... learning_rate=1.0, n_estimators=70, total=  18.1s\n",
      "[CV] learning_rate=1.0, n_estimators=70 ..............................\n",
      "[CV] ............... learning_rate=1.0, n_estimators=70, total=  17.9s\n",
      "[CV] learning_rate=0.5, n_estimators=30 ..............................\n",
      "[CV] ............... learning_rate=0.5, n_estimators=30, total=   7.7s\n",
      "[CV] learning_rate=0.5, n_estimators=30 ..............................\n",
      "[CV] ............... learning_rate=0.5, n_estimators=30, total=   7.7s\n",
      "[CV] learning_rate=0.5, n_estimators=30 ..............................\n",
      "[CV] ............... learning_rate=0.5, n_estimators=30, total=   7.6s\n",
      "[CV] learning_rate=0.5, n_estimators=50 ..............................\n",
      "[CV] ............... learning_rate=0.5, n_estimators=50, total=  12.6s\n",
      "[CV] learning_rate=0.5, n_estimators=50 ..............................\n",
      "[CV] ............... learning_rate=0.5, n_estimators=50, total=  12.8s\n",
      "[CV] learning_rate=0.5, n_estimators=50 ..............................\n",
      "[CV] ............... learning_rate=0.5, n_estimators=50, total=  12.9s\n",
      "[CV] learning_rate=0.5, n_estimators=70 ..............................\n",
      "[CV] ............... learning_rate=0.5, n_estimators=70, total=  17.8s\n",
      "[CV] learning_rate=0.5, n_estimators=70 ..............................\n",
      "[CV] ............... learning_rate=0.5, n_estimators=70, total=  17.7s\n",
      "[CV] learning_rate=0.5, n_estimators=70 ..............................\n",
      "[CV] ............... learning_rate=0.5, n_estimators=70, total=  17.7s\n",
      "[CV] learning_rate=0.1, n_estimators=30 ..............................\n",
      "[CV] ............... learning_rate=0.1, n_estimators=30, total=   7.6s\n",
      "[CV] learning_rate=0.1, n_estimators=30 ..............................\n",
      "[CV] ............... learning_rate=0.1, n_estimators=30, total=   7.8s\n",
      "[CV] learning_rate=0.1, n_estimators=30 ..............................\n",
      "[CV] ............... learning_rate=0.1, n_estimators=30, total=   7.7s\n",
      "[CV] learning_rate=0.1, n_estimators=50 ..............................\n",
      "[CV] ............... learning_rate=0.1, n_estimators=50, total=  13.1s\n",
      "[CV] learning_rate=0.1, n_estimators=50 ..............................\n",
      "[CV] ............... learning_rate=0.1, n_estimators=50, total=  12.9s\n",
      "[CV] learning_rate=0.1, n_estimators=50 ..............................\n",
      "[CV] ............... learning_rate=0.1, n_estimators=50, total=  12.5s\n",
      "[CV] learning_rate=0.1, n_estimators=70 ..............................\n",
      "[CV] ............... learning_rate=0.1, n_estimators=70, total=  17.7s\n",
      "[CV] learning_rate=0.1, n_estimators=70 ..............................\n",
      "[CV] ............... learning_rate=0.1, n_estimators=70, total=  17.8s\n",
      "[CV] learning_rate=0.1, n_estimators=70 ..............................\n",
      "[CV] ............... learning_rate=0.1, n_estimators=70, total=  17.9s\n"
     ]
    },
    {
     "name": "stderr",
     "output_type": "stream",
     "text": [
      "[Parallel(n_jobs=1)]: Done  27 out of  27 | elapsed:  6.0min finished\n"
     ]
    },
    {
     "data": {
      "text/plain": [
       "GridSearchCV(cv=3, error_score='raise-deprecating',\n",
       "       estimator=AdaBoostClassifier(algorithm='SAMME.R', base_estimator=None,\n",
       "          learning_rate=1.0, n_estimators=50, random_state=None),\n",
       "       fit_params=None, iid='warn', n_jobs=None,\n",
       "       param_grid={'n_estimators': [30, 50, 70], 'learning_rate': [1.0, 0.5, 0.1]},\n",
       "       pre_dispatch='2*n_jobs', refit=True, return_train_score='warn',\n",
       "       scoring=None, verbose=2)"
      ]
     },
     "execution_count": 174,
     "metadata": {},
     "output_type": "execute_result"
    }
   ],
   "source": [
    "from sklearn.ensemble import AdaBoostClassifier\n",
    "param_grid_ada={'n_estimators': [30, 50, 70],\n",
    "                'learning_rate': [1.0, 0.5, 0.1]}\n",
    "grid_ada=GridSearchCV(estimator=AdaBoostClassifier(),\n",
    "                     param_grid=param_grid_ada,\n",
    "                     cv=3,\n",
    "                     verbose=2)\n",
    "grid_ada.fit(X_train,y_train)"
   ]
  },
  {
   "cell_type": "code",
   "execution_count": 175,
   "metadata": {},
   "outputs": [
    {
     "data": {
      "text/plain": [
       "{'learning_rate': 1.0, 'n_estimators': 50}"
      ]
     },
     "execution_count": 175,
     "metadata": {},
     "output_type": "execute_result"
    }
   ],
   "source": [
    "grid_ada.best_params_"
   ]
  },
  {
   "cell_type": "code",
   "execution_count": 176,
   "metadata": {},
   "outputs": [
    {
     "data": {
      "text/plain": [
       "0.731629197437676"
      ]
     },
     "execution_count": 176,
     "metadata": {},
     "output_type": "execute_result"
    }
   ],
   "source": [
    "grid_ada.best_score_"
   ]
  },
  {
   "cell_type": "code",
   "execution_count": 226,
   "metadata": {},
   "outputs": [
    {
     "name": "stderr",
     "output_type": "stream",
     "text": [
      "C:\\Users\\kosta\\Anaconda3\\envs\\learn-env\\lib\\site-packages\\sklearn\\metrics\\classification.py:1143: UndefinedMetricWarning: Precision and F-score are ill-defined and being set to 0.0 in labels with no predicted samples.\n",
      "  'precision', 'predicted', average, warn_for)\n"
     ]
    },
    {
     "name": "stdout",
     "output_type": "stream",
     "text": [
      "              precision    recall  f1-score   support\n",
      "\n",
      "   Flex Pass       0.00      0.00      0.00      2348\n",
      "Monthly Pass       0.75      0.89      0.81     20070\n",
      "     Walk-up       0.70      0.60      0.65     10261\n",
      "\n",
      "   micro avg       0.73      0.73      0.73     32679\n",
      "   macro avg       0.48      0.50      0.49     32679\n",
      "weighted avg       0.68      0.73      0.70     32679\n",
      "\n"
     ]
    }
   ],
   "source": [
    "y_pred = grid_ada.best_estimator_.predict(X_test)\n",
    "# print(confusion_matrix(y_test,y_pred))\n",
    "print(classification_report(y_test,y_pred))"
   ]
  },
  {
   "cell_type": "code",
   "execution_count": 227,
   "metadata": {},
   "outputs": [
    {
     "data": {
      "image/png": "[encoded data removed]",
      "text/plain": [
       "<Figure size 432x288 with 2 Axes>"
      ]
     },
     "metadata": {},
     "output_type": "display_data"
    }
   ],
   "source": [
    "show_cf(y_test,y_pred, class_names=['Flex Pass','Monthly Pass','Walk Up'],model_name='Tuned ADABoost Classifier')"
   ]
  },
  {
   "cell_type": "code",
   "execution_count": null,
   "metadata": {},
   "outputs": [],
   "source": []
  },
  {
   "cell_type": "code",
   "execution_count": 178,
   "metadata": {},
   "outputs": [
    {
     "name": "stdout",
     "output_type": "stream",
     "text": [
      "Fitting 3 folds for each of 54 candidates, totalling 162 fits\n",
      "[CV] learning_rate=0.3, max_depth=5, min_child_weight=0, n_estimators=10 \n"
     ]
    },
    {
     "name": "stderr",
     "output_type": "stream",
     "text": [
      "[Parallel(n_jobs=1)]: Using backend SequentialBackend with 1 concurrent workers.\n"
     ]
    },
    {
     "name": "stdout",
     "output_type": "stream",
     "text": [
      "[CV]  learning_rate=0.3, max_depth=5, min_child_weight=0, n_estimators=10, total=   3.3s\n",
      "[CV] learning_rate=0.3, max_depth=5, min_child_weight=0, n_estimators=10 \n"
     ]
    },
    {
     "name": "stderr",
     "output_type": "stream",
     "text": [
      "[Parallel(n_jobs=1)]: Done   1 out of   1 | elapsed:    3.4s remaining:    0.0s\n"
     ]
    },
    {
     "name": "stdout",
     "output_type": "stream",
     "text": [
      "[CV]  learning_rate=0.3, max_depth=5, min_child_weight=0, n_estimators=10, total=   3.2s\n",
      "[CV] learning_rate=0.3, max_depth=5, min_child_weight=0, n_estimators=10 \n",
      "[CV]  learning_rate=0.3, max_depth=5, min_child_weight=0, n_estimators=10, total=   3.2s\n",
      "[CV] learning_rate=0.3, max_depth=5, min_child_weight=0, n_estimators=100 \n",
      "[CV]  learning_rate=0.3, max_depth=5, min_child_weight=0, n_estimators=100, total=  29.2s\n",
      "[CV] learning_rate=0.3, max_depth=5, min_child_weight=0, n_estimators=100 \n",
      "[CV]  learning_rate=0.3, max_depth=5, min_child_weight=0, n_estimators=100, total=  29.7s\n",
      "[CV] learning_rate=0.3, max_depth=5, min_child_weight=0, n_estimators=100 \n",
      "[CV]  learning_rate=0.3, max_depth=5, min_child_weight=0, n_estimators=100, total=  29.2s\n",
      "[CV] learning_rate=0.3, max_depth=5, min_child_weight=1, n_estimators=10 \n",
      "[CV]  learning_rate=0.3, max_depth=5, min_child_weight=1, n_estimators=10, total=   3.1s\n",
      "[CV] learning_rate=0.3, max_depth=5, min_child_weight=1, n_estimators=10 \n",
      "[CV]  learning_rate=0.3, max_depth=5, min_child_weight=1, n_estimators=10, total=   3.2s\n",
      "[CV] learning_rate=0.3, max_depth=5, min_child_weight=1, n_estimators=10 \n",
      "[CV]  learning_rate=0.3, max_depth=5, min_child_weight=1, n_estimators=10, total=   3.1s\n",
      "[CV] learning_rate=0.3, max_depth=5, min_child_weight=1, n_estimators=100 \n",
      "[CV]  learning_rate=0.3, max_depth=5, min_child_weight=1, n_estimators=100, total=  29.1s\n",
      "[CV] learning_rate=0.3, max_depth=5, min_child_weight=1, n_estimators=100 \n",
      "[CV]  learning_rate=0.3, max_depth=5, min_child_weight=1, n_estimators=100, total=  29.0s\n",
      "[CV] learning_rate=0.3, max_depth=5, min_child_weight=1, n_estimators=100 \n",
      "[CV]  learning_rate=0.3, max_depth=5, min_child_weight=1, n_estimators=100, total=  29.2s\n",
      "[CV] learning_rate=0.3, max_depth=5, min_child_weight=3, n_estimators=10 \n",
      "[CV]  learning_rate=0.3, max_depth=5, min_child_weight=3, n_estimators=10, total=   3.2s\n",
      "[CV] learning_rate=0.3, max_depth=5, min_child_weight=3, n_estimators=10 \n",
      "[CV]  learning_rate=0.3, max_depth=5, min_child_weight=3, n_estimators=10, total=   3.2s\n",
      "[CV] learning_rate=0.3, max_depth=5, min_child_weight=3, n_estimators=10 \n",
      "[CV]  learning_rate=0.3, max_depth=5, min_child_weight=3, n_estimators=10, total=   3.1s\n",
      "[CV] learning_rate=0.3, max_depth=5, min_child_weight=3, n_estimators=100 \n",
      "[CV]  learning_rate=0.3, max_depth=5, min_child_weight=3, n_estimators=100, total=  29.0s\n",
      "[CV] learning_rate=0.3, max_depth=5, min_child_weight=3, n_estimators=100 \n",
      "[CV]  learning_rate=0.3, max_depth=5, min_child_weight=3, n_estimators=100, total=  29.0s\n",
      "[CV] learning_rate=0.3, max_depth=5, min_child_weight=3, n_estimators=100 \n",
      "[CV]  learning_rate=0.3, max_depth=5, min_child_weight=3, n_estimators=100, total=  29.2s\n",
      "[CV] learning_rate=0.3, max_depth=6, min_child_weight=0, n_estimators=10 \n",
      "[CV]  learning_rate=0.3, max_depth=6, min_child_weight=0, n_estimators=10, total=   3.8s\n",
      "[CV] learning_rate=0.3, max_depth=6, min_child_weight=0, n_estimators=10 \n",
      "[CV]  learning_rate=0.3, max_depth=6, min_child_weight=0, n_estimators=10, total=   3.9s\n",
      "[CV] learning_rate=0.3, max_depth=6, min_child_weight=0, n_estimators=10 \n",
      "[CV]  learning_rate=0.3, max_depth=6, min_child_weight=0, n_estimators=10, total=   3.9s\n",
      "[CV] learning_rate=0.3, max_depth=6, min_child_weight=0, n_estimators=100 \n",
      "[CV]  learning_rate=0.3, max_depth=6, min_child_weight=0, n_estimators=100, total=  35.2s\n",
      "[CV] learning_rate=0.3, max_depth=6, min_child_weight=0, n_estimators=100 \n",
      "[CV]  learning_rate=0.3, max_depth=6, min_child_weight=0, n_estimators=100, total=  35.4s\n",
      "[CV] learning_rate=0.3, max_depth=6, min_child_weight=0, n_estimators=100 \n",
      "[CV]  learning_rate=0.3, max_depth=6, min_child_weight=0, n_estimators=100, total=  35.2s\n",
      "[CV] learning_rate=0.3, max_depth=6, min_child_weight=1, n_estimators=10 \n",
      "[CV]  learning_rate=0.3, max_depth=6, min_child_weight=1, n_estimators=10, total=   3.9s\n",
      "[CV] learning_rate=0.3, max_depth=6, min_child_weight=1, n_estimators=10 \n",
      "[CV]  learning_rate=0.3, max_depth=6, min_child_weight=1, n_estimators=10, total=   3.8s\n",
      "[CV] learning_rate=0.3, max_depth=6, min_child_weight=1, n_estimators=10 \n",
      "[CV]  learning_rate=0.3, max_depth=6, min_child_weight=1, n_estimators=10, total=   3.9s\n",
      "[CV] learning_rate=0.3, max_depth=6, min_child_weight=1, n_estimators=100 \n",
      "[CV]  learning_rate=0.3, max_depth=6, min_child_weight=1, n_estimators=100, total=  34.9s\n",
      "[CV] learning_rate=0.3, max_depth=6, min_child_weight=1, n_estimators=100 \n",
      "[CV]  learning_rate=0.3, max_depth=6, min_child_weight=1, n_estimators=100, total=  35.4s\n",
      "[CV] learning_rate=0.3, max_depth=6, min_child_weight=1, n_estimators=100 \n",
      "[CV]  learning_rate=0.3, max_depth=6, min_child_weight=1, n_estimators=100, total=  35.3s\n",
      "[CV] learning_rate=0.3, max_depth=6, min_child_weight=3, n_estimators=10 \n",
      "[CV]  learning_rate=0.3, max_depth=6, min_child_weight=3, n_estimators=10, total=   3.9s\n",
      "[CV] learning_rate=0.3, max_depth=6, min_child_weight=3, n_estimators=10 \n",
      "[CV]  learning_rate=0.3, max_depth=6, min_child_weight=3, n_estimators=10, total=   3.9s\n",
      "[CV] learning_rate=0.3, max_depth=6, min_child_weight=3, n_estimators=10 \n",
      "[CV]  learning_rate=0.3, max_depth=6, min_child_weight=3, n_estimators=10, total=   3.8s\n",
      "[CV] learning_rate=0.3, max_depth=6, min_child_weight=3, n_estimators=100 \n",
      "[CV]  learning_rate=0.3, max_depth=6, min_child_weight=3, n_estimators=100, total=  35.0s\n",
      "[CV] learning_rate=0.3, max_depth=6, min_child_weight=3, n_estimators=100 \n",
      "[CV]  learning_rate=0.3, max_depth=6, min_child_weight=3, n_estimators=100, total=  35.3s\n",
      "[CV] learning_rate=0.3, max_depth=6, min_child_weight=3, n_estimators=100 \n",
      "[CV]  learning_rate=0.3, max_depth=6, min_child_weight=3, n_estimators=100, total=  35.3s\n",
      "[CV] learning_rate=0.3, max_depth=7, min_child_weight=0, n_estimators=10 \n",
      "[CV]  learning_rate=0.3, max_depth=7, min_child_weight=0, n_estimators=10, total=   4.6s\n",
      "[CV] learning_rate=0.3, max_depth=7, min_child_weight=0, n_estimators=10 \n",
      "[CV]  learning_rate=0.3, max_depth=7, min_child_weight=0, n_estimators=10, total=   4.7s\n",
      "[CV] learning_rate=0.3, max_depth=7, min_child_weight=0, n_estimators=10 \n",
      "[CV]  learning_rate=0.3, max_depth=7, min_child_weight=0, n_estimators=10, total=   4.7s\n",
      "[CV] learning_rate=0.3, max_depth=7, min_child_weight=0, n_estimators=100 \n",
      "[CV]  learning_rate=0.3, max_depth=7, min_child_weight=0, n_estimators=100, total=  41.3s\n",
      "[CV] learning_rate=0.3, max_depth=7, min_child_weight=0, n_estimators=100 \n",
      "[CV]  learning_rate=0.3, max_depth=7, min_child_weight=0, n_estimators=100, total=  41.7s\n",
      "[CV] learning_rate=0.3, max_depth=7, min_child_weight=0, n_estimators=100 \n",
      "[CV]  learning_rate=0.3, max_depth=7, min_child_weight=0, n_estimators=100, total=  41.7s\n",
      "[CV] learning_rate=0.3, max_depth=7, min_child_weight=1, n_estimators=10 \n",
      "[CV]  learning_rate=0.3, max_depth=7, min_child_weight=1, n_estimators=10, total=   4.6s\n",
      "[CV] learning_rate=0.3, max_depth=7, min_child_weight=1, n_estimators=10 \n",
      "[CV]  learning_rate=0.3, max_depth=7, min_child_weight=1, n_estimators=10, total=   4.6s\n",
      "[CV] learning_rate=0.3, max_depth=7, min_child_weight=1, n_estimators=10 \n",
      "[CV]  learning_rate=0.3, max_depth=7, min_child_weight=1, n_estimators=10, total=   4.6s\n",
      "[CV] learning_rate=0.3, max_depth=7, min_child_weight=1, n_estimators=100 \n",
      "[CV]  learning_rate=0.3, max_depth=7, min_child_weight=1, n_estimators=100, total=  41.1s\n",
      "[CV] learning_rate=0.3, max_depth=7, min_child_weight=1, n_estimators=100 \n",
      "[CV]  learning_rate=0.3, max_depth=7, min_child_weight=1, n_estimators=100, total=  41.2s\n",
      "[CV] learning_rate=0.3, max_depth=7, min_child_weight=1, n_estimators=100 \n",
      "[CV]  learning_rate=0.3, max_depth=7, min_child_weight=1, n_estimators=100, total=  41.3s\n",
      "[CV] learning_rate=0.3, max_depth=7, min_child_weight=3, n_estimators=10 \n",
      "[CV]  learning_rate=0.3, max_depth=7, min_child_weight=3, n_estimators=10, total=   4.6s\n",
      "[CV] learning_rate=0.3, max_depth=7, min_child_weight=3, n_estimators=10 \n",
      "[CV]  learning_rate=0.3, max_depth=7, min_child_weight=3, n_estimators=10, total=   4.6s\n",
      "[CV] learning_rate=0.3, max_depth=7, min_child_weight=3, n_estimators=10 \n",
      "[CV]  learning_rate=0.3, max_depth=7, min_child_weight=3, n_estimators=10, total=   4.6s\n",
      "[CV] learning_rate=0.3, max_depth=7, min_child_weight=3, n_estimators=100 \n"
     ]
    },
    {
     "name": "stdout",
     "output_type": "stream",
     "text": [
      "[CV]  learning_rate=0.3, max_depth=7, min_child_weight=3, n_estimators=100, total=  41.1s\n",
      "[CV] learning_rate=0.3, max_depth=7, min_child_weight=3, n_estimators=100 \n",
      "[CV]  learning_rate=0.3, max_depth=7, min_child_weight=3, n_estimators=100, total=  41.2s\n",
      "[CV] learning_rate=0.3, max_depth=7, min_child_weight=3, n_estimators=100 \n",
      "[CV]  learning_rate=0.3, max_depth=7, min_child_weight=3, n_estimators=100, total=  41.0s\n",
      "[CV] learning_rate=0.5, max_depth=5, min_child_weight=0, n_estimators=10 \n",
      "[CV]  learning_rate=0.5, max_depth=5, min_child_weight=0, n_estimators=10, total=   3.2s\n",
      "[CV] learning_rate=0.5, max_depth=5, min_child_weight=0, n_estimators=10 \n",
      "[CV]  learning_rate=0.5, max_depth=5, min_child_weight=0, n_estimators=10, total=   3.2s\n",
      "[CV] learning_rate=0.5, max_depth=5, min_child_weight=0, n_estimators=10 \n",
      "[CV]  learning_rate=0.5, max_depth=5, min_child_weight=0, n_estimators=10, total=   3.1s\n",
      "[CV] learning_rate=0.5, max_depth=5, min_child_weight=0, n_estimators=100 \n",
      "[CV]  learning_rate=0.5, max_depth=5, min_child_weight=0, n_estimators=100, total=  28.9s\n",
      "[CV] learning_rate=0.5, max_depth=5, min_child_weight=0, n_estimators=100 \n",
      "[CV]  learning_rate=0.5, max_depth=5, min_child_weight=0, n_estimators=100, total=  29.2s\n",
      "[CV] learning_rate=0.5, max_depth=5, min_child_weight=0, n_estimators=100 \n",
      "[CV]  learning_rate=0.5, max_depth=5, min_child_weight=0, n_estimators=100, total=  29.1s\n",
      "[CV] learning_rate=0.5, max_depth=5, min_child_weight=1, n_estimators=10 \n",
      "[CV]  learning_rate=0.5, max_depth=5, min_child_weight=1, n_estimators=10, total=   3.2s\n",
      "[CV] learning_rate=0.5, max_depth=5, min_child_weight=1, n_estimators=10 \n",
      "[CV]  learning_rate=0.5, max_depth=5, min_child_weight=1, n_estimators=10, total=   3.2s\n",
      "[CV] learning_rate=0.5, max_depth=5, min_child_weight=1, n_estimators=10 \n",
      "[CV]  learning_rate=0.5, max_depth=5, min_child_weight=1, n_estimators=10, total=   3.1s\n",
      "[CV] learning_rate=0.5, max_depth=5, min_child_weight=1, n_estimators=100 \n",
      "[CV]  learning_rate=0.5, max_depth=5, min_child_weight=1, n_estimators=100, total=  29.0s\n",
      "[CV] learning_rate=0.5, max_depth=5, min_child_weight=1, n_estimators=100 \n",
      "[CV]  learning_rate=0.5, max_depth=5, min_child_weight=1, n_estimators=100, total=  29.5s\n",
      "[CV] learning_rate=0.5, max_depth=5, min_child_weight=1, n_estimators=100 \n",
      "[CV]  learning_rate=0.5, max_depth=5, min_child_weight=1, n_estimators=100, total=  29.0s\n",
      "[CV] learning_rate=0.5, max_depth=5, min_child_weight=3, n_estimators=10 \n",
      "[CV]  learning_rate=0.5, max_depth=5, min_child_weight=3, n_estimators=10, total=   3.1s\n",
      "[CV] learning_rate=0.5, max_depth=5, min_child_weight=3, n_estimators=10 \n",
      "[CV]  learning_rate=0.5, max_depth=5, min_child_weight=3, n_estimators=10, total=   3.1s\n",
      "[CV] learning_rate=0.5, max_depth=5, min_child_weight=3, n_estimators=10 \n",
      "[CV]  learning_rate=0.5, max_depth=5, min_child_weight=3, n_estimators=10, total=   3.1s\n",
      "[CV] learning_rate=0.5, max_depth=5, min_child_weight=3, n_estimators=100 \n",
      "[CV]  learning_rate=0.5, max_depth=5, min_child_weight=3, n_estimators=100, total=  28.9s\n",
      "[CV] learning_rate=0.5, max_depth=5, min_child_weight=3, n_estimators=100 \n",
      "[CV]  learning_rate=0.5, max_depth=5, min_child_weight=3, n_estimators=100, total=  29.1s\n",
      "[CV] learning_rate=0.5, max_depth=5, min_child_weight=3, n_estimators=100 \n",
      "[CV]  learning_rate=0.5, max_depth=5, min_child_weight=3, n_estimators=100, total=  28.9s\n",
      "[CV] learning_rate=0.5, max_depth=6, min_child_weight=0, n_estimators=10 \n",
      "[CV]  learning_rate=0.5, max_depth=6, min_child_weight=0, n_estimators=10, total=   3.9s\n",
      "[CV] learning_rate=0.5, max_depth=6, min_child_weight=0, n_estimators=10 \n",
      "[CV]  learning_rate=0.5, max_depth=6, min_child_weight=0, n_estimators=10, total=   3.8s\n",
      "[CV] learning_rate=0.5, max_depth=6, min_child_weight=0, n_estimators=10 \n",
      "[CV]  learning_rate=0.5, max_depth=6, min_child_weight=0, n_estimators=10, total=   3.9s\n",
      "[CV] learning_rate=0.5, max_depth=6, min_child_weight=0, n_estimators=100 \n",
      "[CV]  learning_rate=0.5, max_depth=6, min_child_weight=0, n_estimators=100, total=  35.2s\n",
      "[CV] learning_rate=0.5, max_depth=6, min_child_weight=0, n_estimators=100 \n",
      "[CV]  learning_rate=0.5, max_depth=6, min_child_weight=0, n_estimators=100, total=  35.6s\n",
      "[CV] learning_rate=0.5, max_depth=6, min_child_weight=0, n_estimators=100 \n",
      "[CV]  learning_rate=0.5, max_depth=6, min_child_weight=0, n_estimators=100, total=  35.3s\n",
      "[CV] learning_rate=0.5, max_depth=6, min_child_weight=1, n_estimators=10 \n",
      "[CV]  learning_rate=0.5, max_depth=6, min_child_weight=1, n_estimators=10, total=   3.9s\n",
      "[CV] learning_rate=0.5, max_depth=6, min_child_weight=1, n_estimators=10 \n",
      "[CV]  learning_rate=0.5, max_depth=6, min_child_weight=1, n_estimators=10, total=   3.8s\n",
      "[CV] learning_rate=0.5, max_depth=6, min_child_weight=1, n_estimators=10 \n",
      "[CV]  learning_rate=0.5, max_depth=6, min_child_weight=1, n_estimators=10, total=   3.8s\n",
      "[CV] learning_rate=0.5, max_depth=6, min_child_weight=1, n_estimators=100 \n",
      "[CV]  learning_rate=0.5, max_depth=6, min_child_weight=1, n_estimators=100, total=  35.1s\n",
      "[CV] learning_rate=0.5, max_depth=6, min_child_weight=1, n_estimators=100 \n",
      "[CV]  learning_rate=0.5, max_depth=6, min_child_weight=1, n_estimators=100, total=  35.1s\n",
      "[CV] learning_rate=0.5, max_depth=6, min_child_weight=1, n_estimators=100 \n",
      "[CV]  learning_rate=0.5, max_depth=6, min_child_weight=1, n_estimators=100, total=  35.6s\n",
      "[CV] learning_rate=0.5, max_depth=6, min_child_weight=3, n_estimators=10 \n",
      "[CV]  learning_rate=0.5, max_depth=6, min_child_weight=3, n_estimators=10, total=   3.9s\n",
      "[CV] learning_rate=0.5, max_depth=6, min_child_weight=3, n_estimators=10 \n",
      "[CV]  learning_rate=0.5, max_depth=6, min_child_weight=3, n_estimators=10, total=   4.0s\n",
      "[CV] learning_rate=0.5, max_depth=6, min_child_weight=3, n_estimators=10 \n",
      "[CV]  learning_rate=0.5, max_depth=6, min_child_weight=3, n_estimators=10, total=   3.8s\n",
      "[CV] learning_rate=0.5, max_depth=6, min_child_weight=3, n_estimators=100 \n",
      "[CV]  learning_rate=0.5, max_depth=6, min_child_weight=3, n_estimators=100, total=  34.8s\n",
      "[CV] learning_rate=0.5, max_depth=6, min_child_weight=3, n_estimators=100 \n",
      "[CV]  learning_rate=0.5, max_depth=6, min_child_weight=3, n_estimators=100, total=  35.2s\n",
      "[CV] learning_rate=0.5, max_depth=6, min_child_weight=3, n_estimators=100 \n",
      "[CV]  learning_rate=0.5, max_depth=6, min_child_weight=3, n_estimators=100, total=  35.0s\n",
      "[CV] learning_rate=0.5, max_depth=7, min_child_weight=0, n_estimators=10 \n",
      "[CV]  learning_rate=0.5, max_depth=7, min_child_weight=0, n_estimators=10, total=   4.5s\n",
      "[CV] learning_rate=0.5, max_depth=7, min_child_weight=0, n_estimators=10 \n",
      "[CV]  learning_rate=0.5, max_depth=7, min_child_weight=0, n_estimators=10, total=   4.6s\n",
      "[CV] learning_rate=0.5, max_depth=7, min_child_weight=0, n_estimators=10 \n",
      "[CV]  learning_rate=0.5, max_depth=7, min_child_weight=0, n_estimators=10, total=   4.6s\n",
      "[CV] learning_rate=0.5, max_depth=7, min_child_weight=0, n_estimators=100 \n",
      "[CV]  learning_rate=0.5, max_depth=7, min_child_weight=0, n_estimators=100, total=  41.3s\n",
      "[CV] learning_rate=0.5, max_depth=7, min_child_weight=0, n_estimators=100 \n",
      "[CV]  learning_rate=0.5, max_depth=7, min_child_weight=0, n_estimators=100, total=  41.6s\n",
      "[CV] learning_rate=0.5, max_depth=7, min_child_weight=0, n_estimators=100 \n",
      "[CV]  learning_rate=0.5, max_depth=7, min_child_weight=0, n_estimators=100, total=  41.8s\n",
      "[CV] learning_rate=0.5, max_depth=7, min_child_weight=1, n_estimators=10 \n",
      "[CV]  learning_rate=0.5, max_depth=7, min_child_weight=1, n_estimators=10, total=   4.5s\n",
      "[CV] learning_rate=0.5, max_depth=7, min_child_weight=1, n_estimators=10 \n",
      "[CV]  learning_rate=0.5, max_depth=7, min_child_weight=1, n_estimators=10, total=   4.6s\n",
      "[CV] learning_rate=0.5, max_depth=7, min_child_weight=1, n_estimators=10 \n",
      "[CV]  learning_rate=0.5, max_depth=7, min_child_weight=1, n_estimators=10, total=   4.6s\n",
      "[CV] learning_rate=0.5, max_depth=7, min_child_weight=1, n_estimators=100 \n",
      "[CV]  learning_rate=0.5, max_depth=7, min_child_weight=1, n_estimators=100, total=  41.3s\n",
      "[CV] learning_rate=0.5, max_depth=7, min_child_weight=1, n_estimators=100 \n",
      "[CV]  learning_rate=0.5, max_depth=7, min_child_weight=1, n_estimators=100, total=  41.4s\n",
      "[CV] learning_rate=0.5, max_depth=7, min_child_weight=1, n_estimators=100 \n"
     ]
    },
    {
     "name": "stdout",
     "output_type": "stream",
     "text": [
      "[CV]  learning_rate=0.5, max_depth=7, min_child_weight=1, n_estimators=100, total=  41.2s\n",
      "[CV] learning_rate=0.5, max_depth=7, min_child_weight=3, n_estimators=10 \n",
      "[CV]  learning_rate=0.5, max_depth=7, min_child_weight=3, n_estimators=10, total=   4.6s\n",
      "[CV] learning_rate=0.5, max_depth=7, min_child_weight=3, n_estimators=10 \n",
      "[CV]  learning_rate=0.5, max_depth=7, min_child_weight=3, n_estimators=10, total=   4.6s\n",
      "[CV] learning_rate=0.5, max_depth=7, min_child_weight=3, n_estimators=10 \n",
      "[CV]  learning_rate=0.5, max_depth=7, min_child_weight=3, n_estimators=10, total=   4.6s\n",
      "[CV] learning_rate=0.5, max_depth=7, min_child_weight=3, n_estimators=100 \n",
      "[CV]  learning_rate=0.5, max_depth=7, min_child_weight=3, n_estimators=100, total=  41.0s\n",
      "[CV] learning_rate=0.5, max_depth=7, min_child_weight=3, n_estimators=100 \n",
      "[CV]  learning_rate=0.5, max_depth=7, min_child_weight=3, n_estimators=100, total=  41.2s\n",
      "[CV] learning_rate=0.5, max_depth=7, min_child_weight=3, n_estimators=100 \n",
      "[CV]  learning_rate=0.5, max_depth=7, min_child_weight=3, n_estimators=100, total=  41.3s\n",
      "[CV] learning_rate=0.7, max_depth=5, min_child_weight=0, n_estimators=10 \n",
      "[CV]  learning_rate=0.7, max_depth=5, min_child_weight=0, n_estimators=10, total=   3.1s\n",
      "[CV] learning_rate=0.7, max_depth=5, min_child_weight=0, n_estimators=10 \n",
      "[CV]  learning_rate=0.7, max_depth=5, min_child_weight=0, n_estimators=10, total=   3.1s\n",
      "[CV] learning_rate=0.7, max_depth=5, min_child_weight=0, n_estimators=10 \n",
      "[CV]  learning_rate=0.7, max_depth=5, min_child_weight=0, n_estimators=10, total=   3.1s\n",
      "[CV] learning_rate=0.7, max_depth=5, min_child_weight=0, n_estimators=100 \n",
      "[CV]  learning_rate=0.7, max_depth=5, min_child_weight=0, n_estimators=100, total=  29.1s\n",
      "[CV] learning_rate=0.7, max_depth=5, min_child_weight=0, n_estimators=100 \n",
      "[CV]  learning_rate=0.7, max_depth=5, min_child_weight=0, n_estimators=100, total=  29.0s\n",
      "[CV] learning_rate=0.7, max_depth=5, min_child_weight=0, n_estimators=100 \n",
      "[CV]  learning_rate=0.7, max_depth=5, min_child_weight=0, n_estimators=100, total=  29.1s\n",
      "[CV] learning_rate=0.7, max_depth=5, min_child_weight=1, n_estimators=10 \n",
      "[CV]  learning_rate=0.7, max_depth=5, min_child_weight=1, n_estimators=10, total=   3.1s\n",
      "[CV] learning_rate=0.7, max_depth=5, min_child_weight=1, n_estimators=10 \n",
      "[CV]  learning_rate=0.7, max_depth=5, min_child_weight=1, n_estimators=10, total=   3.2s\n",
      "[CV] learning_rate=0.7, max_depth=5, min_child_weight=1, n_estimators=10 \n",
      "[CV]  learning_rate=0.7, max_depth=5, min_child_weight=1, n_estimators=10, total=   3.1s\n",
      "[CV] learning_rate=0.7, max_depth=5, min_child_weight=1, n_estimators=100 \n",
      "[CV]  learning_rate=0.7, max_depth=5, min_child_weight=1, n_estimators=100, total=  29.0s\n",
      "[CV] learning_rate=0.7, max_depth=5, min_child_weight=1, n_estimators=100 \n",
      "[CV]  learning_rate=0.7, max_depth=5, min_child_weight=1, n_estimators=100, total=  29.2s\n",
      "[CV] learning_rate=0.7, max_depth=5, min_child_weight=1, n_estimators=100 \n",
      "[CV]  learning_rate=0.7, max_depth=5, min_child_weight=1, n_estimators=100, total=  29.0s\n",
      "[CV] learning_rate=0.7, max_depth=5, min_child_weight=3, n_estimators=10 \n",
      "[CV]  learning_rate=0.7, max_depth=5, min_child_weight=3, n_estimators=10, total=   3.1s\n",
      "[CV] learning_rate=0.7, max_depth=5, min_child_weight=3, n_estimators=10 \n",
      "[CV]  learning_rate=0.7, max_depth=5, min_child_weight=3, n_estimators=10, total=   3.1s\n",
      "[CV] learning_rate=0.7, max_depth=5, min_child_weight=3, n_estimators=10 \n",
      "[CV]  learning_rate=0.7, max_depth=5, min_child_weight=3, n_estimators=10, total=   3.1s\n",
      "[CV] learning_rate=0.7, max_depth=5, min_child_weight=3, n_estimators=100 \n",
      "[CV]  learning_rate=0.7, max_depth=5, min_child_weight=3, n_estimators=100, total=  28.9s\n",
      "[CV] learning_rate=0.7, max_depth=5, min_child_weight=3, n_estimators=100 \n",
      "[CV]  learning_rate=0.7, max_depth=5, min_child_weight=3, n_estimators=100, total=  29.4s\n",
      "[CV] learning_rate=0.7, max_depth=5, min_child_weight=3, n_estimators=100 \n",
      "[CV]  learning_rate=0.7, max_depth=5, min_child_weight=3, n_estimators=100, total=  29.3s\n",
      "[CV] learning_rate=0.7, max_depth=6, min_child_weight=0, n_estimators=10 \n",
      "[CV]  learning_rate=0.7, max_depth=6, min_child_weight=0, n_estimators=10, total=   3.8s\n",
      "[CV] learning_rate=0.7, max_depth=6, min_child_weight=0, n_estimators=10 \n",
      "[CV]  learning_rate=0.7, max_depth=6, min_child_weight=0, n_estimators=10, total=   3.8s\n",
      "[CV] learning_rate=0.7, max_depth=6, min_child_weight=0, n_estimators=10 \n",
      "[CV]  learning_rate=0.7, max_depth=6, min_child_weight=0, n_estimators=10, total=   3.8s\n",
      "[CV] learning_rate=0.7, max_depth=6, min_child_weight=0, n_estimators=100 \n",
      "[CV]  learning_rate=0.7, max_depth=6, min_child_weight=0, n_estimators=100, total=  35.2s\n",
      "[CV] learning_rate=0.7, max_depth=6, min_child_weight=0, n_estimators=100 \n",
      "[CV]  learning_rate=0.7, max_depth=6, min_child_weight=0, n_estimators=100, total=  35.4s\n",
      "[CV] learning_rate=0.7, max_depth=6, min_child_weight=0, n_estimators=100 \n",
      "[CV]  learning_rate=0.7, max_depth=6, min_child_weight=0, n_estimators=100, total=  35.3s\n",
      "[CV] learning_rate=0.7, max_depth=6, min_child_weight=1, n_estimators=10 \n",
      "[CV]  learning_rate=0.7, max_depth=6, min_child_weight=1, n_estimators=10, total=   3.8s\n",
      "[CV] learning_rate=0.7, max_depth=6, min_child_weight=1, n_estimators=10 \n",
      "[CV]  learning_rate=0.7, max_depth=6, min_child_weight=1, n_estimators=10, total=   3.8s\n",
      "[CV] learning_rate=0.7, max_depth=6, min_child_weight=1, n_estimators=10 \n",
      "[CV]  learning_rate=0.7, max_depth=6, min_child_weight=1, n_estimators=10, total=   3.8s\n",
      "[CV] learning_rate=0.7, max_depth=6, min_child_weight=1, n_estimators=100 \n",
      "[CV]  learning_rate=0.7, max_depth=6, min_child_weight=1, n_estimators=100, total=  35.2s\n",
      "[CV] learning_rate=0.7, max_depth=6, min_child_weight=1, n_estimators=100 \n",
      "[CV]  learning_rate=0.7, max_depth=6, min_child_weight=1, n_estimators=100, total=  35.2s\n",
      "[CV] learning_rate=0.7, max_depth=6, min_child_weight=1, n_estimators=100 \n",
      "[CV]  learning_rate=0.7, max_depth=6, min_child_weight=1, n_estimators=100, total=  35.3s\n",
      "[CV] learning_rate=0.7, max_depth=6, min_child_weight=3, n_estimators=10 \n",
      "[CV]  learning_rate=0.7, max_depth=6, min_child_weight=3, n_estimators=10, total=   3.8s\n",
      "[CV] learning_rate=0.7, max_depth=6, min_child_weight=3, n_estimators=10 \n",
      "[CV]  learning_rate=0.7, max_depth=6, min_child_weight=3, n_estimators=10, total=   3.8s\n",
      "[CV] learning_rate=0.7, max_depth=6, min_child_weight=3, n_estimators=10 \n",
      "[CV]  learning_rate=0.7, max_depth=6, min_child_weight=3, n_estimators=10, total=   3.8s\n",
      "[CV] learning_rate=0.7, max_depth=6, min_child_weight=3, n_estimators=100 \n",
      "[CV]  learning_rate=0.7, max_depth=6, min_child_weight=3, n_estimators=100, total=  35.0s\n",
      "[CV] learning_rate=0.7, max_depth=6, min_child_weight=3, n_estimators=100 \n",
      "[CV]  learning_rate=0.7, max_depth=6, min_child_weight=3, n_estimators=100, total=  35.0s\n",
      "[CV] learning_rate=0.7, max_depth=6, min_child_weight=3, n_estimators=100 \n",
      "[CV]  learning_rate=0.7, max_depth=6, min_child_weight=3, n_estimators=100, total=  35.3s\n",
      "[CV] learning_rate=0.7, max_depth=7, min_child_weight=0, n_estimators=10 \n",
      "[CV]  learning_rate=0.7, max_depth=7, min_child_weight=0, n_estimators=10, total=   4.4s\n",
      "[CV] learning_rate=0.7, max_depth=7, min_child_weight=0, n_estimators=10 \n",
      "[CV]  learning_rate=0.7, max_depth=7, min_child_weight=0, n_estimators=10, total=   4.5s\n",
      "[CV] learning_rate=0.7, max_depth=7, min_child_weight=0, n_estimators=10 \n",
      "[CV]  learning_rate=0.7, max_depth=7, min_child_weight=0, n_estimators=10, total=   4.5s\n",
      "[CV] learning_rate=0.7, max_depth=7, min_child_weight=0, n_estimators=100 \n",
      "[CV]  learning_rate=0.7, max_depth=7, min_child_weight=0, n_estimators=100, total=  41.7s\n",
      "[CV] learning_rate=0.7, max_depth=7, min_child_weight=0, n_estimators=100 \n",
      "[CV]  learning_rate=0.7, max_depth=7, min_child_weight=0, n_estimators=100, total=  41.6s\n",
      "[CV] learning_rate=0.7, max_depth=7, min_child_weight=0, n_estimators=100 \n",
      "[CV]  learning_rate=0.7, max_depth=7, min_child_weight=0, n_estimators=100, total=  41.6s\n",
      "[CV] learning_rate=0.7, max_depth=7, min_child_weight=1, n_estimators=10 \n",
      "[CV]  learning_rate=0.7, max_depth=7, min_child_weight=1, n_estimators=10, total=   4.5s\n",
      "[CV] learning_rate=0.7, max_depth=7, min_child_weight=1, n_estimators=10 \n"
     ]
    },
    {
     "name": "stdout",
     "output_type": "stream",
     "text": [
      "[CV]  learning_rate=0.7, max_depth=7, min_child_weight=1, n_estimators=10, total=   4.5s\n",
      "[CV] learning_rate=0.7, max_depth=7, min_child_weight=1, n_estimators=10 \n",
      "[CV]  learning_rate=0.7, max_depth=7, min_child_weight=1, n_estimators=10, total=   4.5s\n",
      "[CV] learning_rate=0.7, max_depth=7, min_child_weight=1, n_estimators=100 \n",
      "[CV]  learning_rate=0.7, max_depth=7, min_child_weight=1, n_estimators=100, total=  41.6s\n",
      "[CV] learning_rate=0.7, max_depth=7, min_child_weight=1, n_estimators=100 \n",
      "[CV]  learning_rate=0.7, max_depth=7, min_child_weight=1, n_estimators=100, total=  41.3s\n",
      "[CV] learning_rate=0.7, max_depth=7, min_child_weight=1, n_estimators=100 \n",
      "[CV]  learning_rate=0.7, max_depth=7, min_child_weight=1, n_estimators=100, total=  41.6s\n",
      "[CV] learning_rate=0.7, max_depth=7, min_child_weight=3, n_estimators=10 \n",
      "[CV]  learning_rate=0.7, max_depth=7, min_child_weight=3, n_estimators=10, total=   4.4s\n",
      "[CV] learning_rate=0.7, max_depth=7, min_child_weight=3, n_estimators=10 \n",
      "[CV]  learning_rate=0.7, max_depth=7, min_child_weight=3, n_estimators=10, total=   4.4s\n",
      "[CV] learning_rate=0.7, max_depth=7, min_child_weight=3, n_estimators=10 \n",
      "[CV]  learning_rate=0.7, max_depth=7, min_child_weight=3, n_estimators=10, total=   4.5s\n",
      "[CV] learning_rate=0.7, max_depth=7, min_child_weight=3, n_estimators=100 \n",
      "[CV]  learning_rate=0.7, max_depth=7, min_child_weight=3, n_estimators=100, total=  41.2s\n",
      "[CV] learning_rate=0.7, max_depth=7, min_child_weight=3, n_estimators=100 \n",
      "[CV]  learning_rate=0.7, max_depth=7, min_child_weight=3, n_estimators=100, total=  41.1s\n",
      "[CV] learning_rate=0.7, max_depth=7, min_child_weight=3, n_estimators=100 \n",
      "[CV]  learning_rate=0.7, max_depth=7, min_child_weight=3, n_estimators=100, total=  41.2s\n"
     ]
    },
    {
     "name": "stderr",
     "output_type": "stream",
     "text": [
      "[Parallel(n_jobs=1)]: Done 162 out of 162 | elapsed: 54.9min finished\n"
     ]
    },
    {
     "data": {
      "text/plain": [
       "GridSearchCV(cv=3, error_score='raise-deprecating',\n",
       "       estimator=XGBClassifier(base_score=0.5, booster='gbtree', colsample_bylevel=1,\n",
       "       colsample_bytree=1, gamma=0, learning_rate=0.1, max_delta_step=0,\n",
       "       max_depth=3, min_child_weight=1, missing=None, n_estimators=100,\n",
       "       n_jobs=1, nthread=None, objective='binary:logistic', random_state=0,\n",
       "       reg_alpha=0, reg_lambda=1, scale_pos_weight=1, seed=None,\n",
       "       silent=True, subsample=1),\n",
       "       fit_params=None, iid='warn', n_jobs=None,\n",
       "       param_grid={'learning_rate': [0.3, 0.5, 0.7], 'max_depth': [5, 6, 7], 'min_child_weight': [0, 1, 3], 'n_estimators': [10, 100]},\n",
       "       pre_dispatch='2*n_jobs', refit=True, return_train_score='warn',\n",
       "       scoring=None, verbose=2)"
      ]
     },
     "execution_count": 178,
     "metadata": {},
     "output_type": "execute_result"
    }
   ],
   "source": [
    "import xgboost as xgb\n",
    "param_grid_xgb= {\n",
    "    \"learning_rate\": [0.3,0.5,0.7],\n",
    "    'max_depth': [5,6,7],\n",
    "    'min_child_weight': [0,1,3],\n",
    "    'n_estimators': [10,100],\n",
    "}\n",
    "grid_xgb=GridSearchCV(estimator=xgb.XGBClassifier(),\n",
    "                      param_grid=param_grid_xgb,\n",
    "                     cv=3,\n",
    "                     verbose=2)\n",
    "grid_xgb.fit(X_train,y_train)\n"
   ]
  },
  {
   "cell_type": "code",
   "execution_count": 179,
   "metadata": {},
   "outputs": [
    {
     "data": {
      "text/plain": [
       "{'learning_rate': 0.3,\n",
       " 'max_depth': 7,\n",
       " 'min_child_weight': 3,\n",
       " 'n_estimators': 100}"
      ]
     },
     "execution_count": 179,
     "metadata": {},
     "output_type": "execute_result"
    }
   ],
   "source": [
    "grid_xgb.best_params_"
   ]
  },
  {
   "cell_type": "code",
   "execution_count": 180,
   "metadata": {},
   "outputs": [
    {
     "data": {
      "text/plain": [
       "0.7436247908931413"
      ]
     },
     "execution_count": 180,
     "metadata": {},
     "output_type": "execute_result"
    }
   ],
   "source": [
    "grid_xgb.best_score_"
   ]
  },
  {
   "cell_type": "code",
   "execution_count": 209,
   "metadata": {},
   "outputs": [
    {
     "name": "stdout",
     "output_type": "stream",
     "text": [
      "              precision    recall  f1-score   support\n",
      "\n",
      "   Flex Pass       0.50      0.01      0.02      2348\n",
      "Monthly Pass       0.76      0.90      0.82     20070\n",
      "     Walk-up       0.73      0.62      0.67     10261\n",
      "\n",
      "   micro avg       0.75      0.75      0.75     32679\n",
      "   macro avg       0.66      0.51      0.50     32679\n",
      "weighted avg       0.73      0.75      0.72     32679\n",
      "\n"
     ]
    }
   ],
   "source": [
    "y_pred = grid_xgb.best_estimator_.predict(X_test)\n",
    "# print(confusion_matrix(y_test,y_pred))\n",
    "print(classification_report(y_test,y_pred))"
   ]
  },
  {
   "cell_type": "code",
   "execution_count": 220,
   "metadata": {},
   "outputs": [
    {
     "data": {
      "image/png": "[encoded data removed]",
      "text/plain": [
       "<Figure size 432x288 with 2 Axes>"
      ]
     },
     "metadata": {},
     "output_type": "display_data"
    }
   ],
   "source": [
    "show_cf(y_test, y_pred,class_names=['Flex Pass','Monthly Pass','Walk Up'],model_name='Tuned XGBoost Classifier')"
   ]
  },
  {
   "cell_type": "markdown",
   "metadata": {},
   "source": [
    "Our Classification Models do quite well. All three score better than 70%!  XGBoost performs the best with overall score of 74% and perhaps most significantly it was able to attribute some predictions to our least common membership type, the  Flex-Pass holders. The underrepresentation of Flex Pass holders in the dataset makes prodiction tricky and there are techniques for resampling to overcome this, they are beyond the scope of this project"
   ]
  },
  {
   "cell_type": "markdown",
   "metadata": {},
   "source": [
    "### Conclusion\n",
    "\n",
    "Machine Learning models are valuable tools for analysing the LA-Metro Bike Sharing Network.\n",
    "<br> We have demonstrated accurate models of the riding patterns of different membership types with a 74% prediction accuracy.\n",
    "<br>Ride Duration modelling accounts for 30% of variance from the mean, which is not insubstantial, plans to improve are in Future Work"
   ]
  },
  {
   "cell_type": "markdown",
   "metadata": {},
   "source": [
    "### Future Work\n",
    "\n",
    "\n",
    "1. Current dataset covers 9 months, updated data lengthening the timescale will allow for year on year factors to be accounted for.\n",
    "2. Time is binned by hour in this exercise, more detailed usage of time series data may improve accuracy\n",
    "3. Resampling method such as SMOTE for Classification models to boost accuracy for Flex Pass membership prediction\\\n",
    "4. Extract most influential features from models and explore their influence on ridership \n",
    "5. Tune Classification models based on business case for maximising accuracy in relation to a particular Membership Type with the goal of guiding membership in that direction\n",
    "6. Alternative ride Duration modelling using classifier models on binned Duration intervals\n",
    "7. Import and cross-reference weather data for more accurate Duration prediction."
   ]
  },
  {
   "cell_type": "code",
   "execution_count": null,
   "metadata": {},
   "outputs": [],
   "source": []
  },
  {
   "cell_type": "code",
   "execution_count": null,
   "metadata": {},
   "outputs": [],
   "source": []
  },
  {
   "cell_type": "markdown",
   "metadata": {},
   "source": [
    "## Appendix\n",
    "\n",
    "Below is an attempt to model ride duration using ride starting features only. Modelling achieved only the modest modest of results."
   ]
  },
  {
   "cell_type": "markdown",
   "metadata": {},
   "source": [
    "### Model Building - Regression Model for Duration\n",
    "\n"
   ]
  },
  {
   "cell_type": "markdown",
   "metadata": {},
   "source": [
    "Can we predict the duration of a ride based on the starting conditions? \n",
    "\n",
    "Only one person can ride a bike at a time but many people can ride a bike over time. Knowing how long your bikes are going to be tied up for is an invaluable piece of information concerning a bike network's functionality and viability and to explore the influences on rider behaviour.\n",
    "\n",
    "No features are used that could not be determined until the bike is dropped off (e.g. Ending Station ID)"
   ]
  },
  {
   "cell_type": "code",
   "execution_count": 144,
   "metadata": {},
   "outputs": [
    {
     "data": {
      "text/plain": [
       "Index(['Duration', 'Start Time', 'End Time', 'Starting Station ID',\n",
       "       'Starting Station Latitude', 'Starting Station Longitude',\n",
       "       'Ending Station ID', 'Ending Station Latitude',\n",
       "       'Ending Station Longitude', 'Bike ID', 'Trip Route Category',\n",
       "       'Passholder Type', 'Start Month', 'Start Day', 'Time Only',\n",
       "       'Time Only Int', 'Peak'],\n",
       "      dtype='object')"
      ]
     },
     "execution_count": 144,
     "metadata": {},
     "output_type": "execute_result"
    }
   ],
   "source": [
    "df.columns"
   ]
  },
  {
   "cell_type": "code",
   "execution_count": 145,
   "metadata": {},
   "outputs": [],
   "source": [
    "X=df[['Starting Station ID',\n",
    "     'Starting Station Latitude',\n",
    "     'Starting Station Longitude',\n",
    "#      'Bike ID',\n",
    "     'Passholder Type',\n",
    "     'Start Month',\n",
    "     'Start Day',\n",
    "     'Time Only Int',\n",
    "     'Peak']]\n",
    "y=df['Duration'].clip(upper =30)"
   ]
  },
  {
   "cell_type": "markdown",
   "metadata": {},
   "source": [
    "data type correction - float to object\n"
   ]
  },
  {
   "cell_type": "code",
   "execution_count": 146,
   "metadata": {},
   "outputs": [
    {
     "name": "stdout",
     "output_type": "stream",
     "text": [
      "<class 'pandas.core.frame.DataFrame'>\n",
      "Int64Index: 130715 entries, 17848847 to 5250466\n",
      "Data columns (total 8 columns):\n",
      "Starting Station ID           130715 non-null object\n",
      "Starting Station Latitude     130715 non-null float64\n",
      "Starting Station Longitude    130715 non-null float64\n",
      "Passholder Type               130715 non-null object\n",
      "Start Month                   130715 non-null object\n",
      "Start Day                     130715 non-null object\n",
      "Time Only Int                 130715 non-null int64\n",
      "Peak                          130715 non-null int64\n",
      "dtypes: float64(2), int64(2), object(4)\n",
      "memory usage: 9.0+ MB\n"
     ]
    },
    {
     "name": "stderr",
     "output_type": "stream",
     "text": [
      "C:\\Users\\kosta\\Anaconda3\\envs\\learn-env\\lib\\site-packages\\ipykernel_launcher.py:1: SettingWithCopyWarning: \n",
      "A value is trying to be set on a copy of a slice from a DataFrame.\n",
      "Try using .loc[row_indexer,col_indexer] = value instead\n",
      "\n",
      "See the caveats in the documentation: http://pandas.pydata.org/pandas-docs/stable/indexing.html#indexing-view-versus-copy\n",
      "  \"\"\"Entry point for launching an IPython kernel.\n"
     ]
    }
   ],
   "source": [
    "X['Starting Station ID']=X['Starting Station ID'].astype('str')\n",
    "# X['Bike ID']=X['Bike ID'].astype('str')\n",
    "X.info()"
   ]
  },
  {
   "cell_type": "markdown",
   "metadata": {},
   "source": [
    "Categorical data is one-hot encoded to be useable by the machine learning model"
   ]
  },
  {
   "cell_type": "code",
   "execution_count": 147,
   "metadata": {},
   "outputs": [
    {
     "data": {
      "text/plain": [
       "(130715, 89)"
      ]
     },
     "execution_count": 147,
     "metadata": {},
     "output_type": "execute_result"
    }
   ],
   "source": [
    "X=pd.get_dummies(X)\n",
    "X.shape"
   ]
  },
  {
   "cell_type": "markdown",
   "metadata": {},
   "source": [
    "All features are converted to a standard scale to eliminate weighting imparted by differening unit sizes"
   ]
  },
  {
   "cell_type": "code",
   "execution_count": 148,
   "metadata": {},
   "outputs": [
    {
     "name": "stderr",
     "output_type": "stream",
     "text": [
      "C:\\Users\\kosta\\Anaconda3\\envs\\learn-env\\lib\\site-packages\\sklearn\\preprocessing\\data.py:625: DataConversionWarning: Data with input dtype uint8, int64, float64 were all converted to float64 by StandardScaler.\n",
      "  return self.partial_fit(X, y)\n",
      "C:\\Users\\kosta\\Anaconda3\\envs\\learn-env\\lib\\site-packages\\sklearn\\base.py:462: DataConversionWarning: Data with input dtype uint8, int64, float64 were all converted to float64 by StandardScaler.\n",
      "  return self.fit(X, **fit_params).transform(X)\n"
     ]
    },
    {
     "data": {
      "text/plain": [
       "array([[-0.16140359,  1.10770092,  1.51140003, ..., -0.42611322,\n",
       "        -0.41136045, -0.41937487],\n",
       "       [ 0.20523359,  0.32241175,  1.70901426, ..., -0.42611322,\n",
       "        -0.41136045, -0.41937487],\n",
       "       [-0.23218297,  1.48400529, -1.25519922, ...,  2.34679412,\n",
       "        -0.41136045, -0.41937487],\n",
       "       ...,\n",
       "       [ 1.42564309,  1.12521764,  0.32571464, ..., -0.42611322,\n",
       "        -0.41136045, -0.41937487],\n",
       "       [-1.31457267,  1.53306953, -1.05758499, ..., -0.42611322,\n",
       "        -0.41136045, -0.41937487],\n",
       "       [ 0.86104385,  0.18924985,  0.7209431 , ..., -0.42611322,\n",
       "         2.43095805, -0.41937487]])"
      ]
     },
     "execution_count": 148,
     "metadata": {},
     "output_type": "execute_result"
    }
   ],
   "source": [
    "from sklearn.preprocessing import StandardScaler\n",
    "scaler=StandardScaler()\n",
    "scaler.fit_transform(X)"
   ]
  },
  {
   "cell_type": "markdown",
   "metadata": {},
   "source": [
    "Principal Component Analysis is used to reduce dimensionality without losing significant proportions of data"
   ]
  },
  {
   "cell_type": "code",
   "execution_count": 149,
   "metadata": {
    "scrolled": true
   },
   "outputs": [
    {
     "name": "stdout",
     "output_type": "stream",
     "text": [
      "[88.34182611112801, 1.5116577235424173, 0.6081519707127852, 0.5364407736387048, 0.5307630970735079]\n",
      "99.99999999999996\n"
     ]
    },
    {
     "data": {
      "image/png": "[encoded data removed]",
      "text/plain": [
       "<Figure size 1080x576 with 1 Axes>"
      ]
     },
     "metadata": {},
     "output_type": "display_data"
    }
   ],
   "source": [
    "from sklearn.decomposition import PCA\n",
    "pca=PCA()\n",
    "pca.fit(X)\n",
    "tot = sum(pca.explained_variance_)\n",
    "var_exp = [(i/tot)*100 for i in sorted(pca.explained_variance_, reverse=True)] \n",
    "print(var_exp[0:5])\n",
    "print(sum(var_exp))\n",
    "cum_var_exp = np.cumsum(var_exp) \n",
    "plt.style.use('ggplot')\n",
    "plt.figure(figsize=(15, 8))\n",
    "plt.plot(cum_var_exp)\n",
    "plt.title('Cumulative Explained Variance as a Function of the Number of Components')\n",
    "plt.vlines(x=17,ymin=var_exp[0],ymax=100)\n",
    "plt.show()"
   ]
  },
  {
   "cell_type": "markdown",
   "metadata": {},
   "source": [
    "Using 17 components retains >96% of variance\n",
    "\n",
    "Data will be reduced using Principal Component Analysis with n_components =17"
   ]
  },
  {
   "cell_type": "code",
   "execution_count": 150,
   "metadata": {},
   "outputs": [
    {
     "data": {
      "text/plain": [
       "PCA(copy=True, iterated_power='auto', n_components=17, random_state=None,\n",
       "  svd_solver='auto', tol=0.0, whiten=False)"
      ]
     },
     "execution_count": 150,
     "metadata": {},
     "output_type": "execute_result"
    }
   ],
   "source": [
    "pca=PCA(n_components=17)\n",
    "pca.fit(X)"
   ]
  },
  {
   "cell_type": "code",
   "execution_count": 151,
   "metadata": {},
   "outputs": [],
   "source": [
    "from sklearn.model_selection import train_test_split\n",
    "X_train,X_test,y_train,y_test=train_test_split(X,y)"
   ]
  },
  {
   "cell_type": "code",
   "execution_count": 152,
   "metadata": {},
   "outputs": [],
   "source": [
    "X_train=pca.transform(X_train)\n",
    "X_test=pca.transform(X_test)"
   ]
  },
  {
   "cell_type": "markdown",
   "metadata": {},
   "source": [
    "Grid Search for ideal parameters to maximise R-Squared using Decision Tree Regressor"
   ]
  },
  {
   "cell_type": "code",
   "execution_count": 153,
   "metadata": {},
   "outputs": [],
   "source": [
    "from sklearn.tree import DecisionTreeRegressor\n",
    "from sklearn.model_selection import GridSearchCV\n",
    "param_grid_dtr={'criterion':['mse','friedman_mse',],\n",
    "               'max_depth': [2,5,10,None],\n",
    "               'min_samples_split':[2,4,6,10,20],\n",
    "               'min_samples_leaf':[1,5,10,30,50,70,100]}\n",
    "grid_dtr=GridSearchCV(estimator=DecisionTreeRegressor(),\n",
    "                     param_grid=param_grid_dtr, \n",
    "                      cv=3,\n",
    "                     verbose=2,)"
   ]
  },
  {
   "cell_type": "code",
   "execution_count": 154,
   "metadata": {
    "scrolled": true
   },
   "outputs": [
    {
     "name": "stdout",
     "output_type": "stream",
     "text": [
      "Fitting 3 folds for each of 280 candidates, totalling 840 fits\n",
      "[CV] criterion=mse, max_depth=2, min_samples_leaf=1, min_samples_split=2 \n"
     ]
    },
    {
     "name": "stderr",
     "output_type": "stream",
     "text": [
      "[Parallel(n_jobs=1)]: Using backend SequentialBackend with 1 concurrent workers.\n"
     ]
    },
    {
     "name": "stdout",
     "output_type": "stream",
     "text": [
      "[CV]  criterion=mse, max_depth=2, min_samples_leaf=1, min_samples_split=2, total=   0.3s\n",
      "[CV] criterion=mse, max_depth=2, min_samples_leaf=1, min_samples_split=2 \n"
     ]
    },
    {
     "name": "stderr",
     "output_type": "stream",
     "text": [
      "[Parallel(n_jobs=1)]: Done   1 out of   1 | elapsed:    0.3s remaining:    0.0s\n"
     ]
    },
    {
     "name": "stdout",
     "output_type": "stream",
     "text": [
      "[CV]  criterion=mse, max_depth=2, min_samples_leaf=1, min_samples_split=2, total=   0.3s\n",
      "[CV] criterion=mse, max_depth=2, min_samples_leaf=1, min_samples_split=2 \n",
      "[CV]  criterion=mse, max_depth=2, min_samples_leaf=1, min_samples_split=2, total=   0.4s\n",
      "[CV] criterion=mse, max_depth=2, min_samples_leaf=1, min_samples_split=4 \n",
      "[CV]  criterion=mse, max_depth=2, min_samples_leaf=1, min_samples_split=4, total=   0.2s\n",
      "[CV] criterion=mse, max_depth=2, min_samples_leaf=1, min_samples_split=4 \n",
      "[CV]  criterion=mse, max_depth=2, min_samples_leaf=1, min_samples_split=4, total=   0.3s\n",
      "[CV] criterion=mse, max_depth=2, min_samples_leaf=1, min_samples_split=4 \n",
      "[CV]  criterion=mse, max_depth=2, min_samples_leaf=1, min_samples_split=4, total=   0.3s\n",
      "[CV] criterion=mse, max_depth=2, min_samples_leaf=1, min_samples_split=6 \n",
      "[CV]  criterion=mse, max_depth=2, min_samples_leaf=1, min_samples_split=6, total=   0.2s\n",
      "[CV] criterion=mse, max_depth=2, min_samples_leaf=1, min_samples_split=6 \n",
      "[CV]  criterion=mse, max_depth=2, min_samples_leaf=1, min_samples_split=6, total=   0.3s\n",
      "[CV] criterion=mse, max_depth=2, min_samples_leaf=1, min_samples_split=6 \n",
      "[CV]  criterion=mse, max_depth=2, min_samples_leaf=1, min_samples_split=6, total=   0.4s\n",
      "[CV] criterion=mse, max_depth=2, min_samples_leaf=1, min_samples_split=10 \n",
      "[CV]  criterion=mse, max_depth=2, min_samples_leaf=1, min_samples_split=10, total=   0.4s\n",
      "[CV] criterion=mse, max_depth=2, min_samples_leaf=1, min_samples_split=10 \n",
      "[CV]  criterion=mse, max_depth=2, min_samples_leaf=1, min_samples_split=10, total=   0.3s\n",
      "[CV] criterion=mse, max_depth=2, min_samples_leaf=1, min_samples_split=10 \n",
      "[CV]  criterion=mse, max_depth=2, min_samples_leaf=1, min_samples_split=10, total=   0.4s\n",
      "[CV] criterion=mse, max_depth=2, min_samples_leaf=1, min_samples_split=20 \n",
      "[CV]  criterion=mse, max_depth=2, min_samples_leaf=1, min_samples_split=20, total=   0.3s\n",
      "[CV] criterion=mse, max_depth=2, min_samples_leaf=1, min_samples_split=20 \n",
      "[CV]  criterion=mse, max_depth=2, min_samples_leaf=1, min_samples_split=20, total=   0.2s\n",
      "[CV] criterion=mse, max_depth=2, min_samples_leaf=1, min_samples_split=20 \n",
      "[CV]  criterion=mse, max_depth=2, min_samples_leaf=1, min_samples_split=20, total=   0.3s\n",
      "[CV] criterion=mse, max_depth=2, min_samples_leaf=5, min_samples_split=2 \n",
      "[CV]  criterion=mse, max_depth=2, min_samples_leaf=5, min_samples_split=2, total=   0.3s\n",
      "[CV] criterion=mse, max_depth=2, min_samples_leaf=5, min_samples_split=2 \n",
      "[CV]  criterion=mse, max_depth=2, min_samples_leaf=5, min_samples_split=2, total=   0.2s\n",
      "[CV] criterion=mse, max_depth=2, min_samples_leaf=5, min_samples_split=2 \n",
      "[CV]  criterion=mse, max_depth=2, min_samples_leaf=5, min_samples_split=2, total=   0.4s\n",
      "[CV] criterion=mse, max_depth=2, min_samples_leaf=5, min_samples_split=4 \n",
      "[CV]  criterion=mse, max_depth=2, min_samples_leaf=5, min_samples_split=4, total=   0.2s\n",
      "[CV] criterion=mse, max_depth=2, min_samples_leaf=5, min_samples_split=4 \n",
      "[CV]  criterion=mse, max_depth=2, min_samples_leaf=5, min_samples_split=4, total=   0.3s\n",
      "[CV] criterion=mse, max_depth=2, min_samples_leaf=5, min_samples_split=4 \n",
      "[CV]  criterion=mse, max_depth=2, min_samples_leaf=5, min_samples_split=4, total=   0.3s\n",
      "[CV] criterion=mse, max_depth=2, min_samples_leaf=5, min_samples_split=6 \n",
      "[CV]  criterion=mse, max_depth=2, min_samples_leaf=5, min_samples_split=6, total=   0.4s\n",
      "[CV] criterion=mse, max_depth=2, min_samples_leaf=5, min_samples_split=6 \n",
      "[CV]  criterion=mse, max_depth=2, min_samples_leaf=5, min_samples_split=6, total=   0.3s\n",
      "[CV] criterion=mse, max_depth=2, min_samples_leaf=5, min_samples_split=6 \n",
      "[CV]  criterion=mse, max_depth=2, min_samples_leaf=5, min_samples_split=6, total=   0.3s\n",
      "[CV] criterion=mse, max_depth=2, min_samples_leaf=5, min_samples_split=10 \n",
      "[CV]  criterion=mse, max_depth=2, min_samples_leaf=5, min_samples_split=10, total=   0.4s\n",
      "[CV] criterion=mse, max_depth=2, min_samples_leaf=5, min_samples_split=10 \n",
      "[CV]  criterion=mse, max_depth=2, min_samples_leaf=5, min_samples_split=10, total=   0.2s\n",
      "[CV] criterion=mse, max_depth=2, min_samples_leaf=5, min_samples_split=10 \n",
      "[CV]  criterion=mse, max_depth=2, min_samples_leaf=5, min_samples_split=10, total=   0.4s\n",
      "[CV] criterion=mse, max_depth=2, min_samples_leaf=5, min_samples_split=20 \n",
      "[CV]  criterion=mse, max_depth=2, min_samples_leaf=5, min_samples_split=20, total=   0.3s\n",
      "[CV] criterion=mse, max_depth=2, min_samples_leaf=5, min_samples_split=20 \n",
      "[CV]  criterion=mse, max_depth=2, min_samples_leaf=5, min_samples_split=20, total=   0.4s\n",
      "[CV] criterion=mse, max_depth=2, min_samples_leaf=5, min_samples_split=20 \n",
      "[CV]  criterion=mse, max_depth=2, min_samples_leaf=5, min_samples_split=20, total=   0.4s\n",
      "[CV] criterion=mse, max_depth=2, min_samples_leaf=10, min_samples_split=2 \n",
      "[CV]  criterion=mse, max_depth=2, min_samples_leaf=10, min_samples_split=2, total=   0.4s\n",
      "[CV] criterion=mse, max_depth=2, min_samples_leaf=10, min_samples_split=2 \n",
      "[CV]  criterion=mse, max_depth=2, min_samples_leaf=10, min_samples_split=2, total=   0.3s\n",
      "[CV] criterion=mse, max_depth=2, min_samples_leaf=10, min_samples_split=2 \n",
      "[CV]  criterion=mse, max_depth=2, min_samples_leaf=10, min_samples_split=2, total=   0.4s\n",
      "[CV] criterion=mse, max_depth=2, min_samples_leaf=10, min_samples_split=4 \n",
      "[CV]  criterion=mse, max_depth=2, min_samples_leaf=10, min_samples_split=4, total=   0.4s\n",
      "[CV] criterion=mse, max_depth=2, min_samples_leaf=10, min_samples_split=4 \n",
      "[CV]  criterion=mse, max_depth=2, min_samples_leaf=10, min_samples_split=4, total=   0.2s\n",
      "[CV] criterion=mse, max_depth=2, min_samples_leaf=10, min_samples_split=4 \n",
      "[CV]  criterion=mse, max_depth=2, min_samples_leaf=10, min_samples_split=4, total=   0.4s\n",
      "[CV] criterion=mse, max_depth=2, min_samples_leaf=10, min_samples_split=6 \n",
      "[CV]  criterion=mse, max_depth=2, min_samples_leaf=10, min_samples_split=6, total=   0.4s\n",
      "[CV] criterion=mse, max_depth=2, min_samples_leaf=10, min_samples_split=6 \n",
      "[CV]  criterion=mse, max_depth=2, min_samples_leaf=10, min_samples_split=6, total=   0.4s\n",
      "[CV] criterion=mse, max_depth=2, min_samples_leaf=10, min_samples_split=6 \n",
      "[CV]  criterion=mse, max_depth=2, min_samples_leaf=10, min_samples_split=6, total=   0.3s\n",
      "[CV] criterion=mse, max_depth=2, min_samples_leaf=10, min_samples_split=10 \n",
      "[CV]  criterion=mse, max_depth=2, min_samples_leaf=10, min_samples_split=10, total=   0.2s\n",
      "[CV] criterion=mse, max_depth=2, min_samples_leaf=10, min_samples_split=10 \n",
      "[CV]  criterion=mse, max_depth=2, min_samples_leaf=10, min_samples_split=10, total=   0.3s\n",
      "[CV] criterion=mse, max_depth=2, min_samples_leaf=10, min_samples_split=10 \n",
      "[CV]  criterion=mse, max_depth=2, min_samples_leaf=10, min_samples_split=10, total=   0.3s\n",
      "[CV] criterion=mse, max_depth=2, min_samples_leaf=10, min_samples_split=20 \n",
      "[CV]  criterion=mse, max_depth=2, min_samples_leaf=10, min_samples_split=20, total=   0.4s\n",
      "[CV] criterion=mse, max_depth=2, min_samples_leaf=10, min_samples_split=20 \n",
      "[CV]  criterion=mse, max_depth=2, min_samples_leaf=10, min_samples_split=20, total=   0.3s\n",
      "[CV] criterion=mse, max_depth=2, min_samples_leaf=10, min_samples_split=20 \n",
      "[CV]  criterion=mse, max_depth=2, min_samples_leaf=10, min_samples_split=20, total=   0.3s\n",
      "[CV] criterion=mse, max_depth=2, min_samples_leaf=30, min_samples_split=2 \n",
      "[CV]  criterion=mse, max_depth=2, min_samples_leaf=30, min_samples_split=2, total=   0.4s\n",
      "[CV] criterion=mse, max_depth=2, min_samples_leaf=30, min_samples_split=2 \n",
      "[CV]  criterion=mse, max_depth=2, min_samples_leaf=30, min_samples_split=2, total=   0.2s\n",
      "[CV] criterion=mse, max_depth=2, min_samples_leaf=30, min_samples_split=2 \n",
      "[CV]  criterion=mse, max_depth=2, min_samples_leaf=30, min_samples_split=2, total=   0.4s\n",
      "[CV] criterion=mse, max_depth=2, min_samples_leaf=30, min_samples_split=4 \n",
      "[CV]  criterion=mse, max_depth=2, min_samples_leaf=30, min_samples_split=4, total=   0.3s\n",
      "[CV] criterion=mse, max_depth=2, min_samples_leaf=30, min_samples_split=4 \n",
      "[CV]  criterion=mse, max_depth=2, min_samples_leaf=30, min_samples_split=4, total=   0.4s\n",
      "[CV] criterion=mse, max_depth=2, min_samples_leaf=30, min_samples_split=4 \n",
      "[CV]  criterion=mse, max_depth=2, min_samples_leaf=30, min_samples_split=4, total=   0.4s\n",
      "[CV] criterion=mse, max_depth=2, min_samples_leaf=30, min_samples_split=6 \n"
     ]
    },
    {
     "name": "stdout",
     "output_type": "stream",
     "text": [
      "[CV]  criterion=mse, max_depth=2, min_samples_leaf=30, min_samples_split=6, total=   0.4s\n",
      "[CV] criterion=mse, max_depth=2, min_samples_leaf=30, min_samples_split=6 \n",
      "[CV]  criterion=mse, max_depth=2, min_samples_leaf=30, min_samples_split=6, total=   0.3s\n",
      "[CV] criterion=mse, max_depth=2, min_samples_leaf=30, min_samples_split=6 \n",
      "[CV]  criterion=mse, max_depth=2, min_samples_leaf=30, min_samples_split=6, total=   0.2s\n",
      "[CV] criterion=mse, max_depth=2, min_samples_leaf=30, min_samples_split=10 \n",
      "[CV]  criterion=mse, max_depth=2, min_samples_leaf=30, min_samples_split=10, total=   0.2s\n",
      "[CV] criterion=mse, max_depth=2, min_samples_leaf=30, min_samples_split=10 \n",
      "[CV]  criterion=mse, max_depth=2, min_samples_leaf=30, min_samples_split=10, total=   0.3s\n",
      "[CV] criterion=mse, max_depth=2, min_samples_leaf=30, min_samples_split=10 \n",
      "[CV]  criterion=mse, max_depth=2, min_samples_leaf=30, min_samples_split=10, total=   0.2s\n",
      "[CV] criterion=mse, max_depth=2, min_samples_leaf=30, min_samples_split=20 \n",
      "[CV]  criterion=mse, max_depth=2, min_samples_leaf=30, min_samples_split=20, total=   0.3s\n",
      "[CV] criterion=mse, max_depth=2, min_samples_leaf=30, min_samples_split=20 \n",
      "[CV]  criterion=mse, max_depth=2, min_samples_leaf=30, min_samples_split=20, total=   0.3s\n",
      "[CV] criterion=mse, max_depth=2, min_samples_leaf=30, min_samples_split=20 \n",
      "[CV]  criterion=mse, max_depth=2, min_samples_leaf=30, min_samples_split=20, total=   0.4s\n",
      "[CV] criterion=mse, max_depth=2, min_samples_leaf=50, min_samples_split=2 \n",
      "[CV]  criterion=mse, max_depth=2, min_samples_leaf=50, min_samples_split=2, total=   0.4s\n",
      "[CV] criterion=mse, max_depth=2, min_samples_leaf=50, min_samples_split=2 \n",
      "[CV]  criterion=mse, max_depth=2, min_samples_leaf=50, min_samples_split=2, total=   0.4s\n",
      "[CV] criterion=mse, max_depth=2, min_samples_leaf=50, min_samples_split=2 \n",
      "[CV]  criterion=mse, max_depth=2, min_samples_leaf=50, min_samples_split=2, total=   0.3s\n",
      "[CV] criterion=mse, max_depth=2, min_samples_leaf=50, min_samples_split=4 \n",
      "[CV]  criterion=mse, max_depth=2, min_samples_leaf=50, min_samples_split=4, total=   0.4s\n",
      "[CV] criterion=mse, max_depth=2, min_samples_leaf=50, min_samples_split=4 \n",
      "[CV]  criterion=mse, max_depth=2, min_samples_leaf=50, min_samples_split=4, total=   0.3s\n",
      "[CV] criterion=mse, max_depth=2, min_samples_leaf=50, min_samples_split=4 \n",
      "[CV]  criterion=mse, max_depth=2, min_samples_leaf=50, min_samples_split=4, total=   0.2s\n",
      "[CV] criterion=mse, max_depth=2, min_samples_leaf=50, min_samples_split=6 \n",
      "[CV]  criterion=mse, max_depth=2, min_samples_leaf=50, min_samples_split=6, total=   0.4s\n",
      "[CV] criterion=mse, max_depth=2, min_samples_leaf=50, min_samples_split=6 \n",
      "[CV]  criterion=mse, max_depth=2, min_samples_leaf=50, min_samples_split=6, total=   0.4s\n",
      "[CV] criterion=mse, max_depth=2, min_samples_leaf=50, min_samples_split=6 \n",
      "[CV]  criterion=mse, max_depth=2, min_samples_leaf=50, min_samples_split=6, total=   0.4s\n",
      "[CV] criterion=mse, max_depth=2, min_samples_leaf=50, min_samples_split=10 \n",
      "[CV]  criterion=mse, max_depth=2, min_samples_leaf=50, min_samples_split=10, total=   0.2s\n",
      "[CV] criterion=mse, max_depth=2, min_samples_leaf=50, min_samples_split=10 \n",
      "[CV]  criterion=mse, max_depth=2, min_samples_leaf=50, min_samples_split=10, total=   0.3s\n",
      "[CV] criterion=mse, max_depth=2, min_samples_leaf=50, min_samples_split=10 \n",
      "[CV]  criterion=mse, max_depth=2, min_samples_leaf=50, min_samples_split=10, total=   0.3s\n",
      "[CV] criterion=mse, max_depth=2, min_samples_leaf=50, min_samples_split=20 \n",
      "[CV]  criterion=mse, max_depth=2, min_samples_leaf=50, min_samples_split=20, total=   0.2s\n",
      "[CV] criterion=mse, max_depth=2, min_samples_leaf=50, min_samples_split=20 \n",
      "[CV]  criterion=mse, max_depth=2, min_samples_leaf=50, min_samples_split=20, total=   0.4s\n",
      "[CV] criterion=mse, max_depth=2, min_samples_leaf=50, min_samples_split=20 \n",
      "[CV]  criterion=mse, max_depth=2, min_samples_leaf=50, min_samples_split=20, total=   0.3s\n",
      "[CV] criterion=mse, max_depth=2, min_samples_leaf=70, min_samples_split=2 \n",
      "[CV]  criterion=mse, max_depth=2, min_samples_leaf=70, min_samples_split=2, total=   0.4s\n",
      "[CV] criterion=mse, max_depth=2, min_samples_leaf=70, min_samples_split=2 \n",
      "[CV]  criterion=mse, max_depth=2, min_samples_leaf=70, min_samples_split=2, total=   0.3s\n",
      "[CV] criterion=mse, max_depth=2, min_samples_leaf=70, min_samples_split=2 \n",
      "[CV]  criterion=mse, max_depth=2, min_samples_leaf=70, min_samples_split=2, total=   0.4s\n",
      "[CV] criterion=mse, max_depth=2, min_samples_leaf=70, min_samples_split=4 \n",
      "[CV]  criterion=mse, max_depth=2, min_samples_leaf=70, min_samples_split=4, total=   0.3s\n",
      "[CV] criterion=mse, max_depth=2, min_samples_leaf=70, min_samples_split=4 \n",
      "[CV]  criterion=mse, max_depth=2, min_samples_leaf=70, min_samples_split=4, total=   0.3s\n",
      "[CV] criterion=mse, max_depth=2, min_samples_leaf=70, min_samples_split=4 \n",
      "[CV]  criterion=mse, max_depth=2, min_samples_leaf=70, min_samples_split=4, total=   0.4s\n",
      "[CV] criterion=mse, max_depth=2, min_samples_leaf=70, min_samples_split=6 \n",
      "[CV]  criterion=mse, max_depth=2, min_samples_leaf=70, min_samples_split=6, total=   0.2s\n",
      "[CV] criterion=mse, max_depth=2, min_samples_leaf=70, min_samples_split=6 \n",
      "[CV]  criterion=mse, max_depth=2, min_samples_leaf=70, min_samples_split=6, total=   0.4s\n",
      "[CV] criterion=mse, max_depth=2, min_samples_leaf=70, min_samples_split=6 \n",
      "[CV]  criterion=mse, max_depth=2, min_samples_leaf=70, min_samples_split=6, total=   0.3s\n",
      "[CV] criterion=mse, max_depth=2, min_samples_leaf=70, min_samples_split=10 \n",
      "[CV]  criterion=mse, max_depth=2, min_samples_leaf=70, min_samples_split=10, total=   0.3s\n",
      "[CV] criterion=mse, max_depth=2, min_samples_leaf=70, min_samples_split=10 \n",
      "[CV]  criterion=mse, max_depth=2, min_samples_leaf=70, min_samples_split=10, total=   0.4s\n",
      "[CV] criterion=mse, max_depth=2, min_samples_leaf=70, min_samples_split=10 \n",
      "[CV]  criterion=mse, max_depth=2, min_samples_leaf=70, min_samples_split=10, total=   0.3s\n",
      "[CV] criterion=mse, max_depth=2, min_samples_leaf=70, min_samples_split=20 \n",
      "[CV]  criterion=mse, max_depth=2, min_samples_leaf=70, min_samples_split=20, total=   0.4s\n",
      "[CV] criterion=mse, max_depth=2, min_samples_leaf=70, min_samples_split=20 \n",
      "[CV]  criterion=mse, max_depth=2, min_samples_leaf=70, min_samples_split=20, total=   0.3s\n",
      "[CV] criterion=mse, max_depth=2, min_samples_leaf=70, min_samples_split=20 \n",
      "[CV]  criterion=mse, max_depth=2, min_samples_leaf=70, min_samples_split=20, total=   0.4s\n",
      "[CV] criterion=mse, max_depth=2, min_samples_leaf=100, min_samples_split=2 \n",
      "[CV]  criterion=mse, max_depth=2, min_samples_leaf=100, min_samples_split=2, total=   0.3s\n",
      "[CV] criterion=mse, max_depth=2, min_samples_leaf=100, min_samples_split=2 \n",
      "[CV]  criterion=mse, max_depth=2, min_samples_leaf=100, min_samples_split=2, total=   0.3s\n",
      "[CV] criterion=mse, max_depth=2, min_samples_leaf=100, min_samples_split=2 \n",
      "[CV]  criterion=mse, max_depth=2, min_samples_leaf=100, min_samples_split=2, total=   0.3s\n",
      "[CV] criterion=mse, max_depth=2, min_samples_leaf=100, min_samples_split=4 \n",
      "[CV]  criterion=mse, max_depth=2, min_samples_leaf=100, min_samples_split=4, total=   0.3s\n",
      "[CV] criterion=mse, max_depth=2, min_samples_leaf=100, min_samples_split=4 \n",
      "[CV]  criterion=mse, max_depth=2, min_samples_leaf=100, min_samples_split=4, total=   0.4s\n",
      "[CV] criterion=mse, max_depth=2, min_samples_leaf=100, min_samples_split=4 \n",
      "[CV]  criterion=mse, max_depth=2, min_samples_leaf=100, min_samples_split=4, total=   0.4s\n",
      "[CV] criterion=mse, max_depth=2, min_samples_leaf=100, min_samples_split=6 \n",
      "[CV]  criterion=mse, max_depth=2, min_samples_leaf=100, min_samples_split=6, total=   0.4s\n",
      "[CV] criterion=mse, max_depth=2, min_samples_leaf=100, min_samples_split=6 \n",
      "[CV]  criterion=mse, max_depth=2, min_samples_leaf=100, min_samples_split=6, total=   0.3s\n",
      "[CV] criterion=mse, max_depth=2, min_samples_leaf=100, min_samples_split=6 \n",
      "[CV]  criterion=mse, max_depth=2, min_samples_leaf=100, min_samples_split=6, total=   0.4s\n",
      "[CV] criterion=mse, max_depth=2, min_samples_leaf=100, min_samples_split=10 \n",
      "[CV]  criterion=mse, max_depth=2, min_samples_leaf=100, min_samples_split=10, total=   0.3s\n",
      "[CV] criterion=mse, max_depth=2, min_samples_leaf=100, min_samples_split=10 \n",
      "[CV]  criterion=mse, max_depth=2, min_samples_leaf=100, min_samples_split=10, total=   0.2s\n",
      "[CV] criterion=mse, max_depth=2, min_samples_leaf=100, min_samples_split=10 \n"
     ]
    },
    {
     "name": "stdout",
     "output_type": "stream",
     "text": [
      "[CV]  criterion=mse, max_depth=2, min_samples_leaf=100, min_samples_split=10, total=   0.4s\n",
      "[CV] criterion=mse, max_depth=2, min_samples_leaf=100, min_samples_split=20 \n",
      "[CV]  criterion=mse, max_depth=2, min_samples_leaf=100, min_samples_split=20, total=   0.4s\n",
      "[CV] criterion=mse, max_depth=2, min_samples_leaf=100, min_samples_split=20 \n",
      "[CV]  criterion=mse, max_depth=2, min_samples_leaf=100, min_samples_split=20, total=   0.4s\n",
      "[CV] criterion=mse, max_depth=2, min_samples_leaf=100, min_samples_split=20 \n",
      "[CV]  criterion=mse, max_depth=2, min_samples_leaf=100, min_samples_split=20, total=   0.2s\n",
      "[CV] criterion=mse, max_depth=5, min_samples_leaf=1, min_samples_split=2 \n",
      "[CV]  criterion=mse, max_depth=5, min_samples_leaf=1, min_samples_split=2, total=   0.9s\n",
      "[CV] criterion=mse, max_depth=5, min_samples_leaf=1, min_samples_split=2 \n",
      "[CV]  criterion=mse, max_depth=5, min_samples_leaf=1, min_samples_split=2, total=   1.0s\n",
      "[CV] criterion=mse, max_depth=5, min_samples_leaf=1, min_samples_split=2 \n",
      "[CV]  criterion=mse, max_depth=5, min_samples_leaf=1, min_samples_split=2, total=   0.9s\n",
      "[CV] criterion=mse, max_depth=5, min_samples_leaf=1, min_samples_split=4 \n",
      "[CV]  criterion=mse, max_depth=5, min_samples_leaf=1, min_samples_split=4, total=   1.0s\n",
      "[CV] criterion=mse, max_depth=5, min_samples_leaf=1, min_samples_split=4 \n",
      "[CV]  criterion=mse, max_depth=5, min_samples_leaf=1, min_samples_split=4, total=   0.7s\n",
      "[CV] criterion=mse, max_depth=5, min_samples_leaf=1, min_samples_split=4 \n",
      "[CV]  criterion=mse, max_depth=5, min_samples_leaf=1, min_samples_split=4, total=   0.9s\n",
      "[CV] criterion=mse, max_depth=5, min_samples_leaf=1, min_samples_split=6 \n",
      "[CV]  criterion=mse, max_depth=5, min_samples_leaf=1, min_samples_split=6, total=   0.9s\n",
      "[CV] criterion=mse, max_depth=5, min_samples_leaf=1, min_samples_split=6 \n",
      "[CV]  criterion=mse, max_depth=5, min_samples_leaf=1, min_samples_split=6, total=   1.0s\n",
      "[CV] criterion=mse, max_depth=5, min_samples_leaf=1, min_samples_split=6 \n",
      "[CV]  criterion=mse, max_depth=5, min_samples_leaf=1, min_samples_split=6, total=   0.8s\n",
      "[CV] criterion=mse, max_depth=5, min_samples_leaf=1, min_samples_split=10 \n",
      "[CV]  criterion=mse, max_depth=5, min_samples_leaf=1, min_samples_split=10, total=   0.9s\n",
      "[CV] criterion=mse, max_depth=5, min_samples_leaf=1, min_samples_split=10 \n",
      "[CV]  criterion=mse, max_depth=5, min_samples_leaf=1, min_samples_split=10, total=   0.8s\n",
      "[CV] criterion=mse, max_depth=5, min_samples_leaf=1, min_samples_split=10 \n",
      "[CV]  criterion=mse, max_depth=5, min_samples_leaf=1, min_samples_split=10, total=   1.0s\n",
      "[CV] criterion=mse, max_depth=5, min_samples_leaf=1, min_samples_split=20 \n",
      "[CV]  criterion=mse, max_depth=5, min_samples_leaf=1, min_samples_split=20, total=   0.8s\n",
      "[CV] criterion=mse, max_depth=5, min_samples_leaf=1, min_samples_split=20 \n",
      "[CV]  criterion=mse, max_depth=5, min_samples_leaf=1, min_samples_split=20, total=   0.8s\n",
      "[CV] criterion=mse, max_depth=5, min_samples_leaf=1, min_samples_split=20 \n",
      "[CV]  criterion=mse, max_depth=5, min_samples_leaf=1, min_samples_split=20, total=   0.9s\n",
      "[CV] criterion=mse, max_depth=5, min_samples_leaf=5, min_samples_split=2 \n",
      "[CV]  criterion=mse, max_depth=5, min_samples_leaf=5, min_samples_split=2, total=   1.0s\n",
      "[CV] criterion=mse, max_depth=5, min_samples_leaf=5, min_samples_split=2 \n",
      "[CV]  criterion=mse, max_depth=5, min_samples_leaf=5, min_samples_split=2, total=   0.8s\n",
      "[CV] criterion=mse, max_depth=5, min_samples_leaf=5, min_samples_split=2 \n",
      "[CV]  criterion=mse, max_depth=5, min_samples_leaf=5, min_samples_split=2, total=   0.8s\n",
      "[CV] criterion=mse, max_depth=5, min_samples_leaf=5, min_samples_split=4 \n",
      "[CV]  criterion=mse, max_depth=5, min_samples_leaf=5, min_samples_split=4, total=   0.8s\n",
      "[CV] criterion=mse, max_depth=5, min_samples_leaf=5, min_samples_split=4 \n",
      "[CV]  criterion=mse, max_depth=5, min_samples_leaf=5, min_samples_split=4, total=   1.0s\n",
      "[CV] criterion=mse, max_depth=5, min_samples_leaf=5, min_samples_split=4 \n",
      "[CV]  criterion=mse, max_depth=5, min_samples_leaf=5, min_samples_split=4, total=   0.8s\n",
      "[CV] criterion=mse, max_depth=5, min_samples_leaf=5, min_samples_split=6 \n",
      "[CV]  criterion=mse, max_depth=5, min_samples_leaf=5, min_samples_split=6, total=   0.8s\n",
      "[CV] criterion=mse, max_depth=5, min_samples_leaf=5, min_samples_split=6 \n",
      "[CV]  criterion=mse, max_depth=5, min_samples_leaf=5, min_samples_split=6, total=   0.8s\n",
      "[CV] criterion=mse, max_depth=5, min_samples_leaf=5, min_samples_split=6 \n",
      "[CV]  criterion=mse, max_depth=5, min_samples_leaf=5, min_samples_split=6, total=   0.9s\n",
      "[CV] criterion=mse, max_depth=5, min_samples_leaf=5, min_samples_split=10 \n",
      "[CV]  criterion=mse, max_depth=5, min_samples_leaf=5, min_samples_split=10, total=   0.9s\n",
      "[CV] criterion=mse, max_depth=5, min_samples_leaf=5, min_samples_split=10 \n",
      "[CV]  criterion=mse, max_depth=5, min_samples_leaf=5, min_samples_split=10, total=   0.9s\n",
      "[CV] criterion=mse, max_depth=5, min_samples_leaf=5, min_samples_split=10 \n",
      "[CV]  criterion=mse, max_depth=5, min_samples_leaf=5, min_samples_split=10, total=   0.8s\n",
      "[CV] criterion=mse, max_depth=5, min_samples_leaf=5, min_samples_split=20 \n",
      "[CV]  criterion=mse, max_depth=5, min_samples_leaf=5, min_samples_split=20, total=   0.9s\n",
      "[CV] criterion=mse, max_depth=5, min_samples_leaf=5, min_samples_split=20 \n",
      "[CV]  criterion=mse, max_depth=5, min_samples_leaf=5, min_samples_split=20, total=   1.0s\n",
      "[CV] criterion=mse, max_depth=5, min_samples_leaf=5, min_samples_split=20 \n",
      "[CV]  criterion=mse, max_depth=5, min_samples_leaf=5, min_samples_split=20, total=   0.9s\n",
      "[CV] criterion=mse, max_depth=5, min_samples_leaf=10, min_samples_split=2 \n",
      "[CV]  criterion=mse, max_depth=5, min_samples_leaf=10, min_samples_split=2, total=   0.8s\n",
      "[CV] criterion=mse, max_depth=5, min_samples_leaf=10, min_samples_split=2 \n",
      "[CV]  criterion=mse, max_depth=5, min_samples_leaf=10, min_samples_split=2, total=   1.0s\n",
      "[CV] criterion=mse, max_depth=5, min_samples_leaf=10, min_samples_split=2 \n",
      "[CV]  criterion=mse, max_depth=5, min_samples_leaf=10, min_samples_split=2, total=   0.6s\n",
      "[CV] criterion=mse, max_depth=5, min_samples_leaf=10, min_samples_split=4 \n",
      "[CV]  criterion=mse, max_depth=5, min_samples_leaf=10, min_samples_split=4, total=   0.9s\n",
      "[CV] criterion=mse, max_depth=5, min_samples_leaf=10, min_samples_split=4 \n",
      "[CV]  criterion=mse, max_depth=5, min_samples_leaf=10, min_samples_split=4, total=   0.8s\n",
      "[CV] criterion=mse, max_depth=5, min_samples_leaf=10, min_samples_split=4 \n",
      "[CV]  criterion=mse, max_depth=5, min_samples_leaf=10, min_samples_split=4, total=   0.8s\n",
      "[CV] criterion=mse, max_depth=5, min_samples_leaf=10, min_samples_split=6 \n",
      "[CV]  criterion=mse, max_depth=5, min_samples_leaf=10, min_samples_split=6, total=   0.8s\n",
      "[CV] criterion=mse, max_depth=5, min_samples_leaf=10, min_samples_split=6 \n",
      "[CV]  criterion=mse, max_depth=5, min_samples_leaf=10, min_samples_split=6, total=   1.0s\n",
      "[CV] criterion=mse, max_depth=5, min_samples_leaf=10, min_samples_split=6 \n",
      "[CV]  criterion=mse, max_depth=5, min_samples_leaf=10, min_samples_split=6, total=   0.7s\n",
      "[CV] criterion=mse, max_depth=5, min_samples_leaf=10, min_samples_split=10 \n",
      "[CV]  criterion=mse, max_depth=5, min_samples_leaf=10, min_samples_split=10, total=   0.7s\n",
      "[CV] criterion=mse, max_depth=5, min_samples_leaf=10, min_samples_split=10 \n",
      "[CV]  criterion=mse, max_depth=5, min_samples_leaf=10, min_samples_split=10, total=   0.7s\n",
      "[CV] criterion=mse, max_depth=5, min_samples_leaf=10, min_samples_split=10 \n",
      "[CV]  criterion=mse, max_depth=5, min_samples_leaf=10, min_samples_split=10, total=   0.9s\n",
      "[CV] criterion=mse, max_depth=5, min_samples_leaf=10, min_samples_split=20 \n",
      "[CV]  criterion=mse, max_depth=5, min_samples_leaf=10, min_samples_split=20, total=   1.0s\n",
      "[CV] criterion=mse, max_depth=5, min_samples_leaf=10, min_samples_split=20 \n",
      "[CV]  criterion=mse, max_depth=5, min_samples_leaf=10, min_samples_split=20, total=   0.9s\n",
      "[CV] criterion=mse, max_depth=5, min_samples_leaf=10, min_samples_split=20 \n",
      "[CV]  criterion=mse, max_depth=5, min_samples_leaf=10, min_samples_split=20, total=   0.8s\n",
      "[CV] criterion=mse, max_depth=5, min_samples_leaf=30, min_samples_split=2 \n",
      "[CV]  criterion=mse, max_depth=5, min_samples_leaf=30, min_samples_split=2, total=   1.0s\n",
      "[CV] criterion=mse, max_depth=5, min_samples_leaf=30, min_samples_split=2 \n"
     ]
    },
    {
     "name": "stdout",
     "output_type": "stream",
     "text": [
      "[CV]  criterion=mse, max_depth=5, min_samples_leaf=30, min_samples_split=2, total=   0.8s\n",
      "[CV] criterion=mse, max_depth=5, min_samples_leaf=30, min_samples_split=2 \n",
      "[CV]  criterion=mse, max_depth=5, min_samples_leaf=30, min_samples_split=2, total=   0.8s\n",
      "[CV] criterion=mse, max_depth=5, min_samples_leaf=30, min_samples_split=4 \n",
      "[CV]  criterion=mse, max_depth=5, min_samples_leaf=30, min_samples_split=4, total=   0.9s\n",
      "[CV] criterion=mse, max_depth=5, min_samples_leaf=30, min_samples_split=4 \n",
      "[CV]  criterion=mse, max_depth=5, min_samples_leaf=30, min_samples_split=4, total=   0.9s\n",
      "[CV] criterion=mse, max_depth=5, min_samples_leaf=30, min_samples_split=4 \n",
      "[CV]  criterion=mse, max_depth=5, min_samples_leaf=30, min_samples_split=4, total=   0.8s\n",
      "[CV] criterion=mse, max_depth=5, min_samples_leaf=30, min_samples_split=6 \n",
      "[CV]  criterion=mse, max_depth=5, min_samples_leaf=30, min_samples_split=6, total=   0.9s\n",
      "[CV] criterion=mse, max_depth=5, min_samples_leaf=30, min_samples_split=6 \n",
      "[CV]  criterion=mse, max_depth=5, min_samples_leaf=30, min_samples_split=6, total=   0.8s\n",
      "[CV] criterion=mse, max_depth=5, min_samples_leaf=30, min_samples_split=6 \n",
      "[CV]  criterion=mse, max_depth=5, min_samples_leaf=30, min_samples_split=6, total=   0.9s\n",
      "[CV] criterion=mse, max_depth=5, min_samples_leaf=30, min_samples_split=10 \n",
      "[CV]  criterion=mse, max_depth=5, min_samples_leaf=30, min_samples_split=10, total=   0.8s\n",
      "[CV] criterion=mse, max_depth=5, min_samples_leaf=30, min_samples_split=10 \n",
      "[CV]  criterion=mse, max_depth=5, min_samples_leaf=30, min_samples_split=10, total=   0.7s\n",
      "[CV] criterion=mse, max_depth=5, min_samples_leaf=30, min_samples_split=10 \n",
      "[CV]  criterion=mse, max_depth=5, min_samples_leaf=30, min_samples_split=10, total=   0.9s\n",
      "[CV] criterion=mse, max_depth=5, min_samples_leaf=30, min_samples_split=20 \n",
      "[CV]  criterion=mse, max_depth=5, min_samples_leaf=30, min_samples_split=20, total=   0.9s\n",
      "[CV] criterion=mse, max_depth=5, min_samples_leaf=30, min_samples_split=20 \n",
      "[CV]  criterion=mse, max_depth=5, min_samples_leaf=30, min_samples_split=20, total=   0.9s\n",
      "[CV] criterion=mse, max_depth=5, min_samples_leaf=30, min_samples_split=20 \n",
      "[CV]  criterion=mse, max_depth=5, min_samples_leaf=30, min_samples_split=20, total=   0.8s\n",
      "[CV] criterion=mse, max_depth=5, min_samples_leaf=50, min_samples_split=2 \n",
      "[CV]  criterion=mse, max_depth=5, min_samples_leaf=50, min_samples_split=2, total=   1.0s\n",
      "[CV] criterion=mse, max_depth=5, min_samples_leaf=50, min_samples_split=2 \n",
      "[CV]  criterion=mse, max_depth=5, min_samples_leaf=50, min_samples_split=2, total=   0.8s\n",
      "[CV] criterion=mse, max_depth=5, min_samples_leaf=50, min_samples_split=2 \n",
      "[CV]  criterion=mse, max_depth=5, min_samples_leaf=50, min_samples_split=2, total=   0.9s\n",
      "[CV] criterion=mse, max_depth=5, min_samples_leaf=50, min_samples_split=4 \n",
      "[CV]  criterion=mse, max_depth=5, min_samples_leaf=50, min_samples_split=4, total=   1.0s\n",
      "[CV] criterion=mse, max_depth=5, min_samples_leaf=50, min_samples_split=4 \n",
      "[CV]  criterion=mse, max_depth=5, min_samples_leaf=50, min_samples_split=4, total=   0.9s\n",
      "[CV] criterion=mse, max_depth=5, min_samples_leaf=50, min_samples_split=4 \n",
      "[CV]  criterion=mse, max_depth=5, min_samples_leaf=50, min_samples_split=4, total=   1.0s\n",
      "[CV] criterion=mse, max_depth=5, min_samples_leaf=50, min_samples_split=6 \n",
      "[CV]  criterion=mse, max_depth=5, min_samples_leaf=50, min_samples_split=6, total=   0.7s\n",
      "[CV] criterion=mse, max_depth=5, min_samples_leaf=50, min_samples_split=6 \n",
      "[CV]  criterion=mse, max_depth=5, min_samples_leaf=50, min_samples_split=6, total=   0.7s\n",
      "[CV] criterion=mse, max_depth=5, min_samples_leaf=50, min_samples_split=6 \n",
      "[CV]  criterion=mse, max_depth=5, min_samples_leaf=50, min_samples_split=6, total=   0.9s\n",
      "[CV] criterion=mse, max_depth=5, min_samples_leaf=50, min_samples_split=10 \n",
      "[CV]  criterion=mse, max_depth=5, min_samples_leaf=50, min_samples_split=10, total=   1.0s\n",
      "[CV] criterion=mse, max_depth=5, min_samples_leaf=50, min_samples_split=10 \n",
      "[CV]  criterion=mse, max_depth=5, min_samples_leaf=50, min_samples_split=10, total=   0.8s\n",
      "[CV] criterion=mse, max_depth=5, min_samples_leaf=50, min_samples_split=10 \n",
      "[CV]  criterion=mse, max_depth=5, min_samples_leaf=50, min_samples_split=10, total=   0.8s\n",
      "[CV] criterion=mse, max_depth=5, min_samples_leaf=50, min_samples_split=20 \n",
      "[CV]  criterion=mse, max_depth=5, min_samples_leaf=50, min_samples_split=20, total=   0.8s\n",
      "[CV] criterion=mse, max_depth=5, min_samples_leaf=50, min_samples_split=20 \n",
      "[CV]  criterion=mse, max_depth=5, min_samples_leaf=50, min_samples_split=20, total=   1.0s\n",
      "[CV] criterion=mse, max_depth=5, min_samples_leaf=50, min_samples_split=20 \n",
      "[CV]  criterion=mse, max_depth=5, min_samples_leaf=50, min_samples_split=20, total=   0.8s\n",
      "[CV] criterion=mse, max_depth=5, min_samples_leaf=70, min_samples_split=2 \n",
      "[CV]  criterion=mse, max_depth=5, min_samples_leaf=70, min_samples_split=2, total=   0.8s\n",
      "[CV] criterion=mse, max_depth=5, min_samples_leaf=70, min_samples_split=2 \n",
      "[CV]  criterion=mse, max_depth=5, min_samples_leaf=70, min_samples_split=2, total=   0.8s\n",
      "[CV] criterion=mse, max_depth=5, min_samples_leaf=70, min_samples_split=2 \n",
      "[CV]  criterion=mse, max_depth=5, min_samples_leaf=70, min_samples_split=2, total=   1.0s\n",
      "[CV] criterion=mse, max_depth=5, min_samples_leaf=70, min_samples_split=4 \n",
      "[CV]  criterion=mse, max_depth=5, min_samples_leaf=70, min_samples_split=4, total=   0.9s\n",
      "[CV] criterion=mse, max_depth=5, min_samples_leaf=70, min_samples_split=4 \n",
      "[CV]  criterion=mse, max_depth=5, min_samples_leaf=70, min_samples_split=4, total=   0.8s\n",
      "[CV] criterion=mse, max_depth=5, min_samples_leaf=70, min_samples_split=4 \n",
      "[CV]  criterion=mse, max_depth=5, min_samples_leaf=70, min_samples_split=4, total=   0.7s\n",
      "[CV] criterion=mse, max_depth=5, min_samples_leaf=70, min_samples_split=6 \n",
      "[CV]  criterion=mse, max_depth=5, min_samples_leaf=70, min_samples_split=6, total=   1.0s\n",
      "[CV] criterion=mse, max_depth=5, min_samples_leaf=70, min_samples_split=6 \n",
      "[CV]  criterion=mse, max_depth=5, min_samples_leaf=70, min_samples_split=6, total=   1.0s\n",
      "[CV] criterion=mse, max_depth=5, min_samples_leaf=70, min_samples_split=6 \n",
      "[CV]  criterion=mse, max_depth=5, min_samples_leaf=70, min_samples_split=6, total=   0.7s\n",
      "[CV] criterion=mse, max_depth=5, min_samples_leaf=70, min_samples_split=10 \n",
      "[CV]  criterion=mse, max_depth=5, min_samples_leaf=70, min_samples_split=10, total=   0.7s\n",
      "[CV] criterion=mse, max_depth=5, min_samples_leaf=70, min_samples_split=10 \n",
      "[CV]  criterion=mse, max_depth=5, min_samples_leaf=70, min_samples_split=10, total=   0.8s\n",
      "[CV] criterion=mse, max_depth=5, min_samples_leaf=70, min_samples_split=10 \n",
      "[CV]  criterion=mse, max_depth=5, min_samples_leaf=70, min_samples_split=10, total=   0.9s\n",
      "[CV] criterion=mse, max_depth=5, min_samples_leaf=70, min_samples_split=20 \n",
      "[CV]  criterion=mse, max_depth=5, min_samples_leaf=70, min_samples_split=20, total=   0.9s\n",
      "[CV] criterion=mse, max_depth=5, min_samples_leaf=70, min_samples_split=20 \n",
      "[CV]  criterion=mse, max_depth=5, min_samples_leaf=70, min_samples_split=20, total=   0.7s\n",
      "[CV] criterion=mse, max_depth=5, min_samples_leaf=70, min_samples_split=20 \n",
      "[CV]  criterion=mse, max_depth=5, min_samples_leaf=70, min_samples_split=20, total=   0.9s\n",
      "[CV] criterion=mse, max_depth=5, min_samples_leaf=100, min_samples_split=2 \n",
      "[CV]  criterion=mse, max_depth=5, min_samples_leaf=100, min_samples_split=2, total=   1.0s\n",
      "[CV] criterion=mse, max_depth=5, min_samples_leaf=100, min_samples_split=2 \n",
      "[CV]  criterion=mse, max_depth=5, min_samples_leaf=100, min_samples_split=2, total=   0.9s\n",
      "[CV] criterion=mse, max_depth=5, min_samples_leaf=100, min_samples_split=2 \n",
      "[CV]  criterion=mse, max_depth=5, min_samples_leaf=100, min_samples_split=2, total=   0.7s\n",
      "[CV] criterion=mse, max_depth=5, min_samples_leaf=100, min_samples_split=4 \n",
      "[CV]  criterion=mse, max_depth=5, min_samples_leaf=100, min_samples_split=4, total=   1.0s\n",
      "[CV] criterion=mse, max_depth=5, min_samples_leaf=100, min_samples_split=4 \n",
      "[CV]  criterion=mse, max_depth=5, min_samples_leaf=100, min_samples_split=4, total=   0.8s\n",
      "[CV] criterion=mse, max_depth=5, min_samples_leaf=100, min_samples_split=4 \n",
      "[CV]  criterion=mse, max_depth=5, min_samples_leaf=100, min_samples_split=4, total=   0.7s\n",
      "[CV] criterion=mse, max_depth=5, min_samples_leaf=100, min_samples_split=6 \n"
     ]
    },
    {
     "name": "stdout",
     "output_type": "stream",
     "text": [
      "[CV]  criterion=mse, max_depth=5, min_samples_leaf=100, min_samples_split=6, total=   0.9s\n",
      "[CV] criterion=mse, max_depth=5, min_samples_leaf=100, min_samples_split=6 \n",
      "[CV]  criterion=mse, max_depth=5, min_samples_leaf=100, min_samples_split=6, total=   0.8s\n",
      "[CV] criterion=mse, max_depth=5, min_samples_leaf=100, min_samples_split=6 \n",
      "[CV]  criterion=mse, max_depth=5, min_samples_leaf=100, min_samples_split=6, total=   0.8s\n",
      "[CV] criterion=mse, max_depth=5, min_samples_leaf=100, min_samples_split=10 \n",
      "[CV]  criterion=mse, max_depth=5, min_samples_leaf=100, min_samples_split=10, total=   0.9s\n",
      "[CV] criterion=mse, max_depth=5, min_samples_leaf=100, min_samples_split=10 \n",
      "[CV]  criterion=mse, max_depth=5, min_samples_leaf=100, min_samples_split=10, total=   1.0s\n",
      "[CV] criterion=mse, max_depth=5, min_samples_leaf=100, min_samples_split=10 \n",
      "[CV]  criterion=mse, max_depth=5, min_samples_leaf=100, min_samples_split=10, total=   0.5s\n",
      "[CV] criterion=mse, max_depth=5, min_samples_leaf=100, min_samples_split=20 \n",
      "[CV]  criterion=mse, max_depth=5, min_samples_leaf=100, min_samples_split=20, total=   0.6s\n",
      "[CV] criterion=mse, max_depth=5, min_samples_leaf=100, min_samples_split=20 \n",
      "[CV]  criterion=mse, max_depth=5, min_samples_leaf=100, min_samples_split=20, total=   0.5s\n",
      "[CV] criterion=mse, max_depth=5, min_samples_leaf=100, min_samples_split=20 \n",
      "[CV]  criterion=mse, max_depth=5, min_samples_leaf=100, min_samples_split=20, total=   0.5s\n",
      "[CV] criterion=mse, max_depth=10, min_samples_leaf=1, min_samples_split=2 \n",
      "[CV]  criterion=mse, max_depth=10, min_samples_leaf=1, min_samples_split=2, total=   0.9s\n",
      "[CV] criterion=mse, max_depth=10, min_samples_leaf=1, min_samples_split=2 \n",
      "[CV]  criterion=mse, max_depth=10, min_samples_leaf=1, min_samples_split=2, total=   0.7s\n",
      "[CV] criterion=mse, max_depth=10, min_samples_leaf=1, min_samples_split=2 \n",
      "[CV]  criterion=mse, max_depth=10, min_samples_leaf=1, min_samples_split=2, total=   0.7s\n",
      "[CV] criterion=mse, max_depth=10, min_samples_leaf=1, min_samples_split=4 \n",
      "[CV]  criterion=mse, max_depth=10, min_samples_leaf=1, min_samples_split=4, total=   0.7s\n",
      "[CV] criterion=mse, max_depth=10, min_samples_leaf=1, min_samples_split=4 \n",
      "[CV]  criterion=mse, max_depth=10, min_samples_leaf=1, min_samples_split=4, total=   0.7s\n",
      "[CV] criterion=mse, max_depth=10, min_samples_leaf=1, min_samples_split=4 \n",
      "[CV]  criterion=mse, max_depth=10, min_samples_leaf=1, min_samples_split=4, total=   0.7s\n",
      "[CV] criterion=mse, max_depth=10, min_samples_leaf=1, min_samples_split=6 \n",
      "[CV]  criterion=mse, max_depth=10, min_samples_leaf=1, min_samples_split=6, total=   0.7s\n",
      "[CV] criterion=mse, max_depth=10, min_samples_leaf=1, min_samples_split=6 \n",
      "[CV]  criterion=mse, max_depth=10, min_samples_leaf=1, min_samples_split=6, total=   0.7s\n",
      "[CV] criterion=mse, max_depth=10, min_samples_leaf=1, min_samples_split=6 \n",
      "[CV]  criterion=mse, max_depth=10, min_samples_leaf=1, min_samples_split=6, total=   0.7s\n",
      "[CV] criterion=mse, max_depth=10, min_samples_leaf=1, min_samples_split=10 \n",
      "[CV]  criterion=mse, max_depth=10, min_samples_leaf=1, min_samples_split=10, total=   0.7s\n",
      "[CV] criterion=mse, max_depth=10, min_samples_leaf=1, min_samples_split=10 \n",
      "[CV]  criterion=mse, max_depth=10, min_samples_leaf=1, min_samples_split=10, total=   0.7s\n",
      "[CV] criterion=mse, max_depth=10, min_samples_leaf=1, min_samples_split=10 \n",
      "[CV]  criterion=mse, max_depth=10, min_samples_leaf=1, min_samples_split=10, total=   0.7s\n",
      "[CV] criterion=mse, max_depth=10, min_samples_leaf=1, min_samples_split=20 \n",
      "[CV]  criterion=mse, max_depth=10, min_samples_leaf=1, min_samples_split=20, total=   0.7s\n",
      "[CV] criterion=mse, max_depth=10, min_samples_leaf=1, min_samples_split=20 \n",
      "[CV]  criterion=mse, max_depth=10, min_samples_leaf=1, min_samples_split=20, total=   0.7s\n",
      "[CV] criterion=mse, max_depth=10, min_samples_leaf=1, min_samples_split=20 \n",
      "[CV]  criterion=mse, max_depth=10, min_samples_leaf=1, min_samples_split=20, total=   0.7s\n",
      "[CV] criterion=mse, max_depth=10, min_samples_leaf=5, min_samples_split=2 \n",
      "[CV]  criterion=mse, max_depth=10, min_samples_leaf=5, min_samples_split=2, total=   0.7s\n",
      "[CV] criterion=mse, max_depth=10, min_samples_leaf=5, min_samples_split=2 \n",
      "[CV]  criterion=mse, max_depth=10, min_samples_leaf=5, min_samples_split=2, total=   0.7s\n",
      "[CV] criterion=mse, max_depth=10, min_samples_leaf=5, min_samples_split=2 \n",
      "[CV]  criterion=mse, max_depth=10, min_samples_leaf=5, min_samples_split=2, total=   0.8s\n",
      "[CV] criterion=mse, max_depth=10, min_samples_leaf=5, min_samples_split=4 \n",
      "[CV]  criterion=mse, max_depth=10, min_samples_leaf=5, min_samples_split=4, total=   0.7s\n",
      "[CV] criterion=mse, max_depth=10, min_samples_leaf=5, min_samples_split=4 \n",
      "[CV]  criterion=mse, max_depth=10, min_samples_leaf=5, min_samples_split=4, total=   0.7s\n",
      "[CV] criterion=mse, max_depth=10, min_samples_leaf=5, min_samples_split=4 \n",
      "[CV]  criterion=mse, max_depth=10, min_samples_leaf=5, min_samples_split=4, total=   0.7s\n",
      "[CV] criterion=mse, max_depth=10, min_samples_leaf=5, min_samples_split=6 \n",
      "[CV]  criterion=mse, max_depth=10, min_samples_leaf=5, min_samples_split=6, total=   0.7s\n",
      "[CV] criterion=mse, max_depth=10, min_samples_leaf=5, min_samples_split=6 \n",
      "[CV]  criterion=mse, max_depth=10, min_samples_leaf=5, min_samples_split=6, total=   0.7s\n",
      "[CV] criterion=mse, max_depth=10, min_samples_leaf=5, min_samples_split=6 \n",
      "[CV]  criterion=mse, max_depth=10, min_samples_leaf=5, min_samples_split=6, total=   0.7s\n",
      "[CV] criterion=mse, max_depth=10, min_samples_leaf=5, min_samples_split=10 \n",
      "[CV]  criterion=mse, max_depth=10, min_samples_leaf=5, min_samples_split=10, total=   0.7s\n",
      "[CV] criterion=mse, max_depth=10, min_samples_leaf=5, min_samples_split=10 \n",
      "[CV]  criterion=mse, max_depth=10, min_samples_leaf=5, min_samples_split=10, total=   0.7s\n",
      "[CV] criterion=mse, max_depth=10, min_samples_leaf=5, min_samples_split=10 \n",
      "[CV]  criterion=mse, max_depth=10, min_samples_leaf=5, min_samples_split=10, total=   0.7s\n",
      "[CV] criterion=mse, max_depth=10, min_samples_leaf=5, min_samples_split=20 \n",
      "[CV]  criterion=mse, max_depth=10, min_samples_leaf=5, min_samples_split=20, total=   0.7s\n",
      "[CV] criterion=mse, max_depth=10, min_samples_leaf=5, min_samples_split=20 \n",
      "[CV]  criterion=mse, max_depth=10, min_samples_leaf=5, min_samples_split=20, total=   0.7s\n",
      "[CV] criterion=mse, max_depth=10, min_samples_leaf=5, min_samples_split=20 \n",
      "[CV]  criterion=mse, max_depth=10, min_samples_leaf=5, min_samples_split=20, total=   0.7s\n",
      "[CV] criterion=mse, max_depth=10, min_samples_leaf=10, min_samples_split=2 \n",
      "[CV]  criterion=mse, max_depth=10, min_samples_leaf=10, min_samples_split=2, total=   0.7s\n",
      "[CV] criterion=mse, max_depth=10, min_samples_leaf=10, min_samples_split=2 \n",
      "[CV]  criterion=mse, max_depth=10, min_samples_leaf=10, min_samples_split=2, total=   0.7s\n",
      "[CV] criterion=mse, max_depth=10, min_samples_leaf=10, min_samples_split=2 \n",
      "[CV]  criterion=mse, max_depth=10, min_samples_leaf=10, min_samples_split=2, total=   0.7s\n",
      "[CV] criterion=mse, max_depth=10, min_samples_leaf=10, min_samples_split=4 \n",
      "[CV]  criterion=mse, max_depth=10, min_samples_leaf=10, min_samples_split=4, total=   0.7s\n",
      "[CV] criterion=mse, max_depth=10, min_samples_leaf=10, min_samples_split=4 \n",
      "[CV]  criterion=mse, max_depth=10, min_samples_leaf=10, min_samples_split=4, total=   0.7s\n",
      "[CV] criterion=mse, max_depth=10, min_samples_leaf=10, min_samples_split=4 \n",
      "[CV]  criterion=mse, max_depth=10, min_samples_leaf=10, min_samples_split=4, total=   0.7s\n",
      "[CV] criterion=mse, max_depth=10, min_samples_leaf=10, min_samples_split=6 \n",
      "[CV]  criterion=mse, max_depth=10, min_samples_leaf=10, min_samples_split=6, total=   0.7s\n",
      "[CV] criterion=mse, max_depth=10, min_samples_leaf=10, min_samples_split=6 \n",
      "[CV]  criterion=mse, max_depth=10, min_samples_leaf=10, min_samples_split=6, total=   0.7s\n",
      "[CV] criterion=mse, max_depth=10, min_samples_leaf=10, min_samples_split=6 \n",
      "[CV]  criterion=mse, max_depth=10, min_samples_leaf=10, min_samples_split=6, total=   0.7s\n",
      "[CV] criterion=mse, max_depth=10, min_samples_leaf=10, min_samples_split=10 \n",
      "[CV]  criterion=mse, max_depth=10, min_samples_leaf=10, min_samples_split=10, total=   0.7s\n",
      "[CV] criterion=mse, max_depth=10, min_samples_leaf=10, min_samples_split=10 \n",
      "[CV]  criterion=mse, max_depth=10, min_samples_leaf=10, min_samples_split=10, total=   0.7s\n",
      "[CV] criterion=mse, max_depth=10, min_samples_leaf=10, min_samples_split=10 \n"
     ]
    },
    {
     "name": "stdout",
     "output_type": "stream",
     "text": [
      "[CV]  criterion=mse, max_depth=10, min_samples_leaf=10, min_samples_split=10, total=   0.7s\n",
      "[CV] criterion=mse, max_depth=10, min_samples_leaf=10, min_samples_split=20 \n",
      "[CV]  criterion=mse, max_depth=10, min_samples_leaf=10, min_samples_split=20, total=   0.7s\n",
      "[CV] criterion=mse, max_depth=10, min_samples_leaf=10, min_samples_split=20 \n",
      "[CV]  criterion=mse, max_depth=10, min_samples_leaf=10, min_samples_split=20, total=   0.7s\n",
      "[CV] criterion=mse, max_depth=10, min_samples_leaf=10, min_samples_split=20 \n",
      "[CV]  criterion=mse, max_depth=10, min_samples_leaf=10, min_samples_split=20, total=   0.7s\n",
      "[CV] criterion=mse, max_depth=10, min_samples_leaf=30, min_samples_split=2 \n",
      "[CV]  criterion=mse, max_depth=10, min_samples_leaf=30, min_samples_split=2, total=   0.7s\n",
      "[CV] criterion=mse, max_depth=10, min_samples_leaf=30, min_samples_split=2 \n",
      "[CV]  criterion=mse, max_depth=10, min_samples_leaf=30, min_samples_split=2, total=   0.7s\n",
      "[CV] criterion=mse, max_depth=10, min_samples_leaf=30, min_samples_split=2 \n",
      "[CV]  criterion=mse, max_depth=10, min_samples_leaf=30, min_samples_split=2, total=   0.7s\n",
      "[CV] criterion=mse, max_depth=10, min_samples_leaf=30, min_samples_split=4 \n",
      "[CV]  criterion=mse, max_depth=10, min_samples_leaf=30, min_samples_split=4, total=   0.7s\n",
      "[CV] criterion=mse, max_depth=10, min_samples_leaf=30, min_samples_split=4 \n",
      "[CV]  criterion=mse, max_depth=10, min_samples_leaf=30, min_samples_split=4, total=   0.9s\n",
      "[CV] criterion=mse, max_depth=10, min_samples_leaf=30, min_samples_split=4 \n",
      "[CV]  criterion=mse, max_depth=10, min_samples_leaf=30, min_samples_split=4, total=   0.7s\n",
      "[CV] criterion=mse, max_depth=10, min_samples_leaf=30, min_samples_split=6 \n",
      "[CV]  criterion=mse, max_depth=10, min_samples_leaf=30, min_samples_split=6, total=   0.7s\n",
      "[CV] criterion=mse, max_depth=10, min_samples_leaf=30, min_samples_split=6 \n",
      "[CV]  criterion=mse, max_depth=10, min_samples_leaf=30, min_samples_split=6, total=   0.7s\n",
      "[CV] criterion=mse, max_depth=10, min_samples_leaf=30, min_samples_split=6 \n",
      "[CV]  criterion=mse, max_depth=10, min_samples_leaf=30, min_samples_split=6, total=   0.7s\n",
      "[CV] criterion=mse, max_depth=10, min_samples_leaf=30, min_samples_split=10 \n",
      "[CV]  criterion=mse, max_depth=10, min_samples_leaf=30, min_samples_split=10, total=   0.7s\n",
      "[CV] criterion=mse, max_depth=10, min_samples_leaf=30, min_samples_split=10 \n",
      "[CV]  criterion=mse, max_depth=10, min_samples_leaf=30, min_samples_split=10, total=   0.7s\n",
      "[CV] criterion=mse, max_depth=10, min_samples_leaf=30, min_samples_split=10 \n",
      "[CV]  criterion=mse, max_depth=10, min_samples_leaf=30, min_samples_split=10, total=   0.7s\n",
      "[CV] criterion=mse, max_depth=10, min_samples_leaf=30, min_samples_split=20 \n",
      "[CV]  criterion=mse, max_depth=10, min_samples_leaf=30, min_samples_split=20, total=   0.7s\n",
      "[CV] criterion=mse, max_depth=10, min_samples_leaf=30, min_samples_split=20 \n",
      "[CV]  criterion=mse, max_depth=10, min_samples_leaf=30, min_samples_split=20, total=   0.7s\n",
      "[CV] criterion=mse, max_depth=10, min_samples_leaf=30, min_samples_split=20 \n",
      "[CV]  criterion=mse, max_depth=10, min_samples_leaf=30, min_samples_split=20, total=   0.7s\n",
      "[CV] criterion=mse, max_depth=10, min_samples_leaf=50, min_samples_split=2 \n",
      "[CV]  criterion=mse, max_depth=10, min_samples_leaf=50, min_samples_split=2, total=   0.7s\n",
      "[CV] criterion=mse, max_depth=10, min_samples_leaf=50, min_samples_split=2 \n",
      "[CV]  criterion=mse, max_depth=10, min_samples_leaf=50, min_samples_split=2, total=   0.7s\n",
      "[CV] criterion=mse, max_depth=10, min_samples_leaf=50, min_samples_split=2 \n",
      "[CV]  criterion=mse, max_depth=10, min_samples_leaf=50, min_samples_split=2, total=   0.7s\n",
      "[CV] criterion=mse, max_depth=10, min_samples_leaf=50, min_samples_split=4 \n",
      "[CV]  criterion=mse, max_depth=10, min_samples_leaf=50, min_samples_split=4, total=   0.7s\n",
      "[CV] criterion=mse, max_depth=10, min_samples_leaf=50, min_samples_split=4 \n",
      "[CV]  criterion=mse, max_depth=10, min_samples_leaf=50, min_samples_split=4, total=   0.7s\n",
      "[CV] criterion=mse, max_depth=10, min_samples_leaf=50, min_samples_split=4 \n",
      "[CV]  criterion=mse, max_depth=10, min_samples_leaf=50, min_samples_split=4, total=   0.7s\n",
      "[CV] criterion=mse, max_depth=10, min_samples_leaf=50, min_samples_split=6 \n",
      "[CV]  criterion=mse, max_depth=10, min_samples_leaf=50, min_samples_split=6, total=   0.7s\n",
      "[CV] criterion=mse, max_depth=10, min_samples_leaf=50, min_samples_split=6 \n",
      "[CV]  criterion=mse, max_depth=10, min_samples_leaf=50, min_samples_split=6, total=   0.7s\n",
      "[CV] criterion=mse, max_depth=10, min_samples_leaf=50, min_samples_split=6 \n",
      "[CV]  criterion=mse, max_depth=10, min_samples_leaf=50, min_samples_split=6, total=   0.7s\n",
      "[CV] criterion=mse, max_depth=10, min_samples_leaf=50, min_samples_split=10 \n",
      "[CV]  criterion=mse, max_depth=10, min_samples_leaf=50, min_samples_split=10, total=   0.7s\n",
      "[CV] criterion=mse, max_depth=10, min_samples_leaf=50, min_samples_split=10 \n",
      "[CV]  criterion=mse, max_depth=10, min_samples_leaf=50, min_samples_split=10, total=   0.7s\n",
      "[CV] criterion=mse, max_depth=10, min_samples_leaf=50, min_samples_split=10 \n",
      "[CV]  criterion=mse, max_depth=10, min_samples_leaf=50, min_samples_split=10, total=   0.7s\n",
      "[CV] criterion=mse, max_depth=10, min_samples_leaf=50, min_samples_split=20 \n",
      "[CV]  criterion=mse, max_depth=10, min_samples_leaf=50, min_samples_split=20, total=   0.7s\n",
      "[CV] criterion=mse, max_depth=10, min_samples_leaf=50, min_samples_split=20 \n",
      "[CV]  criterion=mse, max_depth=10, min_samples_leaf=50, min_samples_split=20, total=   0.7s\n",
      "[CV] criterion=mse, max_depth=10, min_samples_leaf=50, min_samples_split=20 \n",
      "[CV]  criterion=mse, max_depth=10, min_samples_leaf=50, min_samples_split=20, total=   0.7s\n",
      "[CV] criterion=mse, max_depth=10, min_samples_leaf=70, min_samples_split=2 \n",
      "[CV]  criterion=mse, max_depth=10, min_samples_leaf=70, min_samples_split=2, total=   0.6s\n",
      "[CV] criterion=mse, max_depth=10, min_samples_leaf=70, min_samples_split=2 \n",
      "[CV]  criterion=mse, max_depth=10, min_samples_leaf=70, min_samples_split=2, total=   0.7s\n",
      "[CV] criterion=mse, max_depth=10, min_samples_leaf=70, min_samples_split=2 \n",
      "[CV]  criterion=mse, max_depth=10, min_samples_leaf=70, min_samples_split=2, total=   0.7s\n",
      "[CV] criterion=mse, max_depth=10, min_samples_leaf=70, min_samples_split=4 \n",
      "[CV]  criterion=mse, max_depth=10, min_samples_leaf=70, min_samples_split=4, total=   0.7s\n",
      "[CV] criterion=mse, max_depth=10, min_samples_leaf=70, min_samples_split=4 \n",
      "[CV]  criterion=mse, max_depth=10, min_samples_leaf=70, min_samples_split=4, total=   0.7s\n",
      "[CV] criterion=mse, max_depth=10, min_samples_leaf=70, min_samples_split=4 \n",
      "[CV]  criterion=mse, max_depth=10, min_samples_leaf=70, min_samples_split=4, total=   0.7s\n",
      "[CV] criterion=mse, max_depth=10, min_samples_leaf=70, min_samples_split=6 \n",
      "[CV]  criterion=mse, max_depth=10, min_samples_leaf=70, min_samples_split=6, total=   0.7s\n",
      "[CV] criterion=mse, max_depth=10, min_samples_leaf=70, min_samples_split=6 \n",
      "[CV]  criterion=mse, max_depth=10, min_samples_leaf=70, min_samples_split=6, total=   0.7s\n",
      "[CV] criterion=mse, max_depth=10, min_samples_leaf=70, min_samples_split=6 \n",
      "[CV]  criterion=mse, max_depth=10, min_samples_leaf=70, min_samples_split=6, total=   0.7s\n",
      "[CV] criterion=mse, max_depth=10, min_samples_leaf=70, min_samples_split=10 \n",
      "[CV]  criterion=mse, max_depth=10, min_samples_leaf=70, min_samples_split=10, total=   0.7s\n",
      "[CV] criterion=mse, max_depth=10, min_samples_leaf=70, min_samples_split=10 \n",
      "[CV]  criterion=mse, max_depth=10, min_samples_leaf=70, min_samples_split=10, total=   0.7s\n",
      "[CV] criterion=mse, max_depth=10, min_samples_leaf=70, min_samples_split=10 \n",
      "[CV]  criterion=mse, max_depth=10, min_samples_leaf=70, min_samples_split=10, total=   0.7s\n",
      "[CV] criterion=mse, max_depth=10, min_samples_leaf=70, min_samples_split=20 \n",
      "[CV]  criterion=mse, max_depth=10, min_samples_leaf=70, min_samples_split=20, total=   0.7s\n",
      "[CV] criterion=mse, max_depth=10, min_samples_leaf=70, min_samples_split=20 \n",
      "[CV]  criterion=mse, max_depth=10, min_samples_leaf=70, min_samples_split=20, total=   0.7s\n",
      "[CV] criterion=mse, max_depth=10, min_samples_leaf=70, min_samples_split=20 \n",
      "[CV]  criterion=mse, max_depth=10, min_samples_leaf=70, min_samples_split=20, total=   0.7s\n",
      "[CV] criterion=mse, max_depth=10, min_samples_leaf=100, min_samples_split=2 \n"
     ]
    },
    {
     "name": "stdout",
     "output_type": "stream",
     "text": [
      "[CV]  criterion=mse, max_depth=10, min_samples_leaf=100, min_samples_split=2, total=   0.7s\n",
      "[CV] criterion=mse, max_depth=10, min_samples_leaf=100, min_samples_split=2 \n",
      "[CV]  criterion=mse, max_depth=10, min_samples_leaf=100, min_samples_split=2, total=   0.6s\n",
      "[CV] criterion=mse, max_depth=10, min_samples_leaf=100, min_samples_split=2 \n",
      "[CV]  criterion=mse, max_depth=10, min_samples_leaf=100, min_samples_split=2, total=   0.6s\n",
      "[CV] criterion=mse, max_depth=10, min_samples_leaf=100, min_samples_split=4 \n",
      "[CV]  criterion=mse, max_depth=10, min_samples_leaf=100, min_samples_split=4, total=   0.6s\n",
      "[CV] criterion=mse, max_depth=10, min_samples_leaf=100, min_samples_split=4 \n",
      "[CV]  criterion=mse, max_depth=10, min_samples_leaf=100, min_samples_split=4, total=   0.6s\n",
      "[CV] criterion=mse, max_depth=10, min_samples_leaf=100, min_samples_split=4 \n",
      "[CV]  criterion=mse, max_depth=10, min_samples_leaf=100, min_samples_split=4, total=   0.7s\n",
      "[CV] criterion=mse, max_depth=10, min_samples_leaf=100, min_samples_split=6 \n",
      "[CV]  criterion=mse, max_depth=10, min_samples_leaf=100, min_samples_split=6, total=   0.7s\n",
      "[CV] criterion=mse, max_depth=10, min_samples_leaf=100, min_samples_split=6 \n",
      "[CV]  criterion=mse, max_depth=10, min_samples_leaf=100, min_samples_split=6, total=   0.7s\n",
      "[CV] criterion=mse, max_depth=10, min_samples_leaf=100, min_samples_split=6 \n",
      "[CV]  criterion=mse, max_depth=10, min_samples_leaf=100, min_samples_split=6, total=   0.6s\n",
      "[CV] criterion=mse, max_depth=10, min_samples_leaf=100, min_samples_split=10 \n",
      "[CV]  criterion=mse, max_depth=10, min_samples_leaf=100, min_samples_split=10, total=   0.6s\n",
      "[CV] criterion=mse, max_depth=10, min_samples_leaf=100, min_samples_split=10 \n",
      "[CV]  criterion=mse, max_depth=10, min_samples_leaf=100, min_samples_split=10, total=   0.6s\n",
      "[CV] criterion=mse, max_depth=10, min_samples_leaf=100, min_samples_split=10 \n",
      "[CV]  criterion=mse, max_depth=10, min_samples_leaf=100, min_samples_split=10, total=   0.6s\n",
      "[CV] criterion=mse, max_depth=10, min_samples_leaf=100, min_samples_split=20 \n",
      "[CV]  criterion=mse, max_depth=10, min_samples_leaf=100, min_samples_split=20, total=   0.6s\n",
      "[CV] criterion=mse, max_depth=10, min_samples_leaf=100, min_samples_split=20 \n",
      "[CV]  criterion=mse, max_depth=10, min_samples_leaf=100, min_samples_split=20, total=   0.6s\n",
      "[CV] criterion=mse, max_depth=10, min_samples_leaf=100, min_samples_split=20 \n",
      "[CV]  criterion=mse, max_depth=10, min_samples_leaf=100, min_samples_split=20, total=   0.6s\n",
      "[CV] criterion=mse, max_depth=None, min_samples_leaf=1, min_samples_split=2 \n",
      "[CV]  criterion=mse, max_depth=None, min_samples_leaf=1, min_samples_split=2, total=   1.6s\n",
      "[CV] criterion=mse, max_depth=None, min_samples_leaf=1, min_samples_split=2 \n",
      "[CV]  criterion=mse, max_depth=None, min_samples_leaf=1, min_samples_split=2, total=   1.7s\n",
      "[CV] criterion=mse, max_depth=None, min_samples_leaf=1, min_samples_split=2 \n",
      "[CV]  criterion=mse, max_depth=None, min_samples_leaf=1, min_samples_split=2, total=   1.6s\n",
      "[CV] criterion=mse, max_depth=None, min_samples_leaf=1, min_samples_split=4 \n",
      "[CV]  criterion=mse, max_depth=None, min_samples_leaf=1, min_samples_split=4, total=   1.6s\n",
      "[CV] criterion=mse, max_depth=None, min_samples_leaf=1, min_samples_split=4 \n",
      "[CV]  criterion=mse, max_depth=None, min_samples_leaf=1, min_samples_split=4, total=   1.7s\n",
      "[CV] criterion=mse, max_depth=None, min_samples_leaf=1, min_samples_split=4 \n",
      "[CV]  criterion=mse, max_depth=None, min_samples_leaf=1, min_samples_split=4, total=   1.6s\n",
      "[CV] criterion=mse, max_depth=None, min_samples_leaf=1, min_samples_split=6 \n",
      "[CV]  criterion=mse, max_depth=None, min_samples_leaf=1, min_samples_split=6, total=   1.6s\n",
      "[CV] criterion=mse, max_depth=None, min_samples_leaf=1, min_samples_split=6 \n",
      "[CV]  criterion=mse, max_depth=None, min_samples_leaf=1, min_samples_split=6, total=   1.7s\n",
      "[CV] criterion=mse, max_depth=None, min_samples_leaf=1, min_samples_split=6 \n",
      "[CV]  criterion=mse, max_depth=None, min_samples_leaf=1, min_samples_split=6, total=   1.6s\n",
      "[CV] criterion=mse, max_depth=None, min_samples_leaf=1, min_samples_split=10 \n",
      "[CV]  criterion=mse, max_depth=None, min_samples_leaf=1, min_samples_split=10, total=   1.6s\n",
      "[CV] criterion=mse, max_depth=None, min_samples_leaf=1, min_samples_split=10 \n",
      "[CV]  criterion=mse, max_depth=None, min_samples_leaf=1, min_samples_split=10, total=   1.6s\n",
      "[CV] criterion=mse, max_depth=None, min_samples_leaf=1, min_samples_split=10 \n",
      "[CV]  criterion=mse, max_depth=None, min_samples_leaf=1, min_samples_split=10, total=   1.5s\n",
      "[CV] criterion=mse, max_depth=None, min_samples_leaf=1, min_samples_split=20 \n",
      "[CV]  criterion=mse, max_depth=None, min_samples_leaf=1, min_samples_split=20, total=   1.5s\n",
      "[CV] criterion=mse, max_depth=None, min_samples_leaf=1, min_samples_split=20 \n",
      "[CV]  criterion=mse, max_depth=None, min_samples_leaf=1, min_samples_split=20, total=   1.6s\n",
      "[CV] criterion=mse, max_depth=None, min_samples_leaf=1, min_samples_split=20 \n",
      "[CV]  criterion=mse, max_depth=None, min_samples_leaf=1, min_samples_split=20, total=   1.5s\n",
      "[CV] criterion=mse, max_depth=None, min_samples_leaf=5, min_samples_split=2 \n",
      "[CV]  criterion=mse, max_depth=None, min_samples_leaf=5, min_samples_split=2, total=   1.4s\n",
      "[CV] criterion=mse, max_depth=None, min_samples_leaf=5, min_samples_split=2 \n",
      "[CV]  criterion=mse, max_depth=None, min_samples_leaf=5, min_samples_split=2, total=   1.4s\n",
      "[CV] criterion=mse, max_depth=None, min_samples_leaf=5, min_samples_split=2 \n",
      "[CV]  criterion=mse, max_depth=None, min_samples_leaf=5, min_samples_split=2, total=   1.4s\n",
      "[CV] criterion=mse, max_depth=None, min_samples_leaf=5, min_samples_split=4 \n",
      "[CV]  criterion=mse, max_depth=None, min_samples_leaf=5, min_samples_split=4, total=   1.4s\n",
      "[CV] criterion=mse, max_depth=None, min_samples_leaf=5, min_samples_split=4 \n",
      "[CV]  criterion=mse, max_depth=None, min_samples_leaf=5, min_samples_split=4, total=   1.4s\n",
      "[CV] criterion=mse, max_depth=None, min_samples_leaf=5, min_samples_split=4 \n",
      "[CV]  criterion=mse, max_depth=None, min_samples_leaf=5, min_samples_split=4, total=   1.4s\n",
      "[CV] criterion=mse, max_depth=None, min_samples_leaf=5, min_samples_split=6 \n",
      "[CV]  criterion=mse, max_depth=None, min_samples_leaf=5, min_samples_split=6, total=   1.4s\n",
      "[CV] criterion=mse, max_depth=None, min_samples_leaf=5, min_samples_split=6 \n",
      "[CV]  criterion=mse, max_depth=None, min_samples_leaf=5, min_samples_split=6, total=   1.4s\n",
      "[CV] criterion=mse, max_depth=None, min_samples_leaf=5, min_samples_split=6 \n",
      "[CV]  criterion=mse, max_depth=None, min_samples_leaf=5, min_samples_split=6, total=   1.4s\n",
      "[CV] criterion=mse, max_depth=None, min_samples_leaf=5, min_samples_split=10 \n",
      "[CV]  criterion=mse, max_depth=None, min_samples_leaf=5, min_samples_split=10, total=   1.4s\n",
      "[CV] criterion=mse, max_depth=None, min_samples_leaf=5, min_samples_split=10 \n",
      "[CV]  criterion=mse, max_depth=None, min_samples_leaf=5, min_samples_split=10, total=   1.4s\n",
      "[CV] criterion=mse, max_depth=None, min_samples_leaf=5, min_samples_split=10 \n",
      "[CV]  criterion=mse, max_depth=None, min_samples_leaf=5, min_samples_split=10, total=   1.4s\n",
      "[CV] criterion=mse, max_depth=None, min_samples_leaf=5, min_samples_split=20 \n",
      "[CV]  criterion=mse, max_depth=None, min_samples_leaf=5, min_samples_split=20, total=   1.4s\n",
      "[CV] criterion=mse, max_depth=None, min_samples_leaf=5, min_samples_split=20 \n",
      "[CV]  criterion=mse, max_depth=None, min_samples_leaf=5, min_samples_split=20, total=   1.4s\n",
      "[CV] criterion=mse, max_depth=None, min_samples_leaf=5, min_samples_split=20 \n",
      "[CV]  criterion=mse, max_depth=None, min_samples_leaf=5, min_samples_split=20, total=   1.4s\n",
      "[CV] criterion=mse, max_depth=None, min_samples_leaf=10, min_samples_split=2 \n",
      "[CV]  criterion=mse, max_depth=None, min_samples_leaf=10, min_samples_split=2, total=   1.3s\n",
      "[CV] criterion=mse, max_depth=None, min_samples_leaf=10, min_samples_split=2 \n",
      "[CV]  criterion=mse, max_depth=None, min_samples_leaf=10, min_samples_split=2, total=   1.3s\n",
      "[CV] criterion=mse, max_depth=None, min_samples_leaf=10, min_samples_split=2 \n",
      "[CV]  criterion=mse, max_depth=None, min_samples_leaf=10, min_samples_split=2, total=   1.3s\n",
      "[CV] criterion=mse, max_depth=None, min_samples_leaf=10, min_samples_split=4 \n",
      "[CV]  criterion=mse, max_depth=None, min_samples_leaf=10, min_samples_split=4, total=   1.3s\n",
      "[CV] criterion=mse, max_depth=None, min_samples_leaf=10, min_samples_split=4 \n"
     ]
    },
    {
     "name": "stdout",
     "output_type": "stream",
     "text": [
      "[CV]  criterion=mse, max_depth=None, min_samples_leaf=10, min_samples_split=4, total=   1.3s\n",
      "[CV] criterion=mse, max_depth=None, min_samples_leaf=10, min_samples_split=4 \n",
      "[CV]  criterion=mse, max_depth=None, min_samples_leaf=10, min_samples_split=4, total=   1.3s\n",
      "[CV] criterion=mse, max_depth=None, min_samples_leaf=10, min_samples_split=6 \n",
      "[CV]  criterion=mse, max_depth=None, min_samples_leaf=10, min_samples_split=6, total=   1.3s\n",
      "[CV] criterion=mse, max_depth=None, min_samples_leaf=10, min_samples_split=6 \n",
      "[CV]  criterion=mse, max_depth=None, min_samples_leaf=10, min_samples_split=6, total=   1.3s\n",
      "[CV] criterion=mse, max_depth=None, min_samples_leaf=10, min_samples_split=6 \n",
      "[CV]  criterion=mse, max_depth=None, min_samples_leaf=10, min_samples_split=6, total=   1.3s\n",
      "[CV] criterion=mse, max_depth=None, min_samples_leaf=10, min_samples_split=10 \n",
      "[CV]  criterion=mse, max_depth=None, min_samples_leaf=10, min_samples_split=10, total=   1.3s\n",
      "[CV] criterion=mse, max_depth=None, min_samples_leaf=10, min_samples_split=10 \n",
      "[CV]  criterion=mse, max_depth=None, min_samples_leaf=10, min_samples_split=10, total=   1.3s\n",
      "[CV] criterion=mse, max_depth=None, min_samples_leaf=10, min_samples_split=10 \n",
      "[CV]  criterion=mse, max_depth=None, min_samples_leaf=10, min_samples_split=10, total=   1.3s\n",
      "[CV] criterion=mse, max_depth=None, min_samples_leaf=10, min_samples_split=20 \n",
      "[CV]  criterion=mse, max_depth=None, min_samples_leaf=10, min_samples_split=20, total=   1.3s\n",
      "[CV] criterion=mse, max_depth=None, min_samples_leaf=10, min_samples_split=20 \n",
      "[CV]  criterion=mse, max_depth=None, min_samples_leaf=10, min_samples_split=20, total=   1.3s\n",
      "[CV] criterion=mse, max_depth=None, min_samples_leaf=10, min_samples_split=20 \n",
      "[CV]  criterion=mse, max_depth=None, min_samples_leaf=10, min_samples_split=20, total=   1.3s\n",
      "[CV] criterion=mse, max_depth=None, min_samples_leaf=30, min_samples_split=2 \n",
      "[CV]  criterion=mse, max_depth=None, min_samples_leaf=30, min_samples_split=2, total=   1.1s\n",
      "[CV] criterion=mse, max_depth=None, min_samples_leaf=30, min_samples_split=2 \n",
      "[CV]  criterion=mse, max_depth=None, min_samples_leaf=30, min_samples_split=2, total=   1.1s\n",
      "[CV] criterion=mse, max_depth=None, min_samples_leaf=30, min_samples_split=2 \n",
      "[CV]  criterion=mse, max_depth=None, min_samples_leaf=30, min_samples_split=2, total=   1.1s\n",
      "[CV] criterion=mse, max_depth=None, min_samples_leaf=30, min_samples_split=4 \n",
      "[CV]  criterion=mse, max_depth=None, min_samples_leaf=30, min_samples_split=4, total=   1.1s\n",
      "[CV] criterion=mse, max_depth=None, min_samples_leaf=30, min_samples_split=4 \n",
      "[CV]  criterion=mse, max_depth=None, min_samples_leaf=30, min_samples_split=4, total=   1.1s\n",
      "[CV] criterion=mse, max_depth=None, min_samples_leaf=30, min_samples_split=4 \n",
      "[CV]  criterion=mse, max_depth=None, min_samples_leaf=30, min_samples_split=4, total=   1.1s\n",
      "[CV] criterion=mse, max_depth=None, min_samples_leaf=30, min_samples_split=6 \n",
      "[CV]  criterion=mse, max_depth=None, min_samples_leaf=30, min_samples_split=6, total=   1.1s\n",
      "[CV] criterion=mse, max_depth=None, min_samples_leaf=30, min_samples_split=6 \n",
      "[CV]  criterion=mse, max_depth=None, min_samples_leaf=30, min_samples_split=6, total=   1.1s\n",
      "[CV] criterion=mse, max_depth=None, min_samples_leaf=30, min_samples_split=6 \n",
      "[CV]  criterion=mse, max_depth=None, min_samples_leaf=30, min_samples_split=6, total=   1.1s\n",
      "[CV] criterion=mse, max_depth=None, min_samples_leaf=30, min_samples_split=10 \n",
      "[CV]  criterion=mse, max_depth=None, min_samples_leaf=30, min_samples_split=10, total=   1.1s\n",
      "[CV] criterion=mse, max_depth=None, min_samples_leaf=30, min_samples_split=10 \n",
      "[CV]  criterion=mse, max_depth=None, min_samples_leaf=30, min_samples_split=10, total=   1.1s\n",
      "[CV] criterion=mse, max_depth=None, min_samples_leaf=30, min_samples_split=10 \n",
      "[CV]  criterion=mse, max_depth=None, min_samples_leaf=30, min_samples_split=10, total=   1.1s\n",
      "[CV] criterion=mse, max_depth=None, min_samples_leaf=30, min_samples_split=20 \n",
      "[CV]  criterion=mse, max_depth=None, min_samples_leaf=30, min_samples_split=20, total=   1.1s\n",
      "[CV] criterion=mse, max_depth=None, min_samples_leaf=30, min_samples_split=20 \n",
      "[CV]  criterion=mse, max_depth=None, min_samples_leaf=30, min_samples_split=20, total=   1.1s\n",
      "[CV] criterion=mse, max_depth=None, min_samples_leaf=30, min_samples_split=20 \n",
      "[CV]  criterion=mse, max_depth=None, min_samples_leaf=30, min_samples_split=20, total=   1.1s\n",
      "[CV] criterion=mse, max_depth=None, min_samples_leaf=50, min_samples_split=2 \n",
      "[CV]  criterion=mse, max_depth=None, min_samples_leaf=50, min_samples_split=2, total=   1.0s\n",
      "[CV] criterion=mse, max_depth=None, min_samples_leaf=50, min_samples_split=2 \n",
      "[CV]  criterion=mse, max_depth=None, min_samples_leaf=50, min_samples_split=2, total=   1.0s\n",
      "[CV] criterion=mse, max_depth=None, min_samples_leaf=50, min_samples_split=2 \n",
      "[CV]  criterion=mse, max_depth=None, min_samples_leaf=50, min_samples_split=2, total=   1.0s\n",
      "[CV] criterion=mse, max_depth=None, min_samples_leaf=50, min_samples_split=4 \n",
      "[CV]  criterion=mse, max_depth=None, min_samples_leaf=50, min_samples_split=4, total=   1.0s\n",
      "[CV] criterion=mse, max_depth=None, min_samples_leaf=50, min_samples_split=4 \n",
      "[CV]  criterion=mse, max_depth=None, min_samples_leaf=50, min_samples_split=4, total=   1.0s\n",
      "[CV] criterion=mse, max_depth=None, min_samples_leaf=50, min_samples_split=4 \n",
      "[CV]  criterion=mse, max_depth=None, min_samples_leaf=50, min_samples_split=4, total=   1.0s\n",
      "[CV] criterion=mse, max_depth=None, min_samples_leaf=50, min_samples_split=6 \n",
      "[CV]  criterion=mse, max_depth=None, min_samples_leaf=50, min_samples_split=6, total=   1.0s\n",
      "[CV] criterion=mse, max_depth=None, min_samples_leaf=50, min_samples_split=6 \n",
      "[CV]  criterion=mse, max_depth=None, min_samples_leaf=50, min_samples_split=6, total=   1.0s\n",
      "[CV] criterion=mse, max_depth=None, min_samples_leaf=50, min_samples_split=6 \n",
      "[CV]  criterion=mse, max_depth=None, min_samples_leaf=50, min_samples_split=6, total=   1.0s\n",
      "[CV] criterion=mse, max_depth=None, min_samples_leaf=50, min_samples_split=10 \n",
      "[CV]  criterion=mse, max_depth=None, min_samples_leaf=50, min_samples_split=10, total=   1.0s\n",
      "[CV] criterion=mse, max_depth=None, min_samples_leaf=50, min_samples_split=10 \n",
      "[CV]  criterion=mse, max_depth=None, min_samples_leaf=50, min_samples_split=10, total=   1.0s\n",
      "[CV] criterion=mse, max_depth=None, min_samples_leaf=50, min_samples_split=10 \n",
      "[CV]  criterion=mse, max_depth=None, min_samples_leaf=50, min_samples_split=10, total=   1.0s\n",
      "[CV] criterion=mse, max_depth=None, min_samples_leaf=50, min_samples_split=20 \n",
      "[CV]  criterion=mse, max_depth=None, min_samples_leaf=50, min_samples_split=20, total=   1.0s\n",
      "[CV] criterion=mse, max_depth=None, min_samples_leaf=50, min_samples_split=20 \n",
      "[CV]  criterion=mse, max_depth=None, min_samples_leaf=50, min_samples_split=20, total=   1.0s\n",
      "[CV] criterion=mse, max_depth=None, min_samples_leaf=50, min_samples_split=20 \n",
      "[CV]  criterion=mse, max_depth=None, min_samples_leaf=50, min_samples_split=20, total=   1.0s\n",
      "[CV] criterion=mse, max_depth=None, min_samples_leaf=70, min_samples_split=2 \n",
      "[CV]  criterion=mse, max_depth=None, min_samples_leaf=70, min_samples_split=2, total=   0.9s\n",
      "[CV] criterion=mse, max_depth=None, min_samples_leaf=70, min_samples_split=2 \n",
      "[CV]  criterion=mse, max_depth=None, min_samples_leaf=70, min_samples_split=2, total=   0.9s\n",
      "[CV] criterion=mse, max_depth=None, min_samples_leaf=70, min_samples_split=2 \n",
      "[CV]  criterion=mse, max_depth=None, min_samples_leaf=70, min_samples_split=2, total=   0.9s\n",
      "[CV] criterion=mse, max_depth=None, min_samples_leaf=70, min_samples_split=4 \n",
      "[CV]  criterion=mse, max_depth=None, min_samples_leaf=70, min_samples_split=4, total=   0.9s\n",
      "[CV] criterion=mse, max_depth=None, min_samples_leaf=70, min_samples_split=4 \n",
      "[CV]  criterion=mse, max_depth=None, min_samples_leaf=70, min_samples_split=4, total=   0.9s\n",
      "[CV] criterion=mse, max_depth=None, min_samples_leaf=70, min_samples_split=4 \n",
      "[CV]  criterion=mse, max_depth=None, min_samples_leaf=70, min_samples_split=4, total=   0.9s\n",
      "[CV] criterion=mse, max_depth=None, min_samples_leaf=70, min_samples_split=6 \n",
      "[CV]  criterion=mse, max_depth=None, min_samples_leaf=70, min_samples_split=6, total=   0.9s\n",
      "[CV] criterion=mse, max_depth=None, min_samples_leaf=70, min_samples_split=6 \n"
     ]
    },
    {
     "name": "stdout",
     "output_type": "stream",
     "text": [
      "[CV]  criterion=mse, max_depth=None, min_samples_leaf=70, min_samples_split=6, total=   0.9s\n",
      "[CV] criterion=mse, max_depth=None, min_samples_leaf=70, min_samples_split=6 \n",
      "[CV]  criterion=mse, max_depth=None, min_samples_leaf=70, min_samples_split=6, total=   0.9s\n",
      "[CV] criterion=mse, max_depth=None, min_samples_leaf=70, min_samples_split=10 \n",
      "[CV]  criterion=mse, max_depth=None, min_samples_leaf=70, min_samples_split=10, total=   0.9s\n",
      "[CV] criterion=mse, max_depth=None, min_samples_leaf=70, min_samples_split=10 \n",
      "[CV]  criterion=mse, max_depth=None, min_samples_leaf=70, min_samples_split=10, total=   0.9s\n",
      "[CV] criterion=mse, max_depth=None, min_samples_leaf=70, min_samples_split=10 \n",
      "[CV]  criterion=mse, max_depth=None, min_samples_leaf=70, min_samples_split=10, total=   0.9s\n",
      "[CV] criterion=mse, max_depth=None, min_samples_leaf=70, min_samples_split=20 \n",
      "[CV]  criterion=mse, max_depth=None, min_samples_leaf=70, min_samples_split=20, total=   0.9s\n",
      "[CV] criterion=mse, max_depth=None, min_samples_leaf=70, min_samples_split=20 \n",
      "[CV]  criterion=mse, max_depth=None, min_samples_leaf=70, min_samples_split=20, total=   0.9s\n",
      "[CV] criterion=mse, max_depth=None, min_samples_leaf=70, min_samples_split=20 \n",
      "[CV]  criterion=mse, max_depth=None, min_samples_leaf=70, min_samples_split=20, total=   0.9s\n",
      "[CV] criterion=mse, max_depth=None, min_samples_leaf=100, min_samples_split=2 \n",
      "[CV]  criterion=mse, max_depth=None, min_samples_leaf=100, min_samples_split=2, total=   0.8s\n",
      "[CV] criterion=mse, max_depth=None, min_samples_leaf=100, min_samples_split=2 \n",
      "[CV]  criterion=mse, max_depth=None, min_samples_leaf=100, min_samples_split=2, total=   0.9s\n",
      "[CV] criterion=mse, max_depth=None, min_samples_leaf=100, min_samples_split=2 \n",
      "[CV]  criterion=mse, max_depth=None, min_samples_leaf=100, min_samples_split=2, total=   0.9s\n",
      "[CV] criterion=mse, max_depth=None, min_samples_leaf=100, min_samples_split=4 \n",
      "[CV]  criterion=mse, max_depth=None, min_samples_leaf=100, min_samples_split=4, total=   0.8s\n",
      "[CV] criterion=mse, max_depth=None, min_samples_leaf=100, min_samples_split=4 \n",
      "[CV]  criterion=mse, max_depth=None, min_samples_leaf=100, min_samples_split=4, total=   0.8s\n",
      "[CV] criterion=mse, max_depth=None, min_samples_leaf=100, min_samples_split=4 \n",
      "[CV]  criterion=mse, max_depth=None, min_samples_leaf=100, min_samples_split=4, total=   0.9s\n",
      "[CV] criterion=mse, max_depth=None, min_samples_leaf=100, min_samples_split=6 \n",
      "[CV]  criterion=mse, max_depth=None, min_samples_leaf=100, min_samples_split=6, total=   0.8s\n",
      "[CV] criterion=mse, max_depth=None, min_samples_leaf=100, min_samples_split=6 \n",
      "[CV]  criterion=mse, max_depth=None, min_samples_leaf=100, min_samples_split=6, total=   0.9s\n",
      "[CV] criterion=mse, max_depth=None, min_samples_leaf=100, min_samples_split=6 \n",
      "[CV]  criterion=mse, max_depth=None, min_samples_leaf=100, min_samples_split=6, total=   0.9s\n",
      "[CV] criterion=mse, max_depth=None, min_samples_leaf=100, min_samples_split=10 \n",
      "[CV]  criterion=mse, max_depth=None, min_samples_leaf=100, min_samples_split=10, total=   0.8s\n",
      "[CV] criterion=mse, max_depth=None, min_samples_leaf=100, min_samples_split=10 \n",
      "[CV]  criterion=mse, max_depth=None, min_samples_leaf=100, min_samples_split=10, total=   0.9s\n",
      "[CV] criterion=mse, max_depth=None, min_samples_leaf=100, min_samples_split=10 \n",
      "[CV]  criterion=mse, max_depth=None, min_samples_leaf=100, min_samples_split=10, total=   0.9s\n",
      "[CV] criterion=mse, max_depth=None, min_samples_leaf=100, min_samples_split=20 \n",
      "[CV]  criterion=mse, max_depth=None, min_samples_leaf=100, min_samples_split=20, total=   0.8s\n",
      "[CV] criterion=mse, max_depth=None, min_samples_leaf=100, min_samples_split=20 \n",
      "[CV]  criterion=mse, max_depth=None, min_samples_leaf=100, min_samples_split=20, total=   0.9s\n",
      "[CV] criterion=mse, max_depth=None, min_samples_leaf=100, min_samples_split=20 \n",
      "[CV]  criterion=mse, max_depth=None, min_samples_leaf=100, min_samples_split=20, total=   0.9s\n",
      "[CV] criterion=friedman_mse, max_depth=2, min_samples_leaf=1, min_samples_split=2 \n",
      "[CV]  criterion=friedman_mse, max_depth=2, min_samples_leaf=1, min_samples_split=2, total=   0.1s\n",
      "[CV] criterion=friedman_mse, max_depth=2, min_samples_leaf=1, min_samples_split=2 \n",
      "[CV]  criterion=friedman_mse, max_depth=2, min_samples_leaf=1, min_samples_split=2, total=   0.1s\n",
      "[CV] criterion=friedman_mse, max_depth=2, min_samples_leaf=1, min_samples_split=2 \n",
      "[CV]  criterion=friedman_mse, max_depth=2, min_samples_leaf=1, min_samples_split=2, total=   0.1s\n",
      "[CV] criterion=friedman_mse, max_depth=2, min_samples_leaf=1, min_samples_split=4 \n",
      "[CV]  criterion=friedman_mse, max_depth=2, min_samples_leaf=1, min_samples_split=4, total=   0.1s\n",
      "[CV] criterion=friedman_mse, max_depth=2, min_samples_leaf=1, min_samples_split=4 \n",
      "[CV]  criterion=friedman_mse, max_depth=2, min_samples_leaf=1, min_samples_split=4, total=   0.1s\n",
      "[CV] criterion=friedman_mse, max_depth=2, min_samples_leaf=1, min_samples_split=4 \n",
      "[CV]  criterion=friedman_mse, max_depth=2, min_samples_leaf=1, min_samples_split=4, total=   0.1s\n",
      "[CV] criterion=friedman_mse, max_depth=2, min_samples_leaf=1, min_samples_split=6 \n",
      "[CV]  criterion=friedman_mse, max_depth=2, min_samples_leaf=1, min_samples_split=6, total=   0.1s\n",
      "[CV] criterion=friedman_mse, max_depth=2, min_samples_leaf=1, min_samples_split=6 \n",
      "[CV]  criterion=friedman_mse, max_depth=2, min_samples_leaf=1, min_samples_split=6, total=   0.1s\n",
      "[CV] criterion=friedman_mse, max_depth=2, min_samples_leaf=1, min_samples_split=6 \n",
      "[CV]  criterion=friedman_mse, max_depth=2, min_samples_leaf=1, min_samples_split=6, total=   0.1s\n",
      "[CV] criterion=friedman_mse, max_depth=2, min_samples_leaf=1, min_samples_split=10 \n",
      "[CV]  criterion=friedman_mse, max_depth=2, min_samples_leaf=1, min_samples_split=10, total=   0.1s\n",
      "[CV] criterion=friedman_mse, max_depth=2, min_samples_leaf=1, min_samples_split=10 \n",
      "[CV]  criterion=friedman_mse, max_depth=2, min_samples_leaf=1, min_samples_split=10, total=   0.1s\n",
      "[CV] criterion=friedman_mse, max_depth=2, min_samples_leaf=1, min_samples_split=10 \n",
      "[CV]  criterion=friedman_mse, max_depth=2, min_samples_leaf=1, min_samples_split=10, total=   0.1s\n",
      "[CV] criterion=friedman_mse, max_depth=2, min_samples_leaf=1, min_samples_split=20 \n",
      "[CV]  criterion=friedman_mse, max_depth=2, min_samples_leaf=1, min_samples_split=20, total=   0.1s\n",
      "[CV] criterion=friedman_mse, max_depth=2, min_samples_leaf=1, min_samples_split=20 \n",
      "[CV]  criterion=friedman_mse, max_depth=2, min_samples_leaf=1, min_samples_split=20, total=   0.1s\n",
      "[CV] criterion=friedman_mse, max_depth=2, min_samples_leaf=1, min_samples_split=20 \n",
      "[CV]  criterion=friedman_mse, max_depth=2, min_samples_leaf=1, min_samples_split=20, total=   0.1s\n",
      "[CV] criterion=friedman_mse, max_depth=2, min_samples_leaf=5, min_samples_split=2 \n",
      "[CV]  criterion=friedman_mse, max_depth=2, min_samples_leaf=5, min_samples_split=2, total=   0.1s\n",
      "[CV] criterion=friedman_mse, max_depth=2, min_samples_leaf=5, min_samples_split=2 \n",
      "[CV]  criterion=friedman_mse, max_depth=2, min_samples_leaf=5, min_samples_split=2, total=   0.1s\n",
      "[CV] criterion=friedman_mse, max_depth=2, min_samples_leaf=5, min_samples_split=2 \n",
      "[CV]  criterion=friedman_mse, max_depth=2, min_samples_leaf=5, min_samples_split=2, total=   0.1s\n",
      "[CV] criterion=friedman_mse, max_depth=2, min_samples_leaf=5, min_samples_split=4 \n",
      "[CV]  criterion=friedman_mse, max_depth=2, min_samples_leaf=5, min_samples_split=4, total=   0.1s\n",
      "[CV] criterion=friedman_mse, max_depth=2, min_samples_leaf=5, min_samples_split=4 \n",
      "[CV]  criterion=friedman_mse, max_depth=2, min_samples_leaf=5, min_samples_split=4, total=   0.1s\n",
      "[CV] criterion=friedman_mse, max_depth=2, min_samples_leaf=5, min_samples_split=4 \n",
      "[CV]  criterion=friedman_mse, max_depth=2, min_samples_leaf=5, min_samples_split=4, total=   0.1s\n",
      "[CV] criterion=friedman_mse, max_depth=2, min_samples_leaf=5, min_samples_split=6 \n",
      "[CV]  criterion=friedman_mse, max_depth=2, min_samples_leaf=5, min_samples_split=6, total=   0.1s\n",
      "[CV] criterion=friedman_mse, max_depth=2, min_samples_leaf=5, min_samples_split=6 \n",
      "[CV]  criterion=friedman_mse, max_depth=2, min_samples_leaf=5, min_samples_split=6, total=   0.1s\n",
      "[CV] criterion=friedman_mse, max_depth=2, min_samples_leaf=5, min_samples_split=6 \n",
      "[CV]  criterion=friedman_mse, max_depth=2, min_samples_leaf=5, min_samples_split=6, total=   0.1s\n",
      "[CV] criterion=friedman_mse, max_depth=2, min_samples_leaf=5, min_samples_split=10 \n"
     ]
    },
    {
     "name": "stdout",
     "output_type": "stream",
     "text": [
      "[CV]  criterion=friedman_mse, max_depth=2, min_samples_leaf=5, min_samples_split=10, total=   0.1s\n",
      "[CV] criterion=friedman_mse, max_depth=2, min_samples_leaf=5, min_samples_split=10 \n",
      "[CV]  criterion=friedman_mse, max_depth=2, min_samples_leaf=5, min_samples_split=10, total=   0.1s\n",
      "[CV] criterion=friedman_mse, max_depth=2, min_samples_leaf=5, min_samples_split=10 \n",
      "[CV]  criterion=friedman_mse, max_depth=2, min_samples_leaf=5, min_samples_split=10, total=   0.1s\n",
      "[CV] criterion=friedman_mse, max_depth=2, min_samples_leaf=5, min_samples_split=20 \n",
      "[CV]  criterion=friedman_mse, max_depth=2, min_samples_leaf=5, min_samples_split=20, total=   0.1s\n",
      "[CV] criterion=friedman_mse, max_depth=2, min_samples_leaf=5, min_samples_split=20 \n",
      "[CV]  criterion=friedman_mse, max_depth=2, min_samples_leaf=5, min_samples_split=20, total=   0.1s\n",
      "[CV] criterion=friedman_mse, max_depth=2, min_samples_leaf=5, min_samples_split=20 \n",
      "[CV]  criterion=friedman_mse, max_depth=2, min_samples_leaf=5, min_samples_split=20, total=   0.1s\n",
      "[CV] criterion=friedman_mse, max_depth=2, min_samples_leaf=10, min_samples_split=2 \n",
      "[CV]  criterion=friedman_mse, max_depth=2, min_samples_leaf=10, min_samples_split=2, total=   0.1s\n",
      "[CV] criterion=friedman_mse, max_depth=2, min_samples_leaf=10, min_samples_split=2 \n",
      "[CV]  criterion=friedman_mse, max_depth=2, min_samples_leaf=10, min_samples_split=2, total=   0.1s\n",
      "[CV] criterion=friedman_mse, max_depth=2, min_samples_leaf=10, min_samples_split=2 \n",
      "[CV]  criterion=friedman_mse, max_depth=2, min_samples_leaf=10, min_samples_split=2, total=   0.1s\n",
      "[CV] criterion=friedman_mse, max_depth=2, min_samples_leaf=10, min_samples_split=4 \n",
      "[CV]  criterion=friedman_mse, max_depth=2, min_samples_leaf=10, min_samples_split=4, total=   0.1s\n",
      "[CV] criterion=friedman_mse, max_depth=2, min_samples_leaf=10, min_samples_split=4 \n",
      "[CV]  criterion=friedman_mse, max_depth=2, min_samples_leaf=10, min_samples_split=4, total=   0.1s\n",
      "[CV] criterion=friedman_mse, max_depth=2, min_samples_leaf=10, min_samples_split=4 \n",
      "[CV]  criterion=friedman_mse, max_depth=2, min_samples_leaf=10, min_samples_split=4, total=   0.1s\n",
      "[CV] criterion=friedman_mse, max_depth=2, min_samples_leaf=10, min_samples_split=6 \n",
      "[CV]  criterion=friedman_mse, max_depth=2, min_samples_leaf=10, min_samples_split=6, total=   0.1s\n",
      "[CV] criterion=friedman_mse, max_depth=2, min_samples_leaf=10, min_samples_split=6 \n",
      "[CV]  criterion=friedman_mse, max_depth=2, min_samples_leaf=10, min_samples_split=6, total=   0.1s\n",
      "[CV] criterion=friedman_mse, max_depth=2, min_samples_leaf=10, min_samples_split=6 \n",
      "[CV]  criterion=friedman_mse, max_depth=2, min_samples_leaf=10, min_samples_split=6, total=   0.1s\n",
      "[CV] criterion=friedman_mse, max_depth=2, min_samples_leaf=10, min_samples_split=10 \n",
      "[CV]  criterion=friedman_mse, max_depth=2, min_samples_leaf=10, min_samples_split=10, total=   0.1s\n",
      "[CV] criterion=friedman_mse, max_depth=2, min_samples_leaf=10, min_samples_split=10 \n",
      "[CV]  criterion=friedman_mse, max_depth=2, min_samples_leaf=10, min_samples_split=10, total=   0.1s\n",
      "[CV] criterion=friedman_mse, max_depth=2, min_samples_leaf=10, min_samples_split=10 \n",
      "[CV]  criterion=friedman_mse, max_depth=2, min_samples_leaf=10, min_samples_split=10, total=   0.1s\n",
      "[CV] criterion=friedman_mse, max_depth=2, min_samples_leaf=10, min_samples_split=20 \n",
      "[CV]  criterion=friedman_mse, max_depth=2, min_samples_leaf=10, min_samples_split=20, total=   0.1s\n",
      "[CV] criterion=friedman_mse, max_depth=2, min_samples_leaf=10, min_samples_split=20 \n",
      "[CV]  criterion=friedman_mse, max_depth=2, min_samples_leaf=10, min_samples_split=20, total=   0.1s\n",
      "[CV] criterion=friedman_mse, max_depth=2, min_samples_leaf=10, min_samples_split=20 \n",
      "[CV]  criterion=friedman_mse, max_depth=2, min_samples_leaf=10, min_samples_split=20, total=   0.1s\n",
      "[CV] criterion=friedman_mse, max_depth=2, min_samples_leaf=30, min_samples_split=2 \n",
      "[CV]  criterion=friedman_mse, max_depth=2, min_samples_leaf=30, min_samples_split=2, total=   0.1s\n",
      "[CV] criterion=friedman_mse, max_depth=2, min_samples_leaf=30, min_samples_split=2 \n",
      "[CV]  criterion=friedman_mse, max_depth=2, min_samples_leaf=30, min_samples_split=2, total=   0.1s\n",
      "[CV] criterion=friedman_mse, max_depth=2, min_samples_leaf=30, min_samples_split=2 \n",
      "[CV]  criterion=friedman_mse, max_depth=2, min_samples_leaf=30, min_samples_split=2, total=   0.1s\n",
      "[CV] criterion=friedman_mse, max_depth=2, min_samples_leaf=30, min_samples_split=4 \n",
      "[CV]  criterion=friedman_mse, max_depth=2, min_samples_leaf=30, min_samples_split=4, total=   0.1s\n",
      "[CV] criterion=friedman_mse, max_depth=2, min_samples_leaf=30, min_samples_split=4 \n",
      "[CV]  criterion=friedman_mse, max_depth=2, min_samples_leaf=30, min_samples_split=4, total=   0.1s\n",
      "[CV] criterion=friedman_mse, max_depth=2, min_samples_leaf=30, min_samples_split=4 \n",
      "[CV]  criterion=friedman_mse, max_depth=2, min_samples_leaf=30, min_samples_split=4, total=   0.1s\n",
      "[CV] criterion=friedman_mse, max_depth=2, min_samples_leaf=30, min_samples_split=6 \n",
      "[CV]  criterion=friedman_mse, max_depth=2, min_samples_leaf=30, min_samples_split=6, total=   0.1s\n",
      "[CV] criterion=friedman_mse, max_depth=2, min_samples_leaf=30, min_samples_split=6 \n",
      "[CV]  criterion=friedman_mse, max_depth=2, min_samples_leaf=30, min_samples_split=6, total=   0.1s\n",
      "[CV] criterion=friedman_mse, max_depth=2, min_samples_leaf=30, min_samples_split=6 \n",
      "[CV]  criterion=friedman_mse, max_depth=2, min_samples_leaf=30, min_samples_split=6, total=   0.1s\n",
      "[CV] criterion=friedman_mse, max_depth=2, min_samples_leaf=30, min_samples_split=10 \n",
      "[CV]  criterion=friedman_mse, max_depth=2, min_samples_leaf=30, min_samples_split=10, total=   0.1s\n",
      "[CV] criterion=friedman_mse, max_depth=2, min_samples_leaf=30, min_samples_split=10 \n",
      "[CV]  criterion=friedman_mse, max_depth=2, min_samples_leaf=30, min_samples_split=10, total=   0.1s\n",
      "[CV] criterion=friedman_mse, max_depth=2, min_samples_leaf=30, min_samples_split=10 \n",
      "[CV]  criterion=friedman_mse, max_depth=2, min_samples_leaf=30, min_samples_split=10, total=   0.1s\n",
      "[CV] criterion=friedman_mse, max_depth=2, min_samples_leaf=30, min_samples_split=20 \n",
      "[CV]  criterion=friedman_mse, max_depth=2, min_samples_leaf=30, min_samples_split=20, total=   0.1s\n",
      "[CV] criterion=friedman_mse, max_depth=2, min_samples_leaf=30, min_samples_split=20 \n",
      "[CV]  criterion=friedman_mse, max_depth=2, min_samples_leaf=30, min_samples_split=20, total=   0.1s\n",
      "[CV] criterion=friedman_mse, max_depth=2, min_samples_leaf=30, min_samples_split=20 \n",
      "[CV]  criterion=friedman_mse, max_depth=2, min_samples_leaf=30, min_samples_split=20, total=   0.1s\n",
      "[CV] criterion=friedman_mse, max_depth=2, min_samples_leaf=50, min_samples_split=2 \n",
      "[CV]  criterion=friedman_mse, max_depth=2, min_samples_leaf=50, min_samples_split=2, total=   0.1s\n",
      "[CV] criterion=friedman_mse, max_depth=2, min_samples_leaf=50, min_samples_split=2 \n",
      "[CV]  criterion=friedman_mse, max_depth=2, min_samples_leaf=50, min_samples_split=2, total=   0.1s\n",
      "[CV] criterion=friedman_mse, max_depth=2, min_samples_leaf=50, min_samples_split=2 \n",
      "[CV]  criterion=friedman_mse, max_depth=2, min_samples_leaf=50, min_samples_split=2, total=   0.1s\n",
      "[CV] criterion=friedman_mse, max_depth=2, min_samples_leaf=50, min_samples_split=4 \n",
      "[CV]  criterion=friedman_mse, max_depth=2, min_samples_leaf=50, min_samples_split=4, total=   0.1s\n",
      "[CV] criterion=friedman_mse, max_depth=2, min_samples_leaf=50, min_samples_split=4 \n",
      "[CV]  criterion=friedman_mse, max_depth=2, min_samples_leaf=50, min_samples_split=4, total=   0.1s\n",
      "[CV] criterion=friedman_mse, max_depth=2, min_samples_leaf=50, min_samples_split=4 \n",
      "[CV]  criterion=friedman_mse, max_depth=2, min_samples_leaf=50, min_samples_split=4, total=   0.1s\n",
      "[CV] criterion=friedman_mse, max_depth=2, min_samples_leaf=50, min_samples_split=6 \n",
      "[CV]  criterion=friedman_mse, max_depth=2, min_samples_leaf=50, min_samples_split=6, total=   0.1s\n",
      "[CV] criterion=friedman_mse, max_depth=2, min_samples_leaf=50, min_samples_split=6 \n",
      "[CV]  criterion=friedman_mse, max_depth=2, min_samples_leaf=50, min_samples_split=6, total=   0.1s\n",
      "[CV] criterion=friedman_mse, max_depth=2, min_samples_leaf=50, min_samples_split=6 \n",
      "[CV]  criterion=friedman_mse, max_depth=2, min_samples_leaf=50, min_samples_split=6, total=   0.1s\n",
      "[CV] criterion=friedman_mse, max_depth=2, min_samples_leaf=50, min_samples_split=10 \n"
     ]
    },
    {
     "name": "stdout",
     "output_type": "stream",
     "text": [
      "[CV]  criterion=friedman_mse, max_depth=2, min_samples_leaf=50, min_samples_split=10, total=   0.1s\n",
      "[CV] criterion=friedman_mse, max_depth=2, min_samples_leaf=50, min_samples_split=10 \n",
      "[CV]  criterion=friedman_mse, max_depth=2, min_samples_leaf=50, min_samples_split=10, total=   0.1s\n",
      "[CV] criterion=friedman_mse, max_depth=2, min_samples_leaf=50, min_samples_split=10 \n",
      "[CV]  criterion=friedman_mse, max_depth=2, min_samples_leaf=50, min_samples_split=10, total=   0.1s\n",
      "[CV] criterion=friedman_mse, max_depth=2, min_samples_leaf=50, min_samples_split=20 \n",
      "[CV]  criterion=friedman_mse, max_depth=2, min_samples_leaf=50, min_samples_split=20, total=   0.1s\n",
      "[CV] criterion=friedman_mse, max_depth=2, min_samples_leaf=50, min_samples_split=20 \n",
      "[CV]  criterion=friedman_mse, max_depth=2, min_samples_leaf=50, min_samples_split=20, total=   0.1s\n",
      "[CV] criterion=friedman_mse, max_depth=2, min_samples_leaf=50, min_samples_split=20 \n",
      "[CV]  criterion=friedman_mse, max_depth=2, min_samples_leaf=50, min_samples_split=20, total=   0.1s\n",
      "[CV] criterion=friedman_mse, max_depth=2, min_samples_leaf=70, min_samples_split=2 \n",
      "[CV]  criterion=friedman_mse, max_depth=2, min_samples_leaf=70, min_samples_split=2, total=   0.1s\n",
      "[CV] criterion=friedman_mse, max_depth=2, min_samples_leaf=70, min_samples_split=2 \n",
      "[CV]  criterion=friedman_mse, max_depth=2, min_samples_leaf=70, min_samples_split=2, total=   0.1s\n",
      "[CV] criterion=friedman_mse, max_depth=2, min_samples_leaf=70, min_samples_split=2 \n",
      "[CV]  criterion=friedman_mse, max_depth=2, min_samples_leaf=70, min_samples_split=2, total=   0.1s\n",
      "[CV] criterion=friedman_mse, max_depth=2, min_samples_leaf=70, min_samples_split=4 \n",
      "[CV]  criterion=friedman_mse, max_depth=2, min_samples_leaf=70, min_samples_split=4, total=   0.1s\n",
      "[CV] criterion=friedman_mse, max_depth=2, min_samples_leaf=70, min_samples_split=4 \n",
      "[CV]  criterion=friedman_mse, max_depth=2, min_samples_leaf=70, min_samples_split=4, total=   0.1s\n",
      "[CV] criterion=friedman_mse, max_depth=2, min_samples_leaf=70, min_samples_split=4 \n",
      "[CV]  criterion=friedman_mse, max_depth=2, min_samples_leaf=70, min_samples_split=4, total=   0.1s\n",
      "[CV] criterion=friedman_mse, max_depth=2, min_samples_leaf=70, min_samples_split=6 \n",
      "[CV]  criterion=friedman_mse, max_depth=2, min_samples_leaf=70, min_samples_split=6, total=   0.1s\n",
      "[CV] criterion=friedman_mse, max_depth=2, min_samples_leaf=70, min_samples_split=6 \n",
      "[CV]  criterion=friedman_mse, max_depth=2, min_samples_leaf=70, min_samples_split=6, total=   0.1s\n",
      "[CV] criterion=friedman_mse, max_depth=2, min_samples_leaf=70, min_samples_split=6 \n",
      "[CV]  criterion=friedman_mse, max_depth=2, min_samples_leaf=70, min_samples_split=6, total=   0.1s\n",
      "[CV] criterion=friedman_mse, max_depth=2, min_samples_leaf=70, min_samples_split=10 \n",
      "[CV]  criterion=friedman_mse, max_depth=2, min_samples_leaf=70, min_samples_split=10, total=   0.1s\n",
      "[CV] criterion=friedman_mse, max_depth=2, min_samples_leaf=70, min_samples_split=10 \n",
      "[CV]  criterion=friedman_mse, max_depth=2, min_samples_leaf=70, min_samples_split=10, total=   0.1s\n",
      "[CV] criterion=friedman_mse, max_depth=2, min_samples_leaf=70, min_samples_split=10 \n",
      "[CV]  criterion=friedman_mse, max_depth=2, min_samples_leaf=70, min_samples_split=10, total=   0.1s\n",
      "[CV] criterion=friedman_mse, max_depth=2, min_samples_leaf=70, min_samples_split=20 \n",
      "[CV]  criterion=friedman_mse, max_depth=2, min_samples_leaf=70, min_samples_split=20, total=   0.1s\n",
      "[CV] criterion=friedman_mse, max_depth=2, min_samples_leaf=70, min_samples_split=20 \n",
      "[CV]  criterion=friedman_mse, max_depth=2, min_samples_leaf=70, min_samples_split=20, total=   0.1s\n",
      "[CV] criterion=friedman_mse, max_depth=2, min_samples_leaf=70, min_samples_split=20 \n",
      "[CV]  criterion=friedman_mse, max_depth=2, min_samples_leaf=70, min_samples_split=20, total=   0.1s\n",
      "[CV] criterion=friedman_mse, max_depth=2, min_samples_leaf=100, min_samples_split=2 \n",
      "[CV]  criterion=friedman_mse, max_depth=2, min_samples_leaf=100, min_samples_split=2, total=   0.1s\n",
      "[CV] criterion=friedman_mse, max_depth=2, min_samples_leaf=100, min_samples_split=2 \n",
      "[CV]  criterion=friedman_mse, max_depth=2, min_samples_leaf=100, min_samples_split=2, total=   0.1s\n",
      "[CV] criterion=friedman_mse, max_depth=2, min_samples_leaf=100, min_samples_split=2 \n",
      "[CV]  criterion=friedman_mse, max_depth=2, min_samples_leaf=100, min_samples_split=2, total=   0.1s\n",
      "[CV] criterion=friedman_mse, max_depth=2, min_samples_leaf=100, min_samples_split=4 \n",
      "[CV]  criterion=friedman_mse, max_depth=2, min_samples_leaf=100, min_samples_split=4, total=   0.1s\n",
      "[CV] criterion=friedman_mse, max_depth=2, min_samples_leaf=100, min_samples_split=4 \n",
      "[CV]  criterion=friedman_mse, max_depth=2, min_samples_leaf=100, min_samples_split=4, total=   0.1s\n",
      "[CV] criterion=friedman_mse, max_depth=2, min_samples_leaf=100, min_samples_split=4 \n",
      "[CV]  criterion=friedman_mse, max_depth=2, min_samples_leaf=100, min_samples_split=4, total=   0.1s\n",
      "[CV] criterion=friedman_mse, max_depth=2, min_samples_leaf=100, min_samples_split=6 \n",
      "[CV]  criterion=friedman_mse, max_depth=2, min_samples_leaf=100, min_samples_split=6, total=   0.1s\n",
      "[CV] criterion=friedman_mse, max_depth=2, min_samples_leaf=100, min_samples_split=6 \n",
      "[CV]  criterion=friedman_mse, max_depth=2, min_samples_leaf=100, min_samples_split=6, total=   0.1s\n",
      "[CV] criterion=friedman_mse, max_depth=2, min_samples_leaf=100, min_samples_split=6 \n",
      "[CV]  criterion=friedman_mse, max_depth=2, min_samples_leaf=100, min_samples_split=6, total=   0.1s\n",
      "[CV] criterion=friedman_mse, max_depth=2, min_samples_leaf=100, min_samples_split=10 \n",
      "[CV]  criterion=friedman_mse, max_depth=2, min_samples_leaf=100, min_samples_split=10, total=   0.1s\n",
      "[CV] criterion=friedman_mse, max_depth=2, min_samples_leaf=100, min_samples_split=10 \n",
      "[CV]  criterion=friedman_mse, max_depth=2, min_samples_leaf=100, min_samples_split=10, total=   0.1s\n",
      "[CV] criterion=friedman_mse, max_depth=2, min_samples_leaf=100, min_samples_split=10 \n",
      "[CV]  criterion=friedman_mse, max_depth=2, min_samples_leaf=100, min_samples_split=10, total=   0.1s\n",
      "[CV] criterion=friedman_mse, max_depth=2, min_samples_leaf=100, min_samples_split=20 \n",
      "[CV]  criterion=friedman_mse, max_depth=2, min_samples_leaf=100, min_samples_split=20, total=   0.1s\n",
      "[CV] criterion=friedman_mse, max_depth=2, min_samples_leaf=100, min_samples_split=20 \n",
      "[CV]  criterion=friedman_mse, max_depth=2, min_samples_leaf=100, min_samples_split=20, total=   0.1s\n",
      "[CV] criterion=friedman_mse, max_depth=2, min_samples_leaf=100, min_samples_split=20 \n",
      "[CV]  criterion=friedman_mse, max_depth=2, min_samples_leaf=100, min_samples_split=20, total=   0.1s\n",
      "[CV] criterion=friedman_mse, max_depth=5, min_samples_leaf=1, min_samples_split=2 \n",
      "[CV]  criterion=friedman_mse, max_depth=5, min_samples_leaf=1, min_samples_split=2, total=   0.3s\n",
      "[CV] criterion=friedman_mse, max_depth=5, min_samples_leaf=1, min_samples_split=2 \n",
      "[CV]  criterion=friedman_mse, max_depth=5, min_samples_leaf=1, min_samples_split=2, total=   0.3s\n",
      "[CV] criterion=friedman_mse, max_depth=5, min_samples_leaf=1, min_samples_split=2 \n",
      "[CV]  criterion=friedman_mse, max_depth=5, min_samples_leaf=1, min_samples_split=2, total=   0.3s\n",
      "[CV] criterion=friedman_mse, max_depth=5, min_samples_leaf=1, min_samples_split=4 \n",
      "[CV]  criterion=friedman_mse, max_depth=5, min_samples_leaf=1, min_samples_split=4, total=   0.3s\n",
      "[CV] criterion=friedman_mse, max_depth=5, min_samples_leaf=1, min_samples_split=4 \n",
      "[CV]  criterion=friedman_mse, max_depth=5, min_samples_leaf=1, min_samples_split=4, total=   0.3s\n",
      "[CV] criterion=friedman_mse, max_depth=5, min_samples_leaf=1, min_samples_split=4 \n",
      "[CV]  criterion=friedman_mse, max_depth=5, min_samples_leaf=1, min_samples_split=4, total=   0.4s\n",
      "[CV] criterion=friedman_mse, max_depth=5, min_samples_leaf=1, min_samples_split=6 \n",
      "[CV]  criterion=friedman_mse, max_depth=5, min_samples_leaf=1, min_samples_split=6, total=   0.3s\n",
      "[CV] criterion=friedman_mse, max_depth=5, min_samples_leaf=1, min_samples_split=6 \n",
      "[CV]  criterion=friedman_mse, max_depth=5, min_samples_leaf=1, min_samples_split=6, total=   0.3s\n",
      "[CV] criterion=friedman_mse, max_depth=5, min_samples_leaf=1, min_samples_split=6 \n",
      "[CV]  criterion=friedman_mse, max_depth=5, min_samples_leaf=1, min_samples_split=6, total=   0.3s\n",
      "[CV] criterion=friedman_mse, max_depth=5, min_samples_leaf=1, min_samples_split=10 \n"
     ]
    },
    {
     "name": "stdout",
     "output_type": "stream",
     "text": [
      "[CV]  criterion=friedman_mse, max_depth=5, min_samples_leaf=1, min_samples_split=10, total=   0.3s\n",
      "[CV] criterion=friedman_mse, max_depth=5, min_samples_leaf=1, min_samples_split=10 \n",
      "[CV]  criterion=friedman_mse, max_depth=5, min_samples_leaf=1, min_samples_split=10, total=   0.4s\n",
      "[CV] criterion=friedman_mse, max_depth=5, min_samples_leaf=1, min_samples_split=10 \n",
      "[CV]  criterion=friedman_mse, max_depth=5, min_samples_leaf=1, min_samples_split=10, total=   0.3s\n",
      "[CV] criterion=friedman_mse, max_depth=5, min_samples_leaf=1, min_samples_split=20 \n",
      "[CV]  criterion=friedman_mse, max_depth=5, min_samples_leaf=1, min_samples_split=20, total=   0.4s\n",
      "[CV] criterion=friedman_mse, max_depth=5, min_samples_leaf=1, min_samples_split=20 \n",
      "[CV]  criterion=friedman_mse, max_depth=5, min_samples_leaf=1, min_samples_split=20, total=   0.3s\n",
      "[CV] criterion=friedman_mse, max_depth=5, min_samples_leaf=1, min_samples_split=20 \n",
      "[CV]  criterion=friedman_mse, max_depth=5, min_samples_leaf=1, min_samples_split=20, total=   0.4s\n",
      "[CV] criterion=friedman_mse, max_depth=5, min_samples_leaf=5, min_samples_split=2 \n",
      "[CV]  criterion=friedman_mse, max_depth=5, min_samples_leaf=5, min_samples_split=2, total=   0.3s\n",
      "[CV] criterion=friedman_mse, max_depth=5, min_samples_leaf=5, min_samples_split=2 \n",
      "[CV]  criterion=friedman_mse, max_depth=5, min_samples_leaf=5, min_samples_split=2, total=   0.4s\n",
      "[CV] criterion=friedman_mse, max_depth=5, min_samples_leaf=5, min_samples_split=2 \n",
      "[CV]  criterion=friedman_mse, max_depth=5, min_samples_leaf=5, min_samples_split=2, total=   0.3s\n",
      "[CV] criterion=friedman_mse, max_depth=5, min_samples_leaf=5, min_samples_split=4 \n",
      "[CV]  criterion=friedman_mse, max_depth=5, min_samples_leaf=5, min_samples_split=4, total=   0.3s\n",
      "[CV] criterion=friedman_mse, max_depth=5, min_samples_leaf=5, min_samples_split=4 \n",
      "[CV]  criterion=friedman_mse, max_depth=5, min_samples_leaf=5, min_samples_split=4, total=   0.3s\n",
      "[CV] criterion=friedman_mse, max_depth=5, min_samples_leaf=5, min_samples_split=4 \n",
      "[CV]  criterion=friedman_mse, max_depth=5, min_samples_leaf=5, min_samples_split=4, total=   0.3s\n",
      "[CV] criterion=friedman_mse, max_depth=5, min_samples_leaf=5, min_samples_split=6 \n",
      "[CV]  criterion=friedman_mse, max_depth=5, min_samples_leaf=5, min_samples_split=6, total=   0.3s\n",
      "[CV] criterion=friedman_mse, max_depth=5, min_samples_leaf=5, min_samples_split=6 \n",
      "[CV]  criterion=friedman_mse, max_depth=5, min_samples_leaf=5, min_samples_split=6, total=   0.3s\n",
      "[CV] criterion=friedman_mse, max_depth=5, min_samples_leaf=5, min_samples_split=6 \n",
      "[CV]  criterion=friedman_mse, max_depth=5, min_samples_leaf=5, min_samples_split=6, total=   0.4s\n",
      "[CV] criterion=friedman_mse, max_depth=5, min_samples_leaf=5, min_samples_split=10 \n",
      "[CV]  criterion=friedman_mse, max_depth=5, min_samples_leaf=5, min_samples_split=10, total=   0.3s\n",
      "[CV] criterion=friedman_mse, max_depth=5, min_samples_leaf=5, min_samples_split=10 \n",
      "[CV]  criterion=friedman_mse, max_depth=5, min_samples_leaf=5, min_samples_split=10, total=   0.4s\n",
      "[CV] criterion=friedman_mse, max_depth=5, min_samples_leaf=5, min_samples_split=10 \n",
      "[CV]  criterion=friedman_mse, max_depth=5, min_samples_leaf=5, min_samples_split=10, total=   0.4s\n",
      "[CV] criterion=friedman_mse, max_depth=5, min_samples_leaf=5, min_samples_split=20 \n",
      "[CV]  criterion=friedman_mse, max_depth=5, min_samples_leaf=5, min_samples_split=20, total=   0.4s\n",
      "[CV] criterion=friedman_mse, max_depth=5, min_samples_leaf=5, min_samples_split=20 \n",
      "[CV]  criterion=friedman_mse, max_depth=5, min_samples_leaf=5, min_samples_split=20, total=   0.4s\n",
      "[CV] criterion=friedman_mse, max_depth=5, min_samples_leaf=5, min_samples_split=20 \n",
      "[CV]  criterion=friedman_mse, max_depth=5, min_samples_leaf=5, min_samples_split=20, total=   0.4s\n",
      "[CV] criterion=friedman_mse, max_depth=5, min_samples_leaf=10, min_samples_split=2 \n",
      "[CV]  criterion=friedman_mse, max_depth=5, min_samples_leaf=10, min_samples_split=2, total=   0.4s\n",
      "[CV] criterion=friedman_mse, max_depth=5, min_samples_leaf=10, min_samples_split=2 \n",
      "[CV]  criterion=friedman_mse, max_depth=5, min_samples_leaf=10, min_samples_split=2, total=   0.4s\n",
      "[CV] criterion=friedman_mse, max_depth=5, min_samples_leaf=10, min_samples_split=2 \n",
      "[CV]  criterion=friedman_mse, max_depth=5, min_samples_leaf=10, min_samples_split=2, total=   0.3s\n",
      "[CV] criterion=friedman_mse, max_depth=5, min_samples_leaf=10, min_samples_split=4 \n",
      "[CV]  criterion=friedman_mse, max_depth=5, min_samples_leaf=10, min_samples_split=4, total=   0.4s\n",
      "[CV] criterion=friedman_mse, max_depth=5, min_samples_leaf=10, min_samples_split=4 \n",
      "[CV]  criterion=friedman_mse, max_depth=5, min_samples_leaf=10, min_samples_split=4, total=   0.3s\n",
      "[CV] criterion=friedman_mse, max_depth=5, min_samples_leaf=10, min_samples_split=4 \n",
      "[CV]  criterion=friedman_mse, max_depth=5, min_samples_leaf=10, min_samples_split=4, total=   0.3s\n",
      "[CV] criterion=friedman_mse, max_depth=5, min_samples_leaf=10, min_samples_split=6 \n",
      "[CV]  criterion=friedman_mse, max_depth=5, min_samples_leaf=10, min_samples_split=6, total=   0.3s\n",
      "[CV] criterion=friedman_mse, max_depth=5, min_samples_leaf=10, min_samples_split=6 \n",
      "[CV]  criterion=friedman_mse, max_depth=5, min_samples_leaf=10, min_samples_split=6, total=   0.3s\n",
      "[CV] criterion=friedman_mse, max_depth=5, min_samples_leaf=10, min_samples_split=6 \n",
      "[CV]  criterion=friedman_mse, max_depth=5, min_samples_leaf=10, min_samples_split=6, total=   0.4s\n",
      "[CV] criterion=friedman_mse, max_depth=5, min_samples_leaf=10, min_samples_split=10 \n",
      "[CV]  criterion=friedman_mse, max_depth=5, min_samples_leaf=10, min_samples_split=10, total=   0.3s\n",
      "[CV] criterion=friedman_mse, max_depth=5, min_samples_leaf=10, min_samples_split=10 \n",
      "[CV]  criterion=friedman_mse, max_depth=5, min_samples_leaf=10, min_samples_split=10, total=   0.3s\n",
      "[CV] criterion=friedman_mse, max_depth=5, min_samples_leaf=10, min_samples_split=10 \n",
      "[CV]  criterion=friedman_mse, max_depth=5, min_samples_leaf=10, min_samples_split=10, total=   0.3s\n",
      "[CV] criterion=friedman_mse, max_depth=5, min_samples_leaf=10, min_samples_split=20 \n",
      "[CV]  criterion=friedman_mse, max_depth=5, min_samples_leaf=10, min_samples_split=20, total=   0.4s\n",
      "[CV] criterion=friedman_mse, max_depth=5, min_samples_leaf=10, min_samples_split=20 \n",
      "[CV]  criterion=friedman_mse, max_depth=5, min_samples_leaf=10, min_samples_split=20, total=   0.3s\n",
      "[CV] criterion=friedman_mse, max_depth=5, min_samples_leaf=10, min_samples_split=20 \n",
      "[CV]  criterion=friedman_mse, max_depth=5, min_samples_leaf=10, min_samples_split=20, total=   0.3s\n",
      "[CV] criterion=friedman_mse, max_depth=5, min_samples_leaf=30, min_samples_split=2 \n",
      "[CV]  criterion=friedman_mse, max_depth=5, min_samples_leaf=30, min_samples_split=2, total=   0.3s\n",
      "[CV] criterion=friedman_mse, max_depth=5, min_samples_leaf=30, min_samples_split=2 \n",
      "[CV]  criterion=friedman_mse, max_depth=5, min_samples_leaf=30, min_samples_split=2, total=   0.3s\n",
      "[CV] criterion=friedman_mse, max_depth=5, min_samples_leaf=30, min_samples_split=2 \n",
      "[CV]  criterion=friedman_mse, max_depth=5, min_samples_leaf=30, min_samples_split=2, total=   0.3s\n",
      "[CV] criterion=friedman_mse, max_depth=5, min_samples_leaf=30, min_samples_split=4 \n",
      "[CV]  criterion=friedman_mse, max_depth=5, min_samples_leaf=30, min_samples_split=4, total=   0.3s\n",
      "[CV] criterion=friedman_mse, max_depth=5, min_samples_leaf=30, min_samples_split=4 \n",
      "[CV]  criterion=friedman_mse, max_depth=5, min_samples_leaf=30, min_samples_split=4, total=   0.4s\n",
      "[CV] criterion=friedman_mse, max_depth=5, min_samples_leaf=30, min_samples_split=4 \n",
      "[CV]  criterion=friedman_mse, max_depth=5, min_samples_leaf=30, min_samples_split=4, total=   0.3s\n",
      "[CV] criterion=friedman_mse, max_depth=5, min_samples_leaf=30, min_samples_split=6 \n",
      "[CV]  criterion=friedman_mse, max_depth=5, min_samples_leaf=30, min_samples_split=6, total=   0.3s\n",
      "[CV] criterion=friedman_mse, max_depth=5, min_samples_leaf=30, min_samples_split=6 \n",
      "[CV]  criterion=friedman_mse, max_depth=5, min_samples_leaf=30, min_samples_split=6, total=   0.3s\n",
      "[CV] criterion=friedman_mse, max_depth=5, min_samples_leaf=30, min_samples_split=6 \n",
      "[CV]  criterion=friedman_mse, max_depth=5, min_samples_leaf=30, min_samples_split=6, total=   0.4s\n",
      "[CV] criterion=friedman_mse, max_depth=5, min_samples_leaf=30, min_samples_split=10 \n"
     ]
    },
    {
     "name": "stdout",
     "output_type": "stream",
     "text": [
      "[CV]  criterion=friedman_mse, max_depth=5, min_samples_leaf=30, min_samples_split=10, total=   0.3s\n",
      "[CV] criterion=friedman_mse, max_depth=5, min_samples_leaf=30, min_samples_split=10 \n",
      "[CV]  criterion=friedman_mse, max_depth=5, min_samples_leaf=30, min_samples_split=10, total=   0.4s\n",
      "[CV] criterion=friedman_mse, max_depth=5, min_samples_leaf=30, min_samples_split=10 \n",
      "[CV]  criterion=friedman_mse, max_depth=5, min_samples_leaf=30, min_samples_split=10, total=   0.3s\n",
      "[CV] criterion=friedman_mse, max_depth=5, min_samples_leaf=30, min_samples_split=20 \n",
      "[CV]  criterion=friedman_mse, max_depth=5, min_samples_leaf=30, min_samples_split=20, total=   0.3s\n",
      "[CV] criterion=friedman_mse, max_depth=5, min_samples_leaf=30, min_samples_split=20 \n",
      "[CV]  criterion=friedman_mse, max_depth=5, min_samples_leaf=30, min_samples_split=20, total=   0.3s\n",
      "[CV] criterion=friedman_mse, max_depth=5, min_samples_leaf=30, min_samples_split=20 \n",
      "[CV]  criterion=friedman_mse, max_depth=5, min_samples_leaf=30, min_samples_split=20, total=   0.3s\n",
      "[CV] criterion=friedman_mse, max_depth=5, min_samples_leaf=50, min_samples_split=2 \n",
      "[CV]  criterion=friedman_mse, max_depth=5, min_samples_leaf=50, min_samples_split=2, total=   0.3s\n",
      "[CV] criterion=friedman_mse, max_depth=5, min_samples_leaf=50, min_samples_split=2 \n",
      "[CV]  criterion=friedman_mse, max_depth=5, min_samples_leaf=50, min_samples_split=2, total=   0.3s\n",
      "[CV] criterion=friedman_mse, max_depth=5, min_samples_leaf=50, min_samples_split=2 \n",
      "[CV]  criterion=friedman_mse, max_depth=5, min_samples_leaf=50, min_samples_split=2, total=   0.4s\n",
      "[CV] criterion=friedman_mse, max_depth=5, min_samples_leaf=50, min_samples_split=4 \n",
      "[CV]  criterion=friedman_mse, max_depth=5, min_samples_leaf=50, min_samples_split=4, total=   0.3s\n",
      "[CV] criterion=friedman_mse, max_depth=5, min_samples_leaf=50, min_samples_split=4 \n",
      "[CV]  criterion=friedman_mse, max_depth=5, min_samples_leaf=50, min_samples_split=4, total=   0.4s\n",
      "[CV] criterion=friedman_mse, max_depth=5, min_samples_leaf=50, min_samples_split=4 \n",
      "[CV]  criterion=friedman_mse, max_depth=5, min_samples_leaf=50, min_samples_split=4, total=   0.3s\n",
      "[CV] criterion=friedman_mse, max_depth=5, min_samples_leaf=50, min_samples_split=6 \n",
      "[CV]  criterion=friedman_mse, max_depth=5, min_samples_leaf=50, min_samples_split=6, total=   0.4s\n",
      "[CV] criterion=friedman_mse, max_depth=5, min_samples_leaf=50, min_samples_split=6 \n",
      "[CV]  criterion=friedman_mse, max_depth=5, min_samples_leaf=50, min_samples_split=6, total=   0.3s\n",
      "[CV] criterion=friedman_mse, max_depth=5, min_samples_leaf=50, min_samples_split=6 \n",
      "[CV]  criterion=friedman_mse, max_depth=5, min_samples_leaf=50, min_samples_split=6, total=   0.3s\n",
      "[CV] criterion=friedman_mse, max_depth=5, min_samples_leaf=50, min_samples_split=10 \n",
      "[CV]  criterion=friedman_mse, max_depth=5, min_samples_leaf=50, min_samples_split=10, total=   0.3s\n",
      "[CV] criterion=friedman_mse, max_depth=5, min_samples_leaf=50, min_samples_split=10 \n",
      "[CV]  criterion=friedman_mse, max_depth=5, min_samples_leaf=50, min_samples_split=10, total=   0.4s\n",
      "[CV] criterion=friedman_mse, max_depth=5, min_samples_leaf=50, min_samples_split=10 \n",
      "[CV]  criterion=friedman_mse, max_depth=5, min_samples_leaf=50, min_samples_split=10, total=   0.4s\n",
      "[CV] criterion=friedman_mse, max_depth=5, min_samples_leaf=50, min_samples_split=20 \n",
      "[CV]  criterion=friedman_mse, max_depth=5, min_samples_leaf=50, min_samples_split=20, total=   0.3s\n",
      "[CV] criterion=friedman_mse, max_depth=5, min_samples_leaf=50, min_samples_split=20 \n",
      "[CV]  criterion=friedman_mse, max_depth=5, min_samples_leaf=50, min_samples_split=20, total=   0.4s\n",
      "[CV] criterion=friedman_mse, max_depth=5, min_samples_leaf=50, min_samples_split=20 \n",
      "[CV]  criterion=friedman_mse, max_depth=5, min_samples_leaf=50, min_samples_split=20, total=   0.3s\n",
      "[CV] criterion=friedman_mse, max_depth=5, min_samples_leaf=70, min_samples_split=2 \n",
      "[CV]  criterion=friedman_mse, max_depth=5, min_samples_leaf=70, min_samples_split=2, total=   0.3s\n",
      "[CV] criterion=friedman_mse, max_depth=5, min_samples_leaf=70, min_samples_split=2 \n",
      "[CV]  criterion=friedman_mse, max_depth=5, min_samples_leaf=70, min_samples_split=2, total=   0.3s\n",
      "[CV] criterion=friedman_mse, max_depth=5, min_samples_leaf=70, min_samples_split=2 \n",
      "[CV]  criterion=friedman_mse, max_depth=5, min_samples_leaf=70, min_samples_split=2, total=   0.3s\n",
      "[CV] criterion=friedman_mse, max_depth=5, min_samples_leaf=70, min_samples_split=4 \n",
      "[CV]  criterion=friedman_mse, max_depth=5, min_samples_leaf=70, min_samples_split=4, total=   0.3s\n",
      "[CV] criterion=friedman_mse, max_depth=5, min_samples_leaf=70, min_samples_split=4 \n",
      "[CV]  criterion=friedman_mse, max_depth=5, min_samples_leaf=70, min_samples_split=4, total=   0.4s\n",
      "[CV] criterion=friedman_mse, max_depth=5, min_samples_leaf=70, min_samples_split=4 \n",
      "[CV]  criterion=friedman_mse, max_depth=5, min_samples_leaf=70, min_samples_split=4, total=   0.3s\n",
      "[CV] criterion=friedman_mse, max_depth=5, min_samples_leaf=70, min_samples_split=6 \n",
      "[CV]  criterion=friedman_mse, max_depth=5, min_samples_leaf=70, min_samples_split=6, total=   0.4s\n",
      "[CV] criterion=friedman_mse, max_depth=5, min_samples_leaf=70, min_samples_split=6 \n",
      "[CV]  criterion=friedman_mse, max_depth=5, min_samples_leaf=70, min_samples_split=6, total=   0.3s\n",
      "[CV] criterion=friedman_mse, max_depth=5, min_samples_leaf=70, min_samples_split=6 \n",
      "[CV]  criterion=friedman_mse, max_depth=5, min_samples_leaf=70, min_samples_split=6, total=   0.3s\n",
      "[CV] criterion=friedman_mse, max_depth=5, min_samples_leaf=70, min_samples_split=10 \n",
      "[CV]  criterion=friedman_mse, max_depth=5, min_samples_leaf=70, min_samples_split=10, total=   0.3s\n",
      "[CV] criterion=friedman_mse, max_depth=5, min_samples_leaf=70, min_samples_split=10 \n",
      "[CV]  criterion=friedman_mse, max_depth=5, min_samples_leaf=70, min_samples_split=10, total=   0.3s\n",
      "[CV] criterion=friedman_mse, max_depth=5, min_samples_leaf=70, min_samples_split=10 \n",
      "[CV]  criterion=friedman_mse, max_depth=5, min_samples_leaf=70, min_samples_split=10, total=   0.3s\n",
      "[CV] criterion=friedman_mse, max_depth=5, min_samples_leaf=70, min_samples_split=20 \n",
      "[CV]  criterion=friedman_mse, max_depth=5, min_samples_leaf=70, min_samples_split=20, total=   0.3s\n",
      "[CV] criterion=friedman_mse, max_depth=5, min_samples_leaf=70, min_samples_split=20 \n",
      "[CV]  criterion=friedman_mse, max_depth=5, min_samples_leaf=70, min_samples_split=20, total=   0.4s\n",
      "[CV] criterion=friedman_mse, max_depth=5, min_samples_leaf=70, min_samples_split=20 \n",
      "[CV]  criterion=friedman_mse, max_depth=5, min_samples_leaf=70, min_samples_split=20, total=   0.3s\n",
      "[CV] criterion=friedman_mse, max_depth=5, min_samples_leaf=100, min_samples_split=2 \n",
      "[CV]  criterion=friedman_mse, max_depth=5, min_samples_leaf=100, min_samples_split=2, total=   0.4s\n",
      "[CV] criterion=friedman_mse, max_depth=5, min_samples_leaf=100, min_samples_split=2 \n",
      "[CV]  criterion=friedman_mse, max_depth=5, min_samples_leaf=100, min_samples_split=2, total=   0.3s\n",
      "[CV] criterion=friedman_mse, max_depth=5, min_samples_leaf=100, min_samples_split=2 \n",
      "[CV]  criterion=friedman_mse, max_depth=5, min_samples_leaf=100, min_samples_split=2, total=   0.4s\n",
      "[CV] criterion=friedman_mse, max_depth=5, min_samples_leaf=100, min_samples_split=4 \n",
      "[CV]  criterion=friedman_mse, max_depth=5, min_samples_leaf=100, min_samples_split=4, total=   0.3s\n",
      "[CV] criterion=friedman_mse, max_depth=5, min_samples_leaf=100, min_samples_split=4 \n",
      "[CV]  criterion=friedman_mse, max_depth=5, min_samples_leaf=100, min_samples_split=4, total=   0.3s\n",
      "[CV] criterion=friedman_mse, max_depth=5, min_samples_leaf=100, min_samples_split=4 \n",
      "[CV]  criterion=friedman_mse, max_depth=5, min_samples_leaf=100, min_samples_split=4, total=   0.3s\n",
      "[CV] criterion=friedman_mse, max_depth=5, min_samples_leaf=100, min_samples_split=6 \n",
      "[CV]  criterion=friedman_mse, max_depth=5, min_samples_leaf=100, min_samples_split=6, total=   0.3s\n",
      "[CV] criterion=friedman_mse, max_depth=5, min_samples_leaf=100, min_samples_split=6 \n",
      "[CV]  criterion=friedman_mse, max_depth=5, min_samples_leaf=100, min_samples_split=6, total=   0.3s\n",
      "[CV] criterion=friedman_mse, max_depth=5, min_samples_leaf=100, min_samples_split=6 \n",
      "[CV]  criterion=friedman_mse, max_depth=5, min_samples_leaf=100, min_samples_split=6, total=   0.3s\n",
      "[CV] criterion=friedman_mse, max_depth=5, min_samples_leaf=100, min_samples_split=10 \n"
     ]
    },
    {
     "name": "stdout",
     "output_type": "stream",
     "text": [
      "[CV]  criterion=friedman_mse, max_depth=5, min_samples_leaf=100, min_samples_split=10, total=   0.4s\n",
      "[CV] criterion=friedman_mse, max_depth=5, min_samples_leaf=100, min_samples_split=10 \n",
      "[CV]  criterion=friedman_mse, max_depth=5, min_samples_leaf=100, min_samples_split=10, total=   0.3s\n",
      "[CV] criterion=friedman_mse, max_depth=5, min_samples_leaf=100, min_samples_split=10 \n",
      "[CV]  criterion=friedman_mse, max_depth=5, min_samples_leaf=100, min_samples_split=10, total=   0.4s\n",
      "[CV] criterion=friedman_mse, max_depth=5, min_samples_leaf=100, min_samples_split=20 \n",
      "[CV]  criterion=friedman_mse, max_depth=5, min_samples_leaf=100, min_samples_split=20, total=   0.3s\n",
      "[CV] criterion=friedman_mse, max_depth=5, min_samples_leaf=100, min_samples_split=20 \n",
      "[CV]  criterion=friedman_mse, max_depth=5, min_samples_leaf=100, min_samples_split=20, total=   0.3s\n",
      "[CV] criterion=friedman_mse, max_depth=5, min_samples_leaf=100, min_samples_split=20 \n",
      "[CV]  criterion=friedman_mse, max_depth=5, min_samples_leaf=100, min_samples_split=20, total=   0.3s\n",
      "[CV] criterion=friedman_mse, max_depth=10, min_samples_leaf=1, min_samples_split=2 \n",
      "[CV]  criterion=friedman_mse, max_depth=10, min_samples_leaf=1, min_samples_split=2, total=   0.7s\n",
      "[CV] criterion=friedman_mse, max_depth=10, min_samples_leaf=1, min_samples_split=2 \n",
      "[CV]  criterion=friedman_mse, max_depth=10, min_samples_leaf=1, min_samples_split=2, total=   0.7s\n",
      "[CV] criterion=friedman_mse, max_depth=10, min_samples_leaf=1, min_samples_split=2 \n",
      "[CV]  criterion=friedman_mse, max_depth=10, min_samples_leaf=1, min_samples_split=2, total=   0.7s\n",
      "[CV] criterion=friedman_mse, max_depth=10, min_samples_leaf=1, min_samples_split=4 \n",
      "[CV]  criterion=friedman_mse, max_depth=10, min_samples_leaf=1, min_samples_split=4, total=   0.7s\n",
      "[CV] criterion=friedman_mse, max_depth=10, min_samples_leaf=1, min_samples_split=4 \n",
      "[CV]  criterion=friedman_mse, max_depth=10, min_samples_leaf=1, min_samples_split=4, total=   0.7s\n",
      "[CV] criterion=friedman_mse, max_depth=10, min_samples_leaf=1, min_samples_split=4 \n",
      "[CV]  criterion=friedman_mse, max_depth=10, min_samples_leaf=1, min_samples_split=4, total=   0.7s\n",
      "[CV] criterion=friedman_mse, max_depth=10, min_samples_leaf=1, min_samples_split=6 \n",
      "[CV]  criterion=friedman_mse, max_depth=10, min_samples_leaf=1, min_samples_split=6, total=   0.7s\n",
      "[CV] criterion=friedman_mse, max_depth=10, min_samples_leaf=1, min_samples_split=6 \n",
      "[CV]  criterion=friedman_mse, max_depth=10, min_samples_leaf=1, min_samples_split=6, total=   0.7s\n",
      "[CV] criterion=friedman_mse, max_depth=10, min_samples_leaf=1, min_samples_split=6 \n",
      "[CV]  criterion=friedman_mse, max_depth=10, min_samples_leaf=1, min_samples_split=6, total=   0.7s\n",
      "[CV] criterion=friedman_mse, max_depth=10, min_samples_leaf=1, min_samples_split=10 \n",
      "[CV]  criterion=friedman_mse, max_depth=10, min_samples_leaf=1, min_samples_split=10, total=   0.7s\n",
      "[CV] criterion=friedman_mse, max_depth=10, min_samples_leaf=1, min_samples_split=10 \n",
      "[CV]  criterion=friedman_mse, max_depth=10, min_samples_leaf=1, min_samples_split=10, total=   0.7s\n",
      "[CV] criterion=friedman_mse, max_depth=10, min_samples_leaf=1, min_samples_split=10 \n",
      "[CV]  criterion=friedman_mse, max_depth=10, min_samples_leaf=1, min_samples_split=10, total=   0.7s\n",
      "[CV] criterion=friedman_mse, max_depth=10, min_samples_leaf=1, min_samples_split=20 \n",
      "[CV]  criterion=friedman_mse, max_depth=10, min_samples_leaf=1, min_samples_split=20, total=   0.7s\n",
      "[CV] criterion=friedman_mse, max_depth=10, min_samples_leaf=1, min_samples_split=20 \n",
      "[CV]  criterion=friedman_mse, max_depth=10, min_samples_leaf=1, min_samples_split=20, total=   0.7s\n",
      "[CV] criterion=friedman_mse, max_depth=10, min_samples_leaf=1, min_samples_split=20 \n",
      "[CV]  criterion=friedman_mse, max_depth=10, min_samples_leaf=1, min_samples_split=20, total=   0.7s\n",
      "[CV] criterion=friedman_mse, max_depth=10, min_samples_leaf=5, min_samples_split=2 \n",
      "[CV]  criterion=friedman_mse, max_depth=10, min_samples_leaf=5, min_samples_split=2, total=   0.7s\n",
      "[CV] criterion=friedman_mse, max_depth=10, min_samples_leaf=5, min_samples_split=2 \n",
      "[CV]  criterion=friedman_mse, max_depth=10, min_samples_leaf=5, min_samples_split=2, total=   0.7s\n",
      "[CV] criterion=friedman_mse, max_depth=10, min_samples_leaf=5, min_samples_split=2 \n",
      "[CV]  criterion=friedman_mse, max_depth=10, min_samples_leaf=5, min_samples_split=2, total=   0.7s\n",
      "[CV] criterion=friedman_mse, max_depth=10, min_samples_leaf=5, min_samples_split=4 \n",
      "[CV]  criterion=friedman_mse, max_depth=10, min_samples_leaf=5, min_samples_split=4, total=   0.7s\n",
      "[CV] criterion=friedman_mse, max_depth=10, min_samples_leaf=5, min_samples_split=4 \n",
      "[CV]  criterion=friedman_mse, max_depth=10, min_samples_leaf=5, min_samples_split=4, total=   0.7s\n",
      "[CV] criterion=friedman_mse, max_depth=10, min_samples_leaf=5, min_samples_split=4 \n",
      "[CV]  criterion=friedman_mse, max_depth=10, min_samples_leaf=5, min_samples_split=4, total=   0.7s\n",
      "[CV] criterion=friedman_mse, max_depth=10, min_samples_leaf=5, min_samples_split=6 \n",
      "[CV]  criterion=friedman_mse, max_depth=10, min_samples_leaf=5, min_samples_split=6, total=   0.7s\n",
      "[CV] criterion=friedman_mse, max_depth=10, min_samples_leaf=5, min_samples_split=6 \n",
      "[CV]  criterion=friedman_mse, max_depth=10, min_samples_leaf=5, min_samples_split=6, total=   0.7s\n",
      "[CV] criterion=friedman_mse, max_depth=10, min_samples_leaf=5, min_samples_split=6 \n",
      "[CV]  criterion=friedman_mse, max_depth=10, min_samples_leaf=5, min_samples_split=6, total=   0.7s\n",
      "[CV] criterion=friedman_mse, max_depth=10, min_samples_leaf=5, min_samples_split=10 \n",
      "[CV]  criterion=friedman_mse, max_depth=10, min_samples_leaf=5, min_samples_split=10, total=   0.7s\n",
      "[CV] criterion=friedman_mse, max_depth=10, min_samples_leaf=5, min_samples_split=10 \n",
      "[CV]  criterion=friedman_mse, max_depth=10, min_samples_leaf=5, min_samples_split=10, total=   0.7s\n",
      "[CV] criterion=friedman_mse, max_depth=10, min_samples_leaf=5, min_samples_split=10 \n",
      "[CV]  criterion=friedman_mse, max_depth=10, min_samples_leaf=5, min_samples_split=10, total=   0.7s\n",
      "[CV] criterion=friedman_mse, max_depth=10, min_samples_leaf=5, min_samples_split=20 \n",
      "[CV]  criterion=friedman_mse, max_depth=10, min_samples_leaf=5, min_samples_split=20, total=   0.7s\n",
      "[CV] criterion=friedman_mse, max_depth=10, min_samples_leaf=5, min_samples_split=20 \n",
      "[CV]  criterion=friedman_mse, max_depth=10, min_samples_leaf=5, min_samples_split=20, total=   0.7s\n",
      "[CV] criterion=friedman_mse, max_depth=10, min_samples_leaf=5, min_samples_split=20 \n",
      "[CV]  criterion=friedman_mse, max_depth=10, min_samples_leaf=5, min_samples_split=20, total=   0.7s\n",
      "[CV] criterion=friedman_mse, max_depth=10, min_samples_leaf=10, min_samples_split=2 \n",
      "[CV]  criterion=friedman_mse, max_depth=10, min_samples_leaf=10, min_samples_split=2, total=   0.7s\n",
      "[CV] criterion=friedman_mse, max_depth=10, min_samples_leaf=10, min_samples_split=2 \n",
      "[CV]  criterion=friedman_mse, max_depth=10, min_samples_leaf=10, min_samples_split=2, total=   0.7s\n",
      "[CV] criterion=friedman_mse, max_depth=10, min_samples_leaf=10, min_samples_split=2 \n",
      "[CV]  criterion=friedman_mse, max_depth=10, min_samples_leaf=10, min_samples_split=2, total=   0.7s\n",
      "[CV] criterion=friedman_mse, max_depth=10, min_samples_leaf=10, min_samples_split=4 \n",
      "[CV]  criterion=friedman_mse, max_depth=10, min_samples_leaf=10, min_samples_split=4, total=   0.7s\n",
      "[CV] criterion=friedman_mse, max_depth=10, min_samples_leaf=10, min_samples_split=4 \n",
      "[CV]  criterion=friedman_mse, max_depth=10, min_samples_leaf=10, min_samples_split=4, total=   0.7s\n",
      "[CV] criterion=friedman_mse, max_depth=10, min_samples_leaf=10, min_samples_split=4 \n",
      "[CV]  criterion=friedman_mse, max_depth=10, min_samples_leaf=10, min_samples_split=4, total=   0.7s\n",
      "[CV] criterion=friedman_mse, max_depth=10, min_samples_leaf=10, min_samples_split=6 \n",
      "[CV]  criterion=friedman_mse, max_depth=10, min_samples_leaf=10, min_samples_split=6, total=   0.7s\n",
      "[CV] criterion=friedman_mse, max_depth=10, min_samples_leaf=10, min_samples_split=6 \n",
      "[CV]  criterion=friedman_mse, max_depth=10, min_samples_leaf=10, min_samples_split=6, total=   0.7s\n",
      "[CV] criterion=friedman_mse, max_depth=10, min_samples_leaf=10, min_samples_split=6 \n",
      "[CV]  criterion=friedman_mse, max_depth=10, min_samples_leaf=10, min_samples_split=6, total=   0.7s\n",
      "[CV] criterion=friedman_mse, max_depth=10, min_samples_leaf=10, min_samples_split=10 \n"
     ]
    },
    {
     "name": "stdout",
     "output_type": "stream",
     "text": [
      "[CV]  criterion=friedman_mse, max_depth=10, min_samples_leaf=10, min_samples_split=10, total=   0.7s\n",
      "[CV] criterion=friedman_mse, max_depth=10, min_samples_leaf=10, min_samples_split=10 \n",
      "[CV]  criterion=friedman_mse, max_depth=10, min_samples_leaf=10, min_samples_split=10, total=   0.7s\n",
      "[CV] criterion=friedman_mse, max_depth=10, min_samples_leaf=10, min_samples_split=10 \n",
      "[CV]  criterion=friedman_mse, max_depth=10, min_samples_leaf=10, min_samples_split=10, total=   0.7s\n",
      "[CV] criterion=friedman_mse, max_depth=10, min_samples_leaf=10, min_samples_split=20 \n",
      "[CV]  criterion=friedman_mse, max_depth=10, min_samples_leaf=10, min_samples_split=20, total=   0.7s\n",
      "[CV] criterion=friedman_mse, max_depth=10, min_samples_leaf=10, min_samples_split=20 \n",
      "[CV]  criterion=friedman_mse, max_depth=10, min_samples_leaf=10, min_samples_split=20, total=   0.7s\n",
      "[CV] criterion=friedman_mse, max_depth=10, min_samples_leaf=10, min_samples_split=20 \n",
      "[CV]  criterion=friedman_mse, max_depth=10, min_samples_leaf=10, min_samples_split=20, total=   0.7s\n",
      "[CV] criterion=friedman_mse, max_depth=10, min_samples_leaf=30, min_samples_split=2 \n",
      "[CV]  criterion=friedman_mse, max_depth=10, min_samples_leaf=30, min_samples_split=2, total=   0.7s\n",
      "[CV] criterion=friedman_mse, max_depth=10, min_samples_leaf=30, min_samples_split=2 \n",
      "[CV]  criterion=friedman_mse, max_depth=10, min_samples_leaf=30, min_samples_split=2, total=   0.7s\n",
      "[CV] criterion=friedman_mse, max_depth=10, min_samples_leaf=30, min_samples_split=2 \n",
      "[CV]  criterion=friedman_mse, max_depth=10, min_samples_leaf=30, min_samples_split=2, total=   0.7s\n",
      "[CV] criterion=friedman_mse, max_depth=10, min_samples_leaf=30, min_samples_split=4 \n",
      "[CV]  criterion=friedman_mse, max_depth=10, min_samples_leaf=30, min_samples_split=4, total=   0.7s\n",
      "[CV] criterion=friedman_mse, max_depth=10, min_samples_leaf=30, min_samples_split=4 \n",
      "[CV]  criterion=friedman_mse, max_depth=10, min_samples_leaf=30, min_samples_split=4, total=   0.7s\n",
      "[CV] criterion=friedman_mse, max_depth=10, min_samples_leaf=30, min_samples_split=4 \n",
      "[CV]  criterion=friedman_mse, max_depth=10, min_samples_leaf=30, min_samples_split=4, total=   0.7s\n",
      "[CV] criterion=friedman_mse, max_depth=10, min_samples_leaf=30, min_samples_split=6 \n",
      "[CV]  criterion=friedman_mse, max_depth=10, min_samples_leaf=30, min_samples_split=6, total=   0.7s\n",
      "[CV] criterion=friedman_mse, max_depth=10, min_samples_leaf=30, min_samples_split=6 \n",
      "[CV]  criterion=friedman_mse, max_depth=10, min_samples_leaf=30, min_samples_split=6, total=   0.7s\n",
      "[CV] criterion=friedman_mse, max_depth=10, min_samples_leaf=30, min_samples_split=6 \n",
      "[CV]  criterion=friedman_mse, max_depth=10, min_samples_leaf=30, min_samples_split=6, total=   0.7s\n",
      "[CV] criterion=friedman_mse, max_depth=10, min_samples_leaf=30, min_samples_split=10 \n",
      "[CV]  criterion=friedman_mse, max_depth=10, min_samples_leaf=30, min_samples_split=10, total=   0.7s\n",
      "[CV] criterion=friedman_mse, max_depth=10, min_samples_leaf=30, min_samples_split=10 \n",
      "[CV]  criterion=friedman_mse, max_depth=10, min_samples_leaf=30, min_samples_split=10, total=   0.7s\n",
      "[CV] criterion=friedman_mse, max_depth=10, min_samples_leaf=30, min_samples_split=10 \n",
      "[CV]  criterion=friedman_mse, max_depth=10, min_samples_leaf=30, min_samples_split=10, total=   0.7s\n",
      "[CV] criterion=friedman_mse, max_depth=10, min_samples_leaf=30, min_samples_split=20 \n",
      "[CV]  criterion=friedman_mse, max_depth=10, min_samples_leaf=30, min_samples_split=20, total=   0.7s\n",
      "[CV] criterion=friedman_mse, max_depth=10, min_samples_leaf=30, min_samples_split=20 \n",
      "[CV]  criterion=friedman_mse, max_depth=10, min_samples_leaf=30, min_samples_split=20, total=   0.7s\n",
      "[CV] criterion=friedman_mse, max_depth=10, min_samples_leaf=30, min_samples_split=20 \n",
      "[CV]  criterion=friedman_mse, max_depth=10, min_samples_leaf=30, min_samples_split=20, total=   0.7s\n",
      "[CV] criterion=friedman_mse, max_depth=10, min_samples_leaf=50, min_samples_split=2 \n",
      "[CV]  criterion=friedman_mse, max_depth=10, min_samples_leaf=50, min_samples_split=2, total=   0.7s\n",
      "[CV] criterion=friedman_mse, max_depth=10, min_samples_leaf=50, min_samples_split=2 \n",
      "[CV]  criterion=friedman_mse, max_depth=10, min_samples_leaf=50, min_samples_split=2, total=   0.7s\n",
      "[CV] criterion=friedman_mse, max_depth=10, min_samples_leaf=50, min_samples_split=2 \n",
      "[CV]  criterion=friedman_mse, max_depth=10, min_samples_leaf=50, min_samples_split=2, total=   0.7s\n",
      "[CV] criterion=friedman_mse, max_depth=10, min_samples_leaf=50, min_samples_split=4 \n",
      "[CV]  criterion=friedman_mse, max_depth=10, min_samples_leaf=50, min_samples_split=4, total=   0.7s\n",
      "[CV] criterion=friedman_mse, max_depth=10, min_samples_leaf=50, min_samples_split=4 \n",
      "[CV]  criterion=friedman_mse, max_depth=10, min_samples_leaf=50, min_samples_split=4, total=   0.7s\n",
      "[CV] criterion=friedman_mse, max_depth=10, min_samples_leaf=50, min_samples_split=4 \n",
      "[CV]  criterion=friedman_mse, max_depth=10, min_samples_leaf=50, min_samples_split=4, total=   0.7s\n",
      "[CV] criterion=friedman_mse, max_depth=10, min_samples_leaf=50, min_samples_split=6 \n",
      "[CV]  criterion=friedman_mse, max_depth=10, min_samples_leaf=50, min_samples_split=6, total=   0.7s\n",
      "[CV] criterion=friedman_mse, max_depth=10, min_samples_leaf=50, min_samples_split=6 \n",
      "[CV]  criterion=friedman_mse, max_depth=10, min_samples_leaf=50, min_samples_split=6, total=   0.7s\n",
      "[CV] criterion=friedman_mse, max_depth=10, min_samples_leaf=50, min_samples_split=6 \n",
      "[CV]  criterion=friedman_mse, max_depth=10, min_samples_leaf=50, min_samples_split=6, total=   0.7s\n",
      "[CV] criterion=friedman_mse, max_depth=10, min_samples_leaf=50, min_samples_split=10 \n",
      "[CV]  criterion=friedman_mse, max_depth=10, min_samples_leaf=50, min_samples_split=10, total=   0.7s\n",
      "[CV] criterion=friedman_mse, max_depth=10, min_samples_leaf=50, min_samples_split=10 \n",
      "[CV]  criterion=friedman_mse, max_depth=10, min_samples_leaf=50, min_samples_split=10, total=   0.7s\n",
      "[CV] criterion=friedman_mse, max_depth=10, min_samples_leaf=50, min_samples_split=10 \n",
      "[CV]  criterion=friedman_mse, max_depth=10, min_samples_leaf=50, min_samples_split=10, total=   0.7s\n",
      "[CV] criterion=friedman_mse, max_depth=10, min_samples_leaf=50, min_samples_split=20 \n",
      "[CV]  criterion=friedman_mse, max_depth=10, min_samples_leaf=50, min_samples_split=20, total=   0.7s\n",
      "[CV] criterion=friedman_mse, max_depth=10, min_samples_leaf=50, min_samples_split=20 \n",
      "[CV]  criterion=friedman_mse, max_depth=10, min_samples_leaf=50, min_samples_split=20, total=   0.7s\n",
      "[CV] criterion=friedman_mse, max_depth=10, min_samples_leaf=50, min_samples_split=20 \n",
      "[CV]  criterion=friedman_mse, max_depth=10, min_samples_leaf=50, min_samples_split=20, total=   0.7s\n",
      "[CV] criterion=friedman_mse, max_depth=10, min_samples_leaf=70, min_samples_split=2 \n",
      "[CV]  criterion=friedman_mse, max_depth=10, min_samples_leaf=70, min_samples_split=2, total=   0.6s\n",
      "[CV] criterion=friedman_mse, max_depth=10, min_samples_leaf=70, min_samples_split=2 \n",
      "[CV]  criterion=friedman_mse, max_depth=10, min_samples_leaf=70, min_samples_split=2, total=   0.7s\n",
      "[CV] criterion=friedman_mse, max_depth=10, min_samples_leaf=70, min_samples_split=2 \n",
      "[CV]  criterion=friedman_mse, max_depth=10, min_samples_leaf=70, min_samples_split=2, total=   0.7s\n",
      "[CV] criterion=friedman_mse, max_depth=10, min_samples_leaf=70, min_samples_split=4 \n",
      "[CV]  criterion=friedman_mse, max_depth=10, min_samples_leaf=70, min_samples_split=4, total=   0.7s\n",
      "[CV] criterion=friedman_mse, max_depth=10, min_samples_leaf=70, min_samples_split=4 \n",
      "[CV]  criterion=friedman_mse, max_depth=10, min_samples_leaf=70, min_samples_split=4, total=   0.7s\n",
      "[CV] criterion=friedman_mse, max_depth=10, min_samples_leaf=70, min_samples_split=4 \n",
      "[CV]  criterion=friedman_mse, max_depth=10, min_samples_leaf=70, min_samples_split=4, total=   0.7s\n",
      "[CV] criterion=friedman_mse, max_depth=10, min_samples_leaf=70, min_samples_split=6 \n",
      "[CV]  criterion=friedman_mse, max_depth=10, min_samples_leaf=70, min_samples_split=6, total=   0.7s\n",
      "[CV] criterion=friedman_mse, max_depth=10, min_samples_leaf=70, min_samples_split=6 \n",
      "[CV]  criterion=friedman_mse, max_depth=10, min_samples_leaf=70, min_samples_split=6, total=   0.7s\n",
      "[CV] criterion=friedman_mse, max_depth=10, min_samples_leaf=70, min_samples_split=6 \n",
      "[CV]  criterion=friedman_mse, max_depth=10, min_samples_leaf=70, min_samples_split=6, total=   0.7s\n",
      "[CV] criterion=friedman_mse, max_depth=10, min_samples_leaf=70, min_samples_split=10 \n"
     ]
    },
    {
     "name": "stdout",
     "output_type": "stream",
     "text": [
      "[CV]  criterion=friedman_mse, max_depth=10, min_samples_leaf=70, min_samples_split=10, total=   0.7s\n",
      "[CV] criterion=friedman_mse, max_depth=10, min_samples_leaf=70, min_samples_split=10 \n",
      "[CV]  criterion=friedman_mse, max_depth=10, min_samples_leaf=70, min_samples_split=10, total=   0.7s\n",
      "[CV] criterion=friedman_mse, max_depth=10, min_samples_leaf=70, min_samples_split=10 \n",
      "[CV]  criterion=friedman_mse, max_depth=10, min_samples_leaf=70, min_samples_split=10, total=   0.7s\n",
      "[CV] criterion=friedman_mse, max_depth=10, min_samples_leaf=70, min_samples_split=20 \n",
      "[CV]  criterion=friedman_mse, max_depth=10, min_samples_leaf=70, min_samples_split=20, total=   0.7s\n",
      "[CV] criterion=friedman_mse, max_depth=10, min_samples_leaf=70, min_samples_split=20 \n",
      "[CV]  criterion=friedman_mse, max_depth=10, min_samples_leaf=70, min_samples_split=20, total=   0.7s\n",
      "[CV] criterion=friedman_mse, max_depth=10, min_samples_leaf=70, min_samples_split=20 \n",
      "[CV]  criterion=friedman_mse, max_depth=10, min_samples_leaf=70, min_samples_split=20, total=   0.7s\n",
      "[CV] criterion=friedman_mse, max_depth=10, min_samples_leaf=100, min_samples_split=2 \n",
      "[CV]  criterion=friedman_mse, max_depth=10, min_samples_leaf=100, min_samples_split=2, total=   0.6s\n",
      "[CV] criterion=friedman_mse, max_depth=10, min_samples_leaf=100, min_samples_split=2 \n",
      "[CV]  criterion=friedman_mse, max_depth=10, min_samples_leaf=100, min_samples_split=2, total=   0.6s\n",
      "[CV] criterion=friedman_mse, max_depth=10, min_samples_leaf=100, min_samples_split=2 \n",
      "[CV]  criterion=friedman_mse, max_depth=10, min_samples_leaf=100, min_samples_split=2, total=   0.6s\n",
      "[CV] criterion=friedman_mse, max_depth=10, min_samples_leaf=100, min_samples_split=4 \n",
      "[CV]  criterion=friedman_mse, max_depth=10, min_samples_leaf=100, min_samples_split=4, total=   0.6s\n",
      "[CV] criterion=friedman_mse, max_depth=10, min_samples_leaf=100, min_samples_split=4 \n",
      "[CV]  criterion=friedman_mse, max_depth=10, min_samples_leaf=100, min_samples_split=4, total=   0.7s\n",
      "[CV] criterion=friedman_mse, max_depth=10, min_samples_leaf=100, min_samples_split=4 \n",
      "[CV]  criterion=friedman_mse, max_depth=10, min_samples_leaf=100, min_samples_split=4, total=   0.6s\n",
      "[CV] criterion=friedman_mse, max_depth=10, min_samples_leaf=100, min_samples_split=6 \n",
      "[CV]  criterion=friedman_mse, max_depth=10, min_samples_leaf=100, min_samples_split=6, total=   0.7s\n",
      "[CV] criterion=friedman_mse, max_depth=10, min_samples_leaf=100, min_samples_split=6 \n",
      "[CV]  criterion=friedman_mse, max_depth=10, min_samples_leaf=100, min_samples_split=6, total=   0.7s\n",
      "[CV] criterion=friedman_mse, max_depth=10, min_samples_leaf=100, min_samples_split=6 \n",
      "[CV]  criterion=friedman_mse, max_depth=10, min_samples_leaf=100, min_samples_split=6, total=   0.7s\n",
      "[CV] criterion=friedman_mse, max_depth=10, min_samples_leaf=100, min_samples_split=10 \n",
      "[CV]  criterion=friedman_mse, max_depth=10, min_samples_leaf=100, min_samples_split=10, total=   0.6s\n",
      "[CV] criterion=friedman_mse, max_depth=10, min_samples_leaf=100, min_samples_split=10 \n",
      "[CV]  criterion=friedman_mse, max_depth=10, min_samples_leaf=100, min_samples_split=10, total=   0.7s\n",
      "[CV] criterion=friedman_mse, max_depth=10, min_samples_leaf=100, min_samples_split=10 \n",
      "[CV]  criterion=friedman_mse, max_depth=10, min_samples_leaf=100, min_samples_split=10, total=   0.6s\n",
      "[CV] criterion=friedman_mse, max_depth=10, min_samples_leaf=100, min_samples_split=20 \n",
      "[CV]  criterion=friedman_mse, max_depth=10, min_samples_leaf=100, min_samples_split=20, total=   0.7s\n",
      "[CV] criterion=friedman_mse, max_depth=10, min_samples_leaf=100, min_samples_split=20 \n",
      "[CV]  criterion=friedman_mse, max_depth=10, min_samples_leaf=100, min_samples_split=20, total=   0.6s\n",
      "[CV] criterion=friedman_mse, max_depth=10, min_samples_leaf=100, min_samples_split=20 \n",
      "[CV]  criterion=friedman_mse, max_depth=10, min_samples_leaf=100, min_samples_split=20, total=   0.7s\n",
      "[CV] criterion=friedman_mse, max_depth=None, min_samples_leaf=1, min_samples_split=2 \n",
      "[CV]  criterion=friedman_mse, max_depth=None, min_samples_leaf=1, min_samples_split=2, total=   1.6s\n",
      "[CV] criterion=friedman_mse, max_depth=None, min_samples_leaf=1, min_samples_split=2 \n",
      "[CV]  criterion=friedman_mse, max_depth=None, min_samples_leaf=1, min_samples_split=2, total=   1.7s\n",
      "[CV] criterion=friedman_mse, max_depth=None, min_samples_leaf=1, min_samples_split=2 \n",
      "[CV]  criterion=friedman_mse, max_depth=None, min_samples_leaf=1, min_samples_split=2, total=   1.6s\n",
      "[CV] criterion=friedman_mse, max_depth=None, min_samples_leaf=1, min_samples_split=4 \n",
      "[CV]  criterion=friedman_mse, max_depth=None, min_samples_leaf=1, min_samples_split=4, total=   1.6s\n",
      "[CV] criterion=friedman_mse, max_depth=None, min_samples_leaf=1, min_samples_split=4 \n",
      "[CV]  criterion=friedman_mse, max_depth=None, min_samples_leaf=1, min_samples_split=4, total=   1.7s\n",
      "[CV] criterion=friedman_mse, max_depth=None, min_samples_leaf=1, min_samples_split=4 \n",
      "[CV]  criterion=friedman_mse, max_depth=None, min_samples_leaf=1, min_samples_split=4, total=   1.6s\n",
      "[CV] criterion=friedman_mse, max_depth=None, min_samples_leaf=1, min_samples_split=6 \n",
      "[CV]  criterion=friedman_mse, max_depth=None, min_samples_leaf=1, min_samples_split=6, total=   1.6s\n",
      "[CV] criterion=friedman_mse, max_depth=None, min_samples_leaf=1, min_samples_split=6 \n",
      "[CV]  criterion=friedman_mse, max_depth=None, min_samples_leaf=1, min_samples_split=6, total=   1.7s\n",
      "[CV] criterion=friedman_mse, max_depth=None, min_samples_leaf=1, min_samples_split=6 \n",
      "[CV]  criterion=friedman_mse, max_depth=None, min_samples_leaf=1, min_samples_split=6, total=   1.6s\n",
      "[CV] criterion=friedman_mse, max_depth=None, min_samples_leaf=1, min_samples_split=10 \n",
      "[CV]  criterion=friedman_mse, max_depth=None, min_samples_leaf=1, min_samples_split=10, total=   1.6s\n",
      "[CV] criterion=friedman_mse, max_depth=None, min_samples_leaf=1, min_samples_split=10 \n",
      "[CV]  criterion=friedman_mse, max_depth=None, min_samples_leaf=1, min_samples_split=10, total=   1.6s\n",
      "[CV] criterion=friedman_mse, max_depth=None, min_samples_leaf=1, min_samples_split=10 \n",
      "[CV]  criterion=friedman_mse, max_depth=None, min_samples_leaf=1, min_samples_split=10, total=   1.6s\n",
      "[CV] criterion=friedman_mse, max_depth=None, min_samples_leaf=1, min_samples_split=20 \n",
      "[CV]  criterion=friedman_mse, max_depth=None, min_samples_leaf=1, min_samples_split=20, total=   1.5s\n",
      "[CV] criterion=friedman_mse, max_depth=None, min_samples_leaf=1, min_samples_split=20 \n",
      "[CV]  criterion=friedman_mse, max_depth=None, min_samples_leaf=1, min_samples_split=20, total=   1.6s\n",
      "[CV] criterion=friedman_mse, max_depth=None, min_samples_leaf=1, min_samples_split=20 \n",
      "[CV]  criterion=friedman_mse, max_depth=None, min_samples_leaf=1, min_samples_split=20, total=   1.5s\n",
      "[CV] criterion=friedman_mse, max_depth=None, min_samples_leaf=5, min_samples_split=2 \n",
      "[CV]  criterion=friedman_mse, max_depth=None, min_samples_leaf=5, min_samples_split=2, total=   1.4s\n",
      "[CV] criterion=friedman_mse, max_depth=None, min_samples_leaf=5, min_samples_split=2 \n",
      "[CV]  criterion=friedman_mse, max_depth=None, min_samples_leaf=5, min_samples_split=2, total=   1.4s\n",
      "[CV] criterion=friedman_mse, max_depth=None, min_samples_leaf=5, min_samples_split=2 \n",
      "[CV]  criterion=friedman_mse, max_depth=None, min_samples_leaf=5, min_samples_split=2, total=   1.4s\n",
      "[CV] criterion=friedman_mse, max_depth=None, min_samples_leaf=5, min_samples_split=4 \n",
      "[CV]  criterion=friedman_mse, max_depth=None, min_samples_leaf=5, min_samples_split=4, total=   1.4s\n",
      "[CV] criterion=friedman_mse, max_depth=None, min_samples_leaf=5, min_samples_split=4 \n",
      "[CV]  criterion=friedman_mse, max_depth=None, min_samples_leaf=5, min_samples_split=4, total=   1.4s\n",
      "[CV] criterion=friedman_mse, max_depth=None, min_samples_leaf=5, min_samples_split=4 \n",
      "[CV]  criterion=friedman_mse, max_depth=None, min_samples_leaf=5, min_samples_split=4, total=   1.4s\n",
      "[CV] criterion=friedman_mse, max_depth=None, min_samples_leaf=5, min_samples_split=6 \n",
      "[CV]  criterion=friedman_mse, max_depth=None, min_samples_leaf=5, min_samples_split=6, total=   1.4s\n",
      "[CV] criterion=friedman_mse, max_depth=None, min_samples_leaf=5, min_samples_split=6 \n",
      "[CV]  criterion=friedman_mse, max_depth=None, min_samples_leaf=5, min_samples_split=6, total=   1.4s\n",
      "[CV] criterion=friedman_mse, max_depth=None, min_samples_leaf=5, min_samples_split=6 \n"
     ]
    },
    {
     "name": "stdout",
     "output_type": "stream",
     "text": [
      "[CV]  criterion=friedman_mse, max_depth=None, min_samples_leaf=5, min_samples_split=6, total=   1.4s\n",
      "[CV] criterion=friedman_mse, max_depth=None, min_samples_leaf=5, min_samples_split=10 \n",
      "[CV]  criterion=friedman_mse, max_depth=None, min_samples_leaf=5, min_samples_split=10, total=   1.4s\n",
      "[CV] criterion=friedman_mse, max_depth=None, min_samples_leaf=5, min_samples_split=10 \n",
      "[CV]  criterion=friedman_mse, max_depth=None, min_samples_leaf=5, min_samples_split=10, total=   1.4s\n",
      "[CV] criterion=friedman_mse, max_depth=None, min_samples_leaf=5, min_samples_split=10 \n",
      "[CV]  criterion=friedman_mse, max_depth=None, min_samples_leaf=5, min_samples_split=10, total=   1.4s\n",
      "[CV] criterion=friedman_mse, max_depth=None, min_samples_leaf=5, min_samples_split=20 \n",
      "[CV]  criterion=friedman_mse, max_depth=None, min_samples_leaf=5, min_samples_split=20, total=   1.4s\n",
      "[CV] criterion=friedman_mse, max_depth=None, min_samples_leaf=5, min_samples_split=20 \n",
      "[CV]  criterion=friedman_mse, max_depth=None, min_samples_leaf=5, min_samples_split=20, total=   1.4s\n",
      "[CV] criterion=friedman_mse, max_depth=None, min_samples_leaf=5, min_samples_split=20 \n",
      "[CV]  criterion=friedman_mse, max_depth=None, min_samples_leaf=5, min_samples_split=20, total=   1.4s\n",
      "[CV] criterion=friedman_mse, max_depth=None, min_samples_leaf=10, min_samples_split=2 \n",
      "[CV]  criterion=friedman_mse, max_depth=None, min_samples_leaf=10, min_samples_split=2, total=   1.3s\n",
      "[CV] criterion=friedman_mse, max_depth=None, min_samples_leaf=10, min_samples_split=2 \n",
      "[CV]  criterion=friedman_mse, max_depth=None, min_samples_leaf=10, min_samples_split=2, total=   1.3s\n",
      "[CV] criterion=friedman_mse, max_depth=None, min_samples_leaf=10, min_samples_split=2 \n",
      "[CV]  criterion=friedman_mse, max_depth=None, min_samples_leaf=10, min_samples_split=2, total=   1.3s\n",
      "[CV] criterion=friedman_mse, max_depth=None, min_samples_leaf=10, min_samples_split=4 \n",
      "[CV]  criterion=friedman_mse, max_depth=None, min_samples_leaf=10, min_samples_split=4, total=   1.3s\n",
      "[CV] criterion=friedman_mse, max_depth=None, min_samples_leaf=10, min_samples_split=4 \n",
      "[CV]  criterion=friedman_mse, max_depth=None, min_samples_leaf=10, min_samples_split=4, total=   1.3s\n",
      "[CV] criterion=friedman_mse, max_depth=None, min_samples_leaf=10, min_samples_split=4 \n",
      "[CV]  criterion=friedman_mse, max_depth=None, min_samples_leaf=10, min_samples_split=4, total=   1.3s\n",
      "[CV] criterion=friedman_mse, max_depth=None, min_samples_leaf=10, min_samples_split=6 \n",
      "[CV]  criterion=friedman_mse, max_depth=None, min_samples_leaf=10, min_samples_split=6, total=   1.3s\n",
      "[CV] criterion=friedman_mse, max_depth=None, min_samples_leaf=10, min_samples_split=6 \n",
      "[CV]  criterion=friedman_mse, max_depth=None, min_samples_leaf=10, min_samples_split=6, total=   1.3s\n",
      "[CV] criterion=friedman_mse, max_depth=None, min_samples_leaf=10, min_samples_split=6 \n",
      "[CV]  criterion=friedman_mse, max_depth=None, min_samples_leaf=10, min_samples_split=6, total=   1.3s\n",
      "[CV] criterion=friedman_mse, max_depth=None, min_samples_leaf=10, min_samples_split=10 \n",
      "[CV]  criterion=friedman_mse, max_depth=None, min_samples_leaf=10, min_samples_split=10, total=   1.3s\n",
      "[CV] criterion=friedman_mse, max_depth=None, min_samples_leaf=10, min_samples_split=10 \n",
      "[CV]  criterion=friedman_mse, max_depth=None, min_samples_leaf=10, min_samples_split=10, total=   1.3s\n",
      "[CV] criterion=friedman_mse, max_depth=None, min_samples_leaf=10, min_samples_split=10 \n",
      "[CV]  criterion=friedman_mse, max_depth=None, min_samples_leaf=10, min_samples_split=10, total=   1.3s\n",
      "[CV] criterion=friedman_mse, max_depth=None, min_samples_leaf=10, min_samples_split=20 \n",
      "[CV]  criterion=friedman_mse, max_depth=None, min_samples_leaf=10, min_samples_split=20, total=   1.3s\n",
      "[CV] criterion=friedman_mse, max_depth=None, min_samples_leaf=10, min_samples_split=20 \n",
      "[CV]  criterion=friedman_mse, max_depth=None, min_samples_leaf=10, min_samples_split=20, total=   1.3s\n",
      "[CV] criterion=friedman_mse, max_depth=None, min_samples_leaf=10, min_samples_split=20 \n",
      "[CV]  criterion=friedman_mse, max_depth=None, min_samples_leaf=10, min_samples_split=20, total=   1.3s\n",
      "[CV] criterion=friedman_mse, max_depth=None, min_samples_leaf=30, min_samples_split=2 \n",
      "[CV]  criterion=friedman_mse, max_depth=None, min_samples_leaf=30, min_samples_split=2, total=   1.1s\n",
      "[CV] criterion=friedman_mse, max_depth=None, min_samples_leaf=30, min_samples_split=2 \n",
      "[CV]  criterion=friedman_mse, max_depth=None, min_samples_leaf=30, min_samples_split=2, total=   1.1s\n",
      "[CV] criterion=friedman_mse, max_depth=None, min_samples_leaf=30, min_samples_split=2 \n",
      "[CV]  criterion=friedman_mse, max_depth=None, min_samples_leaf=30, min_samples_split=2, total=   1.1s\n",
      "[CV] criterion=friedman_mse, max_depth=None, min_samples_leaf=30, min_samples_split=4 \n",
      "[CV]  criterion=friedman_mse, max_depth=None, min_samples_leaf=30, min_samples_split=4, total=   1.1s\n",
      "[CV] criterion=friedman_mse, max_depth=None, min_samples_leaf=30, min_samples_split=4 \n",
      "[CV]  criterion=friedman_mse, max_depth=None, min_samples_leaf=30, min_samples_split=4, total=   1.1s\n",
      "[CV] criterion=friedman_mse, max_depth=None, min_samples_leaf=30, min_samples_split=4 \n",
      "[CV]  criterion=friedman_mse, max_depth=None, min_samples_leaf=30, min_samples_split=4, total=   1.1s\n",
      "[CV] criterion=friedman_mse, max_depth=None, min_samples_leaf=30, min_samples_split=6 \n",
      "[CV]  criterion=friedman_mse, max_depth=None, min_samples_leaf=30, min_samples_split=6, total=   1.1s\n",
      "[CV] criterion=friedman_mse, max_depth=None, min_samples_leaf=30, min_samples_split=6 \n",
      "[CV]  criterion=friedman_mse, max_depth=None, min_samples_leaf=30, min_samples_split=6, total=   1.1s\n",
      "[CV] criterion=friedman_mse, max_depth=None, min_samples_leaf=30, min_samples_split=6 \n",
      "[CV]  criterion=friedman_mse, max_depth=None, min_samples_leaf=30, min_samples_split=6, total=   1.1s\n",
      "[CV] criterion=friedman_mse, max_depth=None, min_samples_leaf=30, min_samples_split=10 \n",
      "[CV]  criterion=friedman_mse, max_depth=None, min_samples_leaf=30, min_samples_split=10, total=   1.1s\n",
      "[CV] criterion=friedman_mse, max_depth=None, min_samples_leaf=30, min_samples_split=10 \n",
      "[CV]  criterion=friedman_mse, max_depth=None, min_samples_leaf=30, min_samples_split=10, total=   1.1s\n",
      "[CV] criterion=friedman_mse, max_depth=None, min_samples_leaf=30, min_samples_split=10 \n",
      "[CV]  criterion=friedman_mse, max_depth=None, min_samples_leaf=30, min_samples_split=10, total=   1.1s\n",
      "[CV] criterion=friedman_mse, max_depth=None, min_samples_leaf=30, min_samples_split=20 \n",
      "[CV]  criterion=friedman_mse, max_depth=None, min_samples_leaf=30, min_samples_split=20, total=   1.1s\n",
      "[CV] criterion=friedman_mse, max_depth=None, min_samples_leaf=30, min_samples_split=20 \n",
      "[CV]  criterion=friedman_mse, max_depth=None, min_samples_leaf=30, min_samples_split=20, total=   1.1s\n",
      "[CV] criterion=friedman_mse, max_depth=None, min_samples_leaf=30, min_samples_split=20 \n",
      "[CV]  criterion=friedman_mse, max_depth=None, min_samples_leaf=30, min_samples_split=20, total=   1.1s\n",
      "[CV] criterion=friedman_mse, max_depth=None, min_samples_leaf=50, min_samples_split=2 \n",
      "[CV]  criterion=friedman_mse, max_depth=None, min_samples_leaf=50, min_samples_split=2, total=   1.0s\n",
      "[CV] criterion=friedman_mse, max_depth=None, min_samples_leaf=50, min_samples_split=2 \n",
      "[CV]  criterion=friedman_mse, max_depth=None, min_samples_leaf=50, min_samples_split=2, total=   1.0s\n",
      "[CV] criterion=friedman_mse, max_depth=None, min_samples_leaf=50, min_samples_split=2 \n",
      "[CV]  criterion=friedman_mse, max_depth=None, min_samples_leaf=50, min_samples_split=2, total=   1.0s\n",
      "[CV] criterion=friedman_mse, max_depth=None, min_samples_leaf=50, min_samples_split=4 \n",
      "[CV]  criterion=friedman_mse, max_depth=None, min_samples_leaf=50, min_samples_split=4, total=   1.0s\n",
      "[CV] criterion=friedman_mse, max_depth=None, min_samples_leaf=50, min_samples_split=4 \n",
      "[CV]  criterion=friedman_mse, max_depth=None, min_samples_leaf=50, min_samples_split=4, total=   1.0s\n",
      "[CV] criterion=friedman_mse, max_depth=None, min_samples_leaf=50, min_samples_split=4 \n",
      "[CV]  criterion=friedman_mse, max_depth=None, min_samples_leaf=50, min_samples_split=4, total=   1.0s\n",
      "[CV] criterion=friedman_mse, max_depth=None, min_samples_leaf=50, min_samples_split=6 \n",
      "[CV]  criterion=friedman_mse, max_depth=None, min_samples_leaf=50, min_samples_split=6, total=   1.0s\n",
      "[CV] criterion=friedman_mse, max_depth=None, min_samples_leaf=50, min_samples_split=6 \n"
     ]
    },
    {
     "name": "stdout",
     "output_type": "stream",
     "text": [
      "[CV]  criterion=friedman_mse, max_depth=None, min_samples_leaf=50, min_samples_split=6, total=   1.0s\n",
      "[CV] criterion=friedman_mse, max_depth=None, min_samples_leaf=50, min_samples_split=6 \n",
      "[CV]  criterion=friedman_mse, max_depth=None, min_samples_leaf=50, min_samples_split=6, total=   1.0s\n",
      "[CV] criterion=friedman_mse, max_depth=None, min_samples_leaf=50, min_samples_split=10 \n",
      "[CV]  criterion=friedman_mse, max_depth=None, min_samples_leaf=50, min_samples_split=10, total=   1.0s\n",
      "[CV] criterion=friedman_mse, max_depth=None, min_samples_leaf=50, min_samples_split=10 \n",
      "[CV]  criterion=friedman_mse, max_depth=None, min_samples_leaf=50, min_samples_split=10, total=   1.0s\n",
      "[CV] criterion=friedman_mse, max_depth=None, min_samples_leaf=50, min_samples_split=10 \n",
      "[CV]  criterion=friedman_mse, max_depth=None, min_samples_leaf=50, min_samples_split=10, total=   1.0s\n",
      "[CV] criterion=friedman_mse, max_depth=None, min_samples_leaf=50, min_samples_split=20 \n",
      "[CV]  criterion=friedman_mse, max_depth=None, min_samples_leaf=50, min_samples_split=20, total=   1.0s\n",
      "[CV] criterion=friedman_mse, max_depth=None, min_samples_leaf=50, min_samples_split=20 \n",
      "[CV]  criterion=friedman_mse, max_depth=None, min_samples_leaf=50, min_samples_split=20, total=   1.0s\n",
      "[CV] criterion=friedman_mse, max_depth=None, min_samples_leaf=50, min_samples_split=20 \n",
      "[CV]  criterion=friedman_mse, max_depth=None, min_samples_leaf=50, min_samples_split=20, total=   1.0s\n",
      "[CV] criterion=friedman_mse, max_depth=None, min_samples_leaf=70, min_samples_split=2 \n",
      "[CV]  criterion=friedman_mse, max_depth=None, min_samples_leaf=70, min_samples_split=2, total=   0.9s\n",
      "[CV] criterion=friedman_mse, max_depth=None, min_samples_leaf=70, min_samples_split=2 \n",
      "[CV]  criterion=friedman_mse, max_depth=None, min_samples_leaf=70, min_samples_split=2, total=   0.9s\n",
      "[CV] criterion=friedman_mse, max_depth=None, min_samples_leaf=70, min_samples_split=2 \n",
      "[CV]  criterion=friedman_mse, max_depth=None, min_samples_leaf=70, min_samples_split=2, total=   0.9s\n",
      "[CV] criterion=friedman_mse, max_depth=None, min_samples_leaf=70, min_samples_split=4 \n",
      "[CV]  criterion=friedman_mse, max_depth=None, min_samples_leaf=70, min_samples_split=4, total=   0.9s\n",
      "[CV] criterion=friedman_mse, max_depth=None, min_samples_leaf=70, min_samples_split=4 \n",
      "[CV]  criterion=friedman_mse, max_depth=None, min_samples_leaf=70, min_samples_split=4, total=   0.9s\n",
      "[CV] criterion=friedman_mse, max_depth=None, min_samples_leaf=70, min_samples_split=4 \n",
      "[CV]  criterion=friedman_mse, max_depth=None, min_samples_leaf=70, min_samples_split=4, total=   0.9s\n",
      "[CV] criterion=friedman_mse, max_depth=None, min_samples_leaf=70, min_samples_split=6 \n",
      "[CV]  criterion=friedman_mse, max_depth=None, min_samples_leaf=70, min_samples_split=6, total=   0.9s\n",
      "[CV] criterion=friedman_mse, max_depth=None, min_samples_leaf=70, min_samples_split=6 \n",
      "[CV]  criterion=friedman_mse, max_depth=None, min_samples_leaf=70, min_samples_split=6, total=   0.9s\n",
      "[CV] criterion=friedman_mse, max_depth=None, min_samples_leaf=70, min_samples_split=6 \n",
      "[CV]  criterion=friedman_mse, max_depth=None, min_samples_leaf=70, min_samples_split=6, total=   0.9s\n",
      "[CV] criterion=friedman_mse, max_depth=None, min_samples_leaf=70, min_samples_split=10 \n",
      "[CV]  criterion=friedman_mse, max_depth=None, min_samples_leaf=70, min_samples_split=10, total=   0.9s\n",
      "[CV] criterion=friedman_mse, max_depth=None, min_samples_leaf=70, min_samples_split=10 \n",
      "[CV]  criterion=friedman_mse, max_depth=None, min_samples_leaf=70, min_samples_split=10, total=   0.9s\n",
      "[CV] criterion=friedman_mse, max_depth=None, min_samples_leaf=70, min_samples_split=10 \n",
      "[CV]  criterion=friedman_mse, max_depth=None, min_samples_leaf=70, min_samples_split=10, total=   0.9s\n",
      "[CV] criterion=friedman_mse, max_depth=None, min_samples_leaf=70, min_samples_split=20 \n",
      "[CV]  criterion=friedman_mse, max_depth=None, min_samples_leaf=70, min_samples_split=20, total=   0.9s\n",
      "[CV] criterion=friedman_mse, max_depth=None, min_samples_leaf=70, min_samples_split=20 \n",
      "[CV]  criterion=friedman_mse, max_depth=None, min_samples_leaf=70, min_samples_split=20, total=   0.9s\n",
      "[CV] criterion=friedman_mse, max_depth=None, min_samples_leaf=70, min_samples_split=20 \n",
      "[CV]  criterion=friedman_mse, max_depth=None, min_samples_leaf=70, min_samples_split=20, total=   0.9s\n",
      "[CV] criterion=friedman_mse, max_depth=None, min_samples_leaf=100, min_samples_split=2 \n",
      "[CV]  criterion=friedman_mse, max_depth=None, min_samples_leaf=100, min_samples_split=2, total=   0.8s\n",
      "[CV] criterion=friedman_mse, max_depth=None, min_samples_leaf=100, min_samples_split=2 \n",
      "[CV]  criterion=friedman_mse, max_depth=None, min_samples_leaf=100, min_samples_split=2, total=   0.9s\n",
      "[CV] criterion=friedman_mse, max_depth=None, min_samples_leaf=100, min_samples_split=2 \n",
      "[CV]  criterion=friedman_mse, max_depth=None, min_samples_leaf=100, min_samples_split=2, total=   0.9s\n",
      "[CV] criterion=friedman_mse, max_depth=None, min_samples_leaf=100, min_samples_split=4 \n",
      "[CV]  criterion=friedman_mse, max_depth=None, min_samples_leaf=100, min_samples_split=4, total=   0.9s\n",
      "[CV] criterion=friedman_mse, max_depth=None, min_samples_leaf=100, min_samples_split=4 \n",
      "[CV]  criterion=friedman_mse, max_depth=None, min_samples_leaf=100, min_samples_split=4, total=   0.9s\n",
      "[CV] criterion=friedman_mse, max_depth=None, min_samples_leaf=100, min_samples_split=4 \n",
      "[CV]  criterion=friedman_mse, max_depth=None, min_samples_leaf=100, min_samples_split=4, total=   0.9s\n",
      "[CV] criterion=friedman_mse, max_depth=None, min_samples_leaf=100, min_samples_split=6 \n",
      "[CV]  criterion=friedman_mse, max_depth=None, min_samples_leaf=100, min_samples_split=6, total=   0.8s\n",
      "[CV] criterion=friedman_mse, max_depth=None, min_samples_leaf=100, min_samples_split=6 \n",
      "[CV]  criterion=friedman_mse, max_depth=None, min_samples_leaf=100, min_samples_split=6, total=   0.9s\n",
      "[CV] criterion=friedman_mse, max_depth=None, min_samples_leaf=100, min_samples_split=6 \n",
      "[CV]  criterion=friedman_mse, max_depth=None, min_samples_leaf=100, min_samples_split=6, total=   0.9s\n",
      "[CV] criterion=friedman_mse, max_depth=None, min_samples_leaf=100, min_samples_split=10 \n",
      "[CV]  criterion=friedman_mse, max_depth=None, min_samples_leaf=100, min_samples_split=10, total=   0.8s\n",
      "[CV] criterion=friedman_mse, max_depth=None, min_samples_leaf=100, min_samples_split=10 \n",
      "[CV]  criterion=friedman_mse, max_depth=None, min_samples_leaf=100, min_samples_split=10, total=   0.9s\n",
      "[CV] criterion=friedman_mse, max_depth=None, min_samples_leaf=100, min_samples_split=10 \n",
      "[CV]  criterion=friedman_mse, max_depth=None, min_samples_leaf=100, min_samples_split=10, total=   0.9s\n",
      "[CV] criterion=friedman_mse, max_depth=None, min_samples_leaf=100, min_samples_split=20 \n",
      "[CV]  criterion=friedman_mse, max_depth=None, min_samples_leaf=100, min_samples_split=20, total=   0.9s\n",
      "[CV] criterion=friedman_mse, max_depth=None, min_samples_leaf=100, min_samples_split=20 \n",
      "[CV]  criterion=friedman_mse, max_depth=None, min_samples_leaf=100, min_samples_split=20, total=   0.9s\n",
      "[CV] criterion=friedman_mse, max_depth=None, min_samples_leaf=100, min_samples_split=20 \n",
      "[CV]  criterion=friedman_mse, max_depth=None, min_samples_leaf=100, min_samples_split=20, total=   0.9s\n"
     ]
    },
    {
     "name": "stderr",
     "output_type": "stream",
     "text": [
      "[Parallel(n_jobs=1)]: Done 840 out of 840 | elapsed: 10.8min finished\n"
     ]
    },
    {
     "data": {
      "text/plain": [
       "GridSearchCV(cv=3, error_score='raise-deprecating',\n",
       "       estimator=DecisionTreeRegressor(criterion='mse', max_depth=None, max_features=None,\n",
       "           max_leaf_nodes=None, min_impurity_decrease=0.0,\n",
       "           min_impurity_split=None, min_samples_leaf=1,\n",
       "           min_samples_split=2, min_weight_fraction_leaf=0.0,\n",
       "           presort=False, random_state=None, splitter='best'),\n",
       "       fit_params=None, iid='warn', n_jobs=None,\n",
       "       param_grid={'criterion': ['mse', 'friedman_mse'], 'max_depth': [2, 5, 10, None], 'min_samples_split': [2, 4, 6, 10, 20], 'min_samples_leaf': [1, 5, 10, 30, 50, 70, 100]},\n",
       "       pre_dispatch='2*n_jobs', refit=True, return_train_score='warn',\n",
       "       scoring=None, verbose=2)"
      ]
     },
     "execution_count": 154,
     "metadata": {},
     "output_type": "execute_result"
    }
   ],
   "source": [
    "\n",
    "grid_dtr.fit(X_train,y_train)"
   ]
  },
  {
   "cell_type": "code",
   "execution_count": 155,
   "metadata": {},
   "outputs": [
    {
     "data": {
      "text/plain": [
       "{'criterion': 'mse',\n",
       " 'max_depth': 5,\n",
       " 'min_samples_leaf': 100,\n",
       " 'min_samples_split': 2}"
      ]
     },
     "execution_count": 155,
     "metadata": {},
     "output_type": "execute_result"
    }
   ],
   "source": [
    "grid_dtr.best_params_"
   ]
  },
  {
   "cell_type": "code",
   "execution_count": 156,
   "metadata": {},
   "outputs": [
    {
     "data": {
      "text/plain": [
       "0.26617069352553746"
      ]
     },
     "execution_count": 156,
     "metadata": {},
     "output_type": "execute_result"
    }
   ],
   "source": [
    "grid_dtr.best_score_"
   ]
  },
  {
   "cell_type": "markdown",
   "metadata": {},
   "source": [
    "26.6% of Variance explained by Decision Tree Regression Model with split criterion of Mean Squared Error, Maximum Depth of 5, Minimum Samples per Leaf of 100 and Minimum Samples per Split of 2"
   ]
  },
  {
   "cell_type": "markdown",
   "metadata": {},
   "source": [
    "Grid Search for ideal parameters to maximise R-Squared using Random Forest Regressor"
   ]
  },
  {
   "cell_type": "code",
   "execution_count": 157,
   "metadata": {
    "scrolled": true
   },
   "outputs": [
    {
     "name": "stdout",
     "output_type": "stream",
     "text": [
      "Fitting 3 folds for each of 96 candidates, totalling 288 fits\n",
      "[CV] criterion=mse, max_depth=2, min_samples_leaf=1, min_samples_split=2, n_estimators=10 \n"
     ]
    },
    {
     "name": "stderr",
     "output_type": "stream",
     "text": [
      "[Parallel(n_jobs=1)]: Using backend SequentialBackend with 1 concurrent workers.\n"
     ]
    },
    {
     "name": "stdout",
     "output_type": "stream",
     "text": [
      "[CV]  criterion=mse, max_depth=2, min_samples_leaf=1, min_samples_split=2, n_estimators=10, total=   1.2s\n",
      "[CV] criterion=mse, max_depth=2, min_samples_leaf=1, min_samples_split=2, n_estimators=10 \n"
     ]
    },
    {
     "name": "stderr",
     "output_type": "stream",
     "text": [
      "[Parallel(n_jobs=1)]: Done   1 out of   1 | elapsed:    1.2s remaining:    0.0s\n"
     ]
    },
    {
     "name": "stdout",
     "output_type": "stream",
     "text": [
      "[CV]  criterion=mse, max_depth=2, min_samples_leaf=1, min_samples_split=2, n_estimators=10, total=   1.2s\n",
      "[CV] criterion=mse, max_depth=2, min_samples_leaf=1, min_samples_split=2, n_estimators=10 \n",
      "[CV]  criterion=mse, max_depth=2, min_samples_leaf=1, min_samples_split=2, n_estimators=10, total=   1.2s\n",
      "[CV] criterion=mse, max_depth=2, min_samples_leaf=1, min_samples_split=2, n_estimators=100 \n",
      "[CV]  criterion=mse, max_depth=2, min_samples_leaf=1, min_samples_split=2, n_estimators=100, total=  12.5s\n",
      "[CV] criterion=mse, max_depth=2, min_samples_leaf=1, min_samples_split=2, n_estimators=100 \n",
      "[CV]  criterion=mse, max_depth=2, min_samples_leaf=1, min_samples_split=2, n_estimators=100, total=  12.6s\n",
      "[CV] criterion=mse, max_depth=2, min_samples_leaf=1, min_samples_split=2, n_estimators=100 \n",
      "[CV]  criterion=mse, max_depth=2, min_samples_leaf=1, min_samples_split=2, n_estimators=100, total=  12.2s\n",
      "[CV] criterion=mse, max_depth=2, min_samples_leaf=1, min_samples_split=4, n_estimators=10 \n",
      "[CV]  criterion=mse, max_depth=2, min_samples_leaf=1, min_samples_split=4, n_estimators=10, total=   1.2s\n",
      "[CV] criterion=mse, max_depth=2, min_samples_leaf=1, min_samples_split=4, n_estimators=10 \n",
      "[CV]  criterion=mse, max_depth=2, min_samples_leaf=1, min_samples_split=4, n_estimators=10, total=   1.2s\n",
      "[CV] criterion=mse, max_depth=2, min_samples_leaf=1, min_samples_split=4, n_estimators=10 \n",
      "[CV]  criterion=mse, max_depth=2, min_samples_leaf=1, min_samples_split=4, n_estimators=10, total=   1.2s\n",
      "[CV] criterion=mse, max_depth=2, min_samples_leaf=1, min_samples_split=4, n_estimators=100 \n",
      "[CV]  criterion=mse, max_depth=2, min_samples_leaf=1, min_samples_split=4, n_estimators=100, total=  12.6s\n",
      "[CV] criterion=mse, max_depth=2, min_samples_leaf=1, min_samples_split=4, n_estimators=100 \n",
      "[CV]  criterion=mse, max_depth=2, min_samples_leaf=1, min_samples_split=4, n_estimators=100, total=  12.7s\n",
      "[CV] criterion=mse, max_depth=2, min_samples_leaf=1, min_samples_split=4, n_estimators=100 \n",
      "[CV]  criterion=mse, max_depth=2, min_samples_leaf=1, min_samples_split=4, n_estimators=100, total=  12.3s\n",
      "[CV] criterion=mse, max_depth=2, min_samples_leaf=1, min_samples_split=6, n_estimators=10 \n",
      "[CV]  criterion=mse, max_depth=2, min_samples_leaf=1, min_samples_split=6, n_estimators=10, total=   1.2s\n",
      "[CV] criterion=mse, max_depth=2, min_samples_leaf=1, min_samples_split=6, n_estimators=10 \n",
      "[CV]  criterion=mse, max_depth=2, min_samples_leaf=1, min_samples_split=6, n_estimators=10, total=   1.1s\n",
      "[CV] criterion=mse, max_depth=2, min_samples_leaf=1, min_samples_split=6, n_estimators=10 \n",
      "[CV]  criterion=mse, max_depth=2, min_samples_leaf=1, min_samples_split=6, n_estimators=10, total=   1.2s\n",
      "[CV] criterion=mse, max_depth=2, min_samples_leaf=1, min_samples_split=6, n_estimators=100 \n",
      "[CV]  criterion=mse, max_depth=2, min_samples_leaf=1, min_samples_split=6, n_estimators=100, total=  12.7s\n",
      "[CV] criterion=mse, max_depth=2, min_samples_leaf=1, min_samples_split=6, n_estimators=100 \n",
      "[CV]  criterion=mse, max_depth=2, min_samples_leaf=1, min_samples_split=6, n_estimators=100, total=  12.3s\n",
      "[CV] criterion=mse, max_depth=2, min_samples_leaf=1, min_samples_split=6, n_estimators=100 \n",
      "[CV]  criterion=mse, max_depth=2, min_samples_leaf=1, min_samples_split=6, n_estimators=100, total=  12.4s\n",
      "[CV] criterion=mse, max_depth=2, min_samples_leaf=1, min_samples_split=10, n_estimators=10 \n",
      "[CV]  criterion=mse, max_depth=2, min_samples_leaf=1, min_samples_split=10, n_estimators=10, total=   1.2s\n",
      "[CV] criterion=mse, max_depth=2, min_samples_leaf=1, min_samples_split=10, n_estimators=10 \n",
      "[CV]  criterion=mse, max_depth=2, min_samples_leaf=1, min_samples_split=10, n_estimators=10, total=   1.1s\n",
      "[CV] criterion=mse, max_depth=2, min_samples_leaf=1, min_samples_split=10, n_estimators=10 \n",
      "[CV]  criterion=mse, max_depth=2, min_samples_leaf=1, min_samples_split=10, n_estimators=10, total=   1.1s\n",
      "[CV] criterion=mse, max_depth=2, min_samples_leaf=1, min_samples_split=10, n_estimators=100 \n",
      "[CV]  criterion=mse, max_depth=2, min_samples_leaf=1, min_samples_split=10, n_estimators=100, total=  12.7s\n",
      "[CV] criterion=mse, max_depth=2, min_samples_leaf=1, min_samples_split=10, n_estimators=100 \n",
      "[CV]  criterion=mse, max_depth=2, min_samples_leaf=1, min_samples_split=10, n_estimators=100, total=  12.3s\n",
      "[CV] criterion=mse, max_depth=2, min_samples_leaf=1, min_samples_split=10, n_estimators=100 \n",
      "[CV]  criterion=mse, max_depth=2, min_samples_leaf=1, min_samples_split=10, n_estimators=100, total=  12.3s\n",
      "[CV] criterion=mse, max_depth=2, min_samples_leaf=5, min_samples_split=2, n_estimators=10 \n",
      "[CV]  criterion=mse, max_depth=2, min_samples_leaf=5, min_samples_split=2, n_estimators=10, total=   1.2s\n",
      "[CV] criterion=mse, max_depth=2, min_samples_leaf=5, min_samples_split=2, n_estimators=10 \n",
      "[CV]  criterion=mse, max_depth=2, min_samples_leaf=5, min_samples_split=2, n_estimators=10, total=   1.1s\n",
      "[CV] criterion=mse, max_depth=2, min_samples_leaf=5, min_samples_split=2, n_estimators=10 \n",
      "[CV]  criterion=mse, max_depth=2, min_samples_leaf=5, min_samples_split=2, n_estimators=10, total=   1.1s\n",
      "[CV] criterion=mse, max_depth=2, min_samples_leaf=5, min_samples_split=2, n_estimators=100 \n",
      "[CV]  criterion=mse, max_depth=2, min_samples_leaf=5, min_samples_split=2, n_estimators=100, total=  12.3s\n",
      "[CV] criterion=mse, max_depth=2, min_samples_leaf=5, min_samples_split=2, n_estimators=100 \n",
      "[CV]  criterion=mse, max_depth=2, min_samples_leaf=5, min_samples_split=2, n_estimators=100, total=  12.2s\n",
      "[CV] criterion=mse, max_depth=2, min_samples_leaf=5, min_samples_split=2, n_estimators=100 \n",
      "[CV]  criterion=mse, max_depth=2, min_samples_leaf=5, min_samples_split=2, n_estimators=100, total=  12.3s\n",
      "[CV] criterion=mse, max_depth=2, min_samples_leaf=5, min_samples_split=4, n_estimators=10 \n",
      "[CV]  criterion=mse, max_depth=2, min_samples_leaf=5, min_samples_split=4, n_estimators=10, total=   1.2s\n",
      "[CV] criterion=mse, max_depth=2, min_samples_leaf=5, min_samples_split=4, n_estimators=10 \n",
      "[CV]  criterion=mse, max_depth=2, min_samples_leaf=5, min_samples_split=4, n_estimators=10, total=   1.2s\n",
      "[CV] criterion=mse, max_depth=2, min_samples_leaf=5, min_samples_split=4, n_estimators=10 \n",
      "[CV]  criterion=mse, max_depth=2, min_samples_leaf=5, min_samples_split=4, n_estimators=10, total=   1.2s\n",
      "[CV] criterion=mse, max_depth=2, min_samples_leaf=5, min_samples_split=4, n_estimators=100 \n",
      "[CV]  criterion=mse, max_depth=2, min_samples_leaf=5, min_samples_split=4, n_estimators=100, total=  12.3s\n",
      "[CV] criterion=mse, max_depth=2, min_samples_leaf=5, min_samples_split=4, n_estimators=100 \n",
      "[CV]  criterion=mse, max_depth=2, min_samples_leaf=5, min_samples_split=4, n_estimators=100, total=  12.3s\n",
      "[CV] criterion=mse, max_depth=2, min_samples_leaf=5, min_samples_split=4, n_estimators=100 \n",
      "[CV]  criterion=mse, max_depth=2, min_samples_leaf=5, min_samples_split=4, n_estimators=100, total=  12.3s\n",
      "[CV] criterion=mse, max_depth=2, min_samples_leaf=5, min_samples_split=6, n_estimators=10 \n",
      "[CV]  criterion=mse, max_depth=2, min_samples_leaf=5, min_samples_split=6, n_estimators=10, total=   1.1s\n",
      "[CV] criterion=mse, max_depth=2, min_samples_leaf=5, min_samples_split=6, n_estimators=10 \n",
      "[CV]  criterion=mse, max_depth=2, min_samples_leaf=5, min_samples_split=6, n_estimators=10, total=   1.2s\n",
      "[CV] criterion=mse, max_depth=2, min_samples_leaf=5, min_samples_split=6, n_estimators=10 \n",
      "[CV]  criterion=mse, max_depth=2, min_samples_leaf=5, min_samples_split=6, n_estimators=10, total=   1.2s\n",
      "[CV] criterion=mse, max_depth=2, min_samples_leaf=5, min_samples_split=6, n_estimators=100 \n",
      "[CV]  criterion=mse, max_depth=2, min_samples_leaf=5, min_samples_split=6, n_estimators=100, total=  12.2s\n",
      "[CV] criterion=mse, max_depth=2, min_samples_leaf=5, min_samples_split=6, n_estimators=100 \n",
      "[CV]  criterion=mse, max_depth=2, min_samples_leaf=5, min_samples_split=6, n_estimators=100, total=  12.5s\n",
      "[CV] criterion=mse, max_depth=2, min_samples_leaf=5, min_samples_split=6, n_estimators=100 \n",
      "[CV]  criterion=mse, max_depth=2, min_samples_leaf=5, min_samples_split=6, n_estimators=100, total=  12.3s\n",
      "[CV] criterion=mse, max_depth=2, min_samples_leaf=5, min_samples_split=10, n_estimators=10 \n",
      "[CV]  criterion=mse, max_depth=2, min_samples_leaf=5, min_samples_split=10, n_estimators=10, total=   1.2s\n",
      "[CV] criterion=mse, max_depth=2, min_samples_leaf=5, min_samples_split=10, n_estimators=10 \n"
     ]
    },
    {
     "name": "stdout",
     "output_type": "stream",
     "text": [
      "[CV]  criterion=mse, max_depth=2, min_samples_leaf=5, min_samples_split=10, n_estimators=10, total=   1.2s\n",
      "[CV] criterion=mse, max_depth=2, min_samples_leaf=5, min_samples_split=10, n_estimators=10 \n",
      "[CV]  criterion=mse, max_depth=2, min_samples_leaf=5, min_samples_split=10, n_estimators=10, total=   1.1s\n",
      "[CV] criterion=mse, max_depth=2, min_samples_leaf=5, min_samples_split=10, n_estimators=100 \n",
      "[CV]  criterion=mse, max_depth=2, min_samples_leaf=5, min_samples_split=10, n_estimators=100, total=  12.5s\n",
      "[CV] criterion=mse, max_depth=2, min_samples_leaf=5, min_samples_split=10, n_estimators=100 \n",
      "[CV]  criterion=mse, max_depth=2, min_samples_leaf=5, min_samples_split=10, n_estimators=100, total=  12.4s\n",
      "[CV] criterion=mse, max_depth=2, min_samples_leaf=5, min_samples_split=10, n_estimators=100 \n",
      "[CV]  criterion=mse, max_depth=2, min_samples_leaf=5, min_samples_split=10, n_estimators=100, total=  12.3s\n",
      "[CV] criterion=mse, max_depth=2, min_samples_leaf=10, min_samples_split=2, n_estimators=10 \n",
      "[CV]  criterion=mse, max_depth=2, min_samples_leaf=10, min_samples_split=2, n_estimators=10, total=   1.1s\n",
      "[CV] criterion=mse, max_depth=2, min_samples_leaf=10, min_samples_split=2, n_estimators=10 \n",
      "[CV]  criterion=mse, max_depth=2, min_samples_leaf=10, min_samples_split=2, n_estimators=10, total=   1.2s\n",
      "[CV] criterion=mse, max_depth=2, min_samples_leaf=10, min_samples_split=2, n_estimators=10 \n",
      "[CV]  criterion=mse, max_depth=2, min_samples_leaf=10, min_samples_split=2, n_estimators=10, total=   1.2s\n",
      "[CV] criterion=mse, max_depth=2, min_samples_leaf=10, min_samples_split=2, n_estimators=100 \n",
      "[CV]  criterion=mse, max_depth=2, min_samples_leaf=10, min_samples_split=2, n_estimators=100, total=  12.4s\n",
      "[CV] criterion=mse, max_depth=2, min_samples_leaf=10, min_samples_split=2, n_estimators=100 \n",
      "[CV]  criterion=mse, max_depth=2, min_samples_leaf=10, min_samples_split=2, n_estimators=100, total=  12.8s\n",
      "[CV] criterion=mse, max_depth=2, min_samples_leaf=10, min_samples_split=2, n_estimators=100 \n",
      "[CV]  criterion=mse, max_depth=2, min_samples_leaf=10, min_samples_split=2, n_estimators=100, total=  12.5s\n",
      "[CV] criterion=mse, max_depth=2, min_samples_leaf=10, min_samples_split=4, n_estimators=10 \n",
      "[CV]  criterion=mse, max_depth=2, min_samples_leaf=10, min_samples_split=4, n_estimators=10, total=   1.2s\n",
      "[CV] criterion=mse, max_depth=2, min_samples_leaf=10, min_samples_split=4, n_estimators=10 \n",
      "[CV]  criterion=mse, max_depth=2, min_samples_leaf=10, min_samples_split=4, n_estimators=10, total=   1.2s\n",
      "[CV] criterion=mse, max_depth=2, min_samples_leaf=10, min_samples_split=4, n_estimators=10 \n",
      "[CV]  criterion=mse, max_depth=2, min_samples_leaf=10, min_samples_split=4, n_estimators=10, total=   1.2s\n",
      "[CV] criterion=mse, max_depth=2, min_samples_leaf=10, min_samples_split=4, n_estimators=100 \n",
      "[CV]  criterion=mse, max_depth=2, min_samples_leaf=10, min_samples_split=4, n_estimators=100, total=  12.4s\n",
      "[CV] criterion=mse, max_depth=2, min_samples_leaf=10, min_samples_split=4, n_estimators=100 \n",
      "[CV]  criterion=mse, max_depth=2, min_samples_leaf=10, min_samples_split=4, n_estimators=100, total=  12.3s\n",
      "[CV] criterion=mse, max_depth=2, min_samples_leaf=10, min_samples_split=4, n_estimators=100 \n",
      "[CV]  criterion=mse, max_depth=2, min_samples_leaf=10, min_samples_split=4, n_estimators=100, total=  12.4s\n",
      "[CV] criterion=mse, max_depth=2, min_samples_leaf=10, min_samples_split=6, n_estimators=10 \n",
      "[CV]  criterion=mse, max_depth=2, min_samples_leaf=10, min_samples_split=6, n_estimators=10, total=   1.1s\n",
      "[CV] criterion=mse, max_depth=2, min_samples_leaf=10, min_samples_split=6, n_estimators=10 \n",
      "[CV]  criterion=mse, max_depth=2, min_samples_leaf=10, min_samples_split=6, n_estimators=10, total=   1.2s\n",
      "[CV] criterion=mse, max_depth=2, min_samples_leaf=10, min_samples_split=6, n_estimators=10 \n",
      "[CV]  criterion=mse, max_depth=2, min_samples_leaf=10, min_samples_split=6, n_estimators=10, total=   1.2s\n",
      "[CV] criterion=mse, max_depth=2, min_samples_leaf=10, min_samples_split=6, n_estimators=100 \n",
      "[CV]  criterion=mse, max_depth=2, min_samples_leaf=10, min_samples_split=6, n_estimators=100, total=  12.5s\n",
      "[CV] criterion=mse, max_depth=2, min_samples_leaf=10, min_samples_split=6, n_estimators=100 \n",
      "[CV]  criterion=mse, max_depth=2, min_samples_leaf=10, min_samples_split=6, n_estimators=100, total=  12.4s\n",
      "[CV] criterion=mse, max_depth=2, min_samples_leaf=10, min_samples_split=6, n_estimators=100 \n",
      "[CV]  criterion=mse, max_depth=2, min_samples_leaf=10, min_samples_split=6, n_estimators=100, total=  12.3s\n",
      "[CV] criterion=mse, max_depth=2, min_samples_leaf=10, min_samples_split=10, n_estimators=10 \n",
      "[CV]  criterion=mse, max_depth=2, min_samples_leaf=10, min_samples_split=10, n_estimators=10, total=   1.2s\n",
      "[CV] criterion=mse, max_depth=2, min_samples_leaf=10, min_samples_split=10, n_estimators=10 \n",
      "[CV]  criterion=mse, max_depth=2, min_samples_leaf=10, min_samples_split=10, n_estimators=10, total=   1.2s\n",
      "[CV] criterion=mse, max_depth=2, min_samples_leaf=10, min_samples_split=10, n_estimators=10 \n",
      "[CV]  criterion=mse, max_depth=2, min_samples_leaf=10, min_samples_split=10, n_estimators=10, total=   1.1s\n",
      "[CV] criterion=mse, max_depth=2, min_samples_leaf=10, min_samples_split=10, n_estimators=100 \n",
      "[CV]  criterion=mse, max_depth=2, min_samples_leaf=10, min_samples_split=10, n_estimators=100, total=  12.3s\n",
      "[CV] criterion=mse, max_depth=2, min_samples_leaf=10, min_samples_split=10, n_estimators=100 \n",
      "[CV]  criterion=mse, max_depth=2, min_samples_leaf=10, min_samples_split=10, n_estimators=100, total=  12.3s\n",
      "[CV] criterion=mse, max_depth=2, min_samples_leaf=10, min_samples_split=10, n_estimators=100 \n",
      "[CV]  criterion=mse, max_depth=2, min_samples_leaf=10, min_samples_split=10, n_estimators=100, total=  12.3s\n",
      "[CV] criterion=mse, max_depth=5, min_samples_leaf=1, min_samples_split=2, n_estimators=10 \n",
      "[CV]  criterion=mse, max_depth=5, min_samples_leaf=1, min_samples_split=2, n_estimators=10, total=   2.7s\n",
      "[CV] criterion=mse, max_depth=5, min_samples_leaf=1, min_samples_split=2, n_estimators=10 \n",
      "[CV]  criterion=mse, max_depth=5, min_samples_leaf=1, min_samples_split=2, n_estimators=10, total=   2.7s\n",
      "[CV] criterion=mse, max_depth=5, min_samples_leaf=1, min_samples_split=2, n_estimators=10 \n",
      "[CV]  criterion=mse, max_depth=5, min_samples_leaf=1, min_samples_split=2, n_estimators=10, total=   2.8s\n",
      "[CV] criterion=mse, max_depth=5, min_samples_leaf=1, min_samples_split=2, n_estimators=100 \n",
      "[CV]  criterion=mse, max_depth=5, min_samples_leaf=1, min_samples_split=2, n_estimators=100, total=  28.4s\n",
      "[CV] criterion=mse, max_depth=5, min_samples_leaf=1, min_samples_split=2, n_estimators=100 \n",
      "[CV]  criterion=mse, max_depth=5, min_samples_leaf=1, min_samples_split=2, n_estimators=100, total=  28.1s\n",
      "[CV] criterion=mse, max_depth=5, min_samples_leaf=1, min_samples_split=2, n_estimators=100 \n",
      "[CV]  criterion=mse, max_depth=5, min_samples_leaf=1, min_samples_split=2, n_estimators=100, total=  28.1s\n",
      "[CV] criterion=mse, max_depth=5, min_samples_leaf=1, min_samples_split=4, n_estimators=10 \n",
      "[CV]  criterion=mse, max_depth=5, min_samples_leaf=1, min_samples_split=4, n_estimators=10, total=   2.7s\n",
      "[CV] criterion=mse, max_depth=5, min_samples_leaf=1, min_samples_split=4, n_estimators=10 \n",
      "[CV]  criterion=mse, max_depth=5, min_samples_leaf=1, min_samples_split=4, n_estimators=10, total=   2.8s\n",
      "[CV] criterion=mse, max_depth=5, min_samples_leaf=1, min_samples_split=4, n_estimators=10 \n",
      "[CV]  criterion=mse, max_depth=5, min_samples_leaf=1, min_samples_split=4, n_estimators=10, total=   2.7s\n",
      "[CV] criterion=mse, max_depth=5, min_samples_leaf=1, min_samples_split=4, n_estimators=100 \n",
      "[CV]  criterion=mse, max_depth=5, min_samples_leaf=1, min_samples_split=4, n_estimators=100, total=  28.6s\n",
      "[CV] criterion=mse, max_depth=5, min_samples_leaf=1, min_samples_split=4, n_estimators=100 \n",
      "[CV]  criterion=mse, max_depth=5, min_samples_leaf=1, min_samples_split=4, n_estimators=100, total=  28.8s\n",
      "[CV] criterion=mse, max_depth=5, min_samples_leaf=1, min_samples_split=4, n_estimators=100 \n",
      "[CV]  criterion=mse, max_depth=5, min_samples_leaf=1, min_samples_split=4, n_estimators=100, total=  28.5s\n",
      "[CV] criterion=mse, max_depth=5, min_samples_leaf=1, min_samples_split=6, n_estimators=10 \n",
      "[CV]  criterion=mse, max_depth=5, min_samples_leaf=1, min_samples_split=6, n_estimators=10, total=   2.7s\n",
      "[CV] criterion=mse, max_depth=5, min_samples_leaf=1, min_samples_split=6, n_estimators=10 \n"
     ]
    },
    {
     "name": "stdout",
     "output_type": "stream",
     "text": [
      "[CV]  criterion=mse, max_depth=5, min_samples_leaf=1, min_samples_split=6, n_estimators=10, total=   3.0s\n",
      "[CV] criterion=mse, max_depth=5, min_samples_leaf=1, min_samples_split=6, n_estimators=10 \n",
      "[CV]  criterion=mse, max_depth=5, min_samples_leaf=1, min_samples_split=6, n_estimators=10, total=   2.7s\n",
      "[CV] criterion=mse, max_depth=5, min_samples_leaf=1, min_samples_split=6, n_estimators=100 \n",
      "[CV]  criterion=mse, max_depth=5, min_samples_leaf=1, min_samples_split=6, n_estimators=100, total=  28.2s\n",
      "[CV] criterion=mse, max_depth=5, min_samples_leaf=1, min_samples_split=6, n_estimators=100 \n",
      "[CV]  criterion=mse, max_depth=5, min_samples_leaf=1, min_samples_split=6, n_estimators=100, total=  28.1s\n",
      "[CV] criterion=mse, max_depth=5, min_samples_leaf=1, min_samples_split=6, n_estimators=100 \n",
      "[CV]  criterion=mse, max_depth=5, min_samples_leaf=1, min_samples_split=6, n_estimators=100, total=  28.0s\n",
      "[CV] criterion=mse, max_depth=5, min_samples_leaf=1, min_samples_split=10, n_estimators=10 \n",
      "[CV]  criterion=mse, max_depth=5, min_samples_leaf=1, min_samples_split=10, n_estimators=10, total=   2.7s\n",
      "[CV] criterion=mse, max_depth=5, min_samples_leaf=1, min_samples_split=10, n_estimators=10 \n",
      "[CV]  criterion=mse, max_depth=5, min_samples_leaf=1, min_samples_split=10, n_estimators=10, total=   2.7s\n",
      "[CV] criterion=mse, max_depth=5, min_samples_leaf=1, min_samples_split=10, n_estimators=10 \n",
      "[CV]  criterion=mse, max_depth=5, min_samples_leaf=1, min_samples_split=10, n_estimators=10, total=   2.8s\n",
      "[CV] criterion=mse, max_depth=5, min_samples_leaf=1, min_samples_split=10, n_estimators=100 \n",
      "[CV]  criterion=mse, max_depth=5, min_samples_leaf=1, min_samples_split=10, n_estimators=100, total=  28.1s\n",
      "[CV] criterion=mse, max_depth=5, min_samples_leaf=1, min_samples_split=10, n_estimators=100 \n",
      "[CV]  criterion=mse, max_depth=5, min_samples_leaf=1, min_samples_split=10, n_estimators=100, total=  28.1s\n",
      "[CV] criterion=mse, max_depth=5, min_samples_leaf=1, min_samples_split=10, n_estimators=100 \n",
      "[CV]  criterion=mse, max_depth=5, min_samples_leaf=1, min_samples_split=10, n_estimators=100, total=  28.1s\n",
      "[CV] criterion=mse, max_depth=5, min_samples_leaf=5, min_samples_split=2, n_estimators=10 \n",
      "[CV]  criterion=mse, max_depth=5, min_samples_leaf=5, min_samples_split=2, n_estimators=10, total=   2.7s\n",
      "[CV] criterion=mse, max_depth=5, min_samples_leaf=5, min_samples_split=2, n_estimators=10 \n",
      "[CV]  criterion=mse, max_depth=5, min_samples_leaf=5, min_samples_split=2, n_estimators=10, total=   2.7s\n",
      "[CV] criterion=mse, max_depth=5, min_samples_leaf=5, min_samples_split=2, n_estimators=10 \n",
      "[CV]  criterion=mse, max_depth=5, min_samples_leaf=5, min_samples_split=2, n_estimators=10, total=   2.7s\n",
      "[CV] criterion=mse, max_depth=5, min_samples_leaf=5, min_samples_split=2, n_estimators=100 \n",
      "[CV]  criterion=mse, max_depth=5, min_samples_leaf=5, min_samples_split=2, n_estimators=100, total=  28.2s\n",
      "[CV] criterion=mse, max_depth=5, min_samples_leaf=5, min_samples_split=2, n_estimators=100 \n",
      "[CV]  criterion=mse, max_depth=5, min_samples_leaf=5, min_samples_split=2, n_estimators=100, total=  28.7s\n",
      "[CV] criterion=mse, max_depth=5, min_samples_leaf=5, min_samples_split=2, n_estimators=100 \n",
      "[CV]  criterion=mse, max_depth=5, min_samples_leaf=5, min_samples_split=2, n_estimators=100, total=  28.1s\n",
      "[CV] criterion=mse, max_depth=5, min_samples_leaf=5, min_samples_split=4, n_estimators=10 \n",
      "[CV]  criterion=mse, max_depth=5, min_samples_leaf=5, min_samples_split=4, n_estimators=10, total=   2.7s\n",
      "[CV] criterion=mse, max_depth=5, min_samples_leaf=5, min_samples_split=4, n_estimators=10 \n",
      "[CV]  criterion=mse, max_depth=5, min_samples_leaf=5, min_samples_split=4, n_estimators=10, total=   2.8s\n",
      "[CV] criterion=mse, max_depth=5, min_samples_leaf=5, min_samples_split=4, n_estimators=10 \n",
      "[CV]  criterion=mse, max_depth=5, min_samples_leaf=5, min_samples_split=4, n_estimators=10, total=   2.7s\n",
      "[CV] criterion=mse, max_depth=5, min_samples_leaf=5, min_samples_split=4, n_estimators=100 \n",
      "[CV]  criterion=mse, max_depth=5, min_samples_leaf=5, min_samples_split=4, n_estimators=100, total=  28.1s\n",
      "[CV] criterion=mse, max_depth=5, min_samples_leaf=5, min_samples_split=4, n_estimators=100 \n",
      "[CV]  criterion=mse, max_depth=5, min_samples_leaf=5, min_samples_split=4, n_estimators=100, total=  28.2s\n",
      "[CV] criterion=mse, max_depth=5, min_samples_leaf=5, min_samples_split=4, n_estimators=100 \n",
      "[CV]  criterion=mse, max_depth=5, min_samples_leaf=5, min_samples_split=4, n_estimators=100, total=  28.1s\n",
      "[CV] criterion=mse, max_depth=5, min_samples_leaf=5, min_samples_split=6, n_estimators=10 \n",
      "[CV]  criterion=mse, max_depth=5, min_samples_leaf=5, min_samples_split=6, n_estimators=10, total=   2.7s\n",
      "[CV] criterion=mse, max_depth=5, min_samples_leaf=5, min_samples_split=6, n_estimators=10 \n",
      "[CV]  criterion=mse, max_depth=5, min_samples_leaf=5, min_samples_split=6, n_estimators=10, total=   2.7s\n",
      "[CV] criterion=mse, max_depth=5, min_samples_leaf=5, min_samples_split=6, n_estimators=10 \n",
      "[CV]  criterion=mse, max_depth=5, min_samples_leaf=5, min_samples_split=6, n_estimators=10, total=   2.8s\n",
      "[CV] criterion=mse, max_depth=5, min_samples_leaf=5, min_samples_split=6, n_estimators=100 \n",
      "[CV]  criterion=mse, max_depth=5, min_samples_leaf=5, min_samples_split=6, n_estimators=100, total=  28.0s\n",
      "[CV] criterion=mse, max_depth=5, min_samples_leaf=5, min_samples_split=6, n_estimators=100 \n",
      "[CV]  criterion=mse, max_depth=5, min_samples_leaf=5, min_samples_split=6, n_estimators=100, total=  28.1s\n",
      "[CV] criterion=mse, max_depth=5, min_samples_leaf=5, min_samples_split=6, n_estimators=100 \n",
      "[CV]  criterion=mse, max_depth=5, min_samples_leaf=5, min_samples_split=6, n_estimators=100, total=  28.1s\n",
      "[CV] criterion=mse, max_depth=5, min_samples_leaf=5, min_samples_split=10, n_estimators=10 \n",
      "[CV]  criterion=mse, max_depth=5, min_samples_leaf=5, min_samples_split=10, n_estimators=10, total=   2.7s\n",
      "[CV] criterion=mse, max_depth=5, min_samples_leaf=5, min_samples_split=10, n_estimators=10 \n",
      "[CV]  criterion=mse, max_depth=5, min_samples_leaf=5, min_samples_split=10, n_estimators=10, total=   2.7s\n",
      "[CV] criterion=mse, max_depth=5, min_samples_leaf=5, min_samples_split=10, n_estimators=10 \n",
      "[CV]  criterion=mse, max_depth=5, min_samples_leaf=5, min_samples_split=10, n_estimators=10, total=   2.7s\n",
      "[CV] criterion=mse, max_depth=5, min_samples_leaf=5, min_samples_split=10, n_estimators=100 \n",
      "[CV]  criterion=mse, max_depth=5, min_samples_leaf=5, min_samples_split=10, n_estimators=100, total=  27.9s\n",
      "[CV] criterion=mse, max_depth=5, min_samples_leaf=5, min_samples_split=10, n_estimators=100 \n",
      "[CV]  criterion=mse, max_depth=5, min_samples_leaf=5, min_samples_split=10, n_estimators=100, total=  28.3s\n",
      "[CV] criterion=mse, max_depth=5, min_samples_leaf=5, min_samples_split=10, n_estimators=100 \n",
      "[CV]  criterion=mse, max_depth=5, min_samples_leaf=5, min_samples_split=10, n_estimators=100, total=  28.0s\n",
      "[CV] criterion=mse, max_depth=5, min_samples_leaf=10, min_samples_split=2, n_estimators=10 \n",
      "[CV]  criterion=mse, max_depth=5, min_samples_leaf=10, min_samples_split=2, n_estimators=10, total=   2.7s\n",
      "[CV] criterion=mse, max_depth=5, min_samples_leaf=10, min_samples_split=2, n_estimators=10 \n",
      "[CV]  criterion=mse, max_depth=5, min_samples_leaf=10, min_samples_split=2, n_estimators=10, total=   2.7s\n",
      "[CV] criterion=mse, max_depth=5, min_samples_leaf=10, min_samples_split=2, n_estimators=10 \n",
      "[CV]  criterion=mse, max_depth=5, min_samples_leaf=10, min_samples_split=2, n_estimators=10, total=   2.7s\n",
      "[CV] criterion=mse, max_depth=5, min_samples_leaf=10, min_samples_split=2, n_estimators=100 \n",
      "[CV]  criterion=mse, max_depth=5, min_samples_leaf=10, min_samples_split=2, n_estimators=100, total=  28.0s\n",
      "[CV] criterion=mse, max_depth=5, min_samples_leaf=10, min_samples_split=2, n_estimators=100 \n",
      "[CV]  criterion=mse, max_depth=5, min_samples_leaf=10, min_samples_split=2, n_estimators=100, total=  28.3s\n",
      "[CV] criterion=mse, max_depth=5, min_samples_leaf=10, min_samples_split=2, n_estimators=100 \n",
      "[CV]  criterion=mse, max_depth=5, min_samples_leaf=10, min_samples_split=2, n_estimators=100, total=  28.1s\n",
      "[CV] criterion=mse, max_depth=5, min_samples_leaf=10, min_samples_split=4, n_estimators=10 \n",
      "[CV]  criterion=mse, max_depth=5, min_samples_leaf=10, min_samples_split=4, n_estimators=10, total=   2.7s\n",
      "[CV] criterion=mse, max_depth=5, min_samples_leaf=10, min_samples_split=4, n_estimators=10 \n"
     ]
    },
    {
     "name": "stdout",
     "output_type": "stream",
     "text": [
      "[CV]  criterion=mse, max_depth=5, min_samples_leaf=10, min_samples_split=4, n_estimators=10, total=   2.8s\n",
      "[CV] criterion=mse, max_depth=5, min_samples_leaf=10, min_samples_split=4, n_estimators=10 \n",
      "[CV]  criterion=mse, max_depth=5, min_samples_leaf=10, min_samples_split=4, n_estimators=10, total=   2.7s\n",
      "[CV] criterion=mse, max_depth=5, min_samples_leaf=10, min_samples_split=4, n_estimators=100 \n",
      "[CV]  criterion=mse, max_depth=5, min_samples_leaf=10, min_samples_split=4, n_estimators=100, total=  28.0s\n",
      "[CV] criterion=mse, max_depth=5, min_samples_leaf=10, min_samples_split=4, n_estimators=100 \n",
      "[CV]  criterion=mse, max_depth=5, min_samples_leaf=10, min_samples_split=4, n_estimators=100, total=  28.1s\n",
      "[CV] criterion=mse, max_depth=5, min_samples_leaf=10, min_samples_split=4, n_estimators=100 \n",
      "[CV]  criterion=mse, max_depth=5, min_samples_leaf=10, min_samples_split=4, n_estimators=100, total=  28.0s\n",
      "[CV] criterion=mse, max_depth=5, min_samples_leaf=10, min_samples_split=6, n_estimators=10 \n",
      "[CV]  criterion=mse, max_depth=5, min_samples_leaf=10, min_samples_split=6, n_estimators=10, total=   2.7s\n",
      "[CV] criterion=mse, max_depth=5, min_samples_leaf=10, min_samples_split=6, n_estimators=10 \n",
      "[CV]  criterion=mse, max_depth=5, min_samples_leaf=10, min_samples_split=6, n_estimators=10, total=   2.8s\n",
      "[CV] criterion=mse, max_depth=5, min_samples_leaf=10, min_samples_split=6, n_estimators=10 \n",
      "[CV]  criterion=mse, max_depth=5, min_samples_leaf=10, min_samples_split=6, n_estimators=10, total=   2.7s\n",
      "[CV] criterion=mse, max_depth=5, min_samples_leaf=10, min_samples_split=6, n_estimators=100 \n",
      "[CV]  criterion=mse, max_depth=5, min_samples_leaf=10, min_samples_split=6, n_estimators=100, total=  28.0s\n",
      "[CV] criterion=mse, max_depth=5, min_samples_leaf=10, min_samples_split=6, n_estimators=100 \n",
      "[CV]  criterion=mse, max_depth=5, min_samples_leaf=10, min_samples_split=6, n_estimators=100, total=  28.0s\n",
      "[CV] criterion=mse, max_depth=5, min_samples_leaf=10, min_samples_split=6, n_estimators=100 \n",
      "[CV]  criterion=mse, max_depth=5, min_samples_leaf=10, min_samples_split=6, n_estimators=100, total=  28.0s\n",
      "[CV] criterion=mse, max_depth=5, min_samples_leaf=10, min_samples_split=10, n_estimators=10 \n",
      "[CV]  criterion=mse, max_depth=5, min_samples_leaf=10, min_samples_split=10, n_estimators=10, total=   2.7s\n",
      "[CV] criterion=mse, max_depth=5, min_samples_leaf=10, min_samples_split=10, n_estimators=10 \n",
      "[CV]  criterion=mse, max_depth=5, min_samples_leaf=10, min_samples_split=10, n_estimators=10, total=   2.7s\n",
      "[CV] criterion=mse, max_depth=5, min_samples_leaf=10, min_samples_split=10, n_estimators=10 \n",
      "[CV]  criterion=mse, max_depth=5, min_samples_leaf=10, min_samples_split=10, n_estimators=10, total=   2.7s\n",
      "[CV] criterion=mse, max_depth=5, min_samples_leaf=10, min_samples_split=10, n_estimators=100 \n",
      "[CV]  criterion=mse, max_depth=5, min_samples_leaf=10, min_samples_split=10, n_estimators=100, total=  28.1s\n",
      "[CV] criterion=mse, max_depth=5, min_samples_leaf=10, min_samples_split=10, n_estimators=100 \n",
      "[CV]  criterion=mse, max_depth=5, min_samples_leaf=10, min_samples_split=10, n_estimators=100, total=  28.7s\n",
      "[CV] criterion=mse, max_depth=5, min_samples_leaf=10, min_samples_split=10, n_estimators=100 \n",
      "[CV]  criterion=mse, max_depth=5, min_samples_leaf=10, min_samples_split=10, n_estimators=100, total=  28.1s\n",
      "[CV] criterion=mse, max_depth=10, min_samples_leaf=1, min_samples_split=2, n_estimators=10 \n",
      "[CV]  criterion=mse, max_depth=10, min_samples_leaf=1, min_samples_split=2, n_estimators=10, total=   5.0s\n",
      "[CV] criterion=mse, max_depth=10, min_samples_leaf=1, min_samples_split=2, n_estimators=10 \n",
      "[CV]  criterion=mse, max_depth=10, min_samples_leaf=1, min_samples_split=2, n_estimators=10, total=   5.0s\n",
      "[CV] criterion=mse, max_depth=10, min_samples_leaf=1, min_samples_split=2, n_estimators=10 \n",
      "[CV]  criterion=mse, max_depth=10, min_samples_leaf=1, min_samples_split=2, n_estimators=10, total=   5.0s\n",
      "[CV] criterion=mse, max_depth=10, min_samples_leaf=1, min_samples_split=2, n_estimators=100 \n",
      "[CV]  criterion=mse, max_depth=10, min_samples_leaf=1, min_samples_split=2, n_estimators=100, total=  50.9s\n",
      "[CV] criterion=mse, max_depth=10, min_samples_leaf=1, min_samples_split=2, n_estimators=100 \n",
      "[CV]  criterion=mse, max_depth=10, min_samples_leaf=1, min_samples_split=2, n_estimators=100, total=  50.7s\n",
      "[CV] criterion=mse, max_depth=10, min_samples_leaf=1, min_samples_split=2, n_estimators=100 \n",
      "[CV]  criterion=mse, max_depth=10, min_samples_leaf=1, min_samples_split=2, n_estimators=100, total=  50.5s\n",
      "[CV] criterion=mse, max_depth=10, min_samples_leaf=1, min_samples_split=4, n_estimators=10 \n",
      "[CV]  criterion=mse, max_depth=10, min_samples_leaf=1, min_samples_split=4, n_estimators=10, total=   5.0s\n",
      "[CV] criterion=mse, max_depth=10, min_samples_leaf=1, min_samples_split=4, n_estimators=10 \n",
      "[CV]  criterion=mse, max_depth=10, min_samples_leaf=1, min_samples_split=4, n_estimators=10, total=   5.0s\n",
      "[CV] criterion=mse, max_depth=10, min_samples_leaf=1, min_samples_split=4, n_estimators=10 \n",
      "[CV]  criterion=mse, max_depth=10, min_samples_leaf=1, min_samples_split=4, n_estimators=10, total=   5.0s\n",
      "[CV] criterion=mse, max_depth=10, min_samples_leaf=1, min_samples_split=4, n_estimators=100 \n",
      "[CV]  criterion=mse, max_depth=10, min_samples_leaf=1, min_samples_split=4, n_estimators=100, total=  50.7s\n",
      "[CV] criterion=mse, max_depth=10, min_samples_leaf=1, min_samples_split=4, n_estimators=100 \n",
      "[CV]  criterion=mse, max_depth=10, min_samples_leaf=1, min_samples_split=4, n_estimators=100, total=  51.2s\n",
      "[CV] criterion=mse, max_depth=10, min_samples_leaf=1, min_samples_split=4, n_estimators=100 \n",
      "[CV]  criterion=mse, max_depth=10, min_samples_leaf=1, min_samples_split=4, n_estimators=100, total=  50.6s\n",
      "[CV] criterion=mse, max_depth=10, min_samples_leaf=1, min_samples_split=6, n_estimators=10 \n",
      "[CV]  criterion=mse, max_depth=10, min_samples_leaf=1, min_samples_split=6, n_estimators=10, total=   5.0s\n",
      "[CV] criterion=mse, max_depth=10, min_samples_leaf=1, min_samples_split=6, n_estimators=10 \n",
      "[CV]  criterion=mse, max_depth=10, min_samples_leaf=1, min_samples_split=6, n_estimators=10, total=   5.0s\n",
      "[CV] criterion=mse, max_depth=10, min_samples_leaf=1, min_samples_split=6, n_estimators=10 \n",
      "[CV]  criterion=mse, max_depth=10, min_samples_leaf=1, min_samples_split=6, n_estimators=10, total=   5.0s\n",
      "[CV] criterion=mse, max_depth=10, min_samples_leaf=1, min_samples_split=6, n_estimators=100 \n",
      "[CV]  criterion=mse, max_depth=10, min_samples_leaf=1, min_samples_split=6, n_estimators=100, total=  50.7s\n",
      "[CV] criterion=mse, max_depth=10, min_samples_leaf=1, min_samples_split=6, n_estimators=100 \n",
      "[CV]  criterion=mse, max_depth=10, min_samples_leaf=1, min_samples_split=6, n_estimators=100, total=  50.5s\n",
      "[CV] criterion=mse, max_depth=10, min_samples_leaf=1, min_samples_split=6, n_estimators=100 \n",
      "[CV]  criterion=mse, max_depth=10, min_samples_leaf=1, min_samples_split=6, n_estimators=100, total=  50.8s\n",
      "[CV] criterion=mse, max_depth=10, min_samples_leaf=1, min_samples_split=10, n_estimators=10 \n",
      "[CV]  criterion=mse, max_depth=10, min_samples_leaf=1, min_samples_split=10, n_estimators=10, total=   5.0s\n",
      "[CV] criterion=mse, max_depth=10, min_samples_leaf=1, min_samples_split=10, n_estimators=10 \n",
      "[CV]  criterion=mse, max_depth=10, min_samples_leaf=1, min_samples_split=10, n_estimators=10, total=   5.0s\n",
      "[CV] criterion=mse, max_depth=10, min_samples_leaf=1, min_samples_split=10, n_estimators=10 \n",
      "[CV]  criterion=mse, max_depth=10, min_samples_leaf=1, min_samples_split=10, n_estimators=10, total=   5.0s\n",
      "[CV] criterion=mse, max_depth=10, min_samples_leaf=1, min_samples_split=10, n_estimators=100 \n",
      "[CV]  criterion=mse, max_depth=10, min_samples_leaf=1, min_samples_split=10, n_estimators=100, total=  50.4s\n",
      "[CV] criterion=mse, max_depth=10, min_samples_leaf=1, min_samples_split=10, n_estimators=100 \n",
      "[CV]  criterion=mse, max_depth=10, min_samples_leaf=1, min_samples_split=10, n_estimators=100, total=  50.6s\n",
      "[CV] criterion=mse, max_depth=10, min_samples_leaf=1, min_samples_split=10, n_estimators=100 \n",
      "[CV]  criterion=mse, max_depth=10, min_samples_leaf=1, min_samples_split=10, n_estimators=100, total=  50.5s\n",
      "[CV] criterion=mse, max_depth=10, min_samples_leaf=5, min_samples_split=2, n_estimators=10 \n"
     ]
    },
    {
     "name": "stdout",
     "output_type": "stream",
     "text": [
      "[CV]  criterion=mse, max_depth=10, min_samples_leaf=5, min_samples_split=2, n_estimators=10, total=   5.0s\n",
      "[CV] criterion=mse, max_depth=10, min_samples_leaf=5, min_samples_split=2, n_estimators=10 \n",
      "[CV]  criterion=mse, max_depth=10, min_samples_leaf=5, min_samples_split=2, n_estimators=10, total=   4.9s\n",
      "[CV] criterion=mse, max_depth=10, min_samples_leaf=5, min_samples_split=2, n_estimators=10 \n",
      "[CV]  criterion=mse, max_depth=10, min_samples_leaf=5, min_samples_split=2, n_estimators=10, total=   5.0s\n",
      "[CV] criterion=mse, max_depth=10, min_samples_leaf=5, min_samples_split=2, n_estimators=100 \n",
      "[CV]  criterion=mse, max_depth=10, min_samples_leaf=5, min_samples_split=2, n_estimators=100, total=  50.6s\n",
      "[CV] criterion=mse, max_depth=10, min_samples_leaf=5, min_samples_split=2, n_estimators=100 \n",
      "[CV]  criterion=mse, max_depth=10, min_samples_leaf=5, min_samples_split=2, n_estimators=100, total=  50.4s\n",
      "[CV] criterion=mse, max_depth=10, min_samples_leaf=5, min_samples_split=2, n_estimators=100 \n",
      "[CV]  criterion=mse, max_depth=10, min_samples_leaf=5, min_samples_split=2, n_estimators=100, total=  50.4s\n",
      "[CV] criterion=mse, max_depth=10, min_samples_leaf=5, min_samples_split=4, n_estimators=10 \n",
      "[CV]  criterion=mse, max_depth=10, min_samples_leaf=5, min_samples_split=4, n_estimators=10, total=   4.9s\n",
      "[CV] criterion=mse, max_depth=10, min_samples_leaf=5, min_samples_split=4, n_estimators=10 \n",
      "[CV]  criterion=mse, max_depth=10, min_samples_leaf=5, min_samples_split=4, n_estimators=10, total=   5.0s\n",
      "[CV] criterion=mse, max_depth=10, min_samples_leaf=5, min_samples_split=4, n_estimators=10 \n",
      "[CV]  criterion=mse, max_depth=10, min_samples_leaf=5, min_samples_split=4, n_estimators=10, total=   5.0s\n",
      "[CV] criterion=mse, max_depth=10, min_samples_leaf=5, min_samples_split=4, n_estimators=100 \n",
      "[CV]  criterion=mse, max_depth=10, min_samples_leaf=5, min_samples_split=4, n_estimators=100, total=  50.6s\n",
      "[CV] criterion=mse, max_depth=10, min_samples_leaf=5, min_samples_split=4, n_estimators=100 \n",
      "[CV]  criterion=mse, max_depth=10, min_samples_leaf=5, min_samples_split=4, n_estimators=100, total=  50.1s\n",
      "[CV] criterion=mse, max_depth=10, min_samples_leaf=5, min_samples_split=4, n_estimators=100 \n",
      "[CV]  criterion=mse, max_depth=10, min_samples_leaf=5, min_samples_split=4, n_estimators=100, total=  50.4s\n",
      "[CV] criterion=mse, max_depth=10, min_samples_leaf=5, min_samples_split=6, n_estimators=10 \n",
      "[CV]  criterion=mse, max_depth=10, min_samples_leaf=5, min_samples_split=6, n_estimators=10, total=   5.0s\n",
      "[CV] criterion=mse, max_depth=10, min_samples_leaf=5, min_samples_split=6, n_estimators=10 \n",
      "[CV]  criterion=mse, max_depth=10, min_samples_leaf=5, min_samples_split=6, n_estimators=10, total=   4.9s\n",
      "[CV] criterion=mse, max_depth=10, min_samples_leaf=5, min_samples_split=6, n_estimators=10 \n",
      "[CV]  criterion=mse, max_depth=10, min_samples_leaf=5, min_samples_split=6, n_estimators=10, total=   4.9s\n",
      "[CV] criterion=mse, max_depth=10, min_samples_leaf=5, min_samples_split=6, n_estimators=100 \n",
      "[CV]  criterion=mse, max_depth=10, min_samples_leaf=5, min_samples_split=6, n_estimators=100, total=  50.3s\n",
      "[CV] criterion=mse, max_depth=10, min_samples_leaf=5, min_samples_split=6, n_estimators=100 \n",
      "[CV]  criterion=mse, max_depth=10, min_samples_leaf=5, min_samples_split=6, n_estimators=100, total=  50.5s\n",
      "[CV] criterion=mse, max_depth=10, min_samples_leaf=5, min_samples_split=6, n_estimators=100 \n",
      "[CV]  criterion=mse, max_depth=10, min_samples_leaf=5, min_samples_split=6, n_estimators=100, total=  50.9s\n",
      "[CV] criterion=mse, max_depth=10, min_samples_leaf=5, min_samples_split=10, n_estimators=10 \n",
      "[CV]  criterion=mse, max_depth=10, min_samples_leaf=5, min_samples_split=10, n_estimators=10, total=   5.1s\n",
      "[CV] criterion=mse, max_depth=10, min_samples_leaf=5, min_samples_split=10, n_estimators=10 \n",
      "[CV]  criterion=mse, max_depth=10, min_samples_leaf=5, min_samples_split=10, n_estimators=10, total=   5.0s\n",
      "[CV] criterion=mse, max_depth=10, min_samples_leaf=5, min_samples_split=10, n_estimators=10 \n",
      "[CV]  criterion=mse, max_depth=10, min_samples_leaf=5, min_samples_split=10, n_estimators=10, total=   5.0s\n",
      "[CV] criterion=mse, max_depth=10, min_samples_leaf=5, min_samples_split=10, n_estimators=100 \n",
      "[CV]  criterion=mse, max_depth=10, min_samples_leaf=5, min_samples_split=10, n_estimators=100, total=  50.5s\n",
      "[CV] criterion=mse, max_depth=10, min_samples_leaf=5, min_samples_split=10, n_estimators=100 \n",
      "[CV]  criterion=mse, max_depth=10, min_samples_leaf=5, min_samples_split=10, n_estimators=100, total=  50.8s\n",
      "[CV] criterion=mse, max_depth=10, min_samples_leaf=5, min_samples_split=10, n_estimators=100 \n",
      "[CV]  criterion=mse, max_depth=10, min_samples_leaf=5, min_samples_split=10, n_estimators=100, total=  50.7s\n",
      "[CV] criterion=mse, max_depth=10, min_samples_leaf=10, min_samples_split=2, n_estimators=10 \n",
      "[CV]  criterion=mse, max_depth=10, min_samples_leaf=10, min_samples_split=2, n_estimators=10, total=   4.9s\n",
      "[CV] criterion=mse, max_depth=10, min_samples_leaf=10, min_samples_split=2, n_estimators=10 \n",
      "[CV]  criterion=mse, max_depth=10, min_samples_leaf=10, min_samples_split=2, n_estimators=10, total=   4.9s\n",
      "[CV] criterion=mse, max_depth=10, min_samples_leaf=10, min_samples_split=2, n_estimators=10 \n",
      "[CV]  criterion=mse, max_depth=10, min_samples_leaf=10, min_samples_split=2, n_estimators=10, total=   5.0s\n",
      "[CV] criterion=mse, max_depth=10, min_samples_leaf=10, min_samples_split=2, n_estimators=100 \n",
      "[CV]  criterion=mse, max_depth=10, min_samples_leaf=10, min_samples_split=2, n_estimators=100, total=  50.0s\n",
      "[CV] criterion=mse, max_depth=10, min_samples_leaf=10, min_samples_split=2, n_estimators=100 \n",
      "[CV]  criterion=mse, max_depth=10, min_samples_leaf=10, min_samples_split=2, n_estimators=100, total=  50.3s\n",
      "[CV] criterion=mse, max_depth=10, min_samples_leaf=10, min_samples_split=2, n_estimators=100 \n",
      "[CV]  criterion=mse, max_depth=10, min_samples_leaf=10, min_samples_split=2, n_estimators=100, total=  50.2s\n",
      "[CV] criterion=mse, max_depth=10, min_samples_leaf=10, min_samples_split=4, n_estimators=10 \n",
      "[CV]  criterion=mse, max_depth=10, min_samples_leaf=10, min_samples_split=4, n_estimators=10, total=   4.9s\n",
      "[CV] criterion=mse, max_depth=10, min_samples_leaf=10, min_samples_split=4, n_estimators=10 \n",
      "[CV]  criterion=mse, max_depth=10, min_samples_leaf=10, min_samples_split=4, n_estimators=10, total=   4.9s\n",
      "[CV] criterion=mse, max_depth=10, min_samples_leaf=10, min_samples_split=4, n_estimators=10 \n",
      "[CV]  criterion=mse, max_depth=10, min_samples_leaf=10, min_samples_split=4, n_estimators=10, total=   5.0s\n",
      "[CV] criterion=mse, max_depth=10, min_samples_leaf=10, min_samples_split=4, n_estimators=100 \n",
      "[CV]  criterion=mse, max_depth=10, min_samples_leaf=10, min_samples_split=4, n_estimators=100, total=  50.0s\n",
      "[CV] criterion=mse, max_depth=10, min_samples_leaf=10, min_samples_split=4, n_estimators=100 \n",
      "[CV]  criterion=mse, max_depth=10, min_samples_leaf=10, min_samples_split=4, n_estimators=100, total=  49.9s\n",
      "[CV] criterion=mse, max_depth=10, min_samples_leaf=10, min_samples_split=4, n_estimators=100 \n",
      "[CV]  criterion=mse, max_depth=10, min_samples_leaf=10, min_samples_split=4, n_estimators=100, total=  50.7s\n",
      "[CV] criterion=mse, max_depth=10, min_samples_leaf=10, min_samples_split=6, n_estimators=10 \n",
      "[CV]  criterion=mse, max_depth=10, min_samples_leaf=10, min_samples_split=6, n_estimators=10, total=   4.9s\n",
      "[CV] criterion=mse, max_depth=10, min_samples_leaf=10, min_samples_split=6, n_estimators=10 \n",
      "[CV]  criterion=mse, max_depth=10, min_samples_leaf=10, min_samples_split=6, n_estimators=10, total=   4.9s\n",
      "[CV] criterion=mse, max_depth=10, min_samples_leaf=10, min_samples_split=6, n_estimators=10 \n",
      "[CV]  criterion=mse, max_depth=10, min_samples_leaf=10, min_samples_split=6, n_estimators=10, total=   5.0s\n",
      "[CV] criterion=mse, max_depth=10, min_samples_leaf=10, min_samples_split=6, n_estimators=100 \n",
      "[CV]  criterion=mse, max_depth=10, min_samples_leaf=10, min_samples_split=6, n_estimators=100, total=  50.1s\n",
      "[CV] criterion=mse, max_depth=10, min_samples_leaf=10, min_samples_split=6, n_estimators=100 \n",
      "[CV]  criterion=mse, max_depth=10, min_samples_leaf=10, min_samples_split=6, n_estimators=100, total=  50.1s\n",
      "[CV] criterion=mse, max_depth=10, min_samples_leaf=10, min_samples_split=6, n_estimators=100 \n"
     ]
    },
    {
     "name": "stdout",
     "output_type": "stream",
     "text": [
      "[CV]  criterion=mse, max_depth=10, min_samples_leaf=10, min_samples_split=6, n_estimators=100, total=  50.3s\n",
      "[CV] criterion=mse, max_depth=10, min_samples_leaf=10, min_samples_split=10, n_estimators=10 \n",
      "[CV]  criterion=mse, max_depth=10, min_samples_leaf=10, min_samples_split=10, n_estimators=10, total=   4.9s\n",
      "[CV] criterion=mse, max_depth=10, min_samples_leaf=10, min_samples_split=10, n_estimators=10 \n",
      "[CV]  criterion=mse, max_depth=10, min_samples_leaf=10, min_samples_split=10, n_estimators=10, total=   4.9s\n",
      "[CV] criterion=mse, max_depth=10, min_samples_leaf=10, min_samples_split=10, n_estimators=10 \n",
      "[CV]  criterion=mse, max_depth=10, min_samples_leaf=10, min_samples_split=10, n_estimators=10, total=   5.0s\n",
      "[CV] criterion=mse, max_depth=10, min_samples_leaf=10, min_samples_split=10, n_estimators=100 \n",
      "[CV]  criterion=mse, max_depth=10, min_samples_leaf=10, min_samples_split=10, n_estimators=100, total=  50.3s\n",
      "[CV] criterion=mse, max_depth=10, min_samples_leaf=10, min_samples_split=10, n_estimators=100 \n",
      "[CV]  criterion=mse, max_depth=10, min_samples_leaf=10, min_samples_split=10, n_estimators=100, total=  50.4s\n",
      "[CV] criterion=mse, max_depth=10, min_samples_leaf=10, min_samples_split=10, n_estimators=100 \n",
      "[CV]  criterion=mse, max_depth=10, min_samples_leaf=10, min_samples_split=10, n_estimators=100, total=  50.0s\n",
      "[CV] criterion=mse, max_depth=None, min_samples_leaf=1, min_samples_split=2, n_estimators=10 \n",
      "[CV]  criterion=mse, max_depth=None, min_samples_leaf=1, min_samples_split=2, n_estimators=10, total=  11.4s\n",
      "[CV] criterion=mse, max_depth=None, min_samples_leaf=1, min_samples_split=2, n_estimators=10 \n",
      "[CV]  criterion=mse, max_depth=None, min_samples_leaf=1, min_samples_split=2, n_estimators=10, total=  11.0s\n",
      "[CV] criterion=mse, max_depth=None, min_samples_leaf=1, min_samples_split=2, n_estimators=10 \n",
      "[CV]  criterion=mse, max_depth=None, min_samples_leaf=1, min_samples_split=2, n_estimators=10, total=  11.3s\n",
      "[CV] criterion=mse, max_depth=None, min_samples_leaf=1, min_samples_split=2, n_estimators=100 \n",
      "[CV]  criterion=mse, max_depth=None, min_samples_leaf=1, min_samples_split=2, n_estimators=100, total= 1.9min\n",
      "[CV] criterion=mse, max_depth=None, min_samples_leaf=1, min_samples_split=2, n_estimators=100 \n",
      "[CV]  criterion=mse, max_depth=None, min_samples_leaf=1, min_samples_split=2, n_estimators=100, total= 1.9min\n",
      "[CV] criterion=mse, max_depth=None, min_samples_leaf=1, min_samples_split=2, n_estimators=100 \n",
      "[CV]  criterion=mse, max_depth=None, min_samples_leaf=1, min_samples_split=2, n_estimators=100, total= 1.9min\n",
      "[CV] criterion=mse, max_depth=None, min_samples_leaf=1, min_samples_split=4, n_estimators=10 \n",
      "[CV]  criterion=mse, max_depth=None, min_samples_leaf=1, min_samples_split=4, n_estimators=10, total=  11.2s\n",
      "[CV] criterion=mse, max_depth=None, min_samples_leaf=1, min_samples_split=4, n_estimators=10 \n",
      "[CV]  criterion=mse, max_depth=None, min_samples_leaf=1, min_samples_split=4, n_estimators=10, total=  11.0s\n",
      "[CV] criterion=mse, max_depth=None, min_samples_leaf=1, min_samples_split=4, n_estimators=10 \n",
      "[CV]  criterion=mse, max_depth=None, min_samples_leaf=1, min_samples_split=4, n_estimators=10, total=  11.2s\n",
      "[CV] criterion=mse, max_depth=None, min_samples_leaf=1, min_samples_split=4, n_estimators=100 \n",
      "[CV]  criterion=mse, max_depth=None, min_samples_leaf=1, min_samples_split=4, n_estimators=100, total= 1.9min\n",
      "[CV] criterion=mse, max_depth=None, min_samples_leaf=1, min_samples_split=4, n_estimators=100 \n",
      "[CV]  criterion=mse, max_depth=None, min_samples_leaf=1, min_samples_split=4, n_estimators=100, total= 1.8min\n",
      "[CV] criterion=mse, max_depth=None, min_samples_leaf=1, min_samples_split=4, n_estimators=100 \n",
      "[CV]  criterion=mse, max_depth=None, min_samples_leaf=1, min_samples_split=4, n_estimators=100, total= 1.9min\n",
      "[CV] criterion=mse, max_depth=None, min_samples_leaf=1, min_samples_split=6, n_estimators=10 \n",
      "[CV]  criterion=mse, max_depth=None, min_samples_leaf=1, min_samples_split=6, n_estimators=10, total=  10.7s\n",
      "[CV] criterion=mse, max_depth=None, min_samples_leaf=1, min_samples_split=6, n_estimators=10 \n",
      "[CV]  criterion=mse, max_depth=None, min_samples_leaf=1, min_samples_split=6, n_estimators=10, total=  10.7s\n",
      "[CV] criterion=mse, max_depth=None, min_samples_leaf=1, min_samples_split=6, n_estimators=10 \n",
      "[CV]  criterion=mse, max_depth=None, min_samples_leaf=1, min_samples_split=6, n_estimators=10, total=  11.1s\n",
      "[CV] criterion=mse, max_depth=None, min_samples_leaf=1, min_samples_split=6, n_estimators=100 \n",
      "[CV]  criterion=mse, max_depth=None, min_samples_leaf=1, min_samples_split=6, n_estimators=100, total= 1.8min\n",
      "[CV] criterion=mse, max_depth=None, min_samples_leaf=1, min_samples_split=6, n_estimators=100 \n",
      "[CV]  criterion=mse, max_depth=None, min_samples_leaf=1, min_samples_split=6, n_estimators=100, total= 1.8min\n",
      "[CV] criterion=mse, max_depth=None, min_samples_leaf=1, min_samples_split=6, n_estimators=100 \n",
      "[CV]  criterion=mse, max_depth=None, min_samples_leaf=1, min_samples_split=6, n_estimators=100, total= 1.8min\n",
      "[CV] criterion=mse, max_depth=None, min_samples_leaf=1, min_samples_split=10, n_estimators=10 \n",
      "[CV]  criterion=mse, max_depth=None, min_samples_leaf=1, min_samples_split=10, n_estimators=10, total=  10.8s\n",
      "[CV] criterion=mse, max_depth=None, min_samples_leaf=1, min_samples_split=10, n_estimators=10 \n",
      "[CV]  criterion=mse, max_depth=None, min_samples_leaf=1, min_samples_split=10, n_estimators=10, total=  10.6s\n",
      "[CV] criterion=mse, max_depth=None, min_samples_leaf=1, min_samples_split=10, n_estimators=10 \n",
      "[CV]  criterion=mse, max_depth=None, min_samples_leaf=1, min_samples_split=10, n_estimators=10, total=  10.9s\n",
      "[CV] criterion=mse, max_depth=None, min_samples_leaf=1, min_samples_split=10, n_estimators=100 \n",
      "[CV]  criterion=mse, max_depth=None, min_samples_leaf=1, min_samples_split=10, n_estimators=100, total= 1.8min\n",
      "[CV] criterion=mse, max_depth=None, min_samples_leaf=1, min_samples_split=10, n_estimators=100 \n",
      "[CV]  criterion=mse, max_depth=None, min_samples_leaf=1, min_samples_split=10, n_estimators=100, total= 1.8min\n",
      "[CV] criterion=mse, max_depth=None, min_samples_leaf=1, min_samples_split=10, n_estimators=100 \n",
      "[CV]  criterion=mse, max_depth=None, min_samples_leaf=1, min_samples_split=10, n_estimators=100, total= 1.8min\n",
      "[CV] criterion=mse, max_depth=None, min_samples_leaf=5, min_samples_split=2, n_estimators=10 \n",
      "[CV]  criterion=mse, max_depth=None, min_samples_leaf=5, min_samples_split=2, n_estimators=10, total=   9.6s\n",
      "[CV] criterion=mse, max_depth=None, min_samples_leaf=5, min_samples_split=2, n_estimators=10 \n",
      "[CV]  criterion=mse, max_depth=None, min_samples_leaf=5, min_samples_split=2, n_estimators=10, total=   9.6s\n",
      "[CV] criterion=mse, max_depth=None, min_samples_leaf=5, min_samples_split=2, n_estimators=10 \n",
      "[CV]  criterion=mse, max_depth=None, min_samples_leaf=5, min_samples_split=2, n_estimators=10, total=   9.7s\n",
      "[CV] criterion=mse, max_depth=None, min_samples_leaf=5, min_samples_split=2, n_estimators=100 \n",
      "[CV]  criterion=mse, max_depth=None, min_samples_leaf=5, min_samples_split=2, n_estimators=100, total= 1.6min\n",
      "[CV] criterion=mse, max_depth=None, min_samples_leaf=5, min_samples_split=2, n_estimators=100 \n",
      "[CV]  criterion=mse, max_depth=None, min_samples_leaf=5, min_samples_split=2, n_estimators=100, total= 1.6min\n",
      "[CV] criterion=mse, max_depth=None, min_samples_leaf=5, min_samples_split=2, n_estimators=100 \n",
      "[CV]  criterion=mse, max_depth=None, min_samples_leaf=5, min_samples_split=2, n_estimators=100, total= 1.6min\n",
      "[CV] criterion=mse, max_depth=None, min_samples_leaf=5, min_samples_split=4, n_estimators=10 \n",
      "[CV]  criterion=mse, max_depth=None, min_samples_leaf=5, min_samples_split=4, n_estimators=10, total=   9.7s\n",
      "[CV] criterion=mse, max_depth=None, min_samples_leaf=5, min_samples_split=4, n_estimators=10 \n",
      "[CV]  criterion=mse, max_depth=None, min_samples_leaf=5, min_samples_split=4, n_estimators=10, total=   9.5s\n",
      "[CV] criterion=mse, max_depth=None, min_samples_leaf=5, min_samples_split=4, n_estimators=10 \n",
      "[CV]  criterion=mse, max_depth=None, min_samples_leaf=5, min_samples_split=4, n_estimators=10, total=   9.9s\n",
      "[CV] criterion=mse, max_depth=None, min_samples_leaf=5, min_samples_split=4, n_estimators=100 \n",
      "[CV]  criterion=mse, max_depth=None, min_samples_leaf=5, min_samples_split=4, n_estimators=100, total= 1.6min\n",
      "[CV] criterion=mse, max_depth=None, min_samples_leaf=5, min_samples_split=4, n_estimators=100 \n"
     ]
    },
    {
     "name": "stdout",
     "output_type": "stream",
     "text": [
      "[CV]  criterion=mse, max_depth=None, min_samples_leaf=5, min_samples_split=4, n_estimators=100, total= 1.6min\n",
      "[CV] criterion=mse, max_depth=None, min_samples_leaf=5, min_samples_split=4, n_estimators=100 \n",
      "[CV]  criterion=mse, max_depth=None, min_samples_leaf=5, min_samples_split=4, n_estimators=100, total= 1.6min\n",
      "[CV] criterion=mse, max_depth=None, min_samples_leaf=5, min_samples_split=6, n_estimators=10 \n",
      "[CV]  criterion=mse, max_depth=None, min_samples_leaf=5, min_samples_split=6, n_estimators=10, total=   9.6s\n",
      "[CV] criterion=mse, max_depth=None, min_samples_leaf=5, min_samples_split=6, n_estimators=10 \n",
      "[CV]  criterion=mse, max_depth=None, min_samples_leaf=5, min_samples_split=6, n_estimators=10, total=   9.6s\n",
      "[CV] criterion=mse, max_depth=None, min_samples_leaf=5, min_samples_split=6, n_estimators=10 \n",
      "[CV]  criterion=mse, max_depth=None, min_samples_leaf=5, min_samples_split=6, n_estimators=10, total=   9.8s\n",
      "[CV] criterion=mse, max_depth=None, min_samples_leaf=5, min_samples_split=6, n_estimators=100 \n",
      "[CV]  criterion=mse, max_depth=None, min_samples_leaf=5, min_samples_split=6, n_estimators=100, total= 1.6min\n",
      "[CV] criterion=mse, max_depth=None, min_samples_leaf=5, min_samples_split=6, n_estimators=100 \n",
      "[CV]  criterion=mse, max_depth=None, min_samples_leaf=5, min_samples_split=6, n_estimators=100, total= 1.6min\n",
      "[CV] criterion=mse, max_depth=None, min_samples_leaf=5, min_samples_split=6, n_estimators=100 \n",
      "[CV]  criterion=mse, max_depth=None, min_samples_leaf=5, min_samples_split=6, n_estimators=100, total= 1.6min\n",
      "[CV] criterion=mse, max_depth=None, min_samples_leaf=5, min_samples_split=10, n_estimators=10 \n",
      "[CV]  criterion=mse, max_depth=None, min_samples_leaf=5, min_samples_split=10, n_estimators=10, total=   9.8s\n",
      "[CV] criterion=mse, max_depth=None, min_samples_leaf=5, min_samples_split=10, n_estimators=10 \n",
      "[CV]  criterion=mse, max_depth=None, min_samples_leaf=5, min_samples_split=10, n_estimators=10, total=   9.4s\n",
      "[CV] criterion=mse, max_depth=None, min_samples_leaf=5, min_samples_split=10, n_estimators=10 \n",
      "[CV]  criterion=mse, max_depth=None, min_samples_leaf=5, min_samples_split=10, n_estimators=10, total=   9.7s\n",
      "[CV] criterion=mse, max_depth=None, min_samples_leaf=5, min_samples_split=10, n_estimators=100 \n",
      "[CV]  criterion=mse, max_depth=None, min_samples_leaf=5, min_samples_split=10, n_estimators=100, total= 1.6min\n",
      "[CV] criterion=mse, max_depth=None, min_samples_leaf=5, min_samples_split=10, n_estimators=100 \n",
      "[CV]  criterion=mse, max_depth=None, min_samples_leaf=5, min_samples_split=10, n_estimators=100, total= 1.6min\n",
      "[CV] criterion=mse, max_depth=None, min_samples_leaf=5, min_samples_split=10, n_estimators=100 \n",
      "[CV]  criterion=mse, max_depth=None, min_samples_leaf=5, min_samples_split=10, n_estimators=100, total= 1.6min\n",
      "[CV] criterion=mse, max_depth=None, min_samples_leaf=10, min_samples_split=2, n_estimators=10 \n",
      "[CV]  criterion=mse, max_depth=None, min_samples_leaf=10, min_samples_split=2, n_estimators=10, total=   8.9s\n",
      "[CV] criterion=mse, max_depth=None, min_samples_leaf=10, min_samples_split=2, n_estimators=10 \n",
      "[CV]  criterion=mse, max_depth=None, min_samples_leaf=10, min_samples_split=2, n_estimators=10, total=   8.4s\n",
      "[CV] criterion=mse, max_depth=None, min_samples_leaf=10, min_samples_split=2, n_estimators=10 \n",
      "[CV]  criterion=mse, max_depth=None, min_samples_leaf=10, min_samples_split=2, n_estimators=10, total=   8.9s\n",
      "[CV] criterion=mse, max_depth=None, min_samples_leaf=10, min_samples_split=2, n_estimators=100 \n",
      "[CV]  criterion=mse, max_depth=None, min_samples_leaf=10, min_samples_split=2, n_estimators=100, total= 1.5min\n",
      "[CV] criterion=mse, max_depth=None, min_samples_leaf=10, min_samples_split=2, n_estimators=100 \n",
      "[CV]  criterion=mse, max_depth=None, min_samples_leaf=10, min_samples_split=2, n_estimators=100, total= 1.4min\n",
      "[CV] criterion=mse, max_depth=None, min_samples_leaf=10, min_samples_split=2, n_estimators=100 \n",
      "[CV]  criterion=mse, max_depth=None, min_samples_leaf=10, min_samples_split=2, n_estimators=100, total= 1.5min\n",
      "[CV] criterion=mse, max_depth=None, min_samples_leaf=10, min_samples_split=4, n_estimators=10 \n",
      "[CV]  criterion=mse, max_depth=None, min_samples_leaf=10, min_samples_split=4, n_estimators=10, total=   8.6s\n",
      "[CV] criterion=mse, max_depth=None, min_samples_leaf=10, min_samples_split=4, n_estimators=10 \n",
      "[CV]  criterion=mse, max_depth=None, min_samples_leaf=10, min_samples_split=4, n_estimators=10, total=   8.7s\n",
      "[CV] criterion=mse, max_depth=None, min_samples_leaf=10, min_samples_split=4, n_estimators=10 \n",
      "[CV]  criterion=mse, max_depth=None, min_samples_leaf=10, min_samples_split=4, n_estimators=10, total=   8.9s\n",
      "[CV] criterion=mse, max_depth=None, min_samples_leaf=10, min_samples_split=4, n_estimators=100 \n",
      "[CV]  criterion=mse, max_depth=None, min_samples_leaf=10, min_samples_split=4, n_estimators=100, total= 1.5min\n",
      "[CV] criterion=mse, max_depth=None, min_samples_leaf=10, min_samples_split=4, n_estimators=100 \n",
      "[CV]  criterion=mse, max_depth=None, min_samples_leaf=10, min_samples_split=4, n_estimators=100, total= 1.5min\n",
      "[CV] criterion=mse, max_depth=None, min_samples_leaf=10, min_samples_split=4, n_estimators=100 \n",
      "[CV]  criterion=mse, max_depth=None, min_samples_leaf=10, min_samples_split=4, n_estimators=100, total= 1.5min\n",
      "[CV] criterion=mse, max_depth=None, min_samples_leaf=10, min_samples_split=6, n_estimators=10 \n",
      "[CV]  criterion=mse, max_depth=None, min_samples_leaf=10, min_samples_split=6, n_estimators=10, total=   8.8s\n",
      "[CV] criterion=mse, max_depth=None, min_samples_leaf=10, min_samples_split=6, n_estimators=10 \n",
      "[CV]  criterion=mse, max_depth=None, min_samples_leaf=10, min_samples_split=6, n_estimators=10, total=   8.5s\n",
      "[CV] criterion=mse, max_depth=None, min_samples_leaf=10, min_samples_split=6, n_estimators=10 \n",
      "[CV]  criterion=mse, max_depth=None, min_samples_leaf=10, min_samples_split=6, n_estimators=10, total=   9.0s\n",
      "[CV] criterion=mse, max_depth=None, min_samples_leaf=10, min_samples_split=6, n_estimators=100 \n",
      "[CV]  criterion=mse, max_depth=None, min_samples_leaf=10, min_samples_split=6, n_estimators=100, total= 1.5min\n",
      "[CV] criterion=mse, max_depth=None, min_samples_leaf=10, min_samples_split=6, n_estimators=100 \n",
      "[CV]  criterion=mse, max_depth=None, min_samples_leaf=10, min_samples_split=6, n_estimators=100, total= 1.5min\n",
      "[CV] criterion=mse, max_depth=None, min_samples_leaf=10, min_samples_split=6, n_estimators=100 \n",
      "[CV]  criterion=mse, max_depth=None, min_samples_leaf=10, min_samples_split=6, n_estimators=100, total= 1.5min\n",
      "[CV] criterion=mse, max_depth=None, min_samples_leaf=10, min_samples_split=10, n_estimators=10 \n",
      "[CV]  criterion=mse, max_depth=None, min_samples_leaf=10, min_samples_split=10, n_estimators=10, total=   8.9s\n",
      "[CV] criterion=mse, max_depth=None, min_samples_leaf=10, min_samples_split=10, n_estimators=10 \n",
      "[CV]  criterion=mse, max_depth=None, min_samples_leaf=10, min_samples_split=10, n_estimators=10, total=   8.5s\n",
      "[CV] criterion=mse, max_depth=None, min_samples_leaf=10, min_samples_split=10, n_estimators=10 \n",
      "[CV]  criterion=mse, max_depth=None, min_samples_leaf=10, min_samples_split=10, n_estimators=10, total=   8.8s\n",
      "[CV] criterion=mse, max_depth=None, min_samples_leaf=10, min_samples_split=10, n_estimators=100 \n",
      "[CV]  criterion=mse, max_depth=None, min_samples_leaf=10, min_samples_split=10, n_estimators=100, total= 1.5min\n",
      "[CV] criterion=mse, max_depth=None, min_samples_leaf=10, min_samples_split=10, n_estimators=100 \n",
      "[CV]  criterion=mse, max_depth=None, min_samples_leaf=10, min_samples_split=10, n_estimators=100, total= 1.5min\n",
      "[CV] criterion=mse, max_depth=None, min_samples_leaf=10, min_samples_split=10, n_estimators=100 \n",
      "[CV]  criterion=mse, max_depth=None, min_samples_leaf=10, min_samples_split=10, n_estimators=100, total= 1.5min\n"
     ]
    },
    {
     "name": "stderr",
     "output_type": "stream",
     "text": [
      "[Parallel(n_jobs=1)]: Done 288 out of 288 | elapsed: 127.1min finished\n"
     ]
    },
    {
     "data": {
      "text/plain": [
       "GridSearchCV(cv=3, error_score='raise-deprecating',\n",
       "       estimator=RandomForestRegressor(bootstrap=True, criterion='mse', max_depth=None,\n",
       "           max_features='auto', max_leaf_nodes=None,\n",
       "           min_impurity_decrease=0.0, min_impurity_split=None,\n",
       "           min_samples_leaf=1, min_samples_split=2,\n",
       "           min_weight_fraction_leaf=0.0, n_estimators='warn', n_jobs=None,\n",
       "           oob_score=False, random_state=None, verbose=0, warm_start=False),\n",
       "       fit_params=None, iid='warn', n_jobs=None,\n",
       "       param_grid={'n_estimators': [10, 100], 'criterion': ['mse'], 'max_depth': [2, 5, 10, None], 'min_samples_split': [2, 4, 6, 10], 'min_samples_leaf': [1, 5, 10]},\n",
       "       pre_dispatch='2*n_jobs', refit=True, return_train_score='warn',\n",
       "       scoring=None, verbose=2)"
      ]
     },
     "execution_count": 157,
     "metadata": {},
     "output_type": "execute_result"
    }
   ],
   "source": [
    "from sklearn.ensemble import RandomForestRegressor\n",
    "param_grid_rfr={'n_estimators':[10,100],\n",
    "                'max_depth': [2, 5, 10, None],  \n",
    "                'min_samples_split':[2,4,6,10],\n",
    "               'min_samples_leaf':[1,5,10]}\n",
    "\n",
    "grid_rfr=GridSearchCV(estimator=RandomForestRegressor(),\n",
    "                     param_grid=param_grid_rfr,\n",
    "                     cv=3,\n",
    "                     verbose=2)\n",
    "grid_rfr.fit(X_train,y_train)"
   ]
  },
  {
   "cell_type": "code",
   "execution_count": 158,
   "metadata": {},
   "outputs": [
    {
     "data": {
      "text/plain": [
       "{'criterion': 'mse',\n",
       " 'max_depth': None,\n",
       " 'min_samples_leaf': 10,\n",
       " 'min_samples_split': 10,\n",
       " 'n_estimators': 100}"
      ]
     },
     "execution_count": 158,
     "metadata": {},
     "output_type": "execute_result"
    }
   ],
   "source": [
    "grid_rfr.best_params_"
   ]
  },
  {
   "cell_type": "code",
   "execution_count": 159,
   "metadata": {},
   "outputs": [
    {
     "data": {
      "text/plain": [
       "0.30145381427937207"
      ]
     },
     "execution_count": 159,
     "metadata": {},
     "output_type": "execute_result"
    }
   ],
   "source": [
    "grid_rfr.best_score_"
   ]
  },
  {
   "cell_type": "markdown",
   "metadata": {},
   "source": [
    "30% of Variance explained by Random Forest Regression Model with split criterion of Mean Squared Error, No Maximum Depth, Minimum Samples per Leaf of 10, Minimum Samples per Split of 10 and 100 estimator (trees)"
   ]
  },
  {
   "cell_type": "markdown",
   "metadata": {},
   "source": [
    "Predicting the duration of a rider's trip is a difficult task, our models are only succesful in explaining a fraction of the variance in the ride Duration. However, this is a good starting point! We have a demonstrated a partial understanding of rider behaviour based solely on the factors provided. Combining this data with other sources such as weather patterns and rider demographics we can potentially go much further toward a robust predictive model of ride Duration."
   ]
  }
 ],
 "metadata": {
  "kernelspec": {
   "display_name": "Python 3",
   "language": "python",
   "name": "python3"
  },
  "language_info": {
   "codemirror_mode": {
    "name": "ipython",
    "version": 3
   },
   "file_extension": ".py",
   "mimetype": "text/x-python",
   "name": "python",
   "nbconvert_exporter": "python",
   "pygments_lexer": "ipython3",
   "version": "3.7.0"
  }
 },
 "nbformat": 4,
 "nbformat_minor": 2
}
