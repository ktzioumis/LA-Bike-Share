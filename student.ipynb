{
 "cells": [
  {
   "cell_type": "markdown",
   "metadata": {},
   "source": [
    "## Final Project Submission\n",
    "\n",
    "Please fill out:\n",
    "* Student name: Kosta Tzioumis\n",
    "* Student pace: part time \n",
    "* Scheduled project review date/time: \n",
    "* Instructor name: Eli\n",
    "* Blog post URL:\n"
   ]
  },
  {
   "cell_type": "markdown",
   "metadata": {},
   "source": [
    "## Data Set obtained from:\n",
    "https://www.kaggle.com/cityofLA/los-angeles-metro-bike-share-trip-data"
   ]
  },
  {
   "cell_type": "code",
   "execution_count": 356,
   "metadata": {},
   "outputs": [],
   "source": [
    "import pandas as pd\n",
    "import numpy as np\n",
    "import matplotlib.pyplot as plt\n",
    "%matplotlib inline"
   ]
  },
  {
   "cell_type": "code",
   "execution_count": 357,
   "metadata": {
    "scrolled": true
   },
   "outputs": [
    {
     "data": {
      "text/html": [
       "<div>\n",
       "<style scoped>\n",
       "    .dataframe tbody tr th:only-of-type {\n",
       "        vertical-align: middle;\n",
       "    }\n",
       "\n",
       "    .dataframe tbody tr th {\n",
       "        vertical-align: top;\n",
       "    }\n",
       "\n",
       "    .dataframe thead th {\n",
       "        text-align: right;\n",
       "    }\n",
       "</style>\n",
       "<table border=\"1\" class=\"dataframe\">\n",
       "  <thead>\n",
       "    <tr style=\"text-align: right;\">\n",
       "      <th></th>\n",
       "      <th>Trip ID</th>\n",
       "      <th>Duration</th>\n",
       "      <th>Start Time</th>\n",
       "      <th>End Time</th>\n",
       "      <th>Starting Station ID</th>\n",
       "      <th>Starting Station Latitude</th>\n",
       "      <th>Starting Station Longitude</th>\n",
       "      <th>Ending Station ID</th>\n",
       "      <th>Ending Station Latitude</th>\n",
       "      <th>Ending Station Longitude</th>\n",
       "      <th>...</th>\n",
       "      <th>Trip Route Category</th>\n",
       "      <th>Passholder Type</th>\n",
       "      <th>Starting Lat-Long</th>\n",
       "      <th>Ending Lat-Long</th>\n",
       "      <th>Neighborhood Councils (Certified)</th>\n",
       "      <th>Council Districts</th>\n",
       "      <th>Zip Codes</th>\n",
       "      <th>LA Specific Plans</th>\n",
       "      <th>Precinct Boundaries</th>\n",
       "      <th>Census Tracts</th>\n",
       "    </tr>\n",
       "  </thead>\n",
       "  <tbody>\n",
       "    <tr>\n",
       "      <th>0</th>\n",
       "      <td>18222186</td>\n",
       "      <td>15060</td>\n",
       "      <td>2017-01-19T17:05:00.000</td>\n",
       "      <td>2017-01-19T21:16:00.000</td>\n",
       "      <td>3031.0</td>\n",
       "      <td>34.044701</td>\n",
       "      <td>-118.252441</td>\n",
       "      <td>3000.0</td>\n",
       "      <td>NaN</td>\n",
       "      <td>NaN</td>\n",
       "      <td>...</td>\n",
       "      <td>One Way</td>\n",
       "      <td>Walk-up</td>\n",
       "      <td>NaN</td>\n",
       "      <td>NaN</td>\n",
       "      <td>NaN</td>\n",
       "      <td>NaN</td>\n",
       "      <td>NaN</td>\n",
       "      <td>NaN</td>\n",
       "      <td>NaN</td>\n",
       "      <td>NaN</td>\n",
       "    </tr>\n",
       "    <tr>\n",
       "      <th>1</th>\n",
       "      <td>9518671</td>\n",
       "      <td>77160</td>\n",
       "      <td>2016-10-09T14:37:00.000</td>\n",
       "      <td>2016-10-10T12:03:00.000</td>\n",
       "      <td>NaN</td>\n",
       "      <td>NaN</td>\n",
       "      <td>NaN</td>\n",
       "      <td>3000.0</td>\n",
       "      <td>NaN</td>\n",
       "      <td>NaN</td>\n",
       "      <td>...</td>\n",
       "      <td>One Way</td>\n",
       "      <td>Monthly Pass</td>\n",
       "      <td>NaN</td>\n",
       "      <td>NaN</td>\n",
       "      <td>NaN</td>\n",
       "      <td>NaN</td>\n",
       "      <td>NaN</td>\n",
       "      <td>NaN</td>\n",
       "      <td>NaN</td>\n",
       "      <td>NaN</td>\n",
       "    </tr>\n",
       "    <tr>\n",
       "      <th>2</th>\n",
       "      <td>20444932</td>\n",
       "      <td>86400</td>\n",
       "      <td>2017-02-18T10:15:00.000</td>\n",
       "      <td>2017-02-20T15:20:00.000</td>\n",
       "      <td>3026.0</td>\n",
       "      <td>34.063179</td>\n",
       "      <td>-118.245880</td>\n",
       "      <td>3000.0</td>\n",
       "      <td>NaN</td>\n",
       "      <td>NaN</td>\n",
       "      <td>...</td>\n",
       "      <td>One Way</td>\n",
       "      <td>Walk-up</td>\n",
       "      <td>NaN</td>\n",
       "      <td>NaN</td>\n",
       "      <td>NaN</td>\n",
       "      <td>NaN</td>\n",
       "      <td>NaN</td>\n",
       "      <td>NaN</td>\n",
       "      <td>NaN</td>\n",
       "      <td>NaN</td>\n",
       "    </tr>\n",
       "    <tr>\n",
       "      <th>3</th>\n",
       "      <td>20905031</td>\n",
       "      <td>18840</td>\n",
       "      <td>2017-02-27T12:26:00.000</td>\n",
       "      <td>2017-02-27T17:40:00.000</td>\n",
       "      <td>3023.0</td>\n",
       "      <td>34.050911</td>\n",
       "      <td>-118.240967</td>\n",
       "      <td>3000.0</td>\n",
       "      <td>NaN</td>\n",
       "      <td>NaN</td>\n",
       "      <td>...</td>\n",
       "      <td>One Way</td>\n",
       "      <td>Walk-up</td>\n",
       "      <td>NaN</td>\n",
       "      <td>NaN</td>\n",
       "      <td>NaN</td>\n",
       "      <td>NaN</td>\n",
       "      <td>NaN</td>\n",
       "      <td>NaN</td>\n",
       "      <td>NaN</td>\n",
       "      <td>NaN</td>\n",
       "    </tr>\n",
       "    <tr>\n",
       "      <th>4</th>\n",
       "      <td>21031476</td>\n",
       "      <td>86400</td>\n",
       "      <td>2017-02-27T20:26:00.000</td>\n",
       "      <td>2017-03-01T09:49:00.000</td>\n",
       "      <td>3008.0</td>\n",
       "      <td>34.046612</td>\n",
       "      <td>-118.262733</td>\n",
       "      <td>3000.0</td>\n",
       "      <td>NaN</td>\n",
       "      <td>NaN</td>\n",
       "      <td>...</td>\n",
       "      <td>One Way</td>\n",
       "      <td>Flex Pass</td>\n",
       "      <td>NaN</td>\n",
       "      <td>NaN</td>\n",
       "      <td>NaN</td>\n",
       "      <td>NaN</td>\n",
       "      <td>NaN</td>\n",
       "      <td>NaN</td>\n",
       "      <td>NaN</td>\n",
       "      <td>NaN</td>\n",
       "    </tr>\n",
       "    <tr>\n",
       "      <th>5</th>\n",
       "      <td>9378284</td>\n",
       "      <td>60</td>\n",
       "      <td>2016-10-09T09:40:00.000</td>\n",
       "      <td>2016-10-09T09:41:00.000</td>\n",
       "      <td>NaN</td>\n",
       "      <td>NaN</td>\n",
       "      <td>NaN</td>\n",
       "      <td>NaN</td>\n",
       "      <td>NaN</td>\n",
       "      <td>NaN</td>\n",
       "      <td>...</td>\n",
       "      <td>One Way</td>\n",
       "      <td>Staff Annual</td>\n",
       "      <td>NaN</td>\n",
       "      <td>NaN</td>\n",
       "      <td>NaN</td>\n",
       "      <td>NaN</td>\n",
       "      <td>NaN</td>\n",
       "      <td>NaN</td>\n",
       "      <td>NaN</td>\n",
       "      <td>NaN</td>\n",
       "    </tr>\n",
       "    <tr>\n",
       "      <th>6</th>\n",
       "      <td>21784648</td>\n",
       "      <td>14760</td>\n",
       "      <td>2017-03-10T17:38:00.000</td>\n",
       "      <td>2017-03-10T21:44:00.000</td>\n",
       "      <td>3065.0</td>\n",
       "      <td>34.060558</td>\n",
       "      <td>-118.238327</td>\n",
       "      <td>3000.0</td>\n",
       "      <td>NaN</td>\n",
       "      <td>NaN</td>\n",
       "      <td>...</td>\n",
       "      <td>One Way</td>\n",
       "      <td>Walk-up</td>\n",
       "      <td>NaN</td>\n",
       "      <td>NaN</td>\n",
       "      <td>NaN</td>\n",
       "      <td>NaN</td>\n",
       "      <td>NaN</td>\n",
       "      <td>NaN</td>\n",
       "      <td>NaN</td>\n",
       "      <td>NaN</td>\n",
       "    </tr>\n",
       "    <tr>\n",
       "      <th>7</th>\n",
       "      <td>22506739</td>\n",
       "      <td>79020</td>\n",
       "      <td>2017-03-17T19:20:00.000</td>\n",
       "      <td>2017-03-18T17:17:00.000</td>\n",
       "      <td>3063.0</td>\n",
       "      <td>34.049198</td>\n",
       "      <td>-118.252831</td>\n",
       "      <td>3000.0</td>\n",
       "      <td>NaN</td>\n",
       "      <td>NaN</td>\n",
       "      <td>...</td>\n",
       "      <td>One Way</td>\n",
       "      <td>Walk-up</td>\n",
       "      <td>NaN</td>\n",
       "      <td>NaN</td>\n",
       "      <td>NaN</td>\n",
       "      <td>NaN</td>\n",
       "      <td>NaN</td>\n",
       "      <td>NaN</td>\n",
       "      <td>NaN</td>\n",
       "      <td>NaN</td>\n",
       "    </tr>\n",
       "    <tr>\n",
       "      <th>8</th>\n",
       "      <td>20889067</td>\n",
       "      <td>86400</td>\n",
       "      <td>2017-02-26T12:18:00.000</td>\n",
       "      <td>2017-02-27T12:36:00.000</td>\n",
       "      <td>3062.0</td>\n",
       "      <td>34.047749</td>\n",
       "      <td>-118.243172</td>\n",
       "      <td>3000.0</td>\n",
       "      <td>NaN</td>\n",
       "      <td>NaN</td>\n",
       "      <td>...</td>\n",
       "      <td>One Way</td>\n",
       "      <td>Walk-up</td>\n",
       "      <td>NaN</td>\n",
       "      <td>NaN</td>\n",
       "      <td>NaN</td>\n",
       "      <td>NaN</td>\n",
       "      <td>NaN</td>\n",
       "      <td>NaN</td>\n",
       "      <td>NaN</td>\n",
       "      <td>NaN</td>\n",
       "    </tr>\n",
       "    <tr>\n",
       "      <th>9</th>\n",
       "      <td>18481915</td>\n",
       "      <td>600</td>\n",
       "      <td>2017-01-23T18:48:00.000</td>\n",
       "      <td>2017-01-23T18:58:00.000</td>\n",
       "      <td>3082.0</td>\n",
       "      <td>34.046520</td>\n",
       "      <td>-118.237411</td>\n",
       "      <td>3000.0</td>\n",
       "      <td>NaN</td>\n",
       "      <td>NaN</td>\n",
       "      <td>...</td>\n",
       "      <td>One Way</td>\n",
       "      <td>Monthly Pass</td>\n",
       "      <td>NaN</td>\n",
       "      <td>NaN</td>\n",
       "      <td>NaN</td>\n",
       "      <td>NaN</td>\n",
       "      <td>NaN</td>\n",
       "      <td>NaN</td>\n",
       "      <td>NaN</td>\n",
       "      <td>NaN</td>\n",
       "    </tr>\n",
       "  </tbody>\n",
       "</table>\n",
       "<p>10 rows × 22 columns</p>\n",
       "</div>"
      ],
      "text/plain": [
       "    Trip ID  Duration               Start Time                 End Time  \\\n",
       "0  18222186     15060  2017-01-19T17:05:00.000  2017-01-19T21:16:00.000   \n",
       "1   9518671     77160  2016-10-09T14:37:00.000  2016-10-10T12:03:00.000   \n",
       "2  20444932     86400  2017-02-18T10:15:00.000  2017-02-20T15:20:00.000   \n",
       "3  20905031     18840  2017-02-27T12:26:00.000  2017-02-27T17:40:00.000   \n",
       "4  21031476     86400  2017-02-27T20:26:00.000  2017-03-01T09:49:00.000   \n",
       "5   9378284        60  2016-10-09T09:40:00.000  2016-10-09T09:41:00.000   \n",
       "6  21784648     14760  2017-03-10T17:38:00.000  2017-03-10T21:44:00.000   \n",
       "7  22506739     79020  2017-03-17T19:20:00.000  2017-03-18T17:17:00.000   \n",
       "8  20889067     86400  2017-02-26T12:18:00.000  2017-02-27T12:36:00.000   \n",
       "9  18481915       600  2017-01-23T18:48:00.000  2017-01-23T18:58:00.000   \n",
       "\n",
       "   Starting Station ID  Starting Station Latitude  Starting Station Longitude  \\\n",
       "0               3031.0                  34.044701                 -118.252441   \n",
       "1                  NaN                        NaN                         NaN   \n",
       "2               3026.0                  34.063179                 -118.245880   \n",
       "3               3023.0                  34.050911                 -118.240967   \n",
       "4               3008.0                  34.046612                 -118.262733   \n",
       "5                  NaN                        NaN                         NaN   \n",
       "6               3065.0                  34.060558                 -118.238327   \n",
       "7               3063.0                  34.049198                 -118.252831   \n",
       "8               3062.0                  34.047749                 -118.243172   \n",
       "9               3082.0                  34.046520                 -118.237411   \n",
       "\n",
       "   Ending Station ID  Ending Station Latitude  Ending Station Longitude  \\\n",
       "0             3000.0                      NaN                       NaN   \n",
       "1             3000.0                      NaN                       NaN   \n",
       "2             3000.0                      NaN                       NaN   \n",
       "3             3000.0                      NaN                       NaN   \n",
       "4             3000.0                      NaN                       NaN   \n",
       "5                NaN                      NaN                       NaN   \n",
       "6             3000.0                      NaN                       NaN   \n",
       "7             3000.0                      NaN                       NaN   \n",
       "8             3000.0                      NaN                       NaN   \n",
       "9             3000.0                      NaN                       NaN   \n",
       "\n",
       "       ...        Trip Route Category  Passholder Type Starting Lat-Long  \\\n",
       "0      ...                    One Way          Walk-up               NaN   \n",
       "1      ...                    One Way     Monthly Pass               NaN   \n",
       "2      ...                    One Way          Walk-up               NaN   \n",
       "3      ...                    One Way          Walk-up               NaN   \n",
       "4      ...                    One Way        Flex Pass               NaN   \n",
       "5      ...                    One Way     Staff Annual               NaN   \n",
       "6      ...                    One Way          Walk-up               NaN   \n",
       "7      ...                    One Way          Walk-up               NaN   \n",
       "8      ...                    One Way          Walk-up               NaN   \n",
       "9      ...                    One Way     Monthly Pass               NaN   \n",
       "\n",
       "  Ending Lat-Long Neighborhood Councils (Certified) Council Districts  \\\n",
       "0             NaN                               NaN               NaN   \n",
       "1             NaN                               NaN               NaN   \n",
       "2             NaN                               NaN               NaN   \n",
       "3             NaN                               NaN               NaN   \n",
       "4             NaN                               NaN               NaN   \n",
       "5             NaN                               NaN               NaN   \n",
       "6             NaN                               NaN               NaN   \n",
       "7             NaN                               NaN               NaN   \n",
       "8             NaN                               NaN               NaN   \n",
       "9             NaN                               NaN               NaN   \n",
       "\n",
       "   Zip Codes  LA Specific Plans  Precinct Boundaries  Census Tracts  \n",
       "0        NaN                NaN                  NaN            NaN  \n",
       "1        NaN                NaN                  NaN            NaN  \n",
       "2        NaN                NaN                  NaN            NaN  \n",
       "3        NaN                NaN                  NaN            NaN  \n",
       "4        NaN                NaN                  NaN            NaN  \n",
       "5        NaN                NaN                  NaN            NaN  \n",
       "6        NaN                NaN                  NaN            NaN  \n",
       "7        NaN                NaN                  NaN            NaN  \n",
       "8        NaN                NaN                  NaN            NaN  \n",
       "9        NaN                NaN                  NaN            NaN  \n",
       "\n",
       "[10 rows x 22 columns]"
      ]
     },
     "execution_count": 357,
     "metadata": {},
     "output_type": "execute_result"
    }
   ],
   "source": [
    "df=pd.read_csv('metro-bike-share-trip-data.csv')\n",
    "df.head(10)"
   ]
  },
  {
   "cell_type": "code",
   "execution_count": 358,
   "metadata": {
    "scrolled": true
   },
   "outputs": [
    {
     "data": {
      "text/plain": [
       "(132427, 22)"
      ]
     },
     "execution_count": 358,
     "metadata": {},
     "output_type": "execute_result"
    }
   ],
   "source": [
    "df.shape"
   ]
  },
  {
   "cell_type": "markdown",
   "metadata": {},
   "source": [
    "Feature descriptions from https://bikeshare.metro.net/about/data/\n",
    "\n",
    "<b>trip_id:</b> Locally unique integer that identifies the trip\n",
    "\n",
    "<b>duration:</b> Length of trip in <i> minutes*</i>\n",
    "\n",
    "<b>start_time:</b> The date/time when the trip began, presented in ISO 8601 format in local time\n",
    "\n",
    "<b>end_time: </b>The date/time when the trip ended, presented in ISO 8601 format in local time\n",
    "\n",
    "<b>start_station:</b> The station ID where the trip originated \n",
    "\n",
    "<b>start_lat:</b> The latitude of the station where the trip originated\n",
    "\n",
    "<b>start_lon: </b>The longitude of the station where the trip originated\n",
    "\n",
    "<b>end_station: </b>The station ID where the trip terminated \n",
    "\n",
    "<b>end_lat: </b>The latitude of the station where the trip terminated\n",
    "\n",
    "<b>end_lon: </b>The longitude of the station where the trip terminated\n",
    "\n",
    "<b>bike_id: </b> Locally unique integer that identifies the bike\n",
    "    \n",
    "<b>plan_duration: </b>The number of days that the plan the passholder is using entitles them to ride; 0 is used for a single ride plan (Walk-up)\n",
    "\n",
    "<b>trip_route_category:</b> \"Round Trip\" for trips starting and ending at the same station or \"One Way\" for all other trips\n",
    "\n",
    "<b>passholder_type: </b>The name of the passholder's plan\n",
    "\n",
    "*units are actually in but each instance is a multiple of 60 i.e. a whole minute number. We will convert this to minutes\n",
    "\n",
    "Other features are not officially described by Metro Bike Share\n",
    "\n",
    "Starting Lat-Long and Ending Lat-Long appear to be repetitions of previous station data and can be dropped safely\n",
    "\n",
    "Remaining features appear to be LA geographic information not relevant to this study, many of which include large amounts of missing data. These will  also be dropped."
   ]
  },
  {
   "cell_type": "code",
   "execution_count": null,
   "metadata": {},
   "outputs": [],
   "source": []
  },
  {
   "cell_type": "markdown",
   "metadata": {},
   "source": [
    "### Data Cleaning"
   ]
  },
  {
   "cell_type": "code",
   "execution_count": 359,
   "metadata": {
    "scrolled": false
   },
   "outputs": [
    {
     "name": "stdout",
     "output_type": "stream",
     "text": [
      "<class 'pandas.core.frame.DataFrame'>\n",
      "RangeIndex: 132427 entries, 0 to 132426\n",
      "Data columns (total 22 columns):\n",
      "Trip ID                              132427 non-null int64\n",
      "Duration                             132427 non-null int64\n",
      "Start Time                           132427 non-null object\n",
      "End Time                             132427 non-null object\n",
      "Starting Station ID                  132408 non-null float64\n",
      "Starting Station Latitude            132379 non-null float64\n",
      "Starting Station Longitude           132379 non-null float64\n",
      "Ending Station ID                    132331 non-null float64\n",
      "Ending Station Latitude              131376 non-null float64\n",
      "Ending Station Longitude             131376 non-null float64\n",
      "Bike ID                              132417 non-null float64\n",
      "Plan Duration                        131661 non-null float64\n",
      "Trip Route Category                  132427 non-null object\n",
      "Passholder Type                      132427 non-null object\n",
      "Starting Lat-Long                    98622 non-null object\n",
      "Ending Lat-Long                      131376 non-null object\n",
      "Neighborhood Councils (Certified)    98590 non-null float64\n",
      "Council Districts                    98590 non-null float64\n",
      "Zip Codes                            98590 non-null float64\n",
      "LA Specific Plans                    15837 non-null float64\n",
      "Precinct Boundaries                  131328 non-null float64\n",
      "Census Tracts                        131328 non-null float64\n",
      "dtypes: float64(14), int64(2), object(6)\n",
      "memory usage: 22.2+ MB\n"
     ]
    }
   ],
   "source": [
    "df.info()"
   ]
  },
  {
   "cell_type": "code",
   "execution_count": 360,
   "metadata": {
    "scrolled": true
   },
   "outputs": [
    {
     "data": {
      "text/plain": [
       "Trip ID                                   0\n",
       "Duration                                  0\n",
       "Start Time                                0\n",
       "End Time                                  0\n",
       "Starting Station ID                      19\n",
       "Starting Station Latitude                48\n",
       "Starting Station Longitude               48\n",
       "Ending Station ID                        96\n",
       "Ending Station Latitude                1051\n",
       "Ending Station Longitude               1051\n",
       "Bike ID                                  10\n",
       "Plan Duration                           766\n",
       "Trip Route Category                       0\n",
       "Passholder Type                           0\n",
       "Starting Lat-Long                     33805\n",
       "Ending Lat-Long                        1051\n",
       "Neighborhood Councils (Certified)     33837\n",
       "Council Districts                     33837\n",
       "Zip Codes                             33837\n",
       "LA Specific Plans                    116590\n",
       "Precinct Boundaries                    1099\n",
       "Census Tracts                          1099\n",
       "dtype: int64"
      ]
     },
     "execution_count": 360,
     "metadata": {},
     "output_type": "execute_result"
    }
   ],
   "source": [
    "df.isna().sum()"
   ]
  },
  {
   "cell_type": "code",
   "execution_count": 361,
   "metadata": {},
   "outputs": [],
   "source": [
    "df.drop(columns=['Starting Lat-Long',\n",
    "                 'Ending Lat-Long',\n",
    "                 'Neighborhood Councils (Certified)',\n",
    "                 'Council Districts',\n",
    "                 'Zip Codes',\n",
    "                 'LA Specific Plans',\n",
    "                 'Precinct Boundaries',\n",
    "                 'Census Tracts'],\n",
    "       inplace=True)\n",
    "df.Duration=df.Duration/60"
   ]
  },
  {
   "cell_type": "code",
   "execution_count": 362,
   "metadata": {},
   "outputs": [
    {
     "data": {
      "text/html": [
       "<div>\n",
       "<style scoped>\n",
       "    .dataframe tbody tr th:only-of-type {\n",
       "        vertical-align: middle;\n",
       "    }\n",
       "\n",
       "    .dataframe tbody tr th {\n",
       "        vertical-align: top;\n",
       "    }\n",
       "\n",
       "    .dataframe thead th {\n",
       "        text-align: right;\n",
       "    }\n",
       "</style>\n",
       "<table border=\"1\" class=\"dataframe\">\n",
       "  <thead>\n",
       "    <tr style=\"text-align: right;\">\n",
       "      <th></th>\n",
       "      <th>Trip ID</th>\n",
       "      <th>Duration</th>\n",
       "      <th>Start Time</th>\n",
       "      <th>End Time</th>\n",
       "      <th>Starting Station ID</th>\n",
       "      <th>Starting Station Latitude</th>\n",
       "      <th>Starting Station Longitude</th>\n",
       "      <th>Ending Station ID</th>\n",
       "      <th>Ending Station Latitude</th>\n",
       "      <th>Ending Station Longitude</th>\n",
       "      <th>Bike ID</th>\n",
       "      <th>Plan Duration</th>\n",
       "      <th>Trip Route Category</th>\n",
       "      <th>Passholder Type</th>\n",
       "    </tr>\n",
       "  </thead>\n",
       "  <tbody>\n",
       "    <tr>\n",
       "      <th>0</th>\n",
       "      <td>18222186</td>\n",
       "      <td>251.0</td>\n",
       "      <td>2017-01-19T17:05:00.000</td>\n",
       "      <td>2017-01-19T21:16:00.000</td>\n",
       "      <td>3031.0</td>\n",
       "      <td>34.044701</td>\n",
       "      <td>-118.252441</td>\n",
       "      <td>3000.0</td>\n",
       "      <td>NaN</td>\n",
       "      <td>NaN</td>\n",
       "      <td>5944.0</td>\n",
       "      <td>0.0</td>\n",
       "      <td>One Way</td>\n",
       "      <td>Walk-up</td>\n",
       "    </tr>\n",
       "    <tr>\n",
       "      <th>1</th>\n",
       "      <td>9518671</td>\n",
       "      <td>1286.0</td>\n",
       "      <td>2016-10-09T14:37:00.000</td>\n",
       "      <td>2016-10-10T12:03:00.000</td>\n",
       "      <td>NaN</td>\n",
       "      <td>NaN</td>\n",
       "      <td>NaN</td>\n",
       "      <td>3000.0</td>\n",
       "      <td>NaN</td>\n",
       "      <td>NaN</td>\n",
       "      <td>6603.0</td>\n",
       "      <td>30.0</td>\n",
       "      <td>One Way</td>\n",
       "      <td>Monthly Pass</td>\n",
       "    </tr>\n",
       "    <tr>\n",
       "      <th>2</th>\n",
       "      <td>20444932</td>\n",
       "      <td>1440.0</td>\n",
       "      <td>2017-02-18T10:15:00.000</td>\n",
       "      <td>2017-02-20T15:20:00.000</td>\n",
       "      <td>3026.0</td>\n",
       "      <td>34.063179</td>\n",
       "      <td>-118.245880</td>\n",
       "      <td>3000.0</td>\n",
       "      <td>NaN</td>\n",
       "      <td>NaN</td>\n",
       "      <td>5879.0</td>\n",
       "      <td>0.0</td>\n",
       "      <td>One Way</td>\n",
       "      <td>Walk-up</td>\n",
       "    </tr>\n",
       "    <tr>\n",
       "      <th>3</th>\n",
       "      <td>20905031</td>\n",
       "      <td>314.0</td>\n",
       "      <td>2017-02-27T12:26:00.000</td>\n",
       "      <td>2017-02-27T17:40:00.000</td>\n",
       "      <td>3023.0</td>\n",
       "      <td>34.050911</td>\n",
       "      <td>-118.240967</td>\n",
       "      <td>3000.0</td>\n",
       "      <td>NaN</td>\n",
       "      <td>NaN</td>\n",
       "      <td>6056.0</td>\n",
       "      <td>0.0</td>\n",
       "      <td>One Way</td>\n",
       "      <td>Walk-up</td>\n",
       "    </tr>\n",
       "    <tr>\n",
       "      <th>4</th>\n",
       "      <td>21031476</td>\n",
       "      <td>1440.0</td>\n",
       "      <td>2017-02-27T20:26:00.000</td>\n",
       "      <td>2017-03-01T09:49:00.000</td>\n",
       "      <td>3008.0</td>\n",
       "      <td>34.046612</td>\n",
       "      <td>-118.262733</td>\n",
       "      <td>3000.0</td>\n",
       "      <td>NaN</td>\n",
       "      <td>NaN</td>\n",
       "      <td>6054.0</td>\n",
       "      <td>365.0</td>\n",
       "      <td>One Way</td>\n",
       "      <td>Flex Pass</td>\n",
       "    </tr>\n",
       "  </tbody>\n",
       "</table>\n",
       "</div>"
      ],
      "text/plain": [
       "    Trip ID  Duration               Start Time                 End Time  \\\n",
       "0  18222186     251.0  2017-01-19T17:05:00.000  2017-01-19T21:16:00.000   \n",
       "1   9518671    1286.0  2016-10-09T14:37:00.000  2016-10-10T12:03:00.000   \n",
       "2  20444932    1440.0  2017-02-18T10:15:00.000  2017-02-20T15:20:00.000   \n",
       "3  20905031     314.0  2017-02-27T12:26:00.000  2017-02-27T17:40:00.000   \n",
       "4  21031476    1440.0  2017-02-27T20:26:00.000  2017-03-01T09:49:00.000   \n",
       "\n",
       "   Starting Station ID  Starting Station Latitude  Starting Station Longitude  \\\n",
       "0               3031.0                  34.044701                 -118.252441   \n",
       "1                  NaN                        NaN                         NaN   \n",
       "2               3026.0                  34.063179                 -118.245880   \n",
       "3               3023.0                  34.050911                 -118.240967   \n",
       "4               3008.0                  34.046612                 -118.262733   \n",
       "\n",
       "   Ending Station ID  Ending Station Latitude  Ending Station Longitude  \\\n",
       "0             3000.0                      NaN                       NaN   \n",
       "1             3000.0                      NaN                       NaN   \n",
       "2             3000.0                      NaN                       NaN   \n",
       "3             3000.0                      NaN                       NaN   \n",
       "4             3000.0                      NaN                       NaN   \n",
       "\n",
       "   Bike ID  Plan Duration Trip Route Category Passholder Type  \n",
       "0   5944.0            0.0             One Way         Walk-up  \n",
       "1   6603.0           30.0             One Way    Monthly Pass  \n",
       "2   5879.0            0.0             One Way         Walk-up  \n",
       "3   6056.0            0.0             One Way         Walk-up  \n",
       "4   6054.0          365.0             One Way       Flex Pass  "
      ]
     },
     "execution_count": 362,
     "metadata": {},
     "output_type": "execute_result"
    }
   ],
   "source": [
    "df.head()"
   ]
  },
  {
   "cell_type": "markdown",
   "metadata": {},
   "source": [
    "Trip ID can be used is a unique identifier and can be used as an index for this data.\n",
    "\n",
    "Remaining features had little missing data the largest source being just 1051 missing cells from over 132,000. Rows with missing data can be safely dropped from the datasets.\n",
    "\n",
    "Start Time and End Time will be converted to time series data types\n"
   ]
  },
  {
   "cell_type": "code",
   "execution_count": 363,
   "metadata": {},
   "outputs": [
    {
     "data": {
      "text/html": [
       "<div>\n",
       "<style scoped>\n",
       "    .dataframe tbody tr th:only-of-type {\n",
       "        vertical-align: middle;\n",
       "    }\n",
       "\n",
       "    .dataframe tbody tr th {\n",
       "        vertical-align: top;\n",
       "    }\n",
       "\n",
       "    .dataframe thead th {\n",
       "        text-align: right;\n",
       "    }\n",
       "</style>\n",
       "<table border=\"1\" class=\"dataframe\">\n",
       "  <thead>\n",
       "    <tr style=\"text-align: right;\">\n",
       "      <th></th>\n",
       "      <th>Duration</th>\n",
       "      <th>Start Time</th>\n",
       "      <th>End Time</th>\n",
       "      <th>Starting Station ID</th>\n",
       "      <th>Starting Station Latitude</th>\n",
       "      <th>Starting Station Longitude</th>\n",
       "      <th>Ending Station ID</th>\n",
       "      <th>Ending Station Latitude</th>\n",
       "      <th>Ending Station Longitude</th>\n",
       "      <th>Bike ID</th>\n",
       "      <th>Plan Duration</th>\n",
       "      <th>Trip Route Category</th>\n",
       "      <th>Passholder Type</th>\n",
       "    </tr>\n",
       "    <tr>\n",
       "      <th>Trip ID</th>\n",
       "      <th></th>\n",
       "      <th></th>\n",
       "      <th></th>\n",
       "      <th></th>\n",
       "      <th></th>\n",
       "      <th></th>\n",
       "      <th></th>\n",
       "      <th></th>\n",
       "      <th></th>\n",
       "      <th></th>\n",
       "      <th></th>\n",
       "      <th></th>\n",
       "      <th></th>\n",
       "    </tr>\n",
       "  </thead>\n",
       "  <tbody>\n",
       "    <tr>\n",
       "      <th>17848847</th>\n",
       "      <td>8.0</td>\n",
       "      <td>2017-01-13 21:32:00</td>\n",
       "      <td>2017-01-13 21:40:00</td>\n",
       "      <td>3082.0</td>\n",
       "      <td>34.046520</td>\n",
       "      <td>-118.237411</td>\n",
       "      <td>3036.0</td>\n",
       "      <td>34.039188</td>\n",
       "      <td>-118.232529</td>\n",
       "      <td>6474.0</td>\n",
       "      <td>0.0</td>\n",
       "      <td>One Way</td>\n",
       "      <td>Walk-up</td>\n",
       "    </tr>\n",
       "    <tr>\n",
       "      <th>20700706</th>\n",
       "      <td>9.0</td>\n",
       "      <td>2017-02-24 23:13:00</td>\n",
       "      <td>2017-02-24 23:22:00</td>\n",
       "      <td>3029.0</td>\n",
       "      <td>34.048851</td>\n",
       "      <td>-118.246422</td>\n",
       "      <td>3082.0</td>\n",
       "      <td>34.046520</td>\n",
       "      <td>-118.237411</td>\n",
       "      <td>5794.0</td>\n",
       "      <td>30.0</td>\n",
       "      <td>One Way</td>\n",
       "      <td>Monthly Pass</td>\n",
       "    </tr>\n",
       "    <tr>\n",
       "      <th>20595730</th>\n",
       "      <td>14.0</td>\n",
       "      <td>2017-02-23 07:34:00</td>\n",
       "      <td>2017-02-23 07:48:00</td>\n",
       "      <td>3022.0</td>\n",
       "      <td>34.046070</td>\n",
       "      <td>-118.233093</td>\n",
       "      <td>3005.0</td>\n",
       "      <td>34.048550</td>\n",
       "      <td>-118.259048</td>\n",
       "      <td>6604.0</td>\n",
       "      <td>30.0</td>\n",
       "      <td>One Way</td>\n",
       "      <td>Monthly Pass</td>\n",
       "    </tr>\n",
       "    <tr>\n",
       "      <th>17307719</th>\n",
       "      <td>7.0</td>\n",
       "      <td>2017-01-05 12:04:00</td>\n",
       "      <td>2017-01-05 12:11:00</td>\n",
       "      <td>3059.0</td>\n",
       "      <td>34.037949</td>\n",
       "      <td>-118.256271</td>\n",
       "      <td>3038.0</td>\n",
       "      <td>34.046822</td>\n",
       "      <td>-118.248352</td>\n",
       "      <td>6035.0</td>\n",
       "      <td>30.0</td>\n",
       "      <td>One Way</td>\n",
       "      <td>Monthly Pass</td>\n",
       "    </tr>\n",
       "    <tr>\n",
       "      <th>18941656</th>\n",
       "      <td>14.0</td>\n",
       "      <td>2017-01-30 20:19:00</td>\n",
       "      <td>2017-01-30 20:33:00</td>\n",
       "      <td>3035.0</td>\n",
       "      <td>34.048401</td>\n",
       "      <td>-118.260948</td>\n",
       "      <td>3040.0</td>\n",
       "      <td>34.053570</td>\n",
       "      <td>-118.266357</td>\n",
       "      <td>6728.0</td>\n",
       "      <td>0.0</td>\n",
       "      <td>One Way</td>\n",
       "      <td>Walk-up</td>\n",
       "    </tr>\n",
       "  </tbody>\n",
       "</table>\n",
       "</div>"
      ],
      "text/plain": [
       "          Duration          Start Time            End Time  \\\n",
       "Trip ID                                                      \n",
       "17848847       8.0 2017-01-13 21:32:00 2017-01-13 21:40:00   \n",
       "20700706       9.0 2017-02-24 23:13:00 2017-02-24 23:22:00   \n",
       "20595730      14.0 2017-02-23 07:34:00 2017-02-23 07:48:00   \n",
       "17307719       7.0 2017-01-05 12:04:00 2017-01-05 12:11:00   \n",
       "18941656      14.0 2017-01-30 20:19:00 2017-01-30 20:33:00   \n",
       "\n",
       "          Starting Station ID  Starting Station Latitude  \\\n",
       "Trip ID                                                    \n",
       "17848847               3082.0                  34.046520   \n",
       "20700706               3029.0                  34.048851   \n",
       "20595730               3022.0                  34.046070   \n",
       "17307719               3059.0                  34.037949   \n",
       "18941656               3035.0                  34.048401   \n",
       "\n",
       "          Starting Station Longitude  Ending Station ID  \\\n",
       "Trip ID                                                   \n",
       "17848847                 -118.237411             3036.0   \n",
       "20700706                 -118.246422             3082.0   \n",
       "20595730                 -118.233093             3005.0   \n",
       "17307719                 -118.256271             3038.0   \n",
       "18941656                 -118.260948             3040.0   \n",
       "\n",
       "          Ending Station Latitude  Ending Station Longitude  Bike ID  \\\n",
       "Trip ID                                                                \n",
       "17848847                34.039188               -118.232529   6474.0   \n",
       "20700706                34.046520               -118.237411   5794.0   \n",
       "20595730                34.048550               -118.259048   6604.0   \n",
       "17307719                34.046822               -118.248352   6035.0   \n",
       "18941656                34.053570               -118.266357   6728.0   \n",
       "\n",
       "          Plan Duration Trip Route Category Passholder Type  \n",
       "Trip ID                                                      \n",
       "17848847            0.0             One Way         Walk-up  \n",
       "20700706           30.0             One Way    Monthly Pass  \n",
       "20595730           30.0             One Way    Monthly Pass  \n",
       "17307719           30.0             One Way    Monthly Pass  \n",
       "18941656            0.0             One Way         Walk-up  "
      ]
     },
     "execution_count": 363,
     "metadata": {},
     "output_type": "execute_result"
    }
   ],
   "source": [
    "df.set_index('Trip ID', inplace=True)\n",
    "df.dropna(inplace=True)\n",
    "df['Start Time']= pd.to_datetime(df['Start Time'])\n",
    "df['End Time']=pd.to_datetime(df['End Time'])\n",
    "\n",
    "df.head()"
   ]
  },
  {
   "cell_type": "markdown",
   "metadata": {},
   "source": [
    "Lets inspect the categorical features of Bike ID, Plan Duration, Trip Route Category, Passholder Type"
   ]
  },
  {
   "cell_type": "code",
   "execution_count": 364,
   "metadata": {
    "scrolled": true
   },
   "outputs": [
    {
     "data": {
      "text/plain": [
       "One Way       118070\n",
       "Round Trip     12645\n",
       "Name: Trip Route Category, dtype: int64"
      ]
     },
     "execution_count": 364,
     "metadata": {},
     "output_type": "execute_result"
    }
   ],
   "source": [
    "df['Trip Route Category'].value_counts()"
   ]
  },
  {
   "cell_type": "code",
   "execution_count": 365,
   "metadata": {},
   "outputs": [
    {
     "data": {
      "text/plain": [
       "One Way       0.903263\n",
       "Round Trip    0.096737\n",
       "Name: Trip Route Category, dtype: float64"
      ]
     },
     "execution_count": 365,
     "metadata": {},
     "output_type": "execute_result"
    }
   ],
   "source": [
    "df['Trip Route Category'].value_counts(normalize=True)"
   ]
  },
  {
   "cell_type": "markdown",
   "metadata": {},
   "source": [
    "Over 90% of trips are One Way, the bike is picked up at one Station and ridden to another Station. The rider is getting from one place to another, using the bike as a legit mode of transport"
   ]
  },
  {
   "cell_type": "code",
   "execution_count": 366,
   "metadata": {
    "scrolled": true
   },
   "outputs": [
    {
     "data": {
      "text/plain": [
       "Monthly Pass    80493\n",
       "Walk-up         40756\n",
       "Flex Pass        9466\n",
       "Name: Passholder Type, dtype: int64"
      ]
     },
     "execution_count": 366,
     "metadata": {},
     "output_type": "execute_result"
    }
   ],
   "source": [
    "df['Passholder Type'].value_counts()"
   ]
  },
  {
   "cell_type": "code",
   "execution_count": 367,
   "metadata": {},
   "outputs": [
    {
     "data": {
      "text/plain": [
       "30.0     80493\n",
       "0.0      40756\n",
       "365.0     9466\n",
       "Name: Plan Duration, dtype: int64"
      ]
     },
     "execution_count": 367,
     "metadata": {},
     "output_type": "execute_result"
    }
   ],
   "source": [
    "df['Plan Duration'].value_counts()"
   ]
  },
  {
   "cell_type": "markdown",
   "metadata": {},
   "source": [
    "Plan Duration and Passholder Type appear to be displaying the same data in 2 different fashions\n",
    "30 == Monthly Pass \n",
    "0 == Walk-up\n",
    "365 == Flex Pass\n",
    "Having this feature exist twice is unnecessary, so lets drop Plan Duration"
   ]
  },
  {
   "cell_type": "code",
   "execution_count": 368,
   "metadata": {},
   "outputs": [],
   "source": [
    "df.drop(columns=['Plan Duration'],inplace=True)"
   ]
  },
  {
   "cell_type": "code",
   "execution_count": 369,
   "metadata": {},
   "outputs": [
    {
     "data": {
      "text/plain": [
       "762"
      ]
     },
     "execution_count": 369,
     "metadata": {},
     "output_type": "execute_result"
    }
   ],
   "source": [
    "len(df['Bike ID'].unique())"
   ]
  },
  {
   "cell_type": "markdown",
   "metadata": {},
   "source": [
    "762 individual bikes in the system"
   ]
  },
  {
   "cell_type": "code",
   "execution_count": 370,
   "metadata": {},
   "outputs": [
    {
     "data": {
      "text/plain": [
       "<matplotlib.axes._subplots.AxesSubplot at 0x29dd39e7860>"
      ]
     },
     "execution_count": 370,
     "metadata": {},
     "output_type": "execute_result"
    },
    {
     "data": {
      "image/png": "[encoded data removed]",
      "text/plain": [
       "<Figure size 432x288 with 1 Axes>"
      ]
     },
     "metadata": {
      "needs_background": "light"
     },
     "output_type": "display_data"
    }
   ],
   "source": [
    "df['Bike ID'].value_counts().hist()"
   ]
  },
  {
   "cell_type": "markdown",
   "metadata": {},
   "source": [
    "Distribution of Bike usage appears normal indicating the bikes are all used randomly. This is to be expected"
   ]
  },
  {
   "cell_type": "code",
   "execution_count": 371,
   "metadata": {
    "scrolled": false
   },
   "outputs": [
    {
     "data": {
      "text/html": [
       "<div>\n",
       "<style scoped>\n",
       "    .dataframe tbody tr th:only-of-type {\n",
       "        vertical-align: middle;\n",
       "    }\n",
       "\n",
       "    .dataframe tbody tr th {\n",
       "        vertical-align: top;\n",
       "    }\n",
       "\n",
       "    .dataframe thead th {\n",
       "        text-align: right;\n",
       "    }\n",
       "</style>\n",
       "<table border=\"1\" class=\"dataframe\">\n",
       "  <thead>\n",
       "    <tr style=\"text-align: right;\">\n",
       "      <th></th>\n",
       "      <th>Duration</th>\n",
       "      <th>Starting Station ID</th>\n",
       "      <th>Starting Station Latitude</th>\n",
       "      <th>Starting Station Longitude</th>\n",
       "      <th>Ending Station ID</th>\n",
       "      <th>Ending Station Latitude</th>\n",
       "      <th>Ending Station Longitude</th>\n",
       "      <th>Bike ID</th>\n",
       "    </tr>\n",
       "  </thead>\n",
       "  <tbody>\n",
       "    <tr>\n",
       "      <th>count</th>\n",
       "      <td>130715.000000</td>\n",
       "      <td>130715.000000</td>\n",
       "      <td>130715.000000</td>\n",
       "      <td>130715.000000</td>\n",
       "      <td>130715.000000</td>\n",
       "      <td>130715.000000</td>\n",
       "      <td>130715.000000</td>\n",
       "      <td>130715.000000</td>\n",
       "    </tr>\n",
       "    <tr>\n",
       "      <th>mean</th>\n",
       "      <td>22.587155</td>\n",
       "      <td>3042.568756</td>\n",
       "      <td>34.039216</td>\n",
       "      <td>-118.221176</td>\n",
       "      <td>3041.993597</td>\n",
       "      <td>34.034566</td>\n",
       "      <td>-118.206420</td>\n",
       "      <td>6193.698114</td>\n",
       "    </tr>\n",
       "    <tr>\n",
       "      <th>std</th>\n",
       "      <td>77.840790</td>\n",
       "      <td>30.970158</td>\n",
       "      <td>0.532694</td>\n",
       "      <td>1.849996</td>\n",
       "      <td>33.546514</td>\n",
       "      <td>0.652348</td>\n",
       "      <td>2.265617</td>\n",
       "      <td>293.303470</td>\n",
       "    </tr>\n",
       "    <tr>\n",
       "      <th>min</th>\n",
       "      <td>1.000000</td>\n",
       "      <td>3005.000000</td>\n",
       "      <td>0.000000</td>\n",
       "      <td>-118.472832</td>\n",
       "      <td>3005.000000</td>\n",
       "      <td>0.000000</td>\n",
       "      <td>-118.472832</td>\n",
       "      <td>4727.000000</td>\n",
       "    </tr>\n",
       "    <tr>\n",
       "      <th>25%</th>\n",
       "      <td>6.000000</td>\n",
       "      <td>3024.000000</td>\n",
       "      <td>34.044170</td>\n",
       "      <td>-118.256980</td>\n",
       "      <td>3023.000000</td>\n",
       "      <td>34.044159</td>\n",
       "      <td>-118.256981</td>\n",
       "      <td>5953.000000</td>\n",
       "    </tr>\n",
       "    <tr>\n",
       "      <th>50%</th>\n",
       "      <td>10.000000</td>\n",
       "      <td>3039.000000</td>\n",
       "      <td>34.046822</td>\n",
       "      <td>-118.250954</td>\n",
       "      <td>3038.000000</td>\n",
       "      <td>34.046810</td>\n",
       "      <td>-118.250954</td>\n",
       "      <td>6186.000000</td>\n",
       "    </tr>\n",
       "    <tr>\n",
       "      <th>75%</th>\n",
       "      <td>18.000000</td>\n",
       "      <td>3063.000000</td>\n",
       "      <td>34.050880</td>\n",
       "      <td>-118.241562</td>\n",
       "      <td>3063.000000</td>\n",
       "      <td>34.050480</td>\n",
       "      <td>-118.238810</td>\n",
       "      <td>6434.000000</td>\n",
       "    </tr>\n",
       "    <tr>\n",
       "      <th>max</th>\n",
       "      <td>1440.000000</td>\n",
       "      <td>4108.000000</td>\n",
       "      <td>34.064281</td>\n",
       "      <td>0.000000</td>\n",
       "      <td>4108.000000</td>\n",
       "      <td>34.064281</td>\n",
       "      <td>0.000000</td>\n",
       "      <td>6728.000000</td>\n",
       "    </tr>\n",
       "  </tbody>\n",
       "</table>\n",
       "</div>"
      ],
      "text/plain": [
       "            Duration  Starting Station ID  Starting Station Latitude  \\\n",
       "count  130715.000000        130715.000000              130715.000000   \n",
       "mean       22.587155          3042.568756                  34.039216   \n",
       "std        77.840790            30.970158                   0.532694   \n",
       "min         1.000000          3005.000000                   0.000000   \n",
       "25%         6.000000          3024.000000                  34.044170   \n",
       "50%        10.000000          3039.000000                  34.046822   \n",
       "75%        18.000000          3063.000000                  34.050880   \n",
       "max      1440.000000          4108.000000                  34.064281   \n",
       "\n",
       "       Starting Station Longitude  Ending Station ID  Ending Station Latitude  \\\n",
       "count               130715.000000      130715.000000            130715.000000   \n",
       "mean                  -118.221176        3041.993597                34.034566   \n",
       "std                      1.849996          33.546514                 0.652348   \n",
       "min                   -118.472832        3005.000000                 0.000000   \n",
       "25%                   -118.256980        3023.000000                34.044159   \n",
       "50%                   -118.250954        3038.000000                34.046810   \n",
       "75%                   -118.241562        3063.000000                34.050480   \n",
       "max                      0.000000        4108.000000                34.064281   \n",
       "\n",
       "       Ending Station Longitude        Bike ID  \n",
       "count             130715.000000  130715.000000  \n",
       "mean                -118.206420    6193.698114  \n",
       "std                    2.265617     293.303470  \n",
       "min                 -118.472832    4727.000000  \n",
       "25%                 -118.256981    5953.000000  \n",
       "50%                 -118.250954    6186.000000  \n",
       "75%                 -118.238810    6434.000000  \n",
       "max                    0.000000    6728.000000  "
      ]
     },
     "execution_count": 371,
     "metadata": {},
     "output_type": "execute_result"
    }
   ],
   "source": [
    "df.describe()"
   ]
  },
  {
   "cell_type": "markdown",
   "metadata": {},
   "source": [
    "Starting Station Latitude, Starting Station Longitude, Ending Station Latitude & Ending Station Longitude contain zeros that must be treated as missing data. However, there are no zeros or any remaining missing values in Starting Station ID or Ending Station ID, we can use these values to umpute the missing data"
   ]
  },
  {
   "cell_type": "code",
   "execution_count": 372,
   "metadata": {
    "scrolled": true
   },
   "outputs": [
    {
     "data": {
      "text/plain": [
       "4108.0    32\n",
       "Name: Starting Station ID, dtype: int64"
      ]
     },
     "execution_count": 372,
     "metadata": {},
     "output_type": "execute_result"
    }
   ],
   "source": [
    "df.loc[df['Starting Station Latitude']==0]['Starting Station ID'].value_counts()"
   ]
  },
  {
   "cell_type": "code",
   "execution_count": 373,
   "metadata": {},
   "outputs": [
    {
     "data": {
      "text/plain": [
       "4108.0    32\n",
       "Name: Starting Station ID, dtype: int64"
      ]
     },
     "execution_count": 373,
     "metadata": {},
     "output_type": "execute_result"
    }
   ],
   "source": [
    "df.loc[df['Starting Station Longitude']==0]['Starting Station ID'].value_counts()"
   ]
  },
  {
   "cell_type": "code",
   "execution_count": 374,
   "metadata": {},
   "outputs": [
    {
     "data": {
      "text/plain": [
       "4108.0    48\n",
       "Name: Ending Station ID, dtype: int64"
      ]
     },
     "execution_count": 374,
     "metadata": {},
     "output_type": "execute_result"
    }
   ],
   "source": [
    "df.loc[df['Ending Station Latitude']==0]['Ending Station ID'].value_counts()"
   ]
  },
  {
   "cell_type": "code",
   "execution_count": 375,
   "metadata": {},
   "outputs": [
    {
     "data": {
      "text/plain": [
       "4108.0    48\n",
       "Name: Ending Station ID, dtype: int64"
      ]
     },
     "execution_count": 375,
     "metadata": {},
     "output_type": "execute_result"
    }
   ],
   "source": [
    "df.loc[df['Ending Station Longitude']==0]['Ending Station ID'].value_counts()"
   ]
  },
  {
   "cell_type": "markdown",
   "metadata": {},
   "source": [
    "All of the zeros were recorded at Bike Station 4108, there may be some kind of error related to this particular Bike Station. The values of this bike station's latitude and Longitude can be found in any of the complete values and imputed over the zeros"
   ]
  },
  {
   "cell_type": "code",
   "execution_count": 376,
   "metadata": {},
   "outputs": [],
   "source": [
    "stat_4108_lat= df.loc[df['Starting Station ID']==4108]['Starting Station Latitude'].max() #use max to avoid the zeros\n",
    "stat_4108_long= df.loc[df['Starting Station ID']==4108]['Starting Station Longitude'].min()\n",
    " #all non-zeroes are the same anyway no need to find and replace\n",
    "df['Starting Station Latitude'].replace(0,stat_4108_lat,inplace=True)\n",
    "df['Ending Station Latitude'].replace(0,stat_4108_lat,inplace=True)\n",
    "df['Starting Station Longitude'].replace(0,stat_4108_long,inplace=True)\n",
    "df['Ending Station Longitude'].replace(0,stat_4108_long,inplace=True)"
   ]
  },
  {
   "cell_type": "code",
   "execution_count": 377,
   "metadata": {},
   "outputs": [
    {
     "data": {
      "text/html": [
       "<div>\n",
       "<style scoped>\n",
       "    .dataframe tbody tr th:only-of-type {\n",
       "        vertical-align: middle;\n",
       "    }\n",
       "\n",
       "    .dataframe tbody tr th {\n",
       "        vertical-align: top;\n",
       "    }\n",
       "\n",
       "    .dataframe thead th {\n",
       "        text-align: right;\n",
       "    }\n",
       "</style>\n",
       "<table border=\"1\" class=\"dataframe\">\n",
       "  <thead>\n",
       "    <tr style=\"text-align: right;\">\n",
       "      <th></th>\n",
       "      <th>Duration</th>\n",
       "      <th>Starting Station ID</th>\n",
       "      <th>Starting Station Latitude</th>\n",
       "      <th>Starting Station Longitude</th>\n",
       "      <th>Ending Station ID</th>\n",
       "      <th>Ending Station Latitude</th>\n",
       "      <th>Ending Station Longitude</th>\n",
       "      <th>Bike ID</th>\n",
       "    </tr>\n",
       "  </thead>\n",
       "  <tbody>\n",
       "    <tr>\n",
       "      <th>count</th>\n",
       "      <td>130715.000000</td>\n",
       "      <td>130715.000000</td>\n",
       "      <td>130715.000000</td>\n",
       "      <td>130715.000000</td>\n",
       "      <td>130715.000000</td>\n",
       "      <td>130715.000000</td>\n",
       "      <td>130715.000000</td>\n",
       "      <td>130715.000000</td>\n",
       "    </tr>\n",
       "    <tr>\n",
       "      <th>mean</th>\n",
       "      <td>22.587155</td>\n",
       "      <td>3042.568756</td>\n",
       "      <td>34.047546</td>\n",
       "      <td>-118.250122</td>\n",
       "      <td>3041.993597</td>\n",
       "      <td>34.047060</td>\n",
       "      <td>-118.249839</td>\n",
       "      <td>6193.698114</td>\n",
       "    </tr>\n",
       "    <tr>\n",
       "      <th>std</th>\n",
       "      <td>77.840790</td>\n",
       "      <td>30.970158</td>\n",
       "      <td>0.006358</td>\n",
       "      <td>0.011475</td>\n",
       "      <td>33.546514</td>\n",
       "      <td>0.006277</td>\n",
       "      <td>0.011983</td>\n",
       "      <td>293.303470</td>\n",
       "    </tr>\n",
       "    <tr>\n",
       "      <th>min</th>\n",
       "      <td>1.000000</td>\n",
       "      <td>3005.000000</td>\n",
       "      <td>33.987381</td>\n",
       "      <td>-118.472832</td>\n",
       "      <td>3005.000000</td>\n",
       "      <td>33.987381</td>\n",
       "      <td>-118.472832</td>\n",
       "      <td>4727.000000</td>\n",
       "    </tr>\n",
       "    <tr>\n",
       "      <th>25%</th>\n",
       "      <td>6.000000</td>\n",
       "      <td>3024.000000</td>\n",
       "      <td>34.044170</td>\n",
       "      <td>-118.256980</td>\n",
       "      <td>3023.000000</td>\n",
       "      <td>34.044159</td>\n",
       "      <td>-118.256981</td>\n",
       "      <td>5953.000000</td>\n",
       "    </tr>\n",
       "    <tr>\n",
       "      <th>50%</th>\n",
       "      <td>10.000000</td>\n",
       "      <td>3039.000000</td>\n",
       "      <td>34.046822</td>\n",
       "      <td>-118.250954</td>\n",
       "      <td>3038.000000</td>\n",
       "      <td>34.046810</td>\n",
       "      <td>-118.250954</td>\n",
       "      <td>6186.000000</td>\n",
       "    </tr>\n",
       "    <tr>\n",
       "      <th>75%</th>\n",
       "      <td>18.000000</td>\n",
       "      <td>3063.000000</td>\n",
       "      <td>34.050880</td>\n",
       "      <td>-118.241562</td>\n",
       "      <td>3063.000000</td>\n",
       "      <td>34.050480</td>\n",
       "      <td>-118.238810</td>\n",
       "      <td>6434.000000</td>\n",
       "    </tr>\n",
       "    <tr>\n",
       "      <th>max</th>\n",
       "      <td>1440.000000</td>\n",
       "      <td>4108.000000</td>\n",
       "      <td>34.064281</td>\n",
       "      <td>-118.231277</td>\n",
       "      <td>4108.000000</td>\n",
       "      <td>34.064281</td>\n",
       "      <td>-118.231277</td>\n",
       "      <td>6728.000000</td>\n",
       "    </tr>\n",
       "  </tbody>\n",
       "</table>\n",
       "</div>"
      ],
      "text/plain": [
       "            Duration  Starting Station ID  Starting Station Latitude  \\\n",
       "count  130715.000000        130715.000000              130715.000000   \n",
       "mean       22.587155          3042.568756                  34.047546   \n",
       "std        77.840790            30.970158                   0.006358   \n",
       "min         1.000000          3005.000000                  33.987381   \n",
       "25%         6.000000          3024.000000                  34.044170   \n",
       "50%        10.000000          3039.000000                  34.046822   \n",
       "75%        18.000000          3063.000000                  34.050880   \n",
       "max      1440.000000          4108.000000                  34.064281   \n",
       "\n",
       "       Starting Station Longitude  Ending Station ID  Ending Station Latitude  \\\n",
       "count               130715.000000      130715.000000            130715.000000   \n",
       "mean                  -118.250122        3041.993597                34.047060   \n",
       "std                      0.011475          33.546514                 0.006277   \n",
       "min                   -118.472832        3005.000000                33.987381   \n",
       "25%                   -118.256980        3023.000000                34.044159   \n",
       "50%                   -118.250954        3038.000000                34.046810   \n",
       "75%                   -118.241562        3063.000000                34.050480   \n",
       "max                   -118.231277        4108.000000                34.064281   \n",
       "\n",
       "       Ending Station Longitude        Bike ID  \n",
       "count             130715.000000  130715.000000  \n",
       "mean                -118.249839    6193.698114  \n",
       "std                    0.011983     293.303470  \n",
       "min                 -118.472832    4727.000000  \n",
       "25%                 -118.256981    5953.000000  \n",
       "50%                 -118.250954    6186.000000  \n",
       "75%                 -118.238810    6434.000000  \n",
       "max                 -118.231277    6728.000000  "
      ]
     },
     "execution_count": 377,
     "metadata": {},
     "output_type": "execute_result"
    }
   ],
   "source": [
    "df.describe()"
   ]
  },
  {
   "cell_type": "markdown",
   "metadata": {},
   "source": [
    "### Geographic Investigation & Visualisation"
   ]
  },
  {
   "cell_type": "code",
   "execution_count": 378,
   "metadata": {
    "scrolled": false
   },
   "outputs": [
    {
     "data": {
      "image/png": "[encoded data removed]",
      "text/plain": [
       "<Figure size 1008x360 with 2 Axes>"
      ]
     },
     "metadata": {
      "needs_background": "light"
     },
     "output_type": "display_data"
    }
   ],
   "source": [
    "plt.figure(figsize=(14,5))\n",
    "plt.subplot(1,2,1)\n",
    "plt.scatter(df['Starting Station Latitude'],df['Starting Station Longitude'],alpha=0.3)\n",
    "plt.subplot(1,2,2)\n",
    "plt.scatter(df['Ending Station Latitude'],df['Ending Station Longitude'],alpha=0.3)\n",
    "plt.show()"
   ]
  },
  {
   "cell_type": "markdown",
   "metadata": {},
   "source": [
    "Matching plots indicate there are no start points that had no drop off and vice-versa this would seem logical"
   ]
  },
  {
   "cell_type": "code",
   "execution_count": 379,
   "metadata": {},
   "outputs": [
    {
     "data": {
      "text/plain": [
       "True"
      ]
     },
     "execution_count": 379,
     "metadata": {},
     "output_type": "execute_result"
    }
   ],
   "source": [
    "sorted(df['Starting Station ID'].unique())==sorted(df['Ending Station ID'].unique())"
   ]
  },
  {
   "cell_type": "markdown",
   "metadata": {},
   "source": [
    "This confirms that the Starting and Ending Stations sets are identical as expected"
   ]
  },
  {
   "cell_type": "markdown",
   "metadata": {},
   "source": [
    "Now would a great time for a map!"
   ]
  },
  {
   "cell_type": "code",
   "execution_count": 380,
   "metadata": {},
   "outputs": [
    {
     "data": {
      "text/html": [
       "<div style=\"width:100%;\"><div style=\"position:relative;width:100%;height:0;padding-bottom:60%;\"><iframe src=\"data:text/html;charset=utf-8;base64,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\" style=\"position:absolute;width:100%;height:100%;left:0;top:0;border:none !important;\" allowfullscreen webkitallowfullscreen mozallowfullscreen></iframe></div></div>"
      ],
      "text/plain": [
       "<folium.folium.Map at 0x29dd3575550>"
      ]
     },
     "execution_count": 380,
     "metadata": {},
     "output_type": "execute_result"
    }
   ],
   "source": [
    "import folium\n",
    "bike_map1=folium.Map([df['Starting Station Latitude'].values[0],df['Starting Station Longitude'].values[0]])\n",
    "for station in df['Starting Station ID'].unique():\n",
    "    lat=df.loc[df['Starting Station ID']==station]['Starting Station Latitude'].values[0]\n",
    "    lon=df.loc[df['Starting Station ID']==station]['Starting Station Longitude'].values[0]\n",
    "    marker=folium.Marker([lat,lon],popup=str(station))\n",
    "    marker.add_to(bike_map1)\n",
    "\n",
    "bike_map1"
   ]
  },
  {
   "cell_type": "markdown",
   "metadata": {},
   "source": [
    "Almost all the Bike Stations are located in Downtown LA with the exception of 2; 1 in Culver City(id = 3039), and 1 in Venice (id = 3009)"
   ]
  },
  {
   "cell_type": "markdown",
   "metadata": {},
   "source": [
    "Lets look closer at the traffic to and from these 2 outlying bike stations, are they outliers?"
   ]
  },
  {
   "cell_type": "code",
   "execution_count": 381,
   "metadata": {
    "scrolled": true
   },
   "outputs": [
    {
     "data": {
      "text/plain": [
       "3039.0    77\n",
       "3009.0    35\n",
       "Name: Ending Station ID, dtype: int64"
      ]
     },
     "execution_count": 381,
     "metadata": {},
     "output_type": "execute_result"
    }
   ],
   "source": [
    "df.loc[df['Starting Station ID']==3039]['Ending Station ID'].value_counts()"
   ]
  },
  {
   "cell_type": "code",
   "execution_count": 382,
   "metadata": {},
   "outputs": [
    {
     "data": {
      "text/plain": [
       "3039.0    77\n",
       "3009.0    26\n",
       "3064.0     6\n",
       "3005.0     2\n",
       "3052.0     1\n",
       "Name: Starting Station ID, dtype: int64"
      ]
     },
     "execution_count": 382,
     "metadata": {},
     "output_type": "execute_result"
    }
   ],
   "source": [
    "df.loc[df['Ending Station ID']==3039]['Starting Station ID'].value_counts()"
   ]
  },
  {
   "cell_type": "code",
   "execution_count": 383,
   "metadata": {},
   "outputs": [
    {
     "data": {
      "text/plain": [
       "3039.0    26\n",
       "3009.0    25\n",
       "Name: Ending Station ID, dtype: int64"
      ]
     },
     "execution_count": 383,
     "metadata": {},
     "output_type": "execute_result"
    }
   ],
   "source": [
    "df.loc[df['Starting Station ID']==3009]['Ending Station ID'].value_counts()"
   ]
  },
  {
   "cell_type": "code",
   "execution_count": 384,
   "metadata": {},
   "outputs": [
    {
     "data": {
      "text/plain": [
       "3039.0    35\n",
       "3009.0    25\n",
       "3011.0     1\n",
       "3027.0     1\n",
       "3005.0     1\n",
       "3042.0     1\n",
       "Name: Starting Station ID, dtype: int64"
      ]
     },
     "execution_count": 384,
     "metadata": {},
     "output_type": "execute_result"
    }
   ],
   "source": [
    "df.loc[df['Ending Station ID']==3009]['Starting Station ID'].value_counts()"
   ]
  },
  {
   "cell_type": "markdown",
   "metadata": {},
   "source": [
    "Almost all of the trips made to and from these bike stations are either round trips to the same place or from one of the two to the other. These two stations are almost completely disconnected from the Downtown LA network.\n",
    "\n",
    "They also only account for a very tiny fraction of the rides total; from over 130k rides just 163 are to or from these two stations, I wonder why that is?"
   ]
  },
  {
   "cell_type": "code",
   "execution_count": 385,
   "metadata": {},
   "outputs": [
    {
     "name": "stdout",
     "output_type": "stream",
     "text": [
      "The first trip made FROM bike Station 3039 (Culver City) was on :  2017-03-26 07:30:00\n",
      "The last trip made FROM bike Station 3039 (Culver City) was on :  2017-03-26 15:06:00\n",
      "The first trip made FROM bike Station 3009 (Venice) was on :  2017-03-26 08:30:00\n",
      "The last trip made FROM bike Station 309 (Venice) was on :  2017-03-26 15:31:00\n",
      "The first trip made TO bike Station 3039 (Culver City) was on :  2017-03-26 07:30:00\n",
      "The last trip made TO bike Station 3039 (Culver City) was on :  2017-03-26 15:31:00\n",
      "The first trip made TO bike Station 3009 (Venice) was on :  2017-03-26 07:45:00\n",
      "The last trip made TO bike Station 309 (Venice) was on :  2017-03-26 14:11:00\n"
     ]
    }
   ],
   "source": [
    "print('The first trip made FROM bike Station 3039 (Culver City) was on : ',df.loc[df['Starting Station ID']==3039]['Start Time'].min())\n",
    "print('The last trip made FROM bike Station 3039 (Culver City) was on : ',df.loc[df['Starting Station ID']==3039]['Start Time'].max())\n",
    "print('The first trip made FROM bike Station 3009 (Venice) was on : ',df.loc[df['Starting Station ID']==3009]['Start Time'].min())\n",
    "print('The last trip made FROM bike Station 309 (Venice) was on : ',df.loc[df['Starting Station ID']==3009]['Start Time'].max())\n",
    "\n",
    "print('The first trip made TO bike Station 3039 (Culver City) was on : ',df.loc[df['Ending Station ID']==3039]['Start Time'].min())\n",
    "print('The last trip made TO bike Station 3039 (Culver City) was on : ',df.loc[df['Ending Station ID']==3039]['Start Time'].max())\n",
    "print('The first trip made TO bike Station 3009 (Venice) was on : ',df.loc[df['Ending Station ID']==3009]['Start Time'].min())\n",
    "print('The last trip made TO bike Station 309 (Venice) was on : ',df.loc[df['Ending Station ID']==3009]['Start Time'].max())"
   ]
  },
  {
   "cell_type": "markdown",
   "metadata": {},
   "source": [
    "All these the trips to and from Culver City and Venice are on the same day; 2017-03-26 which is the last weekend day of the dataset. What may be the case is that this station was only operational beginning that day (or that weekend) used by on the sunday by people going to and from the beach but these were not used during the week."
   ]
  },
  {
   "cell_type": "markdown",
   "metadata": {},
   "source": [
    "Lets explore some of the distinctive characteristics of these other Bike Stations further:"
   ]
  },
  {
   "cell_type": "code",
   "execution_count": 386,
   "metadata": {},
   "outputs": [
    {
     "data": {
      "text/plain": [
       "3020.0    522\n",
       "3010.0    420\n",
       "3060.0    379\n",
       "3057.0    371\n",
       "3080.0    189\n",
       "3045.0    185\n",
       "3039.0    112\n",
       "4108.0     53\n",
       "3009.0     51\n",
       "3053.0     15\n",
       "Name: Starting Station ID, dtype: int64"
      ]
     },
     "execution_count": 386,
     "metadata": {},
     "output_type": "execute_result"
    }
   ],
   "source": [
    "df['Starting Station ID'].value_counts().tail(10)"
   ]
  },
  {
   "cell_type": "code",
   "execution_count": 387,
   "metadata": {},
   "outputs": [
    {
     "data": {
      "text/plain": [
       "3028.0    516\n",
       "3010.0    406\n",
       "3057.0    398\n",
       "3060.0    390\n",
       "3045.0    319\n",
       "3080.0    173\n",
       "3039.0    112\n",
       "4108.0     70\n",
       "3009.0     64\n",
       "3053.0     12\n",
       "Name: Ending Station ID, dtype: int64"
      ]
     },
     "execution_count": 387,
     "metadata": {},
     "output_type": "execute_result"
    }
   ],
   "source": [
    "df['Ending Station ID'].value_counts().tail(10)"
   ]
  },
  {
   "cell_type": "markdown",
   "metadata": {},
   "source": [
    "Bike Station 4108, which was our station with the possible logging errors, also has relatively few trips to and from it, from the map it is a little separated from the rest of the downtown set"
   ]
  },
  {
   "cell_type": "code",
   "execution_count": 388,
   "metadata": {},
   "outputs": [
    {
     "data": {
      "text/plain": [
       "Round Trip    0.735849\n",
       "One Way       0.264151\n",
       "Name: Trip Route Category, dtype: float64"
      ]
     },
     "execution_count": 388,
     "metadata": {},
     "output_type": "execute_result"
    }
   ],
   "source": [
    "df.loc[df['Starting Station ID']==4108]['Trip Route Category'].value_counts(normalize=True)"
   ]
  },
  {
   "cell_type": "code",
   "execution_count": 389,
   "metadata": {},
   "outputs": [
    {
     "data": {
      "text/plain": [
       "Round Trip    0.557143\n",
       "One Way       0.442857\n",
       "Name: Trip Route Category, dtype: float64"
      ]
     },
     "execution_count": 389,
     "metadata": {},
     "output_type": "execute_result"
    }
   ],
   "source": [
    "df.loc[df['Ending Station ID']==4108]['Trip Route Category'].value_counts(normalize=True)"
   ]
  },
  {
   "cell_type": "markdown",
   "metadata": {},
   "source": [
    "Bike Station ID 4108 is dominantly Round-Trip traffic, this is very unusual for this dataset! "
   ]
  },
  {
   "cell_type": "markdown",
   "metadata": {},
   "source": [
    "Bike Station 3053 has the least number of rides to and from it but it appears to be right in the mix of things"
   ]
  },
  {
   "cell_type": "code",
   "execution_count": 390,
   "metadata": {
    "scrolled": true
   },
   "outputs": [
    {
     "data": {
      "text/plain": [
       "Trip ID\n",
       "2137435   2016-07-09 12:42:00\n",
       "2057407   2016-07-08 17:46:00\n",
       "2419835   2016-07-11 07:50:00\n",
       "2057407   2016-07-08 17:46:00\n",
       "2419835   2016-07-11 07:50:00\n",
       "2116360   2016-07-09 07:12:00\n",
       "2321036   2016-07-10 17:42:00\n",
       "2419838   2016-07-11 07:32:00\n",
       "2335086   2016-07-10 15:41:00\n",
       "2019541   2016-07-08 08:39:00\n",
       "2176181   2016-07-09 19:11:00\n",
       "2314140   2016-07-10 15:18:00\n",
       "2062197   2016-07-08 18:22:00\n",
       "2169928   2016-07-09 18:40:00\n",
       "2137436   2016-07-09 12:42:00\n",
       "Name: Start Time, dtype: datetime64[ns]"
      ]
     },
     "execution_count": 390,
     "metadata": {},
     "output_type": "execute_result"
    }
   ],
   "source": [
    "df.loc[df['Starting Station ID']==3053]['Start Time']"
   ]
  },
  {
   "cell_type": "code",
   "execution_count": 391,
   "metadata": {},
   "outputs": [
    {
     "data": {
      "text/plain": [
       "Trip ID\n",
       "2067007   2016-07-08 19:03:00\n",
       "2152686   2016-07-09 15:49:00\n",
       "2066991   2016-07-08 19:33:00\n",
       "2158281   2016-07-09 16:35:00\n",
       "2188763   2016-07-09 21:37:00\n",
       "2426970   2016-07-11 08:05:00\n",
       "2158278   2016-07-09 16:36:00\n",
       "2280145   2016-07-10 10:58:00\n",
       "2170049   2016-07-09 17:50:00\n",
       "2116315   2016-07-09 07:36:00\n",
       "1947931   2016-07-07 13:51:00\n",
       "2188775   2016-07-09 20:55:00\n",
       "Name: Start Time, dtype: datetime64[ns]"
      ]
     },
     "execution_count": 391,
     "metadata": {},
     "output_type": "execute_result"
    }
   ],
   "source": [
    "df.loc[df['Ending Station ID']==3053]['Start Time']"
   ]
  },
  {
   "cell_type": "code",
   "execution_count": 392,
   "metadata": {},
   "outputs": [
    {
     "name": "stdout",
     "output_type": "stream",
     "text": [
      "The first trip made FROM bike Station 3053 was on :  2016-07-08 08:39:00\n",
      "The last trip made FROM bike Station 3053 was on :  2016-07-11 07:50:00\n",
      "The first trip made TO bike Station 3053 was on :  2016-07-07 13:51:00\n",
      "The last trip made TO bike Station 30053 was on :  2016-07-11 08:05:00\n"
     ]
    }
   ],
   "source": [
    "print('The first trip made FROM bike Station 3053 was on : ',df.loc[df['Starting Station ID']==3053]['Start Time'].min())\n",
    "print('The last trip made FROM bike Station 3053 was on : ',df.loc[df['Starting Station ID']==3053]['Start Time'].max())\n",
    "print('The first trip made TO bike Station 3053 was on : ',df.loc[df['Ending Station ID']==3053]['Start Time'].min())\n",
    "print('The last trip made TO bike Station 30053 was on : ',df.loc[df['Ending Station ID']==3053]['Start Time'].max())"
   ]
  },
  {
   "cell_type": "markdown",
   "metadata": {},
   "source": [
    "All trips made over just 5 days from the 7th of July 2016 (the first day of the dataset) to the 11th of July 2016. Is it possible this Bike Station was decomissioned? "
   ]
  },
  {
   "cell_type": "code",
   "execution_count": null,
   "metadata": {},
   "outputs": [],
   "source": []
  },
  {
   "cell_type": "markdown",
   "metadata": {},
   "source": [
    "### Time Series Investigation & Visualisation"
   ]
  },
  {
   "cell_type": "code",
   "execution_count": null,
   "metadata": {},
   "outputs": [],
   "source": []
  },
  {
   "cell_type": "code",
   "execution_count": 393,
   "metadata": {},
   "outputs": [
    {
     "data": {
      "text/plain": [
       "Timestamp('2016-07-07 04:17:00')"
      ]
     },
     "execution_count": 393,
     "metadata": {},
     "output_type": "execute_result"
    }
   ],
   "source": [
    "df['Start Time'].min()"
   ]
  },
  {
   "cell_type": "code",
   "execution_count": 394,
   "metadata": {},
   "outputs": [
    {
     "data": {
      "text/plain": [
       "Timestamp('2017-03-31 23:45:00')"
      ]
     },
     "execution_count": 394,
     "metadata": {},
     "output_type": "execute_result"
    }
   ],
   "source": [
    "df['Start Time'].max()"
   ]
  },
  {
   "cell_type": "code",
   "execution_count": 395,
   "metadata": {
    "scrolled": false
   },
   "outputs": [
    {
     "data": {
      "text/plain": [
       "<matplotlib.axes._subplots.AxesSubplot at 0x29dd4283160>"
      ]
     },
     "execution_count": 395,
     "metadata": {},
     "output_type": "execute_result"
    },
    {
     "data": {
      "image/png": "[encoded data removed]",
      "text/plain": [
       "<Figure size 1080x576 with 1 Axes>"
      ]
     },
     "metadata": {
      "needs_background": "light"
     },
     "output_type": "display_data"
    }
   ],
   "source": [
    "df['Start Time'].hist(figsize=(15,8))\n"
   ]
  },
  {
   "cell_type": "code",
   "execution_count": 396,
   "metadata": {},
   "outputs": [
    {
     "data": {
      "text/plain": [
       "August       24148\n",
       "September    19861\n",
       "October      17863\n",
       "November     14196\n",
       "March        13564\n",
       "July         11430\n",
       "December     10327\n",
       "January      10053\n",
       "February      9273\n",
       "Name: Start Month, dtype: int64"
      ]
     },
     "execution_count": 396,
     "metadata": {},
     "output_type": "execute_result"
    }
   ],
   "source": [
    "df['Start Month']=df['Start Time'].dt.month_name()\n",
    "\n",
    "df['Start Month'].value_counts()"
   ]
  },
  {
   "cell_type": "code",
   "execution_count": null,
   "metadata": {},
   "outputs": [],
   "source": []
  },
  {
   "cell_type": "code",
   "execution_count": 397,
   "metadata": {},
   "outputs": [
    {
     "data": {
      "text/plain": [
       "Thursday     20087\n",
       "Friday       19791\n",
       "Wednesday    19551\n",
       "Tuesday      18918\n",
       "Saturday     18279\n",
       "Monday       17045\n",
       "Sunday       17044\n",
       "Name: Start Day, dtype: int64"
      ]
     },
     "execution_count": 397,
     "metadata": {},
     "output_type": "execute_result"
    }
   ],
   "source": [
    "df['Start Day']=df['Start Time'].dt.day_name()\n",
    "df['Start Day'].value_counts()"
   ]
  },
  {
   "cell_type": "code",
   "execution_count": 398,
   "metadata": {},
   "outputs": [
    {
     "data": {
      "image/png": "[encoded data removed]",
      "text/plain": [
       "<Figure size 432x288 with 1 Axes>"
      ]
     },
     "metadata": {
      "needs_background": "light"
     },
     "output_type": "display_data"
    }
   ],
   "source": [
    "plt.bar(df['Start Day'].value_counts().index,df['Start Day'].value_counts().values)\n",
    "plt.xticks(rotation=45)\n",
    "plt.show()"
   ]
  },
  {
   "cell_type": "code",
   "execution_count": null,
   "metadata": {},
   "outputs": [],
   "source": []
  },
  {
   "cell_type": "code",
   "execution_count": null,
   "metadata": {},
   "outputs": [],
   "source": []
  },
  {
   "cell_type": "code",
   "execution_count": 399,
   "metadata": {},
   "outputs": [
    {
     "data": {
      "text/html": [
       "<div>\n",
       "<style scoped>\n",
       "    .dataframe tbody tr th:only-of-type {\n",
       "        vertical-align: middle;\n",
       "    }\n",
       "\n",
       "    .dataframe tbody tr th {\n",
       "        vertical-align: top;\n",
       "    }\n",
       "\n",
       "    .dataframe thead th {\n",
       "        text-align: right;\n",
       "    }\n",
       "</style>\n",
       "<table border=\"1\" class=\"dataframe\">\n",
       "  <thead>\n",
       "    <tr style=\"text-align: right;\">\n",
       "      <th></th>\n",
       "      <th>Duration</th>\n",
       "      <th>Start Time</th>\n",
       "      <th>End Time</th>\n",
       "      <th>Starting Station ID</th>\n",
       "      <th>Starting Station Latitude</th>\n",
       "      <th>Starting Station Longitude</th>\n",
       "      <th>Ending Station ID</th>\n",
       "      <th>Ending Station Latitude</th>\n",
       "      <th>Ending Station Longitude</th>\n",
       "      <th>Bike ID</th>\n",
       "      <th>Trip Route Category</th>\n",
       "      <th>Passholder Type</th>\n",
       "      <th>Start Month</th>\n",
       "      <th>Start Day</th>\n",
       "      <th>Time Only</th>\n",
       "    </tr>\n",
       "    <tr>\n",
       "      <th>Trip ID</th>\n",
       "      <th></th>\n",
       "      <th></th>\n",
       "      <th></th>\n",
       "      <th></th>\n",
       "      <th></th>\n",
       "      <th></th>\n",
       "      <th></th>\n",
       "      <th></th>\n",
       "      <th></th>\n",
       "      <th></th>\n",
       "      <th></th>\n",
       "      <th></th>\n",
       "      <th></th>\n",
       "      <th></th>\n",
       "      <th></th>\n",
       "    </tr>\n",
       "  </thead>\n",
       "  <tbody>\n",
       "    <tr>\n",
       "      <th>17848847</th>\n",
       "      <td>8.0</td>\n",
       "      <td>2017-01-13 21:32:00</td>\n",
       "      <td>2017-01-13 21:40:00</td>\n",
       "      <td>3082.0</td>\n",
       "      <td>34.046520</td>\n",
       "      <td>-118.237411</td>\n",
       "      <td>3036.0</td>\n",
       "      <td>34.039188</td>\n",
       "      <td>-118.232529</td>\n",
       "      <td>6474.0</td>\n",
       "      <td>One Way</td>\n",
       "      <td>Walk-up</td>\n",
       "      <td>January</td>\n",
       "      <td>Friday</td>\n",
       "      <td>22:00:00</td>\n",
       "    </tr>\n",
       "    <tr>\n",
       "      <th>20700706</th>\n",
       "      <td>9.0</td>\n",
       "      <td>2017-02-24 23:13:00</td>\n",
       "      <td>2017-02-24 23:22:00</td>\n",
       "      <td>3029.0</td>\n",
       "      <td>34.048851</td>\n",
       "      <td>-118.246422</td>\n",
       "      <td>3082.0</td>\n",
       "      <td>34.046520</td>\n",
       "      <td>-118.237411</td>\n",
       "      <td>5794.0</td>\n",
       "      <td>One Way</td>\n",
       "      <td>Monthly Pass</td>\n",
       "      <td>February</td>\n",
       "      <td>Friday</td>\n",
       "      <td>23:00:00</td>\n",
       "    </tr>\n",
       "    <tr>\n",
       "      <th>20595730</th>\n",
       "      <td>14.0</td>\n",
       "      <td>2017-02-23 07:34:00</td>\n",
       "      <td>2017-02-23 07:48:00</td>\n",
       "      <td>3022.0</td>\n",
       "      <td>34.046070</td>\n",
       "      <td>-118.233093</td>\n",
       "      <td>3005.0</td>\n",
       "      <td>34.048550</td>\n",
       "      <td>-118.259048</td>\n",
       "      <td>6604.0</td>\n",
       "      <td>One Way</td>\n",
       "      <td>Monthly Pass</td>\n",
       "      <td>February</td>\n",
       "      <td>Thursday</td>\n",
       "      <td>08:00:00</td>\n",
       "    </tr>\n",
       "    <tr>\n",
       "      <th>17307719</th>\n",
       "      <td>7.0</td>\n",
       "      <td>2017-01-05 12:04:00</td>\n",
       "      <td>2017-01-05 12:11:00</td>\n",
       "      <td>3059.0</td>\n",
       "      <td>34.037949</td>\n",
       "      <td>-118.256271</td>\n",
       "      <td>3038.0</td>\n",
       "      <td>34.046822</td>\n",
       "      <td>-118.248352</td>\n",
       "      <td>6035.0</td>\n",
       "      <td>One Way</td>\n",
       "      <td>Monthly Pass</td>\n",
       "      <td>January</td>\n",
       "      <td>Thursday</td>\n",
       "      <td>12:00:00</td>\n",
       "    </tr>\n",
       "    <tr>\n",
       "      <th>18941656</th>\n",
       "      <td>14.0</td>\n",
       "      <td>2017-01-30 20:19:00</td>\n",
       "      <td>2017-01-30 20:33:00</td>\n",
       "      <td>3035.0</td>\n",
       "      <td>34.048401</td>\n",
       "      <td>-118.260948</td>\n",
       "      <td>3040.0</td>\n",
       "      <td>34.053570</td>\n",
       "      <td>-118.266357</td>\n",
       "      <td>6728.0</td>\n",
       "      <td>One Way</td>\n",
       "      <td>Walk-up</td>\n",
       "      <td>January</td>\n",
       "      <td>Monday</td>\n",
       "      <td>20:00:00</td>\n",
       "    </tr>\n",
       "  </tbody>\n",
       "</table>\n",
       "</div>"
      ],
      "text/plain": [
       "          Duration          Start Time            End Time  \\\n",
       "Trip ID                                                      \n",
       "17848847       8.0 2017-01-13 21:32:00 2017-01-13 21:40:00   \n",
       "20700706       9.0 2017-02-24 23:13:00 2017-02-24 23:22:00   \n",
       "20595730      14.0 2017-02-23 07:34:00 2017-02-23 07:48:00   \n",
       "17307719       7.0 2017-01-05 12:04:00 2017-01-05 12:11:00   \n",
       "18941656      14.0 2017-01-30 20:19:00 2017-01-30 20:33:00   \n",
       "\n",
       "          Starting Station ID  Starting Station Latitude  \\\n",
       "Trip ID                                                    \n",
       "17848847               3082.0                  34.046520   \n",
       "20700706               3029.0                  34.048851   \n",
       "20595730               3022.0                  34.046070   \n",
       "17307719               3059.0                  34.037949   \n",
       "18941656               3035.0                  34.048401   \n",
       "\n",
       "          Starting Station Longitude  Ending Station ID  \\\n",
       "Trip ID                                                   \n",
       "17848847                 -118.237411             3036.0   \n",
       "20700706                 -118.246422             3082.0   \n",
       "20595730                 -118.233093             3005.0   \n",
       "17307719                 -118.256271             3038.0   \n",
       "18941656                 -118.260948             3040.0   \n",
       "\n",
       "          Ending Station Latitude  Ending Station Longitude  Bike ID  \\\n",
       "Trip ID                                                                \n",
       "17848847                34.039188               -118.232529   6474.0   \n",
       "20700706                34.046520               -118.237411   5794.0   \n",
       "20595730                34.048550               -118.259048   6604.0   \n",
       "17307719                34.046822               -118.248352   6035.0   \n",
       "18941656                34.053570               -118.266357   6728.0   \n",
       "\n",
       "         Trip Route Category Passholder Type Start Month Start Day Time Only  \n",
       "Trip ID                                                                       \n",
       "17848847             One Way         Walk-up     January    Friday  22:00:00  \n",
       "20700706             One Way    Monthly Pass    February    Friday  23:00:00  \n",
       "20595730             One Way    Monthly Pass    February  Thursday  08:00:00  \n",
       "17307719             One Way    Monthly Pass     January  Thursday  12:00:00  \n",
       "18941656             One Way         Walk-up     January    Monday  20:00:00  "
      ]
     },
     "execution_count": 399,
     "metadata": {},
     "output_type": "execute_result"
    }
   ],
   "source": [
    "df['Time Only']= df['Start Time'].dt.round('H')\n",
    "df['Time Only']=pd.to_datetime(df['Time Only'],format= '%H:%M:%S' ).dt.time\n",
    "df.head()"
   ]
  },
  {
   "cell_type": "code",
   "execution_count": 400,
   "metadata": {},
   "outputs": [
    {
     "data": {
      "image/png": "[encoded data removed]",
      "text/plain": [
       "<Figure size 648x288 with 1 Axes>"
      ]
     },
     "metadata": {
      "needs_background": "light"
     },
     "output_type": "display_data"
    }
   ],
   "source": [
    "plt.figure(figsize=(9,4))\n",
    "plt.scatter(df['Time Only'].value_counts().index,df['Time Only'].value_counts().values)\n",
    "#on peak between the bars\n",
    "plt.vlines(x='7:30:00',ymin=0,ymax=12000,color='red')\n",
    "plt.vlines(x='20:30:00',ymin=0,ymax=12000,color='red')\n",
    "plt.show()"
   ]
  },
  {
   "cell_type": "code",
   "execution_count": null,
   "metadata": {},
   "outputs": [],
   "source": []
  },
  {
   "cell_type": "code",
   "execution_count": 401,
   "metadata": {},
   "outputs": [
    {
     "data": {
      "image/png": "[encoded data removed]",
      "text/plain": [
       "<Figure size 1008x576 with 7 Axes>"
      ]
     },
     "metadata": {
      "needs_background": "light"
     },
     "output_type": "display_data"
    }
   ],
   "source": [
    "plt.figure(figsize=(14,8))\n",
    "days=['Monday','Tuesday','Wednesday','Thursday','Friday']\n",
    "for i in range(len(days)):\n",
    "    plt.subplot(2,4,i+1)\n",
    "    plt.scatter(df.loc[df['Start Day'] == days[i]]['Time Only'].value_counts().index,df.loc[df['Start Day'] == days[i]]['Time Only'].value_counts().values)\n",
    "    plt.title(days[i])\n",
    "    plt.vlines(x='7:30:00',ymin=0,ymax=1800,color='red')\n",
    "    plt.vlines(x='20:30:00',ymin=0,ymax=1800,color='red')\n",
    "    \n",
    "#Offset peak start by 2 hours for the weekend\n",
    "plt.subplot(2,4,6)\n",
    "plt.scatter(df.loc[df['Start Day'] == 'Saturday']['Time Only'].value_counts().index,df.loc[df['Start Day'] == 'Saturday']['Time Only'].value_counts().values)\n",
    "plt.title('Saturday')\n",
    "plt.vlines(x='9:30:00',ymin=0,ymax=1800,color='red')\n",
    "plt.vlines(x='20:30:00',ymin=0,ymax=1800,color='red')\n",
    "\n",
    "plt.subplot(2,4,7)\n",
    "plt.scatter(df.loc[df['Start Day'] == 'Sunday']['Time Only'].value_counts().index,df.loc[df['Start Day'] == 'Sunday']['Time Only'].value_counts().values)\n",
    "plt.title('Sunday')\n",
    "plt.vlines(x='9:30:00',ymin=0,ymax=1800,color='red')\n",
    "plt.vlines(x='20:30:00',ymin=0,ymax=1800,color='red')\n",
    "\n",
    "plt.tight_layout()"
   ]
  },
  {
   "cell_type": "markdown",
   "metadata": {},
   "source": [
    "People like to sleep in on the weekends, move the start of peak bar up 2 hours on saturday and sunday"
   ]
  },
  {
   "cell_type": "code",
   "execution_count": 402,
   "metadata": {},
   "outputs": [],
   "source": [
    "def to_hour_int(x):\n",
    "    #convert hh:mm:ss to hh integar\n",
    "    x=str(x)\n",
    "    x=x[:2]\n",
    "    x=int(x)\n",
    "    return x"
   ]
  },
  {
   "cell_type": "code",
   "execution_count": 403,
   "metadata": {},
   "outputs": [],
   "source": [
    "df['Time Only Int']=df['Time Only']\n",
    "df['Time Only Int']=df['Time Only Int'].astype('str')\n",
    "df['Time Only Int']=df['Time Only Int'].apply(lambda x: to_hour_int(x))"
   ]
  },
  {
   "cell_type": "code",
   "execution_count": 407,
   "metadata": {
    "scrolled": true
   },
   "outputs": [
    {
     "data": {
      "text/plain": [
       "count    130715.000000\n",
       "mean          0.811850\n",
       "std           0.390833\n",
       "min           0.000000\n",
       "25%           1.000000\n",
       "50%           1.000000\n",
       "75%           1.000000\n",
       "max           1.000000\n",
       "Name: Peak, dtype: float64"
      ]
     },
     "execution_count": 407,
     "metadata": {},
     "output_type": "execute_result"
    }
   ],
   "source": [
    "df['Peak']=1\n",
    "df.loc[df['Time Only Int']>20.5,'Peak']=0\n",
    "df.loc[df['Time Only Int']<7.5,'Peak']=0\n",
    "df.loc[(df['Start Day']=='Saturday')&(df['Time Only Int']<9.5),'Peak']=0\n",
    "df.loc[(df['Start Day']=='Sunday')&(df['Time Only Int']<9.5),'Peak']=0\n",
    "\n",
    "df['Peak'].describe()"
   ]
  },
  {
   "cell_type": "code",
   "execution_count": 304,
   "metadata": {},
   "outputs": [
    {
     "data": {
      "text/html": [
       "<div>\n",
       "<style scoped>\n",
       "    .dataframe tbody tr th:only-of-type {\n",
       "        vertical-align: middle;\n",
       "    }\n",
       "\n",
       "    .dataframe tbody tr th {\n",
       "        vertical-align: top;\n",
       "    }\n",
       "\n",
       "    .dataframe thead th {\n",
       "        text-align: right;\n",
       "    }\n",
       "</style>\n",
       "<table border=\"1\" class=\"dataframe\">\n",
       "  <thead>\n",
       "    <tr style=\"text-align: right;\">\n",
       "      <th></th>\n",
       "      <th>Duration</th>\n",
       "      <th>Start Time</th>\n",
       "      <th>End Time</th>\n",
       "      <th>Starting Station ID</th>\n",
       "      <th>Starting Station Latitude</th>\n",
       "      <th>Starting Station Longitude</th>\n",
       "      <th>Ending Station ID</th>\n",
       "      <th>Ending Station Latitude</th>\n",
       "      <th>Ending Station Longitude</th>\n",
       "      <th>Bike ID</th>\n",
       "      <th>Trip Route Category</th>\n",
       "      <th>Passholder Type</th>\n",
       "      <th>Start Month</th>\n",
       "      <th>Start Day</th>\n",
       "      <th>Time Only</th>\n",
       "      <th>Time Only Int</th>\n",
       "      <th>Peak</th>\n",
       "    </tr>\n",
       "    <tr>\n",
       "      <th>Trip ID</th>\n",
       "      <th></th>\n",
       "      <th></th>\n",
       "      <th></th>\n",
       "      <th></th>\n",
       "      <th></th>\n",
       "      <th></th>\n",
       "      <th></th>\n",
       "      <th></th>\n",
       "      <th></th>\n",
       "      <th></th>\n",
       "      <th></th>\n",
       "      <th></th>\n",
       "      <th></th>\n",
       "      <th></th>\n",
       "      <th></th>\n",
       "      <th></th>\n",
       "      <th></th>\n",
       "    </tr>\n",
       "  </thead>\n",
       "  <tbody>\n",
       "    <tr>\n",
       "      <th>17848847</th>\n",
       "      <td>8.0</td>\n",
       "      <td>2017-01-13 21:32:00</td>\n",
       "      <td>2017-01-13 21:40:00</td>\n",
       "      <td>3082.0</td>\n",
       "      <td>34.046520</td>\n",
       "      <td>-118.237411</td>\n",
       "      <td>3036.0</td>\n",
       "      <td>34.039188</td>\n",
       "      <td>-118.232529</td>\n",
       "      <td>6474.0</td>\n",
       "      <td>One Way</td>\n",
       "      <td>Walk-up</td>\n",
       "      <td>January</td>\n",
       "      <td>Friday</td>\n",
       "      <td>22:00:00</td>\n",
       "      <td>22</td>\n",
       "      <td>0</td>\n",
       "    </tr>\n",
       "    <tr>\n",
       "      <th>20700706</th>\n",
       "      <td>9.0</td>\n",
       "      <td>2017-02-24 23:13:00</td>\n",
       "      <td>2017-02-24 23:22:00</td>\n",
       "      <td>3029.0</td>\n",
       "      <td>34.048851</td>\n",
       "      <td>-118.246422</td>\n",
       "      <td>3082.0</td>\n",
       "      <td>34.046520</td>\n",
       "      <td>-118.237411</td>\n",
       "      <td>5794.0</td>\n",
       "      <td>One Way</td>\n",
       "      <td>Monthly Pass</td>\n",
       "      <td>February</td>\n",
       "      <td>Friday</td>\n",
       "      <td>23:00:00</td>\n",
       "      <td>23</td>\n",
       "      <td>0</td>\n",
       "    </tr>\n",
       "    <tr>\n",
       "      <th>20595730</th>\n",
       "      <td>14.0</td>\n",
       "      <td>2017-02-23 07:34:00</td>\n",
       "      <td>2017-02-23 07:48:00</td>\n",
       "      <td>3022.0</td>\n",
       "      <td>34.046070</td>\n",
       "      <td>-118.233093</td>\n",
       "      <td>3005.0</td>\n",
       "      <td>34.048550</td>\n",
       "      <td>-118.259048</td>\n",
       "      <td>6604.0</td>\n",
       "      <td>One Way</td>\n",
       "      <td>Monthly Pass</td>\n",
       "      <td>February</td>\n",
       "      <td>Thursday</td>\n",
       "      <td>08:00:00</td>\n",
       "      <td>8</td>\n",
       "      <td>1</td>\n",
       "    </tr>\n",
       "    <tr>\n",
       "      <th>17307719</th>\n",
       "      <td>7.0</td>\n",
       "      <td>2017-01-05 12:04:00</td>\n",
       "      <td>2017-01-05 12:11:00</td>\n",
       "      <td>3059.0</td>\n",
       "      <td>34.037949</td>\n",
       "      <td>-118.256271</td>\n",
       "      <td>3038.0</td>\n",
       "      <td>34.046822</td>\n",
       "      <td>-118.248352</td>\n",
       "      <td>6035.0</td>\n",
       "      <td>One Way</td>\n",
       "      <td>Monthly Pass</td>\n",
       "      <td>January</td>\n",
       "      <td>Thursday</td>\n",
       "      <td>12:00:00</td>\n",
       "      <td>12</td>\n",
       "      <td>1</td>\n",
       "    </tr>\n",
       "    <tr>\n",
       "      <th>18941656</th>\n",
       "      <td>14.0</td>\n",
       "      <td>2017-01-30 20:19:00</td>\n",
       "      <td>2017-01-30 20:33:00</td>\n",
       "      <td>3035.0</td>\n",
       "      <td>34.048401</td>\n",
       "      <td>-118.260948</td>\n",
       "      <td>3040.0</td>\n",
       "      <td>34.053570</td>\n",
       "      <td>-118.266357</td>\n",
       "      <td>6728.0</td>\n",
       "      <td>One Way</td>\n",
       "      <td>Walk-up</td>\n",
       "      <td>January</td>\n",
       "      <td>Monday</td>\n",
       "      <td>20:00:00</td>\n",
       "      <td>20</td>\n",
       "      <td>1</td>\n",
       "    </tr>\n",
       "  </tbody>\n",
       "</table>\n",
       "</div>"
      ],
      "text/plain": [
       "          Duration           Start Time             End Time  \\\n",
       "Trip ID                                                        \n",
       "17848847       8.0  2017-01-13 21:32:00  2017-01-13 21:40:00   \n",
       "20700706       9.0  2017-02-24 23:13:00  2017-02-24 23:22:00   \n",
       "20595730      14.0  2017-02-23 07:34:00  2017-02-23 07:48:00   \n",
       "17307719       7.0  2017-01-05 12:04:00  2017-01-05 12:11:00   \n",
       "18941656      14.0  2017-01-30 20:19:00  2017-01-30 20:33:00   \n",
       "\n",
       "          Starting Station ID  Starting Station Latitude  \\\n",
       "Trip ID                                                    \n",
       "17848847               3082.0                  34.046520   \n",
       "20700706               3029.0                  34.048851   \n",
       "20595730               3022.0                  34.046070   \n",
       "17307719               3059.0                  34.037949   \n",
       "18941656               3035.0                  34.048401   \n",
       "\n",
       "          Starting Station Longitude  Ending Station ID  \\\n",
       "Trip ID                                                   \n",
       "17848847                 -118.237411             3036.0   \n",
       "20700706                 -118.246422             3082.0   \n",
       "20595730                 -118.233093             3005.0   \n",
       "17307719                 -118.256271             3038.0   \n",
       "18941656                 -118.260948             3040.0   \n",
       "\n",
       "          Ending Station Latitude  Ending Station Longitude  Bike ID  \\\n",
       "Trip ID                                                                \n",
       "17848847                34.039188               -118.232529   6474.0   \n",
       "20700706                34.046520               -118.237411   5794.0   \n",
       "20595730                34.048550               -118.259048   6604.0   \n",
       "17307719                34.046822               -118.248352   6035.0   \n",
       "18941656                34.053570               -118.266357   6728.0   \n",
       "\n",
       "         Trip Route Category Passholder Type Start Month Start Day Time Only  \\\n",
       "Trip ID                                                                        \n",
       "17848847             One Way         Walk-up     January    Friday  22:00:00   \n",
       "20700706             One Way    Monthly Pass    February    Friday  23:00:00   \n",
       "20595730             One Way    Monthly Pass    February  Thursday  08:00:00   \n",
       "17307719             One Way    Monthly Pass     January  Thursday  12:00:00   \n",
       "18941656             One Way         Walk-up     January    Monday  20:00:00   \n",
       "\n",
       "          Time Only Int  Peak  \n",
       "Trip ID                        \n",
       "17848847             22     0  \n",
       "20700706             23     0  \n",
       "20595730              8     1  \n",
       "17307719             12     1  \n",
       "18941656             20     1  "
      ]
     },
     "execution_count": 304,
     "metadata": {},
     "output_type": "execute_result"
    }
   ],
   "source": [
    "df.head()"
   ]
  },
  {
   "cell_type": "code",
   "execution_count": 418,
   "metadata": {},
   "outputs": [
    {
     "name": "stdout",
     "output_type": "stream",
     "text": [
      "<class 'pandas.core.frame.DataFrame'>\n",
      "Int64Index: 130715 entries, 17848847 to 5250466\n",
      "Data columns (total 17 columns):\n",
      "Duration                      130715 non-null float64\n",
      "Start Time                    130715 non-null datetime64[ns]\n",
      "End Time                      130715 non-null datetime64[ns]\n",
      "Starting Station ID           130715 non-null float64\n",
      "Starting Station Latitude     130715 non-null float64\n",
      "Starting Station Longitude    130715 non-null float64\n",
      "Ending Station ID             130715 non-null float64\n",
      "Ending Station Latitude       130715 non-null float64\n",
      "Ending Station Longitude      130715 non-null float64\n",
      "Bike ID                       130715 non-null float64\n",
      "Trip Route Category           130715 non-null object\n",
      "Passholder Type               130715 non-null object\n",
      "Start Month                   130715 non-null object\n",
      "Start Day                     130715 non-null object\n",
      "Time Only                     130715 non-null object\n",
      "Time Only Int                 130715 non-null int64\n",
      "Peak                          130715 non-null int64\n",
      "dtypes: datetime64[ns](2), float64(8), int64(2), object(5)\n",
      "memory usage: 18.0+ MB\n"
     ]
    }
   ],
   "source": [
    "df.info()"
   ]
  },
  {
   "cell_type": "code",
   "execution_count": 48,
   "metadata": {},
   "outputs": [
    {
     "data": {
      "text/html": [
       "<div>\n",
       "<style scoped>\n",
       "    .dataframe tbody tr th:only-of-type {\n",
       "        vertical-align: middle;\n",
       "    }\n",
       "\n",
       "    .dataframe tbody tr th {\n",
       "        vertical-align: top;\n",
       "    }\n",
       "\n",
       "    .dataframe thead th {\n",
       "        text-align: right;\n",
       "    }\n",
       "</style>\n",
       "<table border=\"1\" class=\"dataframe\">\n",
       "  <thead>\n",
       "    <tr style=\"text-align: right;\">\n",
       "      <th></th>\n",
       "      <th>count</th>\n",
       "      <th>mean</th>\n",
       "      <th>std</th>\n",
       "      <th>min</th>\n",
       "      <th>25%</th>\n",
       "      <th>50%</th>\n",
       "      <th>75%</th>\n",
       "      <th>max</th>\n",
       "    </tr>\n",
       "    <tr>\n",
       "      <th>Trip Route Category</th>\n",
       "      <th></th>\n",
       "      <th></th>\n",
       "      <th></th>\n",
       "      <th></th>\n",
       "      <th></th>\n",
       "      <th></th>\n",
       "      <th></th>\n",
       "      <th></th>\n",
       "    </tr>\n",
       "  </thead>\n",
       "  <tbody>\n",
       "    <tr>\n",
       "      <th>One Way</th>\n",
       "      <td>118070.0</td>\n",
       "      <td>19.119870</td>\n",
       "      <td>69.338844</td>\n",
       "      <td>1.0</td>\n",
       "      <td>6.0</td>\n",
       "      <td>10.0</td>\n",
       "      <td>16.0</td>\n",
       "      <td>1440.0</td>\n",
       "    </tr>\n",
       "    <tr>\n",
       "      <th>Round Trip</th>\n",
       "      <td>12645.0</td>\n",
       "      <td>54.962198</td>\n",
       "      <td>128.778401</td>\n",
       "      <td>1.0</td>\n",
       "      <td>15.0</td>\n",
       "      <td>28.0</td>\n",
       "      <td>53.0</td>\n",
       "      <td>1440.0</td>\n",
       "    </tr>\n",
       "  </tbody>\n",
       "</table>\n",
       "</div>"
      ],
      "text/plain": [
       "                        count       mean         std  min   25%   50%   75%  \\\n",
       "Trip Route Category                                                           \n",
       "One Way              118070.0  19.119870   69.338844  1.0   6.0  10.0  16.0   \n",
       "Round Trip            12645.0  54.962198  128.778401  1.0  15.0  28.0  53.0   \n",
       "\n",
       "                        max  \n",
       "Trip Route Category          \n",
       "One Way              1440.0  \n",
       "Round Trip           1440.0  "
      ]
     },
     "execution_count": 48,
     "metadata": {},
     "output_type": "execute_result"
    }
   ],
   "source": [
    "df.groupby('Trip Route Category')['Duration'].describe()"
   ]
  },
  {
   "cell_type": "code",
   "execution_count": null,
   "metadata": {},
   "outputs": [],
   "source": []
  },
  {
   "cell_type": "code",
   "execution_count": null,
   "metadata": {},
   "outputs": [],
   "source": []
  },
  {
   "cell_type": "code",
   "execution_count": 49,
   "metadata": {},
   "outputs": [
    {
     "data": {
      "text/html": [
       "<div>\n",
       "<style scoped>\n",
       "    .dataframe tbody tr th:only-of-type {\n",
       "        vertical-align: middle;\n",
       "    }\n",
       "\n",
       "    .dataframe tbody tr th {\n",
       "        vertical-align: top;\n",
       "    }\n",
       "\n",
       "    .dataframe thead th {\n",
       "        text-align: right;\n",
       "    }\n",
       "</style>\n",
       "<table border=\"1\" class=\"dataframe\">\n",
       "  <thead>\n",
       "    <tr style=\"text-align: right;\">\n",
       "      <th></th>\n",
       "      <th>count</th>\n",
       "      <th>mean</th>\n",
       "      <th>std</th>\n",
       "      <th>min</th>\n",
       "      <th>25%</th>\n",
       "      <th>50%</th>\n",
       "      <th>75%</th>\n",
       "      <th>max</th>\n",
       "    </tr>\n",
       "    <tr>\n",
       "      <th>Passholder Type</th>\n",
       "      <th></th>\n",
       "      <th></th>\n",
       "      <th></th>\n",
       "      <th></th>\n",
       "      <th></th>\n",
       "      <th></th>\n",
       "      <th></th>\n",
       "      <th></th>\n",
       "    </tr>\n",
       "  </thead>\n",
       "  <tbody>\n",
       "    <tr>\n",
       "      <th>Flex Pass</th>\n",
       "      <td>9466.0</td>\n",
       "      <td>17.804775</td>\n",
       "      <td>63.565957</td>\n",
       "      <td>1.0</td>\n",
       "      <td>7.0</td>\n",
       "      <td>10.0</td>\n",
       "      <td>15.0</td>\n",
       "      <td>1440.0</td>\n",
       "    </tr>\n",
       "    <tr>\n",
       "      <th>Monthly Pass</th>\n",
       "      <td>80493.0</td>\n",
       "      <td>12.938119</td>\n",
       "      <td>41.715014</td>\n",
       "      <td>1.0</td>\n",
       "      <td>5.0</td>\n",
       "      <td>8.0</td>\n",
       "      <td>13.0</td>\n",
       "      <td>1440.0</td>\n",
       "    </tr>\n",
       "    <tr>\n",
       "      <th>Walk-up</th>\n",
       "      <td>40756.0</td>\n",
       "      <td>42.754735</td>\n",
       "      <td>120.260342</td>\n",
       "      <td>1.0</td>\n",
       "      <td>11.0</td>\n",
       "      <td>19.0</td>\n",
       "      <td>34.0</td>\n",
       "      <td>1440.0</td>\n",
       "    </tr>\n",
       "  </tbody>\n",
       "</table>\n",
       "</div>"
      ],
      "text/plain": [
       "                   count       mean         std  min   25%   50%   75%     max\n",
       "Passholder Type                                                               \n",
       "Flex Pass         9466.0  17.804775   63.565957  1.0   7.0  10.0  15.0  1440.0\n",
       "Monthly Pass     80493.0  12.938119   41.715014  1.0   5.0   8.0  13.0  1440.0\n",
       "Walk-up          40756.0  42.754735  120.260342  1.0  11.0  19.0  34.0  1440.0"
      ]
     },
     "execution_count": 49,
     "metadata": {},
     "output_type": "execute_result"
    }
   ],
   "source": [
    "df.groupby('Passholder Type')['Duration'].describe()"
   ]
  },
  {
   "cell_type": "code",
   "execution_count": 50,
   "metadata": {},
   "outputs": [
    {
     "data": {
      "text/plain": [
       "Passholder Type  Trip Route Category\n",
       "Flex Pass        One Way                0.948658\n",
       "                 Round Trip             0.051342\n",
       "Monthly Pass     One Way                0.953984\n",
       "                 Round Trip             0.046016\n",
       "Walk-up          One Way                0.792546\n",
       "                 Round Trip             0.207454\n",
       "Name: Trip Route Category, dtype: float64"
      ]
     },
     "execution_count": 50,
     "metadata": {},
     "output_type": "execute_result"
    }
   ],
   "source": [
    "df.groupby('Passholder Type')['Trip Route Category'].value_counts(normalize=True)"
   ]
  },
  {
   "cell_type": "code",
   "execution_count": null,
   "metadata": {},
   "outputs": [],
   "source": []
  },
  {
   "cell_type": "markdown",
   "metadata": {},
   "source": [
    "### Model Building - Regression Model for Duration\n",
    "\n"
   ]
  },
  {
   "cell_type": "markdown",
   "metadata": {},
   "source": [
    "Can we predict the duration of a ride based on the starting conditions? \n",
    "\n",
    "No using any features that could not be determined until the bike is dropped off"
   ]
  },
  {
   "cell_type": "code",
   "execution_count": 419,
   "metadata": {},
   "outputs": [
    {
     "data": {
      "text/plain": [
       "Index(['Duration', 'Start Time', 'End Time', 'Starting Station ID',\n",
       "       'Starting Station Latitude', 'Starting Station Longitude',\n",
       "       'Ending Station ID', 'Ending Station Latitude',\n",
       "       'Ending Station Longitude', 'Bike ID', 'Trip Route Category',\n",
       "       'Passholder Type', 'Start Month', 'Start Day', 'Time Only',\n",
       "       'Time Only Int', 'Peak'],\n",
       "      dtype='object')"
      ]
     },
     "execution_count": 419,
     "metadata": {},
     "output_type": "execute_result"
    }
   ],
   "source": [
    "df.columns"
   ]
  },
  {
   "cell_type": "code",
   "execution_count": 638,
   "metadata": {},
   "outputs": [],
   "source": [
    "X=df[[#'Starting Station ID',\n",
    "     'Starting Station Latitude',\n",
    "     'Starting Station Longitude',\n",
    "#      'Bike ID',\n",
    "     'Passholder Type',\n",
    "     'Start Month',\n",
    "     'Start Day',\n",
    "#      'Time Only',\n",
    "     'Peak']]\n",
    "y=df['Duration'].clip(upper =30)"
   ]
  },
  {
   "cell_type": "code",
   "execution_count": 639,
   "metadata": {},
   "outputs": [
    {
     "data": {
      "text/plain": [
       "<matplotlib.axes._subplots.AxesSubplot at 0x29ded924c18>"
      ]
     },
     "execution_count": 639,
     "metadata": {},
     "output_type": "execute_result"
    },
    {
     "data": {
      "image/png": "[encoded data removed]",
      "text/plain": [
       "<Figure size 432x288 with 1 Axes>"
      ]
     },
     "metadata": {},
     "output_type": "display_data"
    }
   ],
   "source": [
    "y.hist()"
   ]
  },
  {
   "cell_type": "markdown",
   "metadata": {},
   "source": [
    "data type correction - float to object\n"
   ]
  },
  {
   "cell_type": "code",
   "execution_count": 641,
   "metadata": {},
   "outputs": [
    {
     "name": "stdout",
     "output_type": "stream",
     "text": [
      "<class 'pandas.core.frame.DataFrame'>\n",
      "Int64Index: 130715 entries, 17848847 to 5250466\n",
      "Data columns (total 6 columns):\n",
      "Starting Station Latitude     130715 non-null float64\n",
      "Starting Station Longitude    130715 non-null float64\n",
      "Passholder Type               130715 non-null object\n",
      "Start Month                   130715 non-null object\n",
      "Start Day                     130715 non-null object\n",
      "Peak                          130715 non-null int64\n",
      "dtypes: float64(2), int64(1), object(3)\n",
      "memory usage: 7.0+ MB\n"
     ]
    }
   ],
   "source": [
    "# X['Starting Station ID']=X['Starting Station ID'].astype('str')\n",
    "# X['Bike ID']=X['Bike ID'].astype('str')\n",
    "X.info()"
   ]
  },
  {
   "cell_type": "code",
   "execution_count": 642,
   "metadata": {},
   "outputs": [
    {
     "data": {
      "text/plain": [
       "(130715, 22)"
      ]
     },
     "execution_count": 642,
     "metadata": {},
     "output_type": "execute_result"
    }
   ],
   "source": [
    "X=pd.get_dummies(X)\n",
    "X.shape"
   ]
  },
  {
   "cell_type": "markdown",
   "metadata": {},
   "source": [
    "A lot of features from one-hot encoding now that the Bikes and Stations are not floats"
   ]
  },
  {
   "cell_type": "code",
   "execution_count": 599,
   "metadata": {},
   "outputs": [
    {
     "name": "stderr",
     "output_type": "stream",
     "text": [
      "C:\\Users\\kosta\\Anaconda3\\envs\\learn-env\\lib\\site-packages\\sklearn\\preprocessing\\data.py:625: DataConversionWarning: Data with input dtype uint8, int64, float64 were all converted to float64 by StandardScaler.\n",
      "  return self.partial_fit(X, y)\n",
      "C:\\Users\\kosta\\Anaconda3\\envs\\learn-env\\lib\\site-packages\\sklearn\\base.py:462: DataConversionWarning: Data with input dtype uint8, int64, float64 were all converted to float64 by StandardScaler.\n",
      "  return self.fit(X, **fit_params).transform(X)\n"
     ]
    },
    {
     "data": {
      "text/plain": [
       "array([[-0.16140359,  1.10770092, -2.07723716, ..., -0.20553121,\n",
       "         5.32859958, -0.15833815],\n",
       "       [ 0.20523359,  0.32241175, -2.07723716, ..., -0.20553121,\n",
       "        -0.18766657,  6.31559727],\n",
       "       [-0.23218297,  1.48400529,  0.48140868, ..., -0.20553121,\n",
       "        -0.18766657, -0.15833815],\n",
       "       ...,\n",
       "       [ 1.42564309,  1.12521764,  0.48140868, ..., -0.20553121,\n",
       "        -0.18766657, -0.15833815],\n",
       "       [-1.31457267,  1.53306953,  0.48140868, ..., -0.20553121,\n",
       "        -0.18766657, -0.15833815],\n",
       "       [ 0.86104385,  0.18924985,  0.48140868, ..., -0.20553121,\n",
       "        -0.18766657, -0.15833815]])"
      ]
     },
     "execution_count": 599,
     "metadata": {},
     "output_type": "execute_result"
    }
   ],
   "source": [
    "from sklearn.preprocessing import StandardScaler\n",
    "scaler=StandardScaler()\n",
    "scaler.fit_transform(X)"
   ]
  },
  {
   "cell_type": "code",
   "execution_count": 652,
   "metadata": {},
   "outputs": [
    {
     "name": "stdout",
     "output_type": "stream",
     "text": [
      "[18.21262070657127, 7.318637586882675, 6.4919116122134275, 6.396283092476317, 6.338464481552442]\n",
      "100.00000000000003\n"
     ]
    },
    {
     "data": {
      "text/plain": [
       "<matplotlib.collections.LineCollection at 0x29dec9cafd0>"
      ]
     },
     "execution_count": 652,
     "metadata": {},
     "output_type": "execute_result"
    },
    {
     "data": {
      "image/png": "[encoded data removed]",
      "text/plain": [
       "<Figure size 1080x576 with 1 Axes>"
      ]
     },
     "metadata": {},
     "output_type": "display_data"
    }
   ],
   "source": [
    "from sklearn.decomposition import PCA\n",
    "pca=PCA()\n",
    "pca.fit(X)\n",
    "tot = sum(pca.explained_variance_)\n",
    "var_exp = [(i/tot)*100 for i in sorted(pca.explained_variance_, reverse=True)] \n",
    "print(var_exp[0:5])\n",
    "print(sum(var_exp))\n",
    "cum_var_exp = np.cumsum(var_exp) \n",
    "plt.style.use('ggplot')\n",
    "plt.figure(figsize=(15, 8))\n",
    "plt.plot(cum_var_exp)\n",
    "plt.title('Cumulative Explained Variance as a Function of the Number of Components')\n",
    "plt.vlines(x=15,ymin=90,ymax=100)"
   ]
  },
  {
   "cell_type": "markdown",
   "metadata": {},
   "source": [
    "Turning point around n_components =70 retains >96% of variance\n",
    "\n",
    "Data will be reduced using Principal Component Analysis with n_components =70"
   ]
  },
  {
   "cell_type": "code",
   "execution_count": 645,
   "metadata": {},
   "outputs": [
    {
     "data": {
      "text/plain": [
       "PCA(copy=True, iterated_power='auto', n_components=15, random_state=None,\n",
       "  svd_solver='auto', tol=0.0, whiten=False)"
      ]
     },
     "execution_count": 645,
     "metadata": {},
     "output_type": "execute_result"
    }
   ],
   "source": [
    "pca=PCA(n_components=15)\n",
    "pca.fit(X)"
   ]
  },
  {
   "cell_type": "code",
   "execution_count": 646,
   "metadata": {},
   "outputs": [],
   "source": [
    "from sklearn.model_selection import train_test_split\n",
    "X_train,X_test,y_train,y_test=train_test_split(X,y)"
   ]
  },
  {
   "cell_type": "code",
   "execution_count": 647,
   "metadata": {},
   "outputs": [],
   "source": [
    "X_train=pca.transform(X_train)\n",
    "X_test=pca.transform(X_test)"
   ]
  },
  {
   "cell_type": "code",
   "execution_count": 648,
   "metadata": {},
   "outputs": [
    {
     "data": {
      "text/plain": [
       "DecisionTreeRegressor(criterion='mse', max_depth=None, max_features=None,\n",
       "           max_leaf_nodes=None, min_impurity_decrease=0.0,\n",
       "           min_impurity_split=None, min_samples_leaf=1,\n",
       "           min_samples_split=2, min_weight_fraction_leaf=0.0,\n",
       "           presort=False, random_state=None, splitter='best')"
      ]
     },
     "execution_count": 648,
     "metadata": {},
     "output_type": "execute_result"
    }
   ],
   "source": [
    "from sklearn.tree import DecisionTreeRegressor\n",
    "cart=DecisionTreeRegressor()\n",
    "cart.fit(X_train,y_train)"
   ]
  },
  {
   "cell_type": "code",
   "execution_count": 649,
   "metadata": {},
   "outputs": [
    {
     "name": "stdout",
     "output_type": "stream",
     "text": [
      "MSE score: 57.980634257325384\n",
      "R-sq score: 0.21215882472670955\n"
     ]
    }
   ],
   "source": [
    "from sklearn.metrics import mean_squared_error as mse\n",
    "from sklearn.metrics import r2_score\n",
    "\n",
    "# Make predictions and evaluate \n",
    "y_pred = cart.predict(X_test)\n",
    "print ('MSE score:', mse(y_test, y_pred))\n",
    "print('R-sq score:',r2_score(y_test,y_pred))"
   ]
  },
  {
   "cell_type": "code",
   "execution_count": 650,
   "metadata": {},
   "outputs": [
    {
     "name": "stdout",
     "output_type": "stream",
     "text": [
      "MSE score: 40.47321261409072\n",
      "R-sq score: 0.4503656797938943\n"
     ]
    }
   ],
   "source": [
    "y_hat_train=cart.predict(X_train)\n",
    "print ('MSE score:', mse(y_train, y_hat_train))\n",
    "print('R-sq score:',r2_score(y_train,y_hat_train))"
   ]
  },
  {
   "cell_type": "code",
   "execution_count": 651,
   "metadata": {},
   "outputs": [
    {
     "name": "stderr",
     "output_type": "stream",
     "text": [
      "C:\\Users\\kosta\\Anaconda3\\envs\\learn-env\\lib\\site-packages\\sklearn\\ensemble\\forest.py:246: FutureWarning: The default value of n_estimators will change from 10 in version 0.20 to 100 in 0.22.\n",
      "  \"10 in version 0.20 to 100 in 0.22.\", FutureWarning)\n"
     ]
    },
    {
     "name": "stdout",
     "output_type": "stream",
     "text": [
      "MSE score: 56.29621816339731\n",
      "R-sq score: 0.2350466798198414\n"
     ]
    }
   ],
   "source": [
    "from sklearn.ensemble import RandomForestRegressor\n",
    "forest=RandomForestRegressor()\n",
    "forest.fit(X_train,y_train)\n",
    "y_pred=forest.predict(X_test)\n",
    "print ('MSE score:', mse(y_test, y_pred))\n",
    "print('R-sq score:',r2_score(y_test,y_pred))"
   ]
  },
  {
   "cell_type": "code",
   "execution_count": 504,
   "metadata": {},
   "outputs": [
    {
     "data": {
      "text/plain": [
       "15.0"
      ]
     },
     "execution_count": 504,
     "metadata": {},
     "output_type": "execute_result"
    }
   ],
   "source": []
  },
  {
   "cell_type": "code",
   "execution_count": 451,
   "metadata": {},
   "outputs": [
    {
     "data": {
      "text/plain": [
       "<matplotlib.collections.PathCollection at 0x29ddcaf1358>"
      ]
     },
     "execution_count": 451,
     "metadata": {},
     "output_type": "execute_result"
    },
    {
     "data": {
      "image/png": "[encoded data removed]",
      "text/plain": [
       "<Figure size 432x288 with 1 Axes>"
      ]
     },
     "metadata": {},
     "output_type": "display_data"
    }
   ],
   "source": []
  },
  {
   "cell_type": "code",
   "execution_count": null,
   "metadata": {},
   "outputs": [],
   "source": []
  },
  {
   "cell_type": "code",
   "execution_count": null,
   "metadata": {},
   "outputs": [],
   "source": []
  },
  {
   "cell_type": "code",
   "execution_count": null,
   "metadata": {},
   "outputs": [],
   "source": []
  },
  {
   "cell_type": "code",
   "execution_count": null,
   "metadata": {},
   "outputs": [],
   "source": []
  },
  {
   "cell_type": "code",
   "execution_count": null,
   "metadata": {},
   "outputs": [],
   "source": []
  },
  {
   "cell_type": "code",
   "execution_count": null,
   "metadata": {},
   "outputs": [],
   "source": []
  },
  {
   "cell_type": "code",
   "execution_count": null,
   "metadata": {},
   "outputs": [],
   "source": []
  },
  {
   "cell_type": "code",
   "execution_count": null,
   "metadata": {},
   "outputs": [],
   "source": []
  },
  {
   "cell_type": "markdown",
   "metadata": {},
   "source": [
    "### Classifier Model for Passholder Type"
   ]
  },
  {
   "cell_type": "code",
   "execution_count": 653,
   "metadata": {},
   "outputs": [
    {
     "data": {
      "text/plain": [
       "Index(['Duration', 'Start Time', 'End Time', 'Starting Station ID',\n",
       "       'Starting Station Latitude', 'Starting Station Longitude',\n",
       "       'Ending Station ID', 'Ending Station Latitude',\n",
       "       'Ending Station Longitude', 'Bike ID', 'Trip Route Category',\n",
       "       'Passholder Type', 'Start Month', 'Start Day', 'Time Only',\n",
       "       'Time Only Int', 'Peak'],\n",
       "      dtype='object')"
      ]
     },
     "execution_count": 653,
     "metadata": {},
     "output_type": "execute_result"
    }
   ],
   "source": [
    "df.columns"
   ]
  },
  {
   "cell_type": "code",
   "execution_count": 683,
   "metadata": {},
   "outputs": [],
   "source": [
    "y=df['Passholder Type']=='Monthly Pass'\n",
    "X=df.drop(columns=['Bike ID','Time Only','Start Time','End Time'])"
   ]
  },
  {
   "cell_type": "code",
   "execution_count": 684,
   "metadata": {},
   "outputs": [],
   "source": [
    "X['Starting Station ID']=X['Starting Station ID'].astype('str')\n",
    "X['Ending Station ID']=X['Ending Station ID'].astype('str')"
   ]
  },
  {
   "cell_type": "code",
   "execution_count": 685,
   "metadata": {},
   "outputs": [],
   "source": [
    "X=pd.get_dummies(X)"
   ]
  },
  {
   "cell_type": "code",
   "execution_count": 686,
   "metadata": {},
   "outputs": [
    {
     "data": {
      "text/plain": [
       "(130715, 160)"
      ]
     },
     "execution_count": 686,
     "metadata": {},
     "output_type": "execute_result"
    }
   ],
   "source": [
    "X.shape"
   ]
  },
  {
   "cell_type": "code",
   "execution_count": 687,
   "metadata": {},
   "outputs": [
    {
     "name": "stdout",
     "output_type": "stream",
     "text": [
      "[99.50542188936838, 0.42047157077525193, 0.007213211208465514, 0.0029070430416896446, 0.002646093339037754]\n",
      "99.99999999999999\n"
     ]
    },
    {
     "data": {
      "text/plain": [
       "Text(0.5, 1.0, 'Cumulative Explained Variance as a Function of the Number of Components')"
      ]
     },
     "execution_count": 687,
     "metadata": {},
     "output_type": "execute_result"
    },
    {
     "data": {
      "image/png": "[encoded data removed]",
      "text/plain": [
       "<Figure size 1080x576 with 1 Axes>"
      ]
     },
     "metadata": {},
     "output_type": "display_data"
    }
   ],
   "source": [
    "from sklearn.decomposition import PCA\n",
    "pca=PCA()\n",
    "pca.fit(X)\n",
    "tot = sum(pca.explained_variance_)\n",
    "var_exp = [(i/tot)*100 for i in sorted(pca.explained_variance_, reverse=True)] \n",
    "print(var_exp[0:5])\n",
    "print(sum(var_exp))\n",
    "cum_var_exp = np.cumsum(var_exp) \n",
    "plt.style.use('ggplot')\n",
    "plt.figure(figsize=(15, 8))\n",
    "plt.plot(cum_var_exp)\n",
    "plt.title('Cumulative Explained Variance as a Function of the Number of Components')\n",
    "# plt.vlines(x=15,ymin=90,ymax=100)"
   ]
  },
  {
   "cell_type": "code",
   "execution_count": 693,
   "metadata": {},
   "outputs": [
    {
     "data": {
      "text/plain": [
       "PCA(copy=True, iterated_power='auto', n_components=5, random_state=None,\n",
       "  svd_solver='auto', tol=0.0, whiten=False)"
      ]
     },
     "execution_count": 693,
     "metadata": {},
     "output_type": "execute_result"
    }
   ],
   "source": [
    "pca=PCA(n_components=5)\n",
    "pca.fit(X)"
   ]
  },
  {
   "cell_type": "code",
   "execution_count": 694,
   "metadata": {},
   "outputs": [],
   "source": [
    "from sklearn.model_selection import train_test_split\n",
    "X_train,X_test,y_train,y_test=train_test_split(X,y)"
   ]
  },
  {
   "cell_type": "code",
   "execution_count": 695,
   "metadata": {},
   "outputs": [],
   "source": [
    "X_train=pca.transform(X_train)\n",
    "X_test=pca.transform(X_test)"
   ]
  },
  {
   "cell_type": "code",
   "execution_count": 696,
   "metadata": {},
   "outputs": [
    {
     "data": {
      "text/plain": [
       "DecisionTreeRegressor(criterion='mse', max_depth=None, max_features=None,\n",
       "           max_leaf_nodes=None, min_impurity_decrease=0.0,\n",
       "           min_impurity_split=None, min_samples_leaf=1,\n",
       "           min_samples_split=2, min_weight_fraction_leaf=0.0,\n",
       "           presort=False, random_state=None, splitter='best')"
      ]
     },
     "execution_count": 696,
     "metadata": {},
     "output_type": "execute_result"
    }
   ],
   "source": [
    "cart=DecisionTreeRegressor()\n",
    "cart.fit(X_train,y_train)"
   ]
  },
  {
   "cell_type": "code",
   "execution_count": 697,
   "metadata": {},
   "outputs": [
    {
     "data": {
      "text/plain": [
       "0.9998163958505463"
      ]
     },
     "execution_count": 697,
     "metadata": {},
     "output_type": "execute_result"
    }
   ],
   "source": [
    "y_pred = cart.predict(X_test)\n",
    "from sklearn.metrics import accuracy_score\n",
    "accuracy_score(y_test,y_pred)"
   ]
  },
  {
   "cell_type": "code",
   "execution_count": 698,
   "metadata": {},
   "outputs": [
    {
     "data": {
      "text/plain": [
       "array([[12456,     5],\n",
       "       [    1, 20217]], dtype=int64)"
      ]
     },
     "execution_count": 698,
     "metadata": {},
     "output_type": "execute_result"
    }
   ],
   "source": [
    "from sklearn.metrics import confusion_matrix\n",
    "confusion_matrix(y_test,y_pred)"
   ]
  },
  {
   "cell_type": "code",
   "execution_count": null,
   "metadata": {},
   "outputs": [],
   "source": []
  },
  {
   "cell_type": "code",
   "execution_count": null,
   "metadata": {},
   "outputs": [],
   "source": []
  },
  {
   "cell_type": "code",
   "execution_count": null,
   "metadata": {},
   "outputs": [],
   "source": []
  },
  {
   "cell_type": "code",
   "execution_count": null,
   "metadata": {},
   "outputs": [],
   "source": []
  },
  {
   "cell_type": "code",
   "execution_count": null,
   "metadata": {},
   "outputs": [],
   "source": []
  },
  {
   "cell_type": "code",
   "execution_count": null,
   "metadata": {},
   "outputs": [],
   "source": []
  },
  {
   "cell_type": "code",
   "execution_count": 417,
   "metadata": {
    "scrolled": false
   },
   "outputs": [
    {
     "data": {
      "text/plain": [
       "<matplotlib.collections.LineCollection at 0x29dd12abef0>"
      ]
     },
     "execution_count": 417,
     "metadata": {},
     "output_type": "execute_result"
    },
    {
     "data": {
      "image/png": "[encoded data removed]",
      "text/plain": [
       "<Figure size 1080x288 with 1 Axes>"
      ]
     },
     "metadata": {
      "needs_background": "light"
     },
     "output_type": "display_data"
    }
   ],
   "source": [
    "plt.figure(figsize=(15,4))\n",
    "df.loc[df.Duration<30]['Duration'].hist(bins=29)\n",
    "plt.vlines(x=15,ymin=0,ymax=10000,color='red')\n",
    "plt.vlines(x=10,ymin=0,ymax=10000,color='red')\n",
    "plt.vlines(x=5,ymin=0,ymax=10000,color='red')\n",
    "# plt.ylim(0,30000)\n",
    "# plt.xlim(0,5000)"
   ]
  },
  {
   "cell_type": "markdown",
   "metadata": {},
   "source": [
    "4-bin 5 min interval 15 minutes  classifier?"
   ]
  },
  {
   "cell_type": "markdown",
   "metadata": {},
   "source": [
    "Notes:\n",
    "corellate distance/duration? probs not\n",
    "\n",
    "insert day of week and month \n",
    "\n",
    "bin start time? morning/afternoon/evening? rounded to the nearest hour\n",
    "\n",
    "clustering of stations? <i> 1 main cluster really</i>\n",
    "\n",
    "\n",
    "machine learning:\n",
    "ride duration classifier?\n",
    "\n"
   ]
  },
  {
   "cell_type": "code",
   "execution_count": null,
   "metadata": {},
   "outputs": [],
   "source": []
  }
 ],
 "metadata": {
  "kernelspec": {
   "display_name": "Python 3",
   "language": "python",
   "name": "python3"
  },
  "language_info": {
   "codemirror_mode": {
    "name": "ipython",
    "version": 3
   },
   "file_extension": ".py",
   "mimetype": "text/x-python",
   "name": "python",
   "nbconvert_exporter": "python",
   "pygments_lexer": "ipython3",
   "version": "3.6.6"
  }
 },
 "nbformat": 4,
 "nbformat_minor": 2
}
